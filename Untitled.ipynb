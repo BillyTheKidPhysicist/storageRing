{
  "cells": [
    {
      "cell_type": "code",
      "source": [
        "from ParticleTracercopy import particleTracer\n",
        "import numpy as np\n",
        "import matplotlib.pyplot as plt"
      ],
      "outputs": [],
      "execution_count": 1,
      "metadata": {
        "collapsed": true,
        "jupyter": {
          "source_hidden": false,
          "outputs_hidden": false
        },
        "nteract": {
          "transient": {
            "deleting": false
          }
        },
        "execution": {
          "iopub.status.busy": "2020-11-12T18:42:50.501Z",
          "iopub.execute_input": "2020-11-12T18:42:50.506Z",
          "iopub.status.idle": "2020-11-12T18:42:50.937Z",
          "shell.execute_reply": "2020-11-12T18:42:50.944Z"
        }
      }
    },
    {
      "cell_type": "code",
      "source": [
        "test=particleTracer()\n",
        "test.add_Lens(20,1,.01)\n",
        "test.add_Bender(np.pi,1,1,.01)\n",
        "test.add_Lens(20,1,.01)\n",
        "test.add_Bender(np.pi,1,1,.01)\n",
        "test.end_Lattice()\n",
        "\n",
        "q0=np.asarray([-1E-10,1e-3,0])\n",
        "v0=np.asarray([-200.0,0,0])\n",
        "qFinalList=[]\n",
        "hArr=np.logspace(-5,-6,num=10)\n",
        "for h in hArr:\n",
        "    q,p,qo,po,particleOutside=test.trace(q0,v0,h,10/200)\n",
        "    qFinalList.append(qo[-1])\n",
        "qArr=np.asarray(qFinalList)\n",
        "#qArr=np.sqrt(np.sum(qArr**2,axis=1))\n",
        "plt.plot(hArr,qArr[:,0]/np.max(qArr[:,0]))\n",
        "plt.show()\n",
        "plt.plot(hArr,qArr[:,1]/np.max(qArr[:,1]))\n",
        "plt.show()"
      ],
      "outputs": [
        {
          "output_type": "display_data",
          "data": {
            "text/plain": "<Figure size 432x288 with 1 Axes>",
            "image/png": "[encoded data removed]"
          },
          "metadata": {
            "needs_background": "light"
          }
        },
        {
          "output_type": "display_data",
          "data": {
            "text/plain": "<Figure size 432x288 with 1 Axes>",
            "image/png": "[encoded data removed]"
          },
          "metadata": {
            "needs_background": "light"
          }
        }
      ],
      "execution_count": 15,
      "metadata": {
        "collapsed": true,
        "jupyter": {
          "source_hidden": false,
          "outputs_hidden": false
        },
        "nteract": {
          "transient": {
            "deleting": false
          }
        },
        "execution": {
          "iopub.status.busy": "2020-11-12T18:47:47.640Z",
          "iopub.execute_input": "2020-11-12T18:47:48.732Z",
          "iopub.status.idle": "2020-11-12T18:48:39.890Z",
          "shell.execute_reply": "2020-11-12T18:48:39.904Z"
        }
      }
    },
    {
      "cell_type": "code",
      "source": [],
      "outputs": [],
      "execution_count": null,
      "metadata": {
        "collapsed": true,
        "jupyter": {
          "source_hidden": false,
          "outputs_hidden": false
        },
        "nteract": {
          "transient": {
            "deleting": false
          }
        }
      }
    },
    {
      "cell_type": "code",
      "source": [],
      "outputs": [],
      "execution_count": null,
      "metadata": {
        "collapsed": true,
        "jupyter": {
          "source_hidden": false,
          "outputs_hidden": false
        },
        "nteract": {
          "transient": {
            "deleting": false
          }
        }
      }
    },
    {
      "cell_type": "code",
      "source": [],
      "outputs": [],
      "execution_count": null,
      "metadata": {
        "collapsed": true,
        "jupyter": {
          "source_hidden": false,
          "outputs_hidden": false
        },
        "nteract": {
          "transient": {
            "deleting": false
          }
        }
      }
    },
    {
      "cell_type": "code",
      "source": [],
      "outputs": [],
      "execution_count": null,
      "metadata": {
        "collapsed": true,
        "jupyter": {
          "source_hidden": false,
          "outputs_hidden": false
        },
        "nteract": {
          "transient": {
            "deleting": false
          }
        }
      }
    },
    {
      "cell_type": "code",
      "source": [],
      "outputs": [],
      "execution_count": null,
      "metadata": {
        "collapsed": true,
        "jupyter": {
          "source_hidden": false,
          "outputs_hidden": false
        },
        "nteract": {
          "transient": {
            "deleting": false
          }
        }
      }
    },
    {
      "cell_type": "code",
      "source": [],
      "outputs": [],
      "execution_count": null,
      "metadata": {
        "collapsed": true,
        "jupyter": {
          "source_hidden": false,
          "outputs_hidden": false
        },
        "nteract": {
          "transient": {
            "deleting": false
          }
        }
      }
    }
  ],
  "metadata": {
    "kernel_info": {
      "name": "python3"
    },
    "language_info": {
      "name": "python",
      "version": "3.7.7",
      "mimetype": "text/x-python",
      "codemirror_mode": {
        "name": "ipython",
        "version": 3
      },
      "pygments_lexer": "ipython3",
      "nbconvert_exporter": "python",
      "file_extension": ".py"
    },
    "kernelspec": {
      "argv": [
        "/usr/local/opt/python/bin/python3.7",
        "-m",
        "ipykernel_launcher",
        "-f",
        "{connection_file}"
      ],
      "display_name": "Python 3",
      "language": "python",
      "name": "python3"
    },
    "nteract": {
      "version": "0.26.0"
    }
  },
  "nbformat": 4,
  "nbformat_minor": 0
}