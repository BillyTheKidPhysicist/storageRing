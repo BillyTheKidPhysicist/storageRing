{
  "cells": [
    {
      "cell_type": "code",
      "source": [
        "import time\n",
        "import multiprocessing as mp\n",
        "from ParticleTracer import *\n",
        "import numpy as np\n",
        "import matplotlib.pyplot as plt\n",
        "import scipy.interpolate as spi\n",
        "%matplotlib tk"
      ],
      "outputs": [],
      "execution_count": 1,
      "metadata": {
        "collapsed": true,
        "jupyter": {
          "source_hidden": false,
          "outputs_hidden": false
        },
        "nteract": {
          "transient": {
            "deleting": false
          }
        },
        "execution": {
          "iopub.status.busy": "2020-12-14T16:49:16.911Z",
          "iopub.execute_input": "2020-12-14T16:49:16.916Z",
          "iopub.status.idle": "2020-12-14T16:49:17.671Z",
          "shell.execute_reply": "2020-12-14T16:49:17.686Z"
        }
      }
    },
    {
      "cell_type": "code",
      "source": [
        "test=particleTracer(200)\n",
        "file='data.txt'\n",
        "\n",
        "\n",
        "\n",
        "\n",
        "\n",
        "L1=.25\n",
        "\n",
        "Lm=.0254\n",
        "rp=.0125\n",
        "yokeWidth=.015875\n",
        "angle=np.pi\n",
        "numMagnets=125\n",
        "space=1000e-6\n",
        "\n",
        "\n",
        "\n",
        "rb=Compute_Bending_Radius_For_Segmented_Bender(Lm,rp,yokeWidth,numMagnets,angle,space=space)\n",
        "\n",
        "test.add_Lens_Ideal(L1,1,.01)\n",
        "test.add_Bender_Sim_Segmented(file,Lm,rp,space,yokeWidth,numMagnets)\n",
        "test.add_Lens_Ideal(L1/3.0,1.0,.01)\n",
        "test.add_Drift(L1/3.0)\n",
        "test.add_Lens_Ideal(L1/3.0,1.0,.01)\n",
        "test.add_Bender_Sim_Segmented(file,Lm,rp,space,yokeWidth,numMagnets)\n",
        "\n",
        "test.end_Lattice()\n",
        "\n",
        "#q0=np.asarray([-1e-10,1e-3,0])\n",
        "#v0=np.asarray([-200.0,0,0])\n",
        "#\n",
        "#t=time.time()\n",
        "#Lt=200*(2*L1+2*rb*np.pi)\n",
        "#print(Lt)\n",
        "#dt=1e-6\n",
        "#q, p, qo, po, particleOutside = test.trace(q0, v0,dt, Lt/200,method='verlet')\n",
        "#print(particleOutside)\n",
        "#dataSteps=1\n",
        "#q=q[::dataSteps]\n",
        "#p=p[::dataSteps]\n",
        "#qo=qo[::dataSteps]"
      ],
      "outputs": [
        {
          "output_type": "stream",
          "name": "stdout",
          "text": [
            "1505.584961949557\n",
            "200.04293815451996\n",
            "True\n"
          ]
        }
      ],
      "execution_count": 2,
      "metadata": {
        "collapsed": true,
        "jupyter": {
          "source_hidden": false,
          "outputs_hidden": false
        },
        "nteract": {
          "transient": {
            "deleting": false
          }
        },
        "execution": {
          "iopub.status.busy": "2020-12-14T16:49:17.680Z",
          "iopub.execute_input": "2020-12-14T16:49:17.715Z",
          "iopub.status.idle": "2020-12-14T16:53:54.576Z",
          "shell.execute_reply": "2020-12-14T16:53:54.581Z"
        }
      }
    },
    {
      "cell_type": "code",
      "source": [
        "q0=np.loadtxt('poop')"
      ],
      "outputs": [],
      "execution_count": 24,
      "metadata": {
        "collapsed": true,
        "jupyter": {
          "source_hidden": false,
          "outputs_hidden": false
        },
        "nteract": {
          "transient": {
            "deleting": false
          }
        },
        "execution": {
          "iopub.status.busy": "2020-12-14T16:58:32.550Z",
          "iopub.execute_input": "2020-12-14T16:58:32.556Z",
          "iopub.status.idle": "2020-12-14T16:58:32.564Z",
          "shell.execute_reply": "2020-12-14T16:58:32.570Z"
        }
      }
    },
    {
      "cell_type": "code",
      "source": [],
      "outputs": [],
      "execution_count": null,
      "metadata": {
        "collapsed": true,
        "jupyter": {
          "source_hidden": false,
          "outputs_hidden": false
        },
        "nteract": {
          "transient": {
            "deleting": false
          }
        }
      }
    },
    {
      "cell_type": "code",
      "source": [
        "plt.plot(qo[:,0][-100:],qo[:,1][-100:])\n",
        "plt.grid()\n",
        "plt.show()"
      ],
      "outputs": [],
      "execution_count": 7,
      "metadata": {
        "collapsed": true,
        "jupyter": {
          "source_hidden": false,
          "outputs_hidden": false
        },
        "nteract": {
          "transient": {
            "deleting": false
          }
        },
        "execution": {
          "iopub.status.busy": "2020-12-14T16:54:08.579Z",
          "iopub.execute_input": "2020-12-14T16:54:08.585Z",
          "iopub.status.idle": "2020-12-14T16:54:08.609Z",
          "shell.execute_reply": "2020-12-14T16:54:08.617Z"
        }
      }
    },
    {
      "cell_type": "code",
      "source": [
        "print(test.which_Element_Shapely(test.test))"
      ],
      "outputs": [
        {
          "output_type": "stream",
          "name": "stdout",
          "text": [
            "None\n"
          ]
        }
      ],
      "execution_count": 15,
      "metadata": {
        "collapsed": true,
        "jupyter": {
          "source_hidden": false,
          "outputs_hidden": false
        },
        "nteract": {
          "transient": {
            "deleting": false
          }
        },
        "execution": {
          "iopub.status.busy": "2020-12-14T16:56:11.536Z",
          "iopub.execute_input": "2020-12-14T16:56:11.542Z",
          "iopub.status.idle": "2020-12-14T16:56:11.555Z",
          "shell.execute_reply": "2020-12-14T16:56:11.560Z"
        }
      }
    },
    {
      "cell_type": "code",
      "source": [
        "np.savetxt('poop',test.test)"
      ],
      "outputs": [],
      "execution_count": 17,
      "metadata": {
        "collapsed": true,
        "jupyter": {
          "source_hidden": false,
          "outputs_hidden": false
        },
        "nteract": {
          "transient": {
            "deleting": false
          }
        },
        "execution": {
          "iopub.status.busy": "2020-12-14T16:57:15.448Z",
          "iopub.execute_input": "2020-12-14T16:57:15.453Z",
          "iopub.status.idle": "2020-12-14T16:57:15.462Z",
          "shell.execute_reply": "2020-12-14T16:57:15.468Z"
        }
      }
    },
    {
      "cell_type": "code",
      "source": [
        "test.show_Lattice(particleCoords=test.test)"
      ],
      "outputs": [],
      "execution_count": 16,
      "metadata": {
        "collapsed": true,
        "jupyter": {
          "source_hidden": false,
          "outputs_hidden": false
        },
        "nteract": {
          "transient": {
            "deleting": false
          }
        },
        "execution": {
          "iopub.status.busy": "2020-12-14T16:56:16.433Z",
          "iopub.execute_input": "2020-12-14T16:56:16.439Z",
          "iopub.status.idle": "2020-12-14T16:56:16.468Z",
          "shell.execute_reply": "2020-12-14T16:56:16.473Z"
        }
      }
    },
    {
      "cell_type": "code",
      "source": [
        "q[-10:]"
      ],
      "outputs": [
        {
          "output_type": "execute_result",
          "execution_count": 5,
          "data": {
            "text/plain": "array([[-0.08532959,  2.24329375,  0.00973949],\n       [-0.08512974,  2.24329003,  0.00974756],\n       [-0.0849299 ,  2.24328631,  0.00975563],\n       [-0.08473005,  2.24328258,  0.0097637 ],\n       [-0.08453021,  2.24327886,  0.00977177],\n       [-0.08433036,  2.24327514,  0.00977985],\n       [-0.08413051,  2.24327142,  0.00978792],\n       [-0.08393067,  2.2432677 ,  0.00979599],\n       [-0.08373082,  2.24326398,  0.00980406],\n       [-0.08353098,  2.24326026,  0.00981213]])"
          },
          "metadata": {}
        }
      ],
      "execution_count": 5,
      "metadata": {
        "collapsed": true,
        "jupyter": {
          "source_hidden": false,
          "outputs_hidden": false
        },
        "nteract": {
          "transient": {
            "deleting": false
          }
        },
        "execution": {
          "iopub.status.busy": "2020-12-14T16:53:55.101Z",
          "iopub.execute_input": "2020-12-14T16:53:55.109Z",
          "iopub.status.idle": "2020-12-14T16:53:55.124Z",
          "shell.execute_reply": "2020-12-14T16:53:55.161Z"
        }
      }
    },
    {
      "cell_type": "code",
      "source": [
        "test.which_Element(q[-1])"
      ],
      "outputs": [
        {
          "output_type": "execute_result",
          "execution_count": 6,
          "data": {
            "text/plain": "<elementPT.Element at 0x7fe9d3987c10>"
          },
          "metadata": {}
        }
      ],
      "execution_count": 6,
      "metadata": {
        "collapsed": true,
        "jupyter": {
          "source_hidden": false,
          "outputs_hidden": false
        },
        "nteract": {
          "transient": {
            "deleting": false
          }
        },
        "execution": {
          "iopub.status.busy": "2020-12-14T16:53:55.133Z",
          "iopub.execute_input": "2020-12-14T16:53:55.138Z",
          "iopub.status.idle": "2020-12-14T16:53:55.149Z",
          "shell.execute_reply": "2020-12-14T16:53:55.164Z"
        }
      }
    },
    {
      "cell_type": "code",
      "source": [],
      "outputs": [],
      "execution_count": null,
      "metadata": {
        "collapsed": true,
        "jupyter": {
          "source_hidden": false,
          "outputs_hidden": false
        },
        "nteract": {
          "transient": {
            "deleting": false
          }
        }
      }
    },
    {
      "cell_type": "code",
      "source": [],
      "outputs": [],
      "execution_count": null,
      "metadata": {
        "collapsed": true,
        "jupyter": {
          "source_hidden": false,
          "outputs_hidden": false
        },
        "nteract": {
          "transient": {
            "deleting": false
          }
        }
      }
    },
    {
      "cell_type": "code",
      "source": [],
      "outputs": [],
      "execution_count": null,
      "metadata": {
        "collapsed": true,
        "jupyter": {
          "source_hidden": false,
          "outputs_hidden": false
        },
        "nteract": {
          "transient": {
            "deleting": false
          }
        }
      }
    },
    {
      "cell_type": "code",
      "source": [],
      "outputs": [],
      "execution_count": null,
      "metadata": {
        "collapsed": true,
        "jupyter": {
          "source_hidden": false,
          "outputs_hidden": false
        },
        "nteract": {
          "transient": {
            "deleting": false
          }
        }
      }
    },
    {
      "cell_type": "code",
      "source": [],
      "outputs": [],
      "execution_count": null,
      "metadata": {
        "collapsed": true,
        "jupyter": {
          "source_hidden": false,
          "outputs_hidden": false
        },
        "nteract": {
          "transient": {
            "deleting": false
          }
        }
      }
    },
    {
      "cell_type": "code",
      "source": [],
      "outputs": [],
      "execution_count": null,
      "metadata": {
        "collapsed": true,
        "jupyter": {
          "source_hidden": false,
          "outputs_hidden": false
        },
        "nteract": {
          "transient": {
            "deleting": false
          }
        }
      }
    },
    {
      "cell_type": "code",
      "source": [],
      "outputs": [],
      "execution_count": null,
      "metadata": {
        "collapsed": true,
        "jupyter": {
          "source_hidden": false,
          "outputs_hidden": false
        },
        "nteract": {
          "transient": {
            "deleting": false
          }
        }
      }
    }
  ],
  "metadata": {
    "kernel_info": {
      "name": "python3"
    },
    "language_info": {
      "name": "python",
      "version": "3.7.9",
      "mimetype": "text/x-python",
      "codemirror_mode": {
        "name": "ipython",
        "version": 3
      },
      "pygments_lexer": "ipython3",
      "nbconvert_exporter": "python",
      "file_extension": ".py"
    },
    "kernelspec": {
      "argv": [
        "/usr/local/opt/python/bin/python3.7",
        "-m",
        "ipykernel_launcher",
        "-f",
        "{connection_file}"
      ],
      "display_name": "Python 3",
      "language": "python",
      "name": "python3"
    },
    "nteract": {
      "version": "0.27.0"
    }
  },
  "nbformat": 4,
  "nbformat_minor": 0
}