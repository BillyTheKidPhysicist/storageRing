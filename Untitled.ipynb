{
  "cells": [
    {
      "cell_type": "code",
      "source": [
        "from ParticleTracer import particleTracer\n",
        "import numpy as np\n",
        "import matplotlib.pyplot as plt"
      ],
      "outputs": [],
      "execution_count": 1,
      "metadata": {
        "collapsed": true,
        "jupyter": {
          "source_hidden": false,
          "outputs_hidden": false
        },
        "nteract": {
          "transient": {
            "deleting": false
          }
        },
        "execution": {
          "iopub.status.busy": "2020-11-19T19:30:25.778Z",
          "iopub.execute_input": "2020-11-19T19:30:25.782Z",
          "iopub.status.idle": "2020-11-19T19:30:26.463Z",
          "shell.execute_reply": "2020-11-19T19:30:26.511Z"
        }
      }
    },
    {
      "cell_type": "code",
      "source": [
        "test=particleTracer()\n",
        "test.add_Lens(20,1,.01)\n",
        "test.add_Bender(np.pi,1,1,.01)\n",
        "test.add_Lens(20,1,.01)\n",
        "test.add_Bender(np.pi,1,1,.01)\n",
        "test.end_Lattice()"
      ],
      "outputs": [],
      "execution_count": 2,
      "metadata": {
        "collapsed": true,
        "jupyter": {
          "source_hidden": false,
          "outputs_hidden": false
        },
        "nteract": {
          "transient": {
            "deleting": false
          }
        },
        "execution": {
          "iopub.status.busy": "2020-11-19T19:30:26.471Z",
          "iopub.execute_input": "2020-11-19T19:30:26.474Z",
          "iopub.status.idle": "2020-11-19T19:30:26.481Z",
          "shell.execute_reply": "2020-11-19T19:30:26.513Z"
        }
      }
    },
    {
      "cell_type": "code",
      "source": [
        "#q,p,qoActual,po,particleOutside=test.trace(q0,v0,1e-8,10/200,method='verlet')"
      ],
      "outputs": [],
      "execution_count": 3,
      "metadata": {
        "collapsed": true,
        "jupyter": {
          "source_hidden": false,
          "outputs_hidden": false
        },
        "nteract": {
          "transient": {
            "deleting": false
          }
        },
        "execution": {
          "iopub.status.busy": "2020-11-19T19:30:26.486Z",
          "iopub.execute_input": "2020-11-19T19:30:26.489Z",
          "iopub.status.idle": "2020-11-19T19:30:26.496Z",
          "shell.execute_reply": "2020-11-19T19:30:26.515Z"
        }
      }
    },
    {
      "cell_type": "code",
      "source": [
        "\n",
        "\n",
        "q0=np.asarray([-1E-10,1e-3,0])\n",
        "v0=np.asarray([-200.0,0,0])\n",
        "qFinalList1=[]\n",
        "qFinalList2=[]\n",
        "qFinalList3=[]\n",
        "hArr=np.logspace(-5,-7,num=25)\n",
        "for h in hArr:\n",
        "    print(h)\n",
        "    q,p,qo,po,particleOutside=test.trace(q0,v0,h,10/200,method='trapezoid')\n",
        "    qFinalList1.append(qo[-1])\n",
        "  \n",
        "    q,p,qo,po,particleOutside=test.trace(q0,v0,h,10/200,method='RK4')\n",
        "    qFinalList2.append(qo[-1])\n",
        "    \n",
        "    q,p,qo,po,particleOutside=test.trace(q0,v0,h,10/200,method='verlet')\n",
        "    qFinalList3.append(qo[-1])\n",
        "qFin1=np.asarray(qFinalList1)\n",
        "qFin2=np.asarray(qFinalList2)\n",
        "qFin3=np.asarray(qFinalList3)\n",
        "    #qArr=np.asarray(qFinalList)\n",
        "##qArr=np.sqrt(np.sum(qArr**2,axis=1))\n",
        "#plt.plot(hArr,qArr[:,0]/np.max(qArr[:,0]))\n",
        "#plt.show()\n",
        "#plt.plot(hArr,qArr[:,1]/np.max(qArr[:,1]))\n",
        "#plt.show()"
      ],
      "outputs": [
        {
          "output_type": "stream",
          "name": "stdout",
          "text": [
            "1e-05\n",
            "8.25404185268019e-06\n",
            "6.8129206905796085e-06\n",
            "5.623413251903491e-06\n",
            "4.641588833612782e-06\n",
            "3.831186849557285e-06\n",
            "3.162277660168379e-06\n",
            "2.6101572156825386e-06\n",
            "2.1544346900318822e-06\n",
            "1.778279410038923e-06\n",
            "1.4677992676220705e-06\n",
            "1.2115276586285875e-06\n",
            "1e-06\n",
            "8.25404185268019e-07\n",
            "6.812920690579622e-07\n",
            "5.62341325190349e-07\n",
            "4.641588833612782e-07\n",
            "3.831186849557293e-07\n",
            "3.162277660168379e-07\n",
            "2.6101572156825384e-07\n",
            "2.1544346900318867e-07\n",
            "1.7782794100389227e-07\n",
            "1.4677992676220706e-07\n",
            "1.21152765862859e-07\n",
            "1e-07\n"
          ]
        }
      ],
      "execution_count": 4,
      "metadata": {
        "collapsed": true,
        "jupyter": {
          "source_hidden": false,
          "outputs_hidden": false
        },
        "nteract": {
          "transient": {
            "deleting": false
          }
        },
        "execution": {
          "iopub.status.busy": "2020-11-19T19:30:26.502Z",
          "iopub.execute_input": "2020-11-19T19:30:26.506Z",
          "iopub.status.idle": "2020-11-19T19:54:57.812Z",
          "shell.execute_reply": "2020-11-19T19:54:57.822Z"
        }
      }
    },
    {
      "cell_type": "code",
      "source": [
        "plt.semilogy(np.abs(qFin1[:,1][-15:]),label='trap')\n",
        "plt.semilogy(np.abs(qFin2[:,1][-15:]),label='RK4')\n",
        "plt.semilogy(np.abs(qFin3[:,1][-15:]),label='verlet')\n",
        "plt.legend()\n",
        "plt.show()"
      ],
      "outputs": [
        {
          "output_type": "display_data",
          "data": {
            "text/plain": "<Figure size 432x288 with 1 Axes>",
            "image/png": "[encoded data removed]"
          },
          "metadata": {
            "needs_background": "light"
          }
        }
      ],
      "execution_count": 7,
      "metadata": {
        "collapsed": true,
        "jupyter": {
          "source_hidden": false,
          "outputs_hidden": false
        },
        "nteract": {
          "transient": {
            "deleting": false
          }
        },
        "execution": {
          "iopub.status.busy": "2020-11-19T19:58:55.916Z",
          "iopub.execute_input": "2020-11-19T19:58:56.024Z",
          "iopub.status.idle": "2020-11-19T19:58:56.287Z",
          "shell.execute_reply": "2020-11-19T19:58:56.294Z"
        }
      }
    },
    {
      "cell_type": "code",
      "source": [
        "q,p,qoActual,po,particleOutside=test.trace(q0,v0,1e-7,10/200,method='verlet')"
      ],
      "outputs": [],
      "execution_count": 6,
      "metadata": {
        "collapsed": true,
        "jupyter": {
          "source_hidden": false,
          "outputs_hidden": false
        },
        "nteract": {
          "transient": {
            "deleting": false
          }
        },
        "execution": {
          "iopub.status.busy": "2020-11-19T19:54:58.363Z",
          "iopub.execute_input": "2020-11-19T19:54:58.822Z",
          "iopub.status.idle": "2020-11-19T19:55:38.592Z",
          "shell.execute_reply": "2020-11-19T19:55:38.597Z"
        }
      }
    },
    {
      "cell_type": "code",
      "source": [
        "from helper import *\n",
        "test=np.pi\n",
        "print(np.sin(test))"
      ],
      "outputs": [
        {
          "output_type": "stream",
          "name": "stdout",
          "text": [
            "1.2246467991473532e-16\n"
          ]
        }
      ],
      "execution_count": 13,
      "metadata": {
        "collapsed": true,
        "jupyter": {
          "source_hidden": false,
          "outputs_hidden": false
        },
        "nteract": {
          "transient": {
            "deleting": false
          }
        },
        "execution": {
          "iopub.status.busy": "2020-11-21T00:48:13.698Z",
          "iopub.execute_input": "2020-11-21T00:48:13.703Z",
          "iopub.status.idle": "2020-11-21T00:48:13.714Z",
          "shell.execute_reply": "2020-11-21T00:48:13.721Z"
        }
      }
    },
    {
      "cell_type": "code",
      "source": [
        "np.rand.randn(1)"
      ],
      "outputs": [
        {
          "output_type": "error",
          "ename": "AttributeError",
          "evalue": "module 'numpy' has no attribute 'rand'",
          "traceback": [
            "\u001b[0;31m---------------------------------------------------------------------------\u001b[0m",
            "\u001b[0;31mAttributeError\u001b[0m                            Traceback (most recent call last)",
            "\u001b[0;32m<ipython-input-20-113983971f2d>\u001b[0m in \u001b[0;36m<module>\u001b[0;34m\u001b[0m\n\u001b[0;32m----> 1\u001b[0;31m \u001b[0mnp\u001b[0m\u001b[0;34m.\u001b[0m\u001b[0mrand\u001b[0m\u001b[0;34m.\u001b[0m\u001b[0mrandn\u001b[0m\u001b[0;34m(\u001b[0m\u001b[0;36m1\u001b[0m\u001b[0;34m)\u001b[0m\u001b[0;34m\u001b[0m\u001b[0;34m\u001b[0m\u001b[0m\n\u001b[0m",
            "\u001b[0;32m/usr/local/lib/python3.7/site-packages/numpy/__init__.py\u001b[0m in \u001b[0;36m__getattr__\u001b[0;34m(attr)\u001b[0m\n\u001b[1;32m    213\u001b[0m             \u001b[0;32melse\u001b[0m\u001b[0;34m:\u001b[0m\u001b[0;34m\u001b[0m\u001b[0;34m\u001b[0m\u001b[0m\n\u001b[1;32m    214\u001b[0m                 raise AttributeError(\"module {!r} has no attribute \"\n\u001b[0;32m--> 215\u001b[0;31m                                      \"{!r}\".format(__name__, attr))\n\u001b[0m\u001b[1;32m    216\u001b[0m \u001b[0;34m\u001b[0m\u001b[0m\n\u001b[1;32m    217\u001b[0m         \u001b[0;32mdef\u001b[0m \u001b[0m__dir__\u001b[0m\u001b[0;34m(\u001b[0m\u001b[0;34m)\u001b[0m\u001b[0;34m:\u001b[0m\u001b[0;34m\u001b[0m\u001b[0;34m\u001b[0m\u001b[0m\n",
            "\u001b[0;31mAttributeError\u001b[0m: module 'numpy' has no attribute 'rand'"
          ]
        }
      ],
      "execution_count": 20,
      "metadata": {
        "collapsed": true,
        "jupyter": {
          "source_hidden": false,
          "outputs_hidden": false
        },
        "nteract": {
          "transient": {
            "deleting": false
          }
        },
        "execution": {
          "iopub.status.busy": "2020-11-21T00:53:12.150Z",
          "iopub.execute_input": "2020-11-21T00:53:12.155Z",
          "iopub.status.idle": "2020-11-21T00:53:12.165Z",
          "shell.execute_reply": "2020-11-21T00:53:12.178Z"
        }
      }
    },
    {
      "cell_type": "code",
      "source": [],
      "outputs": [],
      "execution_count": null,
      "metadata": {
        "collapsed": true,
        "jupyter": {
          "source_hidden": false,
          "outputs_hidden": false
        },
        "nteract": {
          "transient": {
            "deleting": false
          }
        }
      }
    },
    {
      "cell_type": "code",
      "source": [],
      "outputs": [],
      "execution_count": null,
      "metadata": {
        "collapsed": true,
        "jupyter": {
          "source_hidden": false,
          "outputs_hidden": false
        },
        "nteract": {
          "transient": {
            "deleting": false
          }
        }
      }
    }
  ],
  "metadata": {
    "kernel_info": {
      "name": "python3"
    },
    "language_info": {
      "name": "python",
      "version": "3.7.7",
      "mimetype": "text/x-python",
      "codemirror_mode": {
        "name": "ipython",
        "version": 3
      },
      "pygments_lexer": "ipython3",
      "nbconvert_exporter": "python",
      "file_extension": ".py"
    },
    "kernelspec": {
      "argv": [
        "/usr/local/opt/python/bin/python3.7",
        "-m",
        "ipykernel_launcher",
        "-f",
        "{connection_file}"
      ],
      "display_name": "Python 3",
      "language": "python",
      "name": "python3"
    },
    "nteract": {
      "version": "0.26.0"
    }
  },
  "nbformat": 4,
  "nbformat_minor": 0
}