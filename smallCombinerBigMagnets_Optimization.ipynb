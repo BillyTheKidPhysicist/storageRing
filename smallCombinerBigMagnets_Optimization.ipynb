{
 "cells": [
  {
   "cell_type": "markdown",
   "metadata": {},
   "source": [
    "modulating magnets lenses 0 and 1 gives a minimum at (.46,.16) modulation factors with an average survival time of 182 revolutions\n"
   ]
  },
  {
   "cell_type": "code",
   "execution_count": 1,
   "metadata": {
    "execution": {
     "iopub.execute_input": "2021-02-16T02:27:16.152Z",
     "iopub.status.busy": "2021-02-16T02:27:16.140Z",
     "iopub.status.idle": "2021-02-16T02:27:26.696Z",
     "shell.execute_reply": "2021-02-16T02:27:26.869Z"
    },
    "jupyter": {
     "outputs_hidden": false,
     "source_hidden": false
    },
    "nteract": {
     "transient": {
      "deleting": false
     }
    }
   },
   "outputs": [],
   "source": [
    "import skopt\n",
    "from smallCombinerBigMagnets import *"
   ]
  },
  {
   "cell_type": "code",
   "execution_count": null,
   "metadata": {},
   "outputs": [],
   "source": []
  },
  {
   "cell_type": "code",
   "execution_count": null,
   "metadata": {},
   "outputs": [],
   "source": []
  },
  {
   "cell_type": "code",
   "execution_count": 2,
   "metadata": {},
   "outputs": [
    {
     "name": "stdout",
     "output_type": "stream",
     "text": [
      "bounds [(0, 50), (0, 50)]\n",
      "starting\n",
      "0\n",
      "[49, 22]\n",
      "stable\n",
      "[0.49, 0.22]\n",
      "start lattice tracing\n",
      "2.801925262299309 501.8147650859868\n",
      "done lattice matching 476.86186480522156\n",
      "start mode match\n"
     ]
    },
    {
     "name": "stderr",
     "output_type": "stream",
     "text": [
      "/home/billy/.local/lib/python3.8/site-packages/scipy/optimize/_differentialevolution.py:495: UserWarning: differential_evolution: the 'workers' keyword has overridden updating='immediate' to updating='deferred'\n",
      "  warnings.warn(\"differential_evolution: the 'workers' keyword has\"\n"
     ]
    },
    {
     "name": "stdout",
     "output_type": "stream",
     "text": [
      "differential_evolution step 1: f(x)= nan\n",
      "differential_evolution step 2: f(x)= nan\n",
      "differential_evolution step 3: f(x)= nan\n",
      "differential_evolution step 4: f(x)= nan\n",
      "differential_evolution step 5: f(x)= nan\n",
      "differential_evolution step 6: f(x)= nan\n",
      "differential_evolution step 7: f(x)= nan\n",
      "differential_evolution step 8: f(x)= nan\n",
      "differential_evolution step 9: f(x)= nan\n",
      "differential_evolution step 10: f(x)= nan\n",
      "optimal injector args: [ 0.19690601  1.32244834 -0.01464405]\n",
      "done mode match 111.66876244544983\n",
      "nan\n",
      "nan\n",
      "1\n",
      "[1, 15]\n",
      "1\n",
      "[0, 1]\n",
      "stable\n",
      "[0.0, 0.01]\n",
      "start lattice tracing\n",
      "0.3566856907209596 23.97811015850059\n",
      "done lattice matching 65.30297565460205\n",
      "start mode match\n",
      "differential_evolution step 1: f(x)= nan\n",
      "differential_evolution step 2: f(x)= nan\n",
      "differential_evolution step 3: f(x)= nan\n",
      "differential_evolution step 4: f(x)= nan\n",
      "differential_evolution step 5: f(x)= nan\n",
      "differential_evolution step 6: f(x)= nan\n",
      "differential_evolution step 7: f(x)= nan\n",
      "differential_evolution step 8: f(x)= nan\n",
      "differential_evolution step 9: f(x)= nan\n",
      "differential_evolution step 10: f(x)= nan\n",
      "optimal injector args: [0.22775516 0.54351739 0.01916436]\n",
      "done mode match 127.31469082832336\n",
      "nan\n",
      "nan\n",
      "2\n",
      "[49, 6]\n",
      "2\n",
      "[49, 39]\n",
      "2\n",
      "[34, 0]\n",
      "2\n",
      "[8, 44]\n",
      "stable\n",
      "[0.08, 0.44]\n",
      "start lattice tracing\n",
      "0.5100849315313408 35.95408535933782\n",
      "done lattice matching 89.4440565109253\n",
      "start mode match\n",
      "differential_evolution step 1: f(x)= nan\n",
      "differential_evolution step 2: f(x)= nan\n",
      "differential_evolution step 3: f(x)= nan\n",
      "differential_evolution step 4: f(x)= nan\n",
      "differential_evolution step 5: f(x)= nan\n",
      "differential_evolution step 6: f(x)= nan\n",
      "differential_evolution step 7: f(x)= nan\n",
      "differential_evolution step 8: f(x)= nan\n",
      "differential_evolution step 9: f(x)= nan\n",
      "differential_evolution step 10: f(x)= nan\n",
      "optimal injector args: [ 0.24433206  0.87979951 -0.07558957]\n",
      "done mode match 123.62958860397339\n",
      "nan\n",
      "nan\n",
      "3\n",
      "[40, 5]\n",
      "3\n",
      "[24, 4]\n",
      "3\n",
      "[15, 13]\n",
      "stable\n",
      "[0.15, 0.13]\n",
      "start lattice tracing\n",
      "0.9196522632975233 9.999864515691808\n",
      "done lattice matching 153.09318113327026\n",
      "start mode match\n",
      "differential_evolution step 1: f(x)= nan\n",
      "differential_evolution step 2: f(x)= nan\n",
      "differential_evolution step 3: f(x)= nan\n",
      "differential_evolution step 4: f(x)= nan\n",
      "differential_evolution step 5: f(x)= nan\n",
      "differential_evolution step 6: f(x)= nan\n",
      "differential_evolution step 7: f(x)= nan\n",
      "differential_evolution step 8: f(x)= nan\n",
      "differential_evolution step 9: f(x)= nan\n",
      "differential_evolution step 10: f(x)= nan\n",
      "optimal injector args: [ 0.16233885  0.92410872 -0.07715083]\n",
      "done mode match 118.64446067810059\n",
      "nan\n",
      "nan\n",
      "4\n",
      "[20, 1]\n",
      "4\n",
      "[29, 41]\n",
      "stable\n",
      "[0.29, 0.41]\n",
      "start lattice tracing\n",
      "0.6186478177482989 82.00233317148923\n",
      "done lattice matching 108.18224620819092\n",
      "start mode match\n",
      "differential_evolution step 1: f(x)= nan\n",
      "differential_evolution step 2: f(x)= nan\n",
      "differential_evolution step 3: f(x)= nan\n",
      "differential_evolution step 4: f(x)= nan\n",
      "differential_evolution step 5: f(x)= nan\n",
      "differential_evolution step 6: f(x)= nan\n",
      "differential_evolution step 7: f(x)= nan\n",
      "differential_evolution step 8: f(x)= nan\n",
      "differential_evolution step 9: f(x)= nan\n",
      "differential_evolution step 10: f(x)= nan\n",
      "optimal injector args: [ 0.21040805  0.98499094 -0.03116553]\n",
      "done mode match 120.34722757339478\n",
      "nan\n",
      "nan\n",
      "5\n",
      "[5, 27]\n",
      "5\n",
      "[41, 10]\n",
      "5\n",
      "[24, 42]\n",
      "stable\n",
      "[0.24, 0.42]\n",
      "start lattice tracing\n",
      "0.6312714701931359 95.03883697892235\n",
      "done lattice matching 109.7554566860199\n",
      "start mode match\n",
      "differential_evolution step 1: f(x)= nan\n",
      "differential_evolution step 2: f(x)= nan\n",
      "differential_evolution step 3: f(x)= nan\n",
      "differential_evolution step 4: f(x)= nan\n",
      "differential_evolution step 5: f(x)= nan\n",
      "differential_evolution step 6: f(x)= nan\n",
      "differential_evolution step 7: f(x)= nan\n",
      "differential_evolution step 8: f(x)= nan\n",
      "differential_evolution step 9: f(x)= nan\n",
      "differential_evolution step 10: f(x)= nan\n",
      "optimal injector args: [ 0.19165279  1.16829339 -0.09302292]\n",
      "done mode match 113.22407412528992\n",
      "nan\n",
      "nan\n"
     ]
    },
    {
     "ename": "ValueError",
     "evalue": "Input contains NaN, infinity or a value too large for dtype('float64').",
     "output_type": "error",
     "traceback": [
      "\u001b[0;31m---------------------------------------------------------------------------\u001b[0m",
      "\u001b[0;31mValueError\u001b[0m                                Traceback (most recent call last)",
      "\u001b[0;32m<ipython-input-2-2302f3fc73b7>\u001b[0m in \u001b[0;36m<module>\u001b[0;34m\u001b[0m\n\u001b[0;32m----> 1\u001b[0;31m \u001b[0msol\u001b[0m\u001b[0;34m=\u001b[0m\u001b[0mcompute_Sol\u001b[0m\u001b[0;34m(\u001b[0m\u001b[0;36m1e-5\u001b[0m\u001b[0;34m,\u001b[0m\u001b[0;36m500.0\u001b[0m\u001b[0;34m,\u001b[0m\u001b[0;36m30\u001b[0m\u001b[0;34m)\u001b[0m\u001b[0;34m\u001b[0m\u001b[0;34m\u001b[0m\u001b[0m\n\u001b[0m",
      "\u001b[0;32m~/Desktop/storageRing/smallCombinerBigMagnets.py\u001b[0m in \u001b[0;36mcompute_Sol\u001b[0;34m(h, Revs, maxEvals)\u001b[0m\n\u001b[1;32m     59\u001b[0m     \u001b[0moptimizer\u001b[0m\u001b[0;34m=\u001b[0m\u001b[0mLatticeOptimizer\u001b[0m\u001b[0;34m(\u001b[0m\u001b[0mlattice\u001b[0m\u001b[0;34m)\u001b[0m\u001b[0;34m\u001b[0m\u001b[0;34m\u001b[0m\u001b[0m\n\u001b[1;32m     60\u001b[0m \u001b[0;34m\u001b[0m\u001b[0m\n\u001b[0;32m---> 61\u001b[0;31m     \u001b[0msol\u001b[0m\u001b[0;34m=\u001b[0m\u001b[0moptimizer\u001b[0m\u001b[0;34m.\u001b[0m\u001b[0mmaximize_Suvival_Through_Lattice\u001b[0m\u001b[0;34m(\u001b[0m\u001b[0mh\u001b[0m\u001b[0;34m,\u001b[0m \u001b[0mT\u001b[0m\u001b[0;34m,\u001b[0m \u001b[0mmaxHardsEvals\u001b[0m\u001b[0;34m=\u001b[0m\u001b[0mmaxEvals\u001b[0m\u001b[0;34m)\u001b[0m\u001b[0;34m\u001b[0m\u001b[0;34m\u001b[0m\u001b[0m\n\u001b[0m\u001b[1;32m     62\u001b[0m     \u001b[0;32mreturn\u001b[0m \u001b[0msol\u001b[0m\u001b[0;34m\u001b[0m\u001b[0;34m\u001b[0m\u001b[0m\n\u001b[1;32m     63\u001b[0m \u001b[0;31m#compute_Sol(1e-5,50.0,30)\u001b[0m\u001b[0;34m\u001b[0m\u001b[0;34m\u001b[0m\u001b[0;34m\u001b[0m\u001b[0m\n",
      "\u001b[0;32m~/Desktop/storageRing/OptimizerClass.py\u001b[0m in \u001b[0;36mmaximize_Suvival_Through_Lattice\u001b[0;34m(self, h, T, numParticles, maxHardsEvals, bounds, precision)\u001b[0m\n\u001b[1;32m    368\u001b[0m                 \u001b[0mprint\u001b[0m\u001b[0;34m(\u001b[0m\u001b[0;34m'stable'\u001b[0m\u001b[0;34m)\u001b[0m\u001b[0;34m\u001b[0m\u001b[0;34m\u001b[0m\u001b[0m\n\u001b[1;32m    369\u001b[0m                 \u001b[0mcost\u001b[0m \u001b[0;34m=\u001b[0m \u001b[0mmin_Func\u001b[0m\u001b[0;34m(\u001b[0m\u001b[0mXSample\u001b[0m\u001b[0;34m)\u001b[0m\u001b[0;34m\u001b[0m\u001b[0;34m\u001b[0m\u001b[0m\n\u001b[0;32m--> 370\u001b[0;31m                 \u001b[0mself\u001b[0m\u001b[0;34m.\u001b[0m\u001b[0mskoptModel\u001b[0m\u001b[0;34m.\u001b[0m\u001b[0mtell\u001b[0m\u001b[0;34m(\u001b[0m\u001b[0mXSample\u001b[0m\u001b[0;34m,\u001b[0m \u001b[0mcost\u001b[0m\u001b[0;34m)\u001b[0m\u001b[0;34m\u001b[0m\u001b[0;34m\u001b[0m\u001b[0m\n\u001b[0m\u001b[1;32m    371\u001b[0m                 \u001b[0mself\u001b[0m\u001b[0;34m.\u001b[0m\u001b[0mhardEvals\u001b[0m \u001b[0;34m+=\u001b[0m \u001b[0;36m1\u001b[0m\u001b[0;34m\u001b[0m\u001b[0;34m\u001b[0m\u001b[0m\n\u001b[1;32m    372\u001b[0m \u001b[0;34m\u001b[0m\u001b[0m\n",
      "\u001b[0;32m~/.local/lib/python3.8/site-packages/skopt/optimizer/optimizer.py\u001b[0m in \u001b[0;36mtell\u001b[0;34m(self, x, y, fit)\u001b[0m\n\u001b[1;32m    492\u001b[0m                 \u001b[0my\u001b[0m\u001b[0;34m[\u001b[0m\u001b[0;36m1\u001b[0m\u001b[0;34m]\u001b[0m \u001b[0;34m=\u001b[0m \u001b[0mlog\u001b[0m\u001b[0;34m(\u001b[0m\u001b[0my\u001b[0m\u001b[0;34m[\u001b[0m\u001b[0;36m1\u001b[0m\u001b[0;34m]\u001b[0m\u001b[0;34m)\u001b[0m\u001b[0;34m\u001b[0m\u001b[0;34m\u001b[0m\u001b[0m\n\u001b[1;32m    493\u001b[0m \u001b[0;34m\u001b[0m\u001b[0m\n\u001b[0;32m--> 494\u001b[0;31m         \u001b[0;32mreturn\u001b[0m \u001b[0mself\u001b[0m\u001b[0;34m.\u001b[0m\u001b[0m_tell\u001b[0m\u001b[0;34m(\u001b[0m\u001b[0mx\u001b[0m\u001b[0;34m,\u001b[0m \u001b[0my\u001b[0m\u001b[0;34m,\u001b[0m \u001b[0mfit\u001b[0m\u001b[0;34m=\u001b[0m\u001b[0mfit\u001b[0m\u001b[0;34m)\u001b[0m\u001b[0;34m\u001b[0m\u001b[0;34m\u001b[0m\u001b[0m\n\u001b[0m\u001b[1;32m    495\u001b[0m \u001b[0;34m\u001b[0m\u001b[0m\n\u001b[1;32m    496\u001b[0m     \u001b[0;32mdef\u001b[0m \u001b[0m_tell\u001b[0m\u001b[0;34m(\u001b[0m\u001b[0mself\u001b[0m\u001b[0;34m,\u001b[0m \u001b[0mx\u001b[0m\u001b[0;34m,\u001b[0m \u001b[0my\u001b[0m\u001b[0;34m,\u001b[0m \u001b[0mfit\u001b[0m\u001b[0;34m=\u001b[0m\u001b[0;32mTrue\u001b[0m\u001b[0;34m)\u001b[0m\u001b[0;34m:\u001b[0m\u001b[0;34m\u001b[0m\u001b[0;34m\u001b[0m\u001b[0m\n",
      "\u001b[0;32m~/.local/lib/python3.8/site-packages/skopt/optimizer/optimizer.py\u001b[0m in \u001b[0;36m_tell\u001b[0;34m(self, x, y, fit)\u001b[0m\n\u001b[1;32m    535\u001b[0m             \u001b[0;32mwith\u001b[0m \u001b[0mwarnings\u001b[0m\u001b[0;34m.\u001b[0m\u001b[0mcatch_warnings\u001b[0m\u001b[0;34m(\u001b[0m\u001b[0;34m)\u001b[0m\u001b[0;34m:\u001b[0m\u001b[0;34m\u001b[0m\u001b[0;34m\u001b[0m\u001b[0m\n\u001b[1;32m    536\u001b[0m                 \u001b[0mwarnings\u001b[0m\u001b[0;34m.\u001b[0m\u001b[0msimplefilter\u001b[0m\u001b[0;34m(\u001b[0m\u001b[0;34m\"ignore\"\u001b[0m\u001b[0;34m)\u001b[0m\u001b[0;34m\u001b[0m\u001b[0;34m\u001b[0m\u001b[0m\n\u001b[0;32m--> 537\u001b[0;31m                 \u001b[0mest\u001b[0m\u001b[0;34m.\u001b[0m\u001b[0mfit\u001b[0m\u001b[0;34m(\u001b[0m\u001b[0mself\u001b[0m\u001b[0;34m.\u001b[0m\u001b[0mspace\u001b[0m\u001b[0;34m.\u001b[0m\u001b[0mtransform\u001b[0m\u001b[0;34m(\u001b[0m\u001b[0mself\u001b[0m\u001b[0;34m.\u001b[0m\u001b[0mXi\u001b[0m\u001b[0;34m)\u001b[0m\u001b[0;34m,\u001b[0m \u001b[0mself\u001b[0m\u001b[0;34m.\u001b[0m\u001b[0myi\u001b[0m\u001b[0;34m)\u001b[0m\u001b[0;34m\u001b[0m\u001b[0;34m\u001b[0m\u001b[0m\n\u001b[0m\u001b[1;32m    538\u001b[0m \u001b[0;34m\u001b[0m\u001b[0m\n\u001b[1;32m    539\u001b[0m             \u001b[0;32mif\u001b[0m \u001b[0mhasattr\u001b[0m\u001b[0;34m(\u001b[0m\u001b[0mself\u001b[0m\u001b[0;34m,\u001b[0m \u001b[0;34m\"next_xs_\"\u001b[0m\u001b[0;34m)\u001b[0m \u001b[0;32mand\u001b[0m \u001b[0mself\u001b[0m\u001b[0;34m.\u001b[0m\u001b[0macq_func\u001b[0m \u001b[0;34m==\u001b[0m \u001b[0;34m\"gp_hedge\"\u001b[0m\u001b[0;34m:\u001b[0m\u001b[0;34m\u001b[0m\u001b[0;34m\u001b[0m\u001b[0m\n",
      "\u001b[0;32m~/.local/lib/python3.8/site-packages/skopt/learning/gaussian_process/gpr.py\u001b[0m in \u001b[0;36mfit\u001b[0;34m(self, X, y)\u001b[0m\n\u001b[1;32m    193\u001b[0m                 \u001b[0mnoise_level\u001b[0m\u001b[0;34m=\u001b[0m\u001b[0mself\u001b[0m\u001b[0;34m.\u001b[0m\u001b[0mnoise\u001b[0m\u001b[0;34m,\u001b[0m \u001b[0mnoise_level_bounds\u001b[0m\u001b[0;34m=\u001b[0m\u001b[0;34m\"fixed\"\u001b[0m\u001b[0;34m\u001b[0m\u001b[0;34m\u001b[0m\u001b[0m\n\u001b[1;32m    194\u001b[0m             )\n\u001b[0;32m--> 195\u001b[0;31m         \u001b[0msuper\u001b[0m\u001b[0;34m(\u001b[0m\u001b[0mGaussianProcessRegressor\u001b[0m\u001b[0;34m,\u001b[0m \u001b[0mself\u001b[0m\u001b[0;34m)\u001b[0m\u001b[0;34m.\u001b[0m\u001b[0mfit\u001b[0m\u001b[0;34m(\u001b[0m\u001b[0mX\u001b[0m\u001b[0;34m,\u001b[0m \u001b[0my\u001b[0m\u001b[0;34m)\u001b[0m\u001b[0;34m\u001b[0m\u001b[0;34m\u001b[0m\u001b[0m\n\u001b[0m\u001b[1;32m    196\u001b[0m \u001b[0;34m\u001b[0m\u001b[0m\n\u001b[1;32m    197\u001b[0m         \u001b[0mself\u001b[0m\u001b[0;34m.\u001b[0m\u001b[0mnoise_\u001b[0m \u001b[0;34m=\u001b[0m \u001b[0;32mNone\u001b[0m\u001b[0;34m\u001b[0m\u001b[0;34m\u001b[0m\u001b[0m\n",
      "\u001b[0;32m~/.local/lib/python3.8/site-packages/sklearn/gaussian_process/_gpr.py\u001b[0m in \u001b[0;36mfit\u001b[0;34m(self, X, y)\u001b[0m\n\u001b[1;32m    190\u001b[0m \u001b[0;34m\u001b[0m\u001b[0m\n\u001b[1;32m    191\u001b[0m         \u001b[0;32mif\u001b[0m \u001b[0mself\u001b[0m\u001b[0;34m.\u001b[0m\u001b[0mkernel_\u001b[0m\u001b[0;34m.\u001b[0m\u001b[0mrequires_vector_input\u001b[0m\u001b[0;34m:\u001b[0m\u001b[0;34m\u001b[0m\u001b[0;34m\u001b[0m\u001b[0m\n\u001b[0;32m--> 192\u001b[0;31m             X, y = self._validate_data(X, y, multi_output=True, y_numeric=True,\n\u001b[0m\u001b[1;32m    193\u001b[0m                                        ensure_2d=True, dtype=\"numeric\")\n\u001b[1;32m    194\u001b[0m         \u001b[0;32melse\u001b[0m\u001b[0;34m:\u001b[0m\u001b[0;34m\u001b[0m\u001b[0;34m\u001b[0m\u001b[0m\n",
      "\u001b[0;32m~/.local/lib/python3.8/site-packages/sklearn/base.py\u001b[0m in \u001b[0;36m_validate_data\u001b[0;34m(self, X, y, reset, validate_separately, **check_params)\u001b[0m\n\u001b[1;32m    431\u001b[0m                 \u001b[0my\u001b[0m \u001b[0;34m=\u001b[0m \u001b[0mcheck_array\u001b[0m\u001b[0;34m(\u001b[0m\u001b[0my\u001b[0m\u001b[0;34m,\u001b[0m \u001b[0;34m**\u001b[0m\u001b[0mcheck_y_params\u001b[0m\u001b[0;34m)\u001b[0m\u001b[0;34m\u001b[0m\u001b[0;34m\u001b[0m\u001b[0m\n\u001b[1;32m    432\u001b[0m             \u001b[0;32melse\u001b[0m\u001b[0;34m:\u001b[0m\u001b[0;34m\u001b[0m\u001b[0;34m\u001b[0m\u001b[0m\n\u001b[0;32m--> 433\u001b[0;31m                 \u001b[0mX\u001b[0m\u001b[0;34m,\u001b[0m \u001b[0my\u001b[0m \u001b[0;34m=\u001b[0m \u001b[0mcheck_X_y\u001b[0m\u001b[0;34m(\u001b[0m\u001b[0mX\u001b[0m\u001b[0;34m,\u001b[0m \u001b[0my\u001b[0m\u001b[0;34m,\u001b[0m \u001b[0;34m**\u001b[0m\u001b[0mcheck_params\u001b[0m\u001b[0;34m)\u001b[0m\u001b[0;34m\u001b[0m\u001b[0;34m\u001b[0m\u001b[0m\n\u001b[0m\u001b[1;32m    434\u001b[0m             \u001b[0mout\u001b[0m \u001b[0;34m=\u001b[0m \u001b[0mX\u001b[0m\u001b[0;34m,\u001b[0m \u001b[0my\u001b[0m\u001b[0;34m\u001b[0m\u001b[0;34m\u001b[0m\u001b[0m\n\u001b[1;32m    435\u001b[0m \u001b[0;34m\u001b[0m\u001b[0m\n",
      "\u001b[0;32m~/.local/lib/python3.8/site-packages/sklearn/utils/validation.py\u001b[0m in \u001b[0;36minner_f\u001b[0;34m(*args, **kwargs)\u001b[0m\n\u001b[1;32m     61\u001b[0m             \u001b[0mextra_args\u001b[0m \u001b[0;34m=\u001b[0m \u001b[0mlen\u001b[0m\u001b[0;34m(\u001b[0m\u001b[0margs\u001b[0m\u001b[0;34m)\u001b[0m \u001b[0;34m-\u001b[0m \u001b[0mlen\u001b[0m\u001b[0;34m(\u001b[0m\u001b[0mall_args\u001b[0m\u001b[0;34m)\u001b[0m\u001b[0;34m\u001b[0m\u001b[0;34m\u001b[0m\u001b[0m\n\u001b[1;32m     62\u001b[0m             \u001b[0;32mif\u001b[0m \u001b[0mextra_args\u001b[0m \u001b[0;34m<=\u001b[0m \u001b[0;36m0\u001b[0m\u001b[0;34m:\u001b[0m\u001b[0;34m\u001b[0m\u001b[0;34m\u001b[0m\u001b[0m\n\u001b[0;32m---> 63\u001b[0;31m                 \u001b[0;32mreturn\u001b[0m \u001b[0mf\u001b[0m\u001b[0;34m(\u001b[0m\u001b[0;34m*\u001b[0m\u001b[0margs\u001b[0m\u001b[0;34m,\u001b[0m \u001b[0;34m**\u001b[0m\u001b[0mkwargs\u001b[0m\u001b[0;34m)\u001b[0m\u001b[0;34m\u001b[0m\u001b[0;34m\u001b[0m\u001b[0m\n\u001b[0m\u001b[1;32m     64\u001b[0m \u001b[0;34m\u001b[0m\u001b[0m\n\u001b[1;32m     65\u001b[0m             \u001b[0;31m# extra_args > 0\u001b[0m\u001b[0;34m\u001b[0m\u001b[0;34m\u001b[0m\u001b[0;34m\u001b[0m\u001b[0m\n",
      "\u001b[0;32m~/.local/lib/python3.8/site-packages/sklearn/utils/validation.py\u001b[0m in \u001b[0;36mcheck_X_y\u001b[0;34m(X, y, accept_sparse, accept_large_sparse, dtype, order, copy, force_all_finite, ensure_2d, allow_nd, multi_output, ensure_min_samples, ensure_min_features, y_numeric, estimator)\u001b[0m\n\u001b[1;32m    821\u001b[0m                     estimator=estimator)\n\u001b[1;32m    822\u001b[0m     \u001b[0;32mif\u001b[0m \u001b[0mmulti_output\u001b[0m\u001b[0;34m:\u001b[0m\u001b[0;34m\u001b[0m\u001b[0;34m\u001b[0m\u001b[0m\n\u001b[0;32m--> 823\u001b[0;31m         y = check_array(y, accept_sparse='csr', force_all_finite=True,\n\u001b[0m\u001b[1;32m    824\u001b[0m                         ensure_2d=False, dtype=None)\n\u001b[1;32m    825\u001b[0m     \u001b[0;32melse\u001b[0m\u001b[0;34m:\u001b[0m\u001b[0;34m\u001b[0m\u001b[0;34m\u001b[0m\u001b[0m\n",
      "\u001b[0;32m~/.local/lib/python3.8/site-packages/sklearn/utils/validation.py\u001b[0m in \u001b[0;36minner_f\u001b[0;34m(*args, **kwargs)\u001b[0m\n\u001b[1;32m     61\u001b[0m             \u001b[0mextra_args\u001b[0m \u001b[0;34m=\u001b[0m \u001b[0mlen\u001b[0m\u001b[0;34m(\u001b[0m\u001b[0margs\u001b[0m\u001b[0;34m)\u001b[0m \u001b[0;34m-\u001b[0m \u001b[0mlen\u001b[0m\u001b[0;34m(\u001b[0m\u001b[0mall_args\u001b[0m\u001b[0;34m)\u001b[0m\u001b[0;34m\u001b[0m\u001b[0;34m\u001b[0m\u001b[0m\n\u001b[1;32m     62\u001b[0m             \u001b[0;32mif\u001b[0m \u001b[0mextra_args\u001b[0m \u001b[0;34m<=\u001b[0m \u001b[0;36m0\u001b[0m\u001b[0;34m:\u001b[0m\u001b[0;34m\u001b[0m\u001b[0;34m\u001b[0m\u001b[0m\n\u001b[0;32m---> 63\u001b[0;31m                 \u001b[0;32mreturn\u001b[0m \u001b[0mf\u001b[0m\u001b[0;34m(\u001b[0m\u001b[0;34m*\u001b[0m\u001b[0margs\u001b[0m\u001b[0;34m,\u001b[0m \u001b[0;34m**\u001b[0m\u001b[0mkwargs\u001b[0m\u001b[0;34m)\u001b[0m\u001b[0;34m\u001b[0m\u001b[0;34m\u001b[0m\u001b[0m\n\u001b[0m\u001b[1;32m     64\u001b[0m \u001b[0;34m\u001b[0m\u001b[0m\n\u001b[1;32m     65\u001b[0m             \u001b[0;31m# extra_args > 0\u001b[0m\u001b[0;34m\u001b[0m\u001b[0;34m\u001b[0m\u001b[0;34m\u001b[0m\u001b[0m\n",
      "\u001b[0;32m~/.local/lib/python3.8/site-packages/sklearn/utils/validation.py\u001b[0m in \u001b[0;36mcheck_array\u001b[0;34m(array, accept_sparse, accept_large_sparse, dtype, order, copy, force_all_finite, ensure_2d, allow_nd, ensure_min_samples, ensure_min_features, estimator)\u001b[0m\n\u001b[1;32m    661\u001b[0m \u001b[0;34m\u001b[0m\u001b[0m\n\u001b[1;32m    662\u001b[0m         \u001b[0;32mif\u001b[0m \u001b[0mforce_all_finite\u001b[0m\u001b[0;34m:\u001b[0m\u001b[0;34m\u001b[0m\u001b[0;34m\u001b[0m\u001b[0m\n\u001b[0;32m--> 663\u001b[0;31m             _assert_all_finite(array,\n\u001b[0m\u001b[1;32m    664\u001b[0m                                allow_nan=force_all_finite == 'allow-nan')\n\u001b[1;32m    665\u001b[0m \u001b[0;34m\u001b[0m\u001b[0m\n",
      "\u001b[0;32m~/.local/lib/python3.8/site-packages/sklearn/utils/validation.py\u001b[0m in \u001b[0;36m_assert_all_finite\u001b[0;34m(X, allow_nan, msg_dtype)\u001b[0m\n\u001b[1;32m    101\u001b[0m                 not allow_nan and not np.isfinite(X).all()):\n\u001b[1;32m    102\u001b[0m             \u001b[0mtype_err\u001b[0m \u001b[0;34m=\u001b[0m \u001b[0;34m'infinity'\u001b[0m \u001b[0;32mif\u001b[0m \u001b[0mallow_nan\u001b[0m \u001b[0;32melse\u001b[0m \u001b[0;34m'NaN, infinity'\u001b[0m\u001b[0;34m\u001b[0m\u001b[0;34m\u001b[0m\u001b[0m\n\u001b[0;32m--> 103\u001b[0;31m             raise ValueError(\n\u001b[0m\u001b[1;32m    104\u001b[0m                     \u001b[0mmsg_err\u001b[0m\u001b[0;34m.\u001b[0m\u001b[0mformat\u001b[0m\u001b[0;34m\u001b[0m\u001b[0;34m\u001b[0m\u001b[0m\n\u001b[1;32m    105\u001b[0m                     (type_err,\n",
      "\u001b[0;31mValueError\u001b[0m: Input contains NaN, infinity or a value too large for dtype('float64')."
     ]
    }
   ],
   "source": [
    "sol=compute_Sol(1e-5,500.0,30)"
   ]
  },
  {
   "cell_type": "code",
   "execution_count": null,
   "metadata": {},
   "outputs": [],
   "source": []
  },
  {
   "cell_type": "code",
   "execution_count": 3,
   "metadata": {},
   "outputs": [
    {
     "data": {
      "text/plain": [
       "<AxesSubplot:title={'center':'Convergence plot'}, xlabel='Number of calls $n$', ylabel='$\\\\min f(x)$ after $n$ calls'>"
      ]
     },
     "execution_count": 3,
     "metadata": {},
     "output_type": "execute_result"
    },
    {
     "data": {
      "image/png": "[encoded data removed]",
      "text/plain": [
       "<Figure size 432x288 with 1 Axes>"
      ]
     },
     "metadata": {
      "needs_background": "light"
     },
     "output_type": "display_data"
    }
   ],
   "source": [
    "import skopt.plots\n",
    "skopt.plots.plot_convergence(sol.skoptSol)"
   ]
  },
  {
   "cell_type": "code",
   "execution_count": 6,
   "metadata": {},
   "outputs": [
    {
     "data": {
      "text/plain": [
       "([46, 16], -0.7329401612784062)"
      ]
     },
     "execution_count": 6,
     "metadata": {},
     "output_type": "execute_result"
    },
    {
     "data": {
      "image/png": "[encoded data removed]",
      "text/plain": [
       "<Figure size 432x288 with 1 Axes>"
      ]
     },
     "metadata": {
      "needs_background": "light"
     },
     "output_type": "display_data"
    }
   ],
   "source": [
    "skopt.plots.plot_objective_2D(sol.skoptSol,0,1)\n",
    "sol.skoptSol.x,sol.skoptSol.fun"
   ]
  },
  {
   "cell_type": "code",
   "execution_count": 12,
   "metadata": {
    "jupyter": {
     "outputs_hidden": false,
     "source_hidden": false
    },
    "nteract": {
     "transient": {
      "deleting": false
     }
    }
   },
   "outputs": [
    {
     "data": {
      "text/plain": [
       "3.323040682769671"
      ]
     },
     "execution_count": 12,
     "metadata": {},
     "output_type": "execute_result"
    }
   ],
   "source": []
  },
  {
   "cell_type": "code",
   "execution_count": null,
   "metadata": {},
   "outputs": [],
   "source": [
    "# %matplotlib tk\n",
    "# import scipy.interpolate as spi\n",
    "# x=sol.skoptSol.x_iters\n",
    "# y=sol.skoptSol.func_vals\n",
    "# x=np.asarray(x)\n",
    "# y=np.asarray(y)\n",
    "# func=sol.skoptSol.models[-6].predict#spi.Rbf(x[:,0],x[:,1],y,smooth=1e-1)#LinearNDInterpolator(x,y)\n",
    "\n",
    "# plotxArr=np.linspace(0,1,num=250)\n",
    "# plotyArr = np.linspace(0,1, num=250)\n",
    "# image=np.empty((plotxArr.shape[0],plotyArr.shape[0]))\n",
    "# for i in range(plotxArr.shape[0]):\n",
    "#     for j in range(plotyArr.shape[0]):\n",
    "#         image[j,i]=func([[plotxArr[i],plotyArr[j]]])\n",
    "        \n",
    "# image=np.flip(image,axis=0)\n",
    "# plt.imshow(image,extent=[0,50.0,0,50.0])\n",
    "# plt.scatter(x[:,0],x[:,1],s=10,c='r')\n",
    "# plt.show()\n",
    "# x[y.argmin()],x[y.argmax()]"
   ]
  },
  {
   "cell_type": "code",
   "execution_count": null,
   "metadata": {},
   "outputs": [],
   "source": [
    "# lattice=get_Lattice(trackPotential=True)\n",
    "# XOpt=[0.1965124968503868, 0.3353395620895592]\n",
    "# lattice.elList[2].forceFact=XOpt[0]\n",
    "# lattice.elList[4].forceFact = XOpt[1]\n",
    "# T0=100.0*lattice.totalLength/lattice.v0Nominal"
   ]
  },
  {
   "cell_type": "code",
   "execution_count": null,
   "metadata": {},
   "outputs": [],
   "source": [
    "# optimizer=Optimizer(lattice)\n",
    "# swarm =optimizer.initialize_Random_Swarm_At_Combiner_Output(3e-3,5e0,100)\n",
    "# swarm=optimizer.trace_Swarm_Through_Lattice(swarm,5e-6,T0,parallel=True,fastMode=False)"
   ]
  },
  {
   "cell_type": "code",
   "execution_count": null,
   "metadata": {},
   "outputs": [],
   "source": [
    "# for particle in swarm.particles[:]:\n",
    "#     qoArr=particle.qoArr\n",
    "#     qArr=particle.qArr\n",
    "#     EArr=particle.EArr\n",
    "#     TArr=particle.TArr\n",
    "#     VArr=particle.VArr\n",
    "#     if particle.revolutions>1:\n",
    "#         pass\n",
    "#         #lattice.show_Lattice(particleCoords=qArr[-1])\n",
    "#         #plt.plot(qoArr[:,0],TArr)\n",
    "#         #plt.show()\n",
    "#     print(particle.revolutions,particle.currentElIndex)"
   ]
  },
  {
   "cell_type": "code",
   "execution_count": 4,
   "metadata": {},
   "outputs": [
    {
     "data": {
      "text/plain": [
       "          fun: -0.8950995521068944\n",
       "    func_vals: array([-0.48824975, -0.20927163, -0.05794276, -0.02496419, -0.0280472 ,\n",
       "       -0.02705183, -0.03922952, -0.71615936, -0.02399886, -0.04683213,\n",
       "       -0.02336252, -0.03566233, -0.02983639, -0.16460832, -0.02259678,\n",
       "       -0.03348155, -0.13274054, -0.13753579, -0.029502  , -0.02688634,\n",
       "       -0.07184421, -0.50711769, -0.70622311, -0.89509955, -0.87616652,\n",
       "       -0.82106019, -0.88831996, -0.88758681, -0.87892057, -0.88373647,\n",
       "       -0.02448901, -0.88019583, -0.84799399, -0.86545718, -0.02411522,\n",
       "       -0.89414836, -0.02566425, -0.11367788, -0.46541387, -0.02172997,\n",
       "       -0.28447003, -0.04774092])\n",
       "       models: [GaussianProcessRegressor(kernel=1**2 * Matern(length_scale=[1, 1], nu=2.5) + WhiteKernel(noise_level=1),\n",
       "                         n_restarts_optimizer=2, noise='gaussian',\n",
       "                         normalize_y=True, random_state=1105611017), GaussianProcessRegressor(kernel=1**2 * Matern(length_scale=[1, 1], nu=2.5) + WhiteKernel(noise_level=1),\n",
       "                         n_restarts_optimizer=2, noise='gaussian',\n",
       "                         normalize_y=True, random_state=1105611017), GaussianProcessRegressor(kernel=1**2 * Matern(length_scale=[1, 1], nu=2.5) + WhiteKernel(noise_level=1),\n",
       "                         n_restarts_optimizer=2, noise='gaussian',\n",
       "                         normalize_y=True, random_state=1105611017), GaussianProcessRegressor(kernel=1**2 * Matern(length_scale=[1, 1], nu=2.5) + WhiteKernel(noise_level=1),\n",
       "                         n_restarts_optimizer=2, noise='gaussian',\n",
       "                         normalize_y=True, random_state=1105611017), GaussianProcessRegressor(kernel=1**2 * Matern(length_scale=[1, 1], nu=2.5) + WhiteKernel(noise_level=1),\n",
       "                         n_restarts_optimizer=2, noise='gaussian',\n",
       "                         normalize_y=True, random_state=1105611017), GaussianProcessRegressor(kernel=1**2 * Matern(length_scale=[1, 1], nu=2.5) + WhiteKernel(noise_level=1),\n",
       "                         n_restarts_optimizer=2, noise='gaussian',\n",
       "                         normalize_y=True, random_state=1105611017), GaussianProcessRegressor(kernel=1**2 * Matern(length_scale=[1, 1], nu=2.5) + WhiteKernel(noise_level=1),\n",
       "                         n_restarts_optimizer=2, noise='gaussian',\n",
       "                         normalize_y=True, random_state=1105611017), GaussianProcessRegressor(kernel=1**2 * Matern(length_scale=[1, 1], nu=2.5) + WhiteKernel(noise_level=1),\n",
       "                         n_restarts_optimizer=2, noise='gaussian',\n",
       "                         normalize_y=True, random_state=1105611017), GaussianProcessRegressor(kernel=1**2 * Matern(length_scale=[1, 1], nu=2.5) + WhiteKernel(noise_level=1),\n",
       "                         n_restarts_optimizer=2, noise='gaussian',\n",
       "                         normalize_y=True, random_state=1105611017), GaussianProcessRegressor(kernel=1**2 * Matern(length_scale=[1, 1], nu=2.5) + WhiteKernel(noise_level=1),\n",
       "                         n_restarts_optimizer=2, noise='gaussian',\n",
       "                         normalize_y=True, random_state=1105611017), GaussianProcessRegressor(kernel=1**2 * Matern(length_scale=[1, 1], nu=2.5) + WhiteKernel(noise_level=1),\n",
       "                         n_restarts_optimizer=2, noise='gaussian',\n",
       "                         normalize_y=True, random_state=1105611017), GaussianProcessRegressor(kernel=1**2 * Matern(length_scale=[1, 1], nu=2.5) + WhiteKernel(noise_level=1),\n",
       "                         n_restarts_optimizer=2, noise='gaussian',\n",
       "                         normalize_y=True, random_state=1105611017), GaussianProcessRegressor(kernel=1**2 * Matern(length_scale=[1, 1], nu=2.5) + WhiteKernel(noise_level=1),\n",
       "                         n_restarts_optimizer=2, noise='gaussian',\n",
       "                         normalize_y=True, random_state=1105611017), GaussianProcessRegressor(kernel=1**2 * Matern(length_scale=[1, 1], nu=2.5) + WhiteKernel(noise_level=1),\n",
       "                         n_restarts_optimizer=2, noise='gaussian',\n",
       "                         normalize_y=True, random_state=1105611017), GaussianProcessRegressor(kernel=1**2 * Matern(length_scale=[1, 1], nu=2.5) + WhiteKernel(noise_level=1),\n",
       "                         n_restarts_optimizer=2, noise='gaussian',\n",
       "                         normalize_y=True, random_state=1105611017), GaussianProcessRegressor(kernel=1**2 * Matern(length_scale=[1, 1], nu=2.5) + WhiteKernel(noise_level=1),\n",
       "                         n_restarts_optimizer=2, noise='gaussian',\n",
       "                         normalize_y=True, random_state=1105611017), GaussianProcessRegressor(kernel=1**2 * Matern(length_scale=[1, 1], nu=2.5) + WhiteKernel(noise_level=1),\n",
       "                         n_restarts_optimizer=2, noise='gaussian',\n",
       "                         normalize_y=True, random_state=1105611017), GaussianProcessRegressor(kernel=1**2 * Matern(length_scale=[1, 1], nu=2.5) + WhiteKernel(noise_level=1),\n",
       "                         n_restarts_optimizer=2, noise='gaussian',\n",
       "                         normalize_y=True, random_state=1105611017), GaussianProcessRegressor(kernel=1**2 * Matern(length_scale=[1, 1], nu=2.5) + WhiteKernel(noise_level=1),\n",
       "                         n_restarts_optimizer=2, noise='gaussian',\n",
       "                         normalize_y=True, random_state=1105611017), GaussianProcessRegressor(kernel=1**2 * Matern(length_scale=[1, 1], nu=2.5) + WhiteKernel(noise_level=1),\n",
       "                         n_restarts_optimizer=2, noise='gaussian',\n",
       "                         normalize_y=True, random_state=1105611017), GaussianProcessRegressor(kernel=1**2 * Matern(length_scale=[1, 1], nu=2.5) + WhiteKernel(noise_level=1),\n",
       "                         n_restarts_optimizer=2, noise='gaussian',\n",
       "                         normalize_y=True, random_state=1105611017), GaussianProcessRegressor(kernel=1**2 * Matern(length_scale=[1, 1], nu=2.5) + WhiteKernel(noise_level=1),\n",
       "                         n_restarts_optimizer=2, noise='gaussian',\n",
       "                         normalize_y=True, random_state=1105611017), GaussianProcessRegressor(kernel=1**2 * Matern(length_scale=[1, 1], nu=2.5) + WhiteKernel(noise_level=1),\n",
       "                         n_restarts_optimizer=2, noise='gaussian',\n",
       "                         normalize_y=True, random_state=1105611017), GaussianProcessRegressor(kernel=1**2 * Matern(length_scale=[1, 1], nu=2.5) + WhiteKernel(noise_level=1),\n",
       "                         n_restarts_optimizer=2, noise='gaussian',\n",
       "                         normalize_y=True, random_state=1105611017), GaussianProcessRegressor(kernel=1**2 * Matern(length_scale=[1, 1], nu=2.5) + WhiteKernel(noise_level=1),\n",
       "                         n_restarts_optimizer=2, noise='gaussian',\n",
       "                         normalize_y=True, random_state=1105611017), GaussianProcessRegressor(kernel=1**2 * Matern(length_scale=[1, 1], nu=2.5) + WhiteKernel(noise_level=1),\n",
       "                         n_restarts_optimizer=2, noise='gaussian',\n",
       "                         normalize_y=True, random_state=1105611017), GaussianProcessRegressor(kernel=1**2 * Matern(length_scale=[1, 1], nu=2.5) + WhiteKernel(noise_level=1),\n",
       "                         n_restarts_optimizer=2, noise='gaussian',\n",
       "                         normalize_y=True, random_state=1105611017), GaussianProcessRegressor(kernel=1**2 * Matern(length_scale=[1, 1], nu=2.5) + WhiteKernel(noise_level=1),\n",
       "                         n_restarts_optimizer=2, noise='gaussian',\n",
       "                         normalize_y=True, random_state=1105611017)]\n",
       " random_state: RandomState(MT19937) at 0x7FB0A375D140\n",
       "        space: Space([Integer(low=0, high=50, prior='uniform', transform='normalize'),\n",
       "       Integer(low=0, high=50, prior='uniform', transform='normalize')])\n",
       "        specs: {'args': {'self': <skopt.optimizer.optimizer.Optimizer object at 0x7fb05e9b5940>, 'dimensions': [(0, 50), (0, 50)], 'base_estimator': 'gp', 'n_random_starts': None, 'n_initial_points': 15, 'initial_point_generator': 'random', 'n_jobs': -1, 'acq_func': 'EI', 'acq_optimizer': 'sampling', 'random_state': None, 'model_queue_size': None, 'acq_func_kwargs': {'xi': 0.01, 'noise': 0.0002}, 'acq_optimizer_kwargs': None}, 'function': 'Optimizer'}\n",
       "            x: [44, 17]\n",
       "      x_iters: [[26, 16], [18, 23], [10, 33], [0, 1], [20, 2], [45, 41], [3, 40], [32, 20], [36, 9], [2, 47], [37, 41], [16, 0], [48, 37], [25, 38], [23, 12], [10, 0], [11, 20], [38, 34], [29, 8], [43, 49], [10, 26], [39, 24], [42, 14], [44, 17], [50, 17], [45, 19], [47, 16], [46, 17], [41, 17], [50, 16], [49, 0], [45, 16], [50, 15], [40, 18], [50, 28], [45, 17], [0, 9], [19, 50], [50, 22], [0, 15], [28, 29], [0, 50]]"
      ]
     },
     "execution_count": 4,
     "metadata": {},
     "output_type": "execute_result"
    }
   ],
   "source": []
  }
 ],
 "metadata": {
  "kernel_info": {
   "name": "python3"
  },
  "kernelspec": {
   "display_name": "Python 3",
   "language": "python",
   "name": "python3"
  },
  "language_info": {
   "codemirror_mode": {
    "name": "ipython",
    "version": 3
   },
   "file_extension": ".py",
   "mimetype": "text/x-python",
   "name": "python",
   "nbconvert_exporter": "python",
   "pygments_lexer": "ipython3",
   "version": "3.8.5"
  },
  "nteract": {
   "version": "0.28.0"
  }
 },
 "nbformat": 4,
 "nbformat_minor": 1
}
