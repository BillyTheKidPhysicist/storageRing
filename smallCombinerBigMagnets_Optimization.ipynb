{
 "cells": [
  {
   "cell_type": "markdown",
   "metadata": {},
   "source": [
    "Results show that the optimal solution is likely [0.18879063981746194, 0.3420116728566099], with a cost of -41.97\n",
    "\n",
    "repeat with 50% more points, but interrupted early and with an error fixed, shows [0.18963631198709077, 0.32344411874624834] -30.811047097509547 \n",
    "\n",
    "repeated over a smaller area gives ([0.1965124968503868, 0.3353395620895592], -41.63474736733871)"
   ]
  },
  {
   "cell_type": "code",
   "execution_count": 1,
   "metadata": {
    "execution": {
     "iopub.execute_input": "2021-02-16T02:27:16.152Z",
     "iopub.status.busy": "2021-02-16T02:27:16.140Z",
     "iopub.status.idle": "2021-02-16T02:27:26.696Z",
     "shell.execute_reply": "2021-02-16T02:27:26.869Z"
    },
    "jupyter": {
     "outputs_hidden": false,
     "source_hidden": false
    },
    "nteract": {
     "transient": {
      "deleting": false
     }
    }
   },
   "outputs": [],
   "source": [
    "import skopt\n",
    "from smallCombinerBigMagnets import *"
   ]
  },
  {
   "cell_type": "code",
   "execution_count": 2,
   "metadata": {
    "execution": {
     "iopub.execute_input": "2021-02-16T02:27:26.720Z",
     "iopub.status.busy": "2021-02-16T02:27:26.708Z",
     "iopub.status.idle": "2021-02-16T02:27:26.844Z",
     "shell.execute_reply": "2021-02-16T02:27:26.876Z"
    },
    "jupyter": {
     "outputs_hidden": false,
     "source_hidden": false
    },
    "nteract": {
     "transient": {
      "deleting": false
     }
    }
   },
   "outputs": [],
   "source": [
    "#sol=compute_Sol(5e-6,100.0,2000,50)"
   ]
  },
  {
   "cell_type": "code",
   "execution_count": 3,
   "metadata": {
    "execution": {
     "iopub.execute_input": "2021-02-16T02:27:42.743Z",
     "iopub.status.busy": "2021-02-16T02:27:42.734Z"
    },
    "jupyter": {
     "outputs_hidden": false,
     "source_hidden": false
    },
    "nteract": {
     "transient": {
      "deleting": false
     }
    }
   },
   "outputs": [],
   "source": [
    "#import skopt.plots\n",
    "#skopt.plots.plot_convergence(sol)"
   ]
  },
  {
   "cell_type": "code",
   "execution_count": 4,
   "metadata": {
    "jupyter": {
     "outputs_hidden": false,
     "source_hidden": false
    },
    "nteract": {
     "transient": {
      "deleting": false
     }
    }
   },
   "outputs": [],
   "source": [
    "#skopt.plots.plot_objective(sol)"
   ]
  },
  {
   "cell_type": "code",
   "execution_count": 5,
   "metadata": {
    "jupyter": {
     "outputs_hidden": false,
     "source_hidden": false
    },
    "nteract": {
     "transient": {
      "deleting": false
     }
    }
   },
   "outputs": [],
   "source": [
    "#sol.x,sol.fun"
   ]
  },
  {
   "cell_type": "code",
   "execution_count": 6,
   "metadata": {},
   "outputs": [],
   "source": [
    "lattice=get_Lattice(trackPotential=True)\n",
    "XOpt=[0.1965124968503868, 0.3353395620895592]\n",
    "lattice.elList[2].forceFact=XOpt[0]\n",
    "lattice.elList[4].forceFact = XOpt[1]\n",
    "T0=100.0*lattice.totalLength/lattice.v0Nominal"
   ]
  },
  {
   "cell_type": "code",
   "execution_count": 7,
   "metadata": {},
   "outputs": [],
   "source": [
    "optimizer=Optimizer(lattice)\n",
    "swarm =optimizer.initialize_Random_Swarm_At_Combiner_Output(3e-3,5e0,100)\n",
    "swarm=optimizer.trace_Swarm_Through_Lattice(swarm,5e-6,T0,parallel=True,fastMode=False)"
   ]
  },
  {
   "cell_type": "code",
   "execution_count": 12,
   "metadata": {},
   "outputs": [
    {
     "name": "stdout",
     "output_type": "stream",
     "text": [
      "28.98103139434332 1\n",
      "99.9231109466523 5\n",
      "1.0098780436471673 2\n",
      "11.99755381428585 1\n",
      "99.85022732294092 5\n",
      "5.990503982237514 1\n",
      "99.90853796345044 5\n",
      "99.87729442752493 5\n",
      "99.8735956955332 5\n",
      "97.00404508762612 2\n",
      "44.00365688619909 2\n",
      "99.86586424126398 5\n",
      "1.9999869287855965 1\n",
      "48.994192445644465 1\n",
      "67.97411592541707 1\n",
      "8.984307839814674 1\n",
      "99.91088547389693 5\n",
      "99.90228681927361 5\n",
      "1.0036441543552865 2\n",
      "98.61241580505222 5\n",
      "56.00509489003919 2\n",
      "13.976949673040002 1\n",
      "88.97965904727069 1\n",
      "73.99987700780127 1\n",
      "46.513410641563034 4\n",
      "68.99992884283692 1\n",
      "93.00287969859457 2\n",
      "3.9999048209032 1\n",
      "66.97594730875976 1\n",
      "4.978040023933146 1\n",
      "9.53745577776635 5\n",
      "99.90862940660098 5\n",
      "1.0093572865474745 2\n",
      "2.005980163616996 2\n",
      "5.996167582773697 1\n",
      "86.98551659307793 1\n",
      "99.89758981666523 5\n",
      "41.00704116893973 2\n",
      "24.991785435820525 1\n",
      "1.9999495919853645 1\n",
      "3.987651553891079 1\n",
      "8.007542357963079 2\n",
      "51.99996789524301 1\n",
      "69.98797247367837 1\n",
      "97.97403038002467 1\n",
      "5.999149260998043 1\n",
      "4.002473442238548 2\n",
      "1.9918536305924452 1\n",
      "11.985909858364474 1\n",
      "2.9911157044386414 1\n",
      "60.98859063924521 1\n",
      "34.00781925343675 2\n",
      "6.999872416046322 1\n",
      "9.003904669107492 2\n",
      "9.994745646025894 1\n",
      "1.989849155625405 1\n",
      "99.87982787053055 5\n",
      "1.0009114895938673 2\n",
      "1.0076708176261182 2\n",
      "1.9883753286876773 1\n",
      "57.98985889700413 1\n",
      "54.99264020880613 1\n",
      "7.0081892290919825 2\n",
      "5.005720285494421 2\n",
      "1.0033845369952468 2\n",
      "7.010009416656038 2\n",
      "2.0006508928334403 2\n",
      "12.999947004724213 1\n",
      "69.99254801434029 1\n",
      "5.003255065926998 2\n",
      "86.97952794518316 1\n",
      "8.00260571241129 2\n",
      "45.00821708271276 2\n",
      "6.999976178305084 1\n",
      "64.56587577161123 5\n",
      "6.007936324143508 2\n",
      "49.9837128870476 1\n",
      "98.46229479074705 4\n",
      "7.976515702465369 1\n",
      "1.0007811829961941 2\n",
      "3.9897333740028276 1\n",
      "1.9767410274865804 1\n",
      "7.00780053406675 2\n",
      "99.79362709549928 5\n",
      "99.91538214247878 5\n",
      "80.97466858811018 1\n",
      "68.98112058602477 1\n",
      "35.989779354045794 1\n",
      "9.004812241201419 2\n",
      "34.9722933410052 1\n",
      "99.85298399915678 5\n",
      "8.999972727873887 1\n",
      "66.999317269185 1\n",
      "99.86943589381045 5\n",
      "54.98934642552749 1\n",
      "47.99605683728115 1\n",
      "1.0001302032778114 2\n",
      "44.99998661399192 1\n",
      "99.9142394934074 5\n",
      "1.9916570397234612 1\n"
     ]
    }
   ],
   "source": [
    "for particle in swarm.particles[:]:\n",
    "    qoArr=particle.qoArr\n",
    "    qArr=particle.qArr\n",
    "    EArr=particle.EArr\n",
    "    TArr=particle.TArr\n",
    "    VArr=particle.VArr\n",
    "    if particle.revolutions>1:\n",
    "        pass\n",
    "        #lattice.show_Lattice(particleCoords=qArr[-1])\n",
    "        #plt.plot(qoArr[:,0],TArr)\n",
    "        #plt.show()\n",
    "    print(particle.revolutions,particle.currentElIndex)"
   ]
  },
  {
   "cell_type": "code",
   "execution_count": null,
   "metadata": {},
   "outputs": [],
   "source": []
  },
  {
   "cell_type": "code",
   "execution_count": null,
   "metadata": {},
   "outputs": [],
   "source": []
  }
 ],
 "metadata": {
  "kernel_info": {
   "name": "python3"
  },
  "kernelspec": {
   "display_name": "Python 3",
   "language": "python",
   "name": "python3"
  },
  "language_info": {
   "codemirror_mode": {
    "name": "ipython",
    "version": 3
   },
   "file_extension": ".py",
   "mimetype": "text/x-python",
   "name": "python",
   "nbconvert_exporter": "python",
   "pygments_lexer": "ipython3",
   "version": "3.8.5"
  },
  "nteract": {
   "version": "0.28.0"
  }
 },
 "nbformat": 4,
 "nbformat_minor": 1
}
