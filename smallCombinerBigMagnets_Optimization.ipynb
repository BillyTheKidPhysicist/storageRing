{
 "cells": [
  {
   "cell_type": "markdown",
   "metadata": {},
   "source": [
    "Results show that the optimal solution is likely [0.18879063981746194, 0.3420116728566099], with a cost of -41.97\n",
    "\n",
    "repeat with 50% more points, but interrupted early and with an error fixed, shows [0.18963631198709077, 0.32344411874624834] -30.811047097509547 \n",
    "\n",
    "repeated over a smaller area gives ([0.1965124968503868, 0.3353395620895592], -41.63474736733871)\n",
    "\n",
    "Again, with integer axis values gives a position of [.2,.33] and a value of 28 (using smaller total revs)"
   ]
  },
  {
   "cell_type": "code",
   "execution_count": 1,
   "metadata": {
    "execution": {
     "iopub.execute_input": "2021-02-16T02:27:16.152Z",
     "iopub.status.busy": "2021-02-16T02:27:16.140Z",
     "iopub.status.idle": "2021-02-16T02:27:26.696Z",
     "shell.execute_reply": "2021-02-16T02:27:26.869Z"
    },
    "jupyter": {
     "outputs_hidden": false,
     "source_hidden": false
    },
    "nteract": {
     "transient": {
      "deleting": false
     }
    }
   },
   "outputs": [],
   "source": [
    "import skopt\n",
    "from smallCombinerBigMagnets import *"
   ]
  },
  {
   "cell_type": "code",
   "execution_count": 2,
   "metadata": {
    "execution": {
     "iopub.execute_input": "2021-02-16T02:27:26.720Z",
     "iopub.status.busy": "2021-02-16T02:27:26.708Z",
     "iopub.status.idle": "2021-02-16T02:27:26.844Z",
     "shell.execute_reply": "2021-02-16T02:27:26.876Z"
    },
    "jupyter": {
     "outputs_hidden": false,
     "source_hidden": false
    },
    "nteract": {
     "transient": {
      "deleting": false
     }
    }
   },
   "outputs": [
    {
     "name": "stdout",
     "output_type": "stream",
     "text": [
      "here\n",
      "bounds [(0, 50), (0, 50)]\n",
      "starting\n",
      "0\n",
      "[1, 39]\n",
      "0\n",
      "[3, 11]\n",
      "0\n",
      "[45, 16]\n",
      "0\n",
      "[28, 49]\n",
      "0\n",
      "[39, 8]\n",
      "0\n",
      "[16, 38]\n",
      "stable\n",
      "start lattice tracing\n",
      "0.8603898477292279 100.16555378048804\n",
      "done mode matching 349.6965651512146\n",
      "start mode match\n"
     ]
    },
    {
     "name": "stderr",
     "output_type": "stream",
     "text": [
      "/home/billy/.local/lib/python3.8/site-packages/scipy/optimize/_differentialevolution.py:495: UserWarning: differential_evolution: the 'workers' keyword has overridden updating='immediate' to updating='deferred'\n",
      "  warnings.warn(\"differential_evolution: the 'workers' keyword has\"\n"
     ]
    },
    {
     "name": "stdout",
     "output_type": "stream",
     "text": [
      "differential_evolution step 1: f(x)= -9.62126\n",
      "differential_evolution step 2: f(x)= -9.62126\n",
      "differential_evolution step 3: f(x)= -9.62126\n",
      "differential_evolution step 4: f(x)= -9.62126\n",
      "differential_evolution step 5: f(x)= -9.62126\n",
      "optimal injector args: [0.23195147 0.70214774 0.04433231]\n",
      "done mode match 65.06618404388428\n",
      "9.621259058599952\n",
      "9.621259058599952\n",
      "-0.09621259058599951\n",
      "1\n",
      "[23, 0]\n",
      "1\n",
      "[21, 28]\n",
      "stable\n",
      "start lattice tracing\n",
      "0.6820088651324581 99.53270334120556\n",
      "done mode matching 275.07814478874207\n",
      "start mode match\n",
      "differential_evolution step 1: f(x)= -4.01618\n",
      "differential_evolution step 2: f(x)= -4.01618\n",
      "differential_evolution step 3: f(x)= -4.01618\n",
      "differential_evolution step 4: f(x)= -4.01618\n",
      "differential_evolution step 5: f(x)= -4.01618\n",
      "optimal injector args: [0.18262761 1.18617713 0.09629194]\n",
      "done mode match 49.84973216056824\n",
      "4.016182999885876\n",
      "4.016182999885876\n",
      "-0.04016182999885876\n",
      "2\n",
      "[12, 29]\n",
      "2\n",
      "[15, 5]\n",
      "2\n",
      "[45, 0]\n",
      "2\n",
      "[47, 43]\n",
      "2\n",
      "[0, 17]\n",
      "2\n",
      "[44, 20]\n",
      "2\n",
      "[41, 41]\n",
      "2\n",
      "[48, 10]\n",
      "2\n",
      "[16, 26]\n",
      "2\n",
      "[39, 12]\n",
      "2\n",
      "[13, 43]\n",
      "stable\n",
      "start lattice tracing\n",
      "0.7317441329622949 99.58347222984095\n",
      "done mode matching 305.25351333618164\n",
      "start mode match\n"
     ]
    },
    {
     "name": "stderr",
     "output_type": "stream",
     "text": [
      "/home/billy/.local/lib/python3.8/site-packages/scipy/optimize/_differentialevolution.py:495: UserWarning: differential_evolution: the 'workers' keyword has overridden updating='immediate' to updating='deferred'\n",
      "  warnings.warn(\"differential_evolution: the 'workers' keyword has\"\n"
     ]
    },
    {
     "name": "stdout",
     "output_type": "stream",
     "text": [
      "differential_evolution step 1: f(x)= -4.87983\n",
      "differential_evolution step 2: f(x)= -4.87983\n",
      "differential_evolution step 3: f(x)= -4.87983\n",
      "differential_evolution step 4: f(x)= -4.87983\n",
      "differential_evolution step 5: f(x)= -4.98796\n",
      "optimal injector args: [ 0.24697333  1.07623033 -0.0639301 ]\n",
      "done mode match 59.39172720909119\n",
      "4.987961794865561\n",
      "4.987961794865561\n",
      "-0.04987961794865561\n",
      "3\n",
      "[32, 12]\n",
      "3\n",
      "[8, 49]\n",
      "3\n",
      "[9, 10]\n",
      "3\n",
      "[48, 31]\n",
      "3\n",
      "[13, 22]\n",
      "stable\n",
      "start lattice tracing\n",
      "0.8032725863714656 100.30186551681217\n",
      "done mode matching 327.8864059448242\n",
      "start mode match\n"
     ]
    },
    {
     "name": "stderr",
     "output_type": "stream",
     "text": [
      "/home/billy/.local/lib/python3.8/site-packages/scipy/optimize/_differentialevolution.py:495: UserWarning: differential_evolution: the 'workers' keyword has overridden updating='immediate' to updating='deferred'\n",
      "  warnings.warn(\"differential_evolution: the 'workers' keyword has\"\n"
     ]
    },
    {
     "name": "stdout",
     "output_type": "stream",
     "text": [
      "differential_evolution step 1: f(x)= -5.90666\n",
      "differential_evolution step 2: f(x)= -5.90666\n",
      "differential_evolution step 3: f(x)= -5.91085\n",
      "differential_evolution step 4: f(x)= -5.95566\n",
      "differential_evolution step 5: f(x)= -5.95566\n",
      "optimal injector args: [ 0.15533246  1.09219054 -0.076817  ]\n",
      "done mode match 58.67125868797302\n",
      "5.955661524247409\n",
      "5.955661524247409\n",
      "-0.05955661524247409\n",
      "4\n",
      "[23, 36]\n",
      "4\n",
      "[34, 32]\n",
      "4\n",
      "[45, 37]\n",
      "4\n",
      "[1, 4]\n",
      "4\n",
      "[34, 27]\n",
      "4\n",
      "[44, 49]\n",
      "4\n",
      "[38, 18]\n",
      "4\n",
      "[33, 39]\n",
      "4\n",
      "[18, 20]\n",
      "4\n",
      "[37, 36]\n",
      "4\n",
      "[4, 35]\n",
      "4\n",
      "[34, 7]\n",
      "4\n",
      "[29, 7]\n",
      "4\n",
      "[48, 19]\n",
      "4\n",
      "[30, 19]\n",
      "4\n",
      "[22, 17]\n",
      "4\n",
      "[6, 4]\n",
      "4\n",
      "[14, 11]\n",
      "stable\n",
      "start lattice tracing\n",
      "0.5426299312113548 79.00620603889622\n",
      "done mode matching 224.12717962265015\n",
      "start mode match\n"
     ]
    },
    {
     "name": "stderr",
     "output_type": "stream",
     "text": [
      "/home/billy/.local/lib/python3.8/site-packages/scipy/optimize/_differentialevolution.py:495: UserWarning: differential_evolution: the 'workers' keyword has overridden updating='immediate' to updating='deferred'\n",
      "  warnings.warn(\"differential_evolution: the 'workers' keyword has\"\n"
     ]
    },
    {
     "name": "stdout",
     "output_type": "stream",
     "text": [
      "differential_evolution step 1: f(x)= -2.84709\n",
      "differential_evolution step 2: f(x)= -2.84709\n",
      "differential_evolution step 3: f(x)= -2.86129\n",
      "differential_evolution step 4: f(x)= -2.86129\n",
      "differential_evolution step 5: f(x)= -2.86129\n",
      "optimal injector args: [ 0.16442444  0.84553475 -0.066168  ]\n",
      "done mode match 65.60992765426636\n",
      "2.861290806430098\n",
      "2.861290806430098\n",
      "-0.028612908064300984\n",
      "5\n",
      "[3, 44]\n",
      "5\n",
      "[44, 6]\n",
      "5\n",
      "[49, 48]\n",
      "5\n",
      "[19, 42]\n",
      "5\n",
      "[42, 30]\n",
      "5\n",
      "[22, 24]\n",
      "5\n",
      "[4, 0]\n",
      "5\n",
      "[18, 33]\n",
      "stable\n",
      "start lattice tracing\n",
      "0.9159092355005963 100.04148060530011\n",
      "done mode matching 370.69678950309753\n",
      "start mode match\n"
     ]
    },
    {
     "name": "stderr",
     "output_type": "stream",
     "text": [
      "/home/billy/.local/lib/python3.8/site-packages/scipy/optimize/_differentialevolution.py:495: UserWarning: differential_evolution: the 'workers' keyword has overridden updating='immediate' to updating='deferred'\n",
      "  warnings.warn(\"differential_evolution: the 'workers' keyword has\"\n"
     ]
    },
    {
     "name": "stdout",
     "output_type": "stream",
     "text": [
      "differential_evolution step 1: f(x)= -9.9091\n",
      "differential_evolution step 2: f(x)= -9.96872\n",
      "differential_evolution step 3: f(x)= -10.122\n",
      "differential_evolution step 4: f(x)= -10.122\n",
      "differential_evolution step 5: f(x)= -10.122\n",
      "optimal injector args: [ 0.22129845  0.81188204 -0.0678536 ]\n",
      "done mode match 69.91942858695984\n",
      "10.121991657537567\n",
      "10.121991657537567\n",
      "-0.10121991657537568\n",
      "6\n",
      "[28, 2]\n",
      "6\n",
      "[10, 17]\n",
      "6\n",
      "[7, 30]\n",
      "6\n",
      "[10, 1]\n",
      "6\n",
      "[27, 22]\n",
      "6\n",
      "[27, 12]\n",
      "6\n",
      "[18, 48]\n",
      "6\n",
      "[39, 25]\n",
      "6\n",
      "[2, 48]\n",
      "6\n",
      "[22, 4]\n",
      "6\n",
      "[30, 33]\n",
      "6\n",
      "[43, 11]\n",
      "6\n",
      "[16, 0]\n",
      "6\n",
      "[28, 44]\n",
      "6\n",
      "[25, 41]\n",
      "6\n",
      "[48, 26]\n",
      "6\n",
      "[3, 28]\n",
      "6\n",
      "[7, 39]\n",
      "6\n",
      "[17, 14]\n",
      "6\n",
      "[36, 42]\n",
      "6\n",
      "[6, 23]\n",
      "6\n",
      "[34, 22]\n",
      "6\n",
      "[23, 47]\n",
      "6\n",
      "[33, 1]\n",
      "6\n",
      "[22, 9]\n",
      "6\n",
      "[9, 34]\n",
      "6\n",
      "[4, 16]\n",
      "6\n",
      "[40, 3]\n",
      "6\n",
      "[0, 22]\n",
      "6\n",
      "[35, 47]\n",
      "6\n",
      "[49, 4]\n",
      "6\n",
      "[27, 28]\n",
      "stable\n",
      "start lattice tracing\n",
      "0.4540013465385901 43.462191419922405\n",
      "done mode matching 191.49565744400024\n",
      "start mode match\n"
     ]
    },
    {
     "name": "stderr",
     "output_type": "stream",
     "text": [
      "/home/billy/.local/lib/python3.8/site-packages/scipy/optimize/_differentialevolution.py:495: UserWarning: differential_evolution: the 'workers' keyword has overridden updating='immediate' to updating='deferred'\n",
      "  warnings.warn(\"differential_evolution: the 'workers' keyword has\"\n"
     ]
    },
    {
     "name": "stdout",
     "output_type": "stream",
     "text": [
      "differential_evolution step 1: f(x)= -1.6579\n",
      "differential_evolution step 2: f(x)= -1.77491\n",
      "differential_evolution step 3: f(x)= -1.77712\n",
      "differential_evolution step 4: f(x)= -1.79998\n",
      "differential_evolution step 5: f(x)= -1.79998\n",
      "optimal injector args: [ 0.23572485  0.51805841 -0.0908228 ]\n",
      "done mode match 72.39633703231812\n",
      "1.7999835707022445\n",
      "1.7999835707022445\n",
      "-0.017999835707022446\n",
      "7\n",
      "[15, 15]\n",
      "stable\n",
      "start lattice tracing\n",
      "0.544668993636726 100.213912875315\n",
      "done mode matching 238.84495425224304\n",
      "start mode match\n"
     ]
    },
    {
     "name": "stderr",
     "output_type": "stream",
     "text": [
      "/home/billy/.local/lib/python3.8/site-packages/scipy/optimize/_differentialevolution.py:495: UserWarning: differential_evolution: the 'workers' keyword has overridden updating='immediate' to updating='deferred'\n",
      "  warnings.warn(\"differential_evolution: the 'workers' keyword has\"\n"
     ]
    },
    {
     "name": "stdout",
     "output_type": "stream",
     "text": [
      "differential_evolution step 1: f(x)= -2.23318\n",
      "differential_evolution step 2: f(x)= -2.28112\n",
      "differential_evolution step 3: f(x)= -2.28112\n",
      "differential_evolution step 4: f(x)= -2.28112\n",
      "differential_evolution step 5: f(x)= -2.30663\n",
      "optimal injector args: [0.23316564 0.57674591 0.07667216]\n",
      "done mode match 69.57766342163086\n",
      "2.306625331506641\n",
      "2.306625331506641\n",
      "-0.02306625331506641\n",
      "8\n",
      "[41, 48]\n",
      "8\n",
      "[45, 25]\n",
      "8\n",
      "[4, 36]\n",
      "8\n",
      "[44, 30]\n",
      "8\n",
      "[20, 35]\n",
      "stable\n",
      "start lattice tracing\n",
      "0.6111819639037495 100.31981172278854\n",
      "done mode matching 268.68805050849915\n",
      "start mode match\n"
     ]
    },
    {
     "name": "stderr",
     "output_type": "stream",
     "text": [
      "/home/billy/.local/lib/python3.8/site-packages/scipy/optimize/_differentialevolution.py:495: UserWarning: differential_evolution: the 'workers' keyword has overridden updating='immediate' to updating='deferred'\n",
      "  warnings.warn(\"differential_evolution: the 'workers' keyword has\"\n"
     ]
    },
    {
     "name": "stdout",
     "output_type": "stream",
     "text": [
      "differential_evolution step 1: f(x)= -4.35481\n",
      "differential_evolution step 2: f(x)= -4.35481\n",
      "differential_evolution step 3: f(x)= -4.35481\n",
      "differential_evolution step 4: f(x)= -4.35481\n",
      "differential_evolution step 5: f(x)= -4.35481\n",
      "optimal injector args: [0.19067943 1.26978963 0.09743003]\n",
      "done mode match 61.124621868133545\n",
      "4.354812414645777\n",
      "4.354812414645777\n",
      "-0.04354812414645777\n",
      "9\n",
      "[8, 49]\n",
      "9\n",
      "[24, 6]\n",
      "9\n",
      "[14, 37]\n",
      "stable\n",
      "start lattice tracing\n",
      "0.6738133581073589 99.54965296355776\n",
      "done mode matching 274.9889323711395\n",
      "start mode match\n"
     ]
    },
    {
     "name": "stderr",
     "output_type": "stream",
     "text": [
      "/home/billy/.local/lib/python3.8/site-packages/scipy/optimize/_differentialevolution.py:495: UserWarning: differential_evolution: the 'workers' keyword has overridden updating='immediate' to updating='deferred'\n",
      "  warnings.warn(\"differential_evolution: the 'workers' keyword has\"\n"
     ]
    },
    {
     "name": "stdout",
     "output_type": "stream",
     "text": [
      "differential_evolution step 1: f(x)= -4.60765\n",
      "differential_evolution step 2: f(x)= -4.60765\n",
      "differential_evolution step 3: f(x)= -4.68918\n",
      "differential_evolution step 4: f(x)= -4.79212\n",
      "differential_evolution step 5: f(x)= -4.79212\n",
      "optimal injector args: [ 0.24225344  1.07792703 -0.07600401]\n",
      "done mode match 64.28179049491882\n",
      "4.7921175899676856\n",
      "4.7921175899676856\n",
      "-0.04792117589967685\n",
      "10\n",
      "[6, 1]\n",
      "10\n",
      "[49, 36]\n",
      "10\n",
      "[11, 20]\n",
      "10\n",
      "[8, 33]\n",
      "10\n",
      "[18, 29]\n",
      "stable\n",
      "start lattice tracing\n",
      "0.9035272996486575 99.57333266723442\n",
      "done mode matching 371.9525933265686\n",
      "start mode match\n"
     ]
    },
    {
     "name": "stderr",
     "output_type": "stream",
     "text": [
      "/home/billy/.local/lib/python3.8/site-packages/scipy/optimize/_differentialevolution.py:495: UserWarning: differential_evolution: the 'workers' keyword has overridden updating='immediate' to updating='deferred'\n",
      "  warnings.warn(\"differential_evolution: the 'workers' keyword has\"\n"
     ]
    },
    {
     "name": "stdout",
     "output_type": "stream",
     "text": [
      "differential_evolution step 1: f(x)= -6.92557\n",
      "differential_evolution step 2: f(x)= -6.9715\n",
      "differential_evolution step 3: f(x)= -7.04655\n",
      "differential_evolution step 4: f(x)= -7.05943\n",
      "differential_evolution step 5: f(x)= -7.26418\n",
      "optimal injector args: [ 0.24236414  0.99809479 -0.08958838]\n",
      "done mode match 68.85256290435791\n",
      "7.2641753806945335\n",
      "7.2641753806945335\n",
      "-0.07264175380694533\n",
      "11\n",
      "[30, 35]\n",
      "11\n",
      "[49, 30]\n",
      "11\n",
      "[48, 49]\n",
      "11\n",
      "[1, 45]\n",
      "11\n",
      "[6, 8]\n",
      "11\n",
      "[35, 36]\n",
      "11\n",
      "[31, 14]\n",
      "11\n",
      "[47, 18]\n",
      "11\n",
      "[21, 13]\n",
      "11\n",
      "[38, 43]\n",
      "11\n",
      "[45, 11]\n",
      "11\n",
      "[6, 20]\n",
      "11\n",
      "[6, 44]\n",
      "11\n",
      "[28, 21]\n",
      "11\n",
      "[0, 24]\n",
      "11\n",
      "[21, 0]\n",
      "11\n",
      "[36, 17]\n",
      "11\n",
      "[25, 49]\n",
      "11\n",
      "[21, 24]\n",
      "11\n",
      "[19, 9]\n",
      "stable\n",
      "start lattice tracing\n",
      "0.553426227224595 100.25490416393589\n",
      "done mode matching 239.64693593978882\n",
      "start mode match\n"
     ]
    },
    {
     "name": "stderr",
     "output_type": "stream",
     "text": [
      "/home/billy/.local/lib/python3.8/site-packages/scipy/optimize/_differentialevolution.py:495: UserWarning: differential_evolution: the 'workers' keyword has overridden updating='immediate' to updating='deferred'\n",
      "  warnings.warn(\"differential_evolution: the 'workers' keyword has\"\n"
     ]
    },
    {
     "name": "stdout",
     "output_type": "stream",
     "text": [
      "differential_evolution step 1: f(x)= -4.79327\n",
      "differential_evolution step 2: f(x)= -4.84852\n",
      "differential_evolution step 3: f(x)= -4.8883\n",
      "differential_evolution step 4: f(x)= -4.92614\n",
      "differential_evolution step 5: f(x)= -4.92614\n",
      "optimal injector args: [0.21167694 1.44053399 0.07240462]\n",
      "done mode match 59.35904049873352\n",
      "4.926139029391287\n",
      "4.926139029391287\n",
      "-0.04926139029391287\n",
      "12\n",
      "[5, 26]\n",
      "stable\n",
      "start lattice tracing\n",
      "0.5049115823887466 84.01110964365\n",
      "done mode matching 210.68970918655396\n",
      "start mode match\n"
     ]
    },
    {
     "name": "stderr",
     "output_type": "stream",
     "text": [
      "/home/billy/.local/lib/python3.8/site-packages/scipy/optimize/_differentialevolution.py:495: UserWarning: differential_evolution: the 'workers' keyword has overridden updating='immediate' to updating='deferred'\n",
      "  warnings.warn(\"differential_evolution: the 'workers' keyword has\"\n"
     ]
    },
    {
     "name": "stdout",
     "output_type": "stream",
     "text": [
      "differential_evolution step 1: f(x)= -1.89149\n",
      "differential_evolution step 2: f(x)= -2.0211\n",
      "differential_evolution step 3: f(x)= -2.02875\n",
      "differential_evolution step 4: f(x)= -2.02875\n",
      "differential_evolution step 5: f(x)= -2.02875\n",
      "optimal injector args: [ 0.23924662  0.96046715 -0.09122355]\n",
      "done mode match 66.90522718429565\n",
      "2.0287530478897464\n",
      "2.0287530478897464\n",
      "-0.020287530478897465\n",
      "13\n",
      "[11, 4]\n",
      "13\n",
      "[17, 20]\n",
      "13\n",
      "[41, 9]\n",
      "13\n",
      "[40, 36]\n",
      "13\n",
      "[25, 44]\n",
      "13\n",
      "[13, 43]\n",
      "stable\n",
      "start lattice tracing\n",
      "0.7317441329622949 99.58347222984095\n",
      "done mode matching 307.8301281929016\n",
      "start mode match\n"
     ]
    },
    {
     "name": "stderr",
     "output_type": "stream",
     "text": [
      "/home/billy/.local/lib/python3.8/site-packages/scipy/optimize/_differentialevolution.py:495: UserWarning: differential_evolution: the 'workers' keyword has overridden updating='immediate' to updating='deferred'\n",
      "  warnings.warn(\"differential_evolution: the 'workers' keyword has\"\n"
     ]
    },
    {
     "name": "stdout",
     "output_type": "stream",
     "text": [
      "differential_evolution step 1: f(x)= -4.79441\n",
      "differential_evolution step 2: f(x)= -4.80293\n",
      "differential_evolution step 3: f(x)= -4.80293\n",
      "differential_evolution step 4: f(x)= -4.91073\n",
      "differential_evolution step 5: f(x)= -4.91073\n",
      "optimal injector args: [ 0.21847223  1.22398448 -0.01388052]\n",
      "done mode match 60.680217266082764\n",
      "4.910726726426366\n",
      "4.910726726426366\n",
      "-0.049107267264263656\n",
      "14\n",
      "[49, 22]\n",
      "14\n",
      "[0, 34]\n",
      "14\n",
      "[17, 49]\n",
      "14\n",
      "[42, 21]\n",
      "14\n",
      "[34, 49]\n",
      "14\n",
      "[1, 3]\n",
      "14\n",
      "[25, 34]\n",
      "14\n",
      "[43, 0]\n",
      "14\n",
      "[40, 27]\n",
      "14\n",
      "[13, 32]\n",
      "14\n",
      "[44, 40]\n",
      "14\n",
      "[33, 42]\n",
      "14\n",
      "[8, 14]\n",
      "14\n",
      "[27, 26]\n",
      "14\n",
      "[27, 40]\n",
      "14\n",
      "[26, 13]\n",
      "14\n",
      "[48, 44]\n",
      "14\n",
      "[14, 9]\n",
      "14\n",
      "[35, 29]\n",
      "stable\n",
      "start lattice tracing\n",
      "0.375796124822969 45.06669992225679\n",
      "done mode matching 163.79759407043457\n",
      "start mode match\n"
     ]
    },
    {
     "name": "stderr",
     "output_type": "stream",
     "text": [
      "/home/billy/.local/lib/python3.8/site-packages/scipy/optimize/_differentialevolution.py:495: UserWarning: differential_evolution: the 'workers' keyword has overridden updating='immediate' to updating='deferred'\n",
      "  warnings.warn(\"differential_evolution: the 'workers' keyword has\"\n"
     ]
    },
    {
     "name": "stdout",
     "output_type": "stream",
     "text": [
      "differential_evolution step 1: f(x)= -1.62572\n",
      "differential_evolution step 2: f(x)= -1.71636\n",
      "differential_evolution step 3: f(x)= -1.71636\n",
      "differential_evolution step 4: f(x)= -1.71636\n",
      "differential_evolution step 5: f(x)= -1.71636\n",
      "optimal injector args: [0.20500055 1.32481287 0.06997829]\n",
      "done mode match 58.737180948257446\n",
      "1.7163598616872398\n",
      "1.7163598616872398\n",
      "-0.0171635986168724\n",
      "15\n",
      "0.0025\n",
      "[17, 35]\n",
      "stable\n",
      "start lattice tracing\n",
      "0.9376911817698202 100.15493043672544\n",
      "done mode matching 395.5564308166504\n",
      "start mode match\n"
     ]
    },
    {
     "name": "stderr",
     "output_type": "stream",
     "text": [
      "/home/billy/.local/lib/python3.8/site-packages/scipy/optimize/_differentialevolution.py:495: UserWarning: differential_evolution: the 'workers' keyword has overridden updating='immediate' to updating='deferred'\n",
      "  warnings.warn(\"differential_evolution: the 'workers' keyword has\"\n"
     ]
    },
    {
     "name": "stdout",
     "output_type": "stream",
     "text": [
      "differential_evolution step 1: f(x)= -11.3823\n",
      "differential_evolution step 2: f(x)= -11.3823\n",
      "differential_evolution step 3: f(x)= -11.3823\n",
      "differential_evolution step 4: f(x)= -11.3823\n",
      "differential_evolution step 5: f(x)= -11.3823\n",
      "optimal injector args: [0.18001392 0.61714911 0.0467957 ]\n",
      "done mode match 74.79395055770874\n",
      "11.382349665776308\n",
      "11.382349665776308\n",
      "-0.11382349665776308\n",
      "16\n",
      "0.0025\n",
      "[17, 34]\n",
      "stable\n",
      "start lattice tracing\n",
      "0.953256091232233 100.06477876337826\n",
      "done mode matching 404.256224155426\n",
      "start mode match\n"
     ]
    },
    {
     "name": "stderr",
     "output_type": "stream",
     "text": [
      "/home/billy/.local/lib/python3.8/site-packages/scipy/optimize/_differentialevolution.py:495: UserWarning: differential_evolution: the 'workers' keyword has overridden updating='immediate' to updating='deferred'\n",
      "  warnings.warn(\"differential_evolution: the 'workers' keyword has\"\n"
     ]
    },
    {
     "name": "stdout",
     "output_type": "stream",
     "text": [
      "differential_evolution step 1: f(x)= -10.8769\n",
      "differential_evolution step 2: f(x)= -11.1098\n",
      "differential_evolution step 3: f(x)= -11.1098\n",
      "differential_evolution step 4: f(x)= -11.1098\n",
      "differential_evolution step 5: f(x)= -11.1852\n",
      "optimal injector args: [ 0.24394411  0.95926788 -0.09347044]\n",
      "done mode match 70.03620600700378\n",
      "11.185218901336585\n",
      "11.185218901336585\n",
      "-0.11185218901336585\n",
      "17\n",
      "0.0025\n",
      "[16, 35]\n",
      "stable\n",
      "start lattice tracing\n",
      "0.91364423313265 99.98823071884428\n",
      "done mode matching 380.88071751594543\n",
      "start mode match\n"
     ]
    },
    {
     "name": "stderr",
     "output_type": "stream",
     "text": [
      "/home/billy/.local/lib/python3.8/site-packages/scipy/optimize/_differentialevolution.py:495: UserWarning: differential_evolution: the 'workers' keyword has overridden updating='immediate' to updating='deferred'\n",
      "  warnings.warn(\"differential_evolution: the 'workers' keyword has\"\n"
     ]
    },
    {
     "name": "stdout",
     "output_type": "stream",
     "text": [
      "differential_evolution step 1: f(x)= -10.0432\n",
      "differential_evolution step 2: f(x)= -10.0432\n",
      "differential_evolution step 3: f(x)= -10.0432\n",
      "differential_evolution step 4: f(x)= -10.0432\n",
      "differential_evolution step 5: f(x)= -10.0432\n",
      "optimal injector args: [0.17294429 0.60290089 0.06083868]\n",
      "done mode match 74.50513577461243\n",
      "10.04322139016101\n",
      "10.04322139016101\n",
      "-0.1004322139016101\n",
      "18\n",
      "0.0025\n",
      "[17, 36]\n",
      "stable\n",
      "start lattice tracing\n",
      "0.8947372568864567 100.04771027407457\n",
      "done mode matching 371.51805663108826\n",
      "start mode match\n"
     ]
    },
    {
     "name": "stderr",
     "output_type": "stream",
     "text": [
      "/home/billy/.local/lib/python3.8/site-packages/scipy/optimize/_differentialevolution.py:495: UserWarning: differential_evolution: the 'workers' keyword has overridden updating='immediate' to updating='deferred'\n",
      "  warnings.warn(\"differential_evolution: the 'workers' keyword has\"\n"
     ]
    },
    {
     "name": "stdout",
     "output_type": "stream",
     "text": [
      "differential_evolution step 1: f(x)= -10.0779\n",
      "differential_evolution step 2: f(x)= -10.2055\n",
      "differential_evolution step 3: f(x)= -10.315\n",
      "differential_evolution step 4: f(x)= -10.5245\n",
      "differential_evolution step 5: f(x)= -10.5245\n",
      "optimal injector args: [0.18289547 0.63575682 0.05589326]\n",
      "done mode match 75.3757700920105\n",
      "10.524459473663097\n",
      "10.524459473663097\n",
      "-0.10524459473663096\n",
      "19\n",
      "DUPLICATE POINT [17, 34]\n",
      "inside func {'xi': 0.005, 'noise': 0.0001}\n"
     ]
    },
    {
     "name": "stderr",
     "output_type": "stream",
     "text": [
      "/home/billy/.local/lib/python3.8/site-packages/skopt/optimizer/optimizer.py:450: UserWarning: The objective has been evaluated at this point before.\n",
      "  warnings.warn(\"The objective has been evaluated \"\n"
     ]
    },
    {
     "name": "stdout",
     "output_type": "stream",
     "text": [
      "NEW POINT [17, 33]\n",
      "0.005\n",
      "[17, 33]\n",
      "stable\n",
      "start lattice tracing\n",
      "0.9987721891863734 99.96975849948437\n",
      "done mode matching 419.58375239372253\n",
      "start mode match\n"
     ]
    },
    {
     "name": "stderr",
     "output_type": "stream",
     "text": [
      "/home/billy/.local/lib/python3.8/site-packages/scipy/optimize/_differentialevolution.py:495: UserWarning: differential_evolution: the 'workers' keyword has overridden updating='immediate' to updating='deferred'\n",
      "  warnings.warn(\"differential_evolution: the 'workers' keyword has\"\n"
     ]
    },
    {
     "name": "stdout",
     "output_type": "stream",
     "text": [
      "differential_evolution step 1: f(x)= -12.2182\n",
      "differential_evolution step 2: f(x)= -12.3518\n",
      "differential_evolution step 3: f(x)= -12.6229\n",
      "differential_evolution step 4: f(x)= -12.6229\n",
      "differential_evolution step 5: f(x)= -12.6229\n",
      "optimal injector args: [ 0.16402954  0.77852187 -0.07967587]\n",
      "done mode match 73.71574783325195\n",
      "12.622924097413092\n",
      "12.622924097413092\n",
      "-0.1262292409741309\n",
      "20\n",
      "0.005\n",
      "[17, 32]\n",
      "stable\n",
      "start lattice tracing\n",
      "0.9908520557242898 99.89061348522696\n",
      "done mode matching 419.9198508262634\n",
      "start mode match\n"
     ]
    },
    {
     "name": "stderr",
     "output_type": "stream",
     "text": [
      "/home/billy/.local/lib/python3.8/site-packages/scipy/optimize/_differentialevolution.py:495: UserWarning: differential_evolution: the 'workers' keyword has overridden updating='immediate' to updating='deferred'\n",
      "  warnings.warn(\"differential_evolution: the 'workers' keyword has\"\n"
     ]
    },
    {
     "name": "stdout",
     "output_type": "stream",
     "text": [
      "differential_evolution step 1: f(x)= -12.6045\n",
      "differential_evolution step 2: f(x)= -12.6045\n",
      "differential_evolution step 3: f(x)= -12.6045\n",
      "differential_evolution step 4: f(x)= -12.6045\n",
      "differential_evolution step 5: f(x)= -12.6045\n",
      "optimal injector args: [ 0.16366378  0.74509816 -0.05398748]\n",
      "done mode match 74.13562226295471\n",
      "12.60448497896562\n",
      "12.60448497896562\n",
      "-0.12604484978965622\n",
      "21\n",
      "DUPLICATE POINT [17, 32]\n",
      "inside func {'xi': 0.01, 'noise': 0.0001}\n"
     ]
    },
    {
     "name": "stderr",
     "output_type": "stream",
     "text": [
      "/home/billy/.local/lib/python3.8/site-packages/skopt/optimizer/optimizer.py:450: UserWarning: The objective has been evaluated at this point before.\n",
      "  warnings.warn(\"The objective has been evaluated \"\n"
     ]
    },
    {
     "name": "stdout",
     "output_type": "stream",
     "text": [
      "NEW POINT [16, 32]\n",
      "0.01\n",
      "[16, 32]\n",
      "stable\n",
      "start lattice tracing\n",
      "0.8800851343918551 99.74923712445928\n",
      "done mode matching 375.0838158130646\n",
      "start mode match\n"
     ]
    },
    {
     "name": "stderr",
     "output_type": "stream",
     "text": [
      "/home/billy/.local/lib/python3.8/site-packages/scipy/optimize/_differentialevolution.py:495: UserWarning: differential_evolution: the 'workers' keyword has overridden updating='immediate' to updating='deferred'\n",
      "  warnings.warn(\"differential_evolution: the 'workers' keyword has\"\n"
     ]
    },
    {
     "name": "stdout",
     "output_type": "stream",
     "text": [
      "differential_evolution step 1: f(x)= -8.79667\n",
      "differential_evolution step 2: f(x)= -9.07436\n",
      "differential_evolution step 3: f(x)= -9.07436\n",
      "differential_evolution step 4: f(x)= -9.24876\n",
      "differential_evolution step 5: f(x)= -9.24876\n",
      "optimal injector args: [ 0.15749322  0.70908284 -0.03691156]\n",
      "done mode match 73.14513492584229\n",
      "9.248764378930362\n",
      "9.248764378930362\n",
      "-0.09248764378930363\n",
      "22\n",
      "0.01\n",
      "[13, 50]\n",
      "stable\n",
      "start lattice tracing\n",
      "1.0518944903688157 100.06297406907872\n",
      "done mode matching 435.5195541381836\n",
      "start mode match\n"
     ]
    },
    {
     "name": "stderr",
     "output_type": "stream",
     "text": [
      "/home/billy/.local/lib/python3.8/site-packages/scipy/optimize/_differentialevolution.py:495: UserWarning: differential_evolution: the 'workers' keyword has overridden updating='immediate' to updating='deferred'\n",
      "  warnings.warn(\"differential_evolution: the 'workers' keyword has\"\n"
     ]
    },
    {
     "name": "stdout",
     "output_type": "stream",
     "text": [
      "differential_evolution step 1: f(x)= -9.87045\n",
      "differential_evolution step 2: f(x)= -9.92594\n",
      "differential_evolution step 3: f(x)= -10.0483\n",
      "differential_evolution step 4: f(x)= -10.0483\n",
      "differential_evolution step 5: f(x)= -10.0483\n",
      "optimal injector args: [0.20990045 0.65787519 0.07167343]\n",
      "done mode match 74.80501770973206\n",
      "10.048274737052246\n",
      "10.048274737052246\n",
      "-0.10048274737052247\n",
      "23\n",
      "0.01\n",
      "[12, 50]\n",
      "stable\n",
      "start lattice tracing\n",
      "1.0104182379524103 99.84377943168869\n",
      "done mode matching 426.40841937065125\n",
      "start mode match\n"
     ]
    },
    {
     "name": "stderr",
     "output_type": "stream",
     "text": [
      "/home/billy/.local/lib/python3.8/site-packages/scipy/optimize/_differentialevolution.py:495: UserWarning: differential_evolution: the 'workers' keyword has overridden updating='immediate' to updating='deferred'\n",
      "  warnings.warn(\"differential_evolution: the 'workers' keyword has\"\n"
     ]
    },
    {
     "name": "stdout",
     "output_type": "stream",
     "text": [
      "differential_evolution step 1: f(x)= -9.01932\n",
      "differential_evolution step 2: f(x)= -9.01932\n",
      "differential_evolution step 3: f(x)= -9.10149\n",
      "differential_evolution step 4: f(x)= -9.10149\n",
      "differential_evolution step 5: f(x)= -9.10149\n",
      "optimal injector args: [ 0.1663543   0.7276631  -0.04384441]\n",
      "done mode match 75.41888952255249\n",
      "9.101492096259275\n",
      "9.101492096259275\n",
      "-0.09101492096259274\n",
      "24\n",
      "0.01\n",
      "[14, 48]\n",
      "stable\n",
      "start lattice tracing\n",
      "1.0017583034764665 100.21330914312107\n",
      "done mode matching 424.21980261802673\n",
      "start mode match\n"
     ]
    },
    {
     "name": "stderr",
     "output_type": "stream",
     "text": [
      "/home/billy/.local/lib/python3.8/site-packages/scipy/optimize/_differentialevolution.py:495: UserWarning: differential_evolution: the 'workers' keyword has overridden updating='immediate' to updating='deferred'\n",
      "  warnings.warn(\"differential_evolution: the 'workers' keyword has\"\n"
     ]
    },
    {
     "name": "stdout",
     "output_type": "stream",
     "text": [
      "differential_evolution step 1: f(x)= -8.91853\n",
      "differential_evolution step 2: f(x)= -8.91853\n",
      "differential_evolution step 3: f(x)= -9.12984\n",
      "differential_evolution step 4: f(x)= -9.12984\n",
      "differential_evolution step 5: f(x)= -9.12984\n",
      "optimal injector args: [ 0.20427276  0.98738221 -0.085086  ]\n",
      "done mode match 69.47726607322693\n",
      "9.129844701724993\n",
      "9.129844701724993\n",
      "-0.09129844701724994\n",
      "25\n",
      "0.0025\n",
      "[15, 43]\n",
      "stable\n",
      "start lattice tracing\n",
      "0.8627238122779182 100.20075292079433\n",
      "done mode matching 366.6694712638855\n",
      "start mode match\n"
     ]
    },
    {
     "name": "stderr",
     "output_type": "stream",
     "text": [
      "/home/billy/.local/lib/python3.8/site-packages/scipy/optimize/_differentialevolution.py:495: UserWarning: differential_evolution: the 'workers' keyword has overridden updating='immediate' to updating='deferred'\n",
      "  warnings.warn(\"differential_evolution: the 'workers' keyword has\"\n"
     ]
    },
    {
     "name": "stdout",
     "output_type": "stream",
     "text": [
      "differential_evolution step 1: f(x)= -8.25159\n",
      "differential_evolution step 2: f(x)= -8.30291\n",
      "differential_evolution step 3: f(x)= -8.30291\n",
      "differential_evolution step 4: f(x)= -8.42115\n",
      "differential_evolution step 5: f(x)= -8.42115\n",
      "optimal injector args: [ 0.21390913  0.87191988 -0.07831576]\n",
      "done mode match 72.96091318130493\n",
      "8.421151838318726\n",
      "8.421151838318726\n",
      "-0.08421151838318726\n",
      "26\n",
      "DUPLICATE POINT [17, 33]\n",
      "inside func {'xi': 0.005, 'noise': 0.0001}\n"
     ]
    },
    {
     "name": "stderr",
     "output_type": "stream",
     "text": [
      "/home/billy/.local/lib/python3.8/site-packages/skopt/optimizer/optimizer.py:450: UserWarning: The objective has been evaluated at this point before.\n",
      "  warnings.warn(\"The objective has been evaluated \"\n",
      "/home/billy/.local/lib/python3.8/site-packages/skopt/optimizer/optimizer.py:450: UserWarning: The objective has been evaluated at this point before.\n",
      "  warnings.warn(\"The objective has been evaluated \"\n"
     ]
    },
    {
     "name": "stdout",
     "output_type": "stream",
     "text": [
      "NEW POINT [17, 33]\n",
      "DUPLICATE POINT [17, 33]\n",
      "inside func {'xi': 0.01, 'noise': 0.0001}\n",
      "NEW POINT [37, 0]\n",
      "0.01\n",
      "[37, 0]\n",
      "26\n",
      "0.01\n",
      "[11, 46]\n",
      "26\n",
      "0.01\n",
      "[31, 50]\n",
      "26\n",
      "DUPLICATE POINT [17, 32]\n",
      "inside func {'xi': 0.02, 'noise': 0.0001}\n"
     ]
    },
    {
     "name": "stderr",
     "output_type": "stream",
     "text": [
      "/home/billy/.local/lib/python3.8/site-packages/skopt/optimizer/optimizer.py:450: UserWarning: The objective has been evaluated at this point before.\n",
      "  warnings.warn(\"The objective has been evaluated \"\n"
     ]
    },
    {
     "name": "stdout",
     "output_type": "stream",
     "text": [
      "NEW POINT [50, 13]\n",
      "0.02\n",
      "[50, 13]\n",
      "26\n",
      "0.02\n",
      "[18, 3]\n",
      "26\n",
      "0.02\n",
      "[38, 50]\n",
      "26\n",
      "0.02\n",
      "[13, 0]\n",
      "26\n",
      "0.0025\n",
      "[5, 50]\n",
      "26\n",
      "DUPLICATE POINT [17, 33]\n",
      "inside func {'xi': 0.005, 'noise': 0.0001}\n"
     ]
    },
    {
     "name": "stderr",
     "output_type": "stream",
     "text": [
      "/home/billy/.local/lib/python3.8/site-packages/skopt/optimizer/optimizer.py:450: UserWarning: The objective has been evaluated at this point before.\n",
      "  warnings.warn(\"The objective has been evaluated \"\n",
      "/home/billy/.local/lib/python3.8/site-packages/skopt/optimizer/optimizer.py:450: UserWarning: The objective has been evaluated at this point before.\n",
      "  warnings.warn(\"The objective has been evaluated \"\n"
     ]
    },
    {
     "name": "stdout",
     "output_type": "stream",
     "text": [
      "NEW POINT [17, 32]\n",
      "DUPLICATE POINT [17, 32]\n",
      "inside func {'xi': 0.01, 'noise': 0.0001}\n"
     ]
    },
    {
     "name": "stderr",
     "output_type": "stream",
     "text": [
      "/home/billy/.local/lib/python3.8/site-packages/skopt/optimizer/optimizer.py:450: UserWarning: The objective has been evaluated at this point before.\n",
      "  warnings.warn(\"The objective has been evaluated \"\n"
     ]
    },
    {
     "name": "stdout",
     "output_type": "stream",
     "text": [
      "NEW POINT [17, 32]\n",
      "DUPLICATE POINT [17, 32]\n",
      "inside func {'xi': 0.02, 'noise': 0.0001}\n",
      "NEW POINT [15, 50]\n",
      "0.02\n",
      "[15, 50]\n",
      "stable\n",
      "start lattice tracing\n",
      "0.9270626842650778 100.50478230984592\n",
      "done mode matching 383.890949010849\n",
      "start mode match\n"
     ]
    },
    {
     "name": "stderr",
     "output_type": "stream",
     "text": [
      "/home/billy/.local/lib/python3.8/site-packages/scipy/optimize/_differentialevolution.py:495: UserWarning: differential_evolution: the 'workers' keyword has overridden updating='immediate' to updating='deferred'\n",
      "  warnings.warn(\"differential_evolution: the 'workers' keyword has\"\n"
     ]
    },
    {
     "name": "stdout",
     "output_type": "stream",
     "text": [
      "differential_evolution step 1: f(x)= -5.95284\n",
      "differential_evolution step 2: f(x)= -6.17337\n",
      "differential_evolution step 3: f(x)= -6.18523\n",
      "differential_evolution step 4: f(x)= -6.20714\n",
      "differential_evolution step 5: f(x)= -6.22621\n",
      "optimal injector args: [0.19050043 0.51320407 0.09296786]\n",
      "done mode match 76.23163390159607\n",
      "6.226211068672035\n",
      "6.226211068672035\n",
      "-0.06226211068672035\n",
      "27\n",
      "0.02\n",
      "[30, 0]\n",
      "27\n",
      "0.02\n",
      "[0, 50]\n",
      "27\n",
      "0.02\n",
      "[21, 50]\n",
      "27\n",
      "0.0025\n",
      "[26, 0]\n",
      "27\n",
      "DUPLICATE POINT [17, 33]\n",
      "inside func {'xi': 0.005, 'noise': 0.0001}\n"
     ]
    },
    {
     "name": "stderr",
     "output_type": "stream",
     "text": [
      "/home/billy/.local/lib/python3.8/site-packages/skopt/optimizer/optimizer.py:450: UserWarning: The objective has been evaluated at this point before.\n",
      "  warnings.warn(\"The objective has been evaluated \"\n",
      "/home/billy/.local/lib/python3.8/site-packages/skopt/optimizer/optimizer.py:450: UserWarning: The objective has been evaluated at this point before.\n",
      "  warnings.warn(\"The objective has been evaluated \"\n"
     ]
    },
    {
     "name": "stdout",
     "output_type": "stream",
     "text": [
      "NEW POINT [17, 32]\n",
      "DUPLICATE POINT [17, 32]\n",
      "inside func {'xi': 0.01, 'noise': 0.0001}\n"
     ]
    },
    {
     "name": "stderr",
     "output_type": "stream",
     "text": [
      "/home/billy/.local/lib/python3.8/site-packages/skopt/optimizer/optimizer.py:450: UserWarning: The objective has been evaluated at this point before.\n",
      "  warnings.warn(\"The objective has been evaluated \"\n"
     ]
    },
    {
     "name": "stdout",
     "output_type": "stream",
     "text": [
      "NEW POINT [17, 32]\n",
      "DUPLICATE POINT [17, 32]\n",
      "inside func {'xi': 0.02, 'noise': 0.0001}\n",
      "NEW POINT [13, 16]\n",
      "0.02\n",
      "[13, 16]\n",
      "stable\n",
      "start lattice tracing\n",
      "0.5707851718042009 99.61782909387803\n",
      "done mode matching 244.12431859970093\n",
      "start mode match\n"
     ]
    },
    {
     "name": "stderr",
     "output_type": "stream",
     "text": [
      "/home/billy/.local/lib/python3.8/site-packages/scipy/optimize/_differentialevolution.py:495: UserWarning: differential_evolution: the 'workers' keyword has overridden updating='immediate' to updating='deferred'\n",
      "  warnings.warn(\"differential_evolution: the 'workers' keyword has\"\n"
     ]
    },
    {
     "name": "stdout",
     "output_type": "stream",
     "text": [
      "differential_evolution step 1: f(x)= -3.21105\n",
      "differential_evolution step 2: f(x)= -3.21105\n",
      "differential_evolution step 3: f(x)= -3.21105\n",
      "differential_evolution step 4: f(x)= -3.22167\n",
      "differential_evolution step 5: f(x)= -3.22167\n",
      "optimal injector args: [ 0.20591531  0.8628457  -0.07313801]\n",
      "done mode match 70.57772946357727\n",
      "3.221667230655988\n",
      "3.221667230655988\n",
      "-0.03221667230655988\n",
      "28\n",
      "0.02\n",
      "[50, 0]\n",
      "28\n",
      "0.02\n",
      "[17, 41]\n",
      "stable\n",
      "start lattice tracing\n",
      "0.7178011274525694 100.48437485954345\n",
      "done mode matching 304.9253225326538\n",
      "start mode match\n"
     ]
    },
    {
     "name": "stderr",
     "output_type": "stream",
     "text": [
      "/home/billy/.local/lib/python3.8/site-packages/scipy/optimize/_differentialevolution.py:495: UserWarning: differential_evolution: the 'workers' keyword has overridden updating='immediate' to updating='deferred'\n",
      "  warnings.warn(\"differential_evolution: the 'workers' keyword has\"\n"
     ]
    },
    {
     "name": "stdout",
     "output_type": "stream",
     "text": [
      "differential_evolution step 1: f(x)= -5.69709\n",
      "differential_evolution step 2: f(x)= -5.69709\n",
      "differential_evolution step 3: f(x)= -5.88684\n",
      "differential_evolution step 4: f(x)= -5.90811\n",
      "differential_evolution step 5: f(x)= -5.90826\n",
      "optimal injector args: [0.16758554 0.55593418 0.03593226]\n",
      "done mode match 73.82134652137756\n",
      "5.908261609925256\n",
      "5.908261609925256\n",
      "-0.059082616099252555\n",
      "29\n",
      "0.02\n",
      "[0, 10]\n",
      "29\n",
      "0.0025\n",
      "[31, 26]\n",
      "29\n",
      "DUPLICATE POINT [17, 33]\n",
      "inside func {'xi': 0.005, 'noise': 0.0001}\n"
     ]
    },
    {
     "name": "stderr",
     "output_type": "stream",
     "text": [
      "/home/billy/.local/lib/python3.8/site-packages/skopt/optimizer/optimizer.py:450: UserWarning: The objective has been evaluated at this point before.\n",
      "  warnings.warn(\"The objective has been evaluated \"\n",
      "/home/billy/.local/lib/python3.8/site-packages/skopt/optimizer/optimizer.py:450: UserWarning: The objective has been evaluated at this point before.\n",
      "  warnings.warn(\"The objective has been evaluated \"\n"
     ]
    },
    {
     "name": "stdout",
     "output_type": "stream",
     "text": [
      "NEW POINT [17, 33]\n",
      "DUPLICATE POINT [17, 33]\n",
      "inside func {'xi': 0.01, 'noise': 0.0001}\n"
     ]
    },
    {
     "name": "stderr",
     "output_type": "stream",
     "text": [
      "/home/billy/.local/lib/python3.8/site-packages/skopt/optimizer/optimizer.py:450: UserWarning: The objective has been evaluated at this point before.\n",
      "  warnings.warn(\"The objective has been evaluated \"\n"
     ]
    },
    {
     "name": "stdout",
     "output_type": "stream",
     "text": [
      "NEW POINT [17, 32]\n",
      "DUPLICATE POINT [17, 32]\n",
      "inside func {'xi': 0.02, 'noise': 0.0001}\n",
      "NEW POINT [24, 27]\n",
      "0.02\n",
      "[24, 27]\n",
      "29\n",
      "0.02\n",
      "[9, 25]\n",
      "stable\n",
      "start lattice tracing\n",
      "0.8458189124055838 99.97301955644981\n",
      "done mode matching 364.4130160808563\n",
      "start mode match\n"
     ]
    },
    {
     "name": "stderr",
     "output_type": "stream",
     "text": [
      "/home/billy/.local/lib/python3.8/site-packages/scipy/optimize/_differentialevolution.py:495: UserWarning: differential_evolution: the 'workers' keyword has overridden updating='immediate' to updating='deferred'\n",
      "  warnings.warn(\"differential_evolution: the 'workers' keyword has\"\n"
     ]
    },
    {
     "name": "stdout",
     "output_type": "stream",
     "text": [
      "differential_evolution step 1: f(x)= -6.18338\n",
      "differential_evolution step 2: f(x)= -6.28673\n",
      "differential_evolution step 3: f(x)= -6.33009\n",
      "differential_evolution step 4: f(x)= -6.33009\n",
      "differential_evolution step 5: f(x)= -6.58566\n",
      "optimal injector args: [ 0.17569607  1.08853993 -0.03802678]\n",
      "done mode match 65.50834083557129\n",
      "6.585664856054354\n",
      "6.585664856054354\n",
      "-0.06585664856054355\n",
      "12111.177016973495\n"
     ]
    }
   ],
   "source": [
    "sol=compute_Sol(1e-5,100.0,30)"
   ]
  },
  {
   "cell_type": "code",
   "execution_count": 3,
   "metadata": {},
   "outputs": [
    {
     "data": {
      "text/plain": [
       "<AxesSubplot:title={'center':'Convergence plot'}, xlabel='Number of calls $n$', ylabel='$\\\\min f(x)$ after $n$ calls'>"
      ]
     },
     "execution_count": 3,
     "metadata": {},
     "output_type": "execute_result"
    },
    {
     "data": {
      "image/png": "[encoded data removed]",
      "text/plain": [
       "<Figure size 432x288 with 1 Axes>"
      ]
     },
     "metadata": {
      "needs_background": "light"
     },
     "output_type": "display_data"
    }
   ],
   "source": [
    "import skopt.plots\n",
    "skopt.plots.plot_convergence(sol.skoptSol)"
   ]
  },
  {
   "cell_type": "code",
   "execution_count": 10,
   "metadata": {},
   "outputs": [
    {
     "data": {
      "text/plain": [
       "<AxesSubplot:>"
      ]
     },
     "execution_count": 10,
     "metadata": {},
     "output_type": "execute_result"
    },
    {
     "data": {
      "image/png": "[encoded data removed]",
      "text/plain": [
       "<Figure size 432x288 with 1 Axes>"
      ]
     },
     "metadata": {
      "needs_background": "light"
     },
     "output_type": "display_data"
    }
   ],
   "source": [
    "skopt.plots.plot_objective_2D(sol.skoptSol,0,1)"
   ]
  },
  {
   "cell_type": "code",
   "execution_count": 9,
   "metadata": {
    "jupyter": {
     "outputs_hidden": false,
     "source_hidden": false
    },
    "nteract": {
     "transient": {
      "deleting": false
     }
    }
   },
   "outputs": [
    {
     "data": {
      "text/plain": [
       "-0.1262292409741309"
      ]
     },
     "execution_count": 9,
     "metadata": {},
     "output_type": "execute_result"
    }
   ],
   "source": [
    "sol.skoptSol.fun"
   ]
  },
  {
   "cell_type": "code",
   "execution_count": null,
   "metadata": {},
   "outputs": [],
   "source": [
    "# %matplotlib tk\n",
    "# import scipy.interpolate as spi\n",
    "# x=sol.skoptSol.x_iters\n",
    "# y=sol.skoptSol.func_vals\n",
    "# x=np.asarray(x)\n",
    "# y=np.asarray(y)\n",
    "# func=sol.skoptSol.models[-6].predict#spi.Rbf(x[:,0],x[:,1],y,smooth=1e-1)#LinearNDInterpolator(x,y)\n",
    "\n",
    "# plotxArr=np.linspace(0,1,num=250)\n",
    "# plotyArr = np.linspace(0,1, num=250)\n",
    "# image=np.empty((plotxArr.shape[0],plotyArr.shape[0]))\n",
    "# for i in range(plotxArr.shape[0]):\n",
    "#     for j in range(plotyArr.shape[0]):\n",
    "#         image[j,i]=func([[plotxArr[i],plotyArr[j]]])\n",
    "        \n",
    "# image=np.flip(image,axis=0)\n",
    "# plt.imshow(image,extent=[0,50.0,0,50.0])\n",
    "# plt.scatter(x[:,0],x[:,1],s=10,c='r')\n",
    "# plt.show()\n",
    "# x[y.argmin()],x[y.argmax()]"
   ]
  },
  {
   "cell_type": "code",
   "execution_count": null,
   "metadata": {},
   "outputs": [],
   "source": [
    "# lattice=get_Lattice(trackPotential=True)\n",
    "# XOpt=[0.1965124968503868, 0.3353395620895592]\n",
    "# lattice.elList[2].forceFact=XOpt[0]\n",
    "# lattice.elList[4].forceFact = XOpt[1]\n",
    "# T0=100.0*lattice.totalLength/lattice.v0Nominal"
   ]
  },
  {
   "cell_type": "code",
   "execution_count": null,
   "metadata": {},
   "outputs": [],
   "source": [
    "# optimizer=Optimizer(lattice)\n",
    "# swarm =optimizer.initialize_Random_Swarm_At_Combiner_Output(3e-3,5e0,100)\n",
    "# swarm=optimizer.trace_Swarm_Through_Lattice(swarm,5e-6,T0,parallel=True,fastMode=False)"
   ]
  },
  {
   "cell_type": "code",
   "execution_count": null,
   "metadata": {},
   "outputs": [],
   "source": [
    "# for particle in swarm.particles[:]:\n",
    "#     qoArr=particle.qoArr\n",
    "#     qArr=particle.qArr\n",
    "#     EArr=particle.EArr\n",
    "#     TArr=particle.TArr\n",
    "#     VArr=particle.VArr\n",
    "#     if particle.revolutions>1:\n",
    "#         pass\n",
    "#         #lattice.show_Lattice(particleCoords=qArr[-1])\n",
    "#         #plt.plot(qoArr[:,0],TArr)\n",
    "#         #plt.show()\n",
    "#     print(particle.revolutions,particle.currentElIndex)"
   ]
  }
 ],
 "metadata": {
  "kernel_info": {
   "name": "python3"
  },
  "kernelspec": {
   "display_name": "Python 3",
   "language": "python",
   "name": "python3"
  },
  "language_info": {
   "codemirror_mode": {
    "name": "ipython",
    "version": 3
   },
   "file_extension": ".py",
   "mimetype": "text/x-python",
   "name": "python",
   "nbconvert_exporter": "python",
   "pygments_lexer": "ipython3",
   "version": "3.8.5"
  },
  "nteract": {
   "version": "0.28.0"
  }
 },
 "nbformat": 4,
 "nbformat_minor": 1
}
