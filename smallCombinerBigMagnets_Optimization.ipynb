{
 "cells": [
  {
   "cell_type": "markdown",
   "metadata": {},
   "source": [
    "Results show that the optimal solution is likely [0.18879063981746194, 0.3420116728566099], with a cost of -41.97\n",
    "\n",
    "repeat with 50% more points, but interrupted early and with an error fixed, shows [0.18963631198709077, 0.32344411874624834] -30.811047097509547 \n",
    "\n",
    "repeated over a smaller area gives ([0.1965124968503868, 0.3353395620895592], -41.63474736733871)\n",
    "\n",
    "Again, with integer axis values gives a position of [.2,.33] and a value of 28 (using smaller total revs)"
   ]
  },
  {
   "cell_type": "code",
   "execution_count": 1,
   "metadata": {
    "execution": {
     "iopub.execute_input": "2021-02-16T02:27:16.152Z",
     "iopub.status.busy": "2021-02-16T02:27:16.140Z",
     "iopub.status.idle": "2021-02-16T02:27:26.696Z",
     "shell.execute_reply": "2021-02-16T02:27:26.869Z"
    },
    "jupyter": {
     "outputs_hidden": false,
     "source_hidden": false
    },
    "nteract": {
     "transient": {
      "deleting": false
     }
    }
   },
   "outputs": [],
   "source": [
    "import skopt\n",
    "from smallCombinerBigMagnets import *"
   ]
  },
  {
   "cell_type": "code",
   "execution_count": 2,
   "metadata": {
    "execution": {
     "iopub.execute_input": "2021-02-16T02:27:26.720Z",
     "iopub.status.busy": "2021-02-16T02:27:26.708Z",
     "iopub.status.idle": "2021-02-16T02:27:26.844Z",
     "shell.execute_reply": "2021-02-16T02:27:26.876Z"
    },
    "jupyter": {
     "outputs_hidden": false,
     "source_hidden": false
    },
    "nteract": {
     "transient": {
      "deleting": false
     }
    }
   },
   "outputs": [
    {
     "name": "stdout",
     "output_type": "stream",
     "text": [
      "here\n",
      "SOMETHING DOES NOT MAKE SENSE HERE. This needs to follow the same rules as when in the lattice.\n",
      "SOMETHING DOES NOT MAKE SENSE HERE. This needs to follow the same rules as when in the lattice.\n",
      "new points doesn't work\n",
      "bounds [(0, 50), (0, 50)]\n",
      "starting\n",
      "0\n",
      "[34, 15]\n",
      "0\n",
      "[12, 16]\n",
      "0\n",
      "[40, 2]\n",
      "0\n",
      "[44, 7]\n",
      "stable\n",
      "start lattice tracing\n",
      "[ 8.70755495e-03 -7.40106552e-04 -1.98988872e+02  6.15662638e+00\n",
      "  3.53922363e+00]\n",
      "0.30113935546511883 13.458545328328192\n",
      "done mode matching 128.70400190353394\n",
      "start mode match\n"
     ]
    },
    {
     "name": "stderr",
     "output_type": "stream",
     "text": [
      "/home/billy/.local/lib/python3.8/site-packages/scipy/optimize/_differentialevolution.py:495: UserWarning: differential_evolution: the 'workers' keyword has overridden updating='immediate' to updating='deferred'\n",
      "  warnings.warn(\"differential_evolution: the 'workers' keyword has\"\n"
     ]
    },
    {
     "name": "stdout",
     "output_type": "stream",
     "text": [
      "differential_evolution step 1: f(x)= -0.672035\n",
      "differential_evolution step 2: f(x)= -0.68044\n",
      "differential_evolution step 3: f(x)= -0.725604\n",
      "differential_evolution step 4: f(x)= -0.725604\n",
      "differential_evolution step 5: f(x)= -0.725896\n",
      "done mode match 69.58963322639465\n",
      "0.7258957012671846\n",
      "0.7258957012671846\n",
      "-0.007258957012671846\n",
      "1\n",
      "[0, 28]\n",
      "stable\n",
      "start lattice tracing\n",
      "[ 8.70755495e-03 -7.40106552e-04 -1.98988872e+02  6.15662638e+00\n",
      "  3.53922363e+00]\n",
      "0.265849332156193 10.97398897825685\n",
      "done mode matching 114.2842972278595\n",
      "start mode match\n",
      "differential_evolution step 1: f(x)= -0.523576\n",
      "differential_evolution step 2: f(x)= -0.574746\n",
      "differential_evolution step 3: f(x)= -0.574746\n",
      "differential_evolution step 4: f(x)= -0.574746\n",
      "differential_evolution step 5: f(x)= -0.57847\n",
      "done mode match 69.54519009590149\n",
      "0.5784700319286705\n",
      "0.5784700319286705\n",
      "-0.005784700319286706\n",
      "2\n",
      "[17, 24]\n",
      "2\n",
      "[3, 39]\n",
      "2\n",
      "[43, 0]\n",
      "2\n",
      "[25, 33]\n",
      "2\n",
      "[9, 3]\n",
      "2\n",
      "[4, 43]\n",
      "2\n",
      "[22, 42]\n",
      "2\n",
      "[10, 19]\n",
      "2\n",
      "[26, 14]\n",
      "2\n",
      "[44, 13]\n",
      "2\n",
      "[33, 22]\n",
      "2\n",
      "[12, 42]\n",
      "2\n",
      "[38, 33]\n",
      "2\n",
      "[37, 15]\n",
      "2\n",
      "[11, 12]\n",
      "2\n",
      "[27, 49]\n",
      "2\n",
      "[8, 47]\n",
      "2\n",
      "[48, 45]\n",
      "2\n",
      "[31, 5]\n",
      "2\n",
      "[25, 9]\n",
      "2\n",
      "[22, 29]\n",
      "stable\n",
      "start lattice tracing\n",
      "[ 8.70755495e-03 -7.40106552e-04 -1.98988872e+02  6.15662638e+00\n",
      "  3.53922363e+00]\n",
      "0.61409953483893 75.46182492629202\n",
      "done mode matching 255.63893842697144\n",
      "start mode match\n"
     ]
    },
    {
     "name": "stderr",
     "output_type": "stream",
     "text": [
      "/home/billy/.local/lib/python3.8/site-packages/scipy/optimize/_differentialevolution.py:495: UserWarning: differential_evolution: the 'workers' keyword has overridden updating='immediate' to updating='deferred'\n",
      "  warnings.warn(\"differential_evolution: the 'workers' keyword has\"\n"
     ]
    },
    {
     "name": "stdout",
     "output_type": "stream",
     "text": [
      "differential_evolution step 1: f(x)= -3.16972\n",
      "differential_evolution step 2: f(x)= -3.2548\n",
      "differential_evolution step 3: f(x)= -3.41664\n",
      "differential_evolution step 4: f(x)= -3.5568\n",
      "differential_evolution step 5: f(x)= -3.5568\n",
      "done mode match 69.4384515285492\n",
      "3.55679768287804\n",
      "3.55679768287804\n",
      "-0.0355679768287804\n",
      "3\n",
      "[22, 13]\n",
      "3\n",
      "[48, 14]\n",
      "3\n",
      "[17, 41]\n",
      "stable\n",
      "start lattice tracing\n",
      "[ 8.70755495e-03 -7.40106552e-04 -1.98988872e+02  6.15662638e+00\n",
      "  3.53922363e+00]\n",
      "0.6547474922662367 74.99621994570617\n",
      "done mode matching 279.0246117115021\n",
      "start mode match\n"
     ]
    },
    {
     "name": "stderr",
     "output_type": "stream",
     "text": [
      "/home/billy/.local/lib/python3.8/site-packages/scipy/optimize/_differentialevolution.py:495: UserWarning: differential_evolution: the 'workers' keyword has overridden updating='immediate' to updating='deferred'\n",
      "  warnings.warn(\"differential_evolution: the 'workers' keyword has\"\n"
     ]
    },
    {
     "name": "stdout",
     "output_type": "stream",
     "text": [
      "differential_evolution step 1: f(x)= -3.3134\n",
      "differential_evolution step 2: f(x)= -3.3134\n",
      "differential_evolution step 3: f(x)= -3.3273\n",
      "differential_evolution step 4: f(x)= -3.3273\n",
      "differential_evolution step 5: f(x)= -3.33451\n",
      "done mode match 68.2118809223175\n",
      "3.334512853242962\n",
      "3.334512853242962\n",
      "-0.03334512853242962\n",
      "4\n",
      "[49, 19]\n",
      "4\n",
      "[31, 47]\n",
      "4\n",
      "[46, 48]\n",
      "4\n",
      "[33, 40]\n",
      "4\n",
      "[42, 18]\n",
      "4\n",
      "[1, 7]\n",
      "4\n",
      "[16, 46]\n",
      "4\n",
      "[35, 4]\n",
      "4\n",
      "[25, 17]\n",
      "4\n",
      "[49, 29]\n",
      "stable\n",
      "start lattice tracing\n",
      "[ 8.70755495e-03 -7.40106552e-04 -1.98988872e+02  6.15662638e+00\n",
      "  3.53922363e+00]\n",
      "0.43738679046387474 48.03863192028701\n",
      "done mode matching 183.74459385871887\n",
      "start mode match\n"
     ]
    },
    {
     "name": "stderr",
     "output_type": "stream",
     "text": [
      "/home/billy/.local/lib/python3.8/site-packages/scipy/optimize/_differentialevolution.py:495: UserWarning: differential_evolution: the 'workers' keyword has overridden updating='immediate' to updating='deferred'\n",
      "  warnings.warn(\"differential_evolution: the 'workers' keyword has\"\n"
     ]
    },
    {
     "name": "stdout",
     "output_type": "stream",
     "text": [
      "differential_evolution step 1: f(x)= -1.09785\n",
      "differential_evolution step 2: f(x)= -1.114\n",
      "differential_evolution step 3: f(x)= -1.1512\n",
      "differential_evolution step 4: f(x)= -1.16518\n",
      "differential_evolution step 5: f(x)= -1.21492\n",
      "done mode match 72.10895037651062\n",
      "1.2149199315375492\n",
      "1.2149199315375492\n",
      "-0.01214919931537549\n",
      "5\n",
      "[24, 22]\n",
      "5\n",
      "[14, 34]\n",
      "5\n",
      "[10, 9]\n",
      "5\n",
      "[5, 5]\n",
      "5\n",
      "[33, 28]\n",
      "stable\n",
      "start lattice tracing\n",
      "[ 8.70755495e-03 -7.40106552e-04 -1.98988872e+02  6.15662638e+00\n",
      "  3.53922363e+00]\n",
      "0.3899189424133908 37.45595190475796\n",
      "done mode matching 169.23293709754944\n",
      "start mode match\n"
     ]
    },
    {
     "name": "stderr",
     "output_type": "stream",
     "text": [
      "/home/billy/.local/lib/python3.8/site-packages/scipy/optimize/_differentialevolution.py:495: UserWarning: differential_evolution: the 'workers' keyword has overridden updating='immediate' to updating='deferred'\n",
      "  warnings.warn(\"differential_evolution: the 'workers' keyword has\"\n"
     ]
    },
    {
     "name": "stdout",
     "output_type": "stream",
     "text": [
      "differential_evolution step 1: f(x)= -1.33342\n",
      "differential_evolution step 2: f(x)= -1.33342\n",
      "differential_evolution step 3: f(x)= -1.41355\n",
      "differential_evolution step 4: f(x)= -1.41355\n",
      "differential_evolution step 5: f(x)= -1.47003\n",
      "done mode match 71.72021222114563\n",
      "1.470026605038336\n",
      "1.470026605038336\n",
      "-0.014700266050383359\n",
      "6\n",
      "[32, 35]\n",
      "6\n",
      "[30, 9]\n",
      "6\n",
      "[8, 24]\n",
      "stable\n",
      "start lattice tracing\n",
      "[ 8.70755495e-03 -7.40106552e-04 -1.98988872e+02  6.15662638e+00\n",
      "  3.53922363e+00]\n",
      "0.7560473809238905 99.5319883493214\n",
      "done mode matching 318.80240631103516\n",
      "start mode match\n"
     ]
    },
    {
     "name": "stderr",
     "output_type": "stream",
     "text": [
      "/home/billy/.local/lib/python3.8/site-packages/scipy/optimize/_differentialevolution.py:495: UserWarning: differential_evolution: the 'workers' keyword has overridden updating='immediate' to updating='deferred'\n",
      "  warnings.warn(\"differential_evolution: the 'workers' keyword has\"\n"
     ]
    },
    {
     "name": "stdout",
     "output_type": "stream",
     "text": [
      "differential_evolution step 1: f(x)= -5.16001\n",
      "differential_evolution step 2: f(x)= -5.16001\n",
      "differential_evolution step 3: f(x)= -5.16001\n",
      "differential_evolution step 4: f(x)= -5.16001\n",
      "differential_evolution step 5: f(x)= -5.16001\n",
      "done mode match 70.19218301773071\n",
      "5.160011846730006\n",
      "5.160011846730006\n",
      "-0.05160011846730006\n",
      "7\n",
      "[49, 24]\n",
      "7\n",
      "[36, 42]\n",
      "7\n",
      "[38, 8]\n",
      "7\n",
      "[2, 17]\n",
      "7\n",
      "[0, 46]\n",
      "7\n",
      "[31, 19]\n",
      "7\n",
      "[28, 23]\n",
      "7\n",
      "[1, 3]\n",
      "7\n",
      "[48, 5]\n",
      "7\n",
      "[29, 38]\n",
      "7\n",
      "[39, 29]\n",
      "stable\n",
      "start lattice tracing\n",
      "[ 8.70755495e-03 -7.40106552e-04 -1.98988872e+02  6.15662638e+00\n",
      "  3.53922363e+00]\n",
      "0.3693638523399663 31.999840291368017\n",
      "done mode matching 158.21216654777527\n",
      "start mode match\n"
     ]
    },
    {
     "name": "stderr",
     "output_type": "stream",
     "text": [
      "/home/billy/.local/lib/python3.8/site-packages/scipy/optimize/_differentialevolution.py:495: UserWarning: differential_evolution: the 'workers' keyword has overridden updating='immediate' to updating='deferred'\n",
      "  warnings.warn(\"differential_evolution: the 'workers' keyword has\"\n"
     ]
    },
    {
     "name": "stdout",
     "output_type": "stream",
     "text": [
      "differential_evolution step 1: f(x)= -1.1177\n",
      "differential_evolution step 2: f(x)= -1.16511\n",
      "differential_evolution step 3: f(x)= -1.17182\n",
      "differential_evolution step 4: f(x)= -1.17182\n",
      "differential_evolution step 5: f(x)= -1.18622\n",
      "done mode match 73.66527795791626\n",
      "1.1862207765011064\n",
      "1.1862207765011064\n",
      "-0.011862207765011065\n",
      "8\n",
      "[4, 34]\n",
      "8\n",
      "[39, 25]\n",
      "8\n",
      "[15, 1]\n",
      "8\n",
      "[44, 29]\n",
      "stable\n",
      "start lattice tracing\n",
      "[ 8.70755495e-03 -7.40106552e-04 -1.98988872e+02  6.15662638e+00\n",
      "  3.53922363e+00]\n",
      "0.39266000864909956 28.066944842022718\n",
      "done mode matching 168.45104360580444\n",
      "start mode match\n"
     ]
    },
    {
     "name": "stderr",
     "output_type": "stream",
     "text": [
      "/home/billy/.local/lib/python3.8/site-packages/scipy/optimize/_differentialevolution.py:495: UserWarning: differential_evolution: the 'workers' keyword has overridden updating='immediate' to updating='deferred'\n",
      "  warnings.warn(\"differential_evolution: the 'workers' keyword has\"\n"
     ]
    },
    {
     "name": "stdout",
     "output_type": "stream",
     "text": [
      "differential_evolution step 1: f(x)= -1.07238\n",
      "differential_evolution step 2: f(x)= -1.19261\n",
      "differential_evolution step 3: f(x)= -1.19261\n",
      "differential_evolution step 4: f(x)= -1.19261\n",
      "differential_evolution step 5: f(x)= -1.20039\n",
      "done mode match 71.56154537200928\n",
      "1.2003870957951173\n",
      "1.2003870957951173\n",
      "-0.012003870957951173\n",
      "9\n",
      "[4, 13]\n",
      "9\n",
      "[17, 10]\n",
      "stable\n",
      "start lattice tracing\n",
      "[ 8.70755495e-03 -7.40106552e-04 -1.98988872e+02  6.15662638e+00\n",
      "  3.53922363e+00]\n",
      "0.5889697546374206 100.14018114482916\n",
      "done mode matching 264.7203595638275\n",
      "start mode match\n"
     ]
    },
    {
     "name": "stderr",
     "output_type": "stream",
     "text": [
      "/home/billy/.local/lib/python3.8/site-packages/scipy/optimize/_differentialevolution.py:495: UserWarning: differential_evolution: the 'workers' keyword has overridden updating='immediate' to updating='deferred'\n",
      "  warnings.warn(\"differential_evolution: the 'workers' keyword has\"\n"
     ]
    },
    {
     "name": "stdout",
     "output_type": "stream",
     "text": [
      "differential_evolution step 1: f(x)= -4.20345\n",
      "differential_evolution step 2: f(x)= -4.47256\n",
      "differential_evolution step 3: f(x)= -4.47256\n",
      "differential_evolution step 4: f(x)= -4.47256\n",
      "differential_evolution step 5: f(x)= -4.47256\n",
      "done mode match 72.46528458595276\n",
      "4.472557907606376\n",
      "4.472557907606376\n",
      "-0.04472557907606376\n",
      "10\n",
      "[12, 38]\n",
      "10\n",
      "[18, 37]\n",
      "stable\n",
      "start lattice tracing\n",
      "[ 8.70755495e-03 -7.40106552e-04 -1.98988872e+02  6.15662638e+00\n",
      "  3.53922363e+00]\n",
      "0.6639413476215847 79.99952926569925\n",
      "done mode matching 286.38334035873413\n",
      "start mode match\n"
     ]
    },
    {
     "name": "stderr",
     "output_type": "stream",
     "text": [
      "/home/billy/.local/lib/python3.8/site-packages/scipy/optimize/_differentialevolution.py:495: UserWarning: differential_evolution: the 'workers' keyword has overridden updating='immediate' to updating='deferred'\n",
      "  warnings.warn(\"differential_evolution: the 'workers' keyword has\"\n"
     ]
    },
    {
     "name": "stdout",
     "output_type": "stream",
     "text": [
      "differential_evolution step 1: f(x)= -4.00037\n",
      "differential_evolution step 2: f(x)= -4.00037\n",
      "differential_evolution step 3: f(x)= -4.06827\n",
      "differential_evolution step 4: f(x)= -4.06827\n",
      "differential_evolution step 5: f(x)= -4.06827\n",
      "done mode match 73.60500574111938\n",
      "4.068266474491218\n",
      "4.068266474491218\n",
      "-0.04068266474491218\n",
      "11\n",
      "[30, 32]\n",
      "11\n",
      "[25, 29]\n",
      "stable\n",
      "start lattice tracing\n",
      "[ 8.70755495e-03 -7.40106552e-04 -1.98988872e+02  6.15662638e+00\n",
      "  3.53922363e+00]\n",
      "0.49661200312045556 51.99977469787569\n",
      "done mode matching 208.2275881767273\n",
      "start mode match\n"
     ]
    },
    {
     "name": "stderr",
     "output_type": "stream",
     "text": [
      "/home/billy/.local/lib/python3.8/site-packages/scipy/optimize/_differentialevolution.py:495: UserWarning: differential_evolution: the 'workers' keyword has overridden updating='immediate' to updating='deferred'\n",
      "  warnings.warn(\"differential_evolution: the 'workers' keyword has\"\n"
     ]
    },
    {
     "name": "stdout",
     "output_type": "stream",
     "text": [
      "differential_evolution step 1: f(x)= -2.01738\n",
      "differential_evolution step 2: f(x)= -2.024\n",
      "differential_evolution step 3: f(x)= -2.03489\n",
      "differential_evolution step 4: f(x)= -2.04485\n",
      "differential_evolution step 5: f(x)= -2.05538\n",
      "done mode match 75.03572726249695\n",
      "2.0553820982165125\n",
      "2.0553820982165125\n",
      "-0.020553820982165124\n",
      "12\n",
      "[36, 20]\n",
      "12\n",
      "[3, 30]\n",
      "12\n",
      "[18, 49]\n",
      "12\n",
      "[40, 21]\n",
      "12\n",
      "[37, 37]\n",
      "12\n",
      "[35, 0]\n",
      "12\n",
      "[35, 11]\n",
      "12\n",
      "[21, 47]\n",
      "12\n",
      "[15, 28]\n",
      "12\n",
      "[42, 33]\n",
      "12\n",
      "[47, 41]\n",
      "12\n",
      "[22, 20]\n",
      "12\n",
      "[19, 16]\n",
      "12\n",
      "[8, 37]\n",
      "12\n",
      "[49, 11]\n",
      "12\n",
      "[47, 2]\n",
      "12\n",
      "[28, 27]\n",
      "12\n",
      "[6, 18]\n",
      "12\n",
      "[5, 27]\n",
      "stable\n",
      "start lattice tracing\n",
      "[ 8.70755495e-03 -7.40106552e-04 -1.98988872e+02  6.15662638e+00\n",
      "  3.53922363e+00]\n",
      "0.4921361892781872 25.999829404196568\n",
      "done mode matching 207.01137018203735\n",
      "start mode match\n"
     ]
    },
    {
     "name": "stderr",
     "output_type": "stream",
     "text": [
      "/home/billy/.local/lib/python3.8/site-packages/scipy/optimize/_differentialevolution.py:495: UserWarning: differential_evolution: the 'workers' keyword has overridden updating='immediate' to updating='deferred'\n",
      "  warnings.warn(\"differential_evolution: the 'workers' keyword has\"\n"
     ]
    },
    {
     "name": "stdout",
     "output_type": "stream",
     "text": [
      "differential_evolution step 1: f(x)= -1.61483\n",
      "differential_evolution step 2: f(x)= -1.62425\n",
      "differential_evolution step 3: f(x)= -1.62697\n",
      "differential_evolution step 4: f(x)= -1.63766\n",
      "differential_evolution step 5: f(x)= -1.63766\n",
      "done mode match 53.51050019264221\n",
      "1.6376550172382776\n",
      "1.6376550172382776\n",
      "-0.016376550172382775\n",
      "13\n",
      "[5, 0]\n",
      "13\n",
      "[22, 37]\n",
      "13\n",
      "[0, 21]\n",
      "13\n",
      "[13, 5]\n",
      "13\n",
      "[25, 5]\n",
      "13\n",
      "[0, 39]\n",
      "13\n",
      "[10, 31]\n",
      "13\n",
      "[16, 16]\n",
      "13\n",
      "[44, 24]\n",
      "13\n",
      "[17, 31]\n",
      "stable\n",
      "start lattice tracing\n",
      "[ 8.70755495e-03 -7.40106552e-04 -1.98988872e+02  6.15662638e+00\n",
      "  3.53922363e+00]\n",
      "0.9068156886953269 99.59994665844964\n",
      "done mode matching 377.744553565979\n",
      "start mode match\n"
     ]
    },
    {
     "name": "stderr",
     "output_type": "stream",
     "text": [
      "/home/billy/.local/lib/python3.8/site-packages/scipy/optimize/_differentialevolution.py:495: UserWarning: differential_evolution: the 'workers' keyword has overridden updating='immediate' to updating='deferred'\n",
      "  warnings.warn(\"differential_evolution: the 'workers' keyword has\"\n"
     ]
    },
    {
     "name": "stdout",
     "output_type": "stream",
     "text": [
      "differential_evolution step 1: f(x)= -8.96903\n",
      "differential_evolution step 2: f(x)= -9.18522\n",
      "differential_evolution step 3: f(x)= -9.18522\n",
      "differential_evolution step 4: f(x)= -9.23559\n",
      "differential_evolution step 5: f(x)= -9.23559\n",
      "done mode match 75.08892250061035\n",
      "9.235588753907715\n",
      "9.235588753907715\n",
      "-0.09235588753907714\n",
      "14\n",
      "[5, 22]\n",
      "14\n",
      "[40, 12]\n",
      "14\n",
      "[17, 19]\n",
      "14\n",
      "[40, 43]\n",
      "14\n",
      "[31, 0]\n",
      "14\n",
      "[33, 44]\n",
      "14\n",
      "[0, 34]\n",
      "14\n",
      "[46, 37]\n",
      "14\n",
      "[13, 23]\n",
      "stable\n",
      "start lattice tracing\n",
      "[ 8.70755495e-03 -7.40106552e-04 -1.98988872e+02  6.15662638e+00\n",
      "  3.53922363e+00]\n",
      "0.7921754830020745 100.22579728300414\n",
      "done mode matching 343.6782693862915\n",
      "start mode match\n"
     ]
    },
    {
     "name": "stderr",
     "output_type": "stream",
     "text": [
      "/home/billy/.local/lib/python3.8/site-packages/scipy/optimize/_differentialevolution.py:495: UserWarning: differential_evolution: the 'workers' keyword has overridden updating='immediate' to updating='deferred'\n",
      "  warnings.warn(\"differential_evolution: the 'workers' keyword has\"\n"
     ]
    },
    {
     "name": "stdout",
     "output_type": "stream",
     "text": [
      "differential_evolution step 1: f(x)= -4.17357\n",
      "differential_evolution step 2: f(x)= -4.21142\n",
      "differential_evolution step 3: f(x)= -4.21142\n",
      "differential_evolution step 4: f(x)= -4.21142\n",
      "differential_evolution step 5: f(x)= -4.21142\n",
      "done mode match 72.39076447486877\n",
      "4.211424021554225\n",
      "4.211424021554225\n",
      "-0.04211424021554225\n",
      "15\n",
      "[1, 0]\n",
      "15\n",
      "[24, 0]\n",
      "15\n",
      "[42, 48]\n",
      "15\n",
      "[47, 33]\n",
      "15\n",
      "[17, 5]\n",
      "15\n",
      "[38, 49]\n",
      "15\n",
      "[8, 42]\n",
      "15\n",
      "[7, 13]\n",
      "15\n",
      "[35, 32]\n",
      "15\n",
      "[22, 26]\n",
      "15\n",
      "[11, 0]\n",
      "15\n",
      "[28, 1]\n",
      "15\n",
      "[39, 40]\n",
      "15\n",
      "[12, 48]\n",
      "stable\n",
      "start lattice tracing\n",
      "[ 8.70755495e-03 -7.40106552e-04 -1.98988872e+02  6.15662638e+00\n",
      "  3.53922363e+00]\n",
      "0.889756882864829 99.61288126073563\n",
      "done mode matching 378.64431285858154\n",
      "start mode match\n"
     ]
    },
    {
     "name": "stderr",
     "output_type": "stream",
     "text": [
      "/home/billy/.local/lib/python3.8/site-packages/scipy/optimize/_differentialevolution.py:495: UserWarning: differential_evolution: the 'workers' keyword has overridden updating='immediate' to updating='deferred'\n",
      "  warnings.warn(\"differential_evolution: the 'workers' keyword has\"\n"
     ]
    },
    {
     "name": "stdout",
     "output_type": "stream",
     "text": [
      "differential_evolution step 1: f(x)= -6.28058\n",
      "differential_evolution step 2: f(x)= -6.28058\n",
      "differential_evolution step 3: f(x)= -6.41845\n",
      "differential_evolution step 4: f(x)= -6.41845\n",
      "differential_evolution step 5: f(x)= -6.41845\n",
      "done mode match 70.57704997062683\n",
      "6.418446520266421\n",
      "6.418446520266421\n",
      "-0.06418446520266421\n",
      "16\n",
      "[4, 47]\n",
      "16\n",
      "[42, 37]\n",
      "16\n",
      "[6, 9]\n",
      "16\n",
      "[21, 6]\n",
      "16\n",
      "[29, 13]\n",
      "16\n",
      "[21, 34]\n",
      "stable\n",
      "start lattice tracing\n",
      "[ 8.70755495e-03 -7.40106552e-04 -1.98988872e+02  6.15662638e+00\n",
      "  3.53922363e+00]\n",
      "0.5520577213012059 87.98881117024882\n",
      "done mode matching 243.55705165863037\n",
      "start mode match\n"
     ]
    },
    {
     "name": "stderr",
     "output_type": "stream",
     "text": [
      "/home/billy/.local/lib/python3.8/site-packages/scipy/optimize/_differentialevolution.py:495: UserWarning: differential_evolution: the 'workers' keyword has overridden updating='immediate' to updating='deferred'\n",
      "  warnings.warn(\"differential_evolution: the 'workers' keyword has\"\n"
     ]
    },
    {
     "name": "stdout",
     "output_type": "stream",
     "text": [
      "differential_evolution step 1: f(x)= -2.68606\n",
      "differential_evolution step 2: f(x)= -2.79064\n",
      "differential_evolution step 3: f(x)= -2.79064\n",
      "differential_evolution step 4: f(x)= -2.79064\n",
      "differential_evolution step 5: f(x)= -2.79064\n",
      "done mode match 76.59117531776428\n",
      "2.790637977886906\n",
      "2.790637977886906\n",
      "-0.02790637977886906\n",
      "17\n",
      "[45, 20]\n",
      "17\n",
      "[35, 47]\n",
      "17\n",
      "[18, 2]\n",
      "17\n",
      "[0, 11]\n",
      "17\n",
      "[11, 26]\n",
      "stable\n",
      "start lattice tracing\n",
      "[ 8.70755495e-03 -7.40106552e-04 -1.98988872e+02  6.15662638e+00\n",
      "  3.53922363e+00]\n",
      "0.9316618582688965 100.18462129454618\n",
      "done mode matching 396.3249578475952\n",
      "start mode match\n"
     ]
    },
    {
     "name": "stderr",
     "output_type": "stream",
     "text": [
      "/home/billy/.local/lib/python3.8/site-packages/scipy/optimize/_differentialevolution.py:495: UserWarning: differential_evolution: the 'workers' keyword has overridden updating='immediate' to updating='deferred'\n",
      "  warnings.warn(\"differential_evolution: the 'workers' keyword has\"\n"
     ]
    },
    {
     "name": "stdout",
     "output_type": "stream",
     "text": [
      "differential_evolution step 1: f(x)= -5.7823\n",
      "differential_evolution step 2: f(x)= -5.7823\n",
      "differential_evolution step 3: f(x)= -6.30027\n",
      "differential_evolution step 4: f(x)= -6.30027\n",
      "differential_evolution step 5: f(x)= -6.30027\n",
      "done mode match 76.6779534816742\n",
      "6.300269171402854\n",
      "6.300269171402854\n",
      "-0.06300269171402854\n",
      "18\n",
      "[28, 45]\n",
      "18\n",
      "[21, 9]\n",
      "18\n",
      "[45, 43]\n",
      "18\n",
      "[2, 24]\n",
      "18\n",
      "[35, 25]\n",
      "18\n",
      "[25, 39]\n",
      "18\n",
      "[6, 34]\n",
      "18\n",
      "[38, 17]\n",
      "18\n",
      "[42, 45]\n",
      "18\n",
      "[4, 37]\n",
      "18\n",
      "[33, 41]\n",
      "18\n",
      "[21, 48]\n",
      "18\n",
      "[37, 26]\n",
      "18\n",
      "[21, 34]\n",
      "stable\n",
      "start lattice tracing\n",
      "[ 8.70755495e-03 -7.40106552e-04 -1.98988872e+02  6.15662638e+00\n",
      "  3.53922363e+00]\n",
      "0.5520577213012059 87.98881117024882\n",
      "done mode matching 232.28546619415283\n",
      "start mode match\n"
     ]
    },
    {
     "name": "stderr",
     "output_type": "stream",
     "text": [
      "/home/billy/.local/lib/python3.8/site-packages/scipy/optimize/_differentialevolution.py:495: UserWarning: differential_evolution: the 'workers' keyword has overridden updating='immediate' to updating='deferred'\n",
      "  warnings.warn(\"differential_evolution: the 'workers' keyword has\"\n"
     ]
    },
    {
     "name": "stdout",
     "output_type": "stream",
     "text": [
      "differential_evolution step 1: f(x)= -2.67912\n",
      "differential_evolution step 2: f(x)= -2.70115\n",
      "differential_evolution step 3: f(x)= -2.70115\n",
      "differential_evolution step 4: f(x)= -2.80751\n",
      "differential_evolution step 5: f(x)= -2.80751\n",
      "done mode match 76.14479804039001\n",
      "2.80750759242262\n",
      "2.80750759242262\n",
      "-0.0280750759242262\n",
      "19\n",
      "[42, 40]\n",
      "19\n",
      "[49, 0]\n",
      "19\n",
      "[3, 42]\n",
      "19\n",
      "[48, 9]\n",
      "19\n",
      "[14, 0]\n",
      "19\n",
      "[9, 21]\n",
      "19\n",
      "[27, 47]\n",
      "19\n",
      "[27, 35]\n",
      "19\n",
      "[14, 38]\n",
      "stable\n",
      "start lattice tracing\n",
      "[ 8.70755495e-03 -7.40106552e-04 -1.98988872e+02  6.15662638e+00\n",
      "  3.53922363e+00]\n",
      "0.6863012910275043 99.62507190143096\n",
      "done mode matching 298.69864416122437\n",
      "start mode match\n"
     ]
    },
    {
     "name": "stderr",
     "output_type": "stream",
     "text": [
      "/home/billy/.local/lib/python3.8/site-packages/scipy/optimize/_differentialevolution.py:495: UserWarning: differential_evolution: the 'workers' keyword has overridden updating='immediate' to updating='deferred'\n",
      "  warnings.warn(\"differential_evolution: the 'workers' keyword has\"\n"
     ]
    },
    {
     "name": "stdout",
     "output_type": "stream",
     "text": [
      "differential_evolution step 1: f(x)= -4.72942\n",
      "differential_evolution step 2: f(x)= -4.72942\n",
      "differential_evolution step 3: f(x)= -4.72942\n",
      "differential_evolution step 4: f(x)= -4.72942\n",
      "differential_evolution step 5: f(x)= -4.72942\n",
      "done mode match 72.96226477622986\n",
      "4.729422265609771\n",
      "4.729422265609771\n",
      "-0.04729422265609771\n",
      "20\n",
      "[33, 37]\n",
      "20\n",
      "[7, 45]\n",
      "20\n",
      "[24, 10]\n",
      "20\n",
      "[41, 24]\n",
      "20\n",
      "[21, 44]\n",
      "20\n",
      "[36, 11]\n",
      "20\n",
      "[40, 12]\n",
      "20\n",
      "[32, 12]\n",
      "20\n",
      "[16, 35]\n",
      "stable\n",
      "start lattice tracing\n",
      "[ 8.70755495e-03 -7.40106552e-04 -1.98988872e+02  6.15662638e+00\n",
      "  3.53922363e+00]\n",
      "0.8418253743529316 99.96159983572028\n",
      "done mode matching 356.82779717445374\n",
      "start mode match\n"
     ]
    },
    {
     "name": "stderr",
     "output_type": "stream",
     "text": [
      "/home/billy/.local/lib/python3.8/site-packages/scipy/optimize/_differentialevolution.py:495: UserWarning: differential_evolution: the 'workers' keyword has overridden updating='immediate' to updating='deferred'\n",
      "  warnings.warn(\"differential_evolution: the 'workers' keyword has\"\n"
     ]
    },
    {
     "name": "stdout",
     "output_type": "stream",
     "text": [
      "differential_evolution step 1: f(x)= -7.54915\n",
      "differential_evolution step 2: f(x)= -7.85621\n",
      "differential_evolution step 3: f(x)= -7.85621\n",
      "differential_evolution step 4: f(x)= -7.85621\n",
      "differential_evolution step 5: f(x)= -7.85621\n",
      "done mode match 72.73201990127563\n",
      "7.856213421700289\n",
      "7.856213421700289\n",
      "-0.0785621342170029\n",
      "21\n",
      "[39, 30]\n",
      "21\n",
      "[44, 35]\n",
      "21\n",
      "[19, 5]\n",
      "21\n",
      "[32, 8]\n",
      "21\n",
      "[25, 28]\n",
      "stable\n",
      "start lattice tracing\n",
      "[ 8.70755495e-03 -7.40106552e-04 -1.98988872e+02  6.15662638e+00\n",
      "  3.53922363e+00]\n",
      "0.5064998046151381 84.99291393458687\n",
      "done mode matching 216.3611080646515\n",
      "start mode match\n"
     ]
    },
    {
     "name": "stderr",
     "output_type": "stream",
     "text": [
      "/home/billy/.local/lib/python3.8/site-packages/scipy/optimize/_differentialevolution.py:495: UserWarning: differential_evolution: the 'workers' keyword has overridden updating='immediate' to updating='deferred'\n",
      "  warnings.warn(\"differential_evolution: the 'workers' keyword has\"\n"
     ]
    },
    {
     "name": "stdout",
     "output_type": "stream",
     "text": [
      "differential_evolution step 1: f(x)= -2.10483\n",
      "differential_evolution step 2: f(x)= -2.13124\n",
      "differential_evolution step 3: f(x)= -2.13124\n",
      "differential_evolution step 4: f(x)= -2.15256\n",
      "differential_evolution step 5: f(x)= -2.15268\n",
      "done mode match 58.675275564193726\n",
      "2.152677061626414\n",
      "2.152677061626414\n",
      "-0.021526770616264138\n",
      "22\n",
      "[34, 18]\n",
      "22\n",
      "[48, 20]\n",
      "22\n",
      "[41, 20]\n",
      "22\n",
      "[12, 43]\n",
      "22\n",
      "[22, 16]\n",
      "22\n",
      "[16, 9]\n",
      "stable\n",
      "start lattice tracing\n",
      "[ 8.70755495e-03 -7.40106552e-04 -1.98988872e+02  6.15662638e+00\n",
      "  3.53922363e+00]\n",
      "0.7063642597498705 99.94928588331783\n",
      "done mode matching 313.3737368583679\n",
      "start mode match\n"
     ]
    },
    {
     "name": "stderr",
     "output_type": "stream",
     "text": [
      "/home/billy/.local/lib/python3.8/site-packages/scipy/optimize/_differentialevolution.py:495: UserWarning: differential_evolution: the 'workers' keyword has overridden updating='immediate' to updating='deferred'\n",
      "  warnings.warn(\"differential_evolution: the 'workers' keyword has\"\n"
     ]
    },
    {
     "name": "stdout",
     "output_type": "stream",
     "text": [
      "differential_evolution step 1: f(x)= -6.40097\n",
      "differential_evolution step 2: f(x)= -6.40097\n",
      "differential_evolution step 3: f(x)= -6.40981\n",
      "differential_evolution step 4: f(x)= -6.70214\n",
      "differential_evolution step 5: f(x)= -6.70214\n",
      "done mode match 74.50206971168518\n",
      "6.70214175975637\n",
      "6.70214175975637\n",
      "-0.06702141759756369\n",
      "23\n",
      "[29, 23]\n",
      "23\n",
      "[0, 31]\n",
      "23\n",
      "[30, 2]\n",
      "23\n",
      "[34, 45]\n",
      "23\n",
      "[18, 49]\n",
      "23\n",
      "[17, 46]\n",
      "23\n",
      "[36, 49]\n",
      "23\n",
      "[33, 28]\n",
      "stable\n",
      "start lattice tracing\n",
      "[ 8.70755495e-03 -7.40106552e-04 -1.98988872e+02  6.15662638e+00\n",
      "  3.53922363e+00]\n",
      "0.3899189424133908 37.45595190475796\n",
      "done mode matching 169.07068514823914\n",
      "start mode match\n"
     ]
    },
    {
     "name": "stderr",
     "output_type": "stream",
     "text": [
      "/home/billy/.local/lib/python3.8/site-packages/scipy/optimize/_differentialevolution.py:495: UserWarning: differential_evolution: the 'workers' keyword has overridden updating='immediate' to updating='deferred'\n",
      "  warnings.warn(\"differential_evolution: the 'workers' keyword has\"\n"
     ]
    },
    {
     "name": "stdout",
     "output_type": "stream",
     "text": [
      "differential_evolution step 1: f(x)= -1.342\n",
      "differential_evolution step 2: f(x)= -1.50469\n",
      "differential_evolution step 3: f(x)= -1.50469\n",
      "differential_evolution step 4: f(x)= -1.50469\n",
      "differential_evolution step 5: f(x)= -1.50469\n",
      "done mode match 76.07319951057434\n",
      "1.5046929864101306\n",
      "1.5046929864101306\n",
      "-0.015046929864101305\n",
      "24\n",
      "[18, 2]\n",
      "24\n",
      "[15, 14]\n",
      "stable\n",
      "start lattice tracing\n",
      "[ 8.70755495e-03 -7.40106552e-04 -1.98988872e+02  6.15662638e+00\n",
      "  3.53922363e+00]\n",
      "0.5404588422553833 100.1230288799251\n",
      "done mode matching 228.699636220932\n",
      "start mode match\n"
     ]
    },
    {
     "name": "stderr",
     "output_type": "stream",
     "text": [
      "/home/billy/.local/lib/python3.8/site-packages/scipy/optimize/_differentialevolution.py:495: UserWarning: differential_evolution: the 'workers' keyword has overridden updating='immediate' to updating='deferred'\n",
      "  warnings.warn(\"differential_evolution: the 'workers' keyword has\"\n"
     ]
    },
    {
     "name": "stdout",
     "output_type": "stream",
     "text": [
      "differential_evolution step 1: f(x)= -2.635\n",
      "differential_evolution step 2: f(x)= -2.76669\n",
      "differential_evolution step 3: f(x)= -2.76669\n",
      "differential_evolution step 4: f(x)= -2.76669\n",
      "differential_evolution step 5: f(x)= -2.76669\n",
      "done mode match 75.11526155471802\n",
      "2.7666877322190913\n",
      "2.7666877322190913\n",
      "-0.027666877322190916\n",
      "25\n",
      "0.0025\n",
      "[17, 32]\n",
      "stable\n",
      "start lattice tracing\n",
      "[ 8.70755495e-03 -7.40106552e-04 -1.98988872e+02  6.15662638e+00\n",
      "  3.53922363e+00]\n",
      "0.894374272173353 99.83096398314595\n",
      "done mode matching 376.0942339897156\n",
      "start mode match\n"
     ]
    },
    {
     "name": "stderr",
     "output_type": "stream",
     "text": [
      "/home/billy/.local/lib/python3.8/site-packages/scipy/optimize/_differentialevolution.py:495: UserWarning: differential_evolution: the 'workers' keyword has overridden updating='immediate' to updating='deferred'\n",
      "  warnings.warn(\"differential_evolution: the 'workers' keyword has\"\n"
     ]
    },
    {
     "name": "stdout",
     "output_type": "stream",
     "text": [
      "differential_evolution step 1: f(x)= -9.39424\n",
      "differential_evolution step 2: f(x)= -9.39424\n",
      "differential_evolution step 3: f(x)= -9.39424\n",
      "differential_evolution step 4: f(x)= -9.39424\n",
      "differential_evolution step 5: f(x)= -9.53993\n",
      "done mode match 73.72092342376709\n",
      "9.53993367168063\n",
      "9.53993367168063\n",
      "-0.09539933671680631\n",
      "26\n",
      "0.0025\n",
      "[17, 33]\n",
      "stable\n",
      "start lattice tracing\n",
      "[ 8.70755495e-03 -7.40106552e-04 -1.98988872e+02  6.15662638e+00\n",
      "  3.53922363e+00]\n",
      "0.8847536110125792 99.96445880281138\n",
      "done mode matching 373.5341987609863\n",
      "start mode match\n"
     ]
    },
    {
     "name": "stderr",
     "output_type": "stream",
     "text": [
      "/home/billy/.local/lib/python3.8/site-packages/scipy/optimize/_differentialevolution.py:495: UserWarning: differential_evolution: the 'workers' keyword has overridden updating='immediate' to updating='deferred'\n",
      "  warnings.warn(\"differential_evolution: the 'workers' keyword has\"\n"
     ]
    },
    {
     "name": "stdout",
     "output_type": "stream",
     "text": [
      "differential_evolution step 1: f(x)= -7.95147\n",
      "differential_evolution step 2: f(x)= -7.9752\n",
      "differential_evolution step 3: f(x)= -7.9752\n",
      "differential_evolution step 4: f(x)= -7.9752\n",
      "differential_evolution step 5: f(x)= -8.20058\n",
      "done mode match 72.47016525268555\n",
      "8.20057606197706\n",
      "8.20057606197706\n",
      "-0.08200576061977059\n",
      "27\n",
      "0.0025\n",
      "[18, 31]\n",
      "stable\n",
      "start lattice tracing\n",
      "[ 8.70755495e-03 -7.40106552e-04 -1.98988872e+02  6.15662638e+00\n",
      "  3.53922363e+00]\n",
      "0.8812153766966523 99.70365311206166\n",
      "done mode matching 374.62691283226013\n",
      "start mode match\n"
     ]
    },
    {
     "name": "stderr",
     "output_type": "stream",
     "text": [
      "/home/billy/.local/lib/python3.8/site-packages/scipy/optimize/_differentialevolution.py:495: UserWarning: differential_evolution: the 'workers' keyword has overridden updating='immediate' to updating='deferred'\n",
      "  warnings.warn(\"differential_evolution: the 'workers' keyword has\"\n"
     ]
    },
    {
     "name": "stdout",
     "output_type": "stream",
     "text": [
      "differential_evolution step 1: f(x)= -8.66573\n",
      "differential_evolution step 2: f(x)= -8.66573\n",
      "differential_evolution step 3: f(x)= -8.66573\n",
      "differential_evolution step 4: f(x)= -8.66573\n",
      "differential_evolution step 5: f(x)= -8.66573\n",
      "done mode match 72.91054797172546\n",
      "8.665729551663095\n",
      "8.665729551663095\n",
      "-0.08665729551663094\n",
      "28\n",
      "inside func {'xi': 0.005, 'noise': 0.0001}\n"
     ]
    },
    {
     "name": "stderr",
     "output_type": "stream",
     "text": [
      "/home/billy/.local/lib/python3.8/site-packages/skopt/optimizer/optimizer.py:450: UserWarning: The objective has been evaluated at this point before.\n",
      "  warnings.warn(\"The objective has been evaluated \"\n"
     ]
    },
    {
     "name": "stdout",
     "output_type": "stream",
     "text": [
      "DUPLICATE POINTS [18, 32] NEW POINTS [18, 32]\n",
      "0.005\n",
      "[18, 32]\n",
      "stable\n",
      "start lattice tracing\n",
      "[ 8.70755495e-03 -7.40106552e-04 -1.98988872e+02  6.15662638e+00\n",
      "  3.53922363e+00]\n",
      "0.8761842654763157 99.84262192138665\n",
      "done mode matching 372.3916676044464\n",
      "start mode match\n"
     ]
    },
    {
     "name": "stderr",
     "output_type": "stream",
     "text": [
      "/home/billy/.local/lib/python3.8/site-packages/scipy/optimize/_differentialevolution.py:495: UserWarning: differential_evolution: the 'workers' keyword has overridden updating='immediate' to updating='deferred'\n",
      "  warnings.warn(\"differential_evolution: the 'workers' keyword has\"\n"
     ]
    },
    {
     "name": "stdout",
     "output_type": "stream",
     "text": [
      "differential_evolution step 1: f(x)= -7.78535\n",
      "differential_evolution step 2: f(x)= -7.85655\n",
      "differential_evolution step 3: f(x)= -7.85655\n",
      "differential_evolution step 4: f(x)= -7.88405\n",
      "differential_evolution step 5: f(x)= -8.02983\n",
      "done mode match 71.41112017631531\n",
      "8.029831161340036\n",
      "8.029831161340036\n",
      "-0.08029831161340036\n",
      "29\n",
      "0.005\n",
      "[18, 29]\n",
      "stable\n",
      "start lattice tracing\n",
      "[ 8.70755495e-03 -7.40106552e-04 -1.98988872e+02  6.15662638e+00\n",
      "  3.53922363e+00]\n",
      "0.8918053665093324 99.43349932348741\n",
      "done mode matching 375.295206785202\n",
      "start mode match\n"
     ]
    },
    {
     "name": "stderr",
     "output_type": "stream",
     "text": [
      "/home/billy/.local/lib/python3.8/site-packages/scipy/optimize/_differentialevolution.py:495: UserWarning: differential_evolution: the 'workers' keyword has overridden updating='immediate' to updating='deferred'\n",
      "  warnings.warn(\"differential_evolution: the 'workers' keyword has\"\n"
     ]
    },
    {
     "name": "stdout",
     "output_type": "stream",
     "text": [
      "differential_evolution step 1: f(x)= -7.72657\n",
      "differential_evolution step 2: f(x)= -7.82375\n",
      "differential_evolution step 3: f(x)= -7.82375\n",
      "differential_evolution step 4: f(x)= -8.00508\n",
      "differential_evolution step 5: f(x)= -8.00508\n",
      "done mode match 70.92673325538635\n",
      "8.00507541160424\n",
      "8.00507541160424\n",
      "-0.0800507541160424\n",
      "30\n",
      "0.005\n",
      "[17, 30]\n",
      "stable\n",
      "start lattice tracing\n",
      "[ 8.70755495e-03 -7.40106552e-04 -1.98988872e+02  6.15662638e+00\n",
      "  3.53922363e+00]\n",
      "0.9393180189958185 99.63099066734644\n",
      "done mode matching 397.34842324256897\n",
      "start mode match\n"
     ]
    },
    {
     "name": "stderr",
     "output_type": "stream",
     "text": [
      "/home/billy/.local/lib/python3.8/site-packages/scipy/optimize/_differentialevolution.py:495: UserWarning: differential_evolution: the 'workers' keyword has overridden updating='immediate' to updating='deferred'\n",
      "  warnings.warn(\"differential_evolution: the 'workers' keyword has\"\n"
     ]
    },
    {
     "name": "stdout",
     "output_type": "stream",
     "text": [
      "differential_evolution step 1: f(x)= -8.50602\n",
      "differential_evolution step 2: f(x)= -8.75775\n",
      "differential_evolution step 3: f(x)= -8.75775\n",
      "differential_evolution step 4: f(x)= -8.76204\n",
      "differential_evolution step 5: f(x)= -8.7973\n",
      "done mode match 73.25973534584045\n",
      "8.797302006004735\n",
      "8.797302006004735\n",
      "-0.08797302006004734\n",
      "31\n",
      "0.005\n",
      "[16, 32]\n",
      "stable\n",
      "start lattice tracing\n",
      "[ 8.70755495e-03 -7.40106552e-04 -1.98988872e+02  6.15662638e+00\n",
      "  3.53922363e+00]\n",
      "0.8513796794954608 99.65368793493234\n",
      "done mode matching 358.8950505256653\n",
      "start mode match\n"
     ]
    },
    {
     "name": "stderr",
     "output_type": "stream",
     "text": [
      "/home/billy/.local/lib/python3.8/site-packages/scipy/optimize/_differentialevolution.py:495: UserWarning: differential_evolution: the 'workers' keyword has overridden updating='immediate' to updating='deferred'\n",
      "  warnings.warn(\"differential_evolution: the 'workers' keyword has\"\n"
     ]
    },
    {
     "name": "stdout",
     "output_type": "stream",
     "text": [
      "differential_evolution step 1: f(x)= -7.87644\n",
      "differential_evolution step 2: f(x)= -7.87644\n",
      "differential_evolution step 3: f(x)= -7.89744\n",
      "differential_evolution step 4: f(x)= -7.89744\n",
      "differential_evolution step 5: f(x)= -7.89744\n",
      "done mode match 74.4823043346405\n",
      "7.897437530970266\n",
      "7.897437530970266\n",
      "-0.07897437530970267\n",
      "32\n",
      "xi was reset\n",
      "0.0025\n",
      "[19, 30]\n",
      "stable\n",
      "start lattice tracing\n",
      "[ 8.70755495e-03 -7.40106552e-04 -1.98988872e+02  6.15662638e+00\n",
      "  3.53922363e+00]\n",
      "0.811518373772996 98.98523979856711\n",
      "done mode matching 340.30685901641846\n",
      "start mode match\n"
     ]
    },
    {
     "name": "stderr",
     "output_type": "stream",
     "text": [
      "/home/billy/.local/lib/python3.8/site-packages/scipy/optimize/_differentialevolution.py:495: UserWarning: differential_evolution: the 'workers' keyword has overridden updating='immediate' to updating='deferred'\n",
      "  warnings.warn(\"differential_evolution: the 'workers' keyword has\"\n"
     ]
    },
    {
     "name": "stdout",
     "output_type": "stream",
     "text": [
      "differential_evolution step 1: f(x)= -6.92744\n",
      "differential_evolution step 2: f(x)= -6.97628\n",
      "differential_evolution step 3: f(x)= -7.02516\n",
      "differential_evolution step 4: f(x)= -7.02516\n",
      "differential_evolution step 5: f(x)= -7.02516\n",
      "done mode match 74.7129385471344\n",
      "7.025157725155388\n",
      "7.025157725155388\n",
      "-0.07025157725155388\n",
      "33\n",
      "inside func {'xi': 0.005, 'noise': 0.0001}\n"
     ]
    },
    {
     "name": "stderr",
     "output_type": "stream",
     "text": [
      "/home/billy/.local/lib/python3.8/site-packages/skopt/optimizer/optimizer.py:450: UserWarning: The objective has been evaluated at this point before.\n",
      "  warnings.warn(\"The objective has been evaluated \"\n"
     ]
    },
    {
     "name": "stdout",
     "output_type": "stream",
     "text": [
      "DUPLICATE POINTS [16, 38] NEW POINTS [16, 38]\n",
      "0.005\n",
      "[16, 38]\n",
      "stable\n",
      "start lattice tracing\n",
      "[ 8.70755495e-03 -7.40106552e-04 -1.98988872e+02  6.15662638e+00\n",
      "  3.53922363e+00]\n",
      "0.8000134975716362 100.1593974345803\n",
      "done mode matching 337.5404453277588\n",
      "start mode match\n"
     ]
    },
    {
     "name": "stderr",
     "output_type": "stream",
     "text": [
      "/home/billy/.local/lib/python3.8/site-packages/scipy/optimize/_differentialevolution.py:495: UserWarning: differential_evolution: the 'workers' keyword has overridden updating='immediate' to updating='deferred'\n",
      "  warnings.warn(\"differential_evolution: the 'workers' keyword has\"\n"
     ]
    },
    {
     "name": "stdout",
     "output_type": "stream",
     "text": [
      "differential_evolution step 1: f(x)= -6.41274\n",
      "differential_evolution step 2: f(x)= -6.41274\n",
      "differential_evolution step 3: f(x)= -6.41274\n",
      "differential_evolution step 4: f(x)= -6.50532\n",
      "differential_evolution step 5: f(x)= -6.54708\n",
      "done mode match 74.19189715385437\n",
      "6.547077688176269\n",
      "6.547077688176269\n",
      "-0.06547077688176269\n",
      "34\n",
      "0.005\n",
      "[13, 50]\n",
      "stable\n",
      "start lattice tracing\n",
      "[ 8.70755495e-03 -7.40106552e-04 -1.98988872e+02  6.15662638e+00\n",
      "  3.53922363e+00]\n",
      "1.0090352967084 99.96091887982755\n",
      "done mode matching 416.2421317100525\n",
      "start mode match\n"
     ]
    },
    {
     "name": "stderr",
     "output_type": "stream",
     "text": [
      "/home/billy/.local/lib/python3.8/site-packages/scipy/optimize/_differentialevolution.py:495: UserWarning: differential_evolution: the 'workers' keyword has overridden updating='immediate' to updating='deferred'\n",
      "  warnings.warn(\"differential_evolution: the 'workers' keyword has\"\n"
     ]
    },
    {
     "name": "stdout",
     "output_type": "stream",
     "text": [
      "differential_evolution step 1: f(x)= -7.28055\n",
      "differential_evolution step 2: f(x)= -7.34294\n",
      "differential_evolution step 3: f(x)= -7.34294\n",
      "differential_evolution step 4: f(x)= -7.34294\n",
      "differential_evolution step 5: f(x)= -7.34294\n",
      "done mode match 73.70753264427185\n",
      "7.34294202947929\n",
      "7.34294202947929\n",
      "-0.07342942029479291\n",
      "35\n",
      "0.005\n",
      "[11, 50]\n",
      "stable\n",
      "start lattice tracing\n",
      "[ 8.70755495e-03 -7.40106552e-04 -1.98988872e+02  6.15662638e+00\n",
      "  3.53922363e+00]\n",
      "0.9649146673009118 99.56705320926254\n",
      "done mode matching 409.83728075027466\n",
      "start mode match\n"
     ]
    },
    {
     "name": "stderr",
     "output_type": "stream",
     "text": [
      "/home/billy/.local/lib/python3.8/site-packages/scipy/optimize/_differentialevolution.py:495: UserWarning: differential_evolution: the 'workers' keyword has overridden updating='immediate' to updating='deferred'\n",
      "  warnings.warn(\"differential_evolution: the 'workers' keyword has\"\n"
     ]
    },
    {
     "name": "stdout",
     "output_type": "stream",
     "text": [
      "differential_evolution step 1: f(x)= -6.59702\n",
      "differential_evolution step 2: f(x)= -6.59702\n",
      "differential_evolution step 3: f(x)= -6.59702\n",
      "differential_evolution step 4: f(x)= -6.59702\n",
      "differential_evolution step 5: f(x)= -6.59702\n",
      "done mode match 59.38607740402222\n",
      "6.597022641749938\n",
      "6.597022641749938\n",
      "-0.06597022641749938\n",
      "36\n",
      "inside func {'xi': 0.01, 'noise': 0.0001}\n"
     ]
    },
    {
     "name": "stderr",
     "output_type": "stream",
     "text": [
      "/home/billy/.local/lib/python3.8/site-packages/skopt/optimizer/optimizer.py:450: UserWarning: The objective has been evaluated at this point before.\n",
      "  warnings.warn(\"The objective has been evaluated \"\n"
     ]
    },
    {
     "name": "stdout",
     "output_type": "stream",
     "text": [
      "DUPLICATE POINTS [9, 27] NEW POINTS [9, 27]\n",
      "0.01\n",
      "[9, 27]\n",
      "stable\n",
      "start lattice tracing\n",
      "[ 8.70755495e-03 -7.40106552e-04 -1.98988872e+02  6.15662638e+00\n",
      "  3.53922363e+00]\n",
      "0.7885036631210733 100.21732996918617\n",
      "done mode matching 331.46810364723206\n",
      "start mode match\n"
     ]
    },
    {
     "name": "stderr",
     "output_type": "stream",
     "text": [
      "/home/billy/.local/lib/python3.8/site-packages/scipy/optimize/_differentialevolution.py:495: UserWarning: differential_evolution: the 'workers' keyword has overridden updating='immediate' to updating='deferred'\n",
      "  warnings.warn(\"differential_evolution: the 'workers' keyword has\"\n"
     ]
    },
    {
     "name": "stdout",
     "output_type": "stream",
     "text": [
      "differential_evolution step 1: f(x)= -4.18037\n",
      "differential_evolution step 2: f(x)= -4.18037\n",
      "differential_evolution step 3: f(x)= -4.2296\n",
      "differential_evolution step 4: f(x)= -4.2296\n",
      "differential_evolution step 5: f(x)= -4.26708\n",
      "done mode match 60.73599648475647\n",
      "4.267078785280891\n",
      "4.267078785280891\n",
      "-0.04267078785280891\n",
      "37\n",
      "0.01\n",
      "[14, 10]\n",
      "37\n",
      "0.01\n",
      "[50, 50]\n",
      "37\n",
      "0.01\n",
      "[50, 38]\n",
      "37\n",
      "xi was reset\n",
      "0.0025\n",
      "[11, 23]\n",
      "stable\n",
      "start lattice tracing\n",
      "[ 8.70755495e-03 -7.40106552e-04 -1.98988872e+02  6.15662638e+00\n",
      "  3.53922363e+00]\n",
      "0.9034142907591377 99.86543865869973\n",
      "done mode matching 384.88790559768677\n",
      "start mode match\n"
     ]
    },
    {
     "name": "stderr",
     "output_type": "stream",
     "text": [
      "/home/billy/.local/lib/python3.8/site-packages/scipy/optimize/_differentialevolution.py:495: UserWarning: differential_evolution: the 'workers' keyword has overridden updating='immediate' to updating='deferred'\n",
      "  warnings.warn(\"differential_evolution: the 'workers' keyword has\"\n"
     ]
    },
    {
     "name": "stdout",
     "output_type": "stream",
     "text": [
      "differential_evolution step 1: f(x)= -6.79541\n",
      "differential_evolution step 2: f(x)= -6.90762\n",
      "differential_evolution step 3: f(x)= -6.96301\n",
      "differential_evolution step 4: f(x)= -6.96301\n",
      "differential_evolution step 5: f(x)= -6.96301\n",
      "done mode match 72.02700161933899\n",
      "6.963008625023596\n",
      "6.963008625023596\n",
      "-0.06963008625023595\n",
      "38\n",
      "inside func {'xi': 0.005, 'noise': 0.0001}\n"
     ]
    },
    {
     "name": "stderr",
     "output_type": "stream",
     "text": [
      "/home/billy/.local/lib/python3.8/site-packages/skopt/optimizer/optimizer.py:450: UserWarning: The objective has been evaluated at this point before.\n",
      "  warnings.warn(\"The objective has been evaluated \"\n",
      "/home/billy/.local/lib/python3.8/site-packages/skopt/optimizer/optimizer.py:450: UserWarning: The objective has been evaluated at this point before.\n",
      "  warnings.warn(\"The objective has been evaluated \"\n"
     ]
    },
    {
     "name": "stdout",
     "output_type": "stream",
     "text": [
      "DUPLICATE POINTS [17, 31] NEW POINTS [17, 31]\n",
      "inside func {'xi': 0.01, 'noise': 0.0001}\n",
      "DUPLICATE POINTS [24, 50] NEW POINTS [24, 50]\n",
      "0.01\n",
      "[24, 50]\n",
      "38\n",
      "0.01\n",
      "[14, 50]\n",
      "stable\n",
      "start lattice tracing\n",
      "[ 8.70755495e-03 -7.40106552e-04 -1.98988872e+02  6.15662638e+00\n",
      "  3.53922363e+00]\n",
      "0.9262146396876457 100.08043380011524\n",
      "done mode matching 389.36218643188477\n",
      "start mode match\n"
     ]
    },
    {
     "name": "stderr",
     "output_type": "stream",
     "text": [
      "/home/billy/.local/lib/python3.8/site-packages/scipy/optimize/_differentialevolution.py:495: UserWarning: differential_evolution: the 'workers' keyword has overridden updating='immediate' to updating='deferred'\n",
      "  warnings.warn(\"differential_evolution: the 'workers' keyword has\"\n"
     ]
    },
    {
     "name": "stdout",
     "output_type": "stream",
     "text": [
      "differential_evolution step 1: f(x)= -5.0493\n",
      "differential_evolution step 2: f(x)= -5.0493\n",
      "differential_evolution step 3: f(x)= -5.0558\n",
      "differential_evolution step 4: f(x)= -5.0958\n",
      "differential_evolution step 5: f(x)= -5.0958\n",
      "done mode match 75.37497639656067\n",
      "5.095803438534687\n",
      "5.095803438534687\n",
      "-0.050958034385346865\n",
      "39\n",
      "0.01\n",
      "[19, 26]\n",
      "39\n",
      "0.01\n",
      "[15, 41]\n",
      "stable\n",
      "start lattice tracing\n",
      "[ 8.70755495e-03 -7.40106552e-04 -1.98988872e+02  6.15662638e+00\n",
      "  3.53922363e+00]\n",
      "0.7673441347307883 100.13288303532762\n",
      "done mode matching 319.9862787723541\n",
      "start mode match\n"
     ]
    },
    {
     "name": "stderr",
     "output_type": "stream",
     "text": [
      "/home/billy/.local/lib/python3.8/site-packages/scipy/optimize/_differentialevolution.py:495: UserWarning: differential_evolution: the 'workers' keyword has overridden updating='immediate' to updating='deferred'\n",
      "  warnings.warn(\"differential_evolution: the 'workers' keyword has\"\n"
     ]
    },
    {
     "name": "stdout",
     "output_type": "stream",
     "text": [
      "differential_evolution step 1: f(x)= -5.14404\n",
      "differential_evolution step 2: f(x)= -5.14665\n",
      "differential_evolution step 3: f(x)= -5.16452\n",
      "differential_evolution step 4: f(x)= -5.40615\n",
      "differential_evolution step 5: f(x)= -5.49506\n",
      "done mode match 73.75064301490784\n",
      "5.4950619836296895\n",
      "5.4950619836296895\n",
      "-0.05495061983629689\n",
      "40\n",
      "xi was reset\n",
      "0.0025\n",
      "[12, 50]\n",
      "stable\n",
      "start lattice tracing\n",
      "[ 8.70755495e-03 -7.40106552e-04 -1.98988872e+02  6.15662638e+00\n",
      "  3.53922363e+00]\n",
      "0.998441243215718 99.73213421456848\n",
      "done mode matching 424.871994972229\n",
      "start mode match\n"
     ]
    },
    {
     "name": "stderr",
     "output_type": "stream",
     "text": [
      "/home/billy/.local/lib/python3.8/site-packages/scipy/optimize/_differentialevolution.py:495: UserWarning: differential_evolution: the 'workers' keyword has overridden updating='immediate' to updating='deferred'\n",
      "  warnings.warn(\"differential_evolution: the 'workers' keyword has\"\n"
     ]
    },
    {
     "name": "stdout",
     "output_type": "stream",
     "text": [
      "differential_evolution step 1: f(x)= -7.60574\n",
      "differential_evolution step 2: f(x)= -7.84262\n",
      "differential_evolution step 3: f(x)= -7.87291\n",
      "differential_evolution step 4: f(x)= -7.87291\n",
      "differential_evolution step 5: f(x)= -7.87291\n",
      "done mode match 73.88756012916565\n",
      "7.8729078212865415\n",
      "7.8729078212865415\n",
      "-0.07872907821286541\n",
      "41\n",
      "inside func {'xi': 0.005, 'noise': 0.0001}\n"
     ]
    },
    {
     "name": "stderr",
     "output_type": "stream",
     "text": [
      "/home/billy/.local/lib/python3.8/site-packages/skopt/optimizer/optimizer.py:450: UserWarning: The objective has been evaluated at this point before.\n",
      "  warnings.warn(\"The objective has been evaluated \"\n",
      "/home/billy/.local/lib/python3.8/site-packages/skopt/optimizer/optimizer.py:450: UserWarning: The objective has been evaluated at this point before.\n",
      "  warnings.warn(\"The objective has been evaluated \"\n"
     ]
    },
    {
     "name": "stdout",
     "output_type": "stream",
     "text": [
      "DUPLICATE POINTS [17, 31] NEW POINTS [17, 31]\n",
      "inside func {'xi': 0.01, 'noise': 0.0001}\n",
      "DUPLICATE POINTS [21, 0] NEW POINTS [21, 0]\n",
      "0.01\n",
      "[21, 0]\n",
      "41\n",
      "0.01\n",
      "[38, 0]\n",
      "41\n",
      "0.01\n",
      "[1, 50]\n",
      "41\n",
      "0.01\n",
      "[7, 28]\n",
      "41\n",
      "xi was reset\n",
      "0.0025\n",
      "[10, 24]\n",
      "stable\n",
      "start lattice tracing\n",
      "[ 8.70755495e-03 -7.40106552e-04 -1.98988872e+02  6.15662638e+00\n",
      "  3.53922363e+00]\n",
      "0.9257896504345408 100.00725112095868\n",
      "done mode matching 393.466760635376\n",
      "start mode match\n"
     ]
    },
    {
     "name": "stderr",
     "output_type": "stream",
     "text": [
      "/home/billy/.local/lib/python3.8/site-packages/scipy/optimize/_differentialevolution.py:495: UserWarning: differential_evolution: the 'workers' keyword has overridden updating='immediate' to updating='deferred'\n",
      "  warnings.warn(\"differential_evolution: the 'workers' keyword has\"\n"
     ]
    },
    {
     "name": "stdout",
     "output_type": "stream",
     "text": [
      "differential_evolution step 1: f(x)= -6.53917\n",
      "differential_evolution step 2: f(x)= -6.62535\n",
      "differential_evolution step 3: f(x)= -6.62535\n",
      "differential_evolution step 4: f(x)= -6.71704\n",
      "differential_evolution step 5: f(x)= -6.7418\n",
      "done mode match 72.03255105018616\n",
      "6.7417968601150555\n",
      "6.7417968601150555\n",
      "-0.06741796860115055\n",
      "42\n",
      "inside func {'xi': 0.005, 'noise': 0.0001}\n"
     ]
    },
    {
     "name": "stderr",
     "output_type": "stream",
     "text": [
      "/home/billy/.local/lib/python3.8/site-packages/skopt/optimizer/optimizer.py:450: UserWarning: The objective has been evaluated at this point before.\n",
      "  warnings.warn(\"The objective has been evaluated \"\n",
      "/home/billy/.local/lib/python3.8/site-packages/skopt/optimizer/optimizer.py:450: UserWarning: The objective has been evaluated at this point before.\n",
      "  warnings.warn(\"The objective has been evaluated \"\n"
     ]
    },
    {
     "name": "stdout",
     "output_type": "stream",
     "text": [
      "DUPLICATE POINTS [17, 31] NEW POINTS [17, 31]\n",
      "inside func {'xi': 0.01, 'noise': 0.0001}\n",
      "DUPLICATE POINTS [50, 43] NEW POINTS [50, 43]\n",
      "0.01\n",
      "[50, 43]\n",
      "42\n",
      "0.01\n",
      "[41, 7]\n",
      "stable\n",
      "start lattice tracing\n",
      "[ 8.70755495e-03 -7.40106552e-04 -1.98988872e+02  6.15662638e+00\n",
      "  3.53922363e+00]\n",
      "0.28644253552205096 11.464803238411855\n",
      "done mode matching 130.2307641506195\n",
      "start mode match\n"
     ]
    },
    {
     "name": "stderr",
     "output_type": "stream",
     "text": [
      "/home/billy/.local/lib/python3.8/site-packages/scipy/optimize/_differentialevolution.py:495: UserWarning: differential_evolution: the 'workers' keyword has overridden updating='immediate' to updating='deferred'\n",
      "  warnings.warn(\"differential_evolution: the 'workers' keyword has\"\n"
     ]
    },
    {
     "name": "stdout",
     "output_type": "stream",
     "text": [
      "differential_evolution step 1: f(x)= -0.716068\n",
      "differential_evolution step 2: f(x)= -0.716068\n",
      "differential_evolution step 3: f(x)= -0.716068\n",
      "differential_evolution step 4: f(x)= -0.716068\n",
      "differential_evolution step 5: f(x)= -0.716068\n",
      "done mode match 76.50061440467834\n",
      "0.7160679552813028\n",
      "0.7160679552813028\n",
      "-0.0071606795528130285\n",
      "43\n",
      "0.01\n",
      "[33, 50]\n",
      "43\n",
      "0.01\n",
      "[6, 50]\n",
      "43\n",
      "xi was reset\n",
      "0.0025\n",
      "[24, 45]\n",
      "43\n",
      "inside func {'xi': 0.005, 'noise': 0.0001}\n"
     ]
    },
    {
     "name": "stderr",
     "output_type": "stream",
     "text": [
      "/home/billy/.local/lib/python3.8/site-packages/skopt/optimizer/optimizer.py:450: UserWarning: The objective has been evaluated at this point before.\n",
      "  warnings.warn(\"The objective has been evaluated \"\n",
      "/home/billy/.local/lib/python3.8/site-packages/skopt/optimizer/optimizer.py:450: UserWarning: The objective has been evaluated at this point before.\n",
      "  warnings.warn(\"The objective has been evaluated \"\n"
     ]
    },
    {
     "name": "stdout",
     "output_type": "stream",
     "text": [
      "DUPLICATE POINTS [17, 31] NEW POINTS [17, 31]\n",
      "inside func {'xi': 0.01, 'noise': 0.0001}\n",
      "DUPLICATE POINTS [14, 19] NEW POINTS [14, 19]\n",
      "0.01\n",
      "[14, 19]\n",
      "stable\n",
      "start lattice tracing\n",
      "[ 8.70755495e-03 -7.40106552e-04 -1.98988872e+02  6.15662638e+00\n",
      "  3.53922363e+00]\n",
      "0.6417369333198437 100.10552892998619\n",
      "done mode matching 268.2272455692291\n",
      "start mode match\n"
     ]
    },
    {
     "name": "stderr",
     "output_type": "stream",
     "text": [
      "/home/billy/.local/lib/python3.8/site-packages/scipy/optimize/_differentialevolution.py:495: UserWarning: differential_evolution: the 'workers' keyword has overridden updating='immediate' to updating='deferred'\n",
      "  warnings.warn(\"differential_evolution: the 'workers' keyword has\"\n"
     ]
    },
    {
     "name": "stdout",
     "output_type": "stream",
     "text": [
      "differential_evolution step 1: f(x)= -2.44505\n",
      "differential_evolution step 2: f(x)= -2.44505\n",
      "differential_evolution step 3: f(x)= -2.44505\n",
      "differential_evolution step 4: f(x)= -2.56825\n",
      "differential_evolution step 5: f(x)= -2.56825\n",
      "done mode match 73.01438879966736\n",
      "2.5682538829864643\n",
      "2.5682538829864643\n",
      "-0.02568253882986464\n",
      "44\n",
      "0.01\n",
      "[50, 33]\n",
      "44\n",
      "0.01\n",
      "[14, 46]\n",
      "stable\n",
      "start lattice tracing\n",
      "[ 8.70755495e-03 -7.40106552e-04 -1.98988872e+02  6.15662638e+00\n",
      "  3.53922363e+00]\n",
      "0.8540792349066713 99.97264756562613\n",
      "done mode matching 373.7007908821106\n",
      "start mode match\n"
     ]
    },
    {
     "name": "stderr",
     "output_type": "stream",
     "text": [
      "/home/billy/.local/lib/python3.8/site-packages/scipy/optimize/_differentialevolution.py:495: UserWarning: differential_evolution: the 'workers' keyword has overridden updating='immediate' to updating='deferred'\n",
      "  warnings.warn(\"differential_evolution: the 'workers' keyword has\"\n"
     ]
    },
    {
     "name": "stdout",
     "output_type": "stream",
     "text": [
      "differential_evolution step 1: f(x)= -5.20285\n",
      "differential_evolution step 2: f(x)= -5.4479\n",
      "differential_evolution step 3: f(x)= -5.4479\n",
      "differential_evolution step 4: f(x)= -5.4479\n",
      "differential_evolution step 5: f(x)= -5.56396\n",
      "done mode match 74.75995683670044\n",
      "5.56396460844604\n",
      "5.56396460844604\n",
      "-0.0556396460844604\n",
      "45\n",
      "0.01\n",
      "[19, 33]\n",
      "stable\n",
      "start lattice tracing\n",
      "[ 8.70755495e-03 -7.40106552e-04 -1.98988872e+02  6.15662638e+00\n",
      "  3.53922363e+00]\n",
      "0.7386381025222677 100.01402407592415\n",
      "done mode matching 315.4901313781738\n",
      "start mode match\n"
     ]
    },
    {
     "name": "stderr",
     "output_type": "stream",
     "text": [
      "/home/billy/.local/lib/python3.8/site-packages/scipy/optimize/_differentialevolution.py:495: UserWarning: differential_evolution: the 'workers' keyword has overridden updating='immediate' to updating='deferred'\n",
      "  warnings.warn(\"differential_evolution: the 'workers' keyword has\"\n"
     ]
    },
    {
     "name": "stdout",
     "output_type": "stream",
     "text": [
      "differential_evolution step 1: f(x)= -5.44766\n",
      "differential_evolution step 2: f(x)= -5.44766\n",
      "differential_evolution step 3: f(x)= -5.44766\n",
      "differential_evolution step 4: f(x)= -5.44766\n",
      "differential_evolution step 5: f(x)= -5.44766\n",
      "done mode match 74.51986241340637\n",
      "5.447659188535401\n",
      "5.447659188535401\n",
      "-0.05447659188535402\n",
      "46\n",
      "xi was reset\n",
      "0.0025\n",
      "[50, 6]\n",
      "46\n",
      "inside func {'xi': 0.005, 'noise': 0.0001}\n"
     ]
    },
    {
     "name": "stderr",
     "output_type": "stream",
     "text": [
      "/home/billy/.local/lib/python3.8/site-packages/skopt/optimizer/optimizer.py:450: UserWarning: The objective has been evaluated at this point before.\n",
      "  warnings.warn(\"The objective has been evaluated \"\n",
      "/home/billy/.local/lib/python3.8/site-packages/skopt/optimizer/optimizer.py:450: UserWarning: The objective has been evaluated at this point before.\n",
      "  warnings.warn(\"The objective has been evaluated \"\n"
     ]
    },
    {
     "name": "stdout",
     "output_type": "stream",
     "text": [
      "DUPLICATE POINTS [17, 31] NEW POINTS [17, 31]\n",
      "inside func {'xi': 0.01, 'noise': 0.0001}\n",
      "DUPLICATE POINTS [47, 26] NEW POINTS [47, 26]\n",
      "0.01\n",
      "[47, 26]\n",
      "46\n",
      "0.01\n",
      "[28, 18]\n",
      "46\n",
      "0.01\n",
      "[44, 50]\n",
      "46\n",
      "0.01\n",
      "[12, 21]\n",
      "stable\n",
      "start lattice tracing\n",
      "[ 8.70755495e-03 -7.40106552e-04 -1.98988872e+02  6.15662638e+00\n",
      "  3.53922363e+00]\n",
      "0.7506958117343222 99.77451754286324\n",
      "done mode matching 319.2184360027313\n",
      "start mode match\n"
     ]
    },
    {
     "name": "stderr",
     "output_type": "stream",
     "text": [
      "/home/billy/.local/lib/python3.8/site-packages/scipy/optimize/_differentialevolution.py:495: UserWarning: differential_evolution: the 'workers' keyword has overridden updating='immediate' to updating='deferred'\n",
      "  warnings.warn(\"differential_evolution: the 'workers' keyword has\"\n"
     ]
    },
    {
     "name": "stdout",
     "output_type": "stream",
     "text": [
      "differential_evolution step 1: f(x)= -4.06758\n",
      "differential_evolution step 2: f(x)= -4.06758\n",
      "differential_evolution step 3: f(x)= -4.10133\n",
      "differential_evolution step 4: f(x)= -4.1061\n",
      "differential_evolution step 5: f(x)= -4.1061\n",
      "done mode match 75.64669585227966\n",
      "4.106102754833972\n",
      "4.106102754833972\n",
      "-0.04106102754833972\n",
      "47\n",
      "xi was reset\n",
      "0.0025\n",
      "[0, 16]\n",
      "47\n",
      "inside func {'xi': 0.005, 'noise': 0.0001}\n"
     ]
    },
    {
     "name": "stderr",
     "output_type": "stream",
     "text": [
      "/home/billy/.local/lib/python3.8/site-packages/skopt/optimizer/optimizer.py:450: UserWarning: The objective has been evaluated at this point before.\n",
      "  warnings.warn(\"The objective has been evaluated \"\n",
      "/home/billy/.local/lib/python3.8/site-packages/skopt/optimizer/optimizer.py:450: UserWarning: The objective has been evaluated at this point before.\n",
      "  warnings.warn(\"The objective has been evaluated \"\n"
     ]
    },
    {
     "name": "stdout",
     "output_type": "stream",
     "text": [
      "DUPLICATE POINTS [17, 31] NEW POINTS [17, 31]\n",
      "inside func {'xi': 0.01, 'noise': 0.0001}\n",
      "DUPLICATE POINTS [28, 6] NEW POINTS [28, 6]\n",
      "0.01\n",
      "[28, 6]\n",
      "47\n",
      "0.01\n",
      "[31, 26]\n",
      "47\n",
      "0.01\n",
      "[7, 0]\n",
      "47\n",
      "0.01\n",
      "[17, 35]\n",
      "stable\n",
      "start lattice tracing\n",
      "[ 8.70755495e-03 -7.40106552e-04 -1.98988872e+02  6.15662638e+00\n",
      "  3.53922363e+00]\n",
      "0.859607540897419 100.16113013611665\n",
      "done mode matching 368.3641188144684\n",
      "start mode match\n"
     ]
    },
    {
     "name": "stderr",
     "output_type": "stream",
     "text": [
      "/home/billy/.local/lib/python3.8/site-packages/scipy/optimize/_differentialevolution.py:495: UserWarning: differential_evolution: the 'workers' keyword has overridden updating='immediate' to updating='deferred'\n",
      "  warnings.warn(\"differential_evolution: the 'workers' keyword has\"\n"
     ]
    },
    {
     "name": "stdout",
     "output_type": "stream",
     "text": [
      "differential_evolution step 1: f(x)= -7.44904\n",
      "differential_evolution step 2: f(x)= -7.44904\n",
      "differential_evolution step 3: f(x)= -7.44904\n",
      "differential_evolution step 4: f(x)= -7.44904\n",
      "differential_evolution step 5: f(x)= -7.44904\n",
      "done mode match 79.33682298660278\n",
      "7.449038836620386\n",
      "7.449038836620386\n",
      "-0.07449038836620386\n",
      "48\n",
      "xi was reset\n",
      "0.0025\n",
      "[9, 50]\n",
      "48\n",
      "inside func {'xi': 0.005, 'noise': 0.0001}\n"
     ]
    },
    {
     "name": "stderr",
     "output_type": "stream",
     "text": [
      "/home/billy/.local/lib/python3.8/site-packages/skopt/optimizer/optimizer.py:450: UserWarning: The objective has been evaluated at this point before.\n",
      "  warnings.warn(\"The objective has been evaluated \"\n",
      "/home/billy/.local/lib/python3.8/site-packages/skopt/optimizer/optimizer.py:450: UserWarning: The objective has been evaluated at this point before.\n",
      "  warnings.warn(\"The objective has been evaluated \"\n"
     ]
    },
    {
     "name": "stdout",
     "output_type": "stream",
     "text": [
      "DUPLICATE POINTS [17, 31] NEW POINTS [17, 31]\n",
      "inside func {'xi': 0.01, 'noise': 0.0001}\n",
      "DUPLICATE POINTS [12, 28] NEW POINTS [12, 28]\n",
      "0.01\n",
      "[12, 28]\n",
      "48\n",
      "0.01\n",
      "[30, 50]\n",
      "48\n",
      "0.01\n",
      "[3, 8]\n",
      "48\n",
      "0.01\n",
      "[40, 50]\n",
      "48\n",
      "xi was reset\n",
      "0.0025\n",
      "[13, 48]\n",
      "stable\n",
      "start lattice tracing\n",
      "[ 8.70755495e-03 -7.40106552e-04 -1.98988872e+02  6.15662638e+00\n",
      "  3.53922363e+00]\n",
      "0.9274930883471139 99.83921473661368\n",
      "done mode matching 401.654256105423\n",
      "start mode match\n"
     ]
    },
    {
     "name": "stderr",
     "output_type": "stream",
     "text": [
      "/home/billy/.local/lib/python3.8/site-packages/scipy/optimize/_differentialevolution.py:495: UserWarning: differential_evolution: the 'workers' keyword has overridden updating='immediate' to updating='deferred'\n",
      "  warnings.warn(\"differential_evolution: the 'workers' keyword has\"\n"
     ]
    },
    {
     "name": "stdout",
     "output_type": "stream",
     "text": [
      "differential_evolution step 1: f(x)= -6.0213\n",
      "differential_evolution step 2: f(x)= -6.05647\n",
      "differential_evolution step 3: f(x)= -6.05647\n",
      "differential_evolution step 4: f(x)= -6.05647\n",
      "differential_evolution step 5: f(x)= -6.09383\n",
      "done mode match 76.43424868583679\n",
      "6.093834765142932\n",
      "6.093834765142932\n",
      "-0.06093834765142932\n",
      "49\n",
      "inside func {'xi': 0.005, 'noise': 0.0001}\n"
     ]
    },
    {
     "name": "stderr",
     "output_type": "stream",
     "text": [
      "/home/billy/.local/lib/python3.8/site-packages/skopt/optimizer/optimizer.py:450: UserWarning: The objective has been evaluated at this point before.\n",
      "  warnings.warn(\"The objective has been evaluated \"\n",
      "/home/billy/.local/lib/python3.8/site-packages/skopt/optimizer/optimizer.py:450: UserWarning: The objective has been evaluated at this point before.\n",
      "  warnings.warn(\"The objective has been evaluated \"\n"
     ]
    },
    {
     "name": "stdout",
     "output_type": "stream",
     "text": [
      "DUPLICATE POINTS [17, 31] NEW POINTS [17, 31]\n",
      "inside func {'xi': 0.01, 'noise': 0.0001}\n"
     ]
    },
    {
     "name": "stderr",
     "output_type": "stream",
     "text": [
      "/home/billy/.local/lib/python3.8/site-packages/skopt/optimizer/optimizer.py:450: UserWarning: The objective has been evaluated at this point before.\n",
      "  warnings.warn(\"The objective has been evaluated \"\n"
     ]
    },
    {
     "name": "stdout",
     "output_type": "stream",
     "text": [
      "DUPLICATE POINTS [17, 31] NEW POINTS [17, 31]\n",
      "inside func {'xi': 0.02, 'noise': 0.0001}\n",
      "DUPLICATE POINTS [50, 15] NEW POINTS [50, 15]\n",
      "0.02\n",
      "[50, 15]\n",
      "49\n",
      "0.02\n",
      "[48, 50]\n",
      "49\n",
      "0.02\n",
      "[45, 0]\n",
      "49\n",
      "0.02\n",
      "[10, 46]\n",
      "49\n",
      "xi was reset\n",
      "0.0025\n",
      "[20, 39]\n",
      "49\n",
      "inside func {'xi': 0.005, 'noise': 0.0001}\n"
     ]
    },
    {
     "name": "stderr",
     "output_type": "stream",
     "text": [
      "/home/billy/.local/lib/python3.8/site-packages/skopt/optimizer/optimizer.py:450: UserWarning: The objective has been evaluated at this point before.\n",
      "  warnings.warn(\"The objective has been evaluated \"\n",
      "/home/billy/.local/lib/python3.8/site-packages/skopt/optimizer/optimizer.py:450: UserWarning: The objective has been evaluated at this point before.\n",
      "  warnings.warn(\"The objective has been evaluated \"\n"
     ]
    },
    {
     "name": "stdout",
     "output_type": "stream",
     "text": [
      "DUPLICATE POINTS [17, 31] NEW POINTS [17, 31]\n",
      "inside func {'xi': 0.01, 'noise': 0.0001}\n"
     ]
    },
    {
     "name": "stderr",
     "output_type": "stream",
     "text": [
      "/home/billy/.local/lib/python3.8/site-packages/skopt/optimizer/optimizer.py:450: UserWarning: The objective has been evaluated at this point before.\n",
      "  warnings.warn(\"The objective has been evaluated \"\n"
     ]
    },
    {
     "name": "stdout",
     "output_type": "stream",
     "text": [
      "DUPLICATE POINTS [17, 31] NEW POINTS [17, 31]\n",
      "inside func {'xi': 0.02, 'noise': 0.0001}\n",
      "DUPLICATE POINTS [27, 41] NEW POINTS [27, 41]\n",
      "0.02\n",
      "[27, 41]\n",
      "49\n",
      "0.02\n",
      "[6, 40]\n",
      "49\n",
      "0.02\n",
      "[42, 28]\n",
      "stable\n",
      "start lattice tracing\n",
      "[ 8.70755495e-03 -7.40106552e-04 -1.98988872e+02  6.15662638e+00\n",
      "  3.53922363e+00]\n",
      "0.3869632830642151 19.040434385990896\n",
      "done mode matching 173.7342848777771\n",
      "start mode match\n"
     ]
    },
    {
     "name": "stderr",
     "output_type": "stream",
     "text": [
      "/home/billy/.local/lib/python3.8/site-packages/scipy/optimize/_differentialevolution.py:495: UserWarning: differential_evolution: the 'workers' keyword has overridden updating='immediate' to updating='deferred'\n",
      "  warnings.warn(\"differential_evolution: the 'workers' keyword has\"\n"
     ]
    },
    {
     "name": "stdout",
     "output_type": "stream",
     "text": [
      "differential_evolution step 1: f(x)= -1.30597\n",
      "differential_evolution step 2: f(x)= -1.30597\n",
      "differential_evolution step 3: f(x)= -1.30597\n",
      "differential_evolution step 4: f(x)= -1.32281\n",
      "differential_evolution step 5: f(x)= -1.37013\n",
      "done mode match 66.13131737709045\n",
      "1.3701298259489647\n",
      "1.3701298259489647\n",
      "-0.013701298259489646\n",
      "19101.435841560364\n"
     ]
    }
   ],
   "source": [
    "sol=compute_Sol(1e-5,100.0,50)"
   ]
  },
  {
   "cell_type": "code",
   "execution_count": 3,
   "metadata": {},
   "outputs": [
    {
     "data": {
      "text/plain": [
       "<AxesSubplot:title={'center':'Convergence plot'}, xlabel='Number of calls $n$', ylabel='$\\\\min f(x)$ after $n$ calls'>"
      ]
     },
     "execution_count": 3,
     "metadata": {},
     "output_type": "execute_result"
    },
    {
     "data": {
      "image/png": "[encoded data removed]",
      "text/plain": [
       "<Figure size 432x288 with 1 Axes>"
      ]
     },
     "metadata": {
      "needs_background": "light"
     },
     "output_type": "display_data"
    }
   ],
   "source": [
    "import skopt.plots\n",
    "skopt.plots.plot_convergence(sol.skoptSol)"
   ]
  },
  {
   "cell_type": "code",
   "execution_count": 4,
   "metadata": {},
   "outputs": [
    {
     "data": {
      "text/plain": [
       "array([[<AxesSubplot:xlabel='$X_{0}$', ylabel='Partial dependence'>,\n",
       "        <AxesSubplot:>],\n",
       "       [<AxesSubplot:xlabel='$X_{0}$', ylabel='$X_{1}$'>,\n",
       "        <AxesSubplot:xlabel='$X_{1}$', ylabel='Partial dependence'>]],\n",
       "      dtype=object)"
      ]
     },
     "execution_count": 4,
     "metadata": {},
     "output_type": "execute_result"
    },
    {
     "data": {
      "image/png": "[encoded data removed]",
      "text/plain": [
       "<Figure size 288x288 with 4 Axes>"
      ]
     },
     "metadata": {
      "needs_background": "light"
     },
     "output_type": "display_data"
    }
   ],
   "source": [
    "skopt.plots.plot_objective(sol.skoptSol)#,0,1)"
   ]
  },
  {
   "cell_type": "code",
   "execution_count": null,
   "metadata": {
    "jupyter": {
     "outputs_hidden": false,
     "source_hidden": false
    },
    "nteract": {
     "transient": {
      "deleting": false
     }
    }
   },
   "outputs": [],
   "source": []
  },
  {
   "cell_type": "code",
   "execution_count": 5,
   "metadata": {},
   "outputs": [
    {
     "data": {
      "text/plain": [
       "(array([17, 32]), array([12, 38]))"
      ]
     },
     "execution_count": 5,
     "metadata": {},
     "output_type": "execute_result"
    }
   ],
   "source": [
    "%matplotlib tk\n",
    "import scipy.interpolate as spi\n",
    "x=sol.skoptSol.x_iters\n",
    "y=sol.skoptSol.func_vals\n",
    "x=np.asarray(x)\n",
    "y=np.asarray(y)\n",
    "func=sol.skoptSol.models[-6].predict#spi.Rbf(x[:,0],x[:,1],y,smooth=1e-1)#LinearNDInterpolator(x,y)\n",
    "\n",
    "plotxArr=np.linspace(0,1,num=250)\n",
    "plotyArr = np.linspace(0,1, num=250)\n",
    "image=np.empty((plotxArr.shape[0],plotyArr.shape[0]))\n",
    "for i in range(plotxArr.shape[0]):\n",
    "    for j in range(plotyArr.shape[0]):\n",
    "        image[j,i]=func([[plotxArr[i],plotyArr[j]]])\n",
    "        \n",
    "image=np.flip(image,axis=0)\n",
    "plt.imshow(image,extent=[0,50.0,0,50.0])\n",
    "plt.scatter(x[:,0],x[:,1],s=10,c='r')\n",
    "plt.show()\n",
    "x[y.argmin()],x[y.argmax()]"
   ]
  },
  {
   "cell_type": "code",
   "execution_count": 6,
   "metadata": {},
   "outputs": [
    {
     "data": {
      "text/plain": [
       "array([-0.012856])"
      ]
     },
     "execution_count": 6,
     "metadata": {},
     "output_type": "execute_result"
    }
   ],
   "source": [
    "sol.skoptSol.models[-1].predict([[.1,.1]])"
   ]
  },
  {
   "cell_type": "code",
   "execution_count": 7,
   "metadata": {},
   "outputs": [
    {
     "data": {
      "text/plain": [
       "3.888888888888889"
      ]
     },
     "execution_count": 7,
     "metadata": {},
     "output_type": "execute_result"
    }
   ],
   "source": [
    "14000/3600"
   ]
  },
  {
   "cell_type": "code",
   "execution_count": 8,
   "metadata": {},
   "outputs": [
    {
     "name": "stdout",
     "output_type": "stream",
     "text": [
      "SOMETHING DOES NOT MAKE SENSE HERE. This needs to follow the same rules as when in the lattice.\n",
      "SOMETHING DOES NOT MAKE SENSE HERE. This needs to follow the same rules as when in the lattice.\n"
     ]
    }
   ],
   "source": [
    "lattice=get_Lattice(trackPotential=True)\n",
    "XOpt=[0.1965124968503868, 0.3353395620895592]\n",
    "lattice.elList[2].forceFact=XOpt[0]\n",
    "lattice.elList[4].forceFact = XOpt[1]\n",
    "T0=100.0*lattice.totalLength/lattice.v0Nominal"
   ]
  },
  {
   "cell_type": "code",
   "execution_count": 9,
   "metadata": {},
   "outputs": [
    {
     "ename": "NameError",
     "evalue": "name 'Optimizer' is not defined",
     "output_type": "error",
     "traceback": [
      "\u001b[0;31m---------------------------------------------------------------------------\u001b[0m",
      "\u001b[0;31mNameError\u001b[0m                                 Traceback (most recent call last)",
      "\u001b[0;32m<ipython-input-9-c8f68474d23f>\u001b[0m in \u001b[0;36m<module>\u001b[0;34m\u001b[0m\n\u001b[0;32m----> 1\u001b[0;31m \u001b[0moptimizer\u001b[0m\u001b[0;34m=\u001b[0m\u001b[0mOptimizer\u001b[0m\u001b[0;34m(\u001b[0m\u001b[0mlattice\u001b[0m\u001b[0;34m)\u001b[0m\u001b[0;34m\u001b[0m\u001b[0;34m\u001b[0m\u001b[0m\n\u001b[0m\u001b[1;32m      2\u001b[0m \u001b[0mswarm\u001b[0m \u001b[0;34m=\u001b[0m\u001b[0moptimizer\u001b[0m\u001b[0;34m.\u001b[0m\u001b[0minitialize_Random_Swarm_At_Combiner_Output\u001b[0m\u001b[0;34m(\u001b[0m\u001b[0;36m3e-3\u001b[0m\u001b[0;34m,\u001b[0m\u001b[0;36m5e0\u001b[0m\u001b[0;34m,\u001b[0m\u001b[0;36m100\u001b[0m\u001b[0;34m)\u001b[0m\u001b[0;34m\u001b[0m\u001b[0;34m\u001b[0m\u001b[0m\n\u001b[1;32m      3\u001b[0m \u001b[0mswarm\u001b[0m\u001b[0;34m=\u001b[0m\u001b[0moptimizer\u001b[0m\u001b[0;34m.\u001b[0m\u001b[0mtrace_Swarm_Through_Lattice\u001b[0m\u001b[0;34m(\u001b[0m\u001b[0mswarm\u001b[0m\u001b[0;34m,\u001b[0m\u001b[0;36m5e-6\u001b[0m\u001b[0;34m,\u001b[0m\u001b[0mT0\u001b[0m\u001b[0;34m,\u001b[0m\u001b[0mparallel\u001b[0m\u001b[0;34m=\u001b[0m\u001b[0;32mTrue\u001b[0m\u001b[0;34m,\u001b[0m\u001b[0mfastMode\u001b[0m\u001b[0;34m=\u001b[0m\u001b[0;32mFalse\u001b[0m\u001b[0;34m)\u001b[0m\u001b[0;34m\u001b[0m\u001b[0;34m\u001b[0m\u001b[0m\n",
      "\u001b[0;31mNameError\u001b[0m: name 'Optimizer' is not defined"
     ]
    }
   ],
   "source": [
    "optimizer=Optimizer(lattice)\n",
    "swarm =optimizer.initialize_Random_Swarm_At_Combiner_Output(3e-3,5e0,100)\n",
    "swarm=optimizer.trace_Swarm_Through_Lattice(swarm,5e-6,T0,parallel=True,fastMode=False)"
   ]
  },
  {
   "cell_type": "code",
   "execution_count": null,
   "metadata": {},
   "outputs": [],
   "source": [
    "for particle in swarm.particles[:]:\n",
    "    qoArr=particle.qoArr\n",
    "    qArr=particle.qArr\n",
    "    EArr=particle.EArr\n",
    "    TArr=particle.TArr\n",
    "    VArr=particle.VArr\n",
    "    if particle.revolutions>1:\n",
    "        pass\n",
    "        #lattice.show_Lattice(particleCoords=qArr[-1])\n",
    "        #plt.plot(qoArr[:,0],TArr)\n",
    "        #plt.show()\n",
    "    print(particle.revolutions,particle.currentElIndex)"
   ]
  },
  {
   "cell_type": "code",
   "execution_count": null,
   "metadata": {},
   "outputs": [],
   "source": [
    "import numpy as np\n",
    "np.sqrt((.85)**2+(.85)**2)"
   ]
  },
  {
   "cell_type": "code",
   "execution_count": null,
   "metadata": {},
   "outputs": [],
   "source": [
    "test=[1,2,3,4,5]\n",
    "print(test.pop())\n",
    "print(test.pop())\n",
    "print(test.pop())\n",
    "print(test.pop())\n",
    "print(test.pop())\n",
    "print(test.pop())"
   ]
  }
 ],
 "metadata": {
  "kernel_info": {
   "name": "python3"
  },
  "kernelspec": {
   "display_name": "Python 3",
   "language": "python",
   "name": "python3"
  },
  "language_info": {
   "codemirror_mode": {
    "name": "ipython",
    "version": 3
   },
   "file_extension": ".py",
   "mimetype": "text/x-python",
   "name": "python",
   "nbconvert_exporter": "python",
   "pygments_lexer": "ipython3",
   "version": "3.8.5"
  },
  "nteract": {
   "version": "0.28.0"
  }
 },
 "nbformat": 4,
 "nbformat_minor": 1
}
