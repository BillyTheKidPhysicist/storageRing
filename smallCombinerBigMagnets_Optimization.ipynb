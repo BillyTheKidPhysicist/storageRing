{
 "cells": [
  {
   "cell_type": "markdown",
   "metadata": {},
   "source": [
    "modulating magnets lenses 0 and 1 gives a minimum at (.45,.16) modulation factors with an average survival time of 115 revolutions\n",
    "\n",
    "splitting lens 3 into two lens and modulating gives a maximum of 2.\n"
   ]
  },
  {
   "cell_type": "code",
   "execution_count": 1,
   "metadata": {
    "execution": {
     "iopub.execute_input": "2021-02-16T02:27:16.152Z",
     "iopub.status.busy": "2021-02-16T02:27:16.140Z",
     "iopub.status.idle": "2021-02-16T02:27:26.696Z",
     "shell.execute_reply": "2021-02-16T02:27:26.869Z"
    },
    "jupyter": {
     "outputs_hidden": false,
     "source_hidden": false
    },
    "nteract": {
     "transient": {
      "deleting": false
     }
    }
   },
   "outputs": [],
   "source": [
    "import skopt\n",
    "from smallCombinerBigMagnets import *"
   ]
  },
  {
   "cell_type": "code",
   "execution_count": null,
   "metadata": {},
   "outputs": [
    {
     "name": "stdout",
     "output_type": "stream",
     "text": [
      "injector bounds\n",
      "[(0.1, 0.25), (0.546066659738348, 1.5460666597383481), (-0.14868888657944934, 0.14868888657944934)]\n",
      "generating monte carlo bounds\n"
     ]
    }
   ],
   "source": [
    "sol=compute_Sol(1e-5,500.0,30,modulation='01')"
   ]
  },
  {
   "cell_type": "code",
   "execution_count": null,
   "metadata": {},
   "outputs": [],
   "source": [
    "sol"
   ]
  },
  {
   "cell_type": "code",
   "execution_count": null,
   "metadata": {},
   "outputs": [],
   "source": [
    "import skopt.plots\n",
    "skopt.plots.plot_convergence(sol.skoptSol)"
   ]
  },
  {
   "cell_type": "code",
   "execution_count": null,
   "metadata": {},
   "outputs": [],
   "source": [
    "skopt.plots.plot_objective_2D(sol.skoptSol,0,1)\n",
    "sol.skoptSol.x,sol.skoptSol.fun"
   ]
  },
  {
   "cell_type": "code",
   "execution_count": null,
   "metadata": {
    "jupyter": {
     "outputs_hidden": false,
     "source_hidden": false
    },
    "nteract": {
     "transient": {
      "deleting": false
     }
    }
   },
   "outputs": [],
   "source": []
  },
  {
   "cell_type": "code",
   "execution_count": null,
   "metadata": {},
   "outputs": [],
   "source": [
    "# %matplotlib tk\n",
    "# import scipy.interpolate as spi\n",
    "# x=sol.skoptSol.x_iters\n",
    "# y=sol.skoptSol.func_vals\n",
    "# x=np.asarray(x)\n",
    "# y=np.asarray(y)\n",
    "# func=sol.skoptSol.models[-6].predict#spi.Rbf(x[:,0],x[:,1],y,smooth=1e-1)#LinearNDInterpolator(x,y)\n",
    "\n",
    "# plotxArr=np.linspace(0,1,num=250)\n",
    "# plotyArr = np.linspace(0,1, num=250)\n",
    "# image=np.empty((plotxArr.shape[0],plotyArr.shape[0]))\n",
    "# for i in range(plotxArr.shape[0]):\n",
    "#     for j in range(plotyArr.shape[0]):\n",
    "#         image[j,i]=func([[plotxArr[i],plotyArr[j]]])\n",
    "        \n",
    "# image=np.flip(image,axis=0)\n",
    "# plt.imshow(image,extent=[0,50.0,0,50.0])\n",
    "# plt.scatter(x[:,0],x[:,1],s=10,c='r')\n",
    "# plt.show()\n",
    "# x[y.argmin()],x[y.argmax()]"
   ]
  },
  {
   "cell_type": "code",
   "execution_count": null,
   "metadata": {},
   "outputs": [],
   "source": [
    "# lattice=get_Lattice(trackPotential=True)\n",
    "# XOpt=[0.1965124968503868, 0.3353395620895592]\n",
    "# lattice.elList[2].forceFact=XOpt[0]\n",
    "# lattice.elList[4].forceFact = XOpt[1]\n",
    "# T0=100.0*lattice.totalLength/lattice.v0Nominal"
   ]
  },
  {
   "cell_type": "code",
   "execution_count": null,
   "metadata": {},
   "outputs": [],
   "source": [
    "# optimizer=Optimizer(lattice)\n",
    "# swarm =optimizer.initialize_Random_Swarm_At_Combiner_Output(3e-3,5e0,100)\n",
    "# swarm=optimizer.trace_Swarm_Through_Lattice(swarm,5e-6,T0,parallel=True,fastMode=False)"
   ]
  },
  {
   "cell_type": "code",
   "execution_count": null,
   "metadata": {},
   "outputs": [],
   "source": [
    "# for particle in swarm.particles[:]:\n",
    "#     qoArr=particle.qoArr\n",
    "#     qArr=particle.qArr\n",
    "#     EArr=particle.EArr\n",
    "#     TArr=particle.TArr\n",
    "#     VArr=particle.VArr\n",
    "#     if particle.revolutions>1:\n",
    "#         pass\n",
    "#         #lattice.show_Lattice(particleCoords=qArr[-1])\n",
    "#         #plt.plot(qoArr[:,0],TArr)\n",
    "#         #plt.show()\n",
    "#     print(particle.revolutions,particle.currentElIndex)"
   ]
  },
  {
   "cell_type": "code",
   "execution_count": null,
   "metadata": {},
   "outputs": [],
   "source": []
  }
 ],
 "metadata": {
  "kernel_info": {
   "name": "python3"
  },
  "kernelspec": {
   "display_name": "Python 3",
   "language": "python",
   "name": "python3"
  },
  "language_info": {
   "codemirror_mode": {
    "name": "ipython",
    "version": 3
   },
   "file_extension": ".py",
   "mimetype": "text/x-python",
   "name": "python",
   "nbconvert_exporter": "python",
   "pygments_lexer": "ipython3",
   "version": "3.8.5"
  },
  "nteract": {
   "version": "0.28.0"
  }
 },
 "nbformat": 4,
 "nbformat_minor": 1
}
