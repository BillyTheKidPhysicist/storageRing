{
 "cells": [
  {
   "cell_type": "markdown",
   "metadata": {},
   "source": [
    "Results show that the optimal solution is likely [0.18879063981746194, 0.3420116728566099], with a cost of -41.97\n",
    "\n",
    "repeat with 50% more points, but interrupted early and with an error fixed, shows [0.18963631198709077, 0.32344411874624834] -30.811047097509547 \n",
    "\n",
    "repeated over a smaller area gives ([0.1965124968503868, 0.3353395620895592], -41.63474736733871)\n",
    "\n",
    "Again, with integer axis values gives a position of [.2,.33] and a value of 28 (using smaller total revs)"
   ]
  },
  {
   "cell_type": "code",
   "execution_count": 1,
   "metadata": {
    "execution": {
     "iopub.execute_input": "2021-02-16T02:27:16.152Z",
     "iopub.status.busy": "2021-02-16T02:27:16.140Z",
     "iopub.status.idle": "2021-02-16T02:27:26.696Z",
     "shell.execute_reply": "2021-02-16T02:27:26.869Z"
    },
    "jupyter": {
     "outputs_hidden": false,
     "source_hidden": false
    },
    "nteract": {
     "transient": {
      "deleting": false
     }
    }
   },
   "outputs": [],
   "source": [
    "import skopt\n",
    "from smallCombinerBigMagnets import *"
   ]
  },
  {
   "cell_type": "code",
   "execution_count": 2,
   "metadata": {
    "execution": {
     "iopub.execute_input": "2021-02-16T02:27:26.720Z",
     "iopub.status.busy": "2021-02-16T02:27:26.708Z",
     "iopub.status.idle": "2021-02-16T02:27:26.844Z",
     "shell.execute_reply": "2021-02-16T02:27:26.876Z"
    },
    "jupyter": {
     "outputs_hidden": false,
     "source_hidden": false
    },
    "nteract": {
     "transient": {
      "deleting": false
     }
    }
   },
   "outputs": [
    {
     "name": "stdout",
     "output_type": "stream",
     "text": [
      "starting\n",
      "herere 0 0 25\n",
      "[0.41, 0.3] 8.468331922954393 49.90288660710302\n",
      "herere 1 1 25\n",
      "herere 2 1 25\n",
      "herere 3 1 25\n",
      "herere 4 1 25\n",
      "herere 5 1 25\n",
      "herere 6 1 25\n",
      "herere 7 1 25\n",
      "herere 8 1 25\n",
      "herere 9 1 25\n",
      "[0.04, 0.29] 5.542591680399818 49.951107660579524\n",
      "herere 10 2 25\n",
      "herere 11 2 25\n",
      "[0.09, 0.24] 2.090869372115191 28.99991855203686\n",
      "herere 12 3 25\n",
      "herere 13 3 25\n",
      "herere 14 3 25\n",
      "herere 15 3 25\n",
      "herere 16 3 25\n",
      "herere 17 3 25\n",
      "herere 18 3 25\n",
      "herere 19 3 25\n",
      "[0.09, 0.25] 7.843583992393311 49.9250445718575\n",
      "herere 20 4 25\n",
      "herere 21 4 25\n",
      "herere 22 4 25\n",
      "herere 23 4 25\n",
      "[0.02, 0.28] 4.610758261415185 46.473326859221814\n",
      "herere 24 5 25\n",
      "herere 25 5 25\n",
      "herere 26 5 25\n",
      "herere 27 5 25\n",
      "[0.12, 0.24] 12.317838954576143 50.05839511138158\n",
      "herere 28 6 25\n",
      "[0.09, 0.06] 4.800888946361939 49.913180969770124\n",
      "herere 29 7 25\n",
      "herere 30 7 25\n",
      "herere 31 7 25\n",
      "herere 32 7 25\n",
      "herere 33 7 25\n",
      "herere 34 7 25\n",
      "herere 35 7 25\n",
      "herere 36 7 25\n",
      "herere 37 7 25\n",
      "herere 38 7 25\n",
      "[0.15, 0.12] 5.707989451611413 49.95776694365851\n",
      "herere 39 8 25\n",
      "herere 40 8 25\n",
      "[0.14, 0.19] 4.822928540428278 50.040015925353806\n",
      "herere 41 9 25\n",
      "herere 42 9 25\n",
      "herere 43 9 25\n",
      "herere 44 9 25\n",
      "herere 45 9 25\n",
      "herere 46 9 25\n",
      "herere 47 9 25\n",
      "herere 48 9 25\n",
      "herere 49 9 25\n",
      "herere 50 9 25\n",
      "[0.49, 0.3] 6.579947973096815 49.917777789313455\n",
      "herere 51 10 25\n",
      "herere 52 10 25\n",
      "herere 53 10 25\n",
      "herere 54 10 25\n",
      "herere 55 10 25\n",
      "herere 56 10 25\n",
      "herere 57 10 25\n",
      "herere 58 10 25\n",
      "herere 59 10 25\n",
      "herere 60 10 25\n",
      "herere 61 10 25\n",
      "herere 62 10 25\n",
      "[0.15, 0.19] 1.4020973937350631 49.95358769978237\n",
      "herere 63 11 25\n",
      "[0.41, 0.31] 3.8204677444256014 49.92510894164065\n",
      "herere 64 12 25\n",
      "herere 65 12 25\n",
      "herere 66 12 25\n",
      "herere 67 12 25\n",
      "herere 68 12 25\n",
      "herere 69 12 25\n",
      "[0.28, 0.3] 9.39925472620637 45.99545933773659\n",
      "herere 70 13 25\n",
      "herere 71 13 25\n",
      "herere 72 13 25\n",
      "herere 73 13 25\n",
      "herere 74 13 25\n",
      "herere 75 13 25\n",
      "herere 76 13 25\n",
      "herere 77 13 25\n",
      "herere 78 13 25\n",
      "herere 79 13 25\n",
      "herere 80 13 25\n",
      "herere 81 13 25\n",
      "herere 82 13 25\n",
      "herere 83 13 25\n",
      "[0.24, 0.31] 19.598650816400873 49.8970692482023\n",
      "herere 84 14 25\n",
      "herere 85 14 25\n",
      "herere 86 14 25\n",
      "herere 87 14 25\n",
      "[0.32, 0.3] 9.39099344510353 49.87128344512345\n",
      "herere 88 15 25\n",
      "herere 89 15 25\n",
      "herere 90 15 25\n",
      "herere 91 15 25\n",
      "herere 92 15 25\n",
      "herere 93 15 25\n",
      "herere 94 15 25\n",
      "herere 95 15 25\n",
      "herere 96 15 25\n",
      "herere 97 15 25\n",
      "herere 98 15 25\n",
      "herere 99 15 25\n",
      "herere 100 15 25\n",
      "herere 101 15 25\n",
      "herere 102 15 25\n",
      "herere 103 15 25\n",
      "herere 104 15 25\n",
      "[0.14, 0.24] 2.139580673917079 50.10848985847597\n",
      "herere 105 16 25\n",
      "herere 106 16 25\n",
      "herere 107 16 25\n",
      "herere 108 16 25\n",
      "herere 109 16 25\n",
      "herere 110 16 25\n",
      "[0.13, 0.23] 8.623746976317214 50.071890290085356\n",
      "herere 111 17 25\n",
      "herere 112 17 25\n",
      "herere 113 17 25\n",
      "herere 114 17 25\n",
      "herere 115 17 25\n",
      "herere 116 17 25\n",
      "[0.04, 0.28] 9.151903792139011 49.921587319099785\n",
      "herere 117 18 25\n",
      "herere 118 18 25\n",
      "herere 119 18 25\n",
      "herere 120 18 25\n",
      "herere 121 18 25\n",
      "herere 122 18 25\n",
      "herere 123 18 25\n",
      "herere 124 18 25\n",
      "herere 125 18 25\n",
      "herere 126 18 25\n",
      "herere 127 18 25\n",
      "[0.14, 0.44] 4.465209837837312 49.90614535174313\n",
      "herere 128 19 25\n",
      "herere 129 19 25\n",
      "herere 130 19 25\n",
      "herere 131 19 25\n",
      "[0.18, 0.43] 2.021668921133154 49.973364835899595\n",
      "herere 132 20 25\n",
      "herere 133 20 25\n",
      "herere 134 20 25\n",
      "[0.22, 0.32] 25.218224813377002 49.93469546821391\n",
      "herere 135 21 25\n",
      "herere 136 21 25\n",
      "herere 137 21 25\n",
      "herere 138 21 25\n",
      "herere 139 21 25\n",
      "herere 140 21 25\n",
      "herere 141 21 25\n",
      "herere 142 21 25\n",
      "herere 143 21 25\n",
      "herere 144 21 25\n",
      "[0.14, 0.48] 9.653289652164561 49.976275361357835\n",
      "herere 145 22 25\n",
      "herere 146 22 25\n",
      "herere 147 22 25\n",
      "herere 148 22 25\n",
      "herere 149 22 25\n",
      "herere 150 22 25\n",
      "[0.38, 0.3] 8.296962606983902 49.89330807059788\n",
      "herere 151 23 25\n",
      "herere 152 23 25\n",
      "herere 153 23 25\n",
      "herere 154 23 25\n",
      "[0.48, 0.3] 6.870769044622051 49.92368978250516\n",
      "herere 155 24 25\n",
      "herere 156 24 25\n",
      "[0.17, 0.43] 8.451893304673442 50.0914686030694\n",
      "herere 157 25 25\n",
      "[0.22, 0.31] 20.770076652271317 49.898502925621365\n",
      "herere 158 26 25\n",
      "[0.23, 0.32] 21.707592537433996 49.92845283346342\n",
      "herere 159 27 25\n",
      "[0.21, 0.33] 24.737811969322443 49.95663534740762\n",
      "herere 160 28 25\n",
      "[0.21, 0.32] 25.743091819886597 49.92703818251774\n",
      "herere 161 29 25\n",
      "[0.22, 0.33] 19.0837717480633 49.948229914823536\n",
      "herere 162 30 25\n",
      "[0.2, 0.33] 28.205981628826923 49.95241392146098\n",
      "herere 163 31 25\n",
      "[0.19, 0.33] 27.429452187979333 49.94914681735383\n",
      "herere 164 32 25\n",
      "[0.19, 0.34] 27.08468784598575 49.97776787946051\n",
      "herere 165 33 25\n",
      "[0.2, 0.34] 23.16986243124355 49.97593083530202\n",
      "herere 166 34 25\n",
      "[0.18, 0.34] 25.908317286657574 49.966506310590795\n",
      "herere 167 35 25\n",
      "[0.18, 0.35] 25.459600489005222 49.993017392454675\n",
      "herere 168 36 25\n",
      "[0.2, 0.32] 26.400905450374506 49.92172449311224\n",
      "herere 169 37 25\n",
      "[0.19, 0.36] 17.81307854984236 50.008657065235184\n",
      "herere 170 38 25\n",
      "[0.17, 0.36] 21.61765986618921 49.99678850638073\n",
      "herere 171 39 25\n",
      "[0.16, 0.39] 15.26289560824586 49.99221061619932\n",
      "herere 172 40 25\n",
      "herere 173 40 25\n",
      "[0.19, 0.32] 24.21289221548612 49.91927280909213\n",
      "herere 174 41 25\n",
      "[0.15, 0.37] 2.656023170525637 37.00885258328198\n",
      "herere 175 42 25\n",
      "[0.18, 0.38] 14.59230648529182 50.04224496757043\n",
      "herere 176 43 25\n",
      "[0.15, 0.41] 8.82759931818292 49.951366483555326\n",
      "herere 177 44 25\n",
      "[0.17, 0.35] 21.558527512245902 49.96340513810349\n",
      "herere 178 45 25\n",
      "[0.09, 0.28] 20.052453896518415 50.03164030563415\n",
      "herere 179 46 25\n",
      "[0.11, 0.27] 20.491322219685294 50.09661054656775\n",
      "herere 180 47 25\n",
      "[0.1, 0.29] 3.821362763602463 19.060674654402984\n",
      "herere 181 48 25\n",
      "[0.09, 0.27] 24.14127165325748 50.021883986266005\n",
      "herere 182 49 25\n",
      "[0.07, 0.28] 21.36598766954379 49.97361064689394\n",
      "14252.918676376343\n"
     ]
    }
   ],
   "source": [
    "sol=compute_Sol(5e-6,50,2000,50)"
   ]
  },
  {
   "cell_type": "code",
   "execution_count": 3,
   "metadata": {},
   "outputs": [
    {
     "data": {
      "text/plain": [
       "<AxesSubplot:title={'center':'Convergence plot'}, xlabel='Number of calls $n$', ylabel='$\\\\min f(x)$ after $n$ calls'>"
      ]
     },
     "execution_count": 3,
     "metadata": {},
     "output_type": "execute_result"
    },
    {
     "data": {
      "image/png": "[encoded data removed]",
      "text/plain": [
       "<Figure size 432x288 with 1 Axes>"
      ]
     },
     "metadata": {
      "needs_background": "light"
     },
     "output_type": "display_data"
    }
   ],
   "source": [
    "import skopt.plots\n",
    "skopt.plots.plot_convergence(sol.skoptSol)"
   ]
  },
  {
   "cell_type": "code",
   "execution_count": 4,
   "metadata": {},
   "outputs": [
    {
     "data": {
      "text/plain": [
       "<AxesSubplot:>"
      ]
     },
     "execution_count": 4,
     "metadata": {},
     "output_type": "execute_result"
    },
    {
     "data": {
      "image/png": "[encoded data removed]",
      "text/plain": [
       "<Figure size 432x288 with 1 Axes>"
      ]
     },
     "metadata": {
      "needs_background": "light"
     },
     "output_type": "display_data"
    }
   ],
   "source": [
    "skopt.plots.plot_objective_2D(sol.skoptSol,0,1)"
   ]
  },
  {
   "cell_type": "code",
   "execution_count": 6,
   "metadata": {
    "jupyter": {
     "outputs_hidden": false,
     "source_hidden": false
    },
    "nteract": {
     "transient": {
      "deleting": false
     }
    }
   },
   "outputs": [
    {
     "data": {
      "text/plain": [
       "([0.2, 0.33], 28.205981628826923)"
      ]
     },
     "execution_count": 6,
     "metadata": {},
     "output_type": "execute_result"
    }
   ],
   "source": [
    "sol.x,sol.fun"
   ]
  },
  {
   "cell_type": "code",
   "execution_count": 10,
   "metadata": {},
   "outputs": [
    {
     "data": {
      "text/plain": [
       "(array([17, 35]), array([16, 14]))"
      ]
     },
     "execution_count": 10,
     "metadata": {},
     "output_type": "execute_result"
    }
   ],
   "source": [
    "%matplotlib tk\n",
    "import scipy.interpolate as spi\n",
    "x=sol.skoptSol.x_iters\n",
    "y=sol.skoptSol.func_vals\n",
    "x=np.asarray(x)\n",
    "y=np.asarray(y)\n",
    "func=sol.skoptSol.models[-1].predict#spi.Rbf(x[:,0],x[:,1],y,smooth=1e-1)#LinearNDInterpolator(x,y)\n",
    "\n",
    "plotxArr=np.linspace(0,1,num=250)\n",
    "plotyArr = np.linspace(0,1, num=250)\n",
    "image=np.empty((plotxArr.shape[0],plotyArr.shape[0]))\n",
    "for i in range(plotxArr.shape[0]):\n",
    "    for j in range(plotyArr.shape[0]):\n",
    "        image[j,i]=func([[plotxArr[i],plotyArr[j]]])\n",
    "        \n",
    "image=np.flip(image,axis=0)\n",
    "plt.imshow(image,extent=[0,50.0,0,50.0])\n",
    "plt.scatter(x[:,0],x[:,1],s=10,c='r')\n",
    "plt.show()\n",
    "x[y.argmin()],x[y.argmax()]"
   ]
  },
  {
   "cell_type": "code",
   "execution_count": 43,
   "metadata": {},
   "outputs": [
    {
     "data": {
      "text/plain": [
       "array([-0.04008991])"
      ]
     },
     "execution_count": 43,
     "metadata": {},
     "output_type": "execute_result"
    }
   ],
   "source": [
    "sol.skoptSol.models[-1].predict([[.1,.1]])"
   ]
  },
  {
   "cell_type": "code",
   "execution_count": 5,
   "metadata": {},
   "outputs": [
    {
     "data": {
      "text/plain": [
       "3.888888888888889"
      ]
     },
     "execution_count": 5,
     "metadata": {},
     "output_type": "execute_result"
    }
   ],
   "source": [
    "14000/3600"
   ]
  },
  {
   "cell_type": "code",
   "execution_count": 6,
   "metadata": {},
   "outputs": [],
   "source": [
    "lattice=get_Lattice(trackPotential=True)\n",
    "XOpt=[0.1965124968503868, 0.3353395620895592]\n",
    "lattice.elList[2].forceFact=XOpt[0]\n",
    "lattice.elList[4].forceFact = XOpt[1]\n",
    "T0=100.0*lattice.totalLength/lattice.v0Nominal"
   ]
  },
  {
   "cell_type": "code",
   "execution_count": 7,
   "metadata": {},
   "outputs": [],
   "source": [
    "optimizer=Optimizer(lattice)\n",
    "swarm =optimizer.initialize_Random_Swarm_At_Combiner_Output(3e-3,5e0,100)\n",
    "swarm=optimizer.trace_Swarm_Through_Lattice(swarm,5e-6,T0,parallel=True,fastMode=False)"
   ]
  },
  {
   "cell_type": "code",
   "execution_count": 12,
   "metadata": {},
   "outputs": [
    {
     "name": "stdout",
     "output_type": "stream",
     "text": [
      "28.98103139434332 1\n",
      "99.9231109466523 5\n",
      "1.0098780436471673 2\n",
      "11.99755381428585 1\n",
      "99.85022732294092 5\n",
      "5.990503982237514 1\n",
      "99.90853796345044 5\n",
      "99.87729442752493 5\n",
      "99.8735956955332 5\n",
      "97.00404508762612 2\n",
      "44.00365688619909 2\n",
      "99.86586424126398 5\n",
      "1.9999869287855965 1\n",
      "48.994192445644465 1\n",
      "67.97411592541707 1\n",
      "8.984307839814674 1\n",
      "99.91088547389693 5\n",
      "99.90228681927361 5\n",
      "1.0036441543552865 2\n",
      "98.61241580505222 5\n",
      "56.00509489003919 2\n",
      "13.976949673040002 1\n",
      "88.97965904727069 1\n",
      "73.99987700780127 1\n",
      "46.513410641563034 4\n",
      "68.99992884283692 1\n",
      "93.00287969859457 2\n",
      "3.9999048209032 1\n",
      "66.97594730875976 1\n",
      "4.978040023933146 1\n",
      "9.53745577776635 5\n",
      "99.90862940660098 5\n",
      "1.0093572865474745 2\n",
      "2.005980163616996 2\n",
      "5.996167582773697 1\n",
      "86.98551659307793 1\n",
      "99.89758981666523 5\n",
      "41.00704116893973 2\n",
      "24.991785435820525 1\n",
      "1.9999495919853645 1\n",
      "3.987651553891079 1\n",
      "8.007542357963079 2\n",
      "51.99996789524301 1\n",
      "69.98797247367837 1\n",
      "97.97403038002467 1\n",
      "5.999149260998043 1\n",
      "4.002473442238548 2\n",
      "1.9918536305924452 1\n",
      "11.985909858364474 1\n",
      "2.9911157044386414 1\n",
      "60.98859063924521 1\n",
      "34.00781925343675 2\n",
      "6.999872416046322 1\n",
      "9.003904669107492 2\n",
      "9.994745646025894 1\n",
      "1.989849155625405 1\n",
      "99.87982787053055 5\n",
      "1.0009114895938673 2\n",
      "1.0076708176261182 2\n",
      "1.9883753286876773 1\n",
      "57.98985889700413 1\n",
      "54.99264020880613 1\n",
      "7.0081892290919825 2\n",
      "5.005720285494421 2\n",
      "1.0033845369952468 2\n",
      "7.010009416656038 2\n",
      "2.0006508928334403 2\n",
      "12.999947004724213 1\n",
      "69.99254801434029 1\n",
      "5.003255065926998 2\n",
      "86.97952794518316 1\n",
      "8.00260571241129 2\n",
      "45.00821708271276 2\n",
      "6.999976178305084 1\n",
      "64.56587577161123 5\n",
      "6.007936324143508 2\n",
      "49.9837128870476 1\n",
      "98.46229479074705 4\n",
      "7.976515702465369 1\n",
      "1.0007811829961941 2\n",
      "3.9897333740028276 1\n",
      "1.9767410274865804 1\n",
      "7.00780053406675 2\n",
      "99.79362709549928 5\n",
      "99.91538214247878 5\n",
      "80.97466858811018 1\n",
      "68.98112058602477 1\n",
      "35.989779354045794 1\n",
      "9.004812241201419 2\n",
      "34.9722933410052 1\n",
      "99.85298399915678 5\n",
      "8.999972727873887 1\n",
      "66.999317269185 1\n",
      "99.86943589381045 5\n",
      "54.98934642552749 1\n",
      "47.99605683728115 1\n",
      "1.0001302032778114 2\n",
      "44.99998661399192 1\n",
      "99.9142394934074 5\n",
      "1.9916570397234612 1\n"
     ]
    }
   ],
   "source": [
    "for particle in swarm.particles[:]:\n",
    "    qoArr=particle.qoArr\n",
    "    qArr=particle.qArr\n",
    "    EArr=particle.EArr\n",
    "    TArr=particle.TArr\n",
    "    VArr=particle.VArr\n",
    "    if particle.revolutions>1:\n",
    "        pass\n",
    "        #lattice.show_Lattice(particleCoords=qArr[-1])\n",
    "        #plt.plot(qoArr[:,0],TArr)\n",
    "        #plt.show()\n",
    "    print(particle.revolutions,particle.currentElIndex)"
   ]
  },
  {
   "cell_type": "code",
   "execution_count": null,
   "metadata": {},
   "outputs": [],
   "source": []
  },
  {
   "cell_type": "code",
   "execution_count": null,
   "metadata": {},
   "outputs": [],
   "source": []
  }
 ],
 "metadata": {
  "kernel_info": {
   "name": "python3"
  },
  "kernelspec": {
   "display_name": "Python 3",
   "language": "python",
   "name": "python3"
  },
  "language_info": {
   "codemirror_mode": {
    "name": "ipython",
    "version": 3
   },
   "file_extension": ".py",
   "mimetype": "text/x-python",
   "name": "python",
   "nbconvert_exporter": "python",
   "pygments_lexer": "ipython3",
   "version": "3.8.5"
  },
  "nteract": {
   "version": "0.28.0"
  }
 },
 "nbformat": 4,
 "nbformat_minor": 1
}
