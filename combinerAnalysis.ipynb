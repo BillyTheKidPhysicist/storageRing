{
  "cells": [
    {
      "cell_type": "markdown",
      "source": [
        "This notebook analyzes the trajectory in the combiner, and finds the output angle of the particle's trajectory, as well as it's output position in the y direction. The force is from assuming the field is purely quadrupole and dipole."
      ],
      "metadata": {
        "nteract": {
          "transient": {
            "deleting": false
          }
        }
      }
    },
    {
      "cell_type": "code",
      "source": [
        "import numpy as np\n",
        "import matplotlib.pyplot as plt\n",
        "m_Actual = 1.1648E-26  # mass of lithium 7, SI\n",
        "u0_Actual = 9.274009994E-24 # bohr magneton, SI\n",
        "\n",
        "u0=u0_Actual/m_Actual\n",
        "m=1\n",
        "L=.2\n",
        "\n",
        "\n",
        "def force(q,c1=1,c2=20):\n",
        "  B0=np.sqrt((c2*q[2])**2+(c1+c2*q[1])**2)\n",
        "  F=np.zeros(3)\n",
        "\n",
        "  F[1]=u0*c2*(c1+c2*q[1])/B0\n",
        "  F[2]=u0*c2**2*q[2]/B0\n",
        "  return  F\n",
        "\n",
        "q=np.asarray([0,0,0e-3])\n",
        "p=np.asarray([200.0,0,0])\n",
        "qList=[]\n",
        "pList=[]\n",
        "qList.append(q)\n",
        "pList.append(p)\n",
        "h=1e-7\n",
        "while q[0]<L:\n",
        "  F=force(q)\n",
        "  a=F/m\n",
        "  q_n=q+(p/m)*h+.5*a*h**2\n",
        "  F_n=force(q_n)\n",
        "  a_n = F_n / m  # acceleration new or acceleration sub n+1\n",
        "  p_n=p+m*.5*(a+a_n)*h\n",
        "  qList.append(q_n)\n",
        "  pList.append(p_n)\n",
        "  p=p_n\n",
        "  q=q_n\n",
        "qArr=np.asarray(qList)\n",
        "plt.plot(qArr[:,0],qArr[:,1])\n",
        "plt.grid()\n",
        "plt.show()\n",
        "outputAngle=np.arctan2(p[1],p[0])\n",
        "outputOffset=q[1]\n",
        "print('output angle in xy plane, rad',np.round(outputAngle,4))\n",
        "print('offset in y direction, mm',np.round(1e3*q[1],2))"
      ],
      "outputs": [
        {
          "output_type": "display_data",
          "data": {
            "text/plain": "<Figure size 432x288 with 1 Axes>",
            "image/png": "[encoded data removed]"
          },
          "metadata": {
            "needs_background": "light"
          }
        },
        {
          "output_type": "stream",
          "name": "stdout",
          "text": [
            "output angle in xy plane, rad 0.0795\n",
            "offset in y direction, mm 7.96\n"
          ]
        }
      ],
      "execution_count": 72,
      "metadata": {
        "collapsed": true,
        "jupyter": {
          "source_hidden": false,
          "outputs_hidden": false
        },
        "nteract": {
          "transient": {
            "deleting": false
          }
        },
        "execution": {
          "shell.execute_reply": "2020-12-01T16:57:23.922Z",
          "iopub.status.busy": "2020-12-01T16:57:23.590Z",
          "iopub.execute_input": "2020-12-01T16:57:23.629Z",
          "iopub.status.idle": "2020-12-01T16:57:23.916Z"
        }
      }
    },
    {
      "cell_type": "code",
      "source": [],
      "outputs": [],
      "execution_count": 17,
      "metadata": {
        "collapsed": true,
        "jupyter": {
          "source_hidden": false,
          "outputs_hidden": false
        },
        "nteract": {
          "transient": {
            "deleting": false
          }
        },
        "execution": {
          "iopub.status.busy": "2020-12-01T16:38:43.189Z",
          "iopub.execute_input": "2020-12-01T16:38:43.192Z",
          "iopub.status.idle": "2020-12-01T16:38:43.197Z",
          "shell.execute_reply": "2020-12-01T16:38:43.201Z"
        }
      }
    },
    {
      "cell_type": "code",
      "source": [],
      "outputs": [],
      "execution_count": null,
      "metadata": {
        "collapsed": true,
        "jupyter": {
          "source_hidden": false,
          "outputs_hidden": false
        },
        "nteract": {
          "transient": {
            "deleting": false
          }
        }
      }
    },
    {
      "cell_type": "code",
      "source": [],
      "outputs": [],
      "execution_count": null,
      "metadata": {
        "collapsed": true,
        "jupyter": {
          "source_hidden": false,
          "outputs_hidden": false
        },
        "nteract": {
          "transient": {
            "deleting": false
          }
        }
      }
    }
  ],
  "metadata": {
    "kernel_info": {
      "name": "python3"
    },
    "language_info": {
      "name": "python",
      "version": "3.7.7",
      "mimetype": "text/x-python",
      "codemirror_mode": {
        "name": "ipython",
        "version": 3
      },
      "pygments_lexer": "ipython3",
      "nbconvert_exporter": "python",
      "file_extension": ".py"
    },
    "kernelspec": {
      "argv": [
        "/usr/local/opt/python/bin/python3.7",
        "-m",
        "ipykernel_launcher",
        "-f",
        "{connection_file}"
      ],
      "display_name": "Python 3",
      "language": "python",
      "name": "python3"
    },
    "nteract": {
      "version": "0.26.0"
    }
  },
  "nbformat": 4,
  "nbformat_minor": 0
}