{
 "cells": [
  {
   "cell_type": "code",
   "execution_count": 1,
   "metadata": {
    "execution": {
     "iopub.execute_input": "2020-08-23T19:42:15.363Z",
     "iopub.status.busy": "2020-08-23T19:42:15.360Z",
     "iopub.status.idle": "2020-08-23T19:43:15.622Z",
     "shell.execute_reply": "2020-08-23T19:43:15.632Z"
    }
   },
   "outputs": [
    {
     "name": "stdout",
     "output_type": "stream",
     "text": [
      "0.0084375 0.0045000000000000005 4.255942350631103 4.255942350631103\n",
      "12.007129907608032\n"
     ]
    }
   ],
   "source": [
    "import skopt\n",
    "from smallCombinerBigMagnets import *\n",
    "import time\n",
    "t=time.time()\n",
    "swarm,lattice=compute_Sol(1e-5, 20.0,2000,50)\n",
    "print(time.time()-t) #58"
   ]
  },
  {
   "cell_type": "code",
   "execution_count": 41,
   "metadata": {
    "execution": {
     "iopub.execute_input": "2020-08-23T19:43:15.643Z",
     "iopub.status.busy": "2020-08-23T19:43:15.639Z",
     "iopub.status.idle": "2020-08-23T19:43:39.278Z",
     "shell.execute_reply": "2020-08-23T19:43:39.301Z"
    },
    "jupyter": {
     "outputs_hidden": false,
     "source_hidden": false
    },
    "nteract": {
     "transient": {
      "deleting": false
     }
    }
   },
   "outputs": [],
   "source": [
    "import scipy.interpolate as spi\n",
    "class PhaseSpaceInterpolater:\n",
    "    def __init__(self,X,Y):\n",
    "        #X: evaluation points array with shape n,m where n is number of points, and m is dimension\n",
    "        #Y: values\n",
    "        self.X=X\n",
    "        self.Y=Y\n",
    "        self.xBounds=[] #list of tuples (min,max) for x\n",
    "        \n",
    "        self.xNormalized=np.zeros(X.shape)\n",
    "        for i in range(X.shape[1]): #loop through dimensions\n",
    "            self.xBounds.append((X[:,i].min(),X[:,i].max()))\n",
    "            xRenormed=(X[:,i]-self.xBounds[i][0])/(self.xBounds[i][1]-self.xBounds[i][0])\n",
    "            self.xNormalized[:, i]=xRenormed\n",
    "        self.interpolater=spi.NearestNDInterpolator(self.xNormalized, self.Y)\n",
    "    def normalize(self,args):\n",
    "        #x array to be normalized\n",
    "        argsNew=[]\n",
    "        i=0\n",
    "        for arg in args:\n",
    "            argNorm=(arg-self.xBounds[i][0])/(self.xBounds[i][1]-self.xBounds[i][0])\n",
    "            #if argNorm>1 or argNorm<0:\n",
    "            #    print('input',args)\n",
    "            #    print('bounds',self.xBounds)\n",
    "            #    raise Exception('OUT OF BOUNDS')\n",
    "            argsNew.append(argNorm)\n",
    "            i+=1\n",
    "        return argsNew\n",
    "    def __call__(self,*args):\n",
    "        val=self.interpolater(self.normalize(args))\n",
    "        if val[0] is None:\n",
    "            print('outside the region')\n",
    "            print(args)\n",
    "            return np.nan\n",
    "        else:\n",
    "            return val[0]"
   ]
  },
  {
   "cell_type": "code",
   "execution_count": 42,
   "metadata": {
    "execution": {
     "iopub.execute_input": "2020-08-23T19:43:39.507Z",
     "iopub.status.busy": "2020-08-23T19:43:39.504Z",
     "iopub.status.idle": "2020-08-23T19:43:39.948Z",
     "shell.execute_reply": "2020-08-23T19:43:39.969Z"
    },
    "jupyter": {
     "outputs_hidden": false,
     "source_hidden": false
    },
    "nteract": {
     "transient": {
      "deleting": false
     }
    }
   },
   "outputs": [
    {
     "name": "stdout",
     "output_type": "stream",
     "text": [
      "[(-0.008420542384955813, 0.008436781933500411), (-0.004492508972203909, 0.004496904353450389), (-200.9995229292769, -199.00062797142093), (-4.253320100725664, 4.252265988596445), (-4.254955441715037, 4.2544898037100936)]\n"
     ]
    }
   ],
   "source": [
    "phaseSpacePoints=[] #holds the coordinates of the particles in phase space at the combiner output\n",
    "revolutions=[] #values of revolution for each particle in swarm\n",
    "\n",
    "\n",
    "for i in range(swarm[0].num_Particles()):\n",
    "    q = swarm[0].particles[i].q.copy()[1:] #only y and z. x is the same\n",
    "    p = swarm[0].particles[i].p[:].copy()\n",
    "    Xi = np.append(q, p)  # phase space coords are 2 position values and 3 momentum\n",
    "    phaseSpacePoints.append(Xi)\n",
    "    revolutions.append(swarm[2].particles[i].revolutions)\n",
    "fitFunc = PhaseSpaceInterpolater(np.asarray(phaseSpacePoints), revolutions)"
   ]
  },
  {
   "cell_type": "code",
   "execution_count": 51,
   "metadata": {
    "execution": {
     "iopub.execute_input": "2020-08-23T19:43:40.603Z",
     "iopub.status.busy": "2020-08-23T19:43:40.600Z",
     "iopub.status.idle": "2020-08-23T19:43:40.741Z",
     "shell.execute_reply": "2020-08-23T19:43:40.748Z"
    },
    "jupyter": {
     "outputs_hidden": false,
     "source_hidden": false
    },
    "nteract": {
     "transient": {
      "deleting": false
     }
    }
   },
   "outputs": [
    {
     "data": {
      "text/plain": [
       "0.15848931924611134"
      ]
     },
     "execution_count": 51,
     "metadata": {},
     "output_type": "execute_result"
    }
   ],
   "source": [
    "(1/10000)**(.2)"
   ]
  },
  {
   "cell_type": "code",
   "execution_count": 47,
   "metadata": {},
   "outputs": [
    {
     "data": {
      "text/plain": [
       "20.91279105182547"
      ]
     },
     "execution_count": 47,
     "metadata": {},
     "output_type": "execute_result"
    }
   ],
   "source": [
    "(2000**.2)**2"
   ]
  },
  {
   "cell_type": "code",
   "execution_count": 50,
   "metadata": {
    "jupyter": {
     "outputs_hidden": false,
     "source_hidden": false
    },
    "nteract": {
     "transient": {
      "deleting": false
     }
    }
   },
   "outputs": [
    {
     "data": {
      "text/plain": [
       "15625"
      ]
     },
     "execution_count": 50,
     "metadata": {},
     "output_type": "execute_result"
    }
   ],
   "source": []
  },
  {
   "cell_type": "code",
   "execution_count": null,
   "metadata": {},
   "outputs": [],
   "source": []
  }
 ],
 "metadata": {
  "kernelspec": {
   "display_name": "Python 3",
   "language": "python",
   "name": "python3"
  },
  "language_info": {
   "codemirror_mode": {
    "name": "ipython",
    "version": 3
   },
   "file_extension": ".py",
   "mimetype": "text/x-python",
   "name": "python",
   "nbconvert_exporter": "python",
   "pygments_lexer": "ipython3",
   "version": "3.8.5"
  },
  "nteract": {
   "version": "0.24.1"
  }
 },
 "nbformat": 4,
 "nbformat_minor": 4
}
