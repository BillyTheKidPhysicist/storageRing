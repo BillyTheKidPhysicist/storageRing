{
  "cells": [
    {
      "cell_type": "code",
      "source": [
        "import time\n",
        "import multiprocessing as mp\n",
        "from ParticleTracer import *\n",
        "import numpy as np\n",
        "import matplotlib.pyplot as plt\n",
        "import multiprocessing as mp\n",
        "import scipy.interpolate as spi\n",
        "%matplotlib qt"
      ],
      "outputs": [],
      "execution_count": 2,
      "metadata": {
        "collapsed": true,
        "jupyter": {
          "source_hidden": false,
          "outputs_hidden": false
        },
        "nteract": {
          "transient": {
            "deleting": false
          }
        },
        "execution": {
          "iopub.status.busy": "2021-01-03T17:07:42.015Z",
          "iopub.execute_input": "2021-01-03T17:07:42.022Z",
          "iopub.status.idle": "2021-01-03T17:07:42.031Z",
          "shell.execute_reply": "2021-01-03T17:07:42.037Z"
        }
      }
    },
    {
      "cell_type": "code",
      "source": [
        "test=particleTracer(200)\n",
        "fileBend='data.txt'\n",
        "fileCap='dataCap.txt'\n",
        "fileLens='dataLens.txt'\n",
        "fileLensFringe='dataLensFringe.txt'\n",
        "\n",
        "L1=.95\n",
        "\n",
        "Lm=.0254\n",
        "rp=.0125\n",
        "yokeWidth=.015875\n",
        "angle=np.pi\n",
        "numMagnets=125\n",
        "space=1000e-6\n",
        "\n",
        "\n",
        "rb=Compute_Bending_Radius_For_Segmented_Bender(Lm,rp,yokeWidth,numMagnets,angle,space=space)\n",
        "Lcap=Lm/2+rp\n",
        "\n",
        "\n",
        "test.add_Drift(.1)\n",
        "test.add_Lens_Sim_With_Fringe_Fields(fileLens,fileLensFringe,L1,rp)\n",
        "test.add_Drift(.1)\n",
        "test.add_Bender_Sim_Segmented_With_End_Cap(fileBend,fileCap,Lm,Lcap,rp,rb,space,yokeWidth,numMagnets)\n",
        "\n",
        "\n",
        "test.add_Drift(.1)\n",
        "test.add_Lens_Sim_With_Fringe_Fields(fileLens,fileLensFringe,L1,rp)\n",
        "test.add_Drift(.1)\n",
        "test.add_Bender_Sim_Segmented_With_End_Cap(fileBend,fileCap,Lm,Lcap,rp,rb,space,yokeWidth,numMagnets)\n",
        "test.end_Lattice()\n",
        "#test.show_Lattice()\n",
        "\n",
        "\n",
        "num=12\n",
        "T=.1\n",
        "qMax=2e-3\n",
        "dt=10e-6\n",
        "v0=np.asarray([-200.0,0,0])\n",
        "qy=np.linspace(-qMax,qMax,num=num)\n",
        "argsList=[]\n",
        "for q in qy:\n",
        "    q0=np.asarray([0,q,0])\n",
        "    argsList.append((q0,v0,dt,T))\n",
        "print('starting')\n",
        "results=test.multi_Trace(argsList)\n",
        "print('done')\n",
        "qoList=[]\n",
        "for item in results:\n",
        "  qoList.append(item[0])\n",
        "  print(item[1])\n",
        "plt.close('all')\n",
        "for q in qoList:\n",
        "  plt.plot(q[:,0]/test.totalLength,np.abs(q[:,1]))\n",
        "plt.show()\n"
      ],
      "outputs": [
        {
          "output_type": "stream",
          "name": "stdout",
          "text": [
            "starting\n",
            "done\n",
            "False\n",
            "False\n",
            "False\n",
            "False\n",
            "False\n",
            "False\n",
            "False\n",
            "False\n",
            "False\n",
            "False\n",
            "False\n",
            "False\n"
          ]
        }
      ],
      "execution_count": 3,
      "metadata": {
        "collapsed": true,
        "jupyter": {
          "source_hidden": false,
          "outputs_hidden": false
        },
        "nteract": {
          "transient": {
            "deleting": false
          }
        },
        "execution": {
          "iopub.status.busy": "2021-01-03T17:07:44.008Z",
          "iopub.execute_input": "2021-01-03T17:07:44.013Z",
          "iopub.status.idle": "2021-01-03T17:07:54.958Z",
          "shell.execute_reply": "2021-01-03T17:07:54.969Z"
        }
      }
    },
    {
      "cell_type": "code",
      "source": [
        "test.show_Lattice()"
      ],
      "outputs": [],
      "execution_count": 4,
      "metadata": {
        "collapsed": true,
        "jupyter": {
          "source_hidden": false,
          "outputs_hidden": false
        },
        "nteract": {
          "transient": {
            "deleting": false
          }
        },
        "execution": {
          "iopub.status.busy": "2020-12-18T22:42:23.930Z",
          "iopub.execute_input": "2020-12-18T22:42:23.935Z",
          "iopub.status.idle": "2020-12-18T22:42:23.977Z",
          "shell.execute_reply": "2020-12-18T22:42:23.982Z"
        }
      }
    },
    {
      "cell_type": "code",
      "source": [
        "q0=np.asarray([-1e-10,0,0])\n",
        "v0=np.asarray([-200.0,0,0])\n",
        "\n",
        "Lto=(2*L1+2*Lcap+2*1.15*np.pi)\n",
        "Lt=Lto*1\n",
        "\n",
        "dt=5e-6\n",
        "print('start, total time',np.round(Lt/200,3),' s')\n",
        "t=time.time()\n",
        "q, p, qo, po, particleOutside = test.trace(q0, v0,dt, 1)\n",
        "test.show_Lattice(particleCoords=q[-1])\n",
        "plt.plot(qo[:,0]/test.totalLength,qo[:,1])\n",
        "plt.grid()\n",
        "plt.show()"
      ],
      "outputs": [
        {
          "output_type": "stream",
          "name": "stdout",
          "text": [
            "start, total time 0.046  s\n"
          ]
        }
      ],
      "execution_count": 4,
      "metadata": {
        "collapsed": true,
        "jupyter": {
          "source_hidden": false,
          "outputs_hidden": false
        },
        "nteract": {
          "transient": {
            "deleting": false
          }
        },
        "execution": {
          "iopub.status.busy": "2020-12-18T22:41:17.761Z",
          "iopub.execute_input": "2020-12-18T22:41:17.765Z",
          "iopub.status.idle": "2020-12-18T22:41:19.504Z",
          "shell.execute_reply": "2020-12-18T22:41:19.511Z"
        }
      }
    },
    {
      "cell_type": "code",
      "source": [],
      "outputs": [],
      "execution_count": null,
      "metadata": {
        "collapsed": true,
        "jupyter": {
          "source_hidden": false,
          "outputs_hidden": false
        },
        "nteract": {
          "transient": {
            "deleting": false
          }
        }
      }
    },
    {
      "cell_type": "code",
      "source": [],
      "outputs": [],
      "execution_count": null,
      "metadata": {
        "collapsed": true,
        "jupyter": {
          "source_hidden": false,
          "outputs_hidden": false
        },
        "nteract": {
          "transient": {
            "deleting": false
          }
        }
      }
    },
    {
      "cell_type": "code",
      "source": [],
      "outputs": [],
      "execution_count": null,
      "metadata": {
        "collapsed": true,
        "jupyter": {
          "source_hidden": false,
          "outputs_hidden": false
        },
        "nteract": {
          "transient": {
            "deleting": false
          }
        }
      }
    },
    {
      "cell_type": "code",
      "source": [],
      "outputs": [],
      "execution_count": null,
      "metadata": {
        "collapsed": true,
        "jupyter": {
          "source_hidden": false,
          "outputs_hidden": false
        },
        "nteract": {
          "transient": {
            "deleting": false
          }
        }
      }
    },
    {
      "cell_type": "code",
      "source": [],
      "outputs": [],
      "execution_count": null,
      "metadata": {
        "collapsed": true,
        "jupyter": {
          "source_hidden": false,
          "outputs_hidden": false
        },
        "nteract": {
          "transient": {
            "deleting": false
          }
        }
      }
    }
  ],
  "metadata": {
    "kernel_info": {
      "name": "python3"
    },
    "language_info": {
      "name": "python",
      "version": "3.7.9",
      "mimetype": "text/x-python",
      "codemirror_mode": {
        "name": "ipython",
        "version": 3
      },
      "pygments_lexer": "ipython3",
      "nbconvert_exporter": "python",
      "file_extension": ".py"
    },
    "kernelspec": {
      "argv": [
        "/usr/local/opt/python/bin/python3.7",
        "-m",
        "ipykernel_launcher",
        "-f",
        "{connection_file}"
      ],
      "display_name": "Python 3",
      "language": "python",
      "name": "python3"
    },
    "nteract": {
      "version": "0.27.0"
    }
  },
  "nbformat": 4,
  "nbformat_minor": 0
}