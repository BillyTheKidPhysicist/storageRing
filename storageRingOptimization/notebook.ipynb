{
 "cells": [
  {
   "cell_type": "code",
   "execution_count": 1,
   "metadata": {},
   "outputs": [],
   "source": [
    "import matplotlib.pyplot as plt\n",
    "from ParticleTracerLatticeClass import ParticleTracerLattice\n",
    "import scipy.interpolate as spi\n",
    "import sys\n",
    "from ParaWell import ParaWell\n",
    "from ParticleTracerClass import ParticleTracer\n",
    "from ParticleClass import Swarm, Particle\n",
    "import time\n",
    "from SwarmTracerClass import SwarmTracer\n",
    "import scipy.optimize as spo\n",
    "import numpy as np\n",
    "import os\n",
    "\n",
    "rFact=.675\n",
    "\n",
    "PTL = ParticleTracerLattice(200.0)\n",
    "PTL.add_Halbach_Lens_Sim(.01, .5)\n",
    "PTL.add_Combiner_Sim('combinerV2.txt')\n",
    "PTL.add_Halbach_Lens_Sim(.01, .5)\n",
    "PTL.add_Halbach_Bender_Sim_Segmented_With_End_Cap(.0254, .01, None, 1.0, 1e-3, rOffsetFact=rFact)\n",
    "PTL.add_Halbach_Lens_Sim(.01, None)\n",
    "PTL.add_Halbach_Bender_Sim_Segmented_With_End_Cap(.0254, .01, None, 1.0, 1e-3, rOffsetFact=rFact)\n",
    "PTL.end_Lattice(constrain=True,enforceClosedLattice=True,surpressWarning=True)"
   ]
  },
  {
   "cell_type": "code",
   "execution_count": 23,
   "metadata": {},
   "outputs": [
    {
     "name": "stdout",
     "output_type": "stream",
     "text": [
      "1.7076243919042253 0.0\n"
     ]
    },
    {
     "data": {
      "image/png": "[encoded data removed]",
      "text/plain": [
       "<Figure size 432x288 with 1 Axes>"
      ]
     },
     "metadata": {
      "needs_background": "light"
     },
     "output_type": "display_data"
    }
   ],
   "source": [
    "h = 1e-5\n",
    "T = 1.0\n",
    "swarmTracer = SwarmTracer(PTL)\n",
    "swarm0 = swarmTracer.generate_Probe_Sample(200.0, seed=42)\n",
    "swarm0 = swarmTracer.move_Swarm_To_Combiner_Output(swarm0)\n",
    "swarmTest=Swarm()\n",
    "swarmTest.add_Particle()\n",
    "swarmTest.add_Particle(qi=np.asarray([-1e-10,1e-3,0]))\n",
    "swarmTest.add_Particle(qi=np.asarray([-1e-10,-1e-3,0]))\n",
    "swarmTest.add_Particle(qi=np.asarray([-1e-10,0,-1e-3]))\n",
    "swarmTest.add_Particle(qi=np.asarray([-1e-10,0,1e-3]))\n",
    "\n",
    "\n",
    "num0=30\n",
    "BArr=np.linspace(0,1.0,num0)\n",
    "coordsArr=np.asarray(np.meshgrid(BArr,BArr)).T.reshape(-1,2)\n",
    "def revFunc(X,parallel=False):\n",
    "    # if (X[0]==0 or X[0]==1) and X[1]==1:\n",
    "    #     return 0.0\n",
    "    # if X[0]==1 and X[1]==0:\n",
    "    #     return 10.0\n",
    "    PTL.elList[2].set_BpFact(X[0])\n",
    "    PTL.elList[4].set_BpFact(X[1])\n",
    "    minRevs = 5.0  # test particle must achieve at least this many revolutions\n",
    "    swarmTestNew=swarmTracer.trace_Swarm_Through_Lattice(swarmTest,1e-5,1.5 * minRevs * PTL.totalLength / 200.0,parallel=parallel)\n",
    "    stable=False\n",
    "    for particle in swarmTestNew:\n",
    "        if particle.revolutions>minRevs:\n",
    "            stable=True\n",
    "    if stable==False:\n",
    "        return 0.0\n",
    "    else:\n",
    "        swarm = swarmTracer.trace_Swarm_Through_Lattice(swarm0, 1e-5, T, parallel=parallel, fastMode=True)\n",
    "        # print(X,swarm.survival_Rev())\n",
    "        return swarm.survival_Rev()\n",
    "\n",
    "\n",
    "\n",
    "helper=ParaWell()\n",
    "t=time.time()\n",
    "results=helper.parallel_Problem(revFunc,coordsArr,onlyReturnResults=True)\n",
    "val0Arr=np.asarray(results)\n",
    "image=val0Arr.reshape(num0,num0)\n",
    "image=np.flip(np.transpose(image),axis=0)\n",
    "extent=[0.0,1.0,0.0,1.0]\n",
    "print(np.max(image),np.min(image)) \n",
    "plt.imshow(image,extent=extent)\n",
    "plt.show()"
   ]
  },
  {
   "cell_type": "code",
   "execution_count": 3,
   "metadata": {},
   "outputs": [],
   "source": [
    "# import scipy.ndimage as spimg\n",
    "# valArr=val0Arr.copy()\n",
    "# imageVal0Arr=valArr.reshape(num0,num0)\n",
    "# # stableIndices=np.argwhere(imageVal0Arr!=0) #indices that represent stable solutions\n",
    "# # imageValArrSmooth=spimg.gaussian_filter(imageVal0Arr,num0/30)\n",
    "# # imageValArrSmooth=imageValArrSmooth*(valArr.max()/imageValArrSmooth.max())*.5\n",
    "# # print(imageValArrSmooth.max())\n",
    "# # imageValArrSmooth[tuple(np.hsplit(stableIndices,2))]=imageVal0Arr[tuple(np.hsplit(stableIndices,2))]\n",
    "# plt.imshow(imageVal0Arr)\n",
    "# plt.show()\n",
    "# # valArr=np.ravel(imageValArrSmooth)"
   ]
  },
  {
   "cell_type": "code",
   "execution_count": 4,
   "metadata": {},
   "outputs": [],
   "source": [
    "# import scipy.interpolate as spi\n",
    "# fitFunc=spi.RBFInterpolator(coordsArr,valArr)\n",
    "# num=150\n",
    "# BArr=np.linspace(0,1.0,num)\n",
    "# testCoords=np.asarray(np.meshgrid(BArr,BArr)).T.reshape(-1,2)\n",
    "# testVals=fitFunc(testCoords)\n",
    "\n",
    "# imageTest=testVals.reshape(num,num)\n",
    "# print(np.max(imageTest),np.min(imageTest))\n",
    "# plt.imshow(np.abs(imageTest))\n",
    "# plt.show()"
   ]
  },
  {
   "cell_type": "code",
   "execution_count": 24,
   "metadata": {},
   "outputs": [
    {
     "name": "stdout",
     "output_type": "stream",
     "text": [
      "best probe vals 1.7429740752191698 [0.76471227 0.65524686]\n",
      "result 1.7033668327550648\n",
      "best probe vals 1.7126228204522875 [0.76175965 0.65534439]\n",
      "result 1.7003928353395925\n",
      "best probe vals 1.707722333855128 [0.79294721 0.27583336]\n",
      "result 1.6907752773323343\n",
      "best probe vals 1.8107960119503916 [0.79788958 0.27641917]\n",
      "result 1.6381229167842053\n",
      "best probe vals 1.7361222662612221 [0.79413887 0.27610893]\n",
      "result 1.6764463669999188\n",
      "best probe vals 1.7128129365696783 [0.79329113 0.27585771]\n",
      "result 1.6549237806388444\n",
      "best probe vals 1.9099767061307202 [0.79246402 0.2805273 ]\n",
      "result 1.5792773378050742\n",
      "best probe vals 1.729483335487836 [0.79298435 0.2770588 ]\n",
      "result 1.7089340314388246\n",
      "best probe vals 1.7124216339147214 [0.7928995  0.27649301]\n",
      "result 1.676879543386887\n",
      "best probe vals 1.7207859507490164 [0.79365506 0.27758598]\n",
      "result 1.6466133731578498\n",
      "best probe vals 1.710640460477469 [0.79285927 0.27713483]\n",
      "result 1.669821771151371\n",
      "best probe vals 1.7221274217121696 [0.79317247 0.27696181]\n",
      "result 1.6972238553437196\n",
      "best probe vals 1.7111678171836016 [0.79301762 0.27703348]\n",
      "result 1.6500949214113105\n",
      "best probe vals 1.7304125864022926 [0.79341673 0.27687995]\n",
      "result 1.6780050210024768\n",
      "best probe vals 1.7206881727824066 [0.79296528 0.27708662]\n",
      "result 1.6625906397985237\n",
      "best probe vals 1.7298911623160131 [0.79271496 0.27690977]\n",
      "result 1.689760185803489\n",
      "best probe vals 1.7118464098005746 [0.79297553 0.27705027]\n",
      "result 1.6623711104856385\n",
      "best probe vals 1.9587883053858315 [0.78816967 0.27695508]\n",
      "result 1.6450732298872082\n",
      "best probe vals 1.8522834027706925 [0.79159458 0.27732174]\n",
      "result 1.6659181096121496\n",
      "best probe vals 1.7699181206586516 [0.79315989 0.27726006]\n",
      "result 1.6825767829864398\n",
      "best probe vals 1.7509698856050062 [0.79234471 0.27694559]\n",
      "result 1.6499980359923865\n",
      "best probe vals 1.7250420176157963 [0.79300375 0.27707656]\n",
      "result 1.6601295945257049\n",
      "best probe vals 1.7034522654340292 [0.76446477 0.65516036]\n",
      "result 1.6860031726250626\n",
      "best probe vals 1.752995058554827 [0.76804054 0.65684929]\n",
      "result 1.6562116181177047\n",
      "best probe vals 1.7156401911149184 [0.76532856 0.65564294]\n",
      "result 1.6964365334379101\n",
      "best probe vals 1.708802209443167 [0.79308204 0.27587988]\n",
      "result 1.67932814412871\n",
      "best probe vals 1.9049835167284073 [0.79300194 0.27216608]\n",
      "result 1.577809825107054\n",
      "best probe vals 1.7793663078063644 [0.792951  0.2750672]\n",
      "result 1.5920100304073443\n",
      "best probe vals 1.7291148541366432 [0.79310651 0.27575124]\n",
      "result 1.685159751175628\n",
      "best probe vals 1.7135845380038013 [0.79312019 0.27584581]\n",
      "result 1.6710878017334274\n",
      "best probe vals 1.7066642092562598 [0.76491964 0.65526653]\n",
      "result 1.763174320988498\n",
      "best probe vals 2.0704573290671786 [0.76768547 0.65008419]\n",
      "result 1.7083712054442062\n",
      "best probe vals 1.8537201819189166 [0.76584305 0.65361585]\n",
      "result 1.7044180545278753\n",
      "best probe vals 1.7807680303847206 [0.76514184 0.65506523]\n",
      "result 1.7392782020980475\n",
      "best probe vals 1.7451208709592385 [0.76487573 0.65515631]\n",
      "result 1.7579294996151116\n",
      "best probe vals 1.766832713158071 [0.76496073 0.6552247 ]\n",
      "result 1.6874528436232885\n",
      "best probe vals 1.788944690229995 [0.76510717 0.65460802]\n",
      "result 1.7451425506932836\n",
      "best probe vals 1.7604095957150625 [0.76517784 0.65487626]\n",
      "result 1.7421697016091346\n",
      "best probe vals 1.7801242898274767 [0.76488081 0.65529783]\n",
      "result 1.7258194817928905\n",
      "best probe vals 1.757433352510677 [0.76180261 0.65277353]\n",
      "result 1.748386774648828\n",
      "best probe vals 1.7660530890069233 [0.76480911 0.65497112]\n",
      "result 1.7326949379158243\n",
      "best probe vals 1.751095926938953 [0.76545278 0.65485225]\n",
      "result 1.7204589233895218\n",
      "best probe vals 1.7485373787111467 [0.76193218 0.65260834]\n",
      "result 1.7454396842676028\n",
      "best probe vals 1.749928582956173 [0.76149521 0.65301942]\n",
      "result 1.7158346863936078\n",
      "best probe vals 1.7522407674592935 [0.76277766 0.65274234]\n",
      "result 1.7213300220158843\n",
      "best probe vals 1.7638651446158014 [0.76491507 0.65526577]\n",
      "result 1.755254436686534\n",
      "best probe vals 1.7488972587222935 [0.76183598 0.65274711]\n",
      "result 1.7326546224182948\n",
      "best probe vals 1.7930824428206353 [0.76173019 0.65104185]\n",
      "result 1.6490485699530106\n",
      "best probe vals 1.7552495301873199 [0.76173264 0.65279389]\n",
      "result 1.7179274947056002\n",
      "best probe vals 1.7639203532673935 [0.76206032 0.65311026]\n",
      "result 1.7388562635838245\n",
      "best probe vals 1.7451802001588574 [0.76509706 0.65460726]\n",
      "result 1.7214672296595412\n",
      "best probe vals 1.767261383387621 [0.7656364  0.65452006]\n",
      "result 1.7532983017204524\n",
      "best probe vals 1.7888723345975612 [0.76541473 0.65461458]\n",
      "result 1.764852348718227\n",
      "best probe vals 1.8033454420920985 [0.76522285 0.65460875]\n",
      "result 1.7217997710594475\n",
      "best probe vals 1.767537036255832 [0.76545597 0.6545992 ]\n",
      "result 1.7539472096710655\n",
      "best probe vals 1.7549365442742246 [0.76213328 0.65255857]\n",
      "result 1.71982521153936\n",
      "best probe vals 1.765019816619993 [0.76541181 0.65461822]\n",
      "result 1.757826987882178\n",
      "best probe vals 1.7554039688952914 [0.76573036 0.65425377]\n",
      "result 1.7626978045279267\n",
      "best probe vals 1.7493205726057877 [0.76180742 0.65278656]\n",
      "result 1.7459854877650454\n",
      "best probe vals 1.7724742703807699 [0.7654155  0.65458322]\n",
      "result 1.7529133238634718\n",
      "best probe vals 1.7720386320458117 [0.76603044 0.65433901]\n",
      "result 1.7438499820804654\n",
      "best probe vals 1.7632759872146888 [0.76574837 0.65428445]\n",
      "result 1.7421882047606063\n",
      "best probe vals 1.746566913631266 [0.76618471 0.65422939]\n",
      "result 1.7488350679928897\n",
      "best probe vals 1.7775320685360105 [0.76568164 0.65416354]\n",
      "result 1.7712900429027307\n",
      "best probe vals 1.7483215906994005 [0.77095754 0.65220578]\n",
      "result 1.7497647345167082\n",
      "best probe vals 1.772375681561243 [0.76569661 0.65419523]\n",
      "result 1.7510156956358571\n",
      "best probe vals 1.7596806384937447 [0.76570541 0.65425122]\n",
      "result 1.740611540227034\n",
      "best probe vals 1.79609445981416 [0.76576711 0.65406801]\n",
      "result 1.7358859958424977\n",
      "best probe vals 1.7553189723058733 [0.76564134 0.65456662]\n",
      "result 1.7409243872106626\n",
      "best probe vals 1.7633846031422709 [0.7648492  0.65513115]\n",
      "result 1.7407705867086392\n",
      "best probe vals 1.7511293179788119 [0.77015628 0.65256702]\n",
      "result 1.7525939524506953\n",
      "best probe vals 1.7527229490567064 [0.76994142 0.65269035]\n",
      "result 1.752941545628085\n",
      "best probe vals 1.7529679142706285 [0.76985219 0.65271064]\n",
      "result 1.7537142676319166\n",
      "best probe vals 1.754449512715431 [0.76954196 0.65275998]\n",
      "result 1.7344544372666086\n",
      "best probe vals 1.7535856081126628 [0.77034747 0.65281524]\n",
      "result 1.7031131097635626\n",
      "best probe vals 1.7989531416920497 [0.77026903 0.65114249]\n",
      "result 1.771442254687935\n",
      "best probe vals 1.780652804124249 [0.77000355 0.65187225]\n",
      "result 1.714672339735591\n",
      "best probe vals 1.8230346617100721 [0.77214779 0.64976111]\n",
      "result 1.7302721625151702\n",
      "best probe vals 1.7841233608058775 [0.77068905 0.65080948]\n",
      "result 1.7332788169187556\n",
      "best probe vals 1.7715140670660587 [0.7702576  0.65113243]\n",
      "result 1.7720766512060335\n",
      "best probe vals 1.7727376969856654 [0.77021742 0.65109677]\n",
      "result 1.7819253885890456\n",
      "best probe vals 1.7940387983292965 [0.76998513 0.65089559]\n",
      "result 1.793531017145098\n",
      "best probe vals 1.7935353126458913 [0.76999191 0.6509012 ]\n",
      "result 1.7600266965858815\n",
      "best probe vals 2.086592406405433 [0.76950713 0.65037993]\n",
      "result 1.699747003558745\n",
      "best probe vals 1.9175603577780052 [0.76983096 0.65079807]\n",
      "result 1.749071021245061\n",
      "best probe vals 1.8384869698427508 [0.76995257 0.65085694]\n",
      "result 1.7918447555204418\n",
      "best probe vals 1.8130563473767412 [0.76996484 0.65088776]\n",
      "result 1.7644999592482475\n",
      "best probe vals 1.9169894078175442 [0.77011485 0.65058347]\n",
      "result 1.7338546615445711\n",
      "best probe vals 1.834319090161786 [0.77000358 0.65080357]\n",
      "result 1.7398849974872435\n",
      "best probe vals 1.7821410677766896 [0.770222   0.65109251]\n",
      "result 1.783416438155071\n",
      "best probe vals 1.7846225709989942 [0.77023577 0.65107897]\n",
      "result 1.7892554149115933\n",
      "best probe vals 1.7918241230415124 [0.77026303 0.65105597]\n",
      "result 1.8028620077643969\n",
      "best probe vals 1.8073163661792493 [0.77030246 0.65102963]\n",
      "result 1.7659076963462363\n",
      "best probe vals 1.7747362327971468 [0.76567332 0.6541416 ]\n",
      "result 1.7274311364590944\n",
      "best probe vals 1.7756540237171425 [0.76579246 0.65419264]\n",
      "result 1.7588768339496486\n",
      "best probe vals 1.8030383572150437 [0.77026077 0.65105648]\n",
      "result 1.7934395029650707\n",
      "best probe vals 1.8146594008315051 [0.77027567 0.65106015]\n",
      "result 1.76970994572926\n"
     ]
    },
    {
     "name": "stdout",
     "output_type": "stream",
     "text": [
      "best probe vals 1.8089471682559564 [0.77025673 0.65102824]\n",
      "result 1.7576021161653097\n",
      "best probe vals 1.7893053010346278 [0.77023607 0.6510799 ]\n",
      "result 1.7757630374534454\n",
      "best probe vals 1.8443780991797911 [0.7702154  0.65106266]\n",
      "result 1.7795837439535502\n",
      "initial value: 1.71 new value:  1.8\n"
     ]
    }
   ],
   "source": [
    "def optimize(smoothing):\n",
    "    np.random.seed(int.from_bytes(os.urandom(4), byteorder='little'))\n",
    "    bounds=[(0,1.0),(0,1.0)]\n",
    "    newCoords=coordsArr.copy()\n",
    "    newVals=val0Arr.copy()\n",
    "    progressList=[np.max(newVals)]\n",
    "    fitFunc=None\n",
    "    for i in range(100):\n",
    "        fitFunc=spi.RBFInterpolator(newCoords,newVals,smoothing=smoothing)\n",
    "        def minFunc(X):\n",
    "            return 1/np.abs(fitFunc([X])[0])\n",
    "        probeVals=[]\n",
    "        probeCoords=[]\n",
    "        for j in range(10):\n",
    "            sol=spo.differential_evolution(minFunc,bounds,mutation=1.5)\n",
    "            probeVals.append(1/sol.fun)\n",
    "            probeCoords.append(sol.x)\n",
    "        bestProbeVal=max(probeVals)\n",
    "        bestProbeCoords=probeCoords[np.argmax(np.asarray(probeVals))]\n",
    "        print('best probe vals',bestProbeVal,bestProbeCoords)\n",
    "        newVal=revFunc(bestProbeCoords,parallel=True)\n",
    "        newCoords=np.row_stack((newCoords,bestProbeCoords))\n",
    "        newVals=np.append(newVals,newVal)\n",
    "        progressList.append(np.max(newVals))\n",
    "        print('result',newVal)\n",
    "    print('initial value:',np.round(np.max(val0Arr),2),'new value: ',np.round(np.max(newVals),2))\n",
    "    return fitFunc,progressList\n",
    "fitFunc,progressList=optimize(0.0)"
   ]
  },
  {
   "cell_type": "code",
   "execution_count": 22,
   "metadata": {},
   "outputs": [
    {
     "data": {
      "image/png": "[encoded data removed]",
      "text/plain": [
       "<Figure size 432x288 with 1 Axes>"
      ]
     },
     "metadata": {
      "needs_background": "light"
     },
     "output_type": "display_data"
    }
   ],
   "source": [
    "plt.plot(progressList)\n",
    "plt.show()"
   ]
  },
  {
   "cell_type": "code",
   "execution_count": 18,
   "metadata": {},
   "outputs": [
    {
     "data": {
      "image/png": "[encoded data removed]",
      "text/plain": [
       "<Figure size 432x288 with 1 Axes>"
      ]
     },
     "metadata": {
      "needs_background": "light"
     },
     "output_type": "display_data"
    }
   ],
   "source": [
    "sList=[]\n",
    "finalValList=[]\n",
    "for result in results:\n",
    "    sList.append(result[0])\n",
    "    finalValList.append(result[1][-1])\n",
    "#     plt.plot(result[1])\n",
    "# plt.show()\n",
    "# plt.xlabel('smoothing')\n",
    "plt.ylabel('final value')\n",
    "plt.plot(finalValList)\n",
    "plt.show()"
   ]
  },
  {
   "cell_type": "code",
   "execution_count": 12,
   "metadata": {},
   "outputs": [
    {
     "data": {
      "text/plain": [
       "array([1., 2., 3., 4., 5., 6., 7.])"
      ]
     },
     "execution_count": 12,
     "metadata": {},
     "output_type": "execute_result"
    }
   ],
   "source": [
    "import numpy as np\n",
    "a=np.asarray([1.0,2.0,3.0])\n",
    "b=np.asarray([4.0,5.0,6.0])\n",
    "c=7.0\n",
    "np.append(np.append(a,b),c)"
   ]
  },
  {
   "cell_type": "code",
   "execution_count": null,
   "metadata": {},
   "outputs": [],
   "source": []
  },
  {
   "cell_type": "code",
   "execution_count": null,
   "metadata": {},
   "outputs": [],
   "source": []
  },
  {
   "cell_type": "code",
   "execution_count": null,
   "metadata": {},
   "outputs": [],
   "source": []
  },
  {
   "cell_type": "code",
   "execution_count": null,
   "metadata": {},
   "outputs": [],
   "source": []
  },
  {
   "cell_type": "code",
   "execution_count": null,
   "metadata": {},
   "outputs": [],
   "source": []
  },
  {
   "cell_type": "code",
   "execution_count": null,
   "metadata": {},
   "outputs": [],
   "source": []
  },
  {
   "cell_type": "code",
   "execution_count": null,
   "metadata": {},
   "outputs": [],
   "source": []
  },
  {
   "cell_type": "code",
   "execution_count": null,
   "metadata": {},
   "outputs": [],
   "source": []
  },
  {
   "cell_type": "markdown",
   "metadata": {},
   "source": [
    "Designing an improved differential evolution algorithm. Works by making a non parametric model of a grid of solutions, then tries to find the best solution. Below are approaches, and their results. using 30x30 grid first\n",
    "1: generate grid of survival without any stability considerations to try and save time. Generating grid takes a while. \n",
    "2: use stability criteria to try and speed up results. Problem is that there are now hard edges in the model that can screw things up \n",
    "    a: no smoothing"
   ]
  }
 ],
 "metadata": {
  "kernelspec": {
   "display_name": "Python 3",
   "language": "python",
   "name": "python3"
  },
  "language_info": {
   "codemirror_mode": {
    "name": "ipython",
    "version": 3
   },
   "file_extension": ".py",
   "mimetype": "text/x-python",
   "name": "python",
   "nbconvert_exporter": "python",
   "pygments_lexer": "ipython3",
   "version": "3.8.5"
  },
  "nteract": {
   "version": "0.28.0"
  }
 },
 "nbformat": 4,
 "nbformat_minor": 4
}
