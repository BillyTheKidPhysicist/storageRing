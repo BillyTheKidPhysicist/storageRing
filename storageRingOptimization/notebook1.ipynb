{
 "cells": [
  {
   "cell_type": "code",
   "execution_count": 2,
   "metadata": {
    "execution": {
     "iopub.execute_input": "2020-08-23T19:42:15.363Z",
     "iopub.status.busy": "2020-08-23T19:42:15.360Z",
     "iopub.status.idle": "2020-08-23T19:43:15.622Z",
     "shell.execute_reply": "2020-08-23T19:43:15.632Z"
    }
   },
   "outputs": [],
   "source": [
    "from SwarmTracer import SwarmTracer\n",
    "from smallCombinerBigMagnets import get_Lattice\n",
    "from ParticleTracer import ParticleTracer\n",
    "from ParticleClass import Swarm\n",
    "lattice=get_Lattice()\n",
    "lattice.elList[0].fieldFact=.46\n",
    "lattice.elList[2].fieldFact=.16\n",
    "Lo,Li,LOffset=[ 0.2364782   ,0.51062351, -0.09054241]\n",
    "swarmTracer=SwarmTracer(lattice)\n",
    "# swarm=swarmTracer.initialize_Observed_Swarm_In_Phase_Space(numParticles=1000)\n",
    "# swarm=swarmTracer.move_Swarm_To_Combiner_Output(swarm)\n",
    "swarmTemp=swarmTracer.initialize_Swarm_At_Combiner_Output(Lo,Li,LOffset,numParticles=1000)\n",
    "swarm=Swarm()\n",
    "for particle in swarmTemp:\n",
    "    swarm.add_Particle(qi=particle.q,pi=particle.p)\n",
    "    swarm.particles[-1].clipped=particle.clipped"
   ]
  },
  {
   "cell_type": "code",
   "execution_count": 3,
   "metadata": {},
   "outputs": [
    {
     "name": "stdout",
     "output_type": "stream",
     "text": [
      "19.286385634466097\n"
     ]
    },
    {
     "data": {
      "text/plain": [
       "89.7391295316358"
      ]
     },
     "execution_count": 3,
     "metadata": {},
     "output_type": "execute_result"
    }
   ],
   "source": [
    "numRevs=500\n",
    "T=numRevs*lattice.totalLength/200\n",
    "print(T)\n",
    "swarmTraced=swarmTracer.trace_Swarm_Through_Lattice(swarm,5e-6,T)\n",
    "swarmTraced.survival_Rev() "
   ]
  },
  {
   "cell_type": "code",
   "execution_count": 4,
   "metadata": {},
   "outputs": [
    {
     "data": {
      "text/plain": [
       "0.084"
      ]
     },
     "execution_count": 4,
     "metadata": {},
     "output_type": "execute_result"
    }
   ],
   "source": [
    "swarmTraced.survival_Bool()"
   ]
  },
  {
   "cell_type": "code",
   "execution_count": null,
   "metadata": {},
   "outputs": [],
   "source": []
  },
  {
   "cell_type": "code",
   "execution_count": 22,
   "metadata": {},
   "outputs": [],
   "source": [
    "swarm.num_Particles()"
   ]
  },
  {
   "cell_type": "code",
   "execution_count": 7,
   "metadata": {},
   "outputs": [],
   "source": [
    "%matplotlib tk\n",
    "lattice.show_Lattice(swarm=swarm)"
   ]
  }
 ],
 "metadata": {
  "kernelspec": {
   "display_name": "Python 3",
   "language": "python",
   "name": "python3"
  },
  "language_info": {
   "codemirror_mode": {
    "name": "ipython",
    "version": 3
   },
   "file_extension": ".py",
   "mimetype": "text/x-python",
   "name": "python",
   "nbconvert_exporter": "python",
   "pygments_lexer": "ipython3",
   "version": "3.8.5"
  },
  "nteract": {
   "version": "0.24.1"
  }
 },
 "nbformat": 4,
 "nbformat_minor": 4
}
