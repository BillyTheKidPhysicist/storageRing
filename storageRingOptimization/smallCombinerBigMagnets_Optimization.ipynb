{
 "cells": [
  {
   "cell_type": "markdown",
   "metadata": {},
   "source": [
    "modulating magnets lenses 0 and 1 gives a minimum at (.49,.15) modulation factors with an average survival time of 105 revolutions\n",
    "\n",
    "\n",
    "modulating magnet lenses 1 and 2 gives a minimum at (.11,.24) with a survival time of 11 revolutions\n",
    "\n",
    "modulating magnet lenses 0 and 2 gives a minimum at (.39,.26) with a survival time of 10 revolutions\n",
    "\n",
    "\n",
    "splitting lens 3 into two lens and modulating gives a maximum of 2.\n"
   ]
  },
  {
   "cell_type": "code",
   "execution_count": 1,
   "metadata": {
    "execution": {
     "iopub.execute_input": "2021-02-16T02:27:16.152Z",
     "iopub.status.busy": "2021-02-16T02:27:16.140Z",
     "iopub.status.idle": "2021-02-16T02:27:26.696Z",
     "shell.execute_reply": "2021-02-16T02:27:26.869Z"
    },
    "jupyter": {
     "outputs_hidden": false,
     "source_hidden": false
    },
    "nteract": {
     "transient": {
      "deleting": false
     }
    }
   },
   "outputs": [],
   "source": [
    "import skopt\n",
    "from smallCombinerBigMagnets import *"
   ]
  },
  {
   "cell_type": "code",
   "execution_count": 2,
   "metadata": {},
   "outputs": [
    {
     "name": "stdout",
     "output_type": "stream",
     "text": [
      "injector bounds\n",
      "[(0.1, 0.25), (0.546066659738348, 1.5460666597383481), (-0.14868888657944934, 0.14868888657944934)]\n",
      "generating monte carlo bounds\n",
      "done generating monte carlo bounds\n",
      "bounds [(0, 50), (0, 50)]\n",
      "starting\n",
      "0\n",
      "[16, 37]\n",
      "stable\n",
      "[0.16, 0.37]\n",
      "start lattice tracing\n",
      "0.6402941999216926 82.99976301196229\n",
      "done lattice tracing 215.2363419532776\n",
      "start mode match\n"
     ]
    },
    {
     "name": "stderr",
     "output_type": "stream",
     "text": [
      "/home/billy/.local/lib/python3.8/site-packages/scipy/optimize/_differentialevolution.py:495: UserWarning: differential_evolution: the 'workers' keyword has overridden updating='immediate' to updating='deferred'\n",
      "  warnings.warn(\"differential_evolution: the 'workers' keyword has\"\n"
     ]
    },
    {
     "name": "stdout",
     "output_type": "stream",
     "text": [
      "differential_evolution step 1: f(x)= -1.93306\n",
      "differential_evolution step 2: f(x)= -1.96187\n",
      "differential_evolution step 3: f(x)= -1.98129\n",
      "differential_evolution step 4: f(x)= -1.9832\n",
      "differential_evolution step 5: f(x)= -1.9832\n",
      "optimal injector args: [ 0.24264574  0.55485092 -0.04276191]\n",
      "done mode match 143.3357629776001\n",
      "survival 1.9832011913622034\n",
      "cost -0.003966402382724407\n",
      "1\n",
      "[2, 9]\n",
      "1\n",
      "[35, 19]\n",
      "stable\n",
      "[0.35, 0.19]\n",
      "start lattice tracing\n",
      "6.527257072449687 500.7191871291715\n",
      "done lattice tracing 2609.855642080307\n",
      "start mode match\n",
      "differential_evolution step 1: f(x)= -37.6051\n",
      "differential_evolution step 2: f(x)= -38.5335\n",
      "differential_evolution step 3: f(x)= -38.6432\n",
      "differential_evolution step 4: f(x)= -38.7146\n",
      "optimal injector args: [ 0.24667002  0.57880731 -0.00852804]\n",
      "done mode match 175.99590921401978\n",
      "survival 38.71463184751844\n",
      "cost -0.07742926369503689\n",
      "2\n",
      "[31, 40]\n",
      "stable\n",
      "[0.31, 0.4]\n",
      "start lattice tracing\n",
      "0.9804543605286653 501.48926129650454\n",
      "done lattice tracing 545.9432120323181\n",
      "start mode match\n",
      "differential_evolution step 1: f(x)= -3.89681\n",
      "differential_evolution step 2: f(x)= -4.09863\n",
      "differential_evolution step 3: f(x)= -4.09863\n",
      "differential_evolution step 4: f(x)= -4.12966\n",
      "differential_evolution step 5: f(x)= -4.1316\n",
      "differential_evolution step 6: f(x)= -4.15443\n",
      "optimal injector args: [ 0.23409709  0.63365436 -0.11952679]\n",
      "done mode match 223.70330476760864\n",
      "survival 4.154430450960654\n",
      "cost -0.008308860901921308\n",
      "3\n",
      "[34, 2]\n",
      "3\n",
      "[49, 43]\n",
      "3\n",
      "[22, 46]\n",
      "stable\n",
      "[0.22, 0.46]\n",
      "start lattice tracing\n",
      "0.7902704979954418 121.5688632451596\n",
      "done lattice tracing 432.9825179576874\n",
      "start mode match\n",
      "differential_evolution step 1: f(x)= -2.30668\n",
      "differential_evolution step 2: f(x)= -2.30668\n",
      "differential_evolution step 3: f(x)= -2.34324\n",
      "differential_evolution step 4: f(x)= -2.35036\n",
      "differential_evolution step 5: f(x)= -2.35137\n",
      "differential_evolution step 6: f(x)= -2.35137\n",
      "differential_evolution step 7: f(x)= -2.35155\n",
      "differential_evolution step 8: f(x)= -2.35155\n",
      "differential_evolution step 9: f(x)= -2.35157\n",
      "optimal injector args: [ 0.16331641  0.55118942 -0.08390647]\n",
      "done mode match 319.87141275405884\n",
      "survival 2.351568341157944\n",
      "cost -0.004703136682315887\n",
      "4\n",
      "[2, 49]\n",
      "stable\n",
      "[0.02, 0.49]\n",
      "start lattice tracing\n",
      "0.6162400100879558 100.03771119403922\n",
      "done lattice tracing 319.8280031681061\n",
      "start mode match\n",
      "differential_evolution step 1: f(x)= -1.20472\n",
      "differential_evolution step 2: f(x)= -1.21174\n",
      "differential_evolution step 3: f(x)= -1.2132\n",
      "differential_evolution step 4: f(x)= -1.2132\n",
      "optimal injector args: [ 0.21494783  0.57676542 -0.06287566]\n",
      "done mode match 151.39183926582336\n",
      "survival 1.2132031605980735\n",
      "cost -0.0024264063211961472\n",
      "5\n",
      "[42, 49]\n",
      "5\n",
      "[15, 45]\n",
      "stable\n",
      "[0.15, 0.45]\n",
      "start lattice tracing\n",
      "0.6764149750855436 124.56335503250585\n",
      "done lattice tracing 363.05327248573303\n",
      "start mode match\n",
      "differential_evolution step 1: f(x)= -1.97756\n",
      "differential_evolution step 2: f(x)= -2.00996\n",
      "differential_evolution step 3: f(x)= -2.0148\n",
      "differential_evolution step 4: f(x)= -2.02219\n",
      "differential_evolution step 5: f(x)= -2.04963\n",
      "differential_evolution step 6: f(x)= -2.06366\n",
      "differential_evolution step 7: f(x)= -2.07863\n",
      "optimal injector args: [ 0.21877547  0.547157   -0.01406027]\n",
      "done mode match 255.83368968963623\n",
      "survival 2.0786301137976517\n",
      "cost -0.004157260227595304\n",
      "6\n",
      "[47, 0]\n",
      "6\n",
      "[48, 38]\n",
      "6\n",
      "[18, 41]\n",
      "stable\n",
      "[0.18, 0.41]\n",
      "start lattice tracing\n",
      "0.6949819690393456 143.9999439097714\n",
      "done lattice tracing 366.6865756511688\n",
      "start mode match\n",
      "differential_evolution step 1: f(x)= -2.41658\n",
      "differential_evolution step 2: f(x)= -2.42245\n",
      "differential_evolution step 3: f(x)= -2.42245\n",
      "differential_evolution step 4: f(x)= -2.43203\n",
      "differential_evolution step 5: f(x)= -2.43814\n",
      "optimal injector args: [ 0.24129267  0.72030268 -0.05412512]\n",
      "done mode match 210.90894222259521\n",
      "survival 2.4381435428917047\n",
      "cost -0.004876287085783409\n",
      "7\n",
      "[7, 34]\n",
      "stable\n",
      "[0.07, 0.34]\n",
      "start lattice tracing\n",
      "0.5813264202276891 126.96128882058014\n",
      "done lattice tracing 307.0020833015442\n",
      "start mode match\n",
      "differential_evolution step 1: f(x)= -1.31515\n",
      "differential_evolution step 2: f(x)= -1.32406\n",
      "differential_evolution step 3: f(x)= -1.32636\n",
      "differential_evolution step 4: f(x)= -1.32717\n",
      "differential_evolution step 5: f(x)= -1.32752\n",
      "optimal injector args: [ 0.23476042  0.66309481 -0.12944479]\n",
      "done mode match 202.67575192451477\n",
      "survival 1.3275204617753356\n",
      "cost -0.002655040923550671\n",
      "8\n",
      "[0, 17]\n",
      "8\n",
      "[13, 6]\n",
      "stable\n",
      "[0.13, 0.06]\n",
      "start lattice tracing\n",
      "1.2493514560712748 266.01503550454214\n",
      "done lattice tracing 650.1397700309753\n",
      "start mode match\n"
     ]
    },
    {
     "name": "stderr",
     "output_type": "stream",
     "text": [
      "/home/billy/.local/lib/python3.8/site-packages/scipy/optimize/_differentialevolution.py:495: UserWarning: differential_evolution: the 'workers' keyword has overridden updating='immediate' to updating='deferred'\n",
      "  warnings.warn(\"differential_evolution: the 'workers' keyword has\"\n"
     ]
    },
    {
     "name": "stdout",
     "output_type": "stream",
     "text": [
      "differential_evolution step 1: f(x)= -2.66867\n",
      "differential_evolution step 2: f(x)= -2.79476\n",
      "differential_evolution step 3: f(x)= -2.79585\n",
      "differential_evolution step 4: f(x)= -2.80189\n",
      "differential_evolution step 5: f(x)= -2.80368\n",
      "differential_evolution step 6: f(x)= -2.81678\n",
      "optimal injector args: [ 0.16708855  0.56125152 -0.03059742]\n",
      "done mode match 235.76323294639587\n",
      "survival 2.816775888826007\n",
      "cost -0.005633551777652013\n",
      "9\n",
      "[45, 14]\n",
      "stable\n",
      "[0.45, 0.14]\n",
      "start lattice tracing\n",
      "18.213949050066734 511.29164758538\n",
      "done lattice tracing 8861.196958303452\n",
      "start mode match\n"
     ]
    },
    {
     "name": "stderr",
     "output_type": "stream",
     "text": [
      "/home/billy/.local/lib/python3.8/site-packages/scipy/optimize/_differentialevolution.py:495: UserWarning: differential_evolution: the 'workers' keyword has overridden updating='immediate' to updating='deferred'\n",
      "  warnings.warn(\"differential_evolution: the 'workers' keyword has\"\n"
     ]
    },
    {
     "name": "stdout",
     "output_type": "stream",
     "text": [
      "differential_evolution step 1: f(x)= -92.8912\n",
      "differential_evolution step 2: f(x)= -93.1994\n",
      "differential_evolution step 3: f(x)= -93.4903\n",
      "optimal injector args: [ 0.22873648  0.54852365 -0.04199762]\n",
      "done mode match 137.0958104133606\n",
      "survival 93.49028532245362\n",
      "cost -0.18698057064490722\n",
      "10\n",
      "[41, 44]\n",
      "10\n",
      "[23, 39]\n",
      "stable\n",
      "[0.23, 0.39]\n",
      "start lattice tracing\n",
      "0.7553449006519668 113.99985052545253\n",
      "done lattice tracing 409.19910502433777\n",
      "start mode match\n"
     ]
    },
    {
     "name": "stderr",
     "output_type": "stream",
     "text": [
      "/home/billy/.local/lib/python3.8/site-packages/scipy/optimize/_differentialevolution.py:495: UserWarning: differential_evolution: the 'workers' keyword has overridden updating='immediate' to updating='deferred'\n",
      "  warnings.warn(\"differential_evolution: the 'workers' keyword has\"\n"
     ]
    },
    {
     "name": "stdout",
     "output_type": "stream",
     "text": [
      "differential_evolution step 1: f(x)= -2.62765\n",
      "differential_evolution step 2: f(x)= -2.70444\n",
      "differential_evolution step 3: f(x)= -2.71552\n",
      "differential_evolution step 4: f(x)= -2.72064\n",
      "optimal injector args: [ 0.24643235  0.61696742 -0.02454901]\n",
      "done mode match 160.36785054206848\n",
      "survival 2.720635514302986\n",
      "cost -0.005441271028605973\n",
      "11\n",
      "[25, 35]\n",
      "stable\n",
      "[0.25, 0.35]\n",
      "start lattice tracing\n",
      "0.8347691665959891 161.001552136932\n",
      "done lattice tracing 438.69506216049194\n",
      "start mode match\n"
     ]
    },
    {
     "name": "stderr",
     "output_type": "stream",
     "text": [
      "/home/billy/.local/lib/python3.8/site-packages/scipy/optimize/_differentialevolution.py:495: UserWarning: differential_evolution: the 'workers' keyword has overridden updating='immediate' to updating='deferred'\n",
      "  warnings.warn(\"differential_evolution: the 'workers' keyword has\"\n"
     ]
    },
    {
     "name": "stdout",
     "output_type": "stream",
     "text": [
      "differential_evolution step 1: f(x)= -3.42102\n",
      "differential_evolution step 2: f(x)= -3.44744\n",
      "differential_evolution step 3: f(x)= -3.48586\n",
      "differential_evolution step 4: f(x)= -3.49737\n",
      "differential_evolution step 5: f(x)= -3.50723\n",
      "differential_evolution step 6: f(x)= -3.50724\n",
      "differential_evolution step 7: f(x)= -3.50724\n",
      "optimal injector args: [ 0.2094148   0.54942889 -0.0671226 ]\n",
      "done mode match 276.85545229911804\n",
      "survival 3.5072433081600076\n",
      "cost -0.0070144866163200145\n",
      "12\n",
      "[28, 48]\n",
      "stable\n",
      "[0.28, 0.48]\n",
      "start lattice tracing\n",
      "1.0062960250164266 501.5988368662619\n",
      "done lattice tracing 524.1153481006622\n",
      "start mode match\n"
     ]
    },
    {
     "name": "stderr",
     "output_type": "stream",
     "text": [
      "/home/billy/.local/lib/python3.8/site-packages/scipy/optimize/_differentialevolution.py:495: UserWarning: differential_evolution: the 'workers' keyword has overridden updating='immediate' to updating='deferred'\n",
      "  warnings.warn(\"differential_evolution: the 'workers' keyword has\"\n"
     ]
    },
    {
     "name": "stdout",
     "output_type": "stream",
     "text": [
      "differential_evolution step 1: f(x)= -3.41978\n",
      "differential_evolution step 2: f(x)= -3.4246\n",
      "differential_evolution step 3: f(x)= -3.42612\n",
      "differential_evolution step 4: f(x)= -3.4359\n",
      "differential_evolution step 5: f(x)= -3.44709\n",
      "differential_evolution step 6: f(x)= -3.44723\n",
      "optimal injector args: [ 0.15336298  0.64779543 -0.11818153]\n",
      "done mode match 242.11887288093567\n",
      "survival 3.4472287838601625\n",
      "cost -0.006894457567720325\n",
      "13\n",
      "[2, 36]\n",
      "13\n",
      "[7, 4]\n",
      "stable\n",
      "[0.07, 0.04]\n",
      "start lattice tracing\n",
      "0.8223102545137079 104.03887826816032\n",
      "done lattice tracing 420.3637795448303\n",
      "start mode match\n"
     ]
    },
    {
     "name": "stderr",
     "output_type": "stream",
     "text": [
      "/home/billy/.local/lib/python3.8/site-packages/scipy/optimize/_differentialevolution.py:495: UserWarning: differential_evolution: the 'workers' keyword has overridden updating='immediate' to updating='deferred'\n",
      "  warnings.warn(\"differential_evolution: the 'workers' keyword has\"\n"
     ]
    },
    {
     "name": "stdout",
     "output_type": "stream",
     "text": [
      "differential_evolution step 1: f(x)= -1.40134\n",
      "differential_evolution step 2: f(x)= -1.43862\n",
      "differential_evolution step 3: f(x)= -1.45206\n",
      "differential_evolution step 4: f(x)= -1.45243\n",
      "differential_evolution step 5: f(x)= -1.45691\n",
      "differential_evolution step 6: f(x)= -1.45691\n",
      "differential_evolution step 7: f(x)= -1.45691\n",
      "optimal injector args: [ 0.22599369  0.55882012 -0.06545167]\n",
      "done mode match 272.44719195365906\n",
      "survival 1.456907962126181\n",
      "cost -0.002913815924252362\n",
      "14\n",
      "[3, 2]\n",
      "stable\n",
      "[0.03, 0.02]\n",
      "start lattice tracing\n",
      "0.6161466854087635 154.01399345575328\n",
      "done lattice tracing 323.1602554321289\n",
      "start mode match\n"
     ]
    },
    {
     "name": "stderr",
     "output_type": "stream",
     "text": [
      "/home/billy/.local/lib/python3.8/site-packages/scipy/optimize/_differentialevolution.py:495: UserWarning: differential_evolution: the 'workers' keyword has overridden updating='immediate' to updating='deferred'\n",
      "  warnings.warn(\"differential_evolution: the 'workers' keyword has\"\n"
     ]
    },
    {
     "name": "stdout",
     "output_type": "stream",
     "text": [
      "differential_evolution step 1: f(x)= -1.17839\n",
      "differential_evolution step 2: f(x)= -1.2136\n",
      "differential_evolution step 3: f(x)= -1.21664\n",
      "differential_evolution step 4: f(x)= -1.21667\n",
      "differential_evolution step 5: f(x)= -1.21737\n",
      "differential_evolution step 6: f(x)= -1.2174\n",
      "optimal injector args: [ 0.22210255  0.56044402 -0.05313317]\n",
      "done mode match 242.77846264839172\n",
      "survival 1.217401507586449\n",
      "cost -0.002434803015172898\n",
      "15\n",
      "[50, 14]\n",
      "stable\n",
      "[0.5, 0.14]\n",
      "start lattice tracing\n",
      "18.149718348943722 499.8193542288273\n",
      "done lattice tracing 6576.843847513199\n",
      "start mode match\n"
     ]
    },
    {
     "name": "stderr",
     "output_type": "stream",
     "text": [
      "/home/billy/.local/lib/python3.8/site-packages/scipy/optimize/_differentialevolution.py:495: UserWarning: differential_evolution: the 'workers' keyword has overridden updating='immediate' to updating='deferred'\n",
      "  warnings.warn(\"differential_evolution: the 'workers' keyword has\"\n"
     ]
    },
    {
     "name": "stdout",
     "output_type": "stream",
     "text": [
      "differential_evolution step 1: f(x)= -96.4722\n",
      "differential_evolution step 2: f(x)= -97.5775\n",
      "differential_evolution step 3: f(x)= -98.114\n",
      "optimal injector args: [ 0.18008282  0.57492896 -0.05016124]\n",
      "done mode match 46.78457307815552\n",
      "survival 98.11403823566654\n",
      "cost -0.19622807647133308\n",
      "16\n",
      "[50, 13]\n",
      "stable\n",
      "[0.5, 0.13]\n",
      "start lattice tracing\n",
      "14.360416260693562 499.1164155511016\n",
      "done lattice tracing 2303.764864206314\n",
      "start mode match\n"
     ]
    },
    {
     "name": "stderr",
     "output_type": "stream",
     "text": [
      "/home/billy/.local/lib/python3.8/site-packages/scipy/optimize/_differentialevolution.py:495: UserWarning: differential_evolution: the 'workers' keyword has overridden updating='immediate' to updating='deferred'\n",
      "  warnings.warn(\"differential_evolution: the 'workers' keyword has\"\n"
     ]
    },
    {
     "name": "stdout",
     "output_type": "stream",
     "text": [
      "differential_evolution step 1: f(x)= -72.209\n",
      "differential_evolution step 2: f(x)= -72.4398\n",
      "differential_evolution step 3: f(x)= -72.9421\n",
      "optimal injector args: [0.24211361 0.63127231 0.03019708]\n",
      "done mode match 47.07555532455444\n",
      "survival 72.9420975154774\n",
      "cost -0.1458841950309548\n",
      "17\n",
      "[50, 15]\n",
      "stable\n",
      "[0.5, 0.15]\n",
      "start lattice tracing\n",
      "19.926166729393813 500.2838864190342\n",
      "done lattice tracing 3181.498824596405\n",
      "start mode match\n"
     ]
    },
    {
     "name": "stderr",
     "output_type": "stream",
     "text": [
      "/home/billy/.local/lib/python3.8/site-packages/scipy/optimize/_differentialevolution.py:495: UserWarning: differential_evolution: the 'workers' keyword has overridden updating='immediate' to updating='deferred'\n",
      "  warnings.warn(\"differential_evolution: the 'workers' keyword has\"\n"
     ]
    },
    {
     "name": "stdout",
     "output_type": "stream",
     "text": [
      "differential_evolution step 1: f(x)= -108.278\n",
      "differential_evolution step 2: f(x)= -108.803\n",
      "differential_evolution step 3: f(x)= -109.75\n",
      "differential_evolution step 4: f(x)= -110.329\n",
      "differential_evolution step 5: f(x)= -110.358\n",
      "optimal injector args: [0.15937809 0.54642267 0.02259015]\n",
      "done mode match 70.15216422080994\n",
      "survival 110.35824983275774\n",
      "cost -0.22071649966551546\n",
      "18\n",
      "[50, 16]\n",
      "stable\n",
      "[0.5, 0.16]\n",
      "start lattice tracing\n",
      "18.551821918288173 500.35530845059577\n",
      "done lattice tracing 2982.418969631195\n",
      "start mode match\n"
     ]
    },
    {
     "name": "stderr",
     "output_type": "stream",
     "text": [
      "/home/billy/.local/lib/python3.8/site-packages/scipy/optimize/_differentialevolution.py:495: UserWarning: differential_evolution: the 'workers' keyword has overridden updating='immediate' to updating='deferred'\n",
      "  warnings.warn(\"differential_evolution: the 'workers' keyword has\"\n"
     ]
    },
    {
     "name": "stdout",
     "output_type": "stream",
     "text": [
      "differential_evolution step 1: f(x)= -108.047\n",
      "differential_evolution step 2: f(x)= -110.281\n",
      "differential_evolution step 3: f(x)= -110.281\n",
      "differential_evolution step 4: f(x)= -110.351\n",
      "differential_evolution step 5: f(x)= -111.194\n",
      "differential_evolution step 6: f(x)= -111.209\n",
      "optimal injector args: [0.24926291 0.54817495 0.05568176]\n",
      "done mode match 84.210697889328\n",
      "survival 111.20909843372107\n",
      "cost -0.22241819686744216\n",
      "19\n",
      "DUPLICATE POINT [50, 16]\n",
      "inside func {'xi': 0.004, 'noise': 2e-05}\n",
      "NEW POINT [50, 27]\n",
      "[50, 27]\n"
     ]
    },
    {
     "name": "stderr",
     "output_type": "stream",
     "text": [
      "/home/billy/.local/lib/python3.8/site-packages/skopt/optimizer/optimizer.py:450: UserWarning: The objective has been evaluated at this point before.\n",
      "  warnings.warn(\"The objective has been evaluated \"\n"
     ]
    },
    {
     "name": "stdout",
     "output_type": "stream",
     "text": [
      "19\n",
      "DUPLICATE POINT [50, 16]\n",
      "inside func {'xi': 0.008, 'noise': 2e-05}\n",
      "NEW POINT [0, 26]\n",
      "[0, 26]\n"
     ]
    },
    {
     "name": "stderr",
     "output_type": "stream",
     "text": [
      "/home/billy/.local/lib/python3.8/site-packages/skopt/optimizer/optimizer.py:450: UserWarning: The objective has been evaluated at this point before.\n",
      "  warnings.warn(\"The objective has been evaluated \"\n"
     ]
    },
    {
     "name": "stdout",
     "output_type": "stream",
     "text": [
      "19\n",
      "[43, 16]\n",
      "stable\n",
      "[0.43, 0.16]\n",
      "start lattice tracing\n",
      "18.72068068427689 500.57658380286483\n",
      "done lattice tracing 2986.36155295372\n",
      "start mode match\n"
     ]
    },
    {
     "name": "stderr",
     "output_type": "stream",
     "text": [
      "/home/billy/.local/lib/python3.8/site-packages/scipy/optimize/_differentialevolution.py:495: UserWarning: differential_evolution: the 'workers' keyword has overridden updating='immediate' to updating='deferred'\n",
      "  warnings.warn(\"differential_evolution: the 'workers' keyword has\"\n"
     ]
    },
    {
     "name": "stdout",
     "output_type": "stream",
     "text": [
      "differential_evolution step 1: f(x)= -106.001\n",
      "differential_evolution step 2: f(x)= -109.776\n",
      "differential_evolution step 3: f(x)= -110.305\n",
      "differential_evolution step 4: f(x)= -110.496\n",
      "differential_evolution step 5: f(x)= -110.6\n",
      "differential_evolution step 6: f(x)= -110.6\n",
      "differential_evolution step 7: f(x)= -110.645\n",
      "differential_evolution step 8: f(x)= -110.645\n",
      "optimal injector args: [0.23496289 0.56071935 0.02395465]\n",
      "done mode match 106.58609104156494\n",
      "survival 110.64469276834652\n",
      "cost -0.22128938553669303\n",
      "20\n",
      "DUPLICATE POINT [50, 16]\n",
      "inside func {'xi': 0.016, 'noise': 2e-05}\n",
      "NEW POINT [50, 17]\n",
      "[50, 17]\n"
     ]
    },
    {
     "name": "stderr",
     "output_type": "stream",
     "text": [
      "/home/billy/.local/lib/python3.8/site-packages/skopt/optimizer/optimizer.py:450: UserWarning: The objective has been evaluated at this point before.\n",
      "  warnings.warn(\"The objective has been evaluated \"\n"
     ]
    },
    {
     "name": "stdout",
     "output_type": "stream",
     "text": [
      "stable\n",
      "[0.5, 0.17]\n",
      "start lattice tracing\n",
      "14.88651445885143 500.89135751534315\n",
      "done lattice tracing 2374.8305230140686\n",
      "start mode match\n"
     ]
    },
    {
     "name": "stderr",
     "output_type": "stream",
     "text": [
      "/home/billy/.local/lib/python3.8/site-packages/scipy/optimize/_differentialevolution.py:495: UserWarning: differential_evolution: the 'workers' keyword has overridden updating='immediate' to updating='deferred'\n",
      "  warnings.warn(\"differential_evolution: the 'workers' keyword has\"\n"
     ]
    },
    {
     "name": "stdout",
     "output_type": "stream",
     "text": [
      "differential_evolution step 1: f(x)= -83.4632\n",
      "differential_evolution step 2: f(x)= -84.9413\n",
      "differential_evolution step 3: f(x)= -84.9413\n",
      "differential_evolution step 4: f(x)= -84.9413\n",
      "differential_evolution step 5: f(x)= -84.9413\n",
      "optimal injector args: [ 0.14055467  0.59187742 -0.13774109]\n",
      "done mode match 68.8426673412323\n",
      "survival 84.94129797717844\n",
      "cost -0.16988259595435687\n",
      "21\n",
      "[39, 15]\n",
      "stable\n",
      "[0.39, 0.15]\n",
      "start lattice tracing\n",
      "16.600810615347278 499.9730769111312\n",
      "done lattice tracing 2665.802801847458\n",
      "start mode match\n"
     ]
    },
    {
     "name": "stderr",
     "output_type": "stream",
     "text": [
      "/home/billy/.local/lib/python3.8/site-packages/scipy/optimize/_differentialevolution.py:495: UserWarning: differential_evolution: the 'workers' keyword has overridden updating='immediate' to updating='deferred'\n",
      "  warnings.warn(\"differential_evolution: the 'workers' keyword has\"\n"
     ]
    },
    {
     "name": "stdout",
     "output_type": "stream",
     "text": [
      "differential_evolution step 1: f(x)= -91.9076\n",
      "differential_evolution step 2: f(x)= -92.9155\n",
      "differential_evolution step 3: f(x)= -93.8012\n",
      "differential_evolution step 4: f(x)= -94.0284\n",
      "differential_evolution step 5: f(x)= -94.1481\n",
      "differential_evolution step 6: f(x)= -94.6962\n",
      "differential_evolution step 7: f(x)= -94.7332\n",
      "differential_evolution step 8: f(x)= -94.7332\n",
      "optimal injector args: [0.24875353 0.54949885 0.02880345]\n",
      "done mode match 108.27723264694214\n",
      "survival 94.7331771533856\n",
      "cost -0.1894663543067712\n",
      "22\n",
      "DUPLICATE POINT [50, 15]\n",
      "inside func {'xi': 0.032, 'noise': 2e-05}\n"
     ]
    },
    {
     "name": "stderr",
     "output_type": "stream",
     "text": [
      "/home/billy/.local/lib/python3.8/site-packages/skopt/optimizer/optimizer.py:450: UserWarning: The objective has been evaluated at this point before.\n",
      "  warnings.warn(\"The objective has been evaluated \"\n"
     ]
    },
    {
     "name": "stdout",
     "output_type": "stream",
     "text": [
      "NEW POINT [50, 8]\n",
      "[50, 8]\n",
      "22\n",
      "[50, 32]\n",
      "22\n",
      "[50, 22]\n",
      "stable\n",
      "[0.5, 0.22]\n",
      "start lattice tracing\n",
      "5.324786529659914 501.90509410185666\n",
      "done lattice tracing 876.0664594173431\n",
      "start mode match\n"
     ]
    },
    {
     "name": "stderr",
     "output_type": "stream",
     "text": [
      "/home/billy/.local/lib/python3.8/site-packages/scipy/optimize/_differentialevolution.py:495: UserWarning: differential_evolution: the 'workers' keyword has overridden updating='immediate' to updating='deferred'\n",
      "  warnings.warn(\"differential_evolution: the 'workers' keyword has\"\n"
     ]
    },
    {
     "name": "stdout",
     "output_type": "stream",
     "text": [
      "differential_evolution step 1: f(x)= -31.2901\n",
      "differential_evolution step 2: f(x)= -31.9157\n",
      "differential_evolution step 3: f(x)= -32.39\n",
      "differential_evolution step 4: f(x)= -32.4224\n",
      "differential_evolution step 5: f(x)= -32.6506\n",
      "differential_evolution step 6: f(x)= -32.69\n",
      "optimal injector args: [ 0.20721726  0.55036898 -0.00161061]\n",
      "done mode match 82.65847206115723\n",
      "survival 32.690008766533225\n",
      "cost -0.06538001753306645\n",
      "23\n",
      "[0, 22]\n",
      "23\n",
      "DUPLICATE POINT [50, 15]\n",
      "inside func {'xi': 0.064, 'noise': 2e-05}\n",
      "NEW POINT [0, 13]\n",
      "[0, 13]\n"
     ]
    },
    {
     "name": "stderr",
     "output_type": "stream",
     "text": [
      "/home/billy/.local/lib/python3.8/site-packages/skopt/optimizer/optimizer.py:450: UserWarning: The objective has been evaluated at this point before.\n",
      "  warnings.warn(\"The objective has been evaluated \"\n"
     ]
    },
    {
     "name": "stdout",
     "output_type": "stream",
     "text": [
      "23\n",
      "[0, 30]\n",
      "23\n",
      "[30, 12]\n",
      "23\n",
      "[28, 24]\n",
      "stable\n",
      "[0.28, 0.24]\n",
      "start lattice tracing\n",
      "1.78145875052213 280.04447368493055\n",
      "done lattice tracing 300.8467769622803\n",
      "start mode match\n"
     ]
    },
    {
     "name": "stderr",
     "output_type": "stream",
     "text": [
      "/home/billy/.local/lib/python3.8/site-packages/scipy/optimize/_differentialevolution.py:495: UserWarning: differential_evolution: the 'workers' keyword has overridden updating='immediate' to updating='deferred'\n",
      "  warnings.warn(\"differential_evolution: the 'workers' keyword has\"\n"
     ]
    },
    {
     "name": "stdout",
     "output_type": "stream",
     "text": [
      "differential_evolution step 1: f(x)= -9.52579\n",
      "differential_evolution step 2: f(x)= -9.72138\n",
      "differential_evolution step 3: f(x)= -9.79897\n",
      "differential_evolution step 4: f(x)= -9.83738\n",
      "differential_evolution step 5: f(x)= -9.84473\n",
      "optimal injector args: [ 0.23825648  0.66269796 -0.11974481]\n",
      "done mode match 67.91670823097229\n",
      "survival 9.844728088701611\n",
      "cost -0.01968945617740322\n",
      "24\n",
      "[50, 4]\n",
      "24\n",
      "DUPLICATE POINT [50, 15]\n",
      "inside func {'xi': 0.004, 'noise': 2e-05}\n",
      "NEW POINT [50, 15]\n",
      "DUPLICATE POINT [50, 15]\n",
      "inside func {'xi': 0.008, 'noise': 2e-05}\n"
     ]
    },
    {
     "name": "stderr",
     "output_type": "stream",
     "text": [
      "/home/billy/.local/lib/python3.8/site-packages/skopt/optimizer/optimizer.py:450: UserWarning: The objective has been evaluated at this point before.\n",
      "  warnings.warn(\"The objective has been evaluated \"\n",
      "/home/billy/.local/lib/python3.8/site-packages/skopt/optimizer/optimizer.py:450: UserWarning: The objective has been evaluated at this point before.\n",
      "  warnings.warn(\"The objective has been evaluated \"\n"
     ]
    },
    {
     "name": "stdout",
     "output_type": "stream",
     "text": [
      "NEW POINT [49, 15]\n",
      "[49, 15]\n",
      "stable\n",
      "[0.49, 0.15]\n",
      "start lattice tracing\n",
      "19.998196482727234 499.908674162425\n",
      "done lattice tracing 3205.5745005607605\n",
      "start mode match\n"
     ]
    },
    {
     "name": "stderr",
     "output_type": "stream",
     "text": [
      "/home/billy/.local/lib/python3.8/site-packages/scipy/optimize/_differentialevolution.py:495: UserWarning: differential_evolution: the 'workers' keyword has overridden updating='immediate' to updating='deferred'\n",
      "  warnings.warn(\"differential_evolution: the 'workers' keyword has\"\n"
     ]
    },
    {
     "name": "stdout",
     "output_type": "stream",
     "text": [
      "differential_evolution step 1: f(x)= -104.469\n",
      "differential_evolution step 2: f(x)= -109.802\n",
      "differential_evolution step 3: f(x)= -110.655\n",
      "differential_evolution step 4: f(x)= -111.43\n",
      "differential_evolution step 5: f(x)= -111.687\n",
      "optimal injector args: [0.24266412 0.56876643 0.02057294]\n",
      "done mode match 71.20265769958496\n",
      "survival 111.68659075631595\n",
      "cost -0.22337318151263189\n",
      "25\n",
      "DUPLICATE POINT [50, 15]\n",
      "inside func {'xi': 0.016, 'noise': 2e-05}\n"
     ]
    },
    {
     "name": "stderr",
     "output_type": "stream",
     "text": [
      "/home/billy/.local/lib/python3.8/site-packages/skopt/optimizer/optimizer.py:450: UserWarning: The objective has been evaluated at this point before.\n",
      "  warnings.warn(\"The objective has been evaluated \"\n",
      "/home/billy/.local/lib/python3.8/site-packages/skopt/optimizer/optimizer.py:450: UserWarning: The objective has been evaluated at this point before.\n",
      "  warnings.warn(\"The objective has been evaluated \"\n"
     ]
    },
    {
     "name": "stdout",
     "output_type": "stream",
     "text": [
      "NEW POINT [50, 15]\n",
      "DUPLICATE POINT [50, 15]\n",
      "inside func {'xi': 0.032, 'noise': 2e-05}\n",
      "NEW POINT [28, 16]\n",
      "[28, 16]\n",
      "stable\n",
      "[0.28, 0.16]\n",
      "start lattice tracing\n",
      "7.35378888518557 498.58723556828954\n",
      "done lattice tracing 1199.2924280166626\n",
      "start mode match\n"
     ]
    },
    {
     "name": "stderr",
     "output_type": "stream",
     "text": [
      "/home/billy/.local/lib/python3.8/site-packages/scipy/optimize/_differentialevolution.py:495: UserWarning: differential_evolution: the 'workers' keyword has overridden updating='immediate' to updating='deferred'\n",
      "  warnings.warn(\"differential_evolution: the 'workers' keyword has\"\n"
     ]
    },
    {
     "name": "stdout",
     "output_type": "stream",
     "text": [
      "differential_evolution step 1: f(x)= -40.6054\n",
      "differential_evolution step 2: f(x)= -41.3672\n",
      "differential_evolution step 3: f(x)= -42.1462\n",
      "differential_evolution step 4: f(x)= -42.4507\n",
      "differential_evolution step 5: f(x)= -42.4507\n",
      "differential_evolution step 6: f(x)= -42.4643\n",
      "differential_evolution step 7: f(x)= -42.4643\n",
      "optimal injector args: [ 0.18385105  0.57488507 -0.03368759]\n",
      "done mode match 94.90518760681152\n",
      "survival 42.46432825350156\n",
      "cost -0.08492865650700313\n",
      "26\n",
      "[25, 29]\n",
      "stable\n",
      "[0.25, 0.29]\n",
      "start lattice tracing\n",
      "1.0202343160383023 157.9999579645821\n",
      "done lattice tracing 176.0285005569458\n",
      "start mode match\n"
     ]
    },
    {
     "name": "stderr",
     "output_type": "stream",
     "text": [
      "/home/billy/.local/lib/python3.8/site-packages/scipy/optimize/_differentialevolution.py:495: UserWarning: differential_evolution: the 'workers' keyword has overridden updating='immediate' to updating='deferred'\n",
      "  warnings.warn(\"differential_evolution: the 'workers' keyword has\"\n"
     ]
    },
    {
     "name": "stdout",
     "output_type": "stream",
     "text": [
      "differential_evolution step 1: f(x)= -4.3186\n",
      "differential_evolution step 2: f(x)= -4.81508\n",
      "differential_evolution step 3: f(x)= -4.90431\n",
      "differential_evolution step 4: f(x)= -5.09836\n",
      "differential_evolution step 5: f(x)= -5.2035\n",
      "differential_evolution step 6: f(x)= -5.23872\n",
      "differential_evolution step 7: f(x)= -5.24057\n",
      "optimal injector args: [ 0.24230167  0.57182016 -0.0226192 ]\n",
      "done mode match 93.89441633224487\n",
      "survival 5.240565439873379\n",
      "cost -0.010481130879746758\n",
      "27\n",
      "[0, 42]\n",
      "27\n",
      "[18, 0]\n",
      "27\n",
      "[17, 20]\n",
      "stable\n",
      "[0.17, 0.2]\n",
      "start lattice tracing\n",
      "1.5410191043930264 405.99980788672025\n",
      "done lattice tracing 268.0308413505554\n",
      "start mode match\n"
     ]
    },
    {
     "name": "stderr",
     "output_type": "stream",
     "text": [
      "/home/billy/.local/lib/python3.8/site-packages/scipy/optimize/_differentialevolution.py:495: UserWarning: differential_evolution: the 'workers' keyword has overridden updating='immediate' to updating='deferred'\n",
      "  warnings.warn(\"differential_evolution: the 'workers' keyword has\"\n"
     ]
    },
    {
     "name": "stdout",
     "output_type": "stream",
     "text": [
      "differential_evolution step 1: f(x)= -7.35392\n",
      "differential_evolution step 2: f(x)= -7.35392\n",
      "differential_evolution step 3: f(x)= -7.35392\n",
      "differential_evolution step 4: f(x)= -7.38555\n",
      "optimal injector args: [ 0.12627896  0.60105833 -0.10632783]\n",
      "done mode match 59.152013540267944\n",
      "survival 7.38555163912163\n",
      "cost -0.01477110327824326\n",
      "28\n",
      "[47, 15]\n",
      "stable\n",
      "[0.47, 0.15]\n",
      "start lattice tracing\n",
      "20.118633364860198 499.75131163046717\n",
      "done lattice tracing 3229.297038793564\n",
      "start mode match\n"
     ]
    },
    {
     "name": "stderr",
     "output_type": "stream",
     "text": [
      "/home/billy/.local/lib/python3.8/site-packages/scipy/optimize/_differentialevolution.py:495: UserWarning: differential_evolution: the 'workers' keyword has overridden updating='immediate' to updating='deferred'\n",
      "  warnings.warn(\"differential_evolution: the 'workers' keyword has\"\n"
     ]
    },
    {
     "name": "stdout",
     "output_type": "stream",
     "text": [
      "differential_evolution step 1: f(x)= -103.699\n",
      "differential_evolution step 2: f(x)= -104.831\n",
      "differential_evolution step 3: f(x)= -105.39\n",
      "differential_evolution step 4: f(x)= -105.535\n",
      "differential_evolution step 5: f(x)= -105.74\n",
      "differential_evolution step 6: f(x)= -105.951\n",
      "optimal injector args: [0.20436592 0.56319669 0.01067687]\n",
      "done mode match 83.71087694168091\n",
      "survival 105.95100055011835\n",
      "cost -0.21190200110023671\n",
      "29\n",
      "DUPLICATE POINT [49, 15]\n",
      "inside func {'xi': 0.004, 'noise': 2e-05}\n"
     ]
    },
    {
     "name": "stderr",
     "output_type": "stream",
     "text": [
      "/home/billy/.local/lib/python3.8/site-packages/skopt/optimizer/optimizer.py:450: UserWarning: The objective has been evaluated at this point before.\n",
      "  warnings.warn(\"The objective has been evaluated \"\n",
      "/home/billy/.local/lib/python3.8/site-packages/skopt/optimizer/optimizer.py:450: UserWarning: The objective has been evaluated at this point before.\n",
      "  warnings.warn(\"The objective has been evaluated \"\n"
     ]
    },
    {
     "name": "stdout",
     "output_type": "stream",
     "text": [
      "NEW POINT [50, 15]\n",
      "DUPLICATE POINT [50, 15]\n",
      "inside func {'xi': 0.008, 'noise': 2e-05}\n"
     ]
    },
    {
     "name": "stderr",
     "output_type": "stream",
     "text": [
      "/home/billy/.local/lib/python3.8/site-packages/skopt/optimizer/optimizer.py:450: UserWarning: The objective has been evaluated at this point before.\n",
      "  warnings.warn(\"The objective has been evaluated \"\n"
     ]
    },
    {
     "name": "stdout",
     "output_type": "stream",
     "text": [
      "NEW POINT [50, 15]\n",
      "DUPLICATE POINT [50, 15]\n",
      "inside func {'xi': 0.016, 'noise': 2e-05}\n",
      "NEW POINT [45, 16]\n",
      "[45, 16]\n",
      "stable\n",
      "[0.45, 0.16]\n",
      "start lattice tracing\n",
      "19.003985946362533 500.9521542129899\n",
      "done lattice tracing 3038.9715905189514\n",
      "start mode match\n"
     ]
    },
    {
     "name": "stderr",
     "output_type": "stream",
     "text": [
      "/home/billy/.local/lib/python3.8/site-packages/scipy/optimize/_differentialevolution.py:495: UserWarning: differential_evolution: the 'workers' keyword has overridden updating='immediate' to updating='deferred'\n",
      "  warnings.warn(\"differential_evolution: the 'workers' keyword has\"\n"
     ]
    },
    {
     "name": "stdout",
     "output_type": "stream",
     "text": [
      "differential_evolution step 1: f(x)= -104.974\n",
      "differential_evolution step 2: f(x)= -105.564\n",
      "differential_evolution step 3: f(x)= -105.564\n",
      "differential_evolution step 4: f(x)= -105.564\n",
      "differential_evolution step 5: f(x)= -105.587\n",
      "differential_evolution step 6: f(x)= -105.588\n",
      "differential_evolution step 7: f(x)= -105.588\n",
      "optimal injector args: [ 0.17707577  0.57618598 -0.11894708]\n",
      "done mode match 90.95294189453125\n",
      "survival 105.58796626281618\n",
      "cost -0.21117593252563233\n",
      "56682.8591094017\n",
      "          fun: -0.22337318151263189\n",
      "    func_vals: array([-3.96640238e-03,  5.44065163e-04, -7.74292637e-02, -8.30886090e-03,\n",
      "        6.94348988e-03, -2.83693924e-03, -4.70313668e-03, -2.42640632e-03,\n",
      "        6.25730851e-03, -4.15726023e-03,  2.29227172e-03,  5.37071515e-03,\n",
      "       -4.87628709e-03, -2.65504092e-03,  4.75645377e-03, -5.63355178e-03,\n",
      "       -1.86980571e-01, -2.73447905e-03, -5.44127103e-03, -7.01448662e-03,\n",
      "       -6.89445757e-03, -2.89793340e-03, -2.91381592e-03, -2.43480302e-03,\n",
      "       -1.96228076e-01, -1.45884195e-01, -2.20716500e-01, -2.22418197e-01,\n",
      "        6.92732082e-03, -3.64737121e-04, -2.21289386e-01, -1.69882596e-01,\n",
      "       -1.89466354e-01,  4.57456360e-03,  2.48050424e-03, -6.53800175e-02,\n",
      "        3.76149259e-03,  3.39062893e-03, -1.93147705e-04,  5.40016861e-03,\n",
      "       -1.96894562e-02,  3.86100749e-04, -2.23373182e-01, -8.49286565e-02,\n",
      "       -1.04811309e-02, -9.70764261e-04,  4.14297683e-03, -1.47711033e-02,\n",
      "       -2.11902001e-01, -2.11175933e-01])\n",
      "       models: [GaussianProcessRegressor(kernel=1**2 * Matern(length_scale=[1, 1], nu=2.5) + WhiteKernel(noise_level=1),\n",
      "                         n_restarts_optimizer=2, noise='gaussian',\n",
      "                         normalize_y=True, random_state=1815054474), GaussianProcessRegressor(kernel=1**2 * Matern(length_scale=[1, 1], nu=2.5) + WhiteKernel(noise_level=1),\n",
      "                         n_restarts_optimizer=2, noise='gaussian',\n",
      "                         normalize_y=True, random_state=1815054474), GaussianProcessRegressor(kernel=1**2 * Matern(length_scale=[1, 1], nu=2.5) + WhiteKernel(noise_level=1),\n",
      "                         n_restarts_optimizer=2, noise='gaussian',\n",
      "                         normalize_y=True, random_state=1815054474), GaussianProcessRegressor(kernel=1**2 * Matern(length_scale=[1, 1], nu=2.5) + WhiteKernel(noise_level=1),\n",
      "                         n_restarts_optimizer=2, noise='gaussian',\n",
      "                         normalize_y=True, random_state=1815054474), GaussianProcessRegressor(kernel=1**2 * Matern(length_scale=[1, 1], nu=2.5) + WhiteKernel(noise_level=1),\n",
      "                         n_restarts_optimizer=2, noise='gaussian',\n",
      "                         normalize_y=True, random_state=1815054474), GaussianProcessRegressor(kernel=1**2 * Matern(length_scale=[1, 1], nu=2.5) + WhiteKernel(noise_level=1),\n",
      "                         n_restarts_optimizer=2, noise='gaussian',\n",
      "                         normalize_y=True, random_state=1815054474), GaussianProcessRegressor(kernel=1**2 * Matern(length_scale=[1, 1], nu=2.5) + WhiteKernel(noise_level=1),\n",
      "                         n_restarts_optimizer=2, noise='gaussian',\n",
      "                         normalize_y=True, random_state=1815054474), GaussianProcessRegressor(kernel=1**2 * Matern(length_scale=[1, 1], nu=2.5) + WhiteKernel(noise_level=1),\n",
      "                         n_restarts_optimizer=2, noise='gaussian',\n",
      "                         normalize_y=True, random_state=1815054474), GaussianProcessRegressor(kernel=1**2 * Matern(length_scale=[1, 1], nu=2.5) + WhiteKernel(noise_level=1),\n",
      "                         n_restarts_optimizer=2, noise='gaussian',\n",
      "                         normalize_y=True, random_state=1815054474), GaussianProcessRegressor(kernel=1**2 * Matern(length_scale=[1, 1], nu=2.5) + WhiteKernel(noise_level=1),\n",
      "                         n_restarts_optimizer=2, noise='gaussian',\n",
      "                         normalize_y=True, random_state=1815054474), GaussianProcessRegressor(kernel=1**2 * Matern(length_scale=[1, 1], nu=2.5) + WhiteKernel(noise_level=1),\n",
      "                         n_restarts_optimizer=2, noise='gaussian',\n",
      "                         normalize_y=True, random_state=1815054474), GaussianProcessRegressor(kernel=1**2 * Matern(length_scale=[1, 1], nu=2.5) + WhiteKernel(noise_level=1),\n",
      "                         n_restarts_optimizer=2, noise='gaussian',\n",
      "                         normalize_y=True, random_state=1815054474), GaussianProcessRegressor(kernel=1**2 * Matern(length_scale=[1, 1], nu=2.5) + WhiteKernel(noise_level=1),\n",
      "                         n_restarts_optimizer=2, noise='gaussian',\n",
      "                         normalize_y=True, random_state=1815054474), GaussianProcessRegressor(kernel=1**2 * Matern(length_scale=[1, 1], nu=2.5) + WhiteKernel(noise_level=1),\n",
      "                         n_restarts_optimizer=2, noise='gaussian',\n",
      "                         normalize_y=True, random_state=1815054474), GaussianProcessRegressor(kernel=1**2 * Matern(length_scale=[1, 1], nu=2.5) + WhiteKernel(noise_level=1),\n",
      "                         n_restarts_optimizer=2, noise='gaussian',\n",
      "                         normalize_y=True, random_state=1815054474), GaussianProcessRegressor(kernel=1**2 * Matern(length_scale=[1, 1], nu=2.5) + WhiteKernel(noise_level=1),\n",
      "                         n_restarts_optimizer=2, noise='gaussian',\n",
      "                         normalize_y=True, random_state=1815054474), GaussianProcessRegressor(kernel=1**2 * Matern(length_scale=[1, 1], nu=2.5) + WhiteKernel(noise_level=1),\n",
      "                         n_restarts_optimizer=2, noise='gaussian',\n",
      "                         normalize_y=True, random_state=1815054474), GaussianProcessRegressor(kernel=1**2 * Matern(length_scale=[1, 1], nu=2.5) + WhiteKernel(noise_level=1),\n",
      "                         n_restarts_optimizer=2, noise='gaussian',\n",
      "                         normalize_y=True, random_state=1815054474), GaussianProcessRegressor(kernel=1**2 * Matern(length_scale=[1, 1], nu=2.5) + WhiteKernel(noise_level=1),\n",
      "                         n_restarts_optimizer=2, noise='gaussian',\n",
      "                         normalize_y=True, random_state=1815054474), GaussianProcessRegressor(kernel=1**2 * Matern(length_scale=[1, 1], nu=2.5) + WhiteKernel(noise_level=1),\n",
      "                         n_restarts_optimizer=2, noise='gaussian',\n",
      "                         normalize_y=True, random_state=1815054474), GaussianProcessRegressor(kernel=1**2 * Matern(length_scale=[1, 1], nu=2.5) + WhiteKernel(noise_level=1),\n",
      "                         n_restarts_optimizer=2, noise='gaussian',\n",
      "                         normalize_y=True, random_state=1815054474), GaussianProcessRegressor(kernel=1**2 * Matern(length_scale=[1, 1], nu=2.5) + WhiteKernel(noise_level=1),\n",
      "                         n_restarts_optimizer=2, noise='gaussian',\n",
      "                         normalize_y=True, random_state=1815054474), GaussianProcessRegressor(kernel=1**2 * Matern(length_scale=[1, 1], nu=2.5) + WhiteKernel(noise_level=1),\n",
      "                         n_restarts_optimizer=2, noise='gaussian',\n",
      "                         normalize_y=True, random_state=1815054474), GaussianProcessRegressor(kernel=1**2 * Matern(length_scale=[1, 1], nu=2.5) + WhiteKernel(noise_level=1),\n",
      "                         n_restarts_optimizer=2, noise='gaussian',\n",
      "                         normalize_y=True, random_state=1815054474), GaussianProcessRegressor(kernel=1**2 * Matern(length_scale=[1, 1], nu=2.5) + WhiteKernel(noise_level=1),\n",
      "                         n_restarts_optimizer=2, noise='gaussian',\n",
      "                         normalize_y=True, random_state=1815054474), GaussianProcessRegressor(kernel=1**2 * Matern(length_scale=[1, 1], nu=2.5) + WhiteKernel(noise_level=1),\n",
      "                         n_restarts_optimizer=2, noise='gaussian',\n",
      "                         normalize_y=True, random_state=1815054474), GaussianProcessRegressor(kernel=1**2 * Matern(length_scale=[1, 1], nu=2.5) + WhiteKernel(noise_level=1),\n",
      "                         n_restarts_optimizer=2, noise='gaussian',\n",
      "                         normalize_y=True, random_state=1815054474), GaussianProcessRegressor(kernel=1**2 * Matern(length_scale=[1, 1], nu=2.5) + WhiteKernel(noise_level=1),\n",
      "                         n_restarts_optimizer=2, noise='gaussian',\n",
      "                         normalize_y=True, random_state=1815054474), GaussianProcessRegressor(kernel=1**2 * Matern(length_scale=[1, 1], nu=2.5) + WhiteKernel(noise_level=1),\n",
      "                         n_restarts_optimizer=2, noise='gaussian',\n",
      "                         normalize_y=True, random_state=1815054474), GaussianProcessRegressor(kernel=1**2 * Matern(length_scale=[1, 1], nu=2.5) + WhiteKernel(noise_level=1),\n",
      "                         n_restarts_optimizer=2, noise='gaussian',\n",
      "                         normalize_y=True, random_state=1815054474), GaussianProcessRegressor(kernel=1**2 * Matern(length_scale=[1, 1], nu=2.5) + WhiteKernel(noise_level=1),\n",
      "                         n_restarts_optimizer=2, noise='gaussian',\n",
      "                         normalize_y=True, random_state=1815054474), GaussianProcessRegressor(kernel=1**2 * Matern(length_scale=[1, 1], nu=2.5) + WhiteKernel(noise_level=1),\n",
      "                         n_restarts_optimizer=2, noise='gaussian',\n",
      "                         normalize_y=True, random_state=1815054474), GaussianProcessRegressor(kernel=1**2 * Matern(length_scale=[1, 1], nu=2.5) + WhiteKernel(noise_level=1),\n",
      "                         n_restarts_optimizer=2, noise='gaussian',\n",
      "                         normalize_y=True, random_state=1815054474), GaussianProcessRegressor(kernel=1**2 * Matern(length_scale=[1, 1], nu=2.5) + WhiteKernel(noise_level=1),\n",
      "                         n_restarts_optimizer=2, noise='gaussian',\n",
      "                         normalize_y=True, random_state=1815054474), GaussianProcessRegressor(kernel=1**2 * Matern(length_scale=[1, 1], nu=2.5) + WhiteKernel(noise_level=1),\n",
      "                         n_restarts_optimizer=2, noise='gaussian',\n",
      "                         normalize_y=True, random_state=1815054474), GaussianProcessRegressor(kernel=1**2 * Matern(length_scale=[1, 1], nu=2.5) + WhiteKernel(noise_level=1),\n",
      "                         n_restarts_optimizer=2, noise='gaussian',\n",
      "                         normalize_y=True, random_state=1815054474)]\n",
      " random_state: RandomState(MT19937) at 0x7FBAE6DDD140\n",
      "        space: Space([Integer(low=0, high=50, prior='uniform', transform='normalize'),\n",
      "       Integer(low=0, high=50, prior='uniform', transform='normalize')])\n",
      "        specs: {'args': {'self': <skopt.optimizer.optimizer.Optimizer object at 0x7fbb0c794af0>, 'dimensions': [(0, 50), (0, 50)], 'base_estimator': 'gp', 'n_random_starts': None, 'n_initial_points': 15, 'initial_point_generator': 'random', 'n_jobs': -1, 'acq_func': 'EI', 'acq_optimizer': 'sampling', 'random_state': None, 'model_queue_size': None, 'acq_func_kwargs': {'xi': 0.016, 'noise': 2e-05}, 'acq_optimizer_kwargs': None}, 'function': 'Optimizer'}\n",
      "            x: [49, 15]\n",
      "      x_iters: [[16, 37], [2, 9], [35, 19], [31, 40], [34, 2], [49, 43], [22, 46], [2, 49], [42, 49], [15, 45], [47, 0], [48, 38], [18, 41], [7, 34], [0, 17], [13, 6], [45, 14], [41, 44], [23, 39], [25, 35], [28, 48], [2, 36], [7, 4], [3, 2], [50, 14], [50, 13], [50, 15], [50, 16], [50, 27], [0, 26], [43, 16], [50, 17], [39, 15], [50, 8], [50, 32], [50, 22], [0, 22], [0, 13], [0, 30], [30, 12], [28, 24], [50, 4], [49, 15], [28, 16], [25, 29], [0, 42], [18, 0], [17, 20], [47, 15], [45, 16]]\n"
     ]
    }
   ],
   "source": [
    "sol=compute_Sol(1e-5,500.0,30,modulation='01')"
   ]
  },
  {
   "cell_type": "code",
   "execution_count": null,
   "metadata": {},
   "outputs": [],
   "source": [
    "sol"
   ]
  },
  {
   "cell_type": "code",
   "execution_count": 3,
   "metadata": {},
   "outputs": [
    {
     "data": {
      "text/plain": [
       "<AxesSubplot:title={'center':'Convergence plot'}, xlabel='Number of calls $n$', ylabel='$\\\\min f(x)$ after $n$ calls'>"
      ]
     },
     "execution_count": 3,
     "metadata": {},
     "output_type": "execute_result"
    },
    {
     "data": {
      "image/png": "[encoded data removed]",
      "text/plain": [
       "<Figure size 432x288 with 1 Axes>"
      ]
     },
     "metadata": {
      "needs_background": "light"
     },
     "output_type": "display_data"
    }
   ],
   "source": [
    "import skopt.plots\n",
    "skopt.plots.plot_convergence(sol.skoptSol)"
   ]
  },
  {
   "cell_type": "code",
   "execution_count": 5,
   "metadata": {},
   "outputs": [
    {
     "data": {
      "text/plain": [
       "([0.49, 0.15], 111.68659075631595)"
      ]
     },
     "execution_count": 5,
     "metadata": {},
     "output_type": "execute_result"
    },
    {
     "data": {
      "image/png": "[encoded data removed]",
      "text/plain": [
       "<Figure size 432x288 with 1 Axes>"
      ]
     },
     "metadata": {
      "needs_background": "light"
     },
     "output_type": "display_data"
    }
   ],
   "source": [
    "skopt.plots.plot_objective_2D(sol.skoptSol,0,1)\n",
    "sol.x,sol.fun"
   ]
  },
  {
   "cell_type": "code",
   "execution_count": null,
   "metadata": {
    "jupyter": {
     "outputs_hidden": false,
     "source_hidden": false
    },
    "nteract": {
     "transient": {
      "deleting": false
     }
    }
   },
   "outputs": [],
   "source": []
  },
  {
   "cell_type": "code",
   "execution_count": null,
   "metadata": {},
   "outputs": [],
   "source": [
    "# %matplotlib tk\n",
    "# import scipy.interpolate as spi\n",
    "# x=sol.skoptSol.x_iters\n",
    "# y=sol.skoptSol.func_vals\n",
    "# x=np.asarray(x)\n",
    "# y=np.asarray(y)\n",
    "# func=sol.skoptSol.models[-6].predict#spi.Rbf(x[:,0],x[:,1],y,smooth=1e-1)#LinearNDInterpolator(x,y)\n",
    "\n",
    "# plotxArr=np.linspace(0,1,num=250)\n",
    "# plotyArr = np.linspace(0,1, num=250)\n",
    "# image=np.empty((plotxArr.shape[0],plotyArr.shape[0]))\n",
    "# for i in range(plotxArr.shape[0]):\n",
    "#     for j in range(plotyArr.shape[0]):\n",
    "#         image[j,i]=func([[plotxArr[i],plotyArr[j]]])\n",
    "        \n",
    "# image=np.flip(image,axis=0)\n",
    "# plt.imshow(image,extent=[0,50.0,0,50.0])\n",
    "# plt.scatter(x[:,0],x[:,1],s=10,c='r')\n",
    "# plt.show()\n",
    "# x[y.argmin()],x[y.argmax()]"
   ]
  },
  {
   "cell_type": "code",
   "execution_count": null,
   "metadata": {},
   "outputs": [],
   "source": [
    "# lattice=get_Lattice(trackPotential=True)\n",
    "# XOpt=[0.1965124968503868, 0.3353395620895592]\n",
    "# lattice.elList[2].forceFact=XOpt[0]\n",
    "# lattice.elList[4].forceFact = XOpt[1]\n",
    "# T0=100.0*lattice.totalLength/lattice.v0Nominal"
   ]
  },
  {
   "cell_type": "code",
   "execution_count": null,
   "metadata": {},
   "outputs": [],
   "source": [
    "# optimizer=Optimizer(lattice)\n",
    "# swarm =optimizer.initialize_Random_Swarm_At_Combiner_Output(3e-3,5e0,100)\n",
    "# swarm=optimizer.trace_Swarm_Through_Lattice(swarm,5e-6,T0,parallel=True,fastMode=False)"
   ]
  },
  {
   "cell_type": "code",
   "execution_count": null,
   "metadata": {},
   "outputs": [],
   "source": [
    "# for particle in swarm.particles[:]:\n",
    "#     qoArr=particle.qoArr\n",
    "#     qArr=particle.qArr\n",
    "#     EArr=particle.EArr\n",
    "#     TArr=particle.TArr\n",
    "#     VArr=particle.VArr\n",
    "#     if particle.revolutions>1:\n",
    "#         pass\n",
    "#         #lattice.show_Lattice(particleCoords=qArr[-1])\n",
    "#         #plt.plot(qoArr[:,0],TArr)\n",
    "#         #plt.show()\n",
    "#     print(particle.revolutions,particle.currentElIndex)"
   ]
  },
  {
   "cell_type": "code",
   "execution_count": null,
   "metadata": {},
   "outputs": [],
   "source": []
  }
 ],
 "metadata": {
  "kernel_info": {
   "name": "python3"
  },
  "kernelspec": {
   "display_name": "Python 3",
   "language": "python",
   "name": "python3"
  },
  "language_info": {
   "codemirror_mode": {
    "name": "ipython",
    "version": 3
   },
   "file_extension": ".py",
   "mimetype": "text/x-python",
   "name": "python",
   "nbconvert_exporter": "python",
   "pygments_lexer": "ipython3",
   "version": "3.8.5"
  },
  "nteract": {
   "version": "0.28.0"
  }
 },
 "nbformat": 4,
 "nbformat_minor": 1
}
