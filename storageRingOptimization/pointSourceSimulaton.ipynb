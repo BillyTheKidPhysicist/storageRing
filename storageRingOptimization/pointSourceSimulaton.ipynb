{
 "cells": [
  {
   "cell_type": "markdown",
   "source": [
    "To make a meaningful comparison I think I need to know more about my source behaviour. However I can still get a point spread function"
   ],
   "metadata": {}
  },
  {
   "cell_type": "code",
   "source": [
    "from ParticleTracerClass import ParticleTracer\n",
    "from phaseSpaceAnalyzer import SwarmSnapShot\n",
    "import dill\n",
    "from tqdm import tqdm\n",
    "import time\n",
    "from SwarmTracerClass import SwarmTracer\n",
    "import warnings\n",
    "import numpy as np\n",
    "from ParticleClass import Swarm\n",
    "from ParticleClass import Particle as ParticleBase\n",
    "from ParticleTracerLatticeClass import ParticleTracerLattice\n",
    "import matplotlib.pyplot as plt\n",
    "import pathos as pa\n",
    "\n",
    "\n",
    "LObject=72.0E-2\n",
    "LImage=85E-2\n",
    "LLensHardEdge=15.24e-2\n",
    "rpLens=(5e-2,7.54e-2)\n",
    "magnetWidth=(.0254,.0254*1.5)\n",
    "\n",
    "fringeFrac=1.5\n",
    "LFringe=fringeFrac*max(rpLens)\n",
    "LLens=LLensHardEdge+2*LFringe\n",
    "LObject-=LFringe\n",
    "LImage-=LFringe\n",
    "\n",
    "PTL=ParticleTracerLattice(v0Nominal=210.0,latticeType='injector')\n",
    "PTL.add_Drift(LObject,ap=.07)\n",
    "PTL.add_Halbach_Lens_Sim(rpLens,LLens,magnetWidth=magnetWidth)\n",
    "PTL.add_Drift(LImage*2,ap=.07)\n",
    "assert PTL.elList[1].fringeFracOuter==fringeFrac and abs(PTL.elList[1].Lm-LLensHardEdge)<1e-9\n",
    "PTL.end_Lattice()\n"
   ],
   "outputs": [],
   "execution_count": 1,
   "metadata": {
    "execution": {
     "iopub.status.busy": "2021-12-03T23:06:00.042Z",
     "iopub.execute_input": "2021-12-03T23:06:00.049Z",
     "iopub.status.idle": "2021-12-03T23:06:20.173Z",
     "shell.execute_reply": "2021-12-03T23:06:20.216Z"
    }
   }
  },
  {
   "cell_type": "markdown",
   "source": [
    "# Interpolation function"
   ],
   "metadata": {
    "nteract": {
     "transient": {
      "deleting": false
     }
    }
   }
  },
  {
   "cell_type": "code",
   "source": [
    "\n",
    "class Interpolater:\n",
    "    def __init__(self,swarm,PTL):\n",
    "        self.swarm=swarm\n",
    "        self.PTL=PTL\n",
    "        self.endDriftLength=abs(self.PTL.elList[-1].r2[0]-self.PTL.elList[-1].r1[0])\n",
    "    def __call__(self,xOrbit,maxRadius=np.inf,vTMax=np.inf,returnP=False,useAssert=True,useInitial=False):\n",
    "        #xOrbit: Distance in orbit frame, POSITIVE to ease with analyze. Know that the tracing is done with x being negative\n",
    "        #returns in units of mm\n",
    "        #vTMax: maximum transverse velocity for interpolation\n",
    "        #useAssert: I can use this interplater elsewhere if I turn this off\n",
    "        if useAssert==True:\n",
    "            assert -self.PTL.elList[-1].r2[0]>xOrbit>-self.PTL.elList[-1].r1[0]\n",
    "        yList=[]\n",
    "        zList=[]\n",
    "        pList=[]\n",
    "        for particle in self.swarm.particles:\n",
    "            if useInitial==True:\n",
    "                p,q=particle.pi,particle.qi\n",
    "            else:\n",
    "                p,q=particle.pf,particle.qf\n",
    "            vT=np.sqrt(p[1]**2+p[2]**2)\n",
    "            if (q[0]<-xOrbit and vT<vTMax) or useInitial==True:\n",
    "                stepFrac=(abs(q[0])-xOrbit)/self.endDriftLength\n",
    "                ySlope=p[1]/p[0]\n",
    "                y=q[1]+stepFrac*self.endDriftLength*ySlope\n",
    "                zSlope=p[2]/p[0]\n",
    "                z=q[2]+stepFrac*self.endDriftLength*zSlope\n",
    "                yList.append(y)\n",
    "                zList.append(z)\n",
    "                pList.append(p)\n",
    "        yArr=np.asarray(yList)*1e3\n",
    "        zArr=np.asarray(zList)*1e3\n",
    "        rArr=np.sqrt(yArr**2+zArr**2)\n",
    "        yArr=yArr[rArr<maxRadius]\n",
    "        zArr=zArr[rArr<maxRadius]\n",
    "        pArr=np.asarray(pList)[rArr<maxRadius]\n",
    "        returnArgs=[yArr,zArr]\n",
    "        if returnP==True:\n",
    "            returnArgs.append(pArr)\n",
    "        return returnArgs\n"
   ],
   "outputs": [],
   "execution_count": 2,
   "metadata": {
    "collapsed": true,
    "jupyter": {
     "source_hidden": false,
     "outputs_hidden": false
    },
    "nteract": {
     "transient": {
      "deleting": false
     }
    },
    "execution": {
     "iopub.status.busy": "2021-12-03T23:06:20.180Z",
     "iopub.execute_input": "2021-12-03T23:06:20.184Z",
     "iopub.status.idle": "2021-12-03T23:06:20.194Z",
     "shell.execute_reply": "2021-12-03T23:06:20.220Z"
    }
   }
  },
  {
   "cell_type": "markdown",
   "source": [
    "# Analyze point spread function"
   ],
   "metadata": {
    "nteract": {
     "transient": {
      "deleting": false
     }
    }
   }
  },
  {
   "cell_type": "code",
   "source": [
    "#generate traced swarm and interpolate\n",
    "import multiprocess\n",
    "from ParticleTracerClass import ParticleTracer\n",
    "import random\n",
    "import pickle\n",
    "\n",
    "swarmTracer=SwarmTracer(PTL)\n",
    "particleTracer=ParticleTracer(PTL)\n",
    "numParticles=100\n",
    "fastMode=True\n",
    "h=5e-6\n",
    "v0=210.0\n",
    "sourceAngle=.08\n",
    "swarmInitial=swarmTracer.initalize_PseudoRandom_Swarm_In_Phase_Space(1e-9,sourceAngle*v0,1e-9,numParticles,circular=True,sameSeed=True)\n",
    "\n",
    "yShift=0.0\n",
    "for particle in swarmInitial:\n",
    "  particle.qi[1]+=yShift\n",
    "\n",
    "\n",
    "\n",
    "t=time.time()\n",
    "swarmTraced=swarmTracer.trace_Swarm_Through_Lattice(swarmInitial,h,1.0,fastMode=fastMode,copySwarm=False,parallel=True)\n",
    "print(time.time()-t) #23\n",
    "interpFunction=Interpolater(swarmTraced,PTL)\n",
    "\n",
    "# PTL.show_Lattice(swarm=swarmTraced,showTraceLines=True,trueAspectRatio=False)"
   ],
   "outputs": [
    {
     "name": "stdout",
     "output_type": "stream",
     "text": [
      "1.2131881713867188\n"
     ]
    }
   ],
   "execution_count": 3,
   "metadata": {
    "collapsed": true,
    "jupyter": {
     "source_hidden": false,
     "outputs_hidden": false
    },
    "nteract": {
     "transient": {
      "deleting": false
     }
    },
    "execution": {
     "iopub.status.busy": "2021-12-03T23:06:20.204Z",
     "iopub.execute_input": "2021-12-03T23:06:20.209Z",
     "iopub.status.idle": "2021-12-03T23:14:42.237Z",
     "shell.execute_reply": "2021-12-03T23:14:42.243Z"
    }
   }
  },
  {
   "cell_type": "code",
   "source": [
    "#plot of circle of least confusion near focus for analysis\n",
    "#don't attempt this on huge numbers of particles. Use a smaller number here like 100,000\n",
    "from joblib import Parallel,delayed\n",
    "import multiprocess\n",
    "import scipy.interpolate as spi\n",
    "\n",
    "#find circle of least confusion location\n",
    "swarmTestMin=Swarm()\n",
    "swarmTestMin.particles=swarmTraced.particles[:100_000]\n",
    "interpFunctionMin=Interpolater(swarmTestMin,PTL)\n",
    "xArr=np.linspace(1.2,2.,300)\n",
    "frac=.9 #fraction to define circle\n",
    "\n",
    "def circleRadius(x):\n",
    "  xCoords,yCoords=interpFunctionMin(x)\n",
    "  r=np.sqrt(xCoords**2+yCoords**2)\n",
    "#   return np.std(r)\n",
    "  r=np.sort(r)\n",
    "  assert len(r)>10 \n",
    "#   print(int(frac*len(r)))\n",
    "  rCutoff=r[int(frac*len(r))]\n",
    "  return rCutoff\n",
    "\n",
    "\n",
    "t=time.time()\n",
    "with multiprocess.Pool(10) as pool:\n",
    "    circleRadiusArr=np.asarray(pool.map(circleRadius,xArr))\n",
    "interpFunc=spi.RBFInterpolator(xArr[:,np.newaxis],circleRadiusArr)\n",
    "  \n",
    "\n",
    "xArrDense=np.linspace(xArr[0],xArr[-1],10000)\n",
    "yArrDense=interpFunc(xArrDense[:,np.newaxis])\n",
    "\n",
    "xMin=xArrDense[np.argmin(yArrDense)]\n",
    "\n",
    "print(xMin,np.min(yArrDense)) #1.721012101210121 4.2669987680085395\n",
    "print(time.time()-t) \n",
    "\n",
    "plt.plot(xArr,circleRadiusArr)\n",
    "# plt.plot(xArrDense,yArrDense,c='r')\n",
    "plt.show()\n",
    "\n"
   ],
   "outputs": [
    {
     "name": "stdout",
     "output_type": "stream",
     "text": [
      "1.7013301330133013 3.750265704172987\n",
      "0.06867408752441406\n"
     ]
    },
    {
     "data": {
      "text/plain": "<Figure size 432x288 with 1 Axes>",
      "image/png": "[encoded data removed]"
     },
     "metadata": {
      "needs_background": "light"
     },
     "output_type": "display_data"
    }
   ],
   "execution_count": 4,
   "metadata": {
    "collapsed": true,
    "jupyter": {
     "source_hidden": false,
     "outputs_hidden": false
    },
    "nteract": {
     "transient": {
      "deleting": false
     }
    },
    "execution": {
     "iopub.status.busy": "2021-12-03T23:53:33.518Z",
     "iopub.execute_input": "2021-12-03T23:53:33.525Z",
     "iopub.status.idle": "2021-12-03T23:53:43.706Z",
     "shell.execute_reply": "2021-12-03T23:53:43.718Z"
    }
   }
  },
  {
   "cell_type": "code",
   "source": [
    "# %matplotlib tk\n",
    "yArr,zArr=interpFunction(xMin)\n",
    "rArr=np.sqrt(yArr**2+zArr**2)\n",
    "rMax=2.5 #mm\n",
    "yArr=yArr[rArr<rMax]\n",
    "zArr=zArr[rArr<rMax]\n",
    "image,yBins,zBins=np.histogram2d(yArr,zArr,bins=200)\n",
    "image=image/image.max()     \n",
    "print(int(image.sum()),image.max()) \n",
    "yMin=yBins[0]+(yBins[1]-yBins[0])/2\n",
    "yMax=yBins[-1]-(yBins[1]-yBins[0])/2\n",
    "zMin=zBins[0]+(zBins[1]-zBins[0])/2\n",
    "zMax=zBins[-1]-(zBins[1]-zBins[0])/2\n",
    "plt.figure(dpi=100)\n",
    "plt.imshow(image,extent=[zMin,zMax,yMin,yMax],cmap='hot',interpolation='bicubic')#,vmin=0.0,vmax=25.6/10.0)\n",
    "plt.xlabel('mm',fontsize=18)\n",
    "plt.ylabel('mm',fontsize=18)\n",
    "plt.xticks(fontsize=18)\n",
    "plt.yticks(fontsize=18)\n",
    "bar=plt.colorbar()\n",
    "bar.ax.tick_params(labelsize=18)\n",
    "plt.tight_layout()\n",
    "plt.savefig('focusImage')\n",
    "plt.show()\n",
    "\n"
   ],
   "outputs": [
    {
     "name": "stdout",
     "output_type": "stream",
     "text": [
      "26 1.0\n"
     ]
    },
    {
     "data": {
      "text/plain": "<Figure size 600x400 with 2 Axes>",
      "image/png": "[encoded data removed]"
     },
     "metadata": {
      "needs_background": "light"
     },
     "output_type": "display_data"
    }
   ],
   "execution_count": 5,
   "metadata": {
    "collapsed": true,
    "jupyter": {
     "source_hidden": false,
     "outputs_hidden": false
    },
    "nteract": {
     "transient": {
      "deleting": false
     }
    },
    "execution": {
     "iopub.status.busy": "2021-12-03T23:54:34.737Z",
     "iopub.execute_input": "2021-12-03T23:54:34.776Z",
     "iopub.status.idle": "2021-12-03T23:54:43.329Z",
     "shell.execute_reply": "2021-12-03T23:54:43.341Z"
    }
   }
  },
  {
   "cell_type": "code",
   "source": [
    "yArr,zArr=interpFunction(1.85,maxRadius=3)\n",
    "rArr=np.sqrt(yArr**2+zArr**2)\n",
    "print(np.std(rArr))\n",
    "\n",
    "vals,bins=np.histogram(rArr,bins=300)\n",
    "# The vals here are basically integreated flux\n",
    "import scipy.signal as sps\n",
    "binSize=bins[1]-bins[0]\n",
    "rBinArr=bins[:-1]+binSize/2\n",
    "radiusWeight=1/(rBinArr*binSize*2*np.pi)\n",
    "\n",
    "\n",
    "vals=vals*radiusWeight\n",
    "smoothStartDistance=-1\n",
    "vals[:smoothStartDistance]=sps.savgol_filter(vals[:smoothStartDistance],11,2)\n",
    "vals=vals/vals.max()\n",
    "\n",
    "# rLeastConfuse=circleRadius(xMin)\n",
    "\n",
    "plt.figure(dpi=150)\n",
    "plt.plot(rBinArr,vals)\n",
    "plt.xlabel('radial position, mm')\n",
    "plt.ylabel('relative intensity')\n",
    "\n",
    "# plt.axvline(x=rLeastConfuse,c='black',linestyle=':')\n",
    "plt.savefig(\"focusIntensity\")\n",
    "plt.show()"
   ],
   "outputs": [
    {
     "name": "stdout",
     "output_type": "stream",
     "text": [
      "0.7135053878816096\n"
     ]
    },
    {
     "data": {
      "text/plain": "<Figure size 900x600 with 1 Axes>",
      "image/png": "[encoded data removed]"
     },
     "metadata": {
      "needs_background": "light"
     },
     "output_type": "display_data"
    }
   ],
   "execution_count": 6,
   "metadata": {
    "collapsed": true,
    "jupyter": {
     "source_hidden": false,
     "outputs_hidden": false
    },
    "nteract": {
     "transient": {
      "deleting": false
     }
    },
    "execution": {
     "iopub.status.busy": "2021-12-03T23:54:47.409Z",
     "iopub.execute_input": "2021-12-03T23:54:47.454Z",
     "iopub.status.idle": "2021-12-03T23:54:54.111Z",
     "shell.execute_reply": "2021-12-03T23:54:54.116Z"
    }
   }
  },
  {
   "cell_type": "markdown",
   "source": [
    "### Make circle of least confusion plot"
   ],
   "metadata": {
    "collapsed": true,
    "jupyter": {
     "source_hidden": false,
     "outputs_hidden": false
    },
    "nteract": {
     "transient": {
      "deleting": false
     }
    },
    "pycharm": {
     "name": "#%% md\n"
    }
   }
  },
  {
   "cell_type": "code",
   "execution_count": 80,
   "outputs": [
    {
     "name": "stdout",
     "output_type": "stream",
     "text": [
      "92.10238289833069\n"
     ]
    }
   ],
   "source": [
    "from ParticleTracerClass import ParticleTracer\n",
    "\n",
    "swarmTracer=SwarmTracer(PTL)\n",
    "particleTracer=ParticleTracer(PTL)\n",
    "numParticles=30_000\n",
    "fastMode=False\n",
    "h=5e-6\n",
    "v0=210.0\n",
    "sourceAngle=.08\n",
    "swarmInitial=swarmTracer.initalize_PseudoRandom_Swarm_In_Phase_Space(1e-9,sourceAngle*v0,1e-9,numParticles,circular=True,sameSeed=True)\n",
    "\n",
    "yShift=0.0\n",
    "for particle in swarmInitial:\n",
    "    particle.qi[1]+=yShift\n",
    "\n",
    "\n",
    "\n",
    "t=time.time()\n",
    "swarmTraced=swarmTracer.trace_Swarm_Through_Lattice(swarmInitial,h,1.0,fastMode=fastMode,copySwarm=False,parallel=True,stepsBetweenLogging=2)\n",
    "print(time.time()-t) #23\n",
    "# PTL.show_Lattice(swarm=swarmTraced,showTraceLines=True,trueAspectRatio=False)"
   ],
   "metadata": {
    "collapsed": false,
    "pycharm": {
     "name": "#%%\n"
    }
   }
  },
  {
   "cell_type": "code",
   "execution_count": 81,
   "outputs": [
    {
     "data": {
      "text/plain": "13101"
     },
     "execution_count": 81,
     "metadata": {},
     "output_type": "execute_result"
    }
   ],
   "source": [
    "#remove particles that didn't pass through the skimmer\n",
    "swarmSurvived=Swarm()\n",
    "xCutoff=PTL.elList[-1].r1[0]\n",
    "for particle in swarmTraced:\n",
    "    if particle.qf[0]<xCutoff:\n",
    "        swarmSurvived.particles.append(particle)\n",
    "swarmSurvived.num_Particles()"
   ],
   "metadata": {
    "collapsed": false,
    "pycharm": {
     "name": "#%%\n"
    }
   }
  },
  {
   "cell_type": "code",
   "execution_count": 82,
   "outputs": [
    {
     "data": {
      "text/plain": "<Figure size 432x288 with 1 Axes>",
      "image/png": "[encoded data removed]"
     },
     "metadata": {
      "needs_background": "light"
     },
     "output_type": "display_data"
    }
   ],
   "source": [
    "def COLC_xOrbit(xOrbit):\n",
    "    assert -PTL.elList[-1].r2[0]>xOrbit>1e-6\n",
    "    frac=.9\n",
    "    rList=[]\n",
    "    swarm=swarmSurvived\n",
    "    for particle in swarm:\n",
    "        qArr=particle.qArr\n",
    "        if xOrbit<-qArr[-1][0]:\n",
    "            pArr=particle.pArr\n",
    "            indexBefore=np.argmax(-qArr[:,0]>xOrbit)-1\n",
    "            y0,z0=qArr[indexBefore,1:]\n",
    "            deltaX=xOrbit-(-qArr[indexBefore][0])\n",
    "            ySlope,zSlope=pArr[indexBefore,1:]/pArr[indexBefore,0]\n",
    "            # print(ySlope,zSlope)\n",
    "            y=y0+ySlope*deltaX\n",
    "            z=z0+zSlope*deltaX\n",
    "            rList.append(np.sqrt(y**2+z**2))\n",
    "    assert len(rList)>10\n",
    "    rArr=np.asarray(rList)\n",
    "    COLC=np.sort(rArr)[int(frac*len(rArr))]\n",
    "    return COLC\n",
    "\n",
    "xArr=np.linspace(1e-3,2.25,300)\n",
    "import multiprocess as mp\n",
    "with mp.Pool() as pool:\n",
    "    COLC_List=pool.map(COLC_xOrbit,xArr)\n",
    "plt.plot(xArr,COLC_List)\n",
    "plt.show()"
   ],
   "metadata": {
    "collapsed": false,
    "pycharm": {
     "name": "#%%\n"
    }
   }
  }
 ],
 "metadata": {
  "kernelspec": {
   "display_name": "Python 3 (ipykernel)",
   "language": "python",
   "name": "python3"
  },
  "language_info": {
   "name": "python",
   "version": "3.9.7",
   "mimetype": "text/x-python",
   "codemirror_mode": {
    "name": "ipython",
    "version": 3
   },
   "pygments_lexer": "ipython3",
   "nbconvert_exporter": "python",
   "file_extension": ".py"
  },
  "nteract": {
   "version": "0.28.0"
  }
 },
 "nbformat": 4,
 "nbformat_minor": 4
}