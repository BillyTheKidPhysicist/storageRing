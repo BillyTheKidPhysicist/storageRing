{
 "cells": [
  {
   "cell_type": "markdown",
   "source": [
    "To make a meaningful comparison I think I need to know more about my source behaviour. However I can still get a point spread function"
   ],
   "metadata": {}
  },
  {
   "cell_type": "code",
   "source": [
    "from ParticleTracerClass import ParticleTracer\n",
    "from phaseSpaceAnalyzer import SwarmSnapShot\n",
    "import dill\n",
    "from tqdm import tqdm\n",
    "import time\n",
    "from SwarmTracerClass import SwarmTracer\n",
    "import warnings\n",
    "import numpy as np\n",
    "from ParticleClass import Swarm\n",
    "from ParticleClass import Particle as ParticleBase\n",
    "from ParticleTracerLatticeClass import ParticleTracerLattice\n",
    "import matplotlib.pyplot as plt\n",
    "import pathos as pa\n",
    "\n",
    "\n",
    "LObject=70.0E-2\n",
    "LImage=85E-2\n",
    "LLensHardEdge=15.24e-2\n",
    "rpLens=(5e-2,7.54e-2)\n",
    "magnetWidth=(.0254,.0254*1.5)\n",
    "\n",
    "fringeFrac=1.5\n",
    "LFringe=fringeFrac*max(rpLens)\n",
    "LLens=LLensHardEdge+2*LFringe\n",
    "LObject-=LFringe\n",
    "LImage-=LFringe\n",
    "\n",
    "PTL=ParticleTracerLattice(v0Nominal=210.0,latticeType='injector')\n",
    "PTL.add_Drift(LObject,ap=.07)\n",
    "PTL.add_Halbach_Lens_Sim(rpLens,LLens,magnetWidth=magnetWidth)\n",
    "PTL.add_Drift(LImage*2,ap=.07)\n",
    "assert PTL.elList[1].fringeFracOuter==fringeFrac and abs(PTL.elList[1].Lm-LLensHardEdge)<1e-9\n",
    "PTL.end_Lattice()\n",
    "\n",
    "# file=open('collectorLensLattice','wb')\n",
    "# dill.dump(PTL,file)\n",
    "# file=open('collectorLensLattice','rb')\n",
    "# PTL=dill.load(file)\n",
    "# file.close()"
   ],
   "outputs": [],
   "execution_count": 1,
   "metadata": {
    "execution": {
     "iopub.status.busy": "2021-12-03T23:06:00.042Z",
     "iopub.execute_input": "2021-12-03T23:06:00.049Z",
     "iopub.status.idle": "2021-12-03T23:06:20.173Z",
     "shell.execute_reply": "2021-12-03T23:06:20.216Z"
    }
   }
  },
  {
   "cell_type": "markdown",
   "source": [
    "# Interpolation function"
   ],
   "metadata": {
    "nteract": {
     "transient": {
      "deleting": false
     }
    }
   }
  },
  {
   "cell_type": "code",
   "source": [
    "\n",
    "class Interpolater:\n",
    "    def __init__(self,swarm,PTL):\n",
    "        self.swarm=swarm\n",
    "        self.PTL=PTL\n",
    "        self.endDriftLength=abs(self.PTL.elList[-1].r2[0]-self.PTL.elList[-1].r1[0])\n",
    "    def __call__(self,xOrbit,maxRadius=np.inf,vTMax=np.inf,returnP=False,useAssert=True,useInitial=False):\n",
    "        #xOrbit: Distance in orbit frame, POSITIVE to ease with analyze. Know that the tracing is done with x being negative\n",
    "        #returns in units of mm\n",
    "        #vTMax: maximum transverse velocity for interpolation\n",
    "        #useAssert: I can use this interplater elsewhere if I turn this off\n",
    "        if useAssert==True:\n",
    "            assert -self.PTL.elList[-1].r2[0]>xOrbit>-self.PTL.elList[-1].r1[0]\n",
    "        yList=[]\n",
    "        zList=[]\n",
    "        pList=[]\n",
    "        for particle in self.swarm.particles:\n",
    "            if useInitial==True:\n",
    "                p,q=particle.pi,particle.qi\n",
    "            else:\n",
    "                p,q=particle.pf,particle.qf\n",
    "            vT=np.sqrt(p[1]**2+p[2]**2)\n",
    "            if (q[0]<-xOrbit and vT<vTMax) or useInitial==True:\n",
    "                stepFrac=(abs(q[0])-xOrbit)/self.endDriftLength\n",
    "                ySlope=p[1]/p[0]\n",
    "                y=q[1]+stepFrac*self.endDriftLength*ySlope\n",
    "                zSlope=p[2]/p[0]\n",
    "                z=q[2]+stepFrac*self.endDriftLength*zSlope\n",
    "                yList.append(y)\n",
    "                zList.append(z)\n",
    "                pList.append(p)\n",
    "        yArr=np.asarray(yList)*1e3\n",
    "        zArr=np.asarray(zList)*1e3\n",
    "        rArr=np.sqrt(yArr**2+zArr**2)\n",
    "        yArr=yArr[rArr<maxRadius]\n",
    "        zArr=zArr[rArr<maxRadius]\n",
    "        pArr=np.asarray(pList)[rArr<maxRadius]\n",
    "        returnArgs=[yArr,zArr]\n",
    "        if returnP==True:\n",
    "            returnArgs.append(pArr)\n",
    "        return returnArgs\n"
   ],
   "outputs": [],
   "execution_count": 11,
   "metadata": {
    "collapsed": true,
    "jupyter": {
     "source_hidden": false,
     "outputs_hidden": false
    },
    "nteract": {
     "transient": {
      "deleting": false
     }
    },
    "execution": {
     "iopub.status.busy": "2021-12-03T23:06:20.180Z",
     "iopub.execute_input": "2021-12-03T23:06:20.184Z",
     "iopub.status.idle": "2021-12-03T23:06:20.194Z",
     "shell.execute_reply": "2021-12-03T23:06:20.220Z"
    }
   }
  },
  {
   "cell_type": "markdown",
   "source": [
    "# Analyze point spread function"
   ],
   "metadata": {
    "nteract": {
     "transient": {
      "deleting": false
     }
    }
   }
  },
  {
   "cell_type": "code",
   "source": [
    "#generate traced swarm and interpolate\n",
    "import multiprocess\n",
    "from ParticleTracerClass import ParticleTracer\n",
    "import random\n",
    "import pickle\n",
    "\n",
    "swarmTracer=SwarmTracer(PTL)\n",
    "particleTracer=ParticleTracer(PTL)\n",
    "numParticles=30_000\n",
    "fastMode=True\n",
    "h=5e-6\n",
    "v0=210.0\n",
    "sourceAngle=.08\n",
    "swarmInitial=swarmTracer.initalize_PseudoRandom_Swarm_In_Phase_Space(1e-9,sourceAngle*v0,1e-9,numParticles,circular=True)\n",
    "\n",
    "yShift=0.0\n",
    "for particle in swarmInitial:\n",
    "  particle.qi[1]+=yShift\n",
    "\n",
    "\n",
    "\n",
    "t=time.time()\n",
    "swarmTraced=swarmTracer.trace_Swarm_Through_Lattice(swarmInitial,h,1.0,fastMode=fastMode,copySwarm=False,parallel=True)\n",
    "print(time.time()-t) #23\n",
    "interpFunction=Interpolater(swarmTraced,PTL)\n",
    "\n",
    "# PTL.show_Lattice(swarm=swarmTraced,showTraceLines=True,trueAspectRatio=False)"
   ],
   "outputs": [
    {
     "name": "stdout",
     "output_type": "stream",
     "text": [
      "30.038631916046143\n"
     ]
    }
   ],
   "execution_count": 13,
   "metadata": {
    "collapsed": true,
    "jupyter": {
     "source_hidden": false,
     "outputs_hidden": false
    },
    "nteract": {
     "transient": {
      "deleting": false
     }
    },
    "execution": {
     "iopub.status.busy": "2021-12-03T23:06:20.204Z",
     "iopub.execute_input": "2021-12-03T23:06:20.209Z",
     "iopub.status.idle": "2021-12-03T23:14:42.237Z",
     "shell.execute_reply": "2021-12-03T23:14:42.243Z"
    }
   }
  },
  {
   "cell_type": "code",
   "source": [
    "#don't attempt this on huge numbers of particles. Use a smaller number here like 100,000\n",
    "from joblib import Parallel,delayed\n",
    "import multiprocess\n",
    "import scipy.interpolate as spi\n",
    "\n",
    "#find circle of least confusion location\n",
    "swarmTestMin=Swarm()\n",
    "swarmTestMin.particles=swarmTraced.particles[:100_000]\n",
    "interpFunctionMin=Interpolater(swarmTestMin,PTL)\n",
    "xArr=np.linspace(1.2,2.,300)\n",
    "frac=.9 #fraction to define circle\n",
    "\n",
    "def circleRadius(x):\n",
    "  xCoords,yCoords=interpFunctionMin(x)\n",
    "  r=np.sqrt(xCoords**2+yCoords**2)\n",
    "#   return np.std(r)\n",
    "  r=np.sort(r)\n",
    "  assert len(r)>10 \n",
    "#   print(int(frac*len(r)))\n",
    "  rCutoff=r[int(frac*len(r))]\n",
    "  return rCutoff\n",
    "\n",
    "multiprocess.set_start_method('fork',force=True)\n",
    "t=time.time()\n",
    "with multiprocess.Pool(10) as pool:\n",
    "    circleRadiusArr=np.asarray(pool.map(circleRadius,xArr))\n",
    "interpFunc=spi.RBFInterpolator(xArr[:,np.newaxis],circleRadiusArr)\n",
    "  \n",
    "\n",
    "xArrDense=np.linspace(xArr[0],xArr[-1],10000)\n",
    "yArrDense=interpFunc(xArrDense[:,np.newaxis])\n",
    "\n",
    "xMin=xArrDense[np.argmin(yArrDense)]\n",
    "\n",
    "print(xMin,np.min(yArrDense)) #1.721012101210121 4.2669987680085395\n",
    "print(time.time()-t) \n",
    "\n",
    "plt.plot(xArr,circleRadiusArr)\n",
    "# plt.plot(xArrDense,yArrDense,c='r')\n",
    "plt.show()\n",
    "\n"
   ],
   "outputs": [
    {
     "name": "stdout",
     "output_type": "stream",
     "text": [
      "1.7373337333733372 3.827209717286572\n",
      "4.352654218673706\n"
     ]
    },
    {
     "data": {
      "text/plain": "<Figure size 432x288 with 1 Axes>",
      "image/png": "[encoded data removed]"
     },
     "metadata": {
      "needs_background": "light"
     },
     "output_type": "display_data"
    }
   ],
   "execution_count": 24,
   "metadata": {
    "collapsed": true,
    "jupyter": {
     "source_hidden": false,
     "outputs_hidden": false
    },
    "nteract": {
     "transient": {
      "deleting": false
     }
    },
    "execution": {
     "iopub.status.busy": "2021-12-03T23:53:33.518Z",
     "iopub.execute_input": "2021-12-03T23:53:33.525Z",
     "iopub.status.idle": "2021-12-03T23:53:43.706Z",
     "shell.execute_reply": "2021-12-03T23:53:43.718Z"
    }
   }
  },
  {
   "cell_type": "code",
   "source": [
    "# %matplotlib tk\n",
    "yArr,zArr=interpFunction(xMin)\n",
    "rArr=np.sqrt(yArr**2+zArr**2)\n",
    "rMax=2.5 #mm\n",
    "yArr=yArr[rArr<rMax]\n",
    "zArr=zArr[rArr<rMax]\n",
    "image,yBins,zBins=np.histogram2d(yArr,zArr,bins=200)\n",
    "image=image/image.max()     \n",
    "print(int(image.sum()),image.max()) \n",
    "yMin=yBins[0]+(yBins[1]-yBins[0])/2\n",
    "yMax=yBins[-1]-(yBins[1]-yBins[0])/2\n",
    "zMin=zBins[0]+(zBins[1]-zBins[0])/2\n",
    "zMax=zBins[-1]-(zBins[1]-zBins[0])/2\n",
    "plt.figure(dpi=100)\n",
    "plt.imshow(image,extent=[zMin,zMax,yMin,yMax],cmap='hot',interpolation='bicubic')#,vmin=0.0,vmax=25.6/10.0)\n",
    "plt.xlabel('mm',fontsize=18)\n",
    "plt.ylabel('mm',fontsize=18)\n",
    "plt.xticks(fontsize=18)\n",
    "plt.yticks(fontsize=18)\n",
    "bar=plt.colorbar()\n",
    "bar.ax.tick_params(labelsize=18)\n",
    "plt.tight_layout()\n",
    "plt.savefig('focusImage')\n",
    "plt.show()\n",
    "\n"
   ],
   "outputs": [
    {
     "name": "stdout",
     "output_type": "stream",
     "text": [
      "1339 1.0\n"
     ]
    },
    {
     "data": {
      "text/plain": "<Figure size 600x400 with 2 Axes>",
      "image/png": "[encoded data removed]"
     },
     "metadata": {
      "needs_background": "light"
     },
     "output_type": "display_data"
    }
   ],
   "execution_count": 25,
   "metadata": {
    "collapsed": true,
    "jupyter": {
     "source_hidden": false,
     "outputs_hidden": false
    },
    "nteract": {
     "transient": {
      "deleting": false
     }
    },
    "execution": {
     "iopub.status.busy": "2021-12-03T23:54:34.737Z",
     "iopub.execute_input": "2021-12-03T23:54:34.776Z",
     "iopub.status.idle": "2021-12-03T23:54:43.329Z",
     "shell.execute_reply": "2021-12-03T23:54:43.341Z"
    }
   }
  },
  {
   "cell_type": "code",
   "source": [
    "yArr,zArr=interpFunction(1.85,maxRadius=3)\n",
    "rArr=np.sqrt(yArr**2+zArr**2)\n",
    "print(np.std(rArr))\n",
    "\n",
    "vals,bins=np.histogram(rArr,bins=300)\n",
    "# The vals here are basically integreated flux\n",
    "import scipy.signal as sps\n",
    "binSize=bins[1]-bins[0]\n",
    "rBinArr=bins[:-1]+binSize/2\n",
    "radiusWeight=1/(rBinArr*binSize*2*np.pi)\n",
    "\n",
    "\n",
    "vals=vals*radiusWeight\n",
    "smoothStartDistance=-1\n",
    "vals[:smoothStartDistance]=sps.savgol_filter(vals[:smoothStartDistance],11,2)\n",
    "vals=vals/vals.max()\n",
    "\n",
    "# rLeastConfuse=circleRadius(xMin)\n",
    "\n",
    "plt.figure(dpi=150)\n",
    "plt.plot(rBinArr,vals)\n",
    "plt.xlabel('radial position, mm')\n",
    "plt.ylabel('relative intensity')\n",
    "\n",
    "# plt.axvline(x=rLeastConfuse,c='black',linestyle=':')\n",
    "plt.savefig(\"focusIntensity\")\n",
    "plt.show()"
   ],
   "outputs": [
    {
     "name": "stdout",
     "output_type": "stream",
     "text": [
      "0.8407328169836934\n"
     ]
    },
    {
     "data": {
      "text/plain": "<Figure size 900x600 with 1 Axes>",
      "image/png": "[encoded data removed]"
     },
     "metadata": {
      "needs_background": "light"
     },
     "output_type": "display_data"
    }
   ],
   "execution_count": 23,
   "metadata": {
    "collapsed": true,
    "jupyter": {
     "source_hidden": false,
     "outputs_hidden": false
    },
    "nteract": {
     "transient": {
      "deleting": false
     }
    },
    "execution": {
     "iopub.status.busy": "2021-12-03T23:54:47.409Z",
     "iopub.execute_input": "2021-12-03T23:54:47.454Z",
     "iopub.status.idle": "2021-12-03T23:54:54.111Z",
     "shell.execute_reply": "2021-12-03T23:54:54.116Z"
    }
   }
  },
  {
   "cell_type": "markdown",
   "source": [
    "## analyze flourescence signal\n",
    "This if kind of crappy. Not worked out yet"
   ],
   "metadata": {
    "nteract": {
     "transient": {
      "deleting": false
     }
    }
   }
  },
  {
   "cell_type": "code",
   "source": [
    "swarmTracer=SwarmTracer(PTL)\n",
    "t=time.time()\n",
    "def initialize_Nozzle_Swarm(T,numParticles,xQuit=0.0,xOffset=0.0):\n",
    "    #this uses the quitting surface concept\n",
    "    swarm=swarmTracer.initalize_PseudoRandom_Swarm_In_Phase_Space(1e-6,.1*210.0,1e-6,numParticles,circular=True)\n",
    "    sigma=91*np.sqrt(T/7.0)\n",
    "    for particle in swarm:\n",
    "        particle.q[0]+=-xOffset\n",
    "        dt=-(xQuit-xOffset)/particle.p[0]\n",
    "        particle.q=particle.p*dt+particle.q\n",
    "        particle.p+=np.random.normal(scale=sigma)\n",
    "\n",
    "    aperturePosition=16e-2\n",
    "    apertureDiam=2.54e-2\n",
    "    swarmTrimmed=Swarm()\n",
    "    for particle in swarm:\n",
    "        dt=(-aperturePosition-particle.q[0])/particle.p[0]\n",
    "        qTest=particle.q+particle.p*dt\n",
    "        r=np.sqrt(qTest[1]**2+qTest[2]**2)\n",
    "        if r<apertureDiam/2:\n",
    "            swarmTrimmed.particles.append(particle)\n",
    "    assert swarmTrimmed.num_Particles()>10\n",
    "    return swarmTrimmed\n",
    "swarm=initialize_Nozzle_Swarm(5e-3,25_000,1e-12,xOffset=0.0)\n",
    "swarm=swarmTracer.trace_Swarm_Through_Lattice(swarm,1e-6,1.0,fastMode=True,accelerated=True,parallel=False)\n",
    "print(time.time()-t)\n",
    "# file=open('swarmLens','wb')\n",
    "# dill.dump(swarm,file)\n",
    "# file=open('swarmLens','rb')\n",
    "# swarm=dill.load(file)\n",
    "\n",
    "# PTL.show_Lattice(swarm=swarm,showTraceLines=True,trueAspectRatio=False)"
   ],
   "outputs": [
    {
     "output_type": "stream",
     "name": "stderr",
     "text": [
      "/opt/homebrew/Caskroom/miniforge/base/lib/python3.9/site-packages/skopt/sampler/sobol.py:246: UserWarning: The balance properties of Sobol' points require n to be a power of 2. 0 points have been previously generated, then: n=0+40528=40528. \n",
      "  warnings.warn(\"The balance properties of Sobol' points require \"\n"
     ]
    },
    {
     "output_type": "error",
     "ename": "AttributeError",
     "evalue": "'Particle' object has no attribute 'q'",
     "traceback": [
      "\u001B[0;31m---------------------------------------------------------------------------\u001B[0m",
      "\u001B[0;31mAttributeError\u001B[0m                            Traceback (most recent call last)",
      "\u001B[0;32m/var/folders/c3/_byqmhpx62b_f0jnb2ht27y40000gn/T/ipykernel_9321/2690401080.py\u001B[0m in \u001B[0;36m<module>\u001B[0;34m\u001B[0m\n\u001B[1;32m     22\u001B[0m     \u001B[0;32massert\u001B[0m \u001B[0mswarmTrimmed\u001B[0m\u001B[0;34m.\u001B[0m\u001B[0mnum_Particles\u001B[0m\u001B[0;34m(\u001B[0m\u001B[0;34m)\u001B[0m\u001B[0;34m>\u001B[0m\u001B[0;36m10\u001B[0m\u001B[0;34m\u001B[0m\u001B[0;34m\u001B[0m\u001B[0m\n\u001B[1;32m     23\u001B[0m     \u001B[0;32mreturn\u001B[0m \u001B[0mswarmTrimmed\u001B[0m\u001B[0;34m\u001B[0m\u001B[0;34m\u001B[0m\u001B[0m\n\u001B[0;32m---> 24\u001B[0;31m \u001B[0mswarm\u001B[0m\u001B[0;34m=\u001B[0m\u001B[0minitialize_Nozzle_Swarm\u001B[0m\u001B[0;34m(\u001B[0m\u001B[0;36m5e-3\u001B[0m\u001B[0;34m,\u001B[0m\u001B[0;36m25_000\u001B[0m\u001B[0;34m,\u001B[0m\u001B[0;36m1e-12\u001B[0m\u001B[0;34m,\u001B[0m\u001B[0mxOffset\u001B[0m\u001B[0;34m=\u001B[0m\u001B[0;36m0.0\u001B[0m\u001B[0;34m)\u001B[0m\u001B[0;34m\u001B[0m\u001B[0;34m\u001B[0m\u001B[0m\n\u001B[0m\u001B[1;32m     25\u001B[0m \u001B[0mswarm\u001B[0m\u001B[0;34m=\u001B[0m\u001B[0mswarmTracer\u001B[0m\u001B[0;34m.\u001B[0m\u001B[0mtrace_Swarm_Through_Lattice\u001B[0m\u001B[0;34m(\u001B[0m\u001B[0mswarm\u001B[0m\u001B[0;34m,\u001B[0m\u001B[0;36m1e-6\u001B[0m\u001B[0;34m,\u001B[0m\u001B[0;36m1.0\u001B[0m\u001B[0;34m,\u001B[0m\u001B[0mfastMode\u001B[0m\u001B[0;34m=\u001B[0m\u001B[0;32mTrue\u001B[0m\u001B[0;34m,\u001B[0m\u001B[0maccelerated\u001B[0m\u001B[0;34m=\u001B[0m\u001B[0;32mTrue\u001B[0m\u001B[0;34m,\u001B[0m\u001B[0mparallel\u001B[0m\u001B[0;34m=\u001B[0m\u001B[0;32mFalse\u001B[0m\u001B[0;34m)\u001B[0m\u001B[0;34m\u001B[0m\u001B[0;34m\u001B[0m\u001B[0m\n\u001B[1;32m     26\u001B[0m \u001B[0mprint\u001B[0m\u001B[0;34m(\u001B[0m\u001B[0mtime\u001B[0m\u001B[0;34m.\u001B[0m\u001B[0mtime\u001B[0m\u001B[0;34m(\u001B[0m\u001B[0;34m)\u001B[0m\u001B[0;34m-\u001B[0m\u001B[0mt\u001B[0m\u001B[0;34m)\u001B[0m\u001B[0;34m\u001B[0m\u001B[0;34m\u001B[0m\u001B[0m\n",
      "\u001B[0;32m/var/folders/c3/_byqmhpx62b_f0jnb2ht27y40000gn/T/ipykernel_9321/2690401080.py\u001B[0m in \u001B[0;36minitialize_Nozzle_Swarm\u001B[0;34m(T, numParticles, xQuit, xOffset)\u001B[0m\n\u001B[1;32m      6\u001B[0m     \u001B[0msigma\u001B[0m\u001B[0;34m=\u001B[0m\u001B[0;36m91\u001B[0m\u001B[0;34m*\u001B[0m\u001B[0mnp\u001B[0m\u001B[0;34m.\u001B[0m\u001B[0msqrt\u001B[0m\u001B[0;34m(\u001B[0m\u001B[0mT\u001B[0m\u001B[0;34m/\u001B[0m\u001B[0;36m7.0\u001B[0m\u001B[0;34m)\u001B[0m\u001B[0;34m\u001B[0m\u001B[0;34m\u001B[0m\u001B[0m\n\u001B[1;32m      7\u001B[0m     \u001B[0;32mfor\u001B[0m \u001B[0mparticle\u001B[0m \u001B[0;32min\u001B[0m \u001B[0mswarm\u001B[0m\u001B[0;34m:\u001B[0m\u001B[0;34m\u001B[0m\u001B[0;34m\u001B[0m\u001B[0m\n\u001B[0;32m----> 8\u001B[0;31m         \u001B[0mparticle\u001B[0m\u001B[0;34m.\u001B[0m\u001B[0mq\u001B[0m\u001B[0;34m[\u001B[0m\u001B[0;36m0\u001B[0m\u001B[0;34m]\u001B[0m\u001B[0;34m+=\u001B[0m\u001B[0;34m-\u001B[0m\u001B[0mxOffset\u001B[0m\u001B[0;34m\u001B[0m\u001B[0;34m\u001B[0m\u001B[0m\n\u001B[0m\u001B[1;32m      9\u001B[0m         \u001B[0mdt\u001B[0m\u001B[0;34m=\u001B[0m\u001B[0;34m-\u001B[0m\u001B[0;34m(\u001B[0m\u001B[0mxQuit\u001B[0m\u001B[0;34m-\u001B[0m\u001B[0mxOffset\u001B[0m\u001B[0;34m)\u001B[0m\u001B[0;34m/\u001B[0m\u001B[0mparticle\u001B[0m\u001B[0;34m.\u001B[0m\u001B[0mp\u001B[0m\u001B[0;34m[\u001B[0m\u001B[0;36m0\u001B[0m\u001B[0;34m]\u001B[0m\u001B[0;34m\u001B[0m\u001B[0;34m\u001B[0m\u001B[0m\n\u001B[1;32m     10\u001B[0m         \u001B[0mparticle\u001B[0m\u001B[0;34m.\u001B[0m\u001B[0mq\u001B[0m\u001B[0;34m=\u001B[0m\u001B[0mparticle\u001B[0m\u001B[0;34m.\u001B[0m\u001B[0mp\u001B[0m\u001B[0;34m*\u001B[0m\u001B[0mdt\u001B[0m\u001B[0;34m+\u001B[0m\u001B[0mparticle\u001B[0m\u001B[0;34m.\u001B[0m\u001B[0mq\u001B[0m\u001B[0;34m\u001B[0m\u001B[0;34m\u001B[0m\u001B[0m\n",
      "\u001B[0;31mAttributeError\u001B[0m: 'Particle' object has no attribute 'q'"
     ]
    }
   ],
   "execution_count": 7,
   "metadata": {
    "execution": {
     "iopub.status.busy": "2021-12-03T19:52:45.370Z",
     "iopub.execute_input": "2021-12-03T19:52:45.378Z"
    }
   }
  },
  {
   "cell_type": "code",
   "source": [],
   "outputs": [],
   "execution_count": null,
   "metadata": {}
  },
  {
   "cell_type": "code",
   "source": [
    "class Interpolater:\n",
    "    def __init__(self,swarm,PTL):\n",
    "        self.swarm=swarm\n",
    "        self.PTL=PTL\n",
    "        self.endDriftLength=abs(self.PTL.elList[-1].r2[0]-self.PTL.elList[-1].r1[0])\n",
    "    def __call__(self,xOrbit):\n",
    "        assert -self.PTL.elList[-1].r2[0]>xOrbit>-self.PTL.elList[-1].r1[0]\n",
    "        yList=[]\n",
    "        for particle in self.swarm:\n",
    "            if particle.q[0]<-xOrbit:\n",
    "                stepFrac=(abs(particle.q[0])-xOrbit)/self.endDriftLength\n",
    "                ySlope=particle.p[1]/particle.p[0]\n",
    "                y=particle.q[1]+stepFrac*self.endDriftLength*ySlope\n",
    "                yList.append(y)\n",
    "        return yList\n",
    "interp=Interpolater(swarm,PTL)"
   ],
   "outputs": [],
   "execution_count": null,
   "metadata": {}
  },
  {
   "cell_type": "code",
   "source": [
    "xTest=-np.linspace(PTL.elList[-1].r1[0]-1e-3,PTL.elList[-1].r2[0]+1e-3,100)\n",
    "xTest=np.sort(xTest)\n",
    "# xTest=xTest[xTest<1.8]\n",
    "RMS_SpotSizeList=[]\n",
    "COLC_List=[]\n",
    "probeData=[]\n",
    "for x in xTest:\n",
    "    probeData=interp(x)\n",
    "    RMS_SpotSizeList.append(np.std(probeData))\n",
    "    COLC=np.sort(probeData)[int(len(probeData)*.9)]\n",
    "    COLC_List.append(COLC)\n",
    "    \n",
    "plt.plot(xTest,RMS_SpotSizeList)\n",
    "plt.show()\n",
    "\n",
    "plt.plot(xTest,COLC_List)\n",
    "plt.show()"
   ],
   "outputs": [],
   "execution_count": null,
   "metadata": {}
  },
  {
   "cell_type": "code",
   "source": [
    "import scipy.optimize as spo\n",
    "def flor_Profile_fit(x,a,gamma):\n",
    "    return a*(gamma/2)**2/(x**2+(gamma/2)**2)\n",
    "def get_Flor_Data(probeData,normalize=False):\n",
    "    binNum=500\n",
    "    data=np.histogram(probeData,bins=binNum)\n",
    "    x=data[1][:-1]+(data[1][1]-data[1][0])/2\n",
    "    sig=data[0]\n",
    "    if normalize==True: sig=sig/sig.max()\n",
    "    return x,sig\n",
    "def fit_Data(probeData,normalize=False):\n",
    "    x,sig=get_Signal_Data(probeData,normalize=normalize)\n",
    "    guess=[sig.max(),.001]\n",
    "    params=spo.curve_fit(fit,x,sig,p0=guess)[0]\n",
    "    return params\n",
    "fwhmList=[]\n",
    "def get_FWHM(xEval,plot=False):\n",
    "    assert isinstance(xEval,float) or isinstance(xEval,int) or len(xEval)==1\n",
    "    probeData=interp(xEval)\n",
    "    params=fit_Data(probeData)\n",
    "    if plot==True:\n",
    "        fwhmList.append(1e3*params[1])\n",
    "        x,sigData=get_Signal_Data(probeData)\n",
    "        xPlot=np.linspace(x[0],x[-1],1000)\n",
    "        plt.title(str(xEval)+' '+str(1e3*params[1]))\n",
    "        plt.plot(x,sigData)\n",
    "        plt.plot(xPlot,fit(xPlot,*params))\n",
    "        plt.show()\n",
    "    return 1e3*params[1]\n"
   ],
   "outputs": [],
   "execution_count": null,
   "metadata": {}
  },
  {
   "cell_type": "code",
   "source": [
    "temp=[]\n",
    "for x in xTest[20:-20]:\n",
    "    temp.append(get_FWHM(x,plot=False))\n",
    "plt.plot(xTest[20:-20],temp)\n",
    "plt.show()\n",
    "min(temp)"
   ],
   "outputs": [],
   "execution_count": null,
   "metadata": {}
  },
  {
   "cell_type": "code",
   "source": [
    "get_FWHM(sol.x,plot=True)"
   ],
   "outputs": [],
   "execution_count": null,
   "metadata": {}
  },
  {
   "cell_type": "code",
   "source": [
    "# def get_Flor_Data(xEval,T,numParticles,xQuit,normalize=False):\n",
    "#     swarm=initialize_Nozzle_Swarm(T,numParticles,xQuit)\n",
    "#     swarm=swarmTracer.trace_Swarm_Through_Lattice(swarm,1e-5,1.0,fastMode=True,accelerated=True\n",
    "#                                                   ,parallel=False,copySwarm=False)\n",
    "    \n",
    "#     interp=Interpolater(swarm,PTL)\n",
    "#     data=interp.yInterp(xEval)\n",
    "#     binNum=500\n",
    "#     data=np.histogram(data,bins=binNum)\n",
    "#     x=data[1][:-1]+(data[1][1]-data[1][0])/2\n",
    "#     sig=data[0]\n",
    "#     if normalize==True: sig=sig/sig.max()\n",
    "#     return x,sig\n",
    "# def get_Signal_Profile(x0,T,xQuit):\n",
    "#     data=get_Probe_Data(x0,T,10_000,xQuit)\n",
    "#     x,sig=get_Signal_Data(data,normalize=True)\n",
    "#     return x,sig\n",
    "#     params=fit_Data(data,normalize=True)\n",
    "# def fit_Cost(X,x0=1.65):\n",
    "#     T,xQuit=X\n",
    "#     x,sig=get_Flor_Data(x0,T,25_000,xQuit,normalize=True)\n",
    "#     guess=[sig.max(),.001]\n",
    "#     params=spo.curve_fit(fit,x,sig,p0=guess)[0]\n",
    "    \n",
    "#     fitResult=fit(x,*params)\n",
    "#     cost=np.sum((fitResult-sig)**2)\n",
    "# #     plt.plot(x,sig)\n",
    "# #     plt.plot(x,fit(x,*params))\n",
    "# #     plt.show()\n",
    "#     return cost\n",
    "\n",
    "    \n",
    "    \n",
    "    \n",
    "# bounds=[(1e-6,20e-3),(1e-3,15e-2)]\n",
    "# # sol=spo.differential_evolution(fit_Cost,bounds,disp=False)\n",
    "# # sol\n",
    "# # fit_Cost([1e-3,.1])\n",
    "# spo.minimize(fit_Cost,x0=[10e-3,.1],bounds=bounds,method='Nelder-Mead',options={'maxfev':100,'disp':True})"
   ],
   "outputs": [],
   "execution_count": null,
   "metadata": {}
  },
  {
   "cell_type": "code",
   "source": [
    "plt.imshow(image)\n",
    "image.max()"
   ],
   "outputs": [],
   "execution_count": null,
   "metadata": {}
  },
  {
   "cell_type": "code",
   "source": [
    "T,xQuit=sol.x\n",
    "x0=1.65\n",
    "data=get_Probe_Data(x0,T,10_000,xQuit)\n",
    "params=fit_Data(data,normalize=True)\n",
    "x,sig=get_Signal_Data(data,normalize=True)\n",
    "guess=[sig.max(),.001]\n",
    "params=spo.curve_fit(fit,x,sig,p0=guess)[0]\n",
    "fitResult=fit(x,*params)\n",
    "plt.plot(x,sig)\n",
    "plt.plot(x,fitResult)\n",
    "plt.show()"
   ],
   "outputs": [],
   "execution_count": null,
   "metadata": {}
  },
  {
   "cell_type": "code",
   "source": [
    "temp=np.asarray([1.455,1.378,1.379,1.377,1.377,1.377,1.377])\n",
    "np.std(temp)/np.sqrt(6)"
   ],
   "outputs": [],
   "execution_count": null,
   "metadata": {}
  },
  {
   "cell_type": "code",
   "source": [
    "results0=np.asarray([slowFunction(arg) for arg in argsArr])"
   ],
   "outputs": [],
   "execution_count": null,
   "metadata": {
    "collapsed": true,
    "jupyter": {
     "source_hidden": false,
     "outputs_hidden": false
    },
    "nteract": {
     "transient": {
      "deleting": false
     }
    },
    "execution": {
     "iopub.status.busy": "2021-11-24T14:08:28.547Z",
     "iopub.execute_input": "2021-11-24T14:08:28.554Z",
     "iopub.status.idle": "2021-11-24T14:08:31.483Z",
     "shell.execute_reply": "2021-11-24T14:08:31.487Z"
    }
   }
  },
  {
   "cell_type": "code",
   "source": [
    "def slowFunction(x):\n",
    "  a=np.sin(x)\n",
    "  b=np.ones((1000,2000))*np.pi\n",
    "  for y in range(10000):\n",
    "    y=float(y)\n",
    "    a+=np.sin(y+a)*np.arctan(y)\n",
    "  return a+np.mean(b)\n",
    "\n",
    "\n",
    "\n",
    "# t=time.time()\n",
    "# for _ in range(100):\n",
    "#   slowFunction(1)\n",
    "# print(time.time()-t)\n",
    "\n",
    "tList=[]\n",
    "resultsList=[]\n",
    "nArr=np.arange(1,20)\n",
    "for n in nArr:\n",
    "  argsArr=np.linspace(0,10,100)\n",
    "  t=time.time()\n",
    "  with pa.pools.ProcessPool(n) as pool:\n",
    "    results=np.asarray(pool.map(slowFunction,argsArr))\n",
    "#   print(time.time()-t)\n",
    "#   print(np.sum(np.abs(results0-results)))\n",
    "  tList.append(time.time()-t)\n",
    "plt.plot(nArr,tList)\n",
    "plt.show()"
   ],
   "outputs": [],
   "execution_count": null,
   "metadata": {
    "collapsed": true,
    "jupyter": {
     "source_hidden": false,
     "outputs_hidden": false
    },
    "nteract": {
     "transient": {
      "deleting": false
     }
    },
    "execution": {
     "iopub.status.busy": "2021-11-24T19:59:33.346Z",
     "iopub.execute_input": "2021-11-24T19:59:33.352Z",
     "iopub.status.idle": "2021-11-24T19:59:38.509Z",
     "shell.execute_reply": "2021-11-24T19:59:38.569Z"
    }
   }
  },
  {
   "cell_type": "code",
   "source": [
    "particle=swarmTraced.particles[0]\n",
    "from ParticleClass import Particle\n",
    "\n",
    "t=time.time()\n",
    "for particle in swarmTraced.particles:\n",
    "  newParticle=Particle()\n",
    "  for k,v in vars(particle).items():\n",
    "      setattr(newParticle,k,v)\n",
    "print(time.time()-t)\n",
    "\n",
    "# keys=vars(particle).keys()\n",
    "# vals=vars(particle).values()\n",
    "# d1=vars(newParticle)\n",
    "# d2=vars(particle)\n",
    "# d2=d1\n",
    "vars(newParticle)"
   ],
   "outputs": [],
   "execution_count": null,
   "metadata": {
    "collapsed": true,
    "jupyter": {
     "source_hidden": false,
     "outputs_hidden": false
    },
    "nteract": {
     "transient": {
      "deleting": false
     }
    },
    "execution": {
     "iopub.status.busy": "2021-12-03T12:39:38.061Z",
     "iopub.execute_input": "2021-12-03T12:39:38.067Z",
     "iopub.status.idle": "2021-12-03T12:39:41.736Z",
     "shell.execute_reply": "2021-12-03T12:39:41.748Z"
    }
   }
  },
  {
   "cell_type": "code",
   "source": [
    "keys=vars(swarmTraced.particles[0]).keys()\n",
    "for key,val in zip(keys,vars(swarmTraced.particles[0]).values()):\n",
    "  print(val)"
   ],
   "outputs": [],
   "execution_count": null,
   "metadata": {
    "collapsed": true,
    "jupyter": {
     "source_hidden": false,
     "outputs_hidden": false
    },
    "nteract": {
     "transient": {
      "deleting": false
     }
    },
    "execution": {
     "iopub.status.busy": "2021-12-03T12:49:08.742Z",
     "iopub.execute_input": "2021-12-03T12:49:08.748Z",
     "iopub.status.idle": "2021-12-03T12:49:08.760Z",
     "shell.execute_reply": "2021-12-03T12:49:08.764Z"
    }
   }
  },
  {
   "cell_type": "code",
   "source": [
    "for key,val in vars(swarmInitial.particles[0]).items():\n",
    "  print(key,val)\n",
    "\n"
   ],
   "outputs": [],
   "execution_count": null,
   "metadata": {
    "collapsed": true,
    "jupyter": {
     "source_hidden": false,
     "outputs_hidden": false
    },
    "nteract": {
     "transient": {
      "deleting": false
     }
    },
    "execution": {
     "iopub.status.busy": "2021-12-03T13:04:28.987Z",
     "iopub.execute_input": "2021-12-03T13:04:28.993Z",
     "iopub.status.idle": "2021-12-03T13:04:29.009Z",
     "shell.execute_reply": "2021-12-03T13:04:29.014Z"
    }
   }
  },
  {
   "cell_type": "code",
   "source": [
    "vars(swarmInitial.particles[0]).values"
   ],
   "outputs": [],
   "execution_count": null,
   "metadata": {
    "collapsed": true,
    "jupyter": {
     "source_hidden": false,
     "outputs_hidden": false
    },
    "nteract": {
     "transient": {
      "deleting": false
     }
    },
    "execution": {
     "iopub.status.busy": "2021-12-03T13:04:03.318Z",
     "iopub.execute_input": "2021-12-03T13:04:03.325Z",
     "iopub.status.idle": "2021-12-03T13:04:03.349Z",
     "shell.execute_reply": "2021-12-03T13:04:03.356Z"
    }
   }
  },
  {
   "cell_type": "code",
   "source": [],
   "outputs": [],
   "execution_count": null,
   "metadata": {
    "collapsed": true,
    "jupyter": {
     "source_hidden": false,
     "outputs_hidden": false
    },
    "nteract": {
     "transient": {
      "deleting": false
     }
    }
   }
  }
 ],
 "metadata": {
  "kernelspec": {
   "display_name": "Python 3 (ipykernel)",
   "language": "python",
   "name": "python3"
  },
  "language_info": {
   "name": "python",
   "version": "3.9.7",
   "mimetype": "text/x-python",
   "codemirror_mode": {
    "name": "ipython",
    "version": 3
   },
   "pygments_lexer": "ipython3",
   "nbconvert_exporter": "python",
   "file_extension": ".py"
  },
  "nteract": {
   "version": "0.28.0"
  }
 },
 "nbformat": 4,
 "nbformat_minor": 4
}