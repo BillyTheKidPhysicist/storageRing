{
 "cells": [
  {
   "cell_type": "markdown",
   "metadata": {
    "execution": {
     "iopub.execute_input": "2020-08-23T19:42:15.363Z",
     "iopub.status.busy": "2020-08-23T19:42:15.360Z",
     "iopub.status.idle": "2020-08-23T19:43:15.622Z",
     "shell.execute_reply": "2020-08-23T19:43:15.632Z"
    }
   },
   "source": [
    "Here I will try and prove that my model isn't working. First, I will run my optimizer 3 times to see if I get different results."
   ]
  },
  {
   "cell_type": "markdown",
   "metadata": {},
   "source": [
    "Now I will compare how the mode matching compares to actually tracing the particle. I will also inspect these swarms to see that they make sense.\n",
    "\n",
    "\n"
   ]
  },
  {
   "cell_type": "code",
   "execution_count": 20,
   "metadata": {},
   "outputs": [],
   "source": [
    "from latticeOptimizer import LatticeOptimizer\n",
    "import dill\n",
    "import matplotlib.pyplot as plt\n",
    "from ParticleClass import Swarm,Particle\n",
    "from ParticleTracerLatticeClass import ParticleTracerLattice\n",
    "import numpy as np\n",
    "import time\n",
    "from SwarmTracerClass import SwarmTracer\n",
    "from optimizerHelperFunctions import generate_Ring_And_Injector_Lattice\n",
    "\n",
    "# ----------Solution-----------\n",
    "# injector element spacing optimum configuration: nan\n",
    "# storage ring tuned params 1 optimum configuration: [0.01074743 0.01867891 0.01761212 0.01024843 0.18664755]\n",
    "# storage ring tuned params 2 optimum configuration: [0.64475991 0.60149558]\n",
    "# cost: 0.92668415120023\n",
    "# percent max flux multiplication: 7.3315848799770045\n",
    "# scipy message: Optimization terminated successfully.\n",
    "\n",
    "\n",
    "\n",
    "# ----------Solution-----------\n",
    "# injector element spacing optimum configuration: nan\n",
    "# storage ring tuned params 1 optimum configuration: [0.01002868 0.01852266 0.01876837 0.00984218 0.1864913 ]\n",
    "# storage ring tuned params 2 optimum configuration: [0.3370546  0.68263976]\n",
    "# cost: 0.6129659036716784\n",
    "# percent max flux multiplication: 38.70340963283216\n",
    "# scipy message: Optimization terminated successfully.\n",
    "# ----------------------------\n",
    "\n",
    "X=np.array([0.02144103, 0.03172555, 0.01353121, 0.00948905, 0.4       ])\n",
    "\n",
    "\n",
    "tuning=None\n",
    "PTL_Ring,PTL_Injector=generate_Ring_And_Injector_Lattice(X,tuning)\n",
    "\n",
    "# XSpacing=[0.64475991 ,0.60149558]\n",
    "# XLatticeSpace= XSpacing[:2]\n",
    "# XInjectorSpace= XSpacing[2:]\n",
    "\n",
    "\n",
    "\n",
    "optimizer=LatticeOptimizer(PTL_Ring,PTL_Injector)\n",
    "optimizer.numParticlesFullSwarm=1000\n",
    "# optimizer.numParticlesRing=50000\n",
    "# optimizer.numParticlesInjector=1000\n",
    "elementIndices=(0,6)\n",
    "ringTuningBounds = [(0.0, 1.5)]*2\n",
    "injectorTuningBounds = [(.01, .4), (.01, .4)]\n",
    "# optimizer.catch_Optimizer_Errors(ringTuningBounds, elementIndices, tuning,'all')\n",
    "# optimizer.initialize_Optimizer(elementIndices,tuning,'all',ringTuningBounds,injectorTuningBounds)\n",
    "# optimizer.update_Ring_Lattice(XLatticeSpace)\n",
    "# optimizer.update_Injector_Lattice(XInjectorSpace)\n"
   ]
  },
  {
   "cell_type": "code",
   "execution_count": 21,
   "outputs": [],
   "source": [
    "# %matplotlib tk\n",
    "# optimizer.show_Floor_Plan(XSpacing)\n",
    "# optimizer.floor_Plan_Cost(XSpacing)"
   ],
   "metadata": {
    "collapsed": false,
    "pycharm": {
     "name": "#%%\n"
    }
   }
  },
  {
   "cell_type": "code",
   "execution_count": 22,
   "outputs": [],
   "source": [
    "#trace through injector\n",
    "# %matplotlib tk\n",
    "# %matplotlib inline\n",
    "fastMode=False\n",
    "h=5e-6\n",
    "optimizer.generate_Swarms()\n",
    "swarm=optimizer.swarmInjectorInitial\n",
    "swarmInjectorTraced = optimizer.swarmTracerInjector.trace_Swarm_Through_Lattice(\n",
    "    swarm\n",
    "    , h, 1.0, parallel=False,\n",
    "    fastMode=fastMode, copySwarm=True,\n",
    "    accelerated=True,energyCorrection=False,stepsBetweenLogging=4)\n",
    "swarmEnd = optimizer.move_Survived_Particles_In_Injector_Swarm_To_Origin(swarmInjectorTraced, copyParticles=True)\n",
    "# print(swarmEnd.num_Particles())\n",
    "swarmRingInitial = optimizer.swarmTracerRing.move_Swarm_To_Combiner_Output(swarmEnd, copySwarm=False,scoot=True)\n",
    "# optimizer.latticeInjector.show_Lattice(swarm=swarmInjectorTraced,trueAspectRatio=False,showTraceLines=True,traceLineAlpha=.25,showMarkers=True,finalCoords=True,showRelativeSurvival=False) #careful about which swarm\n",
    "# optimizer.swarmInjectorInitial.num_Particles(weighted=True),swarmRingInitial.num_Particles(weighted=True)"
   ],
   "metadata": {
    "collapsed": false,
    "pycharm": {
     "name": "#%%\n"
    }
   }
  },
  {
   "cell_type": "code",
   "execution_count": 23,
   "outputs": [],
   "source": [
    "# %matplotlib tk\n",
    "# optimizer.show_Floor_Plan(XSpacing)\n",
    "# %matplotlib inline"
   ],
   "metadata": {
    "collapsed": false,
    "pycharm": {
     "name": "#%%\n"
    }
   }
  },
  {
   "cell_type": "code",
   "execution_count": 24,
   "outputs": [
    {
     "data": {
      "text/plain": "0.28018246323294277"
     },
     "execution_count": 24,
     "metadata": {},
     "output_type": "execute_result"
    }
   ],
   "source": [
    "#trace through lattice\n",
    "%matplotlib tk\n",
    "import multiprocess as mp\n",
    "def params(T,energyCons=True):\n",
    "    fastMode=True\n",
    "    optimizer.T=T\n",
    "    swarmTraced = optimizer.swarmTracerRing.trace_Swarm_Through_Lattice(swarmRingInitial, optimizer.h, optimizer.T, parallel=False,\n",
    "                                                            fastMode=fastMode, accelerated=True, copySwarm=True,energyCorrection=energyCons,stepsBetweenLogging=4)\n",
    "    # PTL_Ring.show_Lattice(swarm=swarmTraced,showMarkers=True,showTraceLines=True,traceLineAlpha=.5)\n",
    "    # print(swarmTraced.lattice_Flux())\n",
    "    # print(sum([p.probability*p.revolutions for p in swarmTraced]))\n",
    "    survivalFrac=swarmTraced.num_Particles(weighted=True)/optimizer.swarmInjectorInitial.num_Particles(weighted=True)\n",
    "    maxFluxMult=T*optimizer.latticeRing.v0Nominal/optimizer.latticeRing.totalLength\n",
    "    swarmFluxMult=swarmTraced.weighted_Flux_Multiplication()\n",
    "    return survivalFrac*swarmFluxMult/maxFluxMult\n",
    "\n",
    "# TArr=np.logspace(np.log10(10.0/200.0),np.log10(100.0),30)\n",
    "# with mp.Pool(10) as pool:\n",
    "#     results=1e2*np.asarray(pool.map(params,TArr,chunksize=1))\n",
    "params(10.0,energyCons=False)"
   ],
   "metadata": {
    "collapsed": false,
    "pycharm": {
     "name": "#%%\n"
    }
   }
  },
  {
   "cell_type": "code",
   "execution_count": 19,
   "outputs": [
    {
     "data": {
      "text/plain": "<Figure size 432x288 with 1 Axes>",
      "image/png": "[encoded data removed]"
     },
     "metadata": {
      "needs_background": "light"
     },
     "output_type": "display_data"
    }
   ],
   "source": [
    "%matplotlib inline\n",
    "resultsFluxMult=1e-2*results*TArr*optimizer.latticeRing.v0Nominal/optimizer.latticeRing.totalLength\n",
    "# resultsFluxMult=resultsFluxMult/(results*1e-2)\n",
    "# plt.figure(figsize=(13,8))\n",
    "plt.plot(TArr,resultsFluxMult,linewidth=1.0,marker='o')\n",
    "plt.grid()\n",
    "plt.xlabel('Storage time, seconds')\n",
    "plt.ylabel('Total flux multiplication')\n",
    "# plt.savefig('image.jpg')\n",
    "plt.show()"
   ],
   "metadata": {
    "collapsed": false,
    "pycharm": {
     "name": "#%%\n"
    }
   }
  },
  {
   "cell_type": "code",
   "execution_count": 15,
   "outputs": [
    {
     "ename": "IndexError",
     "evalue": "too many indices for array: array is 1-dimensional, but 2 were indexed",
     "output_type": "error",
     "traceback": [
      "\u001B[0;31m---------------------------------------------------------------------------\u001B[0m",
      "\u001B[0;31mIndexError\u001B[0m                                Traceback (most recent call last)",
      "\u001B[0;32m/var/folders/c3/_byqmhpx62b_f0jnb2ht27y40000gn/T/ipykernel_22093/1137462382.py\u001B[0m in \u001B[0;36m<module>\u001B[0;34m\u001B[0m\n\u001B[0;32m----> 1\u001B[0;31m \u001B[0mflux\u001B[0m\u001B[0;34m=\u001B[0m\u001B[0mresults\u001B[0m\u001B[0;34m[\u001B[0m\u001B[0;34m:\u001B[0m\u001B[0;34m,\u001B[0m\u001B[0;36m0\u001B[0m\u001B[0;34m]\u001B[0m\u001B[0;34m\u001B[0m\u001B[0;34m\u001B[0m\u001B[0m\n\u001B[0m\u001B[1;32m      2\u001B[0m \u001B[0mfluxMax\u001B[0m\u001B[0;34m=\u001B[0m\u001B[0mresults\u001B[0m\u001B[0;34m[\u001B[0m\u001B[0;34m:\u001B[0m\u001B[0;34m,\u001B[0m\u001B[0;36m1\u001B[0m\u001B[0;34m]\u001B[0m\u001B[0;34m\u001B[0m\u001B[0;34m\u001B[0m\u001B[0m\n\u001B[1;32m      3\u001B[0m \u001B[0mvacuumLine\u001B[0m\u001B[0;34m=\u001B[0m\u001B[0;34m(\u001B[0m\u001B[0mTArr\u001B[0m\u001B[0;34m*\u001B[0m\u001B[0mflux\u001B[0m\u001B[0;34m[\u001B[0m\u001B[0;36m0\u001B[0m\u001B[0;34m]\u001B[0m\u001B[0;34m/\u001B[0m\u001B[0mTArr\u001B[0m\u001B[0;34m[\u001B[0m\u001B[0;36m0\u001B[0m\u001B[0;34m]\u001B[0m\u001B[0;34m)\u001B[0m\u001B[0;34m\u001B[0m\u001B[0;34m\u001B[0m\u001B[0m\n\u001B[1;32m      4\u001B[0m \u001B[0mmaxLIne\u001B[0m\u001B[0;34m=\u001B[0m\u001B[0;34m(\u001B[0m\u001B[0mTArr\u001B[0m\u001B[0;34m*\u001B[0m\u001B[0mfluxMax\u001B[0m\u001B[0;34m[\u001B[0m\u001B[0;36m0\u001B[0m\u001B[0;34m]\u001B[0m\u001B[0;34m/\u001B[0m\u001B[0mTArr\u001B[0m\u001B[0;34m[\u001B[0m\u001B[0;36m0\u001B[0m\u001B[0;34m]\u001B[0m\u001B[0;34m)\u001B[0m\u001B[0;34m\u001B[0m\u001B[0;34m\u001B[0m\u001B[0m\n\u001B[1;32m      5\u001B[0m \u001B[0mplt\u001B[0m\u001B[0;34m.\u001B[0m\u001B[0mscatter\u001B[0m\u001B[0;34m(\u001B[0m\u001B[0mTArr\u001B[0m\u001B[0;34m,\u001B[0m\u001B[0mflux\u001B[0m\u001B[0;34m/\u001B[0m\u001B[0mfluxMax\u001B[0m\u001B[0;34m)\u001B[0m\u001B[0;34m\u001B[0m\u001B[0;34m\u001B[0m\u001B[0m\n",
      "\u001B[0;31mIndexError\u001B[0m: too many indices for array: array is 1-dimensional, but 2 were indexed"
     ]
    }
   ],
   "source": [
    "flux=results[:,0]\n",
    "fluxMax=results[:,1]\n",
    "vacuumLine=(TArr*flux[0]/TArr[0])\n",
    "maxLIne=(TArr*fluxMax[0]/TArr[0])\n",
    "plt.scatter(TArr,flux/fluxMax)\n",
    "plt.show()\n",
    "plt.scatter(TArr,flux,label='simulation results')\n",
    "plt.plot(TArr,vacuumLine,label='vacuum limited injected',c='r')\n",
    "plt.plot(TArr,maxLIne,label='vacuum limited, ideal loading',c='g')\n",
    "plt.ylabel('Flux multiplication')\n",
    "plt.xlabel('Time, seconds')\n",
    "plt.grid()\n",
    "plt.legend()\n",
    "plt.show()\n",
    "flux[-1],fluxMax[0]"
   ],
   "metadata": {
    "collapsed": false,
    "pycharm": {
     "name": "#%%\n"
    }
   }
  },
  {
   "cell_type": "markdown",
   "source": [
    "# look at energy conservation"
   ],
   "metadata": {
    "collapsed": false,
    "pycharm": {
     "name": "#%% md\n"
    }
   }
  },
  {
   "cell_type": "code",
   "execution_count": 41,
   "outputs": [
    {
     "name": "stdout",
     "output_type": "stream",
     "text": [
      "114.5606300830841\n"
     ]
    }
   ],
   "source": [
    "swarmETest=Swarm()\n",
    "swarmETest.particles=swarmRingInitial.particles[:11]\n",
    "swarmETest.particles=[swarmRingInitial.particles[5]]\n",
    "def trace_ETest_Swarm(T):\n",
    "    optimizer.T=T\n",
    "    swarmTraced = optimizer.swarmTracerRing.trace_Swarm_Through_Lattice(swarmETest, optimizer.h, optimizer.T, parallel=False,\n",
    "                                                                    fastMode=False, accelerated=True, copySwarm=True,energyCorrection=True)\n",
    "    return swarmTraced\n",
    "t=time.time()\n",
    "swarmTraced=trace_ETest_Swarm(10.0)\n",
    "print(time.time()-t)"
   ],
   "metadata": {
    "collapsed": false,
    "pycharm": {
     "name": "#%%\n"
    }
   }
  },
  {
   "cell_type": "code",
   "execution_count": 40,
   "outputs": [
    {
     "data": {
      "text/plain": "<Figure size 432x288 with 1 Axes>",
      "image/png": "[encoded data removed]"
     },
     "metadata": {
      "needs_background": "light"
     },
     "output_type": "display_data"
    },
    {
     "data": {
      "text/plain": "<Figure size 432x288 with 1 Axes>",
      "image/png": "[encoded data removed]"
     },
     "metadata": {
      "needs_background": "light"
     },
     "output_type": "display_data"
    }
   ],
   "source": [
    "%matplotlib inline\n",
    "# for particle in swarmTraced:\n",
    "#     particle.plot_Energies()\n",
    "swarmTraced.particles[0].plot_Energies(showOnlyTotalEnergy=True)\n",
    "swarmTraced.particles[0].revolutions\n",
    "p0Arr=swarmTraced.particles[0].p0Arr\n",
    "plt.plot(p0Arr)\n",
    "plt.show()"
   ],
   "metadata": {
    "collapsed": false,
    "pycharm": {
     "name": "#%%\n"
    }
   }
  },
  {
   "cell_type": "code",
   "execution_count": 42,
   "outputs": [
    {
     "data": {
      "text/plain": "<Figure size 432x288 with 1 Axes>",
      "image/png": "[encoded data removed]"
     },
     "metadata": {
      "needs_background": "light"
     },
     "output_type": "display_data"
    },
    {
     "data": {
      "text/plain": "<Figure size 432x288 with 1 Axes>",
      "image/png": "[encoded data removed]"
     },
     "metadata": {
      "needs_background": "light"
     },
     "output_type": "display_data"
    }
   ],
   "source": [
    "%matplotlib inline\n",
    "# for particle in swarmTraced:\n",
    "#     particle.plot_Energies()\n",
    "swarmTraced.particles[0].plot_Energies(showOnlyTotalEnergy=True)\n",
    "swarmTraced.particles[0].revolutions\n",
    "p0Arr=swarmTraced.particles[0].p0Arr\n",
    "plt.plot(p0Arr)\n",
    "plt.show()"
   ],
   "metadata": {
    "collapsed": false,
    "pycharm": {
     "name": "#%%\n"
    }
   }
  },
  {
   "cell_type": "markdown",
   "source": [
    "### Tune the lattice to get better results"
   ],
   "metadata": {
    "collapsed": false,
    "pycharm": {
     "name": "#%% md\n"
    }
   }
  },
  {
   "cell_type": "code",
   "execution_count": 29,
   "outputs": [
    {
     "name": "stdout",
     "output_type": "stream",
     "text": [
      "------ITERATIONS:  60\n",
      "POPULATION VARIABILITY: [0.30167191 0.30101442 0.27934849 0.29434116]\n",
      "BEST MEMBER BELOW\n",
      "---population member---- \n",
      "DNA: array([0.80986759, 1.00567494, 0.03034935, 0.34526041])\n",
      "cost: 0.8642099556954415\n",
      "------ITERATIONS:  120\n",
      "POPULATION VARIABILITY: [0.29450442 0.28782337 0.27741357 0.30973993]\n",
      "BEST MEMBER BELOW\n",
      "---population member---- \n",
      "DNA: array([1.27861759, 1.05524191, 0.01      , 0.18631567])\n",
      "cost: 0.7929650418717087\n",
      "------ITERATIONS:  180\n",
      "POPULATION VARIABILITY: [0.2762154  0.27809407 0.21127625 0.32718524]\n",
      "BEST MEMBER BELOW\n",
      "---population member---- \n",
      "DNA: array([1.38891205, 0.95604256, 0.01      , 0.22912064])\n",
      "cost: 0.7452784628412797\n",
      "------ITERATIONS:  240\n",
      "POPULATION VARIABILITY: [0.25412832 0.22834241 0.17150343 0.30918342]\n",
      "BEST MEMBER BELOW\n",
      "---population member---- \n",
      "DNA: array([0.96248673, 0.99844448, 0.05239434, 0.1997635 ])\n",
      "cost: 0.6603849832978113\n",
      "------ITERATIONS:  300\n",
      "POPULATION VARIABILITY: [0.21243072 0.18547054 0.14472026 0.26355029]\n",
      "BEST MEMBER BELOW\n",
      "---population member---- \n",
      "DNA: array([0.96248673, 0.99844448, 0.05239434, 0.1997635 ])\n",
      "cost: 0.6603849832978113\n",
      "------ITERATIONS:  360\n",
      "POPULATION VARIABILITY: [0.19658488 0.15452783 0.12489608 0.23112825]\n",
      "BEST MEMBER BELOW\n",
      "---population member---- \n",
      "DNA: array([1.03763787, 1.03476813, 0.01      , 0.29244384])\n",
      "cost: 0.6476019017364137\n",
      "------ITERATIONS:  420\n",
      "POPULATION VARIABILITY: [0.19844973 0.14325435 0.1052422  0.21629299]\n",
      "BEST MEMBER BELOW\n",
      "---population member---- \n",
      "DNA: array([0.96508021, 0.96312166, 0.01      , 0.22912064])\n",
      "cost: 0.6110695051838054\n",
      "------ITERATIONS:  480\n",
      "POPULATION VARIABILITY: [0.15248572 0.1219664  0.09844916 0.20737631]\n",
      "BEST MEMBER BELOW\n",
      "---population member---- \n",
      "DNA: array([1.12399192, 1.00967851, 0.01      , 0.26005433])\n",
      "cost: 0.600511681818431\n",
      "------ITERATIONS:  540\n",
      "POPULATION VARIABILITY: [0.13319618 0.08910737 0.08628235 0.19215586]\n",
      "BEST MEMBER BELOW\n",
      "---population member---- \n",
      "DNA: array([1.10864943, 1.00018946, 0.01      , 0.2523556 ])\n",
      "cost: 0.5991513334863289\n",
      "------ITERATIONS:  600\n",
      "POPULATION VARIABILITY: [0.1212468  0.07010908 0.05740907 0.16846922]\n",
      "BEST MEMBER BELOW\n",
      "---population member---- \n",
      "DNA: array([1.10864943, 1.00018946, 0.01      , 0.2523556 ])\n",
      "cost: 0.5991513334863289\n",
      "------ITERATIONS:  660\n",
      "POPULATION VARIABILITY: [0.11220679 0.0665906  0.05297428 0.1520836 ]\n",
      "BEST MEMBER BELOW\n",
      "---population member---- \n",
      "DNA: array([1.0554338 , 0.98795205, 0.01      , 0.2327173 ])\n",
      "cost: 0.597857046002344\n",
      "------ITERATIONS:  720\n",
      "POPULATION VARIABILITY: [0.10796895 0.05639308 0.04444932 0.12385671]\n",
      "BEST MEMBER BELOW\n",
      "---population member---- \n",
      "DNA: array([1.00019531, 0.98223744, 0.01      , 0.24474686])\n",
      "cost: 0.5747394264797121\n",
      "------ITERATIONS:  780\n",
      "POPULATION VARIABILITY: [0.09788505 0.03633645 0.04448    0.11029863]\n",
      "BEST MEMBER BELOW\n",
      "---population member---- \n",
      "DNA: array([0.97608643, 0.96043671, 0.01      , 0.26128451])\n",
      "cost: 0.5720394979042996\n",
      "------ITERATIONS:  840\n",
      "POPULATION VARIABILITY: [0.09393042 0.03573806 0.03972451 0.09800711]\n",
      "BEST MEMBER BELOW\n",
      "---population member---- \n",
      "DNA: array([1.02148608, 0.97320684, 0.01      , 0.25970919])\n",
      "cost: 0.5692389517020984\n",
      "------ITERATIONS:  900\n",
      "POPULATION VARIABILITY: [0.07009574 0.03424121 0.0333656  0.07181205]\n",
      "BEST MEMBER BELOW\n",
      "---population member---- \n",
      "DNA: array([1.03072518, 0.98885375, 0.01      , 0.26130551])\n",
      "cost: 0.5659193597375736\n",
      "------ITERATIONS:  960\n",
      "POPULATION VARIABILITY: [0.06236072 0.0328015  0.03177499 0.05733453]\n",
      "BEST MEMBER BELOW\n",
      "---population member---- \n",
      "DNA: array([1.03072518, 0.98885375, 0.01      , 0.26130551])\n",
      "cost: 0.5659193597375736\n",
      "------ITERATIONS:  1020\n",
      "POPULATION VARIABILITY: [0.05315701 0.02631936 0.02379797 0.04916627]\n",
      "BEST MEMBER BELOW\n",
      "---population member---- \n",
      "DNA: array([0.99856003, 0.9834823 , 0.01      , 0.25482974])\n",
      "cost: 0.5608549925308353\n",
      "------ITERATIONS:  1080\n",
      "POPULATION VARIABILITY: [0.05032841 0.01477653 0.01845394 0.04452755]\n",
      "BEST MEMBER BELOW\n",
      "---population member---- \n",
      "DNA: array([0.99856003, 0.9834823 , 0.01      , 0.25482974])\n",
      "cost: 0.5608549925308353\n",
      "------ITERATIONS:  1140\n",
      "POPULATION VARIABILITY: [0.03690591 0.01275116 0.01366668 0.03144909]\n",
      "BEST MEMBER BELOW\n",
      "---population member---- \n",
      "DNA: array([0.97030573, 0.97076188, 0.01      , 0.26580691])\n",
      "cost: 0.559211074370422\n"
     ]
    },
    {
     "name": "stderr",
     "output_type": "stream",
     "text": [
      "Process ForkPoolWorker-1249:\n",
      "Process ForkPoolWorker-1257:\n",
      "Process ForkPoolWorker-1250:\n"
     ]
    },
    {
     "ename": "KeyboardInterrupt",
     "evalue": "",
     "output_type": "error",
     "traceback": [
      "\u001B[0;31m---------------------------------------------------------------------------\u001B[0m",
      "\u001B[0;31mKeyboardInterrupt\u001B[0m                         Traceback (most recent call last)",
      "\u001B[0;32m/var/folders/c3/_byqmhpx62b_f0jnb2ht27y40000gn/T/ipykernel_88725/1297622639.py\u001B[0m in \u001B[0;36m<module>\u001B[0;34m\u001B[0m\n\u001B[1;32m     13\u001B[0m \u001B[0;31m#     vals=np.asarray(pool.map(cost,coords,chunksize=4))\u001B[0m\u001B[0;34m\u001B[0m\u001B[0;34m\u001B[0m\u001B[0m\n\u001B[1;32m     14\u001B[0m \u001B[0;31m# print(time.time()-t)\u001B[0m\u001B[0;34m\u001B[0m\u001B[0;34m\u001B[0m\u001B[0m\n\u001B[0;32m---> 15\u001B[0;31m \u001B[0msolve_Async\u001B[0m\u001B[0;34m(\u001B[0m\u001B[0mcost\u001B[0m\u001B[0;34m,\u001B[0m\u001B[0moptimizer\u001B[0m\u001B[0;34m.\u001B[0m\u001B[0mtuningBounds\u001B[0m\u001B[0;34m,\u001B[0m\u001B[0;36m60\u001B[0m\u001B[0;34m,\u001B[0m\u001B[0mtol\u001B[0m\u001B[0;34m=\u001B[0m\u001B[0;36m.01\u001B[0m\u001B[0;34m)\u001B[0m\u001B[0;34m\u001B[0m\u001B[0;34m\u001B[0m\u001B[0m\n\u001B[0m",
      "\u001B[0;32m~/Desktop/addHexapoleCombiner/storageRing/storageRingOptimization/asyncDE.py\u001B[0m in \u001B[0;36msolve_Async\u001B[0;34m(func, bounds, popsize, timeOut_Seconds, initialVals, savePopulation, surrogateMethodProb, disp, maxEvals, tol, workers, saveData)\u001B[0m\n\u001B[1;32m    367\u001B[0m     solver=asyncDE(func,popsize,bounds,timeOut_Seconds=timeOut_Seconds,initialVals=initialVals,\n\u001B[1;32m    368\u001B[0m                    surrogateMethodProb=surrogateMethodProb,disp=disp,maxEvals=maxEvals,tol=tol,workers=workers,saveData=saveData)\n\u001B[0;32m--> 369\u001B[0;31m     \u001B[0mpop\u001B[0m\u001B[0;34m=\u001B[0m\u001B[0msolver\u001B[0m\u001B[0;34m.\u001B[0m\u001B[0msolve\u001B[0m\u001B[0;34m(\u001B[0m\u001B[0;34m)\u001B[0m\u001B[0;34m\u001B[0m\u001B[0;34m\u001B[0m\u001B[0m\n\u001B[0m\u001B[1;32m    370\u001B[0m     \u001B[0;32mif\u001B[0m \u001B[0msavePopulation\u001B[0m \u001B[0;32mis\u001B[0m \u001B[0;32mnot\u001B[0m \u001B[0;32mNone\u001B[0m\u001B[0;34m:\u001B[0m\u001B[0;34m\u001B[0m\u001B[0;34m\u001B[0m\u001B[0m\n\u001B[1;32m    371\u001B[0m         \u001B[0;32massert\u001B[0m \u001B[0mtype\u001B[0m\u001B[0;34m(\u001B[0m\u001B[0msavePopulation\u001B[0m\u001B[0;34m)\u001B[0m\u001B[0;34m==\u001B[0m\u001B[0mstr\u001B[0m\u001B[0;34m\u001B[0m\u001B[0;34m\u001B[0m\u001B[0m\n",
      "\u001B[0;32m~/Desktop/addHexapoleCombiner/storageRing/storageRingOptimization/asyncDE.py\u001B[0m in \u001B[0;36msolve\u001B[0;34m(self)\u001B[0m\n\u001B[1;32m    345\u001B[0m         \u001B[0mt0\u001B[0m\u001B[0;34m=\u001B[0m\u001B[0mtime\u001B[0m\u001B[0;34m.\u001B[0m\u001B[0mtime\u001B[0m\u001B[0;34m(\u001B[0m\u001B[0;34m)\u001B[0m\u001B[0;34m\u001B[0m\u001B[0;34m\u001B[0m\u001B[0m\n\u001B[1;32m    346\u001B[0m         \u001B[0;32mwhile\u001B[0m \u001B[0;32mTrue\u001B[0m\u001B[0;34m:\u001B[0m\u001B[0;34m\u001B[0m\u001B[0;34m\u001B[0m\u001B[0m\n\u001B[0;32m--> 347\u001B[0;31m             \u001B[0mself\u001B[0m\u001B[0;34m.\u001B[0m\u001B[0mupdate_Population\u001B[0m\u001B[0;34m(\u001B[0m\u001B[0;34m)\u001B[0m\u001B[0;34m\u001B[0m\u001B[0;34m\u001B[0m\u001B[0m\n\u001B[0m\u001B[1;32m    348\u001B[0m             \u001B[0mself\u001B[0m\u001B[0;34m.\u001B[0m\u001B[0mtolerance_Met\u001B[0m\u001B[0;34m(\u001B[0m\u001B[0;34m)\u001B[0m\u001B[0;34m\u001B[0m\u001B[0;34m\u001B[0m\u001B[0m\n\u001B[1;32m    349\u001B[0m             \u001B[0;32mif\u001B[0m \u001B[0mself\u001B[0m\u001B[0;34m.\u001B[0m\u001B[0mnumEvals\u001B[0m\u001B[0;34m>=\u001B[0m\u001B[0mself\u001B[0m\u001B[0;34m.\u001B[0m\u001B[0mmaxEvals\u001B[0m \u001B[0;32mor\u001B[0m \u001B[0mself\u001B[0m\u001B[0;34m.\u001B[0m\u001B[0mtimeOut\u001B[0m\u001B[0;34m<=\u001B[0m\u001B[0mtime\u001B[0m\u001B[0;34m.\u001B[0m\u001B[0mtime\u001B[0m\u001B[0;34m(\u001B[0m\u001B[0;34m)\u001B[0m\u001B[0;34m-\u001B[0m\u001B[0mt0\u001B[0m \u001B[0;32mor\u001B[0m \u001B[0mself\u001B[0m\u001B[0;34m.\u001B[0m\u001B[0mtolerance_Met\u001B[0m\u001B[0;34m(\u001B[0m\u001B[0;34m)\u001B[0m\u001B[0;34m:\u001B[0m\u001B[0;34m\u001B[0m\u001B[0;34m\u001B[0m\u001B[0m\n",
      "\u001B[0;32m~/Desktop/addHexapoleCombiner/storageRing/storageRingOptimization/asyncDE.py\u001B[0m in \u001B[0;36mupdate_Population\u001B[0;34m(self)\u001B[0m\n\u001B[1;32m    223\u001B[0m             \u001B[0mself\u001B[0m\u001B[0;34m.\u001B[0m\u001B[0masyncManager\u001B[0m\u001B[0;34m.\u001B[0m\u001B[0madd_Jobs\u001B[0m\u001B[0;34m(\u001B[0m\u001B[0mnewChild\u001B[0m\u001B[0;34m.\u001B[0m\u001B[0mgrow\u001B[0m\u001B[0;34m)\u001B[0m\u001B[0;34m\u001B[0m\u001B[0;34m\u001B[0m\u001B[0m\n\u001B[1;32m    224\u001B[0m     \u001B[0;32mdef\u001B[0m \u001B[0mupdate_Population\u001B[0m\u001B[0;34m(\u001B[0m\u001B[0mself\u001B[0m\u001B[0;34m)\u001B[0m\u001B[0;34m:\u001B[0m\u001B[0;34m\u001B[0m\u001B[0;34m\u001B[0m\u001B[0m\n\u001B[0;32m--> 225\u001B[0;31m         \u001B[0madultMember_Clone\u001B[0m\u001B[0;34m=\u001B[0m\u001B[0mself\u001B[0m\u001B[0;34m.\u001B[0m\u001B[0masyncManager\u001B[0m\u001B[0;34m.\u001B[0m\u001B[0mget_Job\u001B[0m\u001B[0;34m(\u001B[0m\u001B[0;34m)\u001B[0m \u001B[0;31m#pool returns a \"clone\"\u001B[0m\u001B[0;34m\u001B[0m\u001B[0;34m\u001B[0m\u001B[0m\n\u001B[0m\u001B[1;32m    226\u001B[0m         \u001B[0madultMember\u001B[0m\u001B[0;34m=\u001B[0m\u001B[0mself\u001B[0m\u001B[0;34m.\u001B[0m\u001B[0mpopulation\u001B[0m\u001B[0;34m.\u001B[0m\u001B[0mget_And_Update_Original_Member\u001B[0m\u001B[0;34m(\u001B[0m\u001B[0madultMember_Clone\u001B[0m\u001B[0;34m)\u001B[0m\u001B[0;34m\u001B[0m\u001B[0;34m\u001B[0m\u001B[0m\n\u001B[1;32m    227\u001B[0m         \u001B[0mself\u001B[0m\u001B[0;34m.\u001B[0m\u001B[0mpopulation\u001B[0m\u001B[0;34m.\u001B[0m\u001B[0madd_Adult\u001B[0m\u001B[0;34m(\u001B[0m\u001B[0madultMember\u001B[0m\u001B[0;34m)\u001B[0m\u001B[0;34m\u001B[0m\u001B[0;34m\u001B[0m\u001B[0m\n",
      "\u001B[0;32m~/Desktop/addHexapoleCombiner/storageRing/storageRingOptimization/asyncDE.py\u001B[0m in \u001B[0;36mget_Job\u001B[0;34m(self, wait)\u001B[0m\n\u001B[1;32m     30\u001B[0m         \u001B[0;32massert\u001B[0m \u001B[0mlen\u001B[0m\u001B[0;34m(\u001B[0m\u001B[0mself\u001B[0m\u001B[0;34m.\u001B[0m\u001B[0mjobs\u001B[0m\u001B[0;34m)\u001B[0m\u001B[0;34m>\u001B[0m\u001B[0;36m0\u001B[0m\u001B[0;34m\u001B[0m\u001B[0;34m\u001B[0m\u001B[0m\n\u001B[1;32m     31\u001B[0m         \u001B[0;32mwhile\u001B[0m\u001B[0;34m(\u001B[0m\u001B[0;32mTrue\u001B[0m\u001B[0;34m)\u001B[0m\u001B[0;34m:\u001B[0m\u001B[0;34m\u001B[0m\u001B[0;34m\u001B[0m\u001B[0m\n\u001B[0;32m---> 32\u001B[0;31m             \u001B[0mtime\u001B[0m\u001B[0;34m.\u001B[0m\u001B[0msleep\u001B[0m\u001B[0;34m(\u001B[0m\u001B[0mwait\u001B[0m\u001B[0;34m)\u001B[0m \u001B[0;31m#without this I would be ripping through the list\u001B[0m\u001B[0;34m\u001B[0m\u001B[0;34m\u001B[0m\u001B[0m\n\u001B[0m\u001B[1;32m     33\u001B[0m             \u001B[0mjob\u001B[0m\u001B[0;34m=\u001B[0m\u001B[0mself\u001B[0m\u001B[0;34m.\u001B[0m\u001B[0mjobs\u001B[0m\u001B[0;34m.\u001B[0m\u001B[0mpop\u001B[0m\u001B[0;34m(\u001B[0m\u001B[0;36m0\u001B[0m\u001B[0;34m)\u001B[0m\u001B[0;34m\u001B[0m\u001B[0;34m\u001B[0m\u001B[0m\n\u001B[1;32m     34\u001B[0m             \u001B[0;32mif\u001B[0m \u001B[0mjob\u001B[0m\u001B[0;34m.\u001B[0m\u001B[0mready\u001B[0m\u001B[0;34m(\u001B[0m\u001B[0;34m)\u001B[0m \u001B[0;34m==\u001B[0m \u001B[0;32mTrue\u001B[0m\u001B[0;34m:\u001B[0m  \u001B[0;31m# try first entry\u001B[0m\u001B[0;34m\u001B[0m\u001B[0;34m\u001B[0m\u001B[0m\n",
      "\u001B[0;31mKeyboardInterrupt\u001B[0m: "
     ]
    },
    {
     "name": "stderr",
     "output_type": "stream",
     "text": [
      "Process ForkPoolWorker-1252:\n",
      "Process ForkPoolWorker-1254:\n",
      "Traceback (most recent call last):\n",
      "Traceback (most recent call last):\n",
      "Traceback (most recent call last):\n",
      "Traceback (most recent call last):\n",
      "Traceback (most recent call last):\n"
     ]
    }
   ],
   "source": [
    "import multiprocess as mp\n",
    "from asyncDE import solve_Async\n",
    "def cost(knobParams):\n",
    "    optimizer.T=1.0\n",
    "    swarmCost,floorPlanCost=optimizer.mode_Match_Cost(knobParams,False,True,rejectIllegalFloorPlan=False,\n",
    "                                                  rejectUnstable=False,returnCostsSeperate=True)\n",
    "    return np.sqrt(swarmCost**2+floorPlanCost)\n",
    "# xArr=np.linspace(.5,1.5,20)\n",
    "# coords=np.asarray(np.meshgrid(xArr,xArr)).T.reshape(-1,2)\n",
    "#\n",
    "# t=time.time()\n",
    "# with mp.Pool() as pool:\n",
    "#     vals=np.asarray(pool.map(cost,coords,chunksize=4))\n",
    "# print(time.time()-t)\n",
    "solve_Async(cost,optimizer.tuningBounds,60,tol=.01)"
   ],
   "metadata": {
    "collapsed": false,
    "pycharm": {
     "name": "#%%\n"
    }
   }
  },
  {
   "cell_type": "code",
   "execution_count": 21,
   "outputs": [
    {
     "data": {
      "text/plain": "<Figure size 432x288 with 1 Axes>",
      "image/png": "[encoded data removed]"
     },
     "metadata": {
      "needs_background": "light"
     },
     "output_type": "display_data"
    },
    {
     "data": {
      "text/plain": "0.591839462973168"
     },
     "execution_count": 21,
     "metadata": {},
     "output_type": "execute_result"
    }
   ],
   "source": [
    "vals=np.asarray(vals)\n",
    "image=vals.reshape(len(xArr),len(xArr))\n",
    "plt.imshow(image)\n",
    "plt.show()\n",
    "np.min(image)"
   ],
   "metadata": {
    "collapsed": false,
    "pycharm": {
     "name": "#%%\n"
    }
   }
  },
  {
   "cell_type": "code",
   "execution_count": 24,
   "outputs": [
    {
     "data": {
      "text/plain": "[(0.0, inf), (0.0, inf), (0.01, 0.4), (0.01, 0.4)]"
     },
     "execution_count": 24,
     "metadata": {},
     "output_type": "execute_result"
    }
   ],
   "source": [
    "optimizer.tuningBounds"
   ],
   "metadata": {
    "collapsed": false,
    "pycharm": {
     "name": "#%%\n"
    }
   }
  },
  {
   "cell_type": "code",
   "execution_count": null,
   "outputs": [],
   "source": [],
   "metadata": {
    "collapsed": false,
    "pycharm": {
     "name": "#%%\n"
    }
   }
  }
 ],
 "metadata": {
  "kernelspec": {
   "display_name": "Python 3 (ipykernel)",
   "language": "python",
   "name": "python3"
  },
  "language_info": {
   "codemirror_mode": {
    "name": "ipython",
    "version": 3
   },
   "file_extension": ".py",
   "mimetype": "text/x-python",
   "name": "python",
   "nbconvert_exporter": "python",
   "pygments_lexer": "ipython3",
   "version": "3.9.5"
  },
  "nteract": {
   "version": "0.24.1"
  }
 },
 "nbformat": 4,
 "nbformat_minor": 4
}