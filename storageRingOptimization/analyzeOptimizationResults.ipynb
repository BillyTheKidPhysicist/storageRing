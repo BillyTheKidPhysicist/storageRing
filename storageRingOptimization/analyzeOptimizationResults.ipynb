{
 "cells": [
  {
   "cell_type": "markdown",
   "metadata": {
    "execution": {
     "iopub.execute_input": "2020-08-23T19:42:15.363Z",
     "iopub.status.busy": "2020-08-23T19:42:15.360Z",
     "iopub.status.idle": "2020-08-23T19:43:15.622Z",
     "shell.execute_reply": "2020-08-23T19:43:15.632Z"
    }
   },
   "source": [
    "Here I will try and prove that my model isn't working. First, I will run my optimizer 3 times to see if I get different results."
   ]
  },
  {
   "cell_type": "markdown",
   "metadata": {},
   "source": [
    "Now I will compare how the mode matching compares to actually tracing the particle. I will also inspect these swarms to see that they make sense.\n",
    "\n",
    "\n"
   ]
  },
  {
   "cell_type": "code",
   "execution_count": 1,
   "metadata": {},
   "outputs": [],
   "source": [
    "from latticeKnobOptimizer import LatticeOptimizer\n",
    "import dill\n",
    "import matplotlib.pyplot as plt\n",
    "from ParticleClass import Swarm,Particle\n",
    "from ParticleTracerLatticeClass import ParticleTracerLattice\n",
    "import numpy as np\n",
    "import time\n",
    "from SwarmTracerClass import SwarmTracer\n",
    "from optimizerHelperFunctions import generate_Ring_Lattice,generate_Injector_Lattice\n",
    "parallel=False\n",
    "\n",
    "# ----------Solution-----------\n",
    "# injector element spacing optimum configuration: [0.11652682 0.15987338]\n",
    "# storage ring tuned params 1 optimum configuration: [0.01735615 0.01862932 0.01045384 0.23310078]\n",
    "# storage ring tuned params 2 optimum configuration: [0.74855618 0.23266489]\n",
    "# cost: 0.7128687387339413\n",
    "# survival: 30.08483898135802\n",
    "\n",
    "XRing= [0.01735615 ,0.01862932 ,0.01045384 ,0.23310078]\n",
    "rpLens,rpLensFirst,Lm,LLens=XRing\n",
    "\n",
    "PTL_Ring=generate_Ring_Lattice(rpLens,rpLensFirst,Lm,LLens)\n",
    "PTL_Injector=generate_Injector_Lattice()\n",
    "\n",
    "XLatticeSpace= [0.74855618, 0.23266489]\n",
    "XInjectorSpace= [0.11652682 ,0.15987338]\n",
    "\n",
    "\n",
    "\n",
    "\n",
    "# file=open('ringFile','wb')\n",
    "# dill.dump(PTL_Ring,file)\n",
    "# file=open('ringFile','rb')\n",
    "# PTL_Ring=dill.load(file)\n",
    "\n",
    "\n",
    "\n",
    "optimizer=LatticeOptimizer(PTL_Ring,PTL_Injector)\n",
    "# optimizer.numParticlesRing=50000\n",
    "# optimizer.numParticlesInjector=1000\n",
    "elementIndices=(1,7)\n",
    "ringTuningBounds = [(.2, .8), (.2, .8)]\n",
    "injectorTuningBounds = [(.05, .4), (.05, .4)]\n",
    "optimizer.catch_Optimizer_Errors(ringTuningBounds, elementIndices, 'spacing')\n",
    "optimizer.initialize_Optimizer(elementIndices,'spacing',ringTuningBounds,injectorTuningBounds)\n",
    "optimizer.update_Ring_Lattice(XLatticeSpace)\n",
    "optimizer.update_Injector_Lattice(XInjectorSpace)\n",
    "\n",
    "# file=open('ringFile','wb')\n",
    "# dill.dump(PTL_Ring,file)\n",
    "\n"
   ]
  },
  {
   "cell_type": "code",
   "execution_count": 2,
   "outputs": [
    {
     "name": "stdout",
     "output_type": "stream",
     "text": [
      "298\n"
     ]
    },
    {
     "data": {
      "text/plain": "<Figure size 432x288 with 1 Axes>",
      "image/png": "[encoded data removed]"
     },
     "metadata": {
      "needs_background": "light"
     },
     "output_type": "display_data"
    }
   ],
   "source": [
    "#trace through injector\n",
    "fastMode=True\n",
    "h=5e-6\n",
    "swarm=optimizer.swarmInjectorInitial\n",
    "# swarm=Swarm()\n",
    "# swarm.add_Particle()\n",
    "swarmInjectorTraced = optimizer.swarmTracerInjector.trace_Swarm_Through_Lattice(\n",
    "    swarm\n",
    "    , h, 1.0, parallel=False,\n",
    "    fastMode=fastMode, copySwarm=True,\n",
    "    accelerated=True)\n",
    "print(swarmInjectorTraced.num_Particles())\n",
    "swarmEnd = optimizer.move_Survived_Particles_In_Injector_Swarm_To_Origin(swarmInjectorTraced, copyParticles=False)\n",
    "# print(swarmEnd.num_Particles())\n",
    "swarmRingInitial = optimizer.swarmTracerRing.move_Swarm_To_Combiner_Output(swarmEnd, copySwarm=False,scoot=True)\n",
    "optimizer.latticeRing.show_Lattice(swarm=swarmRingInitial,trueAspectRatio=True,showTraceLines=True,traceLineAlpha=.25,showMarkers=True,finalCoords=False,showRelativeSurvival=False) #careful about which swarm!"
   ],
   "metadata": {
    "collapsed": false,
    "pycharm": {
     "name": "#%%\n"
    }
   }
  },
  {
   "cell_type": "code",
   "execution_count": 3,
   "outputs": [],
   "source": [
    "#trace through lattice\n",
    "import multiprocess as mp\n",
    "def params(T):\n",
    "    fastMode=True\n",
    "    optimizer.T=T\n",
    "    swarmTraced = optimizer.swarmTracerRing.trace_Swarm_Through_Lattice(swarmRingInitial, optimizer.h, optimizer.T, parallel=False,\n",
    "                                                                        fastMode=fastMode, accelerated=True, copySwarm=True)\n",
    "    # PTL_Ring.show_Lattice(swarm=swarmTraced,showMarkers=False,showTraceLines=True,traceLineAlpha=.5)\n",
    "    return swarmTraced.weighted_Flux_Multiplication(),optimizer.maximum_Weighted_Flux_Multiplication()\n",
    "TArr=np.logspace(np.log10(1),np.log10(100),30)\n",
    "# with mp.Pool(10) as pool:\n",
    "#     results=np.asarray(pool.map(params,TArr))"
   ],
   "metadata": {
    "collapsed": false,
    "pycharm": {
     "name": "#%%\n"
    }
   }
  },
  {
   "cell_type": "code",
   "execution_count": 4,
   "outputs": [],
   "source": [
    "# flux=results[:,0]\n",
    "# fluxMax=results[:,1]\n",
    "# plt.scatter(TArr,flux/fluxMax)\n",
    "# plt.show()\n",
    "# plt.scatter(TArr,flux)\n",
    "# plt.show()"
   ],
   "metadata": {
    "collapsed": false,
    "pycharm": {
     "name": "#%%\n"
    }
   }
  },
  {
   "cell_type": "markdown",
   "source": [
    "# look at energy conservation"
   ],
   "metadata": {
    "collapsed": false,
    "pycharm": {
     "name": "#%% md\n"
    }
   }
  },
  {
   "cell_type": "code",
   "execution_count": 11,
   "outputs": [
    {
     "name": "stdout",
     "output_type": "stream",
     "text": [
      "120.75061082839966\n"
     ]
    }
   ],
   "source": [
    "swarmETest=Swarm()\n",
    "swarmETest.particles=swarmRingInitial.particles[:11]\n",
    "def trace_ETest_Swarm(T):\n",
    "    optimizer.T=T\n",
    "    swarmTraced = optimizer.swarmTracerRing.trace_Swarm_Through_Lattice(swarmETest, optimizer.h, optimizer.T, parallel=True,\n",
    "                                                                    fastMode=False, accelerated=True, copySwarm=True)\n",
    "    return swarmTraced\n",
    "t=time.time()\n",
    "swarmTraced=trace_ETest_Swarm(10)\n",
    "print(time.time()-t)"
   ],
   "metadata": {
    "collapsed": false,
    "pycharm": {
     "name": "#%%\n"
    }
   }
  },
  {
   "cell_type": "code",
   "execution_count": 24,
   "outputs": [],
   "source": [
    "%matplotlib tk\n",
    "# for particle in swarmTraced:\n",
    "#     particle.plot_Energies()\n",
    "# swarmTraced.particles[5].plot_Energies()\n",
    "# swarmTraced.particles[5].plot_Orbit_Reference_Frame_Position(plotYAxis='z')\n",
    "p0Arr=swarmTraced.particles[5].p0Arr\n",
    "plt.plot(p0Arr)\n",
    "plt.show()"
   ],
   "metadata": {
    "collapsed": false,
    "pycharm": {
     "name": "#%%\n"
    }
   }
  },
  {
   "cell_type": "code",
   "execution_count": 5,
   "outputs": [],
   "source": [],
   "metadata": {
    "collapsed": false,
    "pycharm": {
     "name": "#%%\n"
    }
   }
  },
  {
   "cell_type": "code",
   "execution_count": 5,
   "outputs": [],
   "source": [],
   "metadata": {
    "collapsed": false,
    "pycharm": {
     "name": "#%%\n"
    }
   }
  }
 ],
 "metadata": {
  "kernelspec": {
   "display_name": "Python 3 (ipykernel)",
   "language": "python",
   "name": "python3"
  },
  "language_info": {
   "codemirror_mode": {
    "name": "ipython",
    "version": 3
   },
   "file_extension": ".py",
   "mimetype": "text/x-python",
   "name": "python",
   "nbconvert_exporter": "python",
   "pygments_lexer": "ipython3",
   "version": "3.9.5"
  },
  "nteract": {
   "version": "0.24.1"
  }
 },
 "nbformat": 4,
 "nbformat_minor": 4
}