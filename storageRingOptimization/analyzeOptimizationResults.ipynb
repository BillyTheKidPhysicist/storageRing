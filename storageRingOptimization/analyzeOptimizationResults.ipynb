{
 "cells": [
  {
   "cell_type": "markdown",
   "metadata": {
    "execution": {
     "iopub.execute_input": "2020-08-23T19:42:15.363Z",
     "iopub.status.busy": "2020-08-23T19:42:15.360Z",
     "iopub.status.idle": "2020-08-23T19:43:15.622Z",
     "shell.execute_reply": "2020-08-23T19:43:15.632Z"
    }
   },
   "source": [
    "Here I will try and prove that my model isn't working. First, I will run my optimizer 3 times to see if I get different results."
   ]
  },
  {
   "cell_type": "markdown",
   "metadata": {},
   "source": [
    "Now I will compare how the mode matching compares to actually tracing the particle. I will also inspect these swarms to see that they make sense.\n",
    "\n",
    "\n"
   ]
  },
  {
   "cell_type": "code",
   "execution_count": 1,
   "metadata": {},
   "outputs": [],
   "source": [
    "from latticeKnobOptimizer import LatticeOptimizer\n",
    "import dill\n",
    "import matplotlib.pyplot as plt\n",
    "from ParticleClass import Swarm,Particle\n",
    "from ParticleTracerLatticeClass import ParticleTracerLattice\n",
    "import numpy as np\n",
    "import time\n",
    "from SwarmTracerClass import SwarmTracer\n",
    "from runOptimizer import generate_Ring_Lattice,generate_Injector_Lattice\n",
    "parallel=False\n",
    "\n",
    "\n",
    "XTune1= [0.01081848, 0.01021685, 0.02     ,  0.01834457 ,0.30497962, 0.51553632 ,0.65781728]\n",
    "\n",
    "rpBend,rpLens,rpLensFirst,Lm,LLens,injectorFactor,rpInjectorFactor=XTune1\n",
    "XInjector=injectorFactor,rpInjectorFactor\n",
    "XRing=rpLens,Lm,LLens\n",
    "PTL_Ring=generate_Ring_Lattice(rpBend,rpLens,rpLensFirst,Lm,LLens,parallel=parallel)\n",
    "PTL_Injector=generate_Injector_Lattice(injectorFactor,rpInjectorFactor,parallel=parallel)\n",
    "\n",
    "XLatticeSpace= [0.622153   ,0.68697404]\n",
    "XInjectorSpace= [0.23908808 ,0.11975553]\n",
    "\n",
    "\n",
    "\n",
    "\n",
    "# file=open('ringFile','wb')\n",
    "# dill.dump(PTL_Ring,file)\n",
    "# file=open('ringFile','rb')\n",
    "# PTL_Ring=dill.load(file)\n",
    "\n",
    "\n",
    "\n",
    "optimizer=LatticeOptimizer(PTL_Ring,PTL_Injector)\n",
    "# optimizer.numParticlesRing=50000\n",
    "# optimizer.numParticlesInjector=1000\n",
    "elementIndices=(1,7)\n",
    "ringTuningBounds = [(.2, .8), (.2, .8)]\n",
    "injectorTuningBounds = [(.05, .4), (.05, .4)]\n",
    "optimizer.catch_Optimizer_Errors(ringTuningBounds, elementIndices, 'spacing')\n",
    "optimizer.initialize_Optimizer(elementIndices,'spacing',ringTuningBounds,injectorTuningBounds)\n",
    "optimizer.update_Ring_Lattice(XLatticeSpace)\n",
    "optimizer.update_Injector_Lattice(XInjectorSpace)\n",
    "\n",
    "# file=open('ringFile','wb')\n",
    "# dill.dump(PTL_Ring,file)\n",
    "\n"
   ]
  },
  {
   "cell_type": "code",
   "execution_count": 8,
   "outputs": [],
   "source": [
    "#trace through injector\n",
    "fastMode=True\n",
    "h=5e-6\n",
    "swarmTest=Swarm()\n",
    "swarmTest.add_Particle()\n",
    "swarmInjectorTraced = optimizer.swarmTracerInjector.trace_Swarm_Through_Lattice(\n",
    "    swarmTest.quick_Copy()\n",
    "    , h, 1.0, parallel=False,\n",
    "    fastMode=fastMode, copySwarm=False,\n",
    "    accelerated=True)\n",
    "# print(swarmInjectorTraced.num_Particles())\n",
    "swarmEnd = optimizer.move_Survived_Particles_In_Injector_Swarm_To_Origin(swarmInjectorTraced, copyParticles=False)\n",
    "# print(swarmEnd.num_Particles())\n",
    "swarmRingInitial = optimizer.swarmTracerRing.move_Swarm_To_Combiner_Output(swarmEnd, copySwarm=False,scoot=True)\n",
    "# optimizer.latticeInjector.show_Lattice(swarm=swarmInjectorTraced,trueAspectRatio=False,showTraceLines=True,traceLineAlpha=.25,showMarkers=True,finalCoords=False)"
   ],
   "metadata": {
    "collapsed": false,
    "pycharm": {
     "name": "#%%\n"
    }
   }
  },
  {
   "cell_type": "code",
   "execution_count": 9,
   "outputs": [
    {
     "name": "stdout",
     "output_type": "stream",
     "text": [
      "1.0\n"
     ]
    }
   ],
   "source": [
    "#trace through lattice\n",
    "fastMode=False\n",
    "%matplotlib tk\n",
    "T=1/200\n",
    "swarmTraced = optimizer.swarmTracerRing.trace_Swarm_Through_Lattice(swarmRingInitial, optimizer.h, T, parallel=False,\n",
    "                                                                    fastMode=fastMode, accelerated=True, copySwarm=True)\n",
    "PTL_Ring.show_Lattice(swarm=swarmTraced,showMarkers=False,showTraceLines=True,traceLineAlpha=.5)\n",
    "print(swarmTraced.survival_Bool())"
   ],
   "metadata": {
    "collapsed": false,
    "pycharm": {
     "name": "#%%\n"
    }
   }
  },
  {
   "cell_type": "code",
   "execution_count": null,
   "metadata": {},
   "outputs": [],
   "source": []
  },
  {
   "cell_type": "code",
   "execution_count": null,
   "metadata": {},
   "outputs": [],
   "source": []
  },
  {
   "cell_type": "code",
   "execution_count": null,
   "metadata": {},
   "outputs": [],
   "source": []
  },
  {
   "cell_type": "code",
   "execution_count": null,
   "metadata": {},
   "outputs": [],
   "source": []
  },
  {
   "cell_type": "code",
   "execution_count": null,
   "metadata": {},
   "outputs": [],
   "source": []
  }
 ],
 "metadata": {
  "kernelspec": {
   "display_name": "Python 3 (ipykernel)",
   "language": "python",
   "name": "python3"
  },
  "language_info": {
   "codemirror_mode": {
    "name": "ipython",
    "version": 3
   },
   "file_extension": ".py",
   "mimetype": "text/x-python",
   "name": "python",
   "nbconvert_exporter": "python",
   "pygments_lexer": "ipython3",
   "version": "3.9.5"
  },
  "nteract": {
   "version": "0.24.1"
  }
 },
 "nbformat": 4,
 "nbformat_minor": 4
}