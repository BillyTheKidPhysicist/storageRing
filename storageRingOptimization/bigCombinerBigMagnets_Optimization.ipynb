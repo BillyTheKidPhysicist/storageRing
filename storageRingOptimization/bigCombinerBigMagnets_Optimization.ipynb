{
 "cells": [
  {
   "cell_type": "markdown",
   "metadata": {},
   "source": [
    "best: .42,.11 at -69. This is with modulating lens 0 and 2"
   ]
  },
  {
   "cell_type": "code",
   "execution_count": 1,
   "metadata": {},
   "outputs": [],
   "source": [
    "import skopt\n",
    "from bigCombinerBigMagnets import *"
   ]
  },
  {
   "cell_type": "code",
   "execution_count": 2,
   "metadata": {},
   "outputs": [
    {
     "name": "stdout",
     "output_type": "stream",
     "text": [
      "injector bounds\n",
      "[(0.1, 0.25), (0.992133270853314, 1.992133270853314), (-0.2973777569511047, 0.2973777569511047)]\n",
      "generating monte carlo bounds\n",
      "done generating monte carlo bounds\n",
      "bounds [(0, 50), (0, 50)]\n",
      "starting\n",
      "0\n",
      "[16, 12]\n",
      "stable\n",
      "[0.16, 0.12]\n",
      "start lattice tracing\n",
      "1.1839198721948732 500.38344272052694\n",
      "done lattice tracing 447.1272819042206\n",
      "start mode match\n"
     ]
    },
    {
     "name": "stderr",
     "output_type": "stream",
     "text": [
      "/home/billy/.local/lib/python3.8/site-packages/scipy/optimize/_differentialevolution.py:495: UserWarning: differential_evolution: the 'workers' keyword has overridden updating='immediate' to updating='deferred'\n",
      "  warnings.warn(\"differential_evolution: the 'workers' keyword has\"\n"
     ]
    },
    {
     "name": "stdout",
     "output_type": "stream",
     "text": [
      "differential_evolution step 1: f(x)= -3.69661\n",
      "differential_evolution step 2: f(x)= -3.71537\n",
      "differential_evolution step 3: f(x)= -3.71537\n",
      "differential_evolution step 4: f(x)= -3.73639\n",
      "differential_evolution step 5: f(x)= -3.73702\n",
      "differential_evolution step 6: f(x)= -3.73767\n",
      "optimal injector args: [ 0.19370762  0.99654635 -0.26213464]\n",
      "done mode match 325.20230197906494\n",
      "survival 3.7376700265791034\n",
      "cost -0.0074753400531582075\n",
      "1\n",
      "[28, 22]\n",
      "1\n",
      "[34, 41]\n",
      "1\n",
      "[45, 9]\n",
      "stable\n",
      "[0.45, 0.09]\n",
      "start lattice tracing\n",
      "3.555381064909724 501.6395259069936\n",
      "done lattice tracing 1171.5136322975159\n",
      "start mode match\n",
      "differential_evolution step 1: f(x)= -15.9652\n",
      "differential_evolution step 2: f(x)= -16.0213\n",
      "differential_evolution step 3: f(x)= -16.0598\n",
      "differential_evolution step 4: f(x)= -16.079\n",
      "differential_evolution step 5: f(x)= -16.2313\n",
      "optimal injector args: [ 0.22843693  0.99540172 -0.21296505]\n",
      "done mode match 264.22591185569763\n",
      "survival 16.2312689644174\n",
      "cost -0.0324625379288348\n",
      "2\n",
      "[31, 17]\n",
      "2\n",
      "[17, 42]\n",
      "2\n",
      "[11, 20]\n",
      "2\n",
      "[21, 12]\n",
      "stable\n",
      "[0.21, 0.12]\n",
      "start lattice tracing\n",
      "2.2693938737532373 501.60249966128094\n",
      "done lattice tracing 773.3429174423218\n",
      "start mode match\n",
      "differential_evolution step 1: f(x)= -7.07132\n",
      "differential_evolution step 2: f(x)= -7.38284\n",
      "differential_evolution step 3: f(x)= -7.39282\n",
      "differential_evolution step 4: f(x)= -7.45021\n",
      "differential_evolution step 5: f(x)= -7.55256\n",
      "optimal injector args: [ 0.22485087  1.05588702 -0.27151237]\n",
      "done mode match 282.9635753631592\n",
      "survival 7.5525630753547475\n",
      "cost -0.015105126150709493\n",
      "3\n",
      "[48, 21]\n",
      "stable\n",
      "[0.48, 0.21]\n",
      "start lattice tracing\n",
      "0.5997086272706775 153.00023948702176\n",
      "done lattice tracing 212.4039170742035\n",
      "start mode match\n",
      "differential_evolution step 1: f(x)= -1.92768\n",
      "differential_evolution step 2: f(x)= -2.01775\n",
      "differential_evolution step 3: f(x)= -2.02903\n",
      "differential_evolution step 4: f(x)= -2.02903\n",
      "optimal injector args: [ 0.2437881   1.06134338 -0.19355795]\n",
      "done mode match 242.40395975112915\n",
      "survival 2.0290277917774167\n",
      "cost -0.0040580555835548334\n",
      "4\n",
      "[22, 27]\n",
      "4\n",
      "[22, 20]\n",
      "4\n",
      "[35, 23]\n",
      "4\n",
      "[41, 20]\n",
      "4\n",
      "[21, 1]\n",
      "4\n",
      "[7, 33]\n",
      "4\n",
      "[6, 28]\n",
      "4\n",
      "[43, 39]\n",
      "stable\n",
      "[0.43, 0.39]\n",
      "start lattice tracing\n",
      "0.33220632781317505 48.999881668401734\n",
      "done lattice tracing 119.333491563797\n",
      "start mode match\n"
     ]
    },
    {
     "name": "stderr",
     "output_type": "stream",
     "text": [
      "/home/billy/.local/lib/python3.8/site-packages/scipy/optimize/_differentialevolution.py:495: UserWarning: differential_evolution: the 'workers' keyword has overridden updating='immediate' to updating='deferred'\n",
      "  warnings.warn(\"differential_evolution: the 'workers' keyword has\"\n"
     ]
    },
    {
     "name": "stdout",
     "output_type": "stream",
     "text": [
      "differential_evolution step 1: f(x)= -0.86715\n",
      "differential_evolution step 2: f(x)= -0.885036\n",
      "differential_evolution step 3: f(x)= -0.888369\n",
      "differential_evolution step 4: f(x)= -0.888564\n",
      "optimal injector args: [ 0.20414841  1.00849864 -0.18301   ]\n",
      "done mode match 231.00183415412903\n",
      "survival 0.8885639010320956\n",
      "cost -0.0017771278020641914\n",
      "5\n",
      "[38, 6]\n",
      "stable\n",
      "[0.38, 0.06]\n",
      "start lattice tracing\n",
      "1.1814986527204392 202.92066569019192\n",
      "done lattice tracing 419.26165103912354\n",
      "start mode match\n"
     ]
    },
    {
     "name": "stderr",
     "output_type": "stream",
     "text": [
      "/home/billy/.local/lib/python3.8/site-packages/scipy/optimize/_differentialevolution.py:495: UserWarning: differential_evolution: the 'workers' keyword has overridden updating='immediate' to updating='deferred'\n",
      "  warnings.warn(\"differential_evolution: the 'workers' keyword has\"\n"
     ]
    },
    {
     "name": "stdout",
     "output_type": "stream",
     "text": [
      "differential_evolution step 1: f(x)= -3.8832\n",
      "differential_evolution step 2: f(x)= -4.06247\n",
      "differential_evolution step 3: f(x)= -4.0627\n",
      "differential_evolution step 4: f(x)= -4.09467\n",
      "differential_evolution step 5: f(x)= -4.09988\n",
      "differential_evolution step 6: f(x)= -4.10404\n",
      "differential_evolution step 7: f(x)= -4.10406\n",
      "differential_evolution step 8: f(x)= -4.10406\n",
      "differential_evolution step 9: f(x)= -4.10419\n",
      "differential_evolution step 10: f(x)= -4.10501\n",
      "optimal injector args: [ 0.24841265  0.9959843  -0.06696261]\n",
      "done mode match 333.6152832508087\n",
      "survival 4.10500915815011\n",
      "cost -0.008210018316300222\n",
      "6\n",
      "[11, 11]\n",
      "stable\n",
      "[0.11, 0.11]\n",
      "start lattice tracing\n",
      "0.8467547571860597 230.9999716710521\n",
      "done lattice tracing 155.97124409675598\n",
      "start mode match\n"
     ]
    },
    {
     "name": "stderr",
     "output_type": "stream",
     "text": [
      "/home/billy/.local/lib/python3.8/site-packages/scipy/optimize/_differentialevolution.py:495: UserWarning: differential_evolution: the 'workers' keyword has overridden updating='immediate' to updating='deferred'\n",
      "  warnings.warn(\"differential_evolution: the 'workers' keyword has\"\n"
     ]
    },
    {
     "name": "stdout",
     "output_type": "stream",
     "text": [
      "differential_evolution step 1: f(x)= -2.03797\n",
      "differential_evolution step 2: f(x)= -2.04193\n",
      "differential_evolution step 3: f(x)= -2.04794\n",
      "differential_evolution step 4: f(x)= -2.05184\n",
      "optimal injector args: [ 0.21250289  1.325412   -0.20260925]\n",
      "done mode match 116.60818314552307\n",
      "survival 2.0518430561166627\n",
      "cost -0.004103686112233326\n",
      "7\n",
      "[18, 19]\n",
      "7\n",
      "[48, 13]\n",
      "stable\n",
      "[0.48, 0.13]\n",
      "start lattice tracing\n",
      "6.149959782948799 505.56360608147327\n",
      "done lattice tracing 1053.3379373550415\n",
      "start mode match\n"
     ]
    },
    {
     "name": "stderr",
     "output_type": "stream",
     "text": [
      "/home/billy/.local/lib/python3.8/site-packages/scipy/optimize/_differentialevolution.py:495: UserWarning: differential_evolution: the 'workers' keyword has overridden updating='immediate' to updating='deferred'\n",
      "  warnings.warn(\"differential_evolution: the 'workers' keyword has\"\n"
     ]
    },
    {
     "name": "stdout",
     "output_type": "stream",
     "text": [
      "differential_evolution step 1: f(x)= -36.3305\n",
      "differential_evolution step 2: f(x)= -36.8\n",
      "differential_evolution step 3: f(x)= -37.045\n",
      "differential_evolution step 4: f(x)= -37.0717\n",
      "optimal injector args: [ 0.17261635  1.02249781 -0.19782121]\n",
      "done mode match 116.15247011184692\n",
      "survival 37.07169474584398\n",
      "cost -0.07414338949168796\n",
      "8\n",
      "[8, 0]\n",
      "8\n",
      "[38, 27]\n",
      "8\n",
      "[7, 49]\n",
      "8\n",
      "[44, 26]\n",
      "stable\n",
      "[0.44, 0.26]\n",
      "start lattice tracing\n",
      "0.4178579300839859 59.53104842889476\n",
      "done lattice tracing 79.18929481506348\n",
      "start mode match\n"
     ]
    },
    {
     "name": "stderr",
     "output_type": "stream",
     "text": [
      "/home/billy/.local/lib/python3.8/site-packages/scipy/optimize/_differentialevolution.py:495: UserWarning: differential_evolution: the 'workers' keyword has overridden updating='immediate' to updating='deferred'\n",
      "  warnings.warn(\"differential_evolution: the 'workers' keyword has\"\n"
     ]
    },
    {
     "name": "stdout",
     "output_type": "stream",
     "text": [
      "differential_evolution step 1: f(x)= -1.03879\n",
      "differential_evolution step 2: f(x)= -1.10985\n",
      "differential_evolution step 3: f(x)= -1.14034\n",
      "differential_evolution step 4: f(x)= -1.14034\n",
      "differential_evolution step 5: f(x)= -1.14069\n",
      "optimal injector args: [ 0.20771285  1.01851744 -0.18458187]\n",
      "done mode match 139.82188034057617\n",
      "survival 1.140690993155191\n",
      "cost -0.002281381986310382\n",
      "9\n",
      "[15, 26]\n",
      "9\n",
      "[40, 11]\n",
      "stable\n",
      "[0.4, 0.11]\n",
      "start lattice tracing\n",
      "12.131802040089982 503.7068260907237\n",
      "done lattice tracing 2055.233433485031\n",
      "start mode match\n"
     ]
    },
    {
     "name": "stderr",
     "output_type": "stream",
     "text": [
      "/home/billy/.local/lib/python3.8/site-packages/scipy/optimize/_differentialevolution.py:495: UserWarning: differential_evolution: the 'workers' keyword has overridden updating='immediate' to updating='deferred'\n",
      "  warnings.warn(\"differential_evolution: the 'workers' keyword has\"\n"
     ]
    },
    {
     "name": "stdout",
     "output_type": "stream",
     "text": [
      "differential_evolution step 1: f(x)= -69.153\n",
      "differential_evolution step 2: f(x)= -69.5009\n",
      "differential_evolution step 3: f(x)= -69.6596\n",
      "differential_evolution step 4: f(x)= -69.8498\n",
      "optimal injector args: [ 0.21543867  1.00617873 -0.14597712]\n",
      "done mode match 116.39823842048645\n",
      "survival 69.84975325033643\n",
      "cost -0.1396995065006729\n",
      "10\n",
      "[14, 16]\n",
      "10\n",
      "[46, 44]\n",
      "stable\n",
      "[0.46, 0.44]\n",
      "start lattice tracing\n",
      "0.3589135537528294 84.98413587591878\n",
      "done lattice tracing 75.47465133666992\n",
      "start mode match\n"
     ]
    },
    {
     "name": "stderr",
     "output_type": "stream",
     "text": [
      "/home/billy/.local/lib/python3.8/site-packages/scipy/optimize/_differentialevolution.py:495: UserWarning: differential_evolution: the 'workers' keyword has overridden updating='immediate' to updating='deferred'\n",
      "  warnings.warn(\"differential_evolution: the 'workers' keyword has\"\n"
     ]
    },
    {
     "name": "stdout",
     "output_type": "stream",
     "text": [
      "differential_evolution step 1: f(x)= -0.876152\n",
      "differential_evolution step 2: f(x)= -0.896442\n",
      "differential_evolution step 3: f(x)= -0.898716\n",
      "differential_evolution step 4: f(x)= -0.902265\n",
      "differential_evolution step 5: f(x)= -0.902265\n",
      "differential_evolution step 6: f(x)= -0.902265\n",
      "optimal injector args: [ 0.18734385  1.04248143 -0.28093993]\n",
      "done mode match 162.8922393321991\n",
      "survival 0.9022649265831963\n",
      "cost -0.001804529853166393\n",
      "11\n",
      "[26, 15]\n",
      "11\n",
      "[28, 1]\n",
      "11\n",
      "[27, 27]\n",
      "11\n",
      "[21, 33]\n",
      "11\n",
      "[0, 3]\n",
      "11\n",
      "[22, 6]\n",
      "11\n",
      "[32, 13]\n",
      "stable\n",
      "[0.32, 0.13]\n",
      "start lattice tracing\n",
      "5.84949356931386 502.68798184859344\n",
      "done lattice tracing 1022.5849525928497\n",
      "start mode match\n"
     ]
    },
    {
     "name": "stderr",
     "output_type": "stream",
     "text": [
      "/home/billy/.local/lib/python3.8/site-packages/scipy/optimize/_differentialevolution.py:495: UserWarning: differential_evolution: the 'workers' keyword has overridden updating='immediate' to updating='deferred'\n",
      "  warnings.warn(\"differential_evolution: the 'workers' keyword has\"\n"
     ]
    },
    {
     "name": "stdout",
     "output_type": "stream",
     "text": [
      "differential_evolution step 1: f(x)= -26.5323\n",
      "differential_evolution step 2: f(x)= -26.6681\n",
      "differential_evolution step 3: f(x)= -26.6924\n",
      "differential_evolution step 4: f(x)= -26.7111\n",
      "optimal injector args: [ 0.18147858  1.07784598 -0.2670417 ]\n",
      "done mode match 116.58147883415222\n",
      "survival 26.711075972900144\n",
      "cost -0.05342215194580029\n",
      "12\n",
      "[33, 8]\n",
      "stable\n",
      "[0.33, 0.08]\n",
      "start lattice tracing\n",
      "3.7125386200255335 500.3602585006698\n",
      "done lattice tracing 661.0202176570892\n",
      "start mode match\n"
     ]
    },
    {
     "name": "stderr",
     "output_type": "stream",
     "text": [
      "/home/billy/.local/lib/python3.8/site-packages/scipy/optimize/_differentialevolution.py:495: UserWarning: differential_evolution: the 'workers' keyword has overridden updating='immediate' to updating='deferred'\n",
      "  warnings.warn(\"differential_evolution: the 'workers' keyword has\"\n"
     ]
    },
    {
     "name": "stdout",
     "output_type": "stream",
     "text": [
      "differential_evolution step 1: f(x)= -17.8536\n",
      "differential_evolution step 2: f(x)= -17.8536\n",
      "differential_evolution step 3: f(x)= -18.23\n",
      "differential_evolution step 4: f(x)= -18.23\n",
      "differential_evolution step 5: f(x)= -18.3037\n",
      "optimal injector args: [ 0.18398046  0.99687014 -0.1849418 ]\n",
      "done mode match 140.27761507034302\n",
      "survival 18.30366205934132\n",
      "cost -0.03660732411868264\n",
      "13\n",
      "[8, 44]\n",
      "13\n",
      "[2, 7]\n",
      "13\n",
      "[49, 6]\n",
      "13\n",
      "[4, 12]\n",
      "stable\n",
      "[0.04, 0.12]\n",
      "start lattice tracing\n",
      "0.7481012042147743 169.00048318431323\n",
      "done lattice tracing 134.30745029449463\n",
      "start mode match\n"
     ]
    },
    {
     "name": "stderr",
     "output_type": "stream",
     "text": [
      "/home/billy/.local/lib/python3.8/site-packages/scipy/optimize/_differentialevolution.py:495: UserWarning: differential_evolution: the 'workers' keyword has overridden updating='immediate' to updating='deferred'\n",
      "  warnings.warn(\"differential_evolution: the 'workers' keyword has\"\n"
     ]
    },
    {
     "name": "stdout",
     "output_type": "stream",
     "text": [
      "differential_evolution step 1: f(x)= -1.59686\n",
      "differential_evolution step 2: f(x)= -1.65001\n",
      "differential_evolution step 3: f(x)= -1.66397\n",
      "differential_evolution step 4: f(x)= -1.67565\n",
      "differential_evolution step 5: f(x)= -1.6764\n",
      "optimal injector args: [ 0.22813301  1.46436973 -0.26263348]\n",
      "done mode match 138.23822951316833\n",
      "survival 1.676401659520457\n",
      "cost -0.0033528033190409145\n",
      "14\n",
      "[12, 38]\n",
      "14\n",
      "[0, 41]\n",
      "14\n",
      "[0, 32]\n",
      "14\n",
      "[37, 49]\n",
      "stable\n",
      "[0.37, 0.49]\n",
      "start lattice tracing\n",
      "0.4255136393832619 42.999903393523745\n",
      "done lattice tracing 80.14456725120544\n",
      "start mode match\n"
     ]
    },
    {
     "name": "stderr",
     "output_type": "stream",
     "text": [
      "/home/billy/.local/lib/python3.8/site-packages/scipy/optimize/_differentialevolution.py:495: UserWarning: differential_evolution: the 'workers' keyword has overridden updating='immediate' to updating='deferred'\n",
      "  warnings.warn(\"differential_evolution: the 'workers' keyword has\"\n"
     ]
    },
    {
     "name": "stdout",
     "output_type": "stream",
     "text": [
      "differential_evolution step 1: f(x)= -0.996257\n",
      "differential_evolution step 2: f(x)= -1.00259\n",
      "differential_evolution step 3: f(x)= -1.00606\n",
      "differential_evolution step 4: f(x)= -1.00796\n",
      "differential_evolution step 5: f(x)= -1.00796\n",
      "optimal injector args: [ 0.2351795   1.01836843 -0.24352986]\n",
      "done mode match 139.19241285324097\n",
      "survival 1.007964695420945\n",
      "cost -0.00201592939084189\n",
      "15\n",
      "[42, 11]\n",
      "stable\n",
      "[0.42, 0.11]\n",
      "start lattice tracing\n",
      "12.633107320761116 503.7644296000723\n",
      "done lattice tracing 2140.9309492111206\n",
      "start mode match\n"
     ]
    },
    {
     "name": "stderr",
     "output_type": "stream",
     "text": [
      "/home/billy/.local/lib/python3.8/site-packages/scipy/optimize/_differentialevolution.py:495: UserWarning: differential_evolution: the 'workers' keyword has overridden updating='immediate' to updating='deferred'\n",
      "  warnings.warn(\"differential_evolution: the 'workers' keyword has\"\n"
     ]
    },
    {
     "name": "stdout",
     "output_type": "stream",
     "text": [
      "differential_evolution step 1: f(x)= -68.9986\n",
      "differential_evolution step 2: f(x)= -69.3333\n",
      "differential_evolution step 3: f(x)= -69.3333\n",
      "optimal injector args: [ 0.23695755  1.1091149  -0.16968147]\n",
      "done mode match 93.69436073303223\n",
      "survival 69.33330551690513\n",
      "cost -0.13866661103381028\n",
      "16\n",
      "[41, 12]\n",
      "stable\n",
      "[0.41, 0.12]\n",
      "start lattice tracing\n",
      "10.662656422393031 504.36265644071676\n",
      "done lattice tracing 1803.4750752449036\n",
      "start mode match\n"
     ]
    },
    {
     "name": "stderr",
     "output_type": "stream",
     "text": [
      "/home/billy/.local/lib/python3.8/site-packages/scipy/optimize/_differentialevolution.py:495: UserWarning: differential_evolution: the 'workers' keyword has overridden updating='immediate' to updating='deferred'\n",
      "  warnings.warn(\"differential_evolution: the 'workers' keyword has\"\n"
     ]
    },
    {
     "name": "stdout",
     "output_type": "stream",
     "text": [
      "differential_evolution step 1: f(x)= -58.5281\n",
      "differential_evolution step 2: f(x)= -59.7709\n",
      "differential_evolution step 3: f(x)= -59.7709\n",
      "differential_evolution step 4: f(x)= -59.9166\n",
      "optimal injector args: [ 0.24521598  1.10922867 -0.22035436]\n",
      "done mode match 116.55805206298828\n",
      "survival 59.916550533906225\n",
      "cost -0.11983310106781246\n",
      "17\n",
      "[37, 11]\n",
      "stable\n",
      "[0.37, 0.11]\n",
      "start lattice tracing\n",
      "11.828394087426398 503.67896870442553\n",
      "done lattice tracing 2012.4583559036255\n",
      "start mode match\n"
     ]
    },
    {
     "name": "stderr",
     "output_type": "stream",
     "text": [
      "/home/billy/.local/lib/python3.8/site-packages/scipy/optimize/_differentialevolution.py:495: UserWarning: differential_evolution: the 'workers' keyword has overridden updating='immediate' to updating='deferred'\n",
      "  warnings.warn(\"differential_evolution: the 'workers' keyword has\"\n"
     ]
    },
    {
     "name": "stdout",
     "output_type": "stream",
     "text": [
      "differential_evolution step 1: f(x)= -64.4408\n",
      "differential_evolution step 2: f(x)= -64.4408\n",
      "differential_evolution step 3: f(x)= -65.3462\n",
      "differential_evolution step 4: f(x)= -65.3462\n",
      "differential_evolution step 5: f(x)= -65.3469\n",
      "optimal injector args: [ 0.24823164  1.03264823 -0.1240023 ]\n",
      "done mode match 140.3083038330078\n",
      "survival 65.3468676178337\n",
      "cost -0.13069373523566738\n",
      "18\n",
      "[50, 11]\n",
      "stable\n",
      "[0.5, 0.11]\n",
      "start lattice tracing\n",
      "6.330941542859633 504.53364089252335\n",
      "done lattice tracing 1094.085387468338\n",
      "start mode match\n"
     ]
    },
    {
     "name": "stderr",
     "output_type": "stream",
     "text": [
      "/home/billy/.local/lib/python3.8/site-packages/scipy/optimize/_differentialevolution.py:495: UserWarning: differential_evolution: the 'workers' keyword has overridden updating='immediate' to updating='deferred'\n",
      "  warnings.warn(\"differential_evolution: the 'workers' keyword has\"\n"
     ]
    },
    {
     "name": "stdout",
     "output_type": "stream",
     "text": [
      "differential_evolution step 1: f(x)= -36.2621\n",
      "differential_evolution step 2: f(x)= -37.161\n",
      "differential_evolution step 3: f(x)= -37.5025\n",
      "differential_evolution step 4: f(x)= -37.6566\n",
      "differential_evolution step 5: f(x)= -37.7516\n",
      "optimal injector args: [ 0.21806361  1.00205378 -0.11998976]\n",
      "done mode match 139.98109984397888\n",
      "survival 37.751619892348835\n",
      "cost -0.07550323978469767\n",
      "19\n",
      "[37, 10]\n",
      "stable\n",
      "[0.37, 0.1]\n",
      "start lattice tracing\n",
      "9.961212154852998 502.32842678218634\n",
      "done lattice tracing 1697.8188960552216\n",
      "start mode match\n"
     ]
    },
    {
     "name": "stderr",
     "output_type": "stream",
     "text": [
      "/home/billy/.local/lib/python3.8/site-packages/scipy/optimize/_differentialevolution.py:495: UserWarning: differential_evolution: the 'workers' keyword has overridden updating='immediate' to updating='deferred'\n",
      "  warnings.warn(\"differential_evolution: the 'workers' keyword has\"\n"
     ]
    },
    {
     "name": "stdout",
     "output_type": "stream",
     "text": [
      "differential_evolution step 1: f(x)= -49.5663\n",
      "differential_evolution step 2: f(x)= -50.105\n",
      "differential_evolution step 3: f(x)= -50.132\n",
      "differential_evolution step 4: f(x)= -50.132\n",
      "differential_evolution step 5: f(x)= -50.1353\n",
      "optimal injector args: [ 0.22380777  0.99967889 -0.13686613]\n",
      "done mode match 141.21911025047302\n",
      "survival 50.13531955915282\n",
      "cost -0.10027063911830565\n",
      "20\n",
      "[50, 33]\n",
      "stable\n",
      "[0.5, 0.33]\n",
      "start lattice tracing\n",
      "0.3289980387921148 27.99987761117184\n",
      "done lattice tracing 64.53350305557251\n",
      "start mode match\n"
     ]
    },
    {
     "name": "stderr",
     "output_type": "stream",
     "text": [
      "/home/billy/.local/lib/python3.8/site-packages/scipy/optimize/_differentialevolution.py:495: UserWarning: differential_evolution: the 'workers' keyword has overridden updating='immediate' to updating='deferred'\n",
      "  warnings.warn(\"differential_evolution: the 'workers' keyword has\"\n"
     ]
    },
    {
     "name": "stdout",
     "output_type": "stream",
     "text": [
      "differential_evolution step 1: f(x)= -0.821451\n",
      "differential_evolution step 2: f(x)= -0.82899\n",
      "differential_evolution step 3: f(x)= -0.83169\n",
      "differential_evolution step 4: f(x)= -0.835646\n",
      "differential_evolution step 5: f(x)= -0.837234\n",
      "differential_evolution step 6: f(x)= -0.837713\n",
      "optimal injector args: [ 0.24779598  0.99331863 -0.16322456]\n",
      "done mode match 163.76869320869446\n",
      "survival 0.837712935903645\n",
      "cost -0.0016754258718072901\n",
      "21\n",
      "[50, 0]\n",
      "21\n",
      "[49, 16]\n",
      "stable\n",
      "[0.49, 0.16]\n",
      "start lattice tracing\n",
      "1.6263160746882208 505.17941870405036\n",
      "done lattice tracing 288.00341987609863\n",
      "start mode match\n"
     ]
    },
    {
     "name": "stderr",
     "output_type": "stream",
     "text": [
      "/home/billy/.local/lib/python3.8/site-packages/scipy/optimize/_differentialevolution.py:495: UserWarning: differential_evolution: the 'workers' keyword has overridden updating='immediate' to updating='deferred'\n",
      "  warnings.warn(\"differential_evolution: the 'workers' keyword has\"\n"
     ]
    },
    {
     "name": "stdout",
     "output_type": "stream",
     "text": [
      "differential_evolution step 1: f(x)= -8.07629\n",
      "differential_evolution step 2: f(x)= -8.26228\n",
      "differential_evolution step 3: f(x)= -8.36502\n",
      "differential_evolution step 4: f(x)= -8.37901\n",
      "differential_evolution step 5: f(x)= -8.37933\n",
      "optimal injector args: [ 0.22309711  1.11923216 -0.2332075 ]\n",
      "done mode match 139.75428080558777\n",
      "survival 8.37933144123528\n",
      "cost -0.016758662882470562\n",
      "22\n",
      "[0, 23]\n",
      "22\n",
      "[41, 11]\n",
      "stable\n",
      "[0.41, 0.11]\n",
      "start lattice tracing\n",
      "12.781566141707305 503.8434729515235\n",
      "done lattice tracing 2173.6484966278076\n",
      "start mode match\n"
     ]
    },
    {
     "name": "stderr",
     "output_type": "stream",
     "text": [
      "/home/billy/.local/lib/python3.8/site-packages/scipy/optimize/_differentialevolution.py:495: UserWarning: differential_evolution: the 'workers' keyword has overridden updating='immediate' to updating='deferred'\n",
      "  warnings.warn(\"differential_evolution: the 'workers' keyword has\"\n"
     ]
    },
    {
     "name": "stdout",
     "output_type": "stream",
     "text": [
      "differential_evolution step 1: f(x)= -67.2279\n",
      "differential_evolution step 2: f(x)= -67.2279\n",
      "differential_evolution step 3: f(x)= -67.5906\n",
      "optimal injector args: [ 0.15519489  1.04691868 -0.26891975]\n",
      "done mode match 93.21286535263062\n",
      "survival 67.59060668204786\n",
      "cost -0.13518121336409572\n",
      "23\n",
      "DUPLICATE POINT [40, 11]\n",
      "inside func {'xi': 0.004, 'noise': 2e-05}\n"
     ]
    },
    {
     "name": "stderr",
     "output_type": "stream",
     "text": [
      "/home/billy/.local/lib/python3.8/site-packages/skopt/optimizer/optimizer.py:450: UserWarning: The objective has been evaluated at this point before.\n",
      "  warnings.warn(\"The objective has been evaluated \"\n",
      "/home/billy/.local/lib/python3.8/site-packages/skopt/optimizer/optimizer.py:450: UserWarning: The objective has been evaluated at this point before.\n",
      "  warnings.warn(\"The objective has been evaluated \"\n"
     ]
    },
    {
     "name": "stdout",
     "output_type": "stream",
     "text": [
      "NEW POINT [40, 11]\n",
      "DUPLICATE POINT [40, 11]\n",
      "inside func {'xi': 0.008, 'noise': 2e-05}\n",
      "NEW POINT [50, 50]\n",
      "[50, 50]\n",
      "stable\n",
      "[0.5, 0.5]\n",
      "start lattice tracing\n",
      "0.4248783826232161 83.97132502586963\n",
      "done lattice tracing 80.89586186408997\n",
      "start mode match\n"
     ]
    },
    {
     "name": "stderr",
     "output_type": "stream",
     "text": [
      "/home/billy/.local/lib/python3.8/site-packages/scipy/optimize/_differentialevolution.py:495: UserWarning: differential_evolution: the 'workers' keyword has overridden updating='immediate' to updating='deferred'\n",
      "  warnings.warn(\"differential_evolution: the 'workers' keyword has\"\n"
     ]
    },
    {
     "name": "stdout",
     "output_type": "stream",
     "text": [
      "differential_evolution step 1: f(x)= -0.81131\n",
      "differential_evolution step 2: f(x)= -0.826921\n",
      "differential_evolution step 3: f(x)= -0.844719\n",
      "differential_evolution step 4: f(x)= -0.858275\n",
      "differential_evolution step 5: f(x)= -0.862\n",
      "differential_evolution step 6: f(x)= -0.862258\n",
      "differential_evolution step 7: f(x)= -0.862359\n",
      "optimal injector args: [ 0.15020212  0.99484289 -0.27869603]\n",
      "done mode match 186.40483260154724\n",
      "survival 0.8623594042743734\n",
      "cost -0.001724718808548747\n",
      "24\n",
      "[34, 36]\n",
      "24\n",
      "[50, 30]\n",
      "stable\n",
      "[0.5, 0.3]\n",
      "start lattice tracing\n",
      "0.3486134380766702 49.96907675019261\n",
      "done lattice tracing 67.9155855178833\n",
      "start mode match\n"
     ]
    },
    {
     "name": "stderr",
     "output_type": "stream",
     "text": [
      "/home/billy/.local/lib/python3.8/site-packages/scipy/optimize/_differentialevolution.py:495: UserWarning: differential_evolution: the 'workers' keyword has overridden updating='immediate' to updating='deferred'\n",
      "  warnings.warn(\"differential_evolution: the 'workers' keyword has\"\n"
     ]
    },
    {
     "name": "stdout",
     "output_type": "stream",
     "text": [
      "differential_evolution step 1: f(x)= -0.885515\n",
      "differential_evolution step 2: f(x)= -0.901478\n",
      "differential_evolution step 3: f(x)= -0.901757\n",
      "differential_evolution step 4: f(x)= -0.902336\n",
      "differential_evolution step 5: f(x)= -0.902336\n",
      "optimal injector args: [ 0.22357618  1.01498394 -0.11152709]\n",
      "done mode match 141.18847680091858\n",
      "survival 0.9023363931086281\n",
      "cost -0.0018046727862172564\n",
      "25\n",
      "[26, 46]\n",
      "25\n",
      "[0, 36]\n",
      "25\n",
      "DUPLICATE POINT [40, 11]\n",
      "inside func {'xi': 0.004, 'noise': 2e-05}\n"
     ]
    },
    {
     "name": "stderr",
     "output_type": "stream",
     "text": [
      "/home/billy/.local/lib/python3.8/site-packages/skopt/optimizer/optimizer.py:450: UserWarning: The objective has been evaluated at this point before.\n",
      "  warnings.warn(\"The objective has been evaluated \"\n",
      "/home/billy/.local/lib/python3.8/site-packages/skopt/optimizer/optimizer.py:450: UserWarning: The objective has been evaluated at this point before.\n",
      "  warnings.warn(\"The objective has been evaluated \"\n"
     ]
    },
    {
     "name": "stdout",
     "output_type": "stream",
     "text": [
      "NEW POINT [40, 11]\n",
      "DUPLICATE POINT [40, 11]\n",
      "inside func {'xi': 0.008, 'noise': 2e-05}\n",
      "NEW POINT [0, 17]\n",
      "[0, 17]\n",
      "25\n",
      "[39, 11]\n",
      "stable\n",
      "[0.39, 0.11]\n",
      "start lattice tracing\n",
      "11.965659275204928 503.74736976869\n",
      "done lattice tracing 2043.2033162117004\n",
      "start mode match\n"
     ]
    },
    {
     "name": "stderr",
     "output_type": "stream",
     "text": [
      "/home/billy/.local/lib/python3.8/site-packages/scipy/optimize/_differentialevolution.py:495: UserWarning: differential_evolution: the 'workers' keyword has overridden updating='immediate' to updating='deferred'\n",
      "  warnings.warn(\"differential_evolution: the 'workers' keyword has\"\n"
     ]
    },
    {
     "name": "stdout",
     "output_type": "stream",
     "text": [
      "differential_evolution step 1: f(x)= -61.9025\n",
      "differential_evolution step 2: f(x)= -64.1155\n",
      "differential_evolution step 3: f(x)= -68.1127\n",
      "differential_evolution step 4: f(x)= -68.4315\n",
      "differential_evolution step 5: f(x)= -68.5861\n",
      "differential_evolution step 6: f(x)= -68.6459\n",
      "differential_evolution step 7: f(x)= -68.6729\n",
      "differential_evolution step 8: f(x)= -68.7013\n",
      "optimal injector args: [ 0.24536967  0.99760151 -0.1113398 ]\n",
      "done mode match 211.39339089393616\n",
      "survival 68.70126034287871\n",
      "cost -0.13740252068575745\n",
      "26\n",
      "[50, 47]\n",
      "stable\n",
      "[0.5, 0.47]\n",
      "start lattice tracing\n",
      "0.38502446814266095 71.00048172221504\n",
      "done lattice tracing 73.52091217041016\n",
      "start mode match\n"
     ]
    },
    {
     "name": "stderr",
     "output_type": "stream",
     "text": [
      "/home/billy/.local/lib/python3.8/site-packages/scipy/optimize/_differentialevolution.py:495: UserWarning: differential_evolution: the 'workers' keyword has overridden updating='immediate' to updating='deferred'\n",
      "  warnings.warn(\"differential_evolution: the 'workers' keyword has\"\n"
     ]
    },
    {
     "name": "stdout",
     "output_type": "stream",
     "text": [
      "differential_evolution step 1: f(x)= -0.753559\n",
      "differential_evolution step 2: f(x)= -0.810384\n",
      "differential_evolution step 3: f(x)= -0.822147\n",
      "differential_evolution step 4: f(x)= -0.823065\n",
      "differential_evolution step 5: f(x)= -0.824298\n",
      "optimal injector args: [ 0.23884481  1.1297321  -0.24686551]\n",
      "done mode match 141.398451089859\n",
      "survival 0.8242981953992007\n",
      "cost -0.0016485963907984017\n",
      "27\n",
      "[50, 3]\n",
      "27\n",
      "[50, 36]\n",
      "stable\n",
      "[0.5, 0.36]\n",
      "start lattice tracing\n",
      "0.3238145834025397 41.53114066031582\n",
      "done lattice tracing 63.9198157787323\n",
      "start mode match\n"
     ]
    },
    {
     "name": "stderr",
     "output_type": "stream",
     "text": [
      "/home/billy/.local/lib/python3.8/site-packages/scipy/optimize/_differentialevolution.py:495: UserWarning: differential_evolution: the 'workers' keyword has overridden updating='immediate' to updating='deferred'\n",
      "  warnings.warn(\"differential_evolution: the 'workers' keyword has\"\n"
     ]
    },
    {
     "name": "stdout",
     "output_type": "stream",
     "text": [
      "differential_evolution step 1: f(x)= -0.83417\n",
      "differential_evolution step 2: f(x)= -0.850897\n",
      "differential_evolution step 3: f(x)= -0.852186\n",
      "differential_evolution step 4: f(x)= -0.852901\n",
      "differential_evolution step 5: f(x)= -0.853629\n",
      "differential_evolution step 6: f(x)= -0.853868\n",
      "optimal injector args: [ 0.24440718  1.00036829 -0.08256258]\n",
      "done mode match 164.36304664611816\n",
      "survival 0.8538680787093333\n",
      "cost -0.001707736157418667\n",
      "28\n",
      "DUPLICATE POINT [40, 11]\n",
      "inside func {'xi': 0.004, 'noise': 2e-05}\n"
     ]
    },
    {
     "name": "stderr",
     "output_type": "stream",
     "text": [
      "/home/billy/.local/lib/python3.8/site-packages/skopt/optimizer/optimizer.py:450: UserWarning: The objective has been evaluated at this point before.\n",
      "  warnings.warn(\"The objective has been evaluated \"\n",
      "/home/billy/.local/lib/python3.8/site-packages/skopt/optimizer/optimizer.py:450: UserWarning: The objective has been evaluated at this point before.\n",
      "  warnings.warn(\"The objective has been evaluated \"\n"
     ]
    },
    {
     "name": "stdout",
     "output_type": "stream",
     "text": [
      "NEW POINT [40, 11]\n",
      "DUPLICATE POINT [40, 11]\n",
      "inside func {'xi': 0.008, 'noise': 2e-05}\n",
      "NEW POINT [23, 50]\n",
      "[23, 50]\n",
      "28\n",
      "[29, 30]\n",
      "28\n",
      "[27, 10]\n",
      "stable\n",
      "[0.27, 0.1]\n",
      "start lattice tracing\n",
      "5.341536009438833 500.53483738432834\n",
      "done lattice tracing 932.4805307388306\n",
      "start mode match\n"
     ]
    },
    {
     "name": "stderr",
     "output_type": "stream",
     "text": [
      "/home/billy/.local/lib/python3.8/site-packages/scipy/optimize/_differentialevolution.py:495: UserWarning: differential_evolution: the 'workers' keyword has overridden updating='immediate' to updating='deferred'\n",
      "  warnings.warn(\"differential_evolution: the 'workers' keyword has\"\n"
     ]
    },
    {
     "name": "stdout",
     "output_type": "stream",
     "text": [
      "differential_evolution step 1: f(x)= -24.9213\n",
      "differential_evolution step 2: f(x)= -24.9213\n",
      "differential_evolution step 3: f(x)= -25.2951\n",
      "differential_evolution step 4: f(x)= -25.4919\n",
      "differential_evolution step 5: f(x)= -25.6798\n",
      "differential_evolution step 6: f(x)= -25.6798\n",
      "differential_evolution step 7: f(x)= -25.6801\n",
      "optimal injector args: [ 0.19484396  0.99666837 -0.28342986]\n",
      "done mode match 186.82493209838867\n",
      "survival 25.680136828065734\n",
      "cost -0.051360273656131473\n",
      "29\n",
      "[0, 46]\n",
      "29\n",
      "[50, 41]\n",
      "stable\n",
      "[0.5, 0.41]\n",
      "start lattice tracing\n",
      "0.33433046932932026 36.05956610163074\n",
      "done lattice tracing 65.78094410896301\n",
      "start mode match\n"
     ]
    },
    {
     "name": "stderr",
     "output_type": "stream",
     "text": [
      "/home/billy/.local/lib/python3.8/site-packages/scipy/optimize/_differentialevolution.py:495: UserWarning: differential_evolution: the 'workers' keyword has overridden updating='immediate' to updating='deferred'\n",
      "  warnings.warn(\"differential_evolution: the 'workers' keyword has\"\n"
     ]
    },
    {
     "name": "stdout",
     "output_type": "stream",
     "text": [
      "differential_evolution step 1: f(x)= -0.772621\n",
      "differential_evolution step 2: f(x)= -0.783502\n",
      "differential_evolution step 3: f(x)= -0.790554\n",
      "differential_evolution step 4: f(x)= -0.793795\n",
      "differential_evolution step 5: f(x)= -0.794562\n",
      "optimal injector args: [ 0.23927609  0.99522654 -0.21050735]\n",
      "done mode match 139.8458182811737\n",
      "survival 0.7945621972265647\n",
      "cost -0.0015891243944531298\n",
      "28241.87555027008\n",
      "          fun: -0.1396995065006729\n",
      "    func_vals: array([-7.47534005e-03,  6.68914372e-03,  5.36592766e-03, -3.24625379e-02,\n",
      "        6.48981650e-03,  3.87672120e-03,  5.06627101e-03, -1.51051262e-02,\n",
      "       -4.05805558e-03,  4.61857776e-03, -4.07290377e-04,  4.08427696e-03,\n",
      "       -2.74148494e-04, -1.73617108e-03,  3.62699602e-03,  6.38794780e-03,\n",
      "       -1.77712780e-03, -8.21001832e-03, -4.10368611e-03,  6.70503810e-03,\n",
      "       -7.41433895e-02,  3.49506529e-03,  6.80984213e-03,  3.92242588e-03,\n",
      "       -2.28138199e-03, -1.70748391e-03, -1.39699507e-01, -8.43832087e-04,\n",
      "       -1.80452985e-03,  4.55018594e-03,  6.02999799e-03, -1.07202556e-04,\n",
      "        6.48016637e-03,  9.72136009e-04, -2.58121132e-03, -5.34221519e-02,\n",
      "       -3.66073241e-02,  4.24478539e-03,  5.00660750e-03,  3.21235177e-04,\n",
      "       -3.35280332e-03, -1.70245022e-03,  1.04466520e-03, -1.84551333e-04,\n",
      "       -2.01592939e-03, -1.38666611e-01, -1.19833101e-01, -1.30693735e-01,\n",
      "       -7.55032398e-02, -1.00270639e-01, -1.67542587e-03,  3.66838388e-03,\n",
      "       -1.67586629e-02, -7.63371105e-04, -1.35181213e-01, -1.72471881e-03,\n",
      "        4.97469872e-04, -1.80467279e-03, -1.01463112e-03,  3.63459417e-03,\n",
      "        4.06953957e-03, -1.37402521e-01, -1.64859639e-03, -2.25348738e-03,\n",
      "       -1.70773616e-03, -5.10504131e-04,  1.19700793e-03, -5.13602737e-02,\n",
      "        8.55107874e-04, -1.58912439e-03])\n",
      "       models: [GaussianProcessRegressor(kernel=1**2 * Matern(length_scale=[1, 1], nu=2.5) + WhiteKernel(noise_level=1),\n",
      "                         n_restarts_optimizer=2, noise='gaussian',\n",
      "                         normalize_y=True, random_state=93251372), GaussianProcessRegressor(kernel=1**2 * Matern(length_scale=[1, 1], nu=2.5) + WhiteKernel(noise_level=1),\n",
      "                         n_restarts_optimizer=2, noise='gaussian',\n",
      "                         normalize_y=True, random_state=93251372), GaussianProcessRegressor(kernel=1**2 * Matern(length_scale=[1, 1], nu=2.5) + WhiteKernel(noise_level=1),\n",
      "                         n_restarts_optimizer=2, noise='gaussian',\n",
      "                         normalize_y=True, random_state=93251372), GaussianProcessRegressor(kernel=1**2 * Matern(length_scale=[1, 1], nu=2.5) + WhiteKernel(noise_level=1),\n",
      "                         n_restarts_optimizer=2, noise='gaussian',\n",
      "                         normalize_y=True, random_state=93251372), GaussianProcessRegressor(kernel=1**2 * Matern(length_scale=[1, 1], nu=2.5) + WhiteKernel(noise_level=1),\n",
      "                         n_restarts_optimizer=2, noise='gaussian',\n",
      "                         normalize_y=True, random_state=93251372), GaussianProcessRegressor(kernel=1**2 * Matern(length_scale=[1, 1], nu=2.5) + WhiteKernel(noise_level=1),\n",
      "                         n_restarts_optimizer=2, noise='gaussian',\n",
      "                         normalize_y=True, random_state=93251372), GaussianProcessRegressor(kernel=1**2 * Matern(length_scale=[1, 1], nu=2.5) + WhiteKernel(noise_level=1),\n",
      "                         n_restarts_optimizer=2, noise='gaussian',\n",
      "                         normalize_y=True, random_state=93251372), GaussianProcessRegressor(kernel=1**2 * Matern(length_scale=[1, 1], nu=2.5) + WhiteKernel(noise_level=1),\n",
      "                         n_restarts_optimizer=2, noise='gaussian',\n",
      "                         normalize_y=True, random_state=93251372), GaussianProcessRegressor(kernel=1**2 * Matern(length_scale=[1, 1], nu=2.5) + WhiteKernel(noise_level=1),\n",
      "                         n_restarts_optimizer=2, noise='gaussian',\n",
      "                         normalize_y=True, random_state=93251372), GaussianProcessRegressor(kernel=1**2 * Matern(length_scale=[1, 1], nu=2.5) + WhiteKernel(noise_level=1),\n",
      "                         n_restarts_optimizer=2, noise='gaussian',\n",
      "                         normalize_y=True, random_state=93251372), GaussianProcessRegressor(kernel=1**2 * Matern(length_scale=[1, 1], nu=2.5) + WhiteKernel(noise_level=1),\n",
      "                         n_restarts_optimizer=2, noise='gaussian',\n",
      "                         normalize_y=True, random_state=93251372), GaussianProcessRegressor(kernel=1**2 * Matern(length_scale=[1, 1], nu=2.5) + WhiteKernel(noise_level=1),\n",
      "                         n_restarts_optimizer=2, noise='gaussian',\n",
      "                         normalize_y=True, random_state=93251372), GaussianProcessRegressor(kernel=1**2 * Matern(length_scale=[1, 1], nu=2.5) + WhiteKernel(noise_level=1),\n",
      "                         n_restarts_optimizer=2, noise='gaussian',\n",
      "                         normalize_y=True, random_state=93251372), GaussianProcessRegressor(kernel=1**2 * Matern(length_scale=[1, 1], nu=2.5) + WhiteKernel(noise_level=1),\n",
      "                         n_restarts_optimizer=2, noise='gaussian',\n",
      "                         normalize_y=True, random_state=93251372), GaussianProcessRegressor(kernel=1**2 * Matern(length_scale=[1, 1], nu=2.5) + WhiteKernel(noise_level=1),\n",
      "                         n_restarts_optimizer=2, noise='gaussian',\n",
      "                         normalize_y=True, random_state=93251372), GaussianProcessRegressor(kernel=1**2 * Matern(length_scale=[1, 1], nu=2.5) + WhiteKernel(noise_level=1),\n",
      "                         n_restarts_optimizer=2, noise='gaussian',\n",
      "                         normalize_y=True, random_state=93251372), GaussianProcessRegressor(kernel=1**2 * Matern(length_scale=[1, 1], nu=2.5) + WhiteKernel(noise_level=1),\n",
      "                         n_restarts_optimizer=2, noise='gaussian',\n",
      "                         normalize_y=True, random_state=93251372), GaussianProcessRegressor(kernel=1**2 * Matern(length_scale=[1, 1], nu=2.5) + WhiteKernel(noise_level=1),\n",
      "                         n_restarts_optimizer=2, noise='gaussian',\n",
      "                         normalize_y=True, random_state=93251372), GaussianProcessRegressor(kernel=1**2 * Matern(length_scale=[1, 1], nu=2.5) + WhiteKernel(noise_level=1),\n",
      "                         n_restarts_optimizer=2, noise='gaussian',\n",
      "                         normalize_y=True, random_state=93251372), GaussianProcessRegressor(kernel=1**2 * Matern(length_scale=[1, 1], nu=2.5) + WhiteKernel(noise_level=1),\n",
      "                         n_restarts_optimizer=2, noise='gaussian',\n",
      "                         normalize_y=True, random_state=93251372), GaussianProcessRegressor(kernel=1**2 * Matern(length_scale=[1, 1], nu=2.5) + WhiteKernel(noise_level=1),\n",
      "                         n_restarts_optimizer=2, noise='gaussian',\n",
      "                         normalize_y=True, random_state=93251372), GaussianProcessRegressor(kernel=1**2 * Matern(length_scale=[1, 1], nu=2.5) + WhiteKernel(noise_level=1),\n",
      "                         n_restarts_optimizer=2, noise='gaussian',\n",
      "                         normalize_y=True, random_state=93251372), GaussianProcessRegressor(kernel=1**2 * Matern(length_scale=[1, 1], nu=2.5) + WhiteKernel(noise_level=1),\n",
      "                         n_restarts_optimizer=2, noise='gaussian',\n",
      "                         normalize_y=True, random_state=93251372), GaussianProcessRegressor(kernel=1**2 * Matern(length_scale=[1, 1], nu=2.5) + WhiteKernel(noise_level=1),\n",
      "                         n_restarts_optimizer=2, noise='gaussian',\n",
      "                         normalize_y=True, random_state=93251372), GaussianProcessRegressor(kernel=1**2 * Matern(length_scale=[1, 1], nu=2.5) + WhiteKernel(noise_level=1),\n",
      "                         n_restarts_optimizer=2, noise='gaussian',\n",
      "                         normalize_y=True, random_state=93251372), GaussianProcessRegressor(kernel=1**2 * Matern(length_scale=[1, 1], nu=2.5) + WhiteKernel(noise_level=1),\n",
      "                         n_restarts_optimizer=2, noise='gaussian',\n",
      "                         normalize_y=True, random_state=93251372), GaussianProcessRegressor(kernel=1**2 * Matern(length_scale=[1, 1], nu=2.5) + WhiteKernel(noise_level=1),\n",
      "                         n_restarts_optimizer=2, noise='gaussian',\n",
      "                         normalize_y=True, random_state=93251372), GaussianProcessRegressor(kernel=1**2 * Matern(length_scale=[1, 1], nu=2.5) + WhiteKernel(noise_level=1),\n",
      "                         n_restarts_optimizer=2, noise='gaussian',\n",
      "                         normalize_y=True, random_state=93251372), GaussianProcessRegressor(kernel=1**2 * Matern(length_scale=[1, 1], nu=2.5) + WhiteKernel(noise_level=1),\n",
      "                         n_restarts_optimizer=2, noise='gaussian',\n",
      "                         normalize_y=True, random_state=93251372), GaussianProcessRegressor(kernel=1**2 * Matern(length_scale=[1, 1], nu=2.5) + WhiteKernel(noise_level=1),\n",
      "                         n_restarts_optimizer=2, noise='gaussian',\n",
      "                         normalize_y=True, random_state=93251372), GaussianProcessRegressor(kernel=1**2 * Matern(length_scale=[1, 1], nu=2.5) + WhiteKernel(noise_level=1),\n",
      "                         n_restarts_optimizer=2, noise='gaussian',\n",
      "                         normalize_y=True, random_state=93251372), GaussianProcessRegressor(kernel=1**2 * Matern(length_scale=[1, 1], nu=2.5) + WhiteKernel(noise_level=1),\n",
      "                         n_restarts_optimizer=2, noise='gaussian',\n",
      "                         normalize_y=True, random_state=93251372), GaussianProcessRegressor(kernel=1**2 * Matern(length_scale=[1, 1], nu=2.5) + WhiteKernel(noise_level=1),\n",
      "                         n_restarts_optimizer=2, noise='gaussian',\n",
      "                         normalize_y=True, random_state=93251372), GaussianProcessRegressor(kernel=1**2 * Matern(length_scale=[1, 1], nu=2.5) + WhiteKernel(noise_level=1),\n",
      "                         n_restarts_optimizer=2, noise='gaussian',\n",
      "                         normalize_y=True, random_state=93251372), GaussianProcessRegressor(kernel=1**2 * Matern(length_scale=[1, 1], nu=2.5) + WhiteKernel(noise_level=1),\n",
      "                         n_restarts_optimizer=2, noise='gaussian',\n",
      "                         normalize_y=True, random_state=93251372), GaussianProcessRegressor(kernel=1**2 * Matern(length_scale=[1, 1], nu=2.5) + WhiteKernel(noise_level=1),\n",
      "                         n_restarts_optimizer=2, noise='gaussian',\n",
      "                         normalize_y=True, random_state=93251372), GaussianProcessRegressor(kernel=1**2 * Matern(length_scale=[1, 1], nu=2.5) + WhiteKernel(noise_level=1),\n",
      "                         n_restarts_optimizer=2, noise='gaussian',\n",
      "                         normalize_y=True, random_state=93251372), GaussianProcessRegressor(kernel=1**2 * Matern(length_scale=[1, 1], nu=2.5) + WhiteKernel(noise_level=1),\n",
      "                         n_restarts_optimizer=2, noise='gaussian',\n",
      "                         normalize_y=True, random_state=93251372), GaussianProcessRegressor(kernel=1**2 * Matern(length_scale=[1, 1], nu=2.5) + WhiteKernel(noise_level=1),\n",
      "                         n_restarts_optimizer=2, noise='gaussian',\n",
      "                         normalize_y=True, random_state=93251372), GaussianProcessRegressor(kernel=1**2 * Matern(length_scale=[1, 1], nu=2.5) + WhiteKernel(noise_level=1),\n",
      "                         n_restarts_optimizer=2, noise='gaussian',\n",
      "                         normalize_y=True, random_state=93251372), GaussianProcessRegressor(kernel=1**2 * Matern(length_scale=[1, 1], nu=2.5) + WhiteKernel(noise_level=1),\n",
      "                         n_restarts_optimizer=2, noise='gaussian',\n",
      "                         normalize_y=True, random_state=93251372), GaussianProcessRegressor(kernel=1**2 * Matern(length_scale=[1, 1], nu=2.5) + WhiteKernel(noise_level=1),\n",
      "                         n_restarts_optimizer=2, noise='gaussian',\n",
      "                         normalize_y=True, random_state=93251372), GaussianProcessRegressor(kernel=1**2 * Matern(length_scale=[1, 1], nu=2.5) + WhiteKernel(noise_level=1),\n",
      "                         n_restarts_optimizer=2, noise='gaussian',\n",
      "                         normalize_y=True, random_state=93251372), GaussianProcessRegressor(kernel=1**2 * Matern(length_scale=[1, 1], nu=2.5) + WhiteKernel(noise_level=1),\n",
      "                         n_restarts_optimizer=2, noise='gaussian',\n",
      "                         normalize_y=True, random_state=93251372), GaussianProcessRegressor(kernel=1**2 * Matern(length_scale=[1, 1], nu=2.5) + WhiteKernel(noise_level=1),\n",
      "                         n_restarts_optimizer=2, noise='gaussian',\n",
      "                         normalize_y=True, random_state=93251372), GaussianProcessRegressor(kernel=1**2 * Matern(length_scale=[1, 1], nu=2.5) + WhiteKernel(noise_level=1),\n",
      "                         n_restarts_optimizer=2, noise='gaussian',\n",
      "                         normalize_y=True, random_state=93251372), GaussianProcessRegressor(kernel=1**2 * Matern(length_scale=[1, 1], nu=2.5) + WhiteKernel(noise_level=1),\n",
      "                         n_restarts_optimizer=2, noise='gaussian',\n",
      "                         normalize_y=True, random_state=93251372), GaussianProcessRegressor(kernel=1**2 * Matern(length_scale=[1, 1], nu=2.5) + WhiteKernel(noise_level=1),\n",
      "                         n_restarts_optimizer=2, noise='gaussian',\n",
      "                         normalize_y=True, random_state=93251372), GaussianProcessRegressor(kernel=1**2 * Matern(length_scale=[1, 1], nu=2.5) + WhiteKernel(noise_level=1),\n",
      "                         n_restarts_optimizer=2, noise='gaussian',\n",
      "                         normalize_y=True, random_state=93251372), GaussianProcessRegressor(kernel=1**2 * Matern(length_scale=[1, 1], nu=2.5) + WhiteKernel(noise_level=1),\n",
      "                         n_restarts_optimizer=2, noise='gaussian',\n",
      "                         normalize_y=True, random_state=93251372), GaussianProcessRegressor(kernel=1**2 * Matern(length_scale=[1, 1], nu=2.5) + WhiteKernel(noise_level=1),\n",
      "                         n_restarts_optimizer=2, noise='gaussian',\n",
      "                         normalize_y=True, random_state=93251372), GaussianProcessRegressor(kernel=1**2 * Matern(length_scale=[1, 1], nu=2.5) + WhiteKernel(noise_level=1),\n",
      "                         n_restarts_optimizer=2, noise='gaussian',\n",
      "                         normalize_y=True, random_state=93251372), GaussianProcessRegressor(kernel=1**2 * Matern(length_scale=[1, 1], nu=2.5) + WhiteKernel(noise_level=1),\n",
      "                         n_restarts_optimizer=2, noise='gaussian',\n",
      "                         normalize_y=True, random_state=93251372), GaussianProcessRegressor(kernel=1**2 * Matern(length_scale=[1, 1], nu=2.5) + WhiteKernel(noise_level=1),\n",
      "                         n_restarts_optimizer=2, noise='gaussian',\n",
      "                         normalize_y=True, random_state=93251372), GaussianProcessRegressor(kernel=1**2 * Matern(length_scale=[1, 1], nu=2.5) + WhiteKernel(noise_level=1),\n",
      "                         n_restarts_optimizer=2, noise='gaussian',\n",
      "                         normalize_y=True, random_state=93251372), GaussianProcessRegressor(kernel=1**2 * Matern(length_scale=[1, 1], nu=2.5) + WhiteKernel(noise_level=1),\n",
      "                         n_restarts_optimizer=2, noise='gaussian',\n",
      "                         normalize_y=True, random_state=93251372)]\n",
      " random_state: RandomState(MT19937) at 0x7F2980511140\n",
      "        space: Space([Integer(low=0, high=50, prior='uniform', transform='normalize'),\n",
      "       Integer(low=0, high=50, prior='uniform', transform='normalize')])\n",
      "        specs: {'args': {'self': <skopt.optimizer.optimizer.Optimizer object at 0x7f294f4c4fd0>, 'dimensions': [(0, 50), (0, 50)], 'base_estimator': 'gp', 'n_random_starts': None, 'n_initial_points': 15, 'initial_point_generator': 'random', 'n_jobs': -1, 'acq_func': 'EI', 'acq_optimizer': 'sampling', 'random_state': None, 'model_queue_size': None, 'acq_func_kwargs': {'xi': 0.002, 'noise': 2e-05}, 'acq_optimizer_kwargs': None}, 'function': 'Optimizer'}\n",
      "            x: [40, 11]\n",
      "      x_iters: [[16, 12], [28, 22], [34, 41], [45, 9], [31, 17], [17, 42], [11, 20], [21, 12], [48, 21], [22, 27], [22, 20], [35, 23], [41, 20], [21, 1], [7, 33], [6, 28], [43, 39], [38, 6], [11, 11], [18, 19], [48, 13], [8, 0], [38, 27], [7, 49], [44, 26], [15, 26], [40, 11], [14, 16], [46, 44], [26, 15], [28, 1], [27, 27], [21, 33], [0, 3], [22, 6], [32, 13], [33, 8], [8, 44], [2, 7], [49, 6], [4, 12], [12, 38], [0, 41], [0, 32], [37, 49], [42, 11], [41, 12], [37, 11], [50, 11], [37, 10], [50, 33], [50, 0], [49, 16], [0, 23], [41, 11], [50, 50], [34, 36], [50, 30], [26, 46], [0, 36], [0, 17], [39, 11], [50, 47], [50, 3], [50, 36], [23, 50], [29, 30], [27, 10], [0, 46], [50, 41]]\n"
     ]
    }
   ],
   "source": [
    "sol=compute_Sol(1e-5,500.0,30)"
   ]
  },
  {
   "cell_type": "code",
   "execution_count": 3,
   "metadata": {},
   "outputs": [
    {
     "data": {
      "text/plain": [
       "<AxesSubplot:title={'center':'Convergence plot'}, xlabel='Number of calls $n$', ylabel='$\\\\min f(x)$ after $n$ calls'>"
      ]
     },
     "execution_count": 3,
     "metadata": {},
     "output_type": "execute_result"
    },
    {
     "data": {
      "image/png": "[encoded data removed]",
      "text/plain": [
       "<Figure size 432x288 with 1 Axes>"
      ]
     },
     "metadata": {
      "needs_background": "light"
     },
     "output_type": "display_data"
    }
   ],
   "source": [
    "import skopt.plots\n",
    "skopt.plots.plot_convergence(sol.skoptSol)"
   ]
  },
  {
   "cell_type": "code",
   "execution_count": 4,
   "metadata": {},
   "outputs": [
    {
     "data": {
      "text/plain": [
       "<AxesSubplot:>"
      ]
     },
     "execution_count": 4,
     "metadata": {},
     "output_type": "execute_result"
    },
    {
     "data": {
      "image/png": "[encoded data removed]",
      "text/plain": [
       "<Figure size 432x288 with 1 Axes>"
      ]
     },
     "metadata": {
      "needs_background": "light"
     },
     "output_type": "display_data"
    }
   ],
   "source": [
    "skopt.plots.plot_objective_2D(sol.skoptSol,0,1)  "
   ]
  },
  {
   "cell_type": "code",
   "execution_count": 9,
   "metadata": {},
   "outputs": [
    {
     "data": {
      "text/plain": [
       "([0.08831978959044301, 0.129823239005218], -4.39753338743007)"
      ]
     },
     "execution_count": 9,
     "metadata": {},
     "output_type": "execute_result"
    }
   ],
   "source": [
    "sol.x,sol.fun"
   ]
  }
 ],
 "metadata": {
  "kernelspec": {
   "display_name": "Python 3",
   "language": "python",
   "name": "python3"
  },
  "language_info": {
   "codemirror_mode": {
    "name": "ipython",
    "version": 3
   },
   "file_extension": ".py",
   "mimetype": "text/x-python",
   "name": "python",
   "nbconvert_exporter": "python",
   "pygments_lexer": "ipython3",
   "version": "3.8.5"
  }
 },
 "nbformat": 4,
 "nbformat_minor": 4
}
