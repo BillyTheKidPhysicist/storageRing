{
 "cells": [
  {
   "cell_type": "code",
   "execution_count": 1,
   "outputs": [
    {
     "name": "stdout",
     "output_type": "stream",
     "text": [
      "cartesian 1.001 -0.001 0.001\n",
      "center 0.04369900066666587 0.0010004995003747297 -0.001\n"
     ]
    },
    {
     "data": {
      "text/plain": "'\\n0.6887132403434094 0.2776210132006449\\n-3.6829513797661443e-19 0.01254776768094915\\n0.5879823688418285 0.3211102140912485\\n'"
     },
     "execution_count": 1,
     "metadata": {},
     "output_type": "execute_result"
    }
   ],
   "source": [
    "import copy\n",
    "from constants import *\n",
    "from helperTools import *\n",
    "from HalbachLensClass import SegmentedBenderHalbach\n",
    "from elementPT import HalbachBenderSimSegmented\n",
    "\n",
    "class PTL_Dummy: #fake class to just pass some args along\n",
    "    def __init__(self):\n",
    "        self.fieldDensityMultiplier = .75\n",
    "        self.jitterAmp = 0.0\n",
    "        self.v0Nominal=210.0\n",
    "ap=.02\n",
    "rb=1.0\n",
    "Lm=.0254\n",
    "Lseg=Lm+1e-3\n",
    "# targetAngle=np.pi\n",
    "# magnetWidth = ap * np.tan(2 * np.pi / 24) * 2\n",
    "# Lcap=.2\n",
    "# yokeWidth=magnetWidth\n",
    "# ucAngle=np.arctan(Lseg/(2*(rb-ap-yokeWidth)))\n",
    "numMagnets=10\n",
    "# ang=ucAngle*2*numMagnets\n",
    "rp=.02\n",
    "np.random.seed(42) #todo: get rid of thi\n",
    "elDeviation=HalbachBenderSimSegmented(PTL_Dummy(),Lm,rp,numMagnets,rb,1e-3,1.0,True)\n",
    "np.random.seed(42) #todo: get rid of thi\n",
    "elPerfect=HalbachBenderSimSegmented(PTL_Dummy(),Lm,rp,numMagnets,rb,1e-3,1.0,False)\n",
    "#[0.27762101 0.01254777 0.32111021]\n",
    "\"\"\"\n",
    "0.6887132403434094 0.2776210132006449\n",
    "-3.6829513797661443e-19 0.01254776768094915\n",
    "0.5879823688418285 0.3211102140912485\n",
    "\"\"\""
   ],
   "metadata": {
    "collapsed": false,
    "pycharm": {
     "name": "#%%\n"
    }
   }
  },
  {
   "cell_type": "code",
   "execution_count": 2,
   "outputs": [],
   "source": [
    "coordsCenter,coordsCartesian=elDeviation.make_Deviation_Data_Coords()"
   ],
   "metadata": {
    "collapsed": false,
    "pycharm": {
     "name": "#%%\n"
    }
   }
  },
  {
   "cell_type": "code",
   "execution_count": 3,
   "outputs": [],
   "source": [
    "from HalbachLensClass import SegmentedBenderHalbach"
   ],
   "metadata": {
    "collapsed": false,
    "pycharm": {
     "name": "#%%\n"
    }
   }
  },
  {
   "cell_type": "code",
   "execution_count": 4,
   "outputs": [],
   "source": [
    "np.random.seed(42) #todo: get rid of this\n",
    "lensIdeal=SegmentedBenderHalbach(elPerfect.rp, elPerfect.rb, elPerfect.ucAng, elPerfect.Lm,\n",
    "                                               numLenses=numMagnets, applyMethodOfMoments=True,positiveAngleMagnetsOnly=True,useMagnetError=False)\n",
    "np.random.seed(42) #todo: get rid of this\n",
    "lensDeviated=SegmentedBenderHalbach(elDeviation.rp, elDeviation.rb, elDeviation.ucAng, elDeviation.Lm,\n",
    "                                          numLenses=numMagnets, applyMethodOfMoments=True,positiveAngleMagnetsOnly=True,useMagnetError=True)"
   ],
   "metadata": {
    "collapsed": false,
    "pycharm": {
     "name": "#%%\n"
    }
   }
  },
  {
   "cell_type": "code",
   "execution_count": 5,
   "outputs": [
    {
     "name": "stdout",
     "output_type": "stream",
     "text": [
      "[ 0.95773858 -0.0086815   0.28778844]\n",
      "[ 0.33460422  0.         -0.0086815 ]\n"
     ]
    }
   ],
   "source": [
    "def field_Perturbation(qEl):\n",
    "    [Bgradx,Bgrady,Bgradz],B0=lensIdeal.BNorm_Gradient(qEl,returnNorm=True)\n",
    "    valsIdeal=np.array([Bgradx,Bgrady,Bgradz,B0])\n",
    "    [Bgradx,Bgrady,Bgradz],B0=lensDeviated.BNorm_Gradient(qEl,returnNorm=True)\n",
    "    valsDeviated=np.array([Bgradx,Bgrady,Bgradz,B0])\n",
    "    vals=valsDeviated-valsIdeal\n",
    "    Fx,Fy,Fz=-vals[:3]*SIMULATION_MAGNETON\n",
    "    Fy,Fz=Fz,-Fy\n",
    "    V=vals[-1]*SIMULATION_MAGNETON\n",
    "    return Fx,Fy,Fz,V\n",
    "index=261\n",
    "x,y,z=coordsCartesian[index]\n",
    "print(coordsCartesian[index])\n",
    "print(coordsCenter[index])\n",
    "# x,y,z=x,z,-y\n",
    "# print(x,y,z)\n",
    "qEl=np.asarray([x,y,z])\n",
    "\n",
    "# field_Perturbation(qEl)"
   ],
   "metadata": {
    "collapsed": false,
    "pycharm": {
     "name": "#%%\n"
    }
   }
  },
  {
   "cell_type": "code",
   "execution_count": 6,
   "outputs": [
    {
     "name": "stdout",
     "output_type": "stream",
     "text": [
      "[ 0.95773858 -0.0086815   0.28778844] [ 0.33460422  0.         -0.0086815 ]\n",
      "cartesian 0.9577385772902806 -0.008681500302071005 0.28778844204739795\n",
      "center 0.33460421758588127 -3.469446951953614e-18 -0.008681500302071005\n",
      "[60.23143933 20.58276043 15.62553715]\n",
      "(60.23143932760299, 20.582760434351012, 15.62553715046676)\n"
     ]
    }
   ],
   "source": [
    "index=261\n",
    "x,y,z=coordsCartesian[index]\n",
    "print(coordsCartesian[index],coordsCenter[index])\n",
    "# y+=1e-5\n",
    "qHalbach=np.asarray([x,y,z])\n",
    "x,y,z=x,z,-y\n",
    "qEl=np.asarray([x,y,z])\n",
    "# print(coordsCenter[index])\n",
    "print(elDeviation.force(qEl)-elPerfect.force(qEl))\n",
    "print(field_Perturbation(qHalbach)[:-1])\n",
    "# print(field_Perturbation(qHalbach)[:-1]+elPerfect.force(qEl))"
   ],
   "metadata": {
    "collapsed": false,
    "pycharm": {
     "name": "#%%\n"
    }
   }
  },
  {
   "cell_type": "code",
   "execution_count": 3,
   "outputs": [
    {
     "data": {
      "text/plain": "(0.10033467208545054, 0.09983341664682815)"
     },
     "execution_count": 3,
     "metadata": {},
     "output_type": "execute_result"
    }
   ],
   "source": [
    "import numpy as np\n",
    "np.tan(.1),np.sin(.1)"
   ],
   "metadata": {
    "collapsed": false,
    "pycharm": {
     "name": "#%%\n"
    }
   }
  },
  {
   "cell_type": "code",
   "execution_count": 21,
   "outputs": [
    {
     "data": {
      "text/plain": "(0.752351276551724, 0.03620937794199646)"
     },
     "execution_count": 21,
     "metadata": {},
     "output_type": "execute_result"
    }
   ],
   "source": [
    "data=np.array([0.59358765, 0.73831024, 0.71412211, 0.76487371, 0.77081482,\n",
    "               0.66915509, 0.73629484, 0.71798777, 0.82648226, 0.78208901,\n",
    "               0.74013826, 0.7573325 , 0.76545081, 0.81434752, 0.72557242,\n",
    "               0.73725031, 0.80170659, 0.76648397, 0.71676238, 0.76989566,\n",
    "               0.73966908, 0.81051598, 0.72064941, 0.70312636, 0.77790341,\n",
    "               0.73567753, 0.71063524, 0.78621325, 0.78050114, 0.73822535])\n",
    "data=data[1:]\n",
    "np.mean(data),np.std(data)"
   ],
   "metadata": {
    "collapsed": false,
    "pycharm": {
     "name": "#%%\n"
    }
   }
  },
  {
   "cell_type": "code",
   "execution_count": null,
   "outputs": [],
   "source": [],
   "metadata": {
    "collapsed": false,
    "pycharm": {
     "name": "#%%\n"
    }
   }
  },
  {
   "cell_type": "code",
   "execution_count": 48,
   "outputs": [
    {
     "data": {
      "text/plain": "0.5692307692307692"
     },
     "execution_count": 48,
     "metadata": {},
     "output_type": "execute_result"
    }
   ],
   "source": [
    "i=0\n",
    "for coords in coordsCartesian:\n",
    "    x,y,z=coords\n",
    "    x,y,z=x,z,-y\n",
    "    qEl=np.asarray([x,y,z])\n",
    "    if np.any(np.isnan(elPerfect.force(qEl))):\n",
    "        i+=1\n",
    "i/len(coordsCartesian)"
   ],
   "metadata": {
    "collapsed": false,
    "pycharm": {
     "name": "#%%\n"
    }
   }
  },
  {
   "cell_type": "code",
   "execution_count": null,
   "outputs": [],
   "source": [],
   "metadata": {
    "collapsed": false,
    "pycharm": {
     "name": "#%%\n"
    }
   }
  },
  {
   "cell_type": "code",
   "execution_count": null,
   "outputs": [],
   "source": [],
   "metadata": {
    "collapsed": false,
    "pycharm": {
     "name": "#%%\n"
    }
   }
  },
  {
   "cell_type": "code",
   "execution_count": null,
   "outputs": [],
   "source": [],
   "metadata": {
    "collapsed": false,
    "pycharm": {
     "name": "#%%\n"
    }
   }
  },
  {
   "cell_type": "code",
   "execution_count": 2,
   "outputs": [
    {
     "name": "stdout",
     "output_type": "stream",
     "text": [
      "centerFrame 0.04369900066666587 0.0010004995003747297 0.001\n"
     ]
    }
   ],
   "source": [
    "# import copy\n",
    "HalbachBenderSimSegmentedMutant=copy.deepcopy(HalbachBenderSimSegmented)\n",
    "def fake_Field_Force(x,y,z):\n",
    "    K=100.0\n",
    "    Fx,Fy,Fz,V=K*x,5*K*y,-K*z,K**2*(x+y+z)\n",
    "    return Fx,Fy,Fz,V\n",
    "\n",
    "coordsCenter,coordsCartesian=elPerfect.make_Deviation_Data_Coords()\n",
    "fieldVals=np.asarray([fake_Field_Force(*coord) for coord in coordsCartesian])\n",
    "dataUnshaped=np.column_stack((coordsCenter,fieldVals))\n",
    "data=elPerfect.shape_Field_Data_3D(dataUnshaped)\n",
    "HalbachBenderSimSegmentedMutant.generate_Deviation_Data=lambda *args: data\n",
    "elDeviation=HalbachBenderSimSegmentedMutant(PTL_Dummy(),Lm,rp,numMagnets,rb,1e-3,1.0,True)"
   ],
   "metadata": {
    "collapsed": false,
    "pycharm": {
     "name": "#%%\n"
    }
   }
  },
  {
   "cell_type": "code",
   "execution_count": 3,
   "outputs": [
    {
     "data": {
      "text/plain": "<Figure size 432x288 with 1 Axes>",
      "image/png": "[encoded data removed]"
     },
     "metadata": {
      "needs_background": "light"
     },
     "output_type": "display_data"
    }
   ],
   "source": [
    "for coord in coordsCartesian[:5000]:\n",
    "    x,y,z=coord\n",
    "    x,y,z=x,z,-y\n",
    "    if z>.01:\n",
    "        plt.scatter(x,y,c='r')\n",
    "plt.show()\n"
   ],
   "metadata": {
    "collapsed": false,
    "pycharm": {
     "name": "#%%\n"
    }
   }
  },
  {
   "cell_type": "code",
   "execution_count": 7,
   "outputs": [
    {
     "name": "stdout",
     "output_type": "stream",
     "text": [
      "[ 0.4995744   0.00197169 -0.01380184]\n",
      "centerFrame 0.4998019432044824 0.0026410079084515647 -0.014301840291481734\n",
      "[-9832.39909096 -1543.53057734 43083.49895634] [-81451.27480675  33681.81618491  48775.83638058]\n",
      "[ -81451.51125973 -177670.86010676   41945.0314715 ]\n"
     ]
    }
   ],
   "source": [
    "from constants import SIMULATION_MAGNETON\n",
    "# r=rb+rp/2.0\n",
    "# x,y,=r*np.cos(elPerfect.ang*.5),r*np.sin(elPerfect.ang*.5)\n",
    "# z=-rp/3.0\n",
    "index=1751\n",
    "x,y,z=coordsCartesian[index]\n",
    "print(coordsCenter[index])\n",
    "x,y,z=x,z,-y\n",
    "qEl=np.asarray([x,y,z])\n",
    "print(elPerfect.force(qEl),elDeviation.force(qEl))\n",
    "print(-np.array(fake_Field_Force(*qEl)[:3])*SIMULATION_MAGNETON+elPerfect.force(qEl))\n"
   ],
   "metadata": {
    "collapsed": false,
    "pycharm": {
     "name": "#%%\n"
    }
   }
  },
  {
   "cell_type": "code",
   "execution_count": null,
   "outputs": [],
   "source": [],
   "metadata": {
    "collapsed": false,
    "pycharm": {
     "name": "#%%\n"
    }
   }
  },
  {
   "cell_type": "code",
   "execution_count": 19,
   "outputs": [],
   "source": [
    "targetAngle=np.pi\n",
    "magnetWidth = ap * np.tan(2 * np.pi / 24) * 2\n",
    "Lcap=.2\n",
    "yokeWidth=magnetWidth\n",
    "ucAngle=np.arctan(Lseg/(2*(rb-ap-yokeWidth)))\n",
    "numMagnets=50\n",
    "ang=ucAngle*2*numMagnets"
   ],
   "metadata": {
    "collapsed": false,
    "pycharm": {
     "name": "#%%\n"
    }
   }
  },
  {
   "cell_type": "code",
   "execution_count": 44,
   "outputs": [
    {
     "name": "stdout",
     "output_type": "stream",
     "text": [
      "2.361748555323893 0.002 0.001\n"
     ]
    },
    {
     "data": {
      "text/plain": "(2.361748555323893, 0.002000000000000085, 0.001)"
     },
     "execution_count": 44,
     "metadata": {},
     "output_type": "execute_result"
    }
   ],
   "source": [
    "from scipy.spatial.transform import Rotation as Rot\n",
    "def orbit_To_Cartesian(s,xo,yo):\n",
    "    if 0.0<=s<Lcap:\n",
    "        x,y,z=rb+xo,yo,s-Lcap\n",
    "    elif Lcap<=s<Lcap+ang*rb:\n",
    "        theta=(s-Lcap)/rb\n",
    "        r=rb+xo\n",
    "        x,y,z=np.cos(theta)*r,yo,np.sin(theta)*r\n",
    "    elif Lcap+ang*rb<=s:#<=ang*rb+2*Lcap:\n",
    "        theta=ang\n",
    "        r=rb+xo\n",
    "        x0,z0=np.cos(theta)*r,np.sin(theta)*r\n",
    "        deltaS=s-(ang*rb+Lcap)\n",
    "        thetaEndPerp=np.pi+np.arctan(-1/np.tan(theta))\n",
    "        phi=thetaEndPerp\n",
    "        x=x0+np.cos(phi)*deltaS\n",
    "        z=z0+np.sin(phi)*deltaS\n",
    "        y=yo\n",
    "    else:\n",
    "        raise ValueError\n",
    "    return x,y,z\n",
    "\n",
    "def cartesian_To_Orbit(x,y,z):\n",
    "    # convert from cartesian in lens frame, to orbit in lens frame\n",
    "    if x > 0.0 and -Lcap <= z <= 0.0:\n",
    "        s = Lcap + z\n",
    "        xc = x - rb\n",
    "        yc = y\n",
    "    else:\n",
    "        theta = full_Arctan(z, x)\n",
    "        if theta <= ang:\n",
    "            s = theta * rb + Lcap\n",
    "            xc = np.sqrt(x ** 2 + z ** 2) - rb\n",
    "            yc = y\n",
    "        elif ang < theta <= 2 * np.pi:  # i'm being lazy here and not limiting the real end\n",
    "            x0, z0 = np.cos(ang) * rb, np.sin(ang) * rb\n",
    "            thetaEndPerp = np.pi - np.arctan(-1 / np.tan(ang))\n",
    "            x, z = x - x0, z - z0\n",
    "            deltaS, xc = np.cos(thetaEndPerp) * x + np.sin(-thetaEndPerp) * z, np.sin(thetaEndPerp) * x + np.cos(\n",
    "                thetaEndPerp) * z\n",
    "            yc = y\n",
    "            xc = -xc\n",
    "            s = (ang * rb + Lcap) + deltaS\n",
    "        else:\n",
    "            raise ValueError\n",
    "    return s, xc, yc\n",
    "s=ang*rb+5*Lcap\n",
    "xo=2e-3\n",
    "yo=1e-3\n",
    "print(s,xo,yo)\n",
    "x,y,z=orbit_To_Cartesian(s,xo,yo)\n",
    "# print(x,y,z)\n",
    "cartesian_To_Orbit(x,y,z)"
   ],
   "metadata": {
    "collapsed": false,
    "pycharm": {
     "name": "#%%\n"
    }
   }
  },
  {
   "cell_type": "code",
   "execution_count": 45,
   "outputs": [
    {
     "data": {
      "text/plain": "<Figure size 432x288 with 1 Axes>",
      "image/png": "[encoded data removed]"
     },
     "metadata": {
      "needs_background": "light"
     },
     "output_type": "display_data"
    },
    {
     "name": "stdout",
     "output_type": "stream",
     "text": [
      "(200, 3)\n"
     ]
    }
   ],
   "source": [
    "Ls=2*Lcap+ang*rb\n",
    "numS=100\n",
    "numR=2\n",
    "soArr=np.linspace(0.0,Ls,numS)\n",
    "xoArr=np.linspace(-ap*10,ap*10,numR)\n",
    "yoArr=[0]#xoArr.copy()\n",
    "coordsOrbit=arr_Product(soArr,xoArr,yoArr)\n",
    "coords=np.asarray([orbit_To_Cartesian(*coordOrbit) for coordOrbit in coordsOrbit])\n",
    "for coord in coords:\n",
    "    x,y,z=coord\n",
    "    plt.scatter(x,z,c='r',s=1)\n",
    "    s,xc,yc=cartesian_To_Orbit(x,y,z)\n",
    "    x,y,z=orbit_To_Cartesian(s,xc,yc)\n",
    "    plt.scatter(x,z,c='b',s=1)\n",
    "\n",
    "plt.show()\n",
    "print(coords.shape)"
   ],
   "metadata": {
    "collapsed": false,
    "pycharm": {
     "name": "#%%\n"
    }
   }
  },
  {
   "cell_type": "code",
   "execution_count": null,
   "outputs": [],
   "source": [
    "el="
   ],
   "metadata": {
    "collapsed": false,
    "pycharm": {
     "name": "#%%\n"
    }
   }
  },
  {
   "cell_type": "code",
   "execution_count": null,
   "outputs": [],
   "source": [],
   "metadata": {
    "collapsed": false,
    "pycharm": {
     "name": "#%%\n"
    }
   }
  },
  {
   "cell_type": "code",
   "execution_count": null,
   "outputs": [],
   "source": [],
   "metadata": {
    "collapsed": false,
    "pycharm": {
     "name": "#%%\n"
    }
   }
  },
  {
   "cell_type": "code",
   "execution_count": 60,
   "outputs": [
    {
     "name": "stdout",
     "output_type": "stream",
     "text": [
      "1.7381608486175537\n"
     ]
    }
   ],
   "source": [
    "t=time.time()\n",
    "bender = SegmentedBenderHalbach(ap, rb, ucAngle, Lm, numMagnets, positiveAngleMagnetsOnly=True,applyMethodOfMoments=False)\n",
    "vals=bender.BNorm_Gradient(coords,returnNorm=True)\n",
    "print(time.time()-t)"
   ],
   "metadata": {
    "collapsed": false,
    "pycharm": {
     "name": "#%%\n"
    }
   }
  },
  {
   "cell_type": "code",
   "execution_count": 13,
   "outputs": [
    {
     "data": {
      "text/plain": "tuple[float, float, float, float, float, float, float, float, float, float]"
     },
     "execution_count": 13,
     "metadata": {},
     "output_type": "execute_result"
    }
   ],
   "source": [
    "stuff=[int,int,int]\n",
    "tuple[10*(float,)]"
   ],
   "metadata": {
    "collapsed": false,
    "pycharm": {
     "name": "#%%\n"
    }
   }
  },
  {
   "cell_type": "code",
   "execution_count": 5,
   "outputs": [
    {
     "name": "stdout",
     "output_type": "stream",
     "text": [
      "[ 7.27702286e-08 -1.15600754e+04 -1.15085503e+04]\n",
      "[ 7.27702286e-08 -1.15600754e+04 -1.15085503e+04]\n"
     ]
    }
   ],
   "source": [
    "lens=PTL.elList[1]\n",
    "L,rp=lens.L,lens.rp\n",
    "shifty=500e-6\n",
    "shiftz=500e-6\n",
    "qTest1=np.asarray([L/2.0,rp/2.0,rp/2.0])\n",
    "qTest2=qTest1.copy()\n",
    "qTest1[1]-=shifty\n",
    "qTest1[2]-=shiftz\n",
    "\n",
    "print(lens.force(qTest1))\n",
    "lens.perturb_Element(500e-6,shiftz,0.0,0.0)\n",
    "print(lens.force(qTest2))\n",
    "lens.perturb_Element(0.0,0.0,0.0,0.0)"
   ],
   "metadata": {
    "collapsed": false,
    "pycharm": {
     "name": "#%%\n"
    }
   }
  },
  {
   "cell_type": "code",
   "execution_count": null,
   "outputs": [],
   "source": [],
   "metadata": {
    "collapsed": false,
    "pycharm": {
     "name": "#%%\n"
    }
   }
  },
  {
   "cell_type": "code",
   "execution_count": null,
   "outputs": [],
   "source": [],
   "metadata": {
    "collapsed": false,
    "pycharm": {
     "name": "#%%\n"
    }
   }
  },
  {
   "cell_type": "code",
   "execution_count": null,
   "outputs": [],
   "source": [],
   "metadata": {
    "collapsed": false,
    "pycharm": {
     "name": "#%%\n"
    }
   }
  },
  {
   "cell_type": "code",
   "execution_count": null,
   "outputs": [],
   "source": [],
   "metadata": {
    "collapsed": false,
    "pycharm": {
     "name": "#%%\n"
    }
   }
  },
  {
   "cell_type": "code",
   "execution_count": null,
   "outputs": [],
   "source": [],
   "metadata": {
    "collapsed": false,
    "pycharm": {
     "name": "#%%\n"
    }
   }
  },
  {
   "cell_type": "code",
   "execution_count": null,
   "outputs": [],
   "source": [
    "plt.plot(pointsList,results)\n",
    "plt.show()\n",
    "results"
   ],
   "metadata": {
    "collapsed": false,
    "pycharm": {
     "name": "#%%\n"
    }
   }
  },
  {
   "cell_type": "code",
   "execution_count": 1,
   "outputs": [
    {
     "ename": "NameError",
     "evalue": "name 'mSymFunc' is not defined",
     "output_type": "error",
     "traceback": [
      "\u001B[0;31m---------------------------------------------------------------------------\u001B[0m",
      "\u001B[0;31mNameError\u001B[0m                                 Traceback (most recent call last)",
      "\u001B[0;32m/var/folders/c3/_byqmhpx62b_f0jnb2ht27y40000gn/T/ipykernel_14219/3179236376.py\u001B[0m in \u001B[0;36m<module>\u001B[0;34m\u001B[0m\n\u001B[1;32m     49\u001B[0m     \u001B[0mplt\u001B[0m\u001B[0;34m.\u001B[0m\u001B[0mplot\u001B[0m\u001B[0;34m(\u001B[0m\u001B[0;34m*\u001B[0m\u001B[0mpoint\u001B[0m\u001B[0;34m.\u001B[0m\u001B[0mbuffer\u001B[0m\u001B[0;34m(\u001B[0m\u001B[0mradius\u001B[0m\u001B[0;34m)\u001B[0m\u001B[0;34m.\u001B[0m\u001B[0mexterior\u001B[0m\u001B[0;34m.\u001B[0m\u001B[0mxy\u001B[0m\u001B[0;34m,\u001B[0m\u001B[0mc\u001B[0m\u001B[0;34m=\u001B[0m\u001B[0;34m'r'\u001B[0m\u001B[0;34m)\u001B[0m\u001B[0;34m\u001B[0m\u001B[0;34m\u001B[0m\u001B[0m\n\u001B[1;32m     50\u001B[0m     \u001B[0mx\u001B[0m\u001B[0;34m,\u001B[0m\u001B[0my\u001B[0m\u001B[0;34m=\u001B[0m\u001B[0;36m1e2\u001B[0m\u001B[0;34m*\u001B[0m\u001B[0mrShim\u001B[0m\u001B[0;34m*\u001B[0m\u001B[0mnp\u001B[0m\u001B[0;34m.\u001B[0m\u001B[0mcos\u001B[0m\u001B[0;34m(\u001B[0m\u001B[0mphi\u001B[0m\u001B[0;34m)\u001B[0m\u001B[0;34m,\u001B[0m\u001B[0;36m1e2\u001B[0m\u001B[0;34m*\u001B[0m\u001B[0mrShim\u001B[0m\u001B[0;34m*\u001B[0m\u001B[0mnp\u001B[0m\u001B[0;34m.\u001B[0m\u001B[0msin\u001B[0m\u001B[0;34m(\u001B[0m\u001B[0mphi\u001B[0m\u001B[0;34m)\u001B[0m\u001B[0;34m\u001B[0m\u001B[0;34m\u001B[0m\u001B[0m\n\u001B[0;32m---> 51\u001B[0;31m     \u001B[0mmSym\u001B[0m\u001B[0;34m=\u001B[0m\u001B[0mmSymFunc\u001B[0m\u001B[0;34m(\u001B[0m\u001B[0mm\u001B[0m\u001B[0;34m,\u001B[0m\u001B[0mfactors\u001B[0m\u001B[0;34m=\u001B[0m\u001B[0mi\u001B[0m\u001B[0;34m,\u001B[0m\u001B[0mflipDipolexy\u001B[0m\u001B[0;34m=\u001B[0m\u001B[0mbooList\u001B[0m\u001B[0;34m[\u001B[0m\u001B[0mi\u001B[0m\u001B[0;34m]\u001B[0m\u001B[0;34m)\u001B[0m\u001B[0;34m\u001B[0m\u001B[0;34m\u001B[0m\u001B[0m\n\u001B[0m\u001B[1;32m     52\u001B[0m     \u001B[0mquiverData\u001B[0m\u001B[0;34m.\u001B[0m\u001B[0mappend\u001B[0m\u001B[0;34m(\u001B[0m\u001B[0;34m[\u001B[0m\u001B[0mx\u001B[0m\u001B[0;34m,\u001B[0m\u001B[0my\u001B[0m\u001B[0;34m,\u001B[0m\u001B[0;34m*\u001B[0m\u001B[0mmSym\u001B[0m\u001B[0;34m]\u001B[0m\u001B[0;34m)\u001B[0m\u001B[0;34m\u001B[0m\u001B[0;34m\u001B[0m\u001B[0m\n\u001B[1;32m     53\u001B[0m     \u001B[0mi\u001B[0m\u001B[0;34m+=\u001B[0m\u001B[0;36m1\u001B[0m\u001B[0;34m\u001B[0m\u001B[0;34m\u001B[0m\u001B[0m\n",
      "\u001B[0;31mNameError\u001B[0m: name 'mSymFunc' is not defined"
     ]
    },
    {
     "data": {
      "text/plain": "<Figure size 432x288 with 1 Axes>",
      "image/png": "[encoded data removed]"
     },
     "metadata": {
      "needs_background": "light"
     },
     "output_type": "display_data"
    }
   ],
   "source": [
    "import matplotlib.pyplot as plt\n",
    "import numpy as np\n",
    "from shapely.geometry import Polygon,Point\n",
    "from shapely.affinity import rotate\n",
    "from HalbachLensClass import Layer\n",
    "\n",
    "rp=(.05,)\n",
    "width=.0254\n",
    "\n",
    "thetaArr = np.linspace(0, 2 * np.pi, 12, endpoint=False)  # location of 12 magnets\n",
    "thetaArr=thetaArr.reshape(-1,len(rp)).T\n",
    "phiArr = np.pi + np.arange(0, 12) * 2 * np.pi / 3 #direction of magnetization\n",
    "phiArr=phiArr.reshape(-1,len(rp)).T\n",
    "quiverData=[]\n",
    "for r,r_phi,r_theta in zip(rp,phiArr,thetaArr):\n",
    "    for phi,theta in zip(r_phi,r_theta):\n",
    "        x,y=(r+width/2)*np.cos(theta)*1e2,(r+width/2)*np.sin(theta)*1e2\n",
    "        quiverData.append([x,y,np.cos(phi),np.sin(phi)])\n",
    "quiverData=np.asarray(quiverData)\n",
    "\n",
    "squareCoords=np.asarray([(rp[0],-width/2),(rp[0]+width,-width/2),(rp[0]+width,width/2),(rp[0],width/2)])*1e2\n",
    "squareOriginal=Polygon(squareCoords)\n",
    "angleArr=np.linspace(0,np.pi*2,13)[:-1]\n",
    "for angle in angleArr[:]:\n",
    "    square=rotate(squareOriginal,angle,origin=(0,0),use_radians=True)\n",
    "    plt.plot(*square.exterior.xy,c='black')\n",
    "\n",
    "\n",
    "\n",
    "\n",
    "\n",
    "plt.quiver(*quiverData.T,label='Magnets')\n",
    "rShim=.0546\n",
    "phi0=np.pi/6\n",
    "radius=.911\n",
    "psi0=5.89\n",
    "point0=Point([1e2*rShim,0])\n",
    "phiArr=phi0+np.linspace(0.0,2*np.pi,7)[1:]\n",
    "phiArr=np.flip(phiArr)\n",
    "\n",
    "assert abs(abs(phiArr[1]-phiArr[0])-np.pi/3)<1e-6\n",
    "psi=psi0\n",
    "m=np.asarray([np.cos(psi),np.sin(psi)])\n",
    "quiverData=[]\n",
    "i=0\n",
    "booList=[False,True]*5\n",
    "for phi in phiArr[:3]:\n",
    "    point=rotate(point0,phi,origin=(0.0,0.0),use_radians=True)\n",
    "    plt.plot(*point.buffer(radius).exterior.xy,c='r')\n",
    "    x,y=1e2*rShim*np.cos(phi),1e2*rShim*np.sin(phi)\n",
    "    mSym=mSymFunc(m,factors=i,flipDipolexy=booList[i])\n",
    "    quiverData.append([x,y,*mSym])\n",
    "    i+=1\n",
    "quiverData=np.asarray(quiverData)\n",
    "plt.quiver(*quiverData.T,color='r',label='shims')# plt.quiver(quiverData[:,0],quiverData[:,1],quiverData[:,2],quiverData[:,3],color='r',label='shims')\n",
    "\n",
    "layer=Layer(0.0,width,.5,rp)\n",
    "xArr=np.linspace(-rp[0],rp[0],50)\n",
    "coords=np.asarray(np.meshgrid(xArr,xArr,0.0)).T.reshape(-1,3)\n",
    "BVec=layer.B(coords)\n",
    "B=np.linalg.norm(BVec,axis=1)\n",
    "B[np.linalg.norm(coords,axis=1)>rp[0]*.99]=np.nan\n",
    "B=B.reshape(len(xArr),len(xArr))\n",
    "plt.imshow(B,extent=[min(xArr)*100.0,max(xArr)*100.0]*2)\n",
    "# BxGrid=BVec[:,0].reshape(len(xArr),len(xArr))\n",
    "# ByGrid=BVec[:,1].reshape(len(xArr),len(xArr))\n",
    "# plt.streamplot(xArr*1e2,xArr*1e2,BxGrid,ByGrid,density=.8)\n",
    "\n",
    "plt.gca().set_aspect('equal')\n",
    "plt.tight_layout()\n",
    "plt.legend()\n",
    "plt.xlabel('cm')\n",
    "plt.ylabel('cm')\n",
    "plt.title('Run1 magnetization direction of \\n lens magnets and shims')\n",
    "plt.xlim([-10,10])\n",
    "plt.ylim([-10,10])\n",
    "plt.show()"
   ],
   "metadata": {
    "collapsed": false,
    "pycharm": {
     "name": "#%%\n"
    }
   }
  },
  {
   "cell_type": "code",
   "execution_count": null,
   "outputs": [],
   "source": [
    "booList"
   ],
   "metadata": {
    "collapsed": false,
    "pycharm": {
     "name": "#%%\n"
    }
   }
  },
  {
   "cell_type": "code",
   "execution_count": null,
   "outputs": [],
   "source": [
    "import matplotlib.pyplot as plt\n",
    "import numpy as np\n",
    "phi0=0*np.pi/2\n",
    "r=5.0\n",
    "theta0=0*np.pi/2\n",
    "m=np.asarray([np.cos(phi0),np.sin(phi0)])\n",
    "x,y=r*np.cos(theta0),r*np.sin(theta0)\n",
    "phiArr=np.arange(0, 6) * 4 * np.pi / 3\n",
    "def B_Symmetry(r,rotations,rotationAngle=np.pi/3):\n",
    "    xSym,ySym=r*np.cos(rotationAngle*rotations),r*np.sin(rotationAngle*rotations)\n",
    "    if rotations%2==1:\n",
    "        mu = np.tan(rotations*rotationAngle/2)\n",
    "        M_uc = np.asarray([[1 - mu ** 2, 2 * mu], [2 * mu, mu ** 2 - 1]]) * 1 / (1 + mu ** 2)  # reflection matrix\n",
    "        mSym=M_uc@m\n",
    "    else:\n",
    "        M_Angle=rotationAngle*rotations\n",
    "        MRot = np.array([[np.cos(M_Angle), -np.sin(M_Angle)], [np.sin(M_Angle), np.cos(M_Angle)]])\n",
    "        mSym=MRot@m\n",
    "    # if rotations%2==0:\n",
    "    #     mSym=-mSym\n",
    "    # mSym=np.asarray([np.cos(phi0+phiArr[rotations]),np.sin(phi0+phiArr[rotations])])\n",
    "    plt.quiver(xSym,ySym,*mSym)\n",
    "B_Symmetry(r,1)\n",
    "B_Symmetry(r,2)\n",
    "B_Symmetry(r,3)\n",
    "B_Symmetry(r,4)\n",
    "B_Symmetry(r,5)\n",
    "\n",
    "plt.quiver(x,y,*m,color='r')\n",
    "plt.gca().set_aspect('equal')\n",
    "# plt.tight_layout()\n",
    "plt.xlim([-1.1*r,1.1*r])\n",
    "plt.ylim([-1.1*r,1.1*r])\n",
    "plt.show()\n",
    "\n"
   ],
   "metadata": {
    "collapsed": false,
    "pycharm": {
     "name": "#%%\n"
    }
   }
  },
  {
   "cell_type": "code",
   "execution_count": null,
   "outputs": [],
   "source": [],
   "metadata": {
    "collapsed": false,
    "pycharm": {
     "name": "#%%\n"
    }
   }
  },
  {
   "cell_type": "code",
   "execution_count": null,
   "outputs": [],
   "source": [
    "import matplotlib.pyplot as plt\n",
    "import numpy as np\n",
    "phi0=.5*np.pi/2\n",
    "r=5.0\n",
    "theta0=0*np.pi/2\n",
    "m=np.asarray([np.cos(phi0),np.sin(phi0)])\n",
    "x,y=r*np.cos(theta0),r*np.sin(theta0)\n",
    "def B_Symmetry(r,rotations,rotationAngle=np.pi/3):\n",
    "    xSym,ySym=r*np.cos(rotationAngle*rotations),r*np.sin(rotationAngle*rotations)\n",
    "    M_Angle=rotationAngle*rotations\n",
    "    MRot = np.array([[np.cos(M_Angle), -np.sin(M_Angle)], [np.sin(M_Angle), np.cos(M_Angle)]])\n",
    "    mSym=MRot@m\n",
    "    mSym*=(-1)**rotations\n",
    "    # if rotations%2==0:\n",
    "    #     mSym=-mSym\n",
    "    # mSym=np.asarray([np.cos(phi0+phiArr[rotations]),np.sin(phi0+phiArr[rotations])])\n",
    "    plt.quiver(xSym,ySym,*mSym)\n",
    "B_Symmetry(r,1)\n",
    "B_Symmetry(r,2)\n",
    "B_Symmetry(r,3)\n",
    "B_Symmetry(r,4)\n",
    "B_Symmetry(r,5)\n",
    "\n",
    "plt.quiver(x,y,*m,color='r')\n",
    "plt.gca().set_aspect('equal')\n",
    "# plt.tight_layout()\n",
    "plt.xlim([-1.1*r,1.1*r])\n",
    "plt.ylim([-1.1*r,1.1*r])\n",
    "plt.show()\n",
    "\n"
   ],
   "metadata": {
    "collapsed": false,
    "pycharm": {
     "name": "#%%\n"
    }
   }
  },
  {
   "cell_type": "code",
   "execution_count": 3,
   "outputs": [
    {
     "name": "stdout",
     "output_type": "stream",
     "text": [
      "------ITERATIONS:  10\n",
      "POPULATION VARIABILITY: [0.2795085]\n",
      "BEST MEMBER BELOW\n",
      "---population member---- \n",
      "DNA: array([0.02190996])\n",
      "cost: 0.0219082086845373\n",
      "------ITERATIONS:  20\n",
      "POPULATION VARIABILITY: [0.28688691]\n",
      "BEST MEMBER BELOW\n",
      "---population member---- \n",
      "DNA: array([0.])\n",
      "cost: 0.0\n",
      "------ITERATIONS:  30\n",
      "POPULATION VARIABILITY: [0.155358]\n",
      "BEST MEMBER BELOW\n",
      "---population member---- \n",
      "DNA: array([0.])\n",
      "cost: 0.0\n",
      "------ITERATIONS:  40\n",
      "POPULATION VARIABILITY: [0.06905436]\n",
      "BEST MEMBER BELOW\n",
      "---population member---- \n",
      "DNA: array([0.])\n",
      "cost: 0.0\n",
      "finished with total evals:  46\n"
     ]
    },
    {
     "data": {
      "text/plain": "<asyncDE.Member at 0x156c783a0>"
     },
     "execution_count": 3,
     "metadata": {},
     "output_type": "execute_result"
    }
   ],
   "source": [
    "from asyncDE import solve_Async\n",
    "from helperTools import *\n",
    "def func(X):\n",
    "    return np.sin(X[0])\n",
    "solve_Async(func,[(0,1.0)],10,saveData='dummy',timeOut_Seconds=100)"
   ],
   "metadata": {
    "collapsed": false,
    "pycharm": {
     "name": "#%%\n"
    }
   }
  },
  {
   "cell_type": "code",
   "execution_count": null,
   "outputs": [],
   "source": [
    "import numpy as np\n",
    "\n",
    "a=np.array([0.22335083, 0.05468504, 0.01778291, 1.86398975, 5.89642321])\n",
    "b=np.array([0.22336635, 0.05398954, 0.01994955, 2.174386  , 5.1246072 ])\n",
    "c=np.array([0.22336904, 0.05486956, 0.01967456, 1.16595304, 4.66104557])\n",
    "d=np.array([0.22232782 ,0.05411236 ,0.01467107 ,1.69968186 ,5.40909307])\n",
    "e=np.array([0.2228413  ,0.05462561 ,0.01132046 ,1.28740702 ,5.31414559])\n",
    "arr=np.column_stack((a,b,c,d,e))\n",
    "np.std(arr,axis=1),np.mean(arr,axis=1)"
   ],
   "metadata": {
    "collapsed": false,
    "pycharm": {
     "name": "#%%\n"
    }
   }
  },
  {
   "cell_type": "code",
   "execution_count": null,
   "outputs": [],
   "source": [
    "#locked phi,locked theta, variable radius\n",
    "a=np.array([0.2425    , 0.06891085, 0.02262274, 3.05662444, 0.02194268,\n",
    "            0.06575895, 0.04839916, 5.17701814, 0.0254,.08078    ])\n",
    "e=np.zeros(len(a))*np.nan\n",
    "e[0]=.23\n",
    "e[-1]=1.0\n",
    "\n",
    "rowLabels=['L', 'r', 'deltaZ','psi','radius','r', 'deltaZ','psi','radius','cost']\n",
    "colLabels=['param,SI','run1','baseline lens']\n",
    "cellText=[]\n",
    "\n",
    "\n",
    "\n",
    "\n",
    "cellText=[rowLabels,arrToStr(a),arrToStr(e)]\n",
    "cellText=list(zip(*cellText))\n",
    "fig, ax = plt.subplots()\n",
    "ax.set_axis_off()\n",
    "ax.table(cellText=cellText,cellLoc ='center',loc ='upper left',colLabels=colLabels)\n",
    "plt.savefig('poop',dpi=100)\n",
    "plt.show()"
   ],
   "metadata": {
    "collapsed": false,
    "pycharm": {
     "name": "#%%\n"
    }
   }
  },
  {
   "cell_type": "code",
   "execution_count": null,
   "outputs": [],
   "source": [
    "from geneticLensClass import GeneticLens\n",
    "import numpy as np\n",
    "import matplotlib.pyplot as plt\n",
    "\n",
    "rp=.05\n",
    "width=.0254\n",
    "length=.0254\n",
    "\n",
    "DNAList=[]\n",
    "phaseList=[0.0,0*np.pi/24]\n",
    "print(phaseList)\n",
    "for phase in phaseList:\n",
    "    dict={'component':'layer','length':length,'width':width,'rp':rp,'phase':phase}\n",
    "    DNAList.append(dict)\n",
    "lens=GeneticLens(DNAList)\n",
    "xArr=np.linspace(-rp*.9,rp*.9,100)\n",
    "coords=np.asarray(np.meshgrid(xArr,xArr,0.0)).T.reshape(-1,3)\n",
    "vals=np.linalg.norm(lens.BNorm_Gradient(coords),axis=1)\n",
    "vals[np.linalg.norm(coords[:,:2],axis=1)>xArr.max()]=np.nan\n",
    "image=vals.reshape(len(xArr),len(xArr))\n",
    "plt.imshow(image)\n",
    "plt.show()"
   ],
   "metadata": {
    "collapsed": false,
    "pycharm": {
     "name": "#%%\n"
    }
   }
  },
  {
   "cell_type": "code",
   "execution_count": null,
   "outputs": [],
   "source": [
    "from geneticLensClass import GeneticLens\n",
    "import numpy as np\n",
    "import matplotlib.pyplot as plt\n",
    "\n",
    "rp=.05\n",
    "width=.0254\n",
    "length=.0254*10\n",
    "def plot_Field(phaseList):\n",
    "    DNAList=[]\n",
    "    for phase in phaseList:\n",
    "        dict={'component':'layer','length':length,'width':width,'rp':rp,'phase':phase}\n",
    "        DNAList.append(dict)\n",
    "    lens=GeneticLens(DNAList)\n",
    "    xArr=np.linspace(-rp*.9,rp*.9,100)\n",
    "    coords=np.asarray(np.meshgrid(xArr,xArr,0.0)).T.reshape(-1,3)\n",
    "    vals=np.linalg.norm(lens.BNorm_Gradient(coords),axis=1)\n",
    "    vals[np.linalg.norm(coords[:,:2],axis=1)>xArr.max()]=np.nan\n",
    "    image=vals.reshape(len(xArr),len(xArr))\n",
    "    print(np.nansum(image))\n",
    "    plt.imshow(image)\n",
    "    plt.show()\n",
    "plot_Field([0.0]*2)\n",
    "plot_Field([np.pi/12]*2)\n",
    "plot_Field([0.0,np.pi/6])"
   ],
   "metadata": {
    "collapsed": false,
    "pycharm": {
     "name": "#%%\n"
    }
   }
  },
  {
   "cell_type": "code",
   "execution_count": null,
   "outputs": [],
   "source": [
    "import numpy as np\n",
    "import matplotlib.pyplot as plt\n",
    "data=np.loadtxt(\"data\")"
   ],
   "metadata": {
    "collapsed": false,
    "pycharm": {
     "name": "#%%\n"
    }
   }
  },
  {
   "cell_type": "code",
   "execution_count": null,
   "outputs": [],
   "source": [
    "data"
   ],
   "metadata": {
    "collapsed": false,
    "pycharm": {
     "name": "#%%\n"
    }
   }
  },
  {
   "cell_type": "code",
   "execution_count": null,
   "outputs": [],
   "source": [
    "plt.scatter(data[:,0],data[:,3])\n",
    "plt.show()"
   ],
   "metadata": {
    "collapsed": false,
    "pycharm": {
     "name": "#%%\n"
    }
   }
  },
  {
   "cell_type": "code",
   "execution_count": null,
   "outputs": [],
   "source": [
    "import matplotlib.pyplot as plt\n",
    "from HalbachLensClass import Layer,SegmentedBenderHalbach\n",
    "import numpy as np\n",
    "from parallel_Gradient_Descent import gradient_Descent\n",
    "from scipy.optimize import curve_fit\n",
    "import multiprocess as mp\n",
    "import time\n",
    "rp0,rb0,Lm0,extraSpace0=.01,1.0,.0254/2.0,0.0\n",
    "magnetWidth = rp0 * np.tan(2 * np.pi / 24) * 2\n",
    "yokeWidth=magnetWidth\n",
    "Lseg = Lm0 + extraSpace0 * 2\n",
    "ucAng=np.arctan(Lseg/(2*(rb0-rp0-yokeWidth)))"
   ],
   "metadata": {
    "collapsed": false,
    "pycharm": {
     "name": "#%%\n"
    }
   }
  },
  {
   "cell_type": "code",
   "execution_count": null,
   "outputs": [],
   "source": [
    "\n",
    "# numPointsGridEdge=500\n",
    "# xArr=np.linspace(-rp0,rp0,numPointsGridEdge)\n",
    "# coords=np.asarray(np.meshgrid(xArr,xArr,0.0)).T.reshape(-1,3)\n",
    "# def makge_And_Trim_Vals(lens,rp):\n",
    "#     vals=np.asarray([np.linalg.norm(lens.B(np.asarray([coord]))) for coord in coords])\n",
    "#     vals[np.linalg.norm(coords,axis=1)>=rp]=np.nan\n",
    "#     vals[np.linalg.norm(coords,axis=1)<=.1*rp]=np.nan\n",
    "#     return vals\n",
    "# def nominal_Values(rp):\n",
    "#     lens=Layer(0.0,.025,1.0,.05)\n",
    "#     return makge_And_Trim_Vals(lens,rp)\n",
    "# def error_Values(rp,amp=1.0):\n",
    "#     np.random.seed(int(time.time()*1e6)%10_000)\n",
    "#     rpMagnetShift=amp*.01*rp*(np.random.random_sample(12)-.5)\n",
    "#     M_ShiftRelative=amp*.01*(np.random.random_sample(12)-.5)\n",
    "#     thetaShift=amp*(2*np.pi*1/360)*(np.random.random_sample(12)-.5)\n",
    "#     phiShift=amp*(2*np.pi*1/360)*(np.random.random_sample(12)-.5)\n",
    "#     lens=Layer(0.0,.025,1.0,.05,rMagnetShift=rpMagnetShift,M_ShiftRelative=M_ShiftRelative,thetaShift=thetaShift,phiShift=phiShift)\n",
    "#     return makge_And_Trim_Vals(lens,rp)\n",
    "# valsNominal=nominal_Values(rp0)\n",
    "# imageNominal=valsNominal.reshape((int(np.sqrt(len(valsNominal))),)*2)\n",
    "# plt.imshow(imageNominal)\n",
    "# plt.show()"
   ],
   "metadata": {
    "collapsed": false,
    "pycharm": {
     "name": "#%%\n"
    }
   }
  },
  {
   "cell_type": "code",
   "execution_count": null,
   "outputs": [],
   "source": [
    "import multiprocess as mp\n",
    "numRuns=100\n",
    "with mp.Pool(8) as pool:\n",
    "    errorResults=np.asarray(pool.map(error_Values,[rp0]*numRuns))\n",
    "valsErrorRMS=np.std(errorResults,axis=0)\n",
    "valsRelativeError=(valsErrorRMS/valsNominal)\n",
    "imageRelativeError=valsRelativeError.reshape((int(np.sqrt(len(valsNominal))),)*2)\n",
    "plt.imshow(imageRelativeError)\n",
    "plt.show()"
   ],
   "metadata": {
    "collapsed": false,
    "pycharm": {
     "name": "#%%\n"
    }
   }
  },
  {
   "cell_type": "code",
   "execution_count": null,
   "outputs": [],
   "source": [
    "coordsNanTrimmed=coords[~np.isnan(valsRelativeError)]\n",
    "valsNanTrimmed=valsRelativeError[~np.isnan(valsRelativeError)]\n",
    "thetaArr=np.arctan2(coordsNanTrimmed[:,1],coordsNanTrimmed[:,0])\n",
    "thetaArr[thetaArr<0.0]+=2*np.pi\n",
    "#\n",
    "numBins=100\n",
    "thetaFrequency,bins=np.histogram(thetaArr,bins=numBins)\n",
    "errorThetaVals,bins=np.histogram(thetaArr,bins=numBins,weights=valsNanTrimmed)\n",
    "errorThetaVals=errorThetaVals/thetaFrequency\n",
    "\n",
    "binCenter=bins[:-1]+(bins[1]-bins[0])/2\n",
    "\n",
    "plt.plot(binCenter,errorThetaVals)\n",
    "plt.ylabel('mean relative RMS deviation')\n",
    "plt.xlabel('theta (radians)')\n",
    "plt.show()"
   ],
   "metadata": {
    "collapsed": false,
    "pycharm": {
     "name": "#%%\n"
    }
   }
  },
  {
   "cell_type": "code",
   "execution_count": null,
   "outputs": [],
   "source": [
    "# plt.semilogy(thetaArr,valsRelativeError,linewidth=0.0,marker='o',alpha=.1)\n",
    "# plt.show()\n",
    "\n",
    "for i in range(len(errorResults)):\n",
    "    coordsNanTrimmed=coords[~np.isnan(valsRelativeError)]\n",
    "    valsNanTrimmed=errorResults[i][~np.isnan(valsRelativeError)]-valsNominal[~np.isnan(valsRelativeError)]\n",
    "    thetaArr=np.arctan2(coordsNanTrimmed[:,1],coordsNanTrimmed[:,0])\n",
    "    thetaArr[thetaArr<0.0]+=2*np.pi\n",
    "    #\n",
    "    numBins=100\n",
    "    thetaFrequency,bins=np.histogram(thetaArr,bins=numBins)\n",
    "    errorThetaVals,bins=np.histogram(thetaArr,bins=numBins,weights=valsNanTrimmed)\n",
    "    errorThetaVals=errorThetaVals/thetaFrequency\n",
    "\n",
    "    binCenter=bins[:-1]+(bins[1]-bins[0])/2\n",
    "\n",
    "    # plt.plot(binCenter,errorThetaVals)\n",
    "    # plt.show()"
   ],
   "metadata": {
    "collapsed": false,
    "pycharm": {
     "name": "#%%\n"
    }
   }
  },
  {
   "cell_type": "code",
   "execution_count": null,
   "outputs": [],
   "source": [
    "# plot radial dependence\n",
    "rArr=np.sqrt(coords[:,0]**2+coords[:,1]**2)\n",
    "plt.scatter(rArr,valsRelativeError,alpha=.01)\n",
    "plt.show()"
   ],
   "metadata": {
    "collapsed": false,
    "pycharm": {
     "name": "#%%\n"
    }
   }
  },
  {
   "cell_type": "code",
   "execution_count": null,
   "outputs": [],
   "source": [
    "#where is the field the smallest in a bender, ie where is the center?\n",
    "\n",
    "numLens=41\n",
    "bender=SegmentedBenderHalbach(rp0,rb0,ucAng,Lm0,numLenses=numLens,positiveAngleMagnetsOnly=False)\n",
    "thetaMaxGeom=np.arctan(Lm0*(numLens/2)/rb0)\n",
    "thetaMax=Lm0/rb0\n",
    "assert thetaMax<thetaMaxGeom/5.0 # assert small segment of total bend"
   ],
   "metadata": {
    "collapsed": false,
    "pycharm": {
     "name": "#%%\n"
    }
   }
  },
  {
   "cell_type": "code",
   "execution_count": null,
   "outputs": [],
   "source": [
    "\n",
    "def field_Val(deltaR,theta):\n",
    "    if isinstance(deltaR,(tuple,list,np.ndarray)):\n",
    "        deltaR=deltaR[0]\n",
    "    r=rb0+deltaR\n",
    "    x,y,z=np.cos(theta)*r,0.0,np.sin(theta)*r\n",
    "    val=bender.BNorm(np.array([x,y,z]))\n",
    "    return val\n",
    "def find_rZero(theta):\n",
    "    minFunc=lambda x: field_Val(x,theta)\n",
    "    deltaR_Zero=gradient_Descent(minFunc,[0.0],30e-6,50,parallel=False,disp=False,gradStepSize=1e-6)[0][0]\n",
    "    rZero=rb0+deltaR_Zero\n",
    "    return rZero\n",
    "numPoints=50\n",
    "thetaArr=np.linspace(-1.0,1.0,numPoints)*thetaMax\n",
    "with mp.Pool() as pool:\n",
    "    rZeroArr=np.asarray(pool.map(find_rZero,thetaArr))\n",
    "xZeroArr=np.array([r*np.cos(theta) for r,theta in zip(rZeroArr,thetaArr)])\n",
    "zZeroArr=np.array([r*np.sin(theta) for r,theta in zip(rZeroArr,thetaArr)])"
   ],
   "metadata": {
    "collapsed": false,
    "pycharm": {
     "name": "#%%\n"
    }
   }
  },
  {
   "cell_type": "code",
   "execution_count": null,
   "outputs": [],
   "source": [
    "deltaRArr=(rZeroArr-rb0)/1e-6\n",
    "\n",
    "plt.plot(thetaArr,deltaRArr)\n",
    "plt.scatter(thetaArr,deltaRArr)\n",
    "thetaLm=np.arctan(Lm0/rb0)\n",
    "plt.axvline(x=thetaLm/2.0,c='r')\n",
    "plt.axvline(x=-thetaLm/2.0,c='r')\n",
    "# plt.gca().set_aspect('equal')\n",
    "plt.show()"
   ],
   "metadata": {
    "collapsed": false,
    "pycharm": {
     "name": "#%%\n"
    }
   }
  },
  {
   "cell_type": "code",
   "execution_count": null,
   "outputs": [],
   "source": [
    "#fit sines to the rZero depndence as a function of thea\n",
    "y=deltaRArr.copy()\n",
    "# y-=(y.max()+y.min())/2.0\n",
    "# y/=y.max()\n",
    "# y-=np.mean(y)\n",
    "# y/=np.max(y)\n",
    "a0=np.trapz(y*np.cos(0thetaArr),x=thetaArr)\n",
    "plt.plot(thetaArr,y)\n",
    "plt.show()\n",
    "a0"
   ],
   "metadata": {
    "collapsed": false,
    "pycharm": {
     "name": "#%%\n"
    }
   }
  },
  {
   "cell_type": "code",
   "execution_count": null,
   "outputs": [],
   "source": [
    "numPoints=100\n",
    "xArr=np.linspace(rb0-(1-np.cos(thetaMax))*rb0-rp0,rp0+rb0,numPoints)\n",
    "zArr=np.linspace(-1.0,1.0,numPoints)*thetaMax*rb0\n",
    "coords=np.array(np.meshgrid(xArr,0.0,zArr)).T.reshape(-1,3)\n",
    "vals=bender.BNorm(coords)\n",
    "image=np.flip(vals.reshape(numPoints,numPoints),axis=0)\n",
    "xImage=np.flip(coords[:,0].reshape(numPoints,numPoints),axis=0)\n",
    "for rowX,rowVal in zip(xImage,image):\n",
    "    rowX[np.nanargmin(rowVal)]=np.nan\n",
    "    # print(np.min(rowVal))\n",
    "plt.imshow(xImage,extent=[xArr.min(),xArr.max(),zArr.min(),zArr.max()])\n",
    "plt.plot(xZeroArr,zZeroArr,c='r')\n",
    "plt.show()"
   ],
   "metadata": {
    "collapsed": false,
    "pycharm": {
     "name": "#%%\n"
    }
   }
  },
  {
   "cell_type": "code",
   "execution_count": null,
   "outputs": [],
   "source": [
    "import matplotlib.pyplot as plt\n",
    "import time\n",
    "from constants import MAGNETIC_PERMEABILITY\n",
    "import numpy as np\n",
    "from numpy.linalg import norm\n",
    "from HalbachLensClass import magpy_Prism,solve_And_Update_Magnetization_Interactions,HalbachLens\n",
    "from demag_functions import apply_demag\n",
    "# %matplotlib inline\n"
   ],
   "metadata": {
    "collapsed": false,
    "pycharm": {
     "name": "#%%\n"
    }
   }
  },
  {
   "cell_type": "code",
   "execution_count": null,
   "outputs": [],
   "source": [
    "from magpylib import Collection\n",
    "lens=HalbachLens(.15,.0254,.05,applyMethodOfMoments=False,subdivide=False)\n",
    "BoxList=[p._magnet._magnet for p in lens.layerList[0].RectangularPrismsList]\n",
    "col=Collection(*BoxList)\n",
    "apply_demag(col,np.ones(len(BoxList))*.05)\n",
    "for layer in lens.layerList:\n",
    "    for prism in layer.RectangularPrismsList:\n",
    "        #print(1.0-np.linalg.norm(prism._magnet.get_M_Vector()) /np.linalg.norm(prism.M) )\n",
    "        print(prism._magnet.get_M_Vector()[1])"
   ],
   "metadata": {
    "collapsed": false,
    "pycharm": {
     "name": "#%%\n"
    }
   }
  },
  {
   "cell_type": "code",
   "execution_count": null,
   "outputs": [],
   "source": [
    "lens=HalbachLens(.15,.0254,.05,applyMethodOfMoments=True,subdivide=False)\n",
    "BoxList=[p._magnet._magnet for p in lens.layerList[0].RectangularPrismsList]\n",
    "for layer in lens.layerList:\n",
    "    for prism in layer.RectangularPrismsList:\n",
    "        #print(1.0-np.linalg.norm(prism._magnet.get_M_Vector()) /np.linalg.norm(prism.M) )\n",
    "        print(prism._magnet.get_M_Vector()[1])"
   ],
   "metadata": {
    "collapsed": false,
    "pycharm": {
     "name": "#%%\n"
    }
   }
  },
  {
   "cell_type": "code",
   "execution_count": null,
   "outputs": [],
   "source": [
    "0.025999907856928517-.022682154944148047,0.02446192789984869-0.02093190261679334"
   ],
   "metadata": {
    "collapsed": false,
    "pycharm": {
     "name": "#%%\n"
    }
   }
  },
  {
   "cell_type": "code",
   "execution_count": null,
   "outputs": [],
   "source": [
    "import magpylib as magpy\n",
    "from scipy.spatial.transform import Rotation\n",
    "import numpy as np\n",
    "R=Rotation.from_rotvec([0.0,0.0,3.14])\n",
    "\n",
    "\n",
    "M=1.0\n",
    "w=1.0\n",
    "L=2.0\n",
    "r0=5.0\n",
    "x0,y0,z0=0.0,0.0,0.0\n",
    "phase=np.pi/2\n",
    "psi=.5\n",
    "thetaArr = np.linspace(0, 2 * np.pi, 12, endpoint=False)+phase  # location of 12 magnets.\n",
    "phiArr =phase+ np.pi + np.arange(0, 12) * 2 * np.pi / 3 #direction of magnetization\n",
    "\n",
    "\n",
    "c1 = magpy.Collection()\n",
    "for theta,phi in zip(thetaArr,phiArr):\n",
    "    x,y=r0*np.cos(theta),r0*np.sin(theta)\n",
    "    R=Rotation.from_rotvec([0.0,0.0,phi])\n",
    "    box=magpy.magnet.Box(magnetization=(M,0.0,0.0),dimension=(w,w,L),position=(x,y,0.0),orientation=R)\n",
    "    box.move([x0,y0,z0])\n",
    "    c1.add(box)\n",
    "    # c.display()\n",
    "c2 = magpy.Collection()\n",
    "for theta,phi in zip(thetaArr,phiArr):\n",
    "    x,y=r0*np.cos(theta),r0*np.sin(theta)\n",
    "    R=Rotation.from_rotvec([0.0,0.0,phi])\n",
    "    box=magpy.magnet.Box(magnetization=(M,0.0,0.0),dimension=(w,w,L),position=(x,y,5.0),orientation=R)\n",
    "    box.move([x0,y0,z0])\n",
    "    c2.add(box)\n",
    "    # c.display()\n",
    "c3 = magpy.Collection(c1,c2)\n",
    "R=Rotation.from_rotvec([0.0,psi,0.0])\n",
    "c3.rotate(R,anchor=0.0)\n",
    "c3.display()"
   ],
   "metadata": {
    "collapsed": false,
    "pycharm": {
     "name": "#%%\n"
    }
   }
  },
  {
   "cell_type": "code",
   "execution_count": null,
   "outputs": [],
   "source": [
    "class Layer:\n",
    "    def __init__(self,magnetWidths,magnetLength):\n",
    "        pass"
   ],
   "metadata": {
    "collapsed": false,
    "pycharm": {
     "name": "#%%\n"
    }
   }
  },
  {
   "cell_type": "code",
   "execution_count": null,
   "outputs": [],
   "source": [
    "from scipy.spatial.transform import Rotation\n",
    "halfAngMax=1*np.pi/180\n",
    "x1Rand=halfAngMax*(2*(np.random.random_sample()-.5))\n",
    "x2Rand=halfAngMax*(2*(np.random.random_sample()-.5))\n",
    "X=[1.0,0.0,0.0]\n",
    "r1=Rotation.from_rotvec([0,x1Rand,0])\n",
    "r2=Rotation.from_rotvec([0,0,x2Rand])\n",
    "r=r1*r2\n",
    "r.as_matrix()@X"
   ],
   "metadata": {
    "collapsed": false,
    "pycharm": {
     "name": "#%%\n"
    }
   }
  },
  {
   "cell_type": "code",
   "execution_count": null,
   "outputs": [],
   "source": [],
   "metadata": {
    "collapsed": false,
    "pycharm": {
     "name": "#%%\n"
    }
   }
  }
 ],
 "metadata": {
  "kernelspec": {
   "display_name": "Python 3",
   "language": "python",
   "name": "python3"
  },
  "language_info": {
   "codemirror_mode": {
    "name": "ipython",
    "version": 3
   },
   "file_extension": ".py",
   "mimetype": "text/x-python",
   "name": "python",
   "nbconvert_exporter": "python",
   "pygments_lexer": "ipython3",
   "version": "3.8.10"
  },
  "nteract": {
   "version": "0.28.0"
  }
 },
 "nbformat": 4,
 "nbformat_minor": 4
}