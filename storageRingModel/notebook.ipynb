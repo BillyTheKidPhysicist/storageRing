{
 "cells": [
  {
   "cell_type": "code",
   "execution_count": 1,
   "outputs": [],
   "source": [
    "import itertools\n",
    "\n",
    "import matplotlib.pyplot as plt\n",
    "import numpy as np\n",
    "\n",
    "from helper_tools import *\n",
    "\n",
    "from storage_ring_modeler import StorageRingModel,make_optimal_solution_model\n",
    "# from analysis.phaseSpaceAnalyzer import SwarmPoincare\n",
    "# from analysis.phaseSpaceAnalysis_Functions import make_phase_space_info,plot_ring_lattice_with_stops,emittance_from_particles,get_emittances\n",
    "from analysis.phaseSpaceAnalyzer import SwarmPoincare\n",
    "from matrix_method_tracing import Lattice,gamma_at_s\n",
    "from particle import Swarm\n",
    "from thesis_notebooks.results.make_lattices import load_model\n",
    "from particle_tracer_lattice import ParticleTracerLattice\n",
    "from particle import Particle\n",
    "from field_generators import HalbachLens\n",
    "from lattice_elements.elements import Drift,HalbachLensSim,CombinerLensSim,BenderSim\n",
    "# from sigfig import round\n",
    "# model=load_model(1,True)\n",
    "# h=2e-6\n",
    "# lattice=model.lattice_ring\n",
    "# st=model.swarm_tracer_ring\n",
    "#\n",
    "# # _swarm=Swarm()\n",
    "# # _swarm.add_new_particle()\n",
    "# # st.trace_swarm_through_lattice(_swarm,1e-5,.1,use_fast_mode=True) #force compile\n",
    "# lattice_m=Lattice()\n",
    "# lattice_m.add_matrix_\n",
    "# elements_from_sim_lattice(model.lattice_ring)"
   ],
   "metadata": {
    "collapsed": false,
    "pycharm": {
     "name": "#%%\n"
    }
   }
  },
  {
   "cell_type": "code",
   "execution_count": 2,
   "outputs": [
    {
     "name": "stdout",
     "output_type": "stream",
     "text": [
      "0.04827637026797177 -0.003390946797639502\n",
      "-0.07014868976621928 -0.02431096169704483\n"
     ]
    }
   ],
   "source": [
    "model = make_optimal_solution_model('2', use_long_range_fields=False, include_misalignments=False\n",
    "                                    ,build_field_helpers=False)"
   ],
   "metadata": {
    "collapsed": false,
    "pycharm": {
     "name": "#%%\n"
    }
   }
  },
  {
   "cell_type": "code",
   "execution_count": 37,
   "outputs": [
    {
     "name": "stdout",
     "output_type": "stream",
     "text": [
      "lens\n",
      "L 6.115\n",
      "rp 2.0\n",
      "widths [0.51]\n",
      "ap 1.882\n"
     ]
    }
   ],
   "source": [
    "el=model.lattice_ring[0]\n",
    "digits=3\n",
    "if type(el) is HalbachLensSim:\n",
    "    print('lens')\n",
    "    names=['L','rp','widths','ap']\n",
    "    widths=[round(width*100,digits) for width in el.magnet_widths]\n",
    "    values=[round(el.Lm*100,digits),round(2*el.rp*100,digits),widths,round(2*el.ap*100,digits)]\n",
    "    for val,name in zip(values,names):\n",
    "        print(name,val)\n",
    "elif type(el) is Drift:\n",
    "    print('drift')\n",
    "elif type(el) is CombinerLensSim:\n",
    "    print('combiner')\n",
    "    names=['L','rp','widths','ap']\n",
    "    widths=[round(width*100,digits) for width in el.magnet_widths]\n",
    "    values=[round(el.Lm*100,digits),round(2*el.rp*100,digits),widths,round(2*el.ap*100,digits)]\n",
    "    for val,name in zip(values,names):\n",
    "        print(name,val)\n",
    "elif type(el) is BenderSim:\n",
    "    print('bender')\n",
    "    names=['rp','rb','widths','ap']\n",
    "    widths=round(el.magnet_width*100,digits)\n",
    "    values=[round(2*el.rp*100,digits),round(2*el.rb*100,digits),widths,round(2*el.ap*100,digits)]\n",
    "    for val,name in zip(values,names):\n",
    "        print(name,val)\n",
    "\n",
    "else:\n",
    "    raise NotImplementedError"
   ],
   "metadata": {
    "collapsed": false,
    "pycharm": {
     "name": "#%%\n"
    }
   }
  },
  {
   "cell_type": "code",
   "execution_count": 99,
   "outputs": [
    {
     "data": {
      "text/plain": "array([-0.81121798,  0.02491629,  0.        ])"
     },
     "execution_count": 99,
     "metadata": {},
     "output_type": "execute_result"
    }
   ],
   "source": [
    "el.r1"
   ],
   "metadata": {
    "collapsed": false,
    "pycharm": {
     "name": "#%%\n"
    }
   }
  },
  {
   "cell_type": "code",
   "execution_count": 101,
   "outputs": [],
   "source": [
    "lattice=ParticleTracerLattice()\n",
    "lattice.add_segmented_halbach_bender(.0254/2,.01,30,1.0)\n",
    "lattice.end_lattice(build_field_helpers=False)"
   ],
   "metadata": {
    "collapsed": false,
    "pycharm": {
     "name": "#%%\n"
    }
   }
  },
  {
   "cell_type": "code",
   "execution_count": 103,
   "outputs": [
    {
     "data": {
      "text/plain": "<Figure size 432x288 with 1 Axes>",
      "image/png": "[encoded data removed]"
     },
     "metadata": {
      "needs_background": "light"
     },
     "output_type": "display_data"
    },
    {
     "data": {
      "text/plain": "array([0., 0., 0.])"
     },
     "execution_count": 103,
     "metadata": {},
     "output_type": "execute_result"
    }
   ],
   "source": [
    "lattice.show()\n",
    "el=lattice[0]\n",
    "el.r1"
   ],
   "metadata": {
    "collapsed": false,
    "pycharm": {
     "name": "#%%\n"
    }
   }
  },
  {
   "cell_type": "code",
   "execution_count": 119,
   "outputs": [
    {
     "data": {
      "text/plain": "-0.629"
     },
     "execution_count": 119,
     "metadata": {},
     "output_type": "execute_result"
    }
   ],
   "source": [
    "from math import degrees\n",
    "\n",
    "round(model.lattice_ring.combiner.input_offset*1e2,4)"
   ],
   "metadata": {
    "collapsed": false,
    "pycharm": {
     "name": "#%%\n"
    }
   }
  },
  {
   "cell_type": "code",
   "execution_count": 59,
   "outputs": [
    {
     "data": {
      "text/plain": "<Figure size 216x126 with 1 Axes>",
      "image/png": "[encoded data removed]"
     },
     "metadata": {
      "needs_background": "light"
     },
     "output_type": "display_data"
    }
   ],
   "source": [
    "from constants import BHOR_MAGNETON\n",
    "xi=.036\n",
    "AMU_to_kg=1.66e-27\n",
    "masses_AMU=np.linspace(1,140,10000)\n",
    "masses=masses_AMU*AMU_to_kg\n",
    "speed = lambda x: np.sqrt(2*BHOR_MAGNETON/(x*xi))\n",
    "speeds=speed(masses)\n",
    "plt.figure(figsize=(3,1.75))\n",
    "plt.title(\"Proposed design ($\\\\xi$=.036 T$^{-1}$)\")\n",
    "plt.plot(masses_AMU,speeds,zorder=1000)\n",
    "plt.xlabel(\"$m$ (AMU)\")\n",
    "plt.ylabel(\"$v$ (m/s)\")\n",
    "plt.axvline(x=7,ymax=speed(7*AMU_to_kg)/300,linestyle=':',label='Li$^7$',c='r')\n",
    "plt.axvline(x=85,ymax=speed(85*AMU_to_kg)/300,linestyle='--',label='Rb$^{85}$',c='r')\n",
    "plt.legend()\n",
    "plt.ylim([0,300])\n",
    "plt.xlim([0,140])\n",
    "plt.savefig('poop.jpg', dpi=200,bbox_inches='tight')\n",
    "plt.show()"
   ],
   "metadata": {
    "collapsed": false,
    "pycharm": {
     "name": "#%%\n"
    }
   }
  },
  {
   "cell_type": "code",
   "execution_count": 67,
   "outputs": [
    {
     "data": {
      "text/plain": "<Figure size 432x288 with 1 Axes>",
      "image/png": "[encoded data removed]"
     },
     "metadata": {
      "needs_background": "light"
     },
     "output_type": "display_data"
    }
   ],
   "source": [
    "%matplotlib inline\n",
    "plt.plot([1,2],[2,3])\n",
    "plt.ylabel(\"$2 B_p/r_p^2$ (T m$^{-2}$)\")\n",
    "plt.savefig('poop',dpi=300)\n",
    "plt.show()"
   ],
   "metadata": {
    "collapsed": false,
    "pycharm": {
     "name": "#%%\n"
    }
   }
  },
  {
   "cell_type": "code",
   "execution_count": 2,
   "outputs": [
    {
     "data": {
      "text/plain": "0.537371234439885"
     },
     "execution_count": 2,
     "metadata": {},
     "output_type": "execute_result"
    }
   ],
   "source": [
    "B=3\n",
    "dr=2*np.sqrt(gauss_to_tesla(B)/.8)*.01\n",
    "from constants import *\n",
    "h=6.626e-34\n",
    "f=BHOR_MAGNETON*gauss_to_tesla(B)/h\n",
    "T=1/f\n",
    "dt=dr/40\n",
    "dt/T\n",
    ".8*BHOR_MAGNETON/BOLTZMANN_CONSTANT"
   ],
   "metadata": {
    "collapsed": false,
    "pycharm": {
     "name": "#%%\n"
    }
   }
  },
  {
   "cell_type": "code",
   "execution_count": 11,
   "outputs": [
    {
     "data": {
      "text/plain": "6.353808310032283e-17"
     },
     "execution_count": 11,
     "metadata": {},
     "output_type": "execute_result"
    }
   ],
   "source": [
    "a0=30*5.3e-11\n",
    "sigma=8*np.pi*a0**2\n",
    "sigma"
   ],
   "metadata": {
    "collapsed": false,
    "pycharm": {
     "name": "#%%\n"
    }
   }
  },
  {
   "cell_type": "code",
   "execution_count": 72,
   "outputs": [
    {
     "data": {
      "text/plain": "6.909787120600501"
     },
     "execution_count": 72,
     "metadata": {},
     "output_type": "execute_result"
    }
   ],
   "source": [
    "8.05*2*np.pi/(.05*146.4)"
   ],
   "metadata": {
    "collapsed": false,
    "pycharm": {
     "name": "#%%\n"
    }
   }
  },
  {
   "cell_type": "code",
   "execution_count": 6,
   "outputs": [
    {
     "data": {
      "text/plain": "6.0000000000000006e-21"
     },
     "execution_count": 6,
     "metadata": {},
     "output_type": "execute_result"
    }
   ],
   "source": [
    "sigma = 6e-17 # m^2\n",
    "n=7e16\n",
    "d=1/(n*sigma)\n",
    "v_rel=np.sqrt(16*BOLTZMANN_CONSTANT*.01/(3.14*MASS_LITHIUM_7))\n",
    "v_rel/d\n"
   ],
   "metadata": {
    "collapsed": false,
    "pycharm": {
     "name": "#%%\n"
    }
   }
  },
  {
   "cell_type": "code",
   "execution_count": 90,
   "outputs": [
    {
     "data": {
      "text/plain": "<Figure size 432x288 with 1 Axes>",
      "image/png": "[encoded data removed]"
     },
     "metadata": {
      "needs_background": "light"
     },
     "output_type": "display_data"
    }
   ],
   "source": [
    "\n",
    "activity=np.array([0,1,1,1,1,1,0])\n",
    "dates=np.array(list(range(len(activity))))\n",
    "plt.scatter(dates,activity)\n",
    "plt.show()"
   ],
   "metadata": {
    "collapsed": false,
    "pycharm": {
     "name": "#%%\n"
    }
   }
  },
  {
   "cell_type": "code",
   "execution_count": 91,
   "outputs": [
    {
     "name": "stdout",
     "output_type": "stream",
     "text": [
      "[0 6]\n",
      "[5]\n"
     ]
    }
   ],
   "source": [
    "inactive_indices=np.argwhere(activity==0).T[0]\n",
    "# active_stretches=(inactive_indices[1:]-inactive_indices[:-1])-1\n",
    "print(inactive_indices)\n",
    "# print(active_stretches)\n",
    "print(np.diff(inactive_indices)-1)"
   ],
   "metadata": {
    "collapsed": false,
    "pycharm": {
     "name": "#%%\n"
    }
   }
  },
  {
   "cell_type": "code",
   "execution_count": 50,
   "outputs": [
    {
     "data": {
      "text/plain": "1.0120167896411083e-12"
     },
     "execution_count": 50,
     "metadata": {},
     "output_type": "execute_result"
    }
   ],
   "source": [
    "(4.8e14*8.04/210)/1e13\n",
    "A=np.pi*1**2\n",
    "lam=h/np.sqrt(2*np.pi*MASS_LITHIUM_7*BOLTZMANN_CONSTANT*.01)\n",
    "lam\n",
    "(h/(MASS_LITHIUM_7*A*4))/np.sqrt(20e6)"
   ],
   "metadata": {
    "collapsed": false,
    "pycharm": {
     "name": "#%%\n"
    }
   }
  },
  {
   "cell_type": "code",
   "execution_count": 51,
   "outputs": [
    {
     "data": {
      "text/plain": "8.332658392309321e-09"
     },
     "execution_count": 51,
     "metadata": {},
     "output_type": "execute_result"
    }
   ],
   "source": [
    "n=2e12/(np.pi*.005**2 *210)\n",
    "ro=240*n*lam**3\n",
    "ro"
   ],
   "metadata": {
    "collapsed": false,
    "pycharm": {
     "name": "#%%\n"
    }
   }
  },
  {
   "cell_type": "code",
   "execution_count": 47,
   "outputs": [
    {
     "data": {
      "text/plain": "20.0"
     },
     "execution_count": 47,
     "metadata": {},
     "output_type": "execute_result"
    }
   ],
   "source": [
    "n=2e13/1e6\n",
    "n/1e6"
   ],
   "metadata": {
    "collapsed": false,
    "pycharm": {
     "name": "#%%\n"
    }
   }
  },
  {
   "cell_type": "code",
   "execution_count": 9,
   "outputs": [
    {
     "name": "stdout",
     "output_type": "stream",
     "text": [
      "[960000.0, 10000.0, 2500.0, 1000.0, 99.0]\n",
      "[5200.0, 3400.0, 1700.0, 840.0, 98.0]\n",
      "[2600.0, 2100.0, 1300.0, 720.0, 96.0]\n",
      "[1300.0, 1200.0, 860.0, 570.0, 92.0]\n",
      "[780.0, 730.0, 600.0, 440.0, 88.0]\n",
      "[260.0, 250.0, 240.0, 210.0, 72.0]\n"
     ]
    }
   ],
   "source": [
    "from sigfig import round\n",
    "def F(tau,eps):\n",
    "    w=210*tau/8.05\n",
    "    return w/(1-w*np.log(eps))\n",
    "eps=[1.0-1e-6,.9999,.9996,.999,.99]\n",
    "tau=[1e6,200,100,50,30,10]\n",
    "for t in tau:\n",
    "    row=[round(F(t,ep),2) for ep in eps]\n",
    "    print(row)"
   ],
   "metadata": {
    "collapsed": false,
    "pycharm": {
     "name": "#%%\n"
    }
   }
  },
  {
   "cell_type": "code",
   "execution_count": 10,
   "outputs": [
    {
     "data": {
      "text/plain": "857.084069986707"
     },
     "execution_count": 10,
     "metadata": {},
     "output_type": "execute_result"
    }
   ],
   "source": [
    "F(50,.9996)"
   ],
   "metadata": {
    "collapsed": false,
    "pycharm": {
     "name": "#%%\n"
    }
   }
  },
  {
   "cell_type": "code",
   "execution_count": 11,
   "outputs": [],
   "source": [
    "from swarm_tracer import SwarmTracer\n",
    "lattice=ParticleTracerLattice()\n",
    "lattice.add_drift(.1)\n",
    "lattice.end_lattice()\n",
    "st=SwarmTracer(lattice)"
   ],
   "metadata": {
    "collapsed": false,
    "pycharm": {
     "name": "#%%\n"
    }
   }
  },
  {
   "cell_type": "code",
   "execution_count": 14,
   "outputs": [],
   "source": [],
   "metadata": {
    "collapsed": false,
    "pycharm": {
     "name": "#%%\n"
    }
   }
  },
  {
   "cell_type": "code",
   "execution_count": 18,
   "outputs": [
    {
     "data": {
      "text/plain": "<Figure size 432x288 with 1 Axes>",
      "image/png": "[encoded data removed]"
     },
     "metadata": {
      "needs_background": "light"
     },
     "output_type": "display_data"
    }
   ],
   "source": [
    "plt.hist(swarm[:,'pi',0],bins=100)\n",
    "plt.show()"
   ],
   "metadata": {
    "collapsed": false,
    "pycharm": {
     "name": "#%%\n"
    }
   }
  },
  {
   "cell_type": "code",
   "execution_count": 6,
   "outputs": [
    {
     "name": "stdout",
     "output_type": "stream",
     "text": [
      "[[-2.64429135e-05  4.02734902e-05  2.38998274e-05]\n",
      " [-2.64429135e-05  4.02734902e-05  2.38998274e-05]\n",
      " [-2.64429135e-05  4.02734902e-05  2.38998274e-05]\n",
      " [-2.64429135e-05  4.02734902e-05  2.38998274e-05]\n",
      " [-2.64429135e-05  4.02734902e-05  2.38998274e-05]\n",
      " [-2.64429135e-05  4.02734902e-05  2.38998274e-05]\n",
      " [-2.64429135e-05  4.02734902e-05  2.38998274e-05]\n",
      " [-2.64429135e-05  4.02734902e-05  2.38998274e-05]\n",
      " [-2.64429135e-05  4.02734902e-05  2.38998274e-05]\n",
      " [-2.64429135e-05  4.02734902e-05  2.38998274e-05]\n",
      " [-2.64429135e-05  4.02734902e-05  2.38998274e-05]\n",
      " [-2.64429135e-05  4.02734902e-05  2.38998274e-05]]\n"
     ]
    },
    {
     "data": {
      "text/plain": "<Figure size 640x640 with 1 Axes>",
      "image/png": "[encoded data removed]"
     },
     "metadata": {
      "needs_background": "light"
     },
     "output_type": "display_data"
    }
   ],
   "source": [
    "%matplotlib inline\n",
    "lens=HalbachLens(.05,.025,.1,'N52',use_standard_mag_errors=True)\n",
    "lens.show()"
   ],
   "metadata": {
    "collapsed": false,
    "pycharm": {
     "name": "#%%\n"
    }
   }
  },
  {
   "cell_type": "code",
   "execution_count": null,
   "outputs": [],
   "source": [
    "import numpy as np\n",
    "sigma=10\n",
    "eps=.99\n",
    "sigma/(1-sigma*np.log(eps))"
   ],
   "metadata": {
    "collapsed": false,
    "pycharm": {
     "name": "#%%\n"
    }
   }
  },
  {
   "cell_type": "code",
   "execution_count": null,
   "outputs": [],
   "source": [
    "def time_it(N):\n",
    "    T_max=L_lens/vi\n",
    "    h=T_max/N\n",
    "    times=[]\n",
    "    for _ in range(5):\n",
    "        t=time.time()\n",
    "        pt.trace(particle.copy(),h,1.0,fast_mode=True)\n",
    "        times.append(time.time()-t)\n",
    "    return np.min(times),np.std(times)"
   ],
   "metadata": {
    "collapsed": false,
    "pycharm": {
     "name": "#%%\n"
    }
   }
  },
  {
   "cell_type": "code",
   "execution_count": null,
   "outputs": [],
   "source": [
    "N_vals=[1_000,3_000,10_000,30_000,50_000,100_000,300_000,500_000,1_000_000,10_000_000,100_000_000]\n",
    "T_mean,T_std=np.array([time_it(N) for N in N_vals]).T"
   ],
   "metadata": {
    "collapsed": false,
    "pycharm": {
     "name": "#%%\n"
    }
   }
  },
  {
   "cell_type": "code",
   "execution_count": null,
   "outputs": [],
   "source": [
    "plt.errorbar(N_vals,T_mean,T_std)\n",
    "plt.show()\n",
    "m,b=np.polyfit(N_vals,T_mean,1)\n",
    "T_per_ns=1e9*m\n",
    "print(round(T_per_ns))"
   ],
   "metadata": {
    "collapsed": false,
    "pycharm": {
     "name": "#%%\n"
    }
   }
  },
  {
   "cell_type": "code",
   "execution_count": null,
   "outputs": [],
   "source": [
    "# no Numba 3 runs: 2537 2503 2483\n",
    "#yes Numba 3 runs: 10"
   ],
   "metadata": {
    "collapsed": false,
    "pycharm": {
     "name": "#%%\n"
    }
   }
  },
  {
   "cell_type": "code",
   "execution_count": null,
   "outputs": [],
   "source": [
    "from field_generators import Cuboid,Collection\n",
    "rp=5.0\n",
    "M0=1\n",
    "width=1\n",
    "height=1\n",
    "length=1\n",
    "magnet=Cuboid(position=(rp,0,0),magnetization=(M0,0,0),dimension=(width,height,length))\n",
    "magnet.show()\n",
    "magnet.xi"
   ],
   "metadata": {
    "collapsed": false,
    "pycharm": {
     "name": "#%%\n"
    }
   }
  },
  {
   "cell_type": "code",
   "execution_count": null,
   "outputs": [],
   "source": [
    "theta0,delta_theta"
   ],
   "metadata": {
    "collapsed": false,
    "pycharm": {
     "name": "#%%\n"
    }
   }
  },
  {
   "cell_type": "code",
   "execution_count": null,
   "outputs": [],
   "source": [
    "from magpylib import getH\n",
    "scale=1.0\n",
    "lens=HalbachLens(.01*scale,.005*scale,1.0*scale,'N52')\n",
    "def oersted(x,y):\n",
    "    kam= np.linalg.norm(getH(sources=lens,observers=(1e3*x,1e3*y,0))) #ka/m\n",
    "    # kam=getH(sources=lens,observers=(1e3*x,1e3*y,0))[1] #ka/m\n",
    "    koe=kam/80\n",
    "    return koe\n",
    "    # return lens.B_vec(np.array((x,y,0)))[0]\n",
    "    # return getH(sources=lens,observers=(1e3*x,1e3*y,0))[1]\n",
    "x_vals=np.linspace(-.018*scale*0,.018*scale,100)\n",
    "image0,extent=make_image_cartesian(oersted,x_vals,x_vals)"
   ],
   "metadata": {
    "collapsed": false,
    "pycharm": {
     "name": "#%%\n"
    }
   }
  },
  {
   "cell_type": "code",
   "execution_count": null,
   "outputs": [],
   "source": [
    "%matplotlib inline\n",
    "plt.imshow(image0,extent=extent)\n",
    "plt.colorbar()\n",
    "plt.show()\n",
    "image=image0.copy()\n",
    "image[image<9]=np.nan\n",
    "plt.imshow(image,extent=extent)\n",
    "plt.colorbar()\n",
    "plt.show()"
   ],
   "metadata": {
    "collapsed": false,
    "pycharm": {
     "name": "#%%\n"
    }
   }
  },
  {
   "cell_type": "code",
   "execution_count": null,
   "outputs": [],
   "source": [
    "from constants import MAGNETIC_PERMEABILITY\n",
    "900*.08"
   ],
   "metadata": {
    "collapsed": false,
    "pycharm": {
     "name": "#%%\n"
    }
   }
  },
  {
   "cell_type": "code",
   "execution_count": null,
   "outputs": [],
   "source": [
    "\n",
    "def convert(theta):\n",
    "    if theta<np.pi:\n",
    "        theta_perp=np.pi + np.arctan(-1 / np.tan(theta))\n",
    "    elif theta==np.pi:\n",
    "        theta_perp=np.pi\n",
    "    else:\n",
    "        theta_perp =np.arctan(-1 / np.tan(theta))+np.pi*2\n",
    "    return theta_perp\n",
    "theta_vals=np.linspace(.5*np.pi,1.5*np.pi,1000)\n",
    "conv=[convert(theta) for theta in theta_vals]\n",
    "plt.plot(theta_vals,conv)"
   ],
   "metadata": {
    "collapsed": false,
    "pycharm": {
     "name": "#%%\n"
    }
   }
  },
  {
   "cell_type": "code",
   "execution_count": null,
   "outputs": [],
   "source": [
    "            # theta_perp = pi + atan(-1 / tan(theta))\n",
    "theta_perp =convert(theta)"
   ],
   "metadata": {
    "collapsed": false,
    "pycharm": {
     "name": "#%%\n"
    }
   }
  },
  {
   "cell_type": "code",
   "execution_count": null,
   "outputs": [],
   "source": [
    "#greater than pi, no symmetry\n",
    "pt=st.particle_tracer\n",
    "particle=pt.trace(None,1e-6,.1)\n",
    "# don't use symmetry\n",
    "x_drift=.05\n",
    "%matplotlib inline\n",
    "E=particle.qo_vals[:,1]\n",
    "s=particle.qo_vals[:,0]\n",
    "idx=500\n",
    "plt.plot(s[:idx],E[:idx])\n",
    "plt.axvline(x=x_drift)\n",
    "plt.show()"
   ],
   "metadata": {
    "collapsed": false,
    "pycharm": {
     "name": "#%%\n"
    }
   }
  },
  {
   "cell_type": "code",
   "execution_count": null,
   "outputs": [],
   "source": [],
   "metadata": {
    "collapsed": false,
    "pycharm": {
     "name": "#%%\n"
    }
   }
  },
  {
   "cell_type": "code",
   "execution_count": null,
   "outputs": [],
   "source": [
    "# use symmetry\n",
    "x_drift=.05\n",
    "%matplotlib inline\n",
    "E=particle.qo_vals[:,1]\n",
    "s=particle.qo_vals[:,0]\n",
    "idx=50000\n",
    "plt.plot(s[:idx],E[:idx])\n",
    "plt.axvline(x=x_drift)\n",
    "plt.show()"
   ],
   "metadata": {
    "collapsed": false,
    "pycharm": {
     "name": "#%%\n"
    }
   }
  },
  {
   "cell_type": "code",
   "execution_count": null,
   "outputs": [],
   "source": [],
   "metadata": {
    "collapsed": false,
    "pycharm": {
     "name": "#%%\n"
    }
   }
  },
  {
   "cell_type": "code",
   "execution_count": 40,
   "outputs": [
    {
     "data": {
      "text/plain": "(0.9961776882629154, 243, 3.1455790516310334, 0.9995102077941654)"
     },
     "execution_count": 40,
     "metadata": {},
     "output_type": "execute_result"
    }
   ],
   "source": [
    "#constrained\n",
    "PTL[5].rb,PTL[5].num_lenses,PTL[5].ang,PTL[5].ro"
   ],
   "metadata": {
    "collapsed": false,
    "pycharm": {
     "name": "#%%\n"
    }
   }
  },
  {
   "cell_type": "code",
   "execution_count": 34,
   "outputs": [
    {
     "name": "stdout",
     "output_type": "stream",
     "text": [
      "False 0.9961776882629154 243 0.9946229909656237 242\n",
      "7.83532695538064\n",
      "0.05 [0. 0. 0.] [-0.05  0.    0.  ]\n",
      "0.3 [-0.05  0.    0.  ] [-0.35  0.    0.  ]\n",
      "0.05 [-0.35  0.    0.  ] [-0.4  0.   0. ]\n",
      "0.3 [-0.4  0.   0. ] [-0.7  0.   0. ]\n",
      "0.05 [-0.7  0.   0. ] [-0.75  0.    0.  ]\n",
      "3.1635556679020564 [-0.75  0.    0.  ] [-0.74601563  1.99897839  0.        ]\n",
      "0.05 [-0.74601563  1.99897839  0.        ] [-0.69601603  1.99877907  0.        ]\n",
      "0.3 [-0.69601603  1.99877907  0.        ] [-0.39601841  1.99758316  0.        ]\n",
      "0.05 [-0.39601841  1.99758316  0.        ] [-0.34601881  1.99738384  0.        ]\n",
      "0.3 [-0.34601881  1.99738384  0.        ] [-0.04602119  1.99618792  0.        ]\n",
      "0.05 [-0.04602119  1.99618792  0.        ] [0.00397841 1.9959886  0.        ]\n",
      "3.1507353183698563 [0.00397841 1.9959886  0.        ] [-2.07661412e-08 -1.04166205e-05  0.00000000e+00]\n"
     ]
    }
   ],
   "source": [
    "#unconstrained:\n",
    "print(PTL.is_closed,PTL[5].rb,PTL[5].num_lenses,PTL[-1].rb,PTL[-1].num_lenses)\n",
    "print(PTL.total_length)\n",
    "for el in PTL:\n",
    "    print(el.L,el.r1,el.r2)"
   ],
   "metadata": {
    "collapsed": false,
    "pycharm": {
     "name": "#%%\n"
    }
   }
  },
  {
   "cell_type": "code",
   "execution_count": 38,
   "outputs": [
    {
     "name": "stdout",
     "output_type": "stream",
     "text": [
      "True 0.9961776882629154 243 0.9946229909656237 242\n",
      "7.8352298240265625\n",
      "0.05 [0. 0. 0.] [-0.05  0.    0.  ]\n",
      "0.3 [-0.05  0.    0.  ] [-0.35  0.    0.  ]\n",
      "0.05 [-0.35  0.    0.  ] [-0.4  0.   0. ]\n",
      "0.3 [-0.4  0.   0. ] [-0.7  0.   0. ]\n",
      "0.05 [-0.7  0.   0. ] [-0.75  0.    0.  ]\n",
      "3.1635556679020564 [-0.75  0.    0.  ] [-0.74601568  1.99895268  0.        ]\n",
      "0.05 [-0.74601568  1.99895268  0.        ] [-0.69601608  1.99875336  0.        ]\n",
      "0.3 [-0.69601608  1.99875336  0.        ] [-0.39601847  1.99755744  0.        ]\n",
      "0.05 [-0.39601847  1.99755744  0.        ] [-0.34601886  1.99735812  0.        ]\n",
      "0.3 [-0.34601886  1.99735812  0.        ] [-0.04602125  1.99616221  0.        ]\n",
      "0.05 [-0.04602125  1.99616221  0.        ] [0.00397836 1.99596289 0.        ]\n",
      "3.1507353183698563 [0.00397836 1.99596289 0.        ] [-3.70638589e-12  4.75886742e-12  0.00000000e+00]\n"
     ]
    }
   ],
   "source": [
    "#constrainted:\n",
    "print(PTL.is_closed,PTL[5].rb,PTL[5].num_lenses,PTL[-1].rb,PTL[-1].num_lenses)\n",
    "print(PTL.total_length)\n",
    "for el in PTL:\n",
    "    print(el.L,el.r1,el.r2)"
   ],
   "metadata": {
    "collapsed": false,
    "pycharm": {
     "name": "#%%\n"
    }
   }
  },
  {
   "cell_type": "code",
   "execution_count": 25,
   "outputs": [
    {
     "data": {
      "text/plain": "(False,\n array([0., 0., 0.]),\n array([-2.07661412e-08, -1.04166205e-05,  0.00000000e+00]),\n 7.83532695538064)"
     },
     "execution_count": 25,
     "metadata": {},
     "output_type": "execute_result"
    }
   ],
   "source": [
    "PTL.is_closed,PTL[0].r1,PTL[-1].r2,PTL.total_length"
   ],
   "metadata": {
    "collapsed": false,
    "pycharm": {
     "name": "#%%\n"
    }
   }
  },
  {
   "cell_type": "code",
   "execution_count": 22,
   "outputs": [
    {
     "data": {
      "text/plain": "(0.9961776882629154, 243)"
     },
     "execution_count": 22,
     "metadata": {},
     "output_type": "execute_result"
    }
   ],
   "source": [],
   "metadata": {
    "collapsed": false,
    "pycharm": {
     "name": "#%%\n"
    }
   }
  },
  {
   "cell_type": "code",
   "execution_count": 23,
   "outputs": [
    {
     "data": {
      "text/plain": "(0.9946229909656237, 242)"
     },
     "execution_count": 23,
     "metadata": {},
     "output_type": "execute_result"
    }
   ],
   "source": [],
   "metadata": {
    "collapsed": false,
    "pycharm": {
     "name": "#%%\n"
    }
   }
  },
  {
   "cell_type": "code",
   "execution_count": null,
   "outputs": [],
   "source": [],
   "metadata": {
    "collapsed": false,
    "pycharm": {
     "name": "#%%\n"
    }
   }
  },
  {
   "cell_type": "code",
   "execution_count": 16,
   "outputs": [
    {
     "data": {
      "text/plain": "(array([0., 0., 0.]),\n array([-2.07661411e-08,  1.04166177e-05,  0.00000000e+00]))"
     },
     "execution_count": 16,
     "metadata": {},
     "output_type": "execute_result"
    }
   ],
   "source": [
    "PTL[0].r1,PTL[-1].r2"
   ],
   "metadata": {
    "collapsed": false,
    "pycharm": {
     "name": "#%%\n"
    }
   }
  },
  {
   "cell_type": "code",
   "execution_count": 3,
   "outputs": [],
   "source": [
    "pt=st.particle_tracer\n",
    "particle=pt.trace(None,1e-6,1.0)"
   ],
   "metadata": {
    "collapsed": false,
    "pycharm": {
     "name": "#%%\n"
    }
   }
  },
  {
   "cell_type": "code",
   "execution_count": 5,
   "outputs": [
    {
     "data": {
      "text/plain": "<Figure size 432x288 with 1 Axes>",
      "image/png": "[encoded data removed]"
     },
     "metadata": {
      "needs_background": "light"
     },
     "output_type": "display_data"
    }
   ],
   "source": [
    "# E=particle.E_vals\n",
    "%matplotlib inline\n",
    "E=particle.qo_vals[:,1]\n",
    "s=particle.qo_vals[:,0]\n",
    "idx=10000\n",
    "plt.plot(s[:idx],E[:idx])\n",
    "plt.show()"
   ],
   "metadata": {
    "collapsed": false,
    "pycharm": {
     "name": "#%%\n"
    }
   }
  },
  {
   "cell_type": "code",
   "execution_count": 2,
   "outputs": [
    {
     "name": "stdout",
     "output_type": "stream",
     "text": [
      "--------- 0 ----------\n",
      "120 1.001033558017297\n",
      "(0.8982398022446432, 260.701747633752)\n",
      "--------- 1 ----------\n",
      "121 1.0092112899465984\n",
      "(0.8783949587553056, 309.6440300026282)\n",
      "--------- 2 ----------\n",
      "121 1.0092112899465424\n",
      "(0.8777435795345219, 311.3026428771291)\n",
      "--------- 3 ----------\n",
      "121 1.0092112899455021\n",
      "(0.8774383357149493, 312.0798880092963)\n",
      "--------- 4 ----------\n",
      "121 1.0092112899483667\n",
      "(0.8728385127330428, 323.79245938698875)\n"
     ]
    }
   ],
   "source": [
    "for i in range(5):\n",
    "    print('---------',i,'----------')\n",
    "    model=make_optimal_solution_model('2',build_field_helpers=False)\n",
    "    print(model.lattice_ring[-1].num_lenses,model.lattice_ring[-1].ro)\n",
    "    print(model.mode_match(parallel=True)) #(0.8831507143724958, 297.5344059283508)"
   ],
   "metadata": {
    "collapsed": false,
    "pycharm": {
     "name": "#%%\n"
    }
   }
  },
  {
   "cell_type": "code",
   "execution_count": 2,
   "outputs": [
    {
     "name": "stdout",
     "output_type": "stream",
     "text": [
      "(0.8831507143724958, 297.5344059283508)\n"
     ]
    }
   ],
   "source": [
    "model=make_optimal_solution_model('2',build_field_helpers=False)\n",
    "print(model.mode_match(parallel=True)) #(0.8831507143724958, 297.5344059283508)"
   ],
   "metadata": {
    "collapsed": false,
    "pycharm": {
     "name": "#%%\n"
    }
   }
  },
  {
   "cell_type": "code",
   "execution_count": 2,
   "outputs": [
    {
     "name": "stdout",
     "output_type": "stream",
     "text": [
      "0.1\n"
     ]
    },
    {
     "data": {
      "text/plain": "<Figure size 432x288 with 1 Axes>",
      "image/png": "[encoded data removed]"
     },
     "metadata": {
      "needs_background": "light"
     },
     "output_type": "display_data"
    },
    {
     "name": "stdout",
     "output_type": "stream",
     "text": [
      "0.3111111111111111\n"
     ]
    },
    {
     "data": {
      "text/plain": "<Figure size 432x288 with 1 Axes>",
      "image/png": "[encoded data removed]"
     },
     "metadata": {
      "needs_background": "light"
     },
     "output_type": "display_data"
    },
    {
     "name": "stdout",
     "output_type": "stream",
     "text": [
      "0.5222222222222223\n"
     ]
    },
    {
     "data": {
      "text/plain": "<Figure size 432x288 with 1 Axes>",
      "image/png": "[encoded data removed]"
     },
     "metadata": {
      "needs_background": "light"
     },
     "output_type": "display_data"
    },
    {
     "name": "stdout",
     "output_type": "stream",
     "text": [
      "0.7333333333333333\n"
     ]
    },
    {
     "data": {
      "text/plain": "<Figure size 432x288 with 1 Axes>",
      "image/png": "[encoded data removed]"
     },
     "metadata": {
      "needs_background": "light"
     },
     "output_type": "display_data"
    },
    {
     "name": "stdout",
     "output_type": "stream",
     "text": [
      "0.9444444444444444\n"
     ]
    },
    {
     "data": {
      "text/plain": "<Figure size 432x288 with 1 Axes>",
      "image/png": "[encoded data removed]"
     },
     "metadata": {
      "needs_background": "light"
     },
     "output_type": "display_data"
    },
    {
     "name": "stdout",
     "output_type": "stream",
     "text": [
      "1.1555555555555557\n"
     ]
    },
    {
     "data": {
      "text/plain": "<Figure size 432x288 with 1 Axes>",
      "image/png": "[encoded data removed]"
     },
     "metadata": {
      "needs_background": "light"
     },
     "output_type": "display_data"
    },
    {
     "name": "stdout",
     "output_type": "stream",
     "text": [
      "1.3666666666666667\n"
     ]
    },
    {
     "data": {
      "text/plain": "<Figure size 432x288 with 1 Axes>",
      "image/png": "[encoded data removed]"
     },
     "metadata": {
      "needs_background": "light"
     },
     "output_type": "display_data"
    },
    {
     "name": "stdout",
     "output_type": "stream",
     "text": [
      "1.577777777777778\n"
     ]
    },
    {
     "data": {
      "text/plain": "<Figure size 432x288 with 1 Axes>",
      "image/png": "[encoded data removed]"
     },
     "metadata": {
      "needs_background": "light"
     },
     "output_type": "display_data"
    },
    {
     "name": "stdout",
     "output_type": "stream",
     "text": [
      "1.788888888888889\n"
     ]
    },
    {
     "data": {
      "text/plain": "<Figure size 432x288 with 1 Axes>",
      "image/png": "[encoded data removed]"
     },
     "metadata": {
      "needs_background": "light"
     },
     "output_type": "display_data"
    },
    {
     "name": "stdout",
     "output_type": "stream",
     "text": [
      "2.0\n"
     ]
    },
    {
     "data": {
      "text/plain": "<Figure size 432x288 with 1 Axes>",
      "image/png": "[encoded data removed]"
     },
     "metadata": {
      "needs_background": "light"
     },
     "output_type": "display_data"
    },
    {
     "data": {
      "text/plain": "[None, None, None, None, None, None, None, None, None, None]"
     },
     "execution_count": 2,
     "metadata": {},
     "output_type": "execute_result"
    }
   ],
   "source": [
    "def solve_model(factor):\n",
    "    model=make_optimal_solution_model('2',build_field_helpers=False)\n",
    "    constants.SIMULATION_MAGNETON=m0*factor\n",
    "    model.build_field_helpers_if_unbuilt(parallel=True)\n",
    "    T=5.0\n",
    "    st=model.swarm_tracer_ring\n",
    "    swarm=st.speed_testing_swarm(10,500,500)\n",
    "\n",
    "    swarm_traced=st.trace_swarm_through_lattice(swarm,5e-6,T,use_fast_mode=True,parallel=False)\n",
    "    swarm_traced.survival_rev()\n",
    "\n",
    "    revs=np.array(swarm_traced[:,'revolutions'])\n",
    "    revs/=np.sqrt(factor)\n",
    "    px=  swarm_traced[:,'pi',0]\n",
    "    print(factor)\n",
    "    plt.hist(px,weights=revs,bins=len(swarm_traced))\n",
    "    plt.ylim([0,300])\n",
    "    plt.show()\n",
    "\n",
    "factors=np.linspace(.1,2,10)\n",
    "[solve_model(factor) for factor in factors]"
   ],
   "metadata": {
    "collapsed": false,
    "pycharm": {
     "name": "#%%\n"
    }
   }
  },
  {
   "cell_type": "code",
   "execution_count": null,
   "outputs": [],
   "source": [
    "\n",
    "T=5.0\n",
    "st=model.swarm_tracer_ring\n",
    "swarm=st.speed_testing_swarm(100,300,300)\n",
    "\n",
    "swarm_traced=st.trace_swarm_through_lattice(swarm,5e-6,T,use_fast_mode=True,parallel=False)\n",
    "swarm_traced.survival_rev()\n"
   ],
   "metadata": {
    "collapsed": false,
    "pycharm": {
     "name": "#%%\n"
    }
   }
  },
  {
   "cell_type": "code",
   "execution_count": null,
   "outputs": [],
   "source": [
    "#105\n",
    "revs=swarm_traced[:,'revolutions']\n",
    "px=swarm_traced[:,'pi',0]\n",
    "plt.hist(px,weights=revs,bins=len(swarm_traced))\n",
    "plt.ylim([0,150])\n",
    "plt.show()"
   ],
   "metadata": {
    "collapsed": false,
    "pycharm": {
     "name": "#%%\n"
    }
   }
  },
  {
   "cell_type": "code",
   "execution_count": 15,
   "outputs": [
    {
     "data": {
      "text/plain": "<Figure size 432x288 with 1 Axes>",
      "image/png": "[encoded data removed]"
     },
     "metadata": {
      "needs_background": "light"
     },
     "output_type": "display_data"
    }
   ],
   "source": [
    "#105\n",
    "revs=swarm_traced[:,'revolutions']\n",
    "px=swarm_traced[:,'pi',0]\n",
    "plt.hist(px,weights=revs,bins=len(swarm_traced))\n",
    "plt.ylim([0,150])\n",
    "plt.show()"
   ],
   "metadata": {
    "collapsed": false,
    "pycharm": {
     "name": "#%%\n"
    }
   }
  },
  {
   "cell_type": "code",
   "execution_count": 12,
   "outputs": [
    {
     "data": {
      "text/plain": "<Figure size 432x288 with 1 Axes>",
      "image/png": "[encoded data removed]"
     },
     "metadata": {
      "needs_background": "light"
     },
     "output_type": "display_data"
    }
   ],
   "source": [
    "#148\n",
    "revs=swarm_traced[:,'revolutions']\n",
    "px=swarm_traced[:,'pi',0]\n",
    "plt.hist(px,weights=revs,bins=len(swarm_traced))\n",
    "plt.ylim([0,150])\n",
    "plt.show()"
   ],
   "metadata": {
    "collapsed": false,
    "pycharm": {
     "name": "#%%\n"
    }
   }
  },
  {
   "cell_type": "code",
   "execution_count": 9,
   "outputs": [
    {
     "data": {
      "text/plain": "<Figure size 432x288 with 1 Axes>",
      "image/png": "[encoded data removed]"
     },
     "metadata": {
      "needs_background": "light"
     },
     "output_type": "display_data"
    }
   ],
   "source": [
    "#182\n",
    "revs=swarm_traced[:,'revolutions']\n",
    "px=swarm_traced[:,'pi',0]\n",
    "plt.hist(px,weights=revs,bins=len(swarm_traced))\n",
    "plt.ylim([0,150])\n",
    "plt.show()"
   ],
   "metadata": {
    "collapsed": false,
    "pycharm": {
     "name": "#%%\n"
    }
   }
  },
  {
   "cell_type": "code",
   "execution_count": 9,
   "outputs": [
    {
     "data": {
      "text/plain": "<Figure size 432x288 with 1 Axes>",
      "image/png": "[encoded data removed]"
     },
     "metadata": {
      "needs_background": "light"
     },
     "output_type": "display_data"
    }
   ],
   "source": [
    "#210\n",
    "revs=swarm_traced[:,'revolutions']\n",
    "px=swarm_traced[:,'pi',0]\n",
    "plt.hist(px,weights=revs,bins=len(swarm_traced))\n",
    "plt.show()"
   ],
   "metadata": {
    "collapsed": false,
    "pycharm": {
     "name": "#%%\n"
    }
   }
  },
  {
   "cell_type": "code",
   "execution_count": null,
   "outputs": [],
   "source": [],
   "metadata": {
    "collapsed": false,
    "pycharm": {
     "name": "#%%\n"
    }
   }
  },
  {
   "cell_type": "code",
   "execution_count": null,
   "outputs": [],
   "source": [],
   "metadata": {
    "collapsed": false,
    "pycharm": {
     "name": "#%%\n"
    }
   }
  },
  {
   "cell_type": "code",
   "execution_count": 6,
   "outputs": [],
   "source": [
    "# M = 1\n",
    "# px0= 210   : 120.3607392655177\n",
    "# px0 = 148.5  : 0.12567856683625941\n",
    "\n",
    "\n",
    "# M = 1\n",
    "# px0= 210   :0.11161012912485589\n",
    "# px0 = 148.5  :"
   ],
   "metadata": {
    "collapsed": false,
    "pycharm": {
     "name": "#%%\n"
    }
   }
  },
  {
   "cell_type": "code",
   "execution_count": 8,
   "outputs": [
    {
     "data": {
      "text/plain": "([(0.005, 0.03),\n  (0.005, 0.012),\n  (0.005, 0.012),\n  (0.001, 0.1),\n  (1e-06, 0.3),\n  (0.1, 0.7),\n  (0.15, 0.4),\n  (0.01, 0.03),\n  (0.15, 0.3),\n  (0.01, 0.03),\n  (0.05, 0.4),\n  (0.05, 0.4),\n  (0.05, 0.4),\n  (0.05, 0.25),\n  (0.001, 0.03)],\n (['rp_lens3_4',\n   'rp_bend',\n   'rp_apex_lens',\n   'L_apex_lens',\n   'L_Lens1',\n   'L_Lens2'],\n  ['L1', 'rp1', 'L2', 'rp2', 'gap1', 'gap2', 'gap3'],\n  ['Lm_combiner', 'load_beam_offset']))"
     },
     "execution_count": 8,
     "metadata": {},
     "output_type": "execute_result"
    }
   ],
   "source": [
    "def bounds_and_keys(which_system,ring_version):\n",
    "    ring_param_bounds = get_ring_bounds(ring_version)\n",
    "    injector_param_bounds = get_injector_bounds()\n",
    "    ring_param_keys=list(ring_param_bounds.keys())\n",
    "    injector_param_keys=list(injector_param_bounds.keys())\n",
    "    combiner_param_keys=list(combiner_param_bounds.keys())\n",
    "    if which_system=='ring':\n",
    "        injector_param_keys=[]\n",
    "        bounds=[*ring_param_bounds.values(),*combiner_param_bounds.values()]\n",
    "    elif which_system=='both':\n",
    "        bounds=[*ring_param_bounds.values(),*injector_param_bounds.values(),*combiner_param_bounds.values()]\n",
    "    elif which_system=='injector_with_surrogate_ring':\n",
    "        #todo: pretty sure this is wrong\n",
    "        ring_param_keys=[]\n",
    "        raise NotImplementedError\n",
    "    elif which_system=='injector_with_ring':\n",
    "        ring_param_keys=[]\n",
    "        combiner_param_keys=[]\n",
    "        print(*injector_param_bounds.values())\n",
    "        bounds=[*injector_param_bounds.values()]\n",
    "    else:\n",
    "        raise NotImplementedError\n",
    "    return bounds,(ring_param_keys,injector_param_keys,combiner_param_keys)\n",
    "# inj_bounds=get_injector_bounds()\n",
    "# ring_bounds=get_ring_bounds(ring_version)\n",
    "# combiner_bounds=combiner_param_bounds\n",
    "which_system = ('ring', 'injector_with_surrogate_ring', 'injector_with_ring', 'both')[-1]\n",
    "ring_version='2'\n",
    "bounds_and_keys(which_system,ring_version)\n"
   ],
   "metadata": {
    "collapsed": false,
    "pycharm": {
     "name": "#%%\n"
    }
   }
  },
  {
   "cell_type": "code",
   "execution_count": null,
   "outputs": [],
   "source": [
    "def length_params(params):\n",
    "    return 0 if params is None else len(params)\n",
    "def split_param_values(param_values):\n",
    "    ring_param_keys,injector_param_keys,combiner_param_keys=bounds_and_keys(which_system, ring_version)\n",
    "\n",
    "    split_values=[]\n",
    "    for keys in (ring_param_keys,injector_param_keys,combiner_param_keys):\n",
    "        idxa=len(split_values[-1]) if len(split_values)!=0 else 0\n",
    "        num_params=len(keys)\n",
    "        idxb=idxa+num_params\n",
    "        values=param_values[idxa:idxb]\n",
    "        split_values.append(values)\n",
    "    return tuple(split_values)\n",
    "\n",
    "def add_combiner_values(ring_params,injector_params,combiner_param_keys,combiner_params_values):\n",
    "    for params in (ring_params,injector_params):\n",
    "        for key,value in zip(combiner_param_keys,combiner_params_values):\n",
    "            params[key]=value\n",
    "\n",
    "def ring_system_params(param_values,which_system):\n",
    "    _,(ring_param_keys,_,combiner_param_keys)=bounds_and_keys(which_system, ring_version)\n",
    "    ring_params_values,_,combiner_params_values=split_param_values(param_values)\n",
    "    ring_params=dict(zip(ring_param_keys,ring_params_values))\n",
    "    injector_params=dict(get_optimal_injector_params(ring_version))\n",
    "    add_combiner_values(ring_params, injector_params, combiner_param_keys, combiner_params_values)\n",
    "    return ring_params,injector_params\n",
    "def inj_w_actual_ring_system_params(param_values,which_system):\n",
    "    _,(_,injector_param_keys,_)=bounds_and_keys(which_system, ring_version)\n",
    "    _,inj_params_values,_=split_param_values(param_values)\n",
    "    inj_params=dict(zip(injector_param_keys,inj_params_values))\n",
    "    ring_params=get_optimal_ring_params(ring_version)\n",
    "    combiner_keys=combiner_param_bounds.keys()\n",
    "    for key in combiner_keys:\n",
    "        inj_params[key]=ring_params[key]\n",
    "    return ring_params,inj_params\n",
    "def both_system_params(param_values,which_system):\n",
    "    _,(ring_param_keys,inj_param_keys,combiner_param_keys)=bounds_and_keys(which_system, ring_version)\n",
    "    ring_param_values,inj_params_values,combiner_params_values=split_param_values(param_values)\n",
    "    ring_params=dict(zip(ring_param_keys,ring_param_values))\n",
    "    inj_params=dict(zip(inj_param_keys,inj_params_values))\n",
    "    add_combiner_values(ring_params,inj_params,combiner_param_keys,combiner_params_values)\n",
    "    return ring_params,inj_params\n",
    "param_values=list(get_optimal_injector_params(ring_version).values())\n",
    "\n",
    "# ring_system_params(param_values,which_system)\n",
    "param_values=param_values[:-2]\n",
    "inj_w_actual_ring_system_params(param_values,which_system)"
   ],
   "metadata": {
    "collapsed": false,
    "pycharm": {
     "name": "#%%\n"
    }
   }
  },
  {
   "cell_type": "code",
   "execution_count": 5,
   "outputs": [
    {
     "ename": "IndexError",
     "evalue": "list index out of range",
     "output_type": "error",
     "traceback": [
      "\u001B[0;31m---------------------------------------------------------------------------\u001B[0m",
      "\u001B[0;31mIndexError\u001B[0m                                Traceback (most recent call last)",
      "Input \u001B[0;32mIn [5]\u001B[0m, in \u001B[0;36m<cell line: 2>\u001B[0;34m()\u001B[0m\n\u001B[1;32m      1\u001B[0m a\u001B[38;5;241m=\u001B[39m[]\n\u001B[0;32m----> 2\u001B[0m \u001B[43ma\u001B[49m\u001B[43m[\u001B[49m\u001B[38;5;241;43m-\u001B[39;49m\u001B[38;5;241;43m1\u001B[39;49m\u001B[43m]\u001B[49m\n",
      "\u001B[0;31mIndexError\u001B[0m: list index out of range"
     ]
    }
   ],
   "source": [
    "a=[]\n",
    "a[-1]"
   ],
   "metadata": {
    "collapsed": false,
    "pycharm": {
     "name": "#%%\n"
    }
   }
  },
  {
   "cell_type": "code",
   "execution_count": 2,
   "outputs": [
    {
     "data": {
      "text/plain": "(0.8365572332613057, 0.46422051614363674)"
     },
     "execution_count": 2,
     "metadata": {},
     "output_type": "execute_result"
    }
   ],
   "source": [
    "lens=WedgeHalbachLens(.05,.2,.05,'N52')\n",
    "np.random.seed(42)\n",
    "coords=np.random.random((1000,3))*.05\n",
    "np.mean(lens.B_norm(coords)),np.std(lens.B_norm(coords)) #(0.8365572332613057, 0.46422051614363674)"
   ],
   "metadata": {
    "collapsed": false,
    "pycharm": {
     "name": "#%%\n"
    }
   }
  },
  {
   "cell_type": "code",
   "execution_count": 191,
   "outputs": [
    {
     "data": {
      "text/plain": "<Figure size 640x640 with 1 Axes>",
      "image/png": "[encoded data removed]"
     },
     "metadata": {
      "needs_background": "light"
     },
     "output_type": "display_data"
    }
   ],
   "source": [
    "rp=.05\n",
    "width=.0254\n",
    "np.random.seed(42)\n",
    "lens=HalbachLens((rp,rp+width),(width,width*1.5),.1524,'N40',use_standard_mag_errors=True)\n",
    "R=Rot.from_rotvec([0,np.pi/2,0])\n",
    "lens.rotate(R)\n",
    "lens.show()"
   ],
   "metadata": {
    "collapsed": false,
    "pycharm": {
     "name": "#%%\n"
    }
   }
  },
  {
   "cell_type": "code",
   "execution_count": 192,
   "outputs": [],
   "source": [
    "x=0\n",
    "def B_vec(y,z):\n",
    "    q=np.array([x,y,z])\n",
    "    bx,by,bz=lens.B_vec(q)\n",
    "    r=np.sqrt(y**2+z**2)\n",
    "    Br=(by*y + bz*z)/r\n",
    "    B_theta=(-z*by + y*bz)/r\n",
    "    return Br,B_theta\n",
    "def B_norm(y,z):\n",
    "    q=np.array([x,y,z])\n",
    "    return lens.B_norm(q)"
   ],
   "metadata": {
    "collapsed": false,
    "pycharm": {
     "name": "#%%\n"
    }
   }
  },
  {
   "cell_type": "code",
   "execution_count": 206,
   "outputs": [
    {
     "name": "stdout",
     "output_type": "stream",
     "text": [
      "looping over function inputs to make image data\n"
     ]
    },
    {
     "data": {
      "text/plain": "<Figure size 432x288 with 2 Axes>",
      "image/png": "[encoded data removed]"
     },
     "metadata": {
      "needs_background": "light"
     },
     "output_type": "display_data"
    }
   ],
   "source": [
    "x_vals=np.linspace(-.01,.01,100)\n",
    "image,extent=make_image_cartesian(B_norm,x_vals,x_vals)\n",
    "image=image/np.max(image)\n",
    "extent=np.array(extent)*1e3\n",
    "plt.imshow(np.log10(image),extent=extent)#,cmap='Reds')\n",
    "plt.xlabel(\"Position, (mm)\")\n",
    "plt.ylabel(\"Position, (mm)\")\n",
    "plt.colorbar()\n",
    "plt.savefig(\"thesis0\",dpi=300)\n",
    "plt.show()\n",
    "# plt.contour([x_vals,x_vals],image)"
   ],
   "metadata": {
    "collapsed": false,
    "pycharm": {
     "name": "#%%\n"
    }
   }
  },
  {
   "cell_type": "code",
   "execution_count": 157,
   "outputs": [
    {
     "data": {
      "text/plain": "<Figure size 640x640 with 1 Axes>",
      "image/png": "[encoded data removed]"
     },
     "metadata": {
      "needs_background": "light"
     },
     "output_type": "display_data"
    }
   ],
   "source": [
    "\n",
    "\n",
    "theta_vals=np.linspace(0,2*np.pi,300)[:-1]\n",
    "r0=.03\n",
    "y_vals,z_vals=np.cos(theta_vals)*r0,np.sin(theta_vals)*r0\n",
    "Br_vals,B_theta_vals=np.array([B_vec(y,z) for y,z in zip(y_vals,z_vals) ]).T"
   ],
   "metadata": {
    "collapsed": false,
    "pycharm": {
     "name": "#%%\n"
    }
   }
  },
  {
   "cell_type": "code",
   "execution_count": 158,
   "outputs": [],
   "source": [
    "from math import atan\n",
    "\n",
    "\n",
    "\n",
    "\n",
    "def B_pole(y,z,n,orientation):\n",
    "    assert isinstance(n,int)\n",
    "    theta=np.arctan2(z,y)\n",
    "    if orientation=='skew':\n",
    "        return -np.cos(n*theta+np.pi/2),-np.sin(n*theta)\n",
    "    elif orientation=='upright':\n",
    "        return np.sin(n*theta),np.cos(n*theta)\n",
    "    else:\n",
    "        raise NotImplementedError\n",
    "def projection(n,orientation):\n",
    "    Br_vals_pole,B_theta_vals_pole=np.array([B_pole(y,z,n,orientation) for y,z in zip(y_vals,z_vals) ]).T\n",
    "    overlap=Br_vals_pole*Br_vals\n",
    "    return np.trapz(overlap,theta_vals)\n",
    "def pole_amplitude(n):\n",
    "    amp1=projection(n,'skew')\n",
    "    amp2=projection(n,'upright')\n",
    "    return np.sqrt(amp1**2+amp2**2)\n"
   ],
   "metadata": {
    "collapsed": false,
    "pycharm": {
     "name": "#%%\n"
    }
   }
  },
  {
   "cell_type": "code",
   "execution_count": 156,
   "outputs": [
    {
     "data": {
      "text/plain": "<Figure size 432x288 with 1 Axes>",
      "image/png": "[encoded data removed]"
     },
     "metadata": {
      "needs_background": "light"
     },
     "output_type": "display_data"
    }
   ],
   "source": [
    "n_vals=list(range(1,10))\n",
    "amps_err2=np.array([pole_amplitude(n) for n in n_vals])\n",
    "amps_err2/=np.max(amps_err2)\n",
    "plt.semilogy(n_vals,amps_err2,linewidth=0,marker='o')\n",
    "plt.ylim([1e-6,1.1])\n",
    "plt.show()"
   ],
   "metadata": {
    "collapsed": false,
    "pycharm": {
     "name": "#%%\n"
    }
   }
  },
  {
   "cell_type": "code",
   "execution_count": 159,
   "outputs": [
    {
     "data": {
      "text/plain": "<Figure size 432x288 with 1 Axes>",
      "image/png": "[encoded data removed]"
     },
     "metadata": {
      "needs_background": "light"
     },
     "output_type": "display_data"
    }
   ],
   "source": [
    "n_vals=list(range(1,10))\n",
    "amps_ideal2=np.array([pole_amplitude(n) for n in n_vals])\n",
    "amps_ideal2/=np.max(amps_ideal2)\n",
    "plt.semilogy(n_vals,amps_ideal2,linewidth=0,marker='o')\n",
    "plt.ylim([1e-6,1.1])\n",
    "plt.show()"
   ],
   "metadata": {
    "collapsed": false,
    "pycharm": {
     "name": "#%%\n"
    }
   }
  },
  {
   "cell_type": "code",
   "execution_count": 219,
   "outputs": [
    {
     "data": {
      "text/plain": "<Figure size 432x288 with 1 Axes>",
      "image/png": "[encoded data removed]"
     },
     "metadata": {
      "needs_background": "light"
     },
     "output_type": "display_data"
    }
   ],
   "source": [
    "plt.semilogy(n_vals,amps_ideal1,linewidth=0,marker='x',label='Ideal material',zorder=10,markersize=10)\n",
    "plt.semilogy(n_vals,amps_err1,linewidth=0,marker='^',label='Real material, r=1 cm')\n",
    "plt.semilogy(n_vals,amps_err2,linewidth=0,marker='o',label='Real material, r=3 cm')\n",
    "plt.ylim([1e-4,2])\n",
    "# plt.axvline(x=3,c='r',linestyle=':')\n",
    "plt.legend()\n",
    "plt.savefig(\"thesis1\",dpi=300)\n",
    "plt.show()"
   ],
   "metadata": {
    "collapsed": false,
    "pycharm": {
     "name": "#%%\n"
    }
   }
  },
  {
   "cell_type": "code",
   "execution_count": null,
   "outputs": [],
   "source": [],
   "metadata": {
    "collapsed": false,
    "pycharm": {
     "name": "#%%\n"
    }
   }
  },
  {
   "cell_type": "code",
   "execution_count": null,
   "outputs": [],
   "source": [
    "from matrix_method_tracing import transfer_matrix_func_from_lens,K_mag_vals_and_slice_lengths_from_lens_el\n",
    "el=lattice[1]\n",
    "M=transfer_matrix_func_from_lens(el)"
   ],
   "metadata": {
    "collapsed": false,
    "pycharm": {
     "name": "#%%\n"
    }
   }
  },
  {
   "cell_type": "code",
   "execution_count": 37,
   "outputs": [
    {
     "data": {
      "text/plain": "<Figure size 432x288 with 1 Axes>",
      "image/png": "[encoded data removed]"
     },
     "metadata": {
      "needs_background": "light"
     },
     "output_type": "display_data"
    }
   ],
   "source": [
    "r_pos=.1\n",
    "r_arrow=.01\n",
    "num=12\n",
    "phi_vals=np.linspace(0,2*np.pi,num+1)[:-1]\n",
    "theta_vals=phi_vals*(3+1)\n",
    "for phi,theta in zip(phi_vals,theta_vals):\n",
    "    x=r_pos*np.cos(phi)\n",
    "    y=r_pos*np.sin(phi)\n",
    "    dx=r_arrow*np.cos(theta)\n",
    "    dy=r_arrow*np.sin(theta)\n",
    "    plt.arrow(x,y,dx,dy,color='r')\n",
    "    # plt.scatter(x,y)\n",
    "x_vals,y_vals=r_pos*np.cos(phi_vals),r_pos*np.sin(phi_vals)\n",
    "plt.plot(x_vals,y_vals,alpha=.05)\n",
    "plt.gca().set_aspect('equal')\n",
    "plt.savefig('thesis',dpi=300)"
   ],
   "metadata": {
    "collapsed": false,
    "pycharm": {
     "name": "#%%\n"
    }
   }
  },
  {
   "cell_type": "code",
   "execution_count": 36,
   "outputs": [],
   "source": [
    "rp=.05\n",
    "lens=HalbachLens(rp,.0254,.5,'N52')\n",
    "R=Rot.from_rotvec([0,0,np.pi])\n",
    "lens.rotate(R)\n",
    "def wrap(x,y):\n",
    "    r=np.sqrt(x**2+y**2)\n",
    "    if r>=rp-1e-6:\n",
    "        return np.nan\n",
    "    else:\n",
    "        return lens.B_norm(np.array([x,y,0]))\n",
    "x_vals=np.linspace(-rp,rp,300)\n",
    "image,_=make_image_cartesian(wrap,x_vals,x_vals)"
   ],
   "metadata": {
    "collapsed": false,
    "pycharm": {
     "name": "#%%\n"
    }
   }
  },
  {
   "cell_type": "code",
   "execution_count": 37,
   "outputs": [
    {
     "data": {
      "text/plain": "<Figure size 432x288 with 1 Axes>",
      "image/png": "[encoded data removed]"
     },
     "metadata": {
      "needs_background": "light"
     },
     "output_type": "display_data"
    }
   ],
   "source": [
    "plt.imshow(image)\n",
    "plt.xlim([-10,320])\n",
    "plt.ylim([-10,320])\n",
    "plt.gca().axis('off')\n",
    "plt.savefig('thesis',dpi=300)\n",
    "plt.show()"
   ],
   "metadata": {
    "collapsed": false,
    "pycharm": {
     "name": "#%%\n"
    }
   }
  },
  {
   "cell_type": "code",
   "execution_count": 3,
   "outputs": [
    {
     "ename": "NameError",
     "evalue": "name 'r1' is not defined",
     "output_type": "error",
     "traceback": [
      "\u001B[0;31m---------------------------------------------------------------------------\u001B[0m",
      "\u001B[0;31mNameError\u001B[0m                                 Traceback (most recent call last)",
      "Input \u001B[0;32mIn [3]\u001B[0m, in \u001B[0;36m<cell line: 4>\u001B[0;34m()\u001B[0m\n\u001B[1;32m      2\u001B[0m     \u001B[38;5;28;01mreturn\u001B[39;00m col\u001B[38;5;241m.\u001B[39mB_norm(np\u001B[38;5;241m.\u001B[39marray([x,y,\u001B[38;5;241m0\u001B[39m]))\n\u001B[1;32m      3\u001B[0m     \u001B[38;5;66;03m# return col.B_vec(np.array([x,y,0]))[1]\u001B[39;00m\n\u001B[0;32m----> 4\u001B[0m x_vals\u001B[38;5;241m=\u001B[39mnp\u001B[38;5;241m.\u001B[39mlinspace(\u001B[38;5;241m-\u001B[39m\u001B[43mr1\u001B[49m,r1)\u001B[38;5;241m/\u001B[39m\u001B[38;5;241m2\u001B[39m\n\u001B[1;32m      5\u001B[0m image,exten\u001B[38;5;241m=\u001B[39mmake_image_cartesian(norm,x_vals,x_vals)\n\u001B[1;32m      6\u001B[0m plt\u001B[38;5;241m.\u001B[39mimshow(image)\n",
      "\u001B[0;31mNameError\u001B[0m: name 'r1' is not defined"
     ]
    }
   ],
   "source": [
    "def norm(x,y):\n",
    "    return col.B_norm(np.array([x,y,0]))\n",
    "    # return col.B_vec(np.array([x,y,0]))[1]\n",
    "x_vals=np.linspace(-r1,r1)/2\n",
    "image,exten=make_image_cartesian(norm,x_vals,x_vals)\n",
    "plt.imshow(image)\n",
    "plt.show()\n",
    "y_vals=[norm(x,0) for x in x_vals]\n",
    "plt.plot(x_vals,y_vals)"
   ],
   "metadata": {
    "collapsed": false,
    "pycharm": {
     "name": "#%%\n"
    }
   }
  },
  {
   "cell_type": "code",
   "execution_count": 27,
   "outputs": [
    {
     "data": {
      "text/plain": "10.880269050598145"
     },
     "execution_count": 27,
     "metadata": {},
     "output_type": "execute_result"
    }
   ],
   "source": [
    "q_vals=np.random.random((50_000,3))\n",
    "t=time.time()\n",
    "col.B_norm(q_vals)\n",
    "time.time()-t"
   ],
   "metadata": {
    "collapsed": false,
    "pycharm": {
     "name": "#%%\n"
    }
   }
  },
  {
   "cell_type": "code",
   "execution_count": 26,
   "outputs": [
    {
     "data": {
      "text/plain": "[<matplotlib.lines.Line2D at 0x176819520>]"
     },
     "execution_count": 26,
     "metadata": {},
     "output_type": "execute_result"
    },
    {
     "data": {
      "text/plain": "<Figure size 432x288 with 1 Axes>",
      "image/png": "[encoded data removed]"
     },
     "metadata": {
      "needs_background": "light"
     },
     "output_type": "display_data"
    }
   ],
   "source": [
    "lens=HalbachLens(.05,.025,1.0,'N52')\n",
    "def norm(x,y):\n",
    "    # return col.B_norm(np.array([x,y,0]))\n",
    "    return lens.B_norm(np.array([x,y,0]))\n",
    "x_vals=np.linspace(-.03,.03)/2\n",
    "# image,exten=make_image_cartesian(norm,x_vals,x_vals)\n",
    "# plt.imshow(image)\n",
    "\n",
    "y_vals=[norm(x,0) for x in x_vals]\n",
    "plt.plot(x_vals,y_vals)"
   ],
   "metadata": {
    "collapsed": false,
    "pycharm": {
     "name": "#%%\n"
    }
   }
  },
  {
   "cell_type": "code",
   "execution_count": null,
   "outputs": [],
   "source": [],
   "metadata": {
    "collapsed": false,
    "pycharm": {
     "name": "#%%\n"
    }
   }
  },
  {
   "cell_type": "code",
   "execution_count": 19,
   "outputs": [],
   "source": [
    "from analysis.phaseSpaceAnalyzer import SwarmPoincare\n",
    "def energy_snap(swarm,x_snap):\n",
    "    try: #because of the annoying issue with no orbit coords in the combiner!\n",
    "        swarm_snap=SwarmPoincare(swarm,x_snap)\n",
    "    except:\n",
    "        swarm_snap=SwarmPoincare(swarm,x_snap-.4)\n",
    "    E_vals=[]\n",
    "    for particle in swarm_snap.get_Surviving_Particles():\n",
    "        deltaE=simulation_energy_to_mk(particle.deltaE)\n",
    "        E_vals.append(deltaE)\n",
    "    return np.mean(E_vals),np.std(E_vals)\n",
    "def energies_of_swarm(swarm):\n",
    "    x_max=max([particle.qo_vals[-1,0] for particle in swarm])\n",
    "    x_max*=.95\n",
    "    revs=int(max(particle.revolutions for particle in swarm))\n",
    "    num_points=min([100,revs])\n",
    "    x_vals=np.linspace(.5,x_max,num_points)\n",
    "    energies=np.array([energy_snap(swarm,x) for x in x_vals])\n",
    "    E_mean,E_std=energies.T\n",
    "    return x_vals,E_mean,E_std\n",
    "def energies(h,T,use_long_range_fields):\n",
    "    swarm=trace_swarm(h,T,use_long_range_fields)\n",
    "    return energies_of_swarm(swarm)"
   ],
   "metadata": {
    "collapsed": false,
    "pycharm": {
     "name": "#%%\n"
    }
   }
  },
  {
   "cell_type": "code",
   "execution_count": null,
   "outputs": [],
   "source": [
    "T0=30.0\n",
    "cross_talk=True\n",
    "wrap=lambda x: energies(*x)\n",
    "args=[(1e-5,T0,cross_talk),(5e-6,T0,cross_talk),(2e-6,T0,cross_talk),(1e-6,T0,cross_talk)]\n",
    "# args=[(1e-5,T0,True),(5e-6,T0,True),(2e-6,T0,True),(1e-6,T0,True)]\n",
    "results=[wrap(arg) for arg in args]"
   ],
   "metadata": {
    "collapsed": false,
    "pycharm": {
     "name": "#%%\n"
    }
   }
  },
  {
   "cell_type": "code",
   "execution_count": null,
   "outputs": [],
   "source": [
    "idx=3\n",
    "T=args[idx][0]\n",
    "x_vals,E_mean,E_std=results[idx]\n",
    "T_vals=x_vals/210.0\n",
    "plt.title(\"Cross talk enabled, \"+str(T)+\" second time step\")\n",
    "plt.plot(T_vals,E_mean,label='mean value')\n",
    "plt.fill_between(T_vals,E_mean+E_std,E_mean-E_std,alpha=.5,label='STD')\n",
    "plt.xlabel('Simulation time, (s)')\n",
    "plt.ylabel(\"Energy change, mk\")\n",
    "plt.legend()\n",
    "plt.show()"
   ],
   "metadata": {
    "collapsed": false,
    "pycharm": {
     "name": "#%%\n"
    }
   }
  },
  {
   "cell_type": "code",
   "execution_count": null,
   "outputs": [],
   "source": [
    "import sympy as sym\n",
    "b,c,x=sym.symbols('b c x')\n",
    "f=b*sym.cos(3*x)**2+c*sym.sin(3*x)**2\n",
    "sym.trigsimp(f)"
   ],
   "metadata": {
    "collapsed": false,
    "pycharm": {
     "name": "#%%\n"
    }
   }
  },
  {
   "cell_type": "code",
   "execution_count": null,
   "outputs": [],
   "source": [
    "swarm_traced.survival_bool()"
   ],
   "metadata": {
    "collapsed": false,
    "pycharm": {
     "name": "#%%\n"
    }
   }
  },
  {
   "cell_type": "code",
   "execution_count": null,
   "outputs": [],
   "source": [
    "SIMULATION_MAGNETON/BOLTZMANN_CONSTANT"
   ],
   "metadata": {
    "collapsed": false,
    "pycharm": {
     "name": "#%%\n"
    }
   }
  },
  {
   "cell_type": "code",
   "execution_count": null,
   "outputs": [],
   "source": [
    "pt=model.swarm_tracer_ring.particle_tracer\n",
    "swarm=model.swarm_tracer_ring.initalize_pseudorandom_swarm_in_phase_space(1e-3,3.0,3.0,100,same_seed=True)\n",
    "swarm_traced=model.swarm_tracer_ring.trace_swarm_through_lattice(swarm,1e-6,30.0,parallel=True,use_fast_mode=True)\n",
    "def get_energy(q,p):\n",
    "    el=pt.which_element_lab_coords(q)\n",
    "    KE=np.linalg.norm(p)**2/2\n",
    "    V=el.magnetic_potential(el.transform_lab_coords_into_element_frame(q))\n",
    "    return KE+V\n",
    "def initial_energy(particle):\n",
    "    q,p=particle.qi,particle.pi\n",
    "    return get_energy(q,p)\n",
    "def final_energy(particle):\n",
    "    q,p=particle.qf,particle.pf\n",
    "    return get_energy(q,p)\n",
    "def energy_change(particle):\n",
    "    Ei,Ef=initial_energy(particle),final_energy(particle)\n",
    "    return Ef-Ei"
   ],
   "metadata": {
    "collapsed": false,
    "pycharm": {
     "name": "#%%\n"
    }
   }
  },
  {
   "cell_type": "code",
   "execution_count": null,
   "outputs": [],
   "source": [
    "dE=[energy_change(particle) for particle in swarm_traced]\n",
    "plt.hist(dE)\n",
    "print(np.mean(dE),np.std(dE),np.min(dE),np.max(dE))"
   ],
   "metadata": {
    "collapsed": false,
    "pycharm": {
     "name": "#%%\n"
    }
   }
  },
  {
   "cell_type": "code",
   "execution_count": null,
   "outputs": [],
   "source": [
    "#  description:                     delta E mean,       delta E std,       min delta E,     max delta E\n",
    "# nominal magnets, 5e-6 step size : -35.24546866443747 90.97553796215479 -395.8918003062099 199.6268382365124\n",
    "# nominal magnets, 1e-6 step size: -3.0498819593304143 86.47725716894485 -363.760420308161 231.83005723528186\n",
    "# nominal magnets, 5e-7 step size: 5.7140239209199715 88.82552276464713 -358.1629997353084 243.6865364506266\n",
    "# twice point density everywhere, 5e-6 step size: -41.46160607240741 55.93358143046129 -212.3540295591847 80.21600315286923\n",
    "# Change derivative to central from forward, 5e-6 step size: -32.52383801141834 88.80174306204253 -395.9105656453685 200.74092691069018\n",
    "# double density in len transverse coordinates, 5e-6 step size: -32.000613813870984 81.81744962453821 -280.66042333380756 154.45880935243258\n",
    "# double density in combiner, 5e-6 step size: -36.851069545712996 97.16351349682155 -398.50996156298424 232.32720046058967\n",
    "# double density in bender, 5e-6 step size: -32.570700723675216 49.45585831490073 -189.81751567288302 101.81453417169178\n",
    "# double density in bender longitduinal, 5e-6 step size: -34.473488332671515 89.5214949594357 -384.84784138825125 196.350211209985\n",
    "#double density in transverse bender, 5e-6: -31.648435972079678 49.031648516128044 -193.51181627203187 85.34604303615197\n",
    "# double density in horizontal plane of bender, 5e-6: -38.14013223042035 65.56861530012485 -203.1955141510589 145.83996654791554\n",
    "# bender cross talk only present in generator form, not interp, 5e-6: 5.667390020517887 82.0292247275941 -200.74100571383678 229.78629662913954\n",
    "#double field falloff cutoff for generators, 5e-6: -36.6327247818515 87.94006894271281 -385.49826421411854 194.94168651146538\n",
    "#double density in transverse bender, 1e-6: 2.126221332948262 50.9564774743791 -195.00286684164166 122.14332485583873\n",
    "#double density in transverse bender with max step interp size lens, 1e-6: 8.478547737985863 39.21509134604949 -102.93793821644067 118.33216237340821\n",
    "#Default magnet settings, 1e-6 step size, magnet errors and cross talk enabled: 11.793900226883999 17.533017905737783 -29.909511328474764 65.93077262899897"
   ],
   "metadata": {
    "collapsed": false,
    "pycharm": {
     "name": "#%%\n"
    }
   }
  },
  {
   "cell_type": "code",
   "execution_count": null,
   "outputs": [],
   "source": [
    "import numpy as np\n",
    "np.random.randint(2**64)"
   ],
   "metadata": {
    "collapsed": false,
    "pycharm": {
     "name": "#%%\n"
    }
   }
  },
  {
   "cell_type": "code",
   "execution_count": null,
   "outputs": [],
   "source": [
    "swarm=model.swarm_tracer_ring.initalize_pseudorandom_swarm_in_phase_space(1e-3,3.0,3.0,5,same_seed=True)\n",
    "swarm_traced=model.swarm_tracer_ring.trace_swarm_through_lattice(swarm,5e-6,30.0,parallel=True,use_fast_mode=False)"
   ],
   "metadata": {
    "collapsed": false,
    "pycharm": {
     "name": "#%%\n"
    }
   }
  },
  {
   "cell_type": "code",
   "execution_count": null,
   "outputs": [],
   "source": [
    "%matplotlib inline\n",
    "swarm_traced[2].plot_energies(show_only_total_energy=True)"
   ],
   "metadata": {
    "collapsed": false,
    "pycharm": {
     "name": "#%%\n"
    }
   }
  },
  {
   "cell_type": "code",
   "execution_count": null,
   "outputs": [],
   "source": [
    "import constants\n",
    "constants.MAGNET_DIMENSIONAL_TOLERANCE=0.0\n",
    "constants.MAGNET_MAGNETIZATION_ANGLE_TOLERANCE=0.0\n",
    "constants.MAGNET_MAGNETIZATION_NORM_TOLERANCE=0.0\n",
    "t=time.time()\n",
    "model=make_optimal_solution_model('2',use_bumper=False,include_mag_errors=True,use_long_range_fields=True,build_field_helpers=False)\n",
    "print(time.time()-t)\n",
    "t=time.time()\n",
    "model.build_field_helpers_if_unbuilt(parallel=True)\n",
    "print(time.time()-t)\n",
    "t=time.time()\n",
    "print(model.mode_match(parallel=True))\n",
    "print(time.time()-t)"
   ],
   "metadata": {
    "collapsed": false,
    "pycharm": {
     "name": "#%%\n"
    }
   }
  },
  {
   "cell_type": "code",
   "execution_count": null,
   "outputs": [],
   "source": [
    "import constants\n",
    "constants.MAGNET_DIMENSIONAL_TOLERANCE=0.0\n",
    "constants.MAGNET_MAGNETIZATION_ANGLE_TOLERANCE=0.0\n",
    "constants.MAGNET_MAGNETIZATION_NORM_TOLERANCE=0.0\n",
    "t=time.time()\n",
    "model=make_optimal_solution_model('2',use_bumper=False,include_mag_errors=True,use_long_range_fields=True,build_field_helpers=False)\n",
    "print(time.time()-t)\n",
    "t=time.time()\n",
    "model.build_field_helpers_if_unbuilt(parallel=True)\n",
    "print(time.time()-t)\n",
    "t=time.time()\n",
    "print(model.mode_match(parallel=True))\n",
    "print(time.time()-t)"
   ],
   "metadata": {
    "collapsed": false,
    "pycharm": {
     "name": "#%%\n"
    }
   }
  },
  {
   "cell_type": "code",
   "execution_count": null,
   "outputs": [],
   "source": [
    "from matrix_method_tracing import Lattice,stability_factors_lattice\n",
    "import numpy as np\n",
    "lattice=Lattice()\n",
    "lattice.add_lens(.1,1.0,.01)\n",
    "lattice.add_drift(.1)\n",
    "Mx=lattice.M_total()[0]\n",
    "Mx\n"
   ],
   "metadata": {
    "collapsed": false,
    "pycharm": {
     "name": "#%%\n"
    }
   }
  },
  {
   "cell_type": "code",
   "execution_count": null,
   "outputs": [],
   "source": [
    "bounds=[(-1,1.0)]\n",
    "values=3*(np.random.random(10_000)-.5)\n",
    "new_vals=[confine_values_to_bounds([val],bounds)[0] for val in values]\n",
    "plt.hist(new_vals,bins=100)\n",
    "plt.show()"
   ],
   "metadata": {
    "collapsed": false,
    "pycharm": {
     "name": "#%%\n"
    }
   }
  },
  {
   "cell_type": "code",
   "execution_count": null,
   "outputs": [],
   "source": [
    "# def distance(el1,el2):\n",
    "#\n",
    "# el=lattice[0]\n",
    "# el\n",
    "# for el_neighbor in lattice:\n",
    "from lattice_elements.elements import HalbachLensSim,CombinerLensSim\n",
    "from numpy.linalg import norm\n",
    "\n",
    "# for\n",
    "# dr1=el1.r1-el2.r1\n",
    "# dr2=el1.r1-el2.r2\n",
    "# dr3=el1.r2-el2.r2\n",
    "# dr4=el1.r2-el2.r1\n",
    "# dr_vals=[dr1,dr2,dr3,dr4]\n",
    "# dr_vals\n",
    "field_generator_els=(HalbachLensSim,CombinerLensSim)\n",
    "def are_close_enough(el1,el2):\n",
    "    dr=np.array([norm(pos1-pos2) for pos1,pos2 in itertools.product([el1.r1,el1.r2],[el2.r1,el2.r2])])\n",
    "    dr_min=min(dr)\n",
    "    for el in [el1,el2]:\n",
    "        print(el.rp)\n",
    "        if type(el) in field_generator_els and el.rp>dr_min:\n",
    "            return True\n",
    "    return False\n",
    "\n",
    "are_close_enough(el1,el2)\n"
   ],
   "metadata": {
    "collapsed": false,
    "pycharm": {
     "name": "#%%\n"
    }
   }
  },
  {
   "cell_type": "code",
   "execution_count": null,
   "outputs": [],
   "source": [
    "import sympy as sym\n",
    "from sympy.physics.mechanics import dynamicsymbols#, init_vprinting\n",
    "# init_vprinting()\n",
    "m,t,kx,ky=sym.symbols('m t k_x k_y')\n",
    "x,y,z=dynamicsymbols('x y z',real=True)\n",
    "ky=0\n",
    "V=sym.Function('V')(x,y,z)\n",
    "h=1+kx*x+ky*y\n",
    "T=(m/2)*(x.diff(t)**2+y.diff(t)**2+(h*z.diff(t))**2)\n",
    "L=T-V\n",
    "funcs=[]\n",
    "for val in [x]:\n",
    "    funcs.append(-L.diff(val.diff(t)).diff(t)+L.diff(val))\n",
    "    display(funcs[-1])"
   ],
   "metadata": {
    "collapsed": false,
    "pycharm": {
     "name": "#%%\n"
    }
   }
  },
  {
   "cell_type": "code",
   "execution_count": null,
   "outputs": [],
   "source": [
    "v,xp,xpp,yp,ypp,sp,spp=sym.symbols('v x\\' x\\'\\' y\\' y\\'\\' s\\' s\\'\\'')\n",
    "xz,yz,zz=sym.symbols('x y z')\n",
    "\n",
    "\n",
    "zd_sub=v/sp\n",
    "zdd_sub=v**2 *spp/sp**4\n",
    "xd_sub=yd_sub=v/sp\n",
    "xdd_sub=(v**2/sp)*(xpp/sp -xp*spp/sp**2)\n",
    "ydd_sub=(v**2/sp)*(ypp/sp -yp*spp/sp**2)\n",
    "\n",
    "zd=sym.Derivative(z,t)\n",
    "zdd=sym.Derivative(z,t,2)\n",
    "yd=sym.Derivative(y,t)\n",
    "ydd=sym.Derivative(y,t,2)\n",
    "xd=sym.Derivative(x,t)\n",
    "xdd=sym.Derivative(x,t,2)\n",
    "_x,_y,_z,_V=sym.symbols('x y z V')\n",
    "sub=[(zdd,zdd_sub),(ydd,ydd_sub),(xdd,xdd_sub),(zd,zd_sub),(yd,yd_sub),(xd,xd_sub),(x,xz),(y,yz),(z,zz),(x,_x),(y,_y),(z,_z)]"
   ],
   "metadata": {
    "collapsed": false,
    "pycharm": {
     "name": "#%%\n"
    }
   }
  },
  {
   "cell_type": "code",
   "execution_count": null,
   "outputs": [],
   "source": [
    "funcs[0].subs(sub).subs(spp,0)"
   ],
   "metadata": {
    "collapsed": false,
    "pycharm": {
     "name": "#%%\n"
    }
   }
  },
  {
   "cell_type": "code",
   "execution_count": null,
   "outputs": [],
   "source": [
    "import sympy as sym\n",
    "ko,x,vo,vi,kb,m,delta=sym.symbols('k_o x v_o v_i k_B m \\delta')\n",
    "func=ko-3*ko**2*x-ko*vo**2/vi**2-kb*x/(vi**2*m)\n",
    "x_mean=sym.solve(func,x)[0]\n",
    "x_mean=x_mean.subs(vi,vo*(1+delta))\n",
    "deltaX=x_mean.series(delta,0,2).removeO()\n",
    "2*deltaX.subs(m,1).subs(vo,210.0).subs(kb,2*800/.01**2).subs(ko,1).subs(delta,10/210),2*10/210"
   ],
   "metadata": {
    "collapsed": false,
    "pycharm": {
     "name": "#%%\n"
    }
   }
  },
  {
   "cell_type": "code",
   "execution_count": null,
   "outputs": [],
   "source": [
    "deltaX=sym.symbols('\\Delta_x')\n",
    "sp_x=(1+2*ko*x)\n",
    "sp_delta=(1+2*delta*deltaX)\n",
    "func=sp_x*ko-3*ko**2*sp_delta*x-ko*vo**2*sp_x/vi**2-kb*sp_delta*x/(vi**2*m)\n",
    "func=func.subs(vi,vo*(1+delta)).series(delta,0,2).removeO().expand()\n",
    "func.collect(x)"
   ],
   "metadata": {
    "collapsed": false,
    "pycharm": {
     "name": "#%%\n"
    }
   }
  },
  {
   "cell_type": "code",
   "execution_count": null,
   "outputs": [],
   "source": [],
   "metadata": {
    "collapsed": false,
    "pycharm": {
     "name": "#%%\n"
    }
   }
  },
  {
   "cell_type": "code",
   "execution_count": null,
   "outputs": [],
   "source": [
    "\n",
    "sp_x=(1+2*ko*x)\n",
    "sp_delta=(1)#+2*delta*deltaX)\n",
    "func=sp_x*ko-3*ko**2*sp_delta*x-ko*vo**2*sp_x/vi**2-kb*sp_delta*x/(vi**2*m)\n",
    "func.subs(vi,vo*(1+delta)).series(delta,0,3).removeO().expand()\n",
    "func"
   ],
   "metadata": {
    "collapsed": false,
    "pycharm": {
     "name": "#%%\n"
    }
   }
  },
  {
   "cell_type": "code",
   "execution_count": null,
   "outputs": [],
   "source": [
    "import sympy as sym\n",
    "s,xi,xdi,K0,dk=sym.symbols('s x_i x\\'_i K0 \\Delta_k')\n",
    "A,B=sym.symbols('A B')\n",
    "phi=sym.sqrt(K0)*s+dk*xi*s/(2*sym.sqrt(K0))\n",
    "x=A*sym.cos(phi)+B*sym.sin(phi)\n",
    "xd=x.diff(s)\n",
    "display(x)\n",
    "display(xd)"
   ],
   "metadata": {
    "collapsed": false,
    "pycharm": {
     "name": "#%%\n"
    }
   }
  },
  {
   "cell_type": "code",
   "execution_count": null,
   "outputs": [],
   "source": [
    "x=sym.series(x,xi,0,2).removeO()\n",
    "xd=sym.series(xd,xi,0,2).removeO()\n",
    "funcs=[x.subs(s,0)-xi,xd.subs(s,0)-xdi]\n",
    "sub=sym.solve(funcs,(A,B))\n",
    "display(sub[A])\n",
    "display(sub[B])\n",
    "x=x.subs(sub)\n",
    "xd=xd.subs(sub)"
   ],
   "metadata": {
    "collapsed": false,
    "pycharm": {
     "name": "#%%\n"
    }
   }
  },
  {
   "cell_type": "code",
   "execution_count": null,
   "outputs": [],
   "source": [
    "eps=sym.symbols('eps')\n",
    "x.subs(xi,xi*eps).subs(xdi,xdi*eps).series(eps,0,3).removeO().subs(eps,1)"
   ],
   "metadata": {
    "collapsed": false,
    "pycharm": {
     "name": "#%%\n"
    }
   }
  },
  {
   "cell_type": "code",
   "execution_count": null,
   "outputs": [],
   "source": [
    "xd.subs(xi,xi*eps).subs(xdi,xdi*eps).series(eps,0,3).removeO().subs(eps,1)"
   ],
   "metadata": {
    "collapsed": false,
    "pycharm": {
     "name": "#%%\n"
    }
   }
  },
  {
   "cell_type": "code",
   "execution_count": null,
   "outputs": [],
   "source": [
    "from constants import *\n",
    "2*BHOR_MAGNETON*1.0/(.01**2 * MASS_LITHIUM_7*210**2)\n",
    "\n",
    "delta=10/210\n",
    "xi=5e-3\n",
    "k0=1/1.0\n",
    "8*delta*k0**3*xi,2*delta*k0**2,4*k0**3*xi,3*k0**2\n",
    "360*2*delta\n",
    "\n",
    "k0,kb,delta,xi,x,vo,m=sym.symbols('k_0 k_b delta x_i x v_o m' )\n",
    "func=-3*k0**2*(1+2*delta+4*k0*xi+8*delta*k0*xi)*x\n",
    "func+=2*k0*(4*delta*k0*xi+delta+2*k0*xi)*(1+2*k0*x)\n",
    "func+=-kb*x/(m*vo**2) - 2*kb*delta*x/(m*vo**2)\n",
    "sym.collect(func.expand(),x)"
   ],
   "metadata": {
    "collapsed": false,
    "pycharm": {
     "name": "#%%\n"
    }
   }
  },
  {
   "cell_type": "code",
   "execution_count": null,
   "outputs": [],
   "source": [
    "import sympy as sym\n",
    "k0,kb,xo,m,vi,x,vd,Df,v,vo,vk,delta, kb=sym.symbols('k_0 k_B xo m vi x v_d {\\Delta}F v v_o v_k delta k_b' )\n",
    "\n",
    "func=k0*m*vi**2-3*k0**2*m*vi**2*x -m*k0*vo**2+Df\n",
    "sp=(1+k0*x)\n",
    "div=m*v**2/sp**2\n",
    "func=func/div\n",
    "func=func.series(x,0,2).removeO()\n",
    "# v_subs=vk\n",
    "# func=func.subs(v,v_subs)\n",
    "# vi_subs=vk\n",
    "# func=func.subs(vi,vi_subs)\n",
    "# vk_subs=vo*(1+delta)\n",
    "# func=func.subs(vi,vk_subs)\n",
    "# func=func.series(delta,0,2).removeO()\n",
    "# func=func.subs(Df,-kb*x)\n",
    "# func=func.series(x,0,2).removeO()\n",
    "func"
   ],
   "metadata": {
    "collapsed": false,
    "pycharm": {
     "name": "#%%\n"
    }
   }
  },
  {
   "cell_type": "code",
   "execution_count": null,
   "outputs": [],
   "source": [
    "import sympy as sym\n",
    "k0,kb,xo,m,vi,x,vd,Df,v,vo,vk,delta, kb=sym.symbols('k_0 k_B xo m vi x v_d {\\Delta}F v v_o v_k delta k_b' )\n",
    "\n",
    "func=k0*m*vi**2-3*k0**2*m*vi**2*x -m*k0*vo**2+Df\n",
    "\n",
    "div=m*vi**2/(1+0*2*k0*x)\n",
    "func=func/div\n",
    "func=func.series(x,0,2).removeO()\n",
    "func.subs(v,vi)"
   ],
   "metadata": {
    "collapsed": false,
    "pycharm": {
     "name": "#%%\n"
    }
   }
  },
  {
   "cell_type": "code",
   "execution_count": null,
   "outputs": [],
   "source": [
    "from constants import *\n",
    "rp=.01\n",
    "K=2*SIMULATION_MAGNETON/rp**2\n",
    "dx=(220**2-210**2)/K\n",
    "dx"
   ],
   "metadata": {
    "collapsed": false,
    "pycharm": {
     "name": "#%%\n"
    }
   }
  },
  {
   "cell_type": "code",
   "execution_count": null,
   "outputs": [],
   "source": [
    "360*(1+(2*10/210)/360)**2-360,4*10/210"
   ],
   "metadata": {
    "collapsed": false,
    "pycharm": {
     "name": "#%%\n"
    }
   }
  },
  {
   "cell_type": "code",
   "execution_count": null,
   "outputs": [],
   "source": [
    "speeds=np.linspace(205,215,200)\n",
    "x,y=lattice.stability_factors(atom_speed=speeds)\n",
    "plt.plot(speeds,x)\n",
    "plt.plot(speeds,y)"
   ],
   "metadata": {
    "collapsed": false,
    "pycharm": {
     "name": "#%%\n"
    }
   }
  },
  {
   "cell_type": "code",
   "execution_count": null,
   "outputs": [],
   "source": [],
   "metadata": {
    "collapsed": false,
    "pycharm": {
     "name": "#%%\n"
    }
   }
  },
  {
   "cell_type": "code",
   "execution_count": null,
   "outputs": [],
   "source": [],
   "metadata": {
    "collapsed": false,
    "pycharm": {
     "name": "#%%\n"
    }
   }
  },
  {
   "cell_type": "code",
   "execution_count": null,
   "outputs": [],
   "source": [
    "from temp import Lattice\n",
    "lattice=Lattice(atom_speed=210)\n",
    "t=time.time()\n",
    "lattice.build_matrix_lattice_from_sim_lattice(model.lattice_ring)\n",
    "print(time.time()-t)\n",
    "np.set_printoptions(precision=100)\n",
    "print(repr(lattice.M_total()))\n",
    "lattice.stability_factor()"
   ],
   "metadata": {
    "collapsed": false,
    "pycharm": {
     "name": "#%%\n"
    }
   }
  },
  {
   "cell_type": "code",
   "execution_count": null,
   "outputs": [],
   "source": [
    "from optimizer import make_bounds,Solver,Solution\n",
    "\n",
    "injector_params=(0.298, 0.01824404317562657, 0.23788459956313238,\n",
    "                     0.03, 0.17709193919623706, 0.009704452870607685,\n",
    "                     0.10615316973237765, 0.22492222955994753, 0.22148833301792942)\n",
    "ring_params = (0.012593597021671735, 0.010115712864579277, 0.007415429587324836,\n",
    "               0.04513305464223805, 0.1, 0.49472608069737817)\n"
   ],
   "metadata": {
    "collapsed": false,
    "pycharm": {
     "name": "#%%\n"
    }
   }
  },
  {
   "cell_type": "code",
   "execution_count": null,
   "outputs": [],
   "source": [
    "def wrap(params):\n",
    "    solver = Solver('ring', '2', injector_params=injector_params, use_solenoid_field=False)\n",
    "    model=solver.make_system_model(params)\n",
    "    cost, flux_mult = model.mode_match(floor_plan_cost_cutoff=.05)\n",
    "    sol = Solution(params, cost, flux_mult=flux_mult)\n",
    "    lattice=Lattice()\n",
    "    lattice.build_matrix_lattice_from_sim_lattice(model.lattice_ring)\n",
    "    return sol,lattice\n",
    "def stability_fact(lattice:Lattice):\n",
    "    M=lattice.M_total()\n",
    "    m11, m12, m21, m22 = matrix_components(M)\n",
    "    return 2.0 - (m11 ** 2 + 2 * m12 * m21 + m22 ** 2)"
   ],
   "metadata": {
    "collapsed": false,
    "pycharm": {
     "name": "#%%\n"
    }
   }
  },
  {
   "cell_type": "code",
   "execution_count": null,
   "outputs": [],
   "source": [
    "\n",
    "bounds=make_bounds('ring','2')\n",
    "bounds=shrink_bounds_around_vals(bounds,ring_params,.05)"
   ],
   "metadata": {
    "collapsed": false,
    "pycharm": {
     "name": "#%%\n"
    }
   }
  },
  {
   "cell_type": "code",
   "execution_count": null,
   "outputs": [],
   "source": [
    "from helper_tools import low_discrepancy_sample,parallel_evaluate\n",
    "samples=low_discrepancy_sample(bounds,10)\n",
    "results=parallel_evaluate(wrap,samples)"
   ],
   "metadata": {
    "collapsed": false,
    "pycharm": {
     "name": "#%%\n"
    }
   }
  },
  {
   "cell_type": "code",
   "execution_count": null,
   "outputs": [],
   "source": [
    "import numpy as np\n",
    "\n",
    "from particle_tracer_lattice import ParticleTracerLattice\n",
    "from storage_ring_modeler import StorageRingModel, DEFAULT_SIMULATION_TIME\n",
    "from helper_tools import low_discrepancy_sample,parallel_evaluate\n",
    "from optimizer import Solver,make_bounds\n",
    "import time\n",
    "def wrap(params):\n",
    "    t=time.time()\n",
    "    solver=Solver('both','2')\n",
    "    solver.solve(params)\n",
    "    return time.time()-t\n",
    "\n",
    "x=np.array([0.01683605, 0.01096635, 0.00901207, 0.06920193, 0.52147994,\n",
    "            0.41775408, 0.19324068, 0.02981228, 0.26949321, 0.01065287,\n",
    "            0.11383458, 0.01449882, 0.24165137, 0.25706841, 0.05396852])\n",
    "bounds=make_bounds('both','2')\n",
    "\n",
    "\n",
    "samples=low_discrepancy_sample(bounds,200,seed=42)\n",
    "times=parallel_evaluate(wrap,samples)\n"
   ],
   "metadata": {
    "collapsed": false,
    "pycharm": {
     "name": "#%%\n"
    }
   }
  },
  {
   "cell_type": "code",
   "execution_count": null,
   "outputs": [],
   "source": [
    "import matplotlib.pyplot as plt\n",
    "plt.hist(times,bins=30)\n",
    "plt.show()\n",
    "print(np.std(times),np.mean(times),np.median(times),np.min(times),np.max(times))"
   ],
   "metadata": {
    "collapsed": false,
    "pycharm": {
     "name": "#%%\n"
    }
   }
  },
  {
   "cell_type": "code",
   "execution_count": null,
   "outputs": [],
   "source": [
    "import matplotlib.pyplot as plt\n",
    "plt.hist(times,bins=30)\n",
    "plt.show()\n",
    "print(np.std(times),np.mean(times),np.median(times),np.min(times),np.max(times))"
   ],
   "metadata": {
    "collapsed": false,
    "pycharm": {
     "name": "#%%\n"
    }
   }
  },
  {
   "cell_type": "code",
   "execution_count": null,
   "outputs": [],
   "source": [
    "stabilities=[stability_fact(result[1]) for result in results]\n",
    "fluxes=[result[0].flux_mult for result in results]\n",
    "plt.scatter(fluxes,stabilities)\n",
    "plt.ylim([-10,10])\n",
    "plt.show()\n",
    "# lattice=results[np.argmax(fluxes)][1]\n",
    "# params=array([0.01497523531016966 , 0.009880562163771705, 0.007629694004019476,\n",
    "#               0.047420410840072064, 0.10509576760232449 , 0.4928786645348873  ])"
   ],
   "metadata": {
    "collapsed": false,
    "pycharm": {
     "name": "#%%\n"
    }
   }
  },
  {
   "cell_type": "code",
   "execution_count": null,
   "outputs": [],
   "source": [
    "x0=np.array([0.012441427406641448, 0.01055250139969738 , 0.007271526594122626,\n",
    "             0.04043486734465543 , 0.10087133534252644 , 0.4966780064519253  ])\n",
    "solver = Solver('ring', '2', injector_params=injector_params, use_solenoid_field=False)\n",
    "model=solver.make_system_model(x0)\n",
    "lattice0=Lattice()\n",
    "lattice0.build_matrix_lattice_from_sim_lattice(model.lattice_ring)"
   ],
   "metadata": {
    "collapsed": false,
    "pycharm": {
     "name": "#%%\n"
    }
   }
  },
  {
   "cell_type": "code",
   "execution_count": null,
   "outputs": [],
   "source": [
    "np.clip([-.01],0.0,np.inf)"
   ],
   "metadata": {
    "collapsed": false,
    "pycharm": {
     "name": "#%%\n"
    }
   }
  },
  {
   "cell_type": "code",
   "execution_count": null,
   "outputs": [],
   "source": [
    "lattice0=results[np.argsort(fluxes)[-1]][1]"
   ],
   "metadata": {
    "collapsed": false,
    "pycharm": {
     "name": "#%%\n"
    }
   }
  },
  {
   "cell_type": "code",
   "execution_count": null,
   "outputs": [],
   "source": [
    "lattice_ring=model.lattice_ring\n",
    "swarm_initial=model.swarm_tracer_ring.initialize_pseudorandom_y_dim_swarm(1e-3,1.0,100)"
   ],
   "metadata": {
    "collapsed": false,
    "pycharm": {
     "name": "#%%\n"
    }
   }
  },
  {
   "cell_type": "code",
   "execution_count": null,
   "outputs": [],
   "source": [
    "num=16\n",
    "lattice=Lattice()\n",
    "lattice.elements=lattice0.elements[:num]\n",
    "L=sum([el.Lo for el in lattice_ring.el_list[:num]])\n",
    "swarm_traced_sim=model.swarm_tracer_ring.trace_swarm_through_lattice(swarm_initial,5e-6,L/210.0,use_fast_mode=False)\n",
    "lattice_ring.show_lattice(swarm=swarm_traced)"
   ],
   "metadata": {
    "collapsed": false,
    "pycharm": {
     "name": "#%%\n"
    }
   }
  },
  {
   "cell_type": "code",
   "execution_count": null,
   "outputs": [],
   "source": [
    "vals,vals1=[],[]\n",
    "for particle in swarm_traced_sim:\n",
    "    if not particle.clipped:\n",
    "        yf,pyf=particle.qo_vals[-1,1],particle.po_vals[-1,1]\n",
    "        vals.append(yf)\n",
    "        vals1.append(pyf)\n",
    "        ang_yf=pyf/DEFAULT_ATOM_SPEED\n",
    "        plt.scatter(1e3*yf,pyf,c='r')\n",
    "plt.show()\n",
    "trace_pos_std,trace_angle_std=np.std(vals),np.std(vals1)\n",
    "len(vals),trace_pos_std,trace_angle_std"
   ],
   "metadata": {
    "collapsed": false,
    "pycharm": {
     "name": "#%%\n"
    }
   }
  },
  {
   "cell_type": "code",
   "execution_count": null,
   "outputs": [],
   "source": [
    "swarm_traced_mat=lattice.trace_swarm(swarm_initial)\n",
    "vals,vals1=[],[]\n",
    "for particle,particle1 in zip(swarm_traced_mat,swarm_traced_sim):\n",
    "    if not particle1.clipped:\n",
    "        yf,pyf=particle.qf[1],particle.pf[1]\n",
    "        vals.append(yf)\n",
    "        vals1.append(pyf)\n",
    "        # ang_yf=pyf/DEFAULT_ATOM_SPEED\n",
    "        plt.scatter(1e3*yf,pyf,c='r')\n",
    "plt.show()\n",
    "mat_pos_std,mat_angle_std=np.std(vals),np.std(vals1) #(0.00038766657880148113, 1.0341991769438028)\n",
    "mat_pos_std,mat_angle_std"
   ],
   "metadata": {
    "collapsed": false,
    "pycharm": {
     "name": "#%%\n"
    }
   }
  },
  {
   "cell_type": "code",
   "execution_count": null,
   "outputs": [],
   "source": [
    "lattice.is_stable()"
   ],
   "metadata": {
    "collapsed": false,
    "pycharm": {
     "name": "#%%\n"
    }
   }
  },
  {
   "cell_type": "code",
   "execution_count": null,
   "outputs": [],
   "source": [
    "lattice_ring[6].L,lattice_ring[6].rp,lattice[5].L"
   ],
   "metadata": {
    "collapsed": false,
    "pycharm": {
     "name": "#%%\n"
    }
   }
  },
  {
   "cell_type": "code",
   "execution_count": null,
   "outputs": [],
   "source": [],
   "metadata": {
    "collapsed": false,
    "pycharm": {
     "name": "#%%\n"
    }
   }
  },
  {
   "cell_type": "code",
   "execution_count": null,
   "outputs": [],
   "source": [
    "import sympy as sym\n",
    "delta_r,a,c=sym.symbols('Delta_r a c',real=True)\n",
    "s,k=sym.symbols('s k',real=True,positive=True)\n",
    "phi=sym.sqrt(k)*s\n",
    "x=sym.cos(phi)*(a-1)*delta_r+sym.sin(phi)*c*delta_r/sym.sqrt(k)\n",
    "# s0=sym.solve(x.diff(s),s)[0]\n",
    "# sym.simplify(x.subs(s,s0))\n",
    "s0=sym.atan(c/(sym.sqrt(k)*(a-1)))/sym.sqrt(k)\n",
    "sym.simplify(x.subs(s,s0))"
   ],
   "metadata": {
    "collapsed": false,
    "pycharm": {
     "name": "#%%\n"
    }
   }
  },
  {
   "cell_type": "code",
   "execution_count": null,
   "outputs": [],
   "source": [
    "\n",
    "def M_at_s(s):\n",
    "    s=s%lattice.total_length()\n",
    "    length_cumulative=np.cumsum([el.L for el in lattice])\n",
    "    el_index=np.argmax(s<length_cumulative)\n",
    "    el_inside=lattice[el_index]\n",
    "    delta_s=s-length_cumulative[el_index-1] if el_index>0 else s\n",
    "    M=el_inside.M_func(el_inside.L-delta_s)\n",
    "    for el in lattice[el_index+1:]:\n",
    "        M=el.M@M\n",
    "    for el in lattice[:el_index]:\n",
    "        M=el.M@M\n",
    "    M_last=el_inside.M_func(delta_s)\n",
    "    M=M_last@M\n",
    "    return M\n",
    "def get_beta(s):\n",
    "    m11,m12,m21,m22=matrix_components(M_at_s(s))\n",
    "    beta=2*m12/np.sqrt(2-m11**2-2*m12*m21-m22**2)\n",
    "    return beta\n",
    "s_vals=np.linspace(0.0,lattice.total_length(),100)\n",
    "betas=[get_beta(s) for s in s_vals]"
   ],
   "metadata": {
    "collapsed": false,
    "pycharm": {
     "name": "#%%\n"
    }
   }
  },
  {
   "cell_type": "code",
   "execution_count": null,
   "outputs": [],
   "source": [
    "import numpy as np\n",
    "a=np.array([[1,3.4],[6.0,-2.]])\n",
    "np.linalg.eigvals(a)"
   ],
   "metadata": {
    "collapsed": false,
    "pycharm": {
     "name": "#%%\n"
    }
   }
  },
  {
   "cell_type": "code",
   "execution_count": null,
   "outputs": [],
   "source": [
    "# magnets = el.build_bender(True, (True, True), use_method_of_moments=True, num_lenses=el.num_lenses)\n",
    "s=sc_max-.05\n",
    "# s=1e-9\n",
    "xo_max=el.rp-x0\n",
    "num_samples=10\n",
    "xo_vals=np.linspace(-xo_max/4.0,xo_max/4.0,num_samples)\n",
    "coords = np.array([el.convert_center_to_cartesian_coords(s, x0+xo, 0.0) for xo in xo_vals])\n",
    "B_norm_grad,B_norm =  magnets.B_norm_grad(coords,use_approx=True,return_norm=True)\n",
    "forces=-SIMULATION_MAGNETON *B_norm_grad\n",
    "norm_perps = xo_unit_vector_bender_el_frame(el,coords[0])\n",
    "force_r = [np.dot(norm_perps, force) for force in forces]\n",
    "# forces[0]\n",
    "force_r[:5]"
   ],
   "metadata": {
    "collapsed": false,
    "pycharm": {
     "name": "#%%\n"
    }
   }
  },
  {
   "cell_type": "code",
   "execution_count": null,
   "outputs": [],
   "source": [
    "forces=np.array([el.force(coord) for coord in coords])\n",
    "forces_o=np.array([el.transform_element_momentum_into_local_orbit_frame(coord,force) for coord,force in zip(coords,forces)])\n",
    "forces_o[:5,1]"
   ],
   "metadata": {
    "collapsed": false,
    "pycharm": {
     "name": "#%%\n"
    }
   }
  },
  {
   "cell_type": "code",
   "execution_count": null,
   "outputs": [],
   "source": [
    "%matplotlib tk\n",
    "coord_lab=np.array([el.transform_element_coords_into_lab_frame(coord) for coord in coords])\n",
    "PTL.show_lattice(show_immediately=False,plot_outer=True)\n",
    "plt.plot(coord_lab[:,0],coord_lab[:,1],linewidth=5)\n",
    "plt.show()"
   ],
   "metadata": {
    "collapsed": false,
    "pycharm": {
     "name": "#%%\n"
    }
   }
  },
  {
   "cell_type": "code",
   "execution_count": null,
   "outputs": [],
   "source": [
    "#100: 59.5\n",
    "#200: 45.2\n",
    "#500: 41.0\n",
    "#1000: 41.9\n",
    "#3000: 42.5"
   ],
   "metadata": {
    "collapsed": false,
    "pycharm": {
     "name": "#%%\n"
    }
   }
  },
  {
   "cell_type": "code",
   "execution_count": null,
   "outputs": [],
   "source": [
    "%matplotlib inline\n",
    "swarm_initial=st.initialize_pseudorandom_y_dim_swarm(1e-4,.1,300,seed=42)\n",
    "swarm_traced_sim=st.trace_swarm_through_lattice(swarm_initial,1e-6,1.0,use_fast_mode=False,parallel=False)\n",
    "vals,vals1=[],[]\n",
    "for particle in swarm_traced_sim:\n",
    "    if not particle.clipped:\n",
    "        yf,pyf=particle.qo_vals[-1,1],particle.po_vals[-1,1]\n",
    "        vals.append(yf)\n",
    "        vals1.append(pyf)\n",
    "        ang_yf=pyf/DEFAULT_ATOM_SPEED\n",
    "        plt.scatter(1e3*yf,pyf,c='r')\n",
    "plt.show()\n",
    "np.std(vals),np.std(vals1)"
   ],
   "metadata": {
    "collapsed": false,
    "pycharm": {
     "name": "#%%\n"
    }
   }
  },
  {
   "cell_type": "code",
   "execution_count": null,
   "outputs": [],
   "source": [
    "from latticeElements.orbitTrajectories import combiner_halbach_orbit_coords_el_frame\n",
    "magnets = el.magnet.make_magpylib_magnets(False, False)\n",
    "coords = combiner_halbach_orbit_coords_el_frame(el)\n",
    "s = cumulative_trajectory_length(coords)\n",
    "ds_vec = coords[1:] - coords[:-1]\n",
    "ds=np.linalg.norm(ds_vec,axis=1)\n",
    "angles=np.arctan2(ds_vec[:,1],ds_vec[:,0])\n",
    "delta_angle=angles[1:]-angles[:-1]\n",
    "R=ds[:-1]/delta_angle\n"
   ],
   "metadata": {
    "collapsed": false,
    "pycharm": {
     "name": "#%%\n"
    }
   }
  },
  {
   "cell_type": "code",
   "execution_count": null,
   "outputs": [],
   "source": [
    "V=SIMULATION_MAGNETON*.8*.03**2/.05**2\n",
    "KE=.5*DEFAULT_ATOM_SPEED**2\n",
    "np.sqrt(2*(KE-V))"
   ],
   "metadata": {
    "collapsed": false,
    "pycharm": {
     "name": "#%%\n"
    }
   }
  },
  {
   "cell_type": "code",
   "execution_count": null,
   "outputs": [],
   "source": [
    "dx=3e-3\n",
    "norm_perps = unit_vec_perp_to_path(coords)\n",
    "coords_b=coords+norm_perps*dx\n",
    "coords_a=coords-norm_perps*dx\n",
    "coords_a=coords_a\n",
    "coords_b=coords_b\n",
    "forces_a = -SIMULATION_MAGNETON * magnets.B_norm_grad(coords_a)\n",
    "F_a_xo = np.array([np.dot(norm, force) for norm, force in zip(norm_perps, forces_a)])\n",
    "#\n",
    "forces_b = -SIMULATION_MAGNETON * magnets.B_norm_grad(coords_b)\n",
    "F_b_xo = np.array([np.dot(norm, force) for norm, force in zip(norm_perps, forces_b)])\n",
    "forces = -SIMULATION_MAGNETON * magnets.B_norm_grad(coords)\n",
    "F=np.array([np.dot(norm, force) for norm, force in zip(norm_perps, forces)])"
   ],
   "metadata": {
    "collapsed": false,
    "pycharm": {
     "name": "#%%\n"
    }
   }
  },
  {
   "cell_type": "code",
   "execution_count": null,
   "outputs": [],
   "source": [
    "%matplotlib inline\n",
    "magnets.show()"
   ],
   "metadata": {
    "collapsed": false,
    "pycharm": {
     "name": "#%%\n"
    }
   }
  },
  {
   "cell_type": "code",
   "execution_count": null,
   "outputs": [],
   "source": [
    "plt.plot(coords[:,0],coords[:,1])\n",
    "plt.show()\n",
    "B=np.array([np.dot(norm, force) for norm, force in zip(norm_perps, forces)])\n",
    "forces = -SIMULATION_MAGNETON * magnets.B_norm_grad(coords)\n",
    "# plt.plot(s,forces[:,1])\n",
    "# plt.plot(s,forces_a[:,1])\n",
    "# plt.plot(s,forces_b[:,1])\n",
    "plt.plot(s,forces_b[:,1]-forces_a[:,1])\n",
    "plt.show()"
   ],
   "metadata": {
    "collapsed": false,
    "pycharm": {
     "name": "#%%\n"
    }
   }
  },
  {
   "cell_type": "code",
   "execution_count": null,
   "outputs": [],
   "source": [
    "x0=.055\n",
    "y=np.linspace(-.04,.04,1000)\n",
    "coords=arr_product([x0],y,[0])\n",
    "forces = -SIMULATION_MAGNETON * magnets.B_norm_grad(coords)\n",
    "plt.plot(y,forces[:,1])\n",
    "plt.show()"
   ],
   "metadata": {
    "collapsed": false,
    "pycharm": {
     "name": "#%%\n"
    }
   }
  },
  {
   "cell_type": "code",
   "execution_count": null,
   "outputs": [],
   "source": [
    "Fc=F\n",
    "Ft1=F_a_xo-Fc\n",
    "Ft2=F_b_xo-Fc\n",
    "plt.plot(s,Ft2)\n",
    "plt.plot(s,Ft1)\n",
    "plt.show()\n"
   ],
   "metadata": {
    "collapsed": false,
    "pycharm": {
     "name": "#%%\n"
    }
   }
  },
  {
   "cell_type": "code",
   "execution_count": null,
   "outputs": [],
   "source": [
    "k_vals=(Ft2-Ft1)/(2*dx)\n",
    "plt.plot(k_vals)\n",
    "plt.show()\n",
    "L=0.20021169598724736\n",
    "k0=np.trapz(k_vals,x=s)/L\n",
    "k0/210**2"
   ],
   "metadata": {
    "collapsed": false,
    "pycharm": {
     "name": "#%%\n"
    }
   }
  },
  {
   "cell_type": "code",
   "execution_count": null,
   "outputs": [],
   "source": [
    "x=np.linspace(0.0,el.L,1000)\n",
    "y0=.01\n",
    "coords=arr_product(x,[y0],[0])\n",
    "forces = -SIMULATION_MAGNETON * magnets.B_norm_grad(coords)\n",
    "plt.plot(x,forces[:,1])\n",
    "plt.show()\n",
    "kappa=np.trapz(forces[:,1],x=x)/(L*y0)\n",
    "kappa/210**2"
   ],
   "metadata": {
    "collapsed": false,
    "pycharm": {
     "name": "#%%\n"
    }
   }
  },
  {
   "cell_type": "code",
   "execution_count": null,
   "outputs": [],
   "source": [
    "# y0*k*L\n",
    "\n"
   ],
   "metadata": {
    "collapsed": false,
    "pycharm": {
     "name": "#%%\n"
    }
   }
  },
  {
   "cell_type": "code",
   "execution_count": null,
   "outputs": [],
   "source": [
    "from matrixMethodTracing import unit_vec_perp_to_path\n",
    "magnets = el.magnet.make_magpylib_magnets(False, False)\n",
    "coords = dense_combiner_trajectory_curve(el)\n",
    "s = cumulative_trajectory_length(coords)\n",
    "forces = -SIMULATION_MAGNETON * magnets.B_norm_grad(coords)\n",
    "norm_perps = unit_vec_perp_to_path(coords)\n",
    "F_xo = [np.dot(norm, force) for norm, force in zip(norm_perps, forces)]\n",
    "Kappa = abs(np.trapz(F_xo, x=s))\n",
    "indices_in_combiner = (coords[:, 0] > el.space) & (coords[:, 0] < el.Lm + el.space)\n",
    "y_vals_in_combiner = coords[:, 1][indices_in_combiner]\n",
    "y_mean_in_combiner = abs(np.mean(y_vals_in_combiner))\n",
    "gamma = L_eff_combiner * SIMULATION_MAGNETON * 2 * y_mean_in_combiner / el.rp ** 2\n",
    "Bp_optimal = Kappa / gamma\n",
    "Bp_optimal"
   ],
   "metadata": {
    "collapsed": false,
    "pycharm": {
     "name": "#%%\n"
    }
   }
  },
  {
   "cell_type": "code",
   "execution_count": null,
   "outputs": [],
   "source": [
    "#0.8147750780809235"
   ],
   "metadata": {
    "collapsed": false,
    "pycharm": {
     "name": "#%%\n"
    }
   }
  },
  {
   "cell_type": "code",
   "execution_count": null,
   "outputs": [],
   "source": [
    "from matrixMethodTracing import dense_combiner_trajectory_curve,calculate_trajectory_length\n",
    "def mean_weighted_bend_radius_combiner(el):\n",
    "    magnets = el.magnet.make_magpylib_magnets(False, False)\n",
    "    coords = dense_combiner_trajectory_curve(el)\n",
    "    indices_in_combiner = (coords[:, 0] > el.space) & (coords[:, 0] < el.Lm + el.space)\n",
    "    coords_in_combiner = coords[indices_in_combiner]\n",
    "    forces = -SIMULATION_MAGNETON * magnets.B_norm_grad(coords)\n",
    "    norm_perps = unit_vec_perp_to_path(coords)\n",
    "    F_xo = np.array([np.dot(norm, force) for norm, force in zip(norm_perps, forces)])\n",
    "    R_vals=abs(DEFAULT_ATOM_SPEED**2/F_xo)\n",
    "    R_mean_weighted=np.sum(R_vals*F_xo)/np.sum(F_xo)\n",
    "    return R_mean_weighted"
   ],
   "metadata": {
    "collapsed": false,
    "pycharm": {
     "name": "#%%\n"
    }
   }
  },
  {
   "cell_type": "code",
   "execution_count": null,
   "outputs": [],
   "source": [
    "R_vals=abs(DEFAULT_ATOM_SPEED**2/F_xo)\n",
    "R_mean_weighted=np.sum(R_vals*F_xo)/np.sum(F_xo)\n",
    "R_mean_weighted"
   ],
   "metadata": {
    "collapsed": false,
    "pycharm": {
     "name": "#%%\n"
    }
   }
  },
  {
   "cell_type": "code",
   "execution_count": null,
   "outputs": [],
   "source": [
    "Bp,rb,rp=1.0,1.0,.01\n",
    "\n",
    "ro = bender_orbit_radius(Bp, rb, rp)  # orbit radius, where force=0.0\n",
    "term1 = SIMULATION_MASS * (1 / ro) ** 2  # centrifugal term\n",
    "term2 = 2 * SIMULATION_MAGNETON * Bp / (SIMULATION_MASS * (DEFAULT_ATOM_SPEED * rp) ** 2)  # magnetic term\n",
    "K = term1 + term2\n",
    "term1,term2,spring_constant_lens(1.0, .01)"
   ],
   "metadata": {
    "collapsed": false,
    "pycharm": {
     "name": "#%%\n"
    }
   }
  },
  {
   "cell_type": "code",
   "execution_count": null,
   "outputs": [],
   "source": [
    "M_tot=lattice.M_total()\n",
    "Xf_vals=[]\n",
    "for particle in swarm:\n",
    "    xo,pxo=particle.qi[1],particle.pi[1]\n",
    "    ang_xo=pxo/DEFAULT_ATOM_SPEED\n",
    "    Xi=np.array([xo,ang_xo])\n",
    "    Xf=M_tot@Xi\n",
    "    Xf_vals.append(Xf)\n",
    "Xf_vals=np.array(Xf_vals)\n"
   ],
   "metadata": {
    "collapsed": false,
    "pycharm": {
     "name": "#%%\n"
    }
   }
  },
  {
   "cell_type": "code",
   "execution_count": null,
   "outputs": [],
   "source": [
    "Xf_vals"
   ],
   "metadata": {
    "collapsed": false,
    "pycharm": {
     "name": "#%%\n"
    }
   }
  },
  {
   "cell_type": "code",
   "execution_count": null,
   "outputs": [],
   "source": [
    "# magnets = el_test.magnet.make_magpylib_magnets(False, False)\n",
    "magnets=el_test.build_bender(True, (True, True), use_method_of_moments=False, num_lenses=el_test.num_lenses)\n",
    "x0=el_test.ro-el_test.rb\n",
    "s_max=el_test.ang * el_test.rb + 2 * el_test.L_cap\n",
    "s_vals=np.linspace(0.0,s_max,1000)\n",
    "coords=np.array([el_test.convert_center_to_cartesian_coords(s,x0,0.0) for s in s_vals])\n",
    "forces=-SIMULATION_MAGNETON*magnets.B_norm_grad(coords)\n",
    "\n",
    "force_r=[np.dot(norm,force) for norm,force in zip(norm_perps,forces)]\n",
    "Kappa = abs(np.trapz(force_r, x=s_vals))\n",
    "L_orbit=el_test.ro*el_test.ang\n",
    "delta_r=el_test.ro-el_test.rb\n",
    "gamma = L_orbit * SIMULATION_MAGNETON * 2 * delta_r / el_test.rp ** 2\n",
    "Bp_optimal = Kappa / gamma\n",
    "Bp_optimal"
   ],
   "metadata": {
    "collapsed": false,
    "pycharm": {
     "name": "#%%\n"
    }
   }
  },
  {
   "cell_type": "code",
   "execution_count": null,
   "outputs": [],
   "source": [
    "norm_perps=[]\n",
    "vec_vertical=np.array([0,0,1.0])\n",
    "for i in range(len(coords)):\n",
    "    if i!=len(coords)-1:\n",
    "        dr=coords[i+1]-coords[i]\n",
    "    else:\n",
    "        dr=coords[i]-coords[i-1]\n",
    "    perp=np.cross(dr,vec_vertical)\n",
    "    norm_perp=perp/np.linalg.norm(perp)\n",
    "    norm_perps.append(norm_perp)\n",
    "norm_perps=np.array(norm_perps)"
   ],
   "metadata": {
    "collapsed": false,
    "pycharm": {
     "name": "#%%\n"
    }
   }
  },
  {
   "cell_type": "code",
   "execution_count": null,
   "outputs": [],
   "source": [
    "force_r=[np.dot(norm,force) for norm,force in zip(norm_perps,forces)]\n",
    "Kappa = abs(np.trapz(force_r, x=s_vals))\n",
    "L_orbit=el_test.ro*el_test.ang\n",
    "delta_r=el_test.ro-el_test.rb\n",
    "gamma = L_orbit * SIMULATION_MAGNETON * 2 * delta_r / el_test.rp ** 2\n",
    "Bp_optimal = Kappa / gamma\n",
    "Bp_optimal"
   ],
   "metadata": {
    "collapsed": false,
    "pycharm": {
     "name": "#%%\n"
    }
   }
  },
  {
   "cell_type": "code",
   "execution_count": null,
   "outputs": [],
   "source": [
    "x_vals = np.linspace(0.0, el_test.Lo, 1000)\n",
    "y = el.rp * .333\n",
    "coords = arr_product(x_vals, [y], [0])\n",
    "F_y = SIMULATION_MAGNETON * magnets.B_norm_grad(coords)[:, 1]\n",
    "Kappa = abs(np.trapz(F_y, x=x_vals))\n",
    "gamma = el.Lm * SIMULATION_MAGNETON * 2 * y / el.rp ** 2\n",
    "Bp_optimal = Kappa / gamma"
   ],
   "metadata": {
    "collapsed": false,
    "pycharm": {
     "name": "#%%\n"
    }
   }
  },
  {
   "cell_type": "code",
   "execution_count": null,
   "outputs": [],
   "source": [
    "def bender_orbit_radius(Bp,rb,rp):\n",
    "    term1=3*rb/4.0\n",
    "    term2=Bp*SIMULATION_MAGNETON*rb**2\n",
    "    term3=4*SIMULATION_MASS*(rp*DEFAULT_ATOM_SPEED)**2\n",
    "    term4=4*sqrt(Bp*SIMULATION_MAGNETON)\n",
    "    radius_orbit= term1+sqrt(term2+term3)/term4\n",
    "    return radius_orbit\n",
    "def bender_spring_constant(Bp,rb,rp):\n",
    "    assert Bp>=0.0 and 0.0<rp<rb and rb>0.0\n",
    "    ro=bender_orbit_radius(Bp,rb,rp) #orbit radius, where force=0.0\n",
    "    term1=SIMULATION_MASS*(DEFAULT_ATOM_SPEED/ro)**2 #centrifugal term\n",
    "    term2=2*SIMULATION_MAGNETON*Bp/(rp**2) #magnetic term\n",
    "    K=term1+term2\n",
    "    return K\n",
    "\n",
    "class Bend:\n",
    "    def __init__(self,Bp,rb,rp,bending_angle):\n",
    "        self.K=bender_spring_constant(Bp,rb,rp)\n",
    "        self.L=bender_orbit_radius(Bp,rb,rp)*bending_angle #length of particle orbit\n",
    "\n",
    "Bp=1.0\n",
    "rb=1.0\n",
    "rp=.02\n",
    "bender_orbit_radius(Bp,rb,rp)"
   ],
   "metadata": {
    "collapsed": false,
    "pycharm": {
     "name": "#%%\n"
    }
   }
  },
  {
   "cell_type": "code",
   "execution_count": null,
   "outputs": [],
   "source": [
    "from particle import Particle,Swarm\n",
    "from particle_tracer import ParticleTracer\n",
    "from ParticleTracerLatticeClass import ParticleTracerLattice\n",
    "from swarm_tracer import SwarmTracer\n",
    "\n",
    "from helper_tools import *\n",
    "rp=.05\n",
    "L=1.0\n",
    "L_drift=.1\n",
    "PTL=ParticleTracerLattice(lattice_type='injector')\n",
    "for _ in range(6):\n",
    "    PTL.add_halbach_lens_sim(rp,L)\n",
    "    PTL.add_drift(L_drift)\n",
    "PTL.end_lattice()\n",
    "lattice=Lattice()\n",
    "lattice.build_matrix_lattice_from_sim_lattice(PTL)\n",
    "st=SwarmTracer(PTL)"
   ],
   "metadata": {
    "collapsed": false,
    "pycharm": {
     "name": "#%%\n"
    }
   }
  },
  {
   "cell_type": "code",
   "execution_count": null,
   "outputs": [],
   "source": [
    "lattice.is_stable()"
   ],
   "metadata": {
    "collapsed": false,
    "pycharm": {
     "name": "#%%\n"
    }
   }
  },
  {
   "cell_type": "code",
   "execution_count": null,
   "outputs": [],
   "source": [
    "yi_vals=2*(np.random.random(1000)-.5)*rp*.3\n",
    "pyi_vals=2*(np.random.random(1000)-.5)*5.0\n",
    "swarm_initial=Swarm()\n",
    "for yi,pyi in zip(yi_vals,pyi_vals):\n",
    "    swarm_initial.add_new_particle(qi=np.array([-1e-10,yi,0.0]),pi=np.array([-DEFAULT_ATOM_SPEED,pyi,0.0]) )\n",
    "swarm=st.trace_swarm_through_lattice(swarm_initial,1e-5,1.0,copy_swarm=True)"
   ],
   "metadata": {
    "collapsed": false,
    "pycharm": {
     "name": "#%%\n"
    }
   }
  },
  {
   "cell_type": "code",
   "execution_count": null,
   "outputs": [],
   "source": [
    "yf_vals=[]\n",
    "yf_ang_vals=[]\n",
    "for particle in swarm_initial:\n",
    "    Xi=[particle.qi[1],particle.pi[1]/DEFAULT_ATOM_SPEED]\n",
    "    yf,yf_ang=lattice.trace(Xi)\n",
    "    yf_vals.append(yf)\n",
    "    yf_ang_vals.append(yf_ang)\n",
    "    plt.scatter(yf,yf_ang,c='C0')\n",
    "plt.show()\n",
    "yf_std_matrix,yf_ang_std_matrix=np.std(yf_vals),np.std(yf_ang_vals)"
   ],
   "metadata": {
    "collapsed": false,
    "pycharm": {
     "name": "#%%\n"
    }
   }
  },
  {
   "cell_type": "code",
   "execution_count": null,
   "outputs": [],
   "source": [
    "yf_vals=[]\n",
    "yf_ang_vals=[]\n",
    "for particle in swarm:\n",
    "    if not particle.clipped:\n",
    "        yf,yf_ang=particle.qf[1],particle.pf[1]/DEFAULT_ATOM_SPEED\n",
    "        yf_vals.append(yf)\n",
    "        yf_ang_vals.append(yf_ang)\n",
    "        plt.scatter(yf,yf_ang,c='C0')\n",
    "plt.show()\n",
    "np.std(yf_vals),np.std(yf_ang_vals)\n",
    "yf_std_sim,yf_ang_std_sim=np.std(yf_vals),np.std(yf_ang_vals)"
   ],
   "metadata": {
    "collapsed": false,
    "pycharm": {
     "name": "#%%\n"
    }
   }
  },
  {
   "cell_type": "code",
   "execution_count": null,
   "outputs": [],
   "source": [
    "matrix_lattice=Lattice()\n",
    "rp=.03\n",
    "L_drift=.05\n",
    "matrix_lattice.add_drift(L_drift)\n",
    "matrix_lattice.add_lens(.2,.5,rp)\n",
    "matrix_lattice.add_drift(L_drift)\n",
    "matrix_lattice.add_lens(.2,.5,rp)\n",
    "matrix_lattice.add_drift(L_drift)"
   ],
   "metadata": {
    "collapsed": false,
    "pycharm": {
     "name": "#%%\n"
    }
   }
  },
  {
   "cell_type": "code",
   "execution_count": null,
   "outputs": [],
   "source": [
    "200**2/1.0"
   ],
   "metadata": {
    "collapsed": false,
    "pycharm": {
     "name": "#%%\n"
    }
   }
  },
  {
   "cell_type": "code",
   "execution_count": null,
   "outputs": [],
   "source": [
    "import sympy as sym\n",
    "m,vt,v0t,r,mu,B,rp,rb=sym.symbols(' m v_t v0_t r mu B r_p r_b',real=True,positive=True,nonzero=True)\n",
    "vt=sym.sqrt(v0t**2 - 2*mu*B*(r-rb)**2/(rp**2*m))\n",
    "func=2*mu*B*(r-rb)/rp**2 - m*vt**2/r\n",
    "sym.simplify(sym.solve(func,r)[1])"
   ],
   "metadata": {
    "collapsed": false,
    "pycharm": {
     "name": "#%%\n"
    }
   }
  },
  {
   "cell_type": "code",
   "execution_count": null,
   "outputs": [],
   "source": [
    "def r_offset(Bp,rp,rb,vt):\n",
    "    term1=3*rb/4.0\n",
    "    term2=Bp*SIMULATION_MAGNETON*rb**2\n",
    "    term3=4*SIMULATION_MASS*(rp*vt)**2\n",
    "    term4=4*sqrt(Bp*SIMULATION_MAGNETON)\n",
    "    return term1+sqrt(term2+term3)/term4\n"
   ],
   "metadata": {
    "collapsed": false,
    "pycharm": {
     "name": "#%%\n"
    }
   }
  },
  {
   "cell_type": "code",
   "execution_count": null,
   "outputs": [],
   "source": [
    "def r_offset_2(Bp,rp,rb,vt):\n",
    "    term1=2*SIMULATION_MASS*(vt*rp)**2\n",
    "    term2=SIMULATION_MAGNETON*Bp\n",
    "    return .5*(rb+sqrt(rb**2+term1/term2))\n",
    "r_offset_2(1.0,.02,1.0,200.0)"
   ],
   "metadata": {
    "collapsed": false,
    "pycharm": {
     "name": "#%%\n"
    }
   }
  },
  {
   "cell_type": "code",
   "execution_count": null,
   "outputs": [],
   "source": [
    "r_offset_1(1.0,.02,1.0,200.0)-r_offset_2(1.0,.02,1.0,200.0)"
   ],
   "metadata": {
    "collapsed": false,
    "pycharm": {
     "name": "#%%\n"
    }
   }
  },
  {
   "cell_type": "code",
   "execution_count": null,
   "outputs": [],
   "source": [
    "from particle import Particle,Swarm\n",
    "from particle_tracer import ParticleTracer\n",
    "from ParticleTracerLatticeClass import ParticleTracerLattice\n",
    "from swarm_tracer import SwarmTracer\n",
    "PTL=ParticleTracerLattice(lattice_type='injector')\n",
    "PTL.add_drift(L_drift-1.5*rp)\n",
    "PTL.add_halbach_lens_sim(rp,.2)\n",
    "PTL.add_drift(L_drift-1.5*rp)\n",
    "PTL.add_halbach_lens_sim(rp,.2)\n",
    "PTL.add_drift(L_drift-1.5*rp)\n",
    "PTL.end_lattice()"
   ],
   "metadata": {
    "collapsed": false,
    "pycharm": {
     "name": "#%%\n"
    }
   }
  },
  {
   "cell_type": "code",
   "execution_count": null,
   "outputs": [],
   "source": [],
   "metadata": {
    "collapsed": false,
    "pycharm": {
     "name": "#%%\n"
    }
   }
  },
  {
   "cell_type": "code",
   "execution_count": null,
   "outputs": [],
   "source": [
    "yf_vals=[]\n",
    "yf_ang_vals=[]\n",
    "for particle in swarm:\n",
    "    yf,yf_ang=particle.qf[1],particle.pf[1]/DEFAULT_ATOM_SPEED\n",
    "    yf_vals.append(yf)\n",
    "    yf_ang_vals.append(yf_ang)\n",
    "plt.scatter(yf_vals,yf_ang_vals)\n",
    "plt.show()"
   ],
   "metadata": {
    "collapsed": false,
    "pycharm": {
     "name": "#%%\n"
    }
   }
  },
  {
   "cell_type": "code",
   "execution_count": null,
   "outputs": [],
   "source": [
    "def trace_to_s(s,X):\n",
    "    assert 0.0<=s<=sum(lengths)\n",
    "    el_index=np.argmax(s<length_cumulative)\n",
    "    el=elements[el_index]\n",
    "    delta_s=s-(length_cumulative[el_index]-lengths[el_index])\n",
    "    if el_index==0:\n",
    "        M=np.eye(2)\n",
    "    else:\n",
    "        M=full_transfer_matrix(elements[:el_index])\n",
    "    M=el.M_func(delta_s)@M\n",
    "    return M@X\n",
    "s_vals=np.linspace(0.0,sum(lengths)-1e-3,1000)\n",
    "X=np.array([.01,0.0])\n",
    "Xf=np.array([trace_to_s(s,X) for s in s_vals])"
   ],
   "metadata": {
    "collapsed": false,
    "pycharm": {
     "name": "#%%\n"
    }
   }
  },
  {
   "cell_type": "code",
   "execution_count": null,
   "outputs": [],
   "source": [
    "\n",
    "plt.plot(s_vals,Xf[:,0])\n",
    "plt.show()"
   ],
   "metadata": {
    "collapsed": false,
    "pycharm": {
     "name": "#%%\n"
    }
   }
  },
  {
   "cell_type": "code",
   "execution_count": null,
   "outputs": [],
   "source": [
    "import matplotlib.pyplot as plt\n",
    "import numpy as np\n",
    "\n",
    "from helper_tools import *\n",
    "from KevinBumperClass import swarmShift_x\n",
    "from storageRingModeler import StorageRingModel,make_optimal_solution_model\n",
    "from particle import Swarm\n",
    "model=make_optimal_solution_model('2',use_bumper=False)\n"
   ],
   "metadata": {
    "collapsed": false,
    "pycharm": {
     "name": "#%%\n"
    }
   }
  },
  {
   "cell_type": "code",
   "execution_count": null,
   "outputs": [],
   "source": [
    "from particle import Particle\n",
    "from particle_tracer import ParticleTracer\n",
    "pt=ParticleTracer(model.lattice_ring)\n",
    "particle=Particle()\n",
    "particle=pt.trace(particle,5e-6,3.0,fast_mode=False,use_energy_correction=True)"
   ],
   "metadata": {
    "collapsed": false,
    "pycharm": {
     "name": "#%%\n"
    }
   }
  },
  {
   "cell_type": "code",
   "execution_count": null,
   "outputs": [],
   "source": [
    "particle.plot_energies(show_only_total_energy=True)\n",
    "particle.plot_orbit_reference_frame_position()"
   ],
   "metadata": {
    "collapsed": false,
    "pycharm": {
     "name": "#%%\n"
    }
   }
  },
  {
   "cell_type": "code",
   "execution_count": null,
   "outputs": [],
   "source": [
    "particle.plot_energies(show_only_total_energy=True)\n",
    "particle.plot_orbit_reference_frame_position()"
   ],
   "metadata": {
    "collapsed": false,
    "pycharm": {
     "name": "#%%\n"
    }
   }
  },
  {
   "cell_type": "code",
   "execution_count": null,
   "outputs": [],
   "source": [
    "from scipy.signal import savgol_filter\n",
    "speed=np.linalg.norm(particle.p_vals,axis=1)\n",
    "print(np.nanmax(speed))\n",
    "# plt.plot(speed)\n",
    "speed=np.linalg.norm(particle.po_vals,axis=1)\n",
    "print(np.nanmax(speed))\n",
    "# plt.plot(speed)\n",
    "# plt.show()"
   ],
   "metadata": {
    "collapsed": false,
    "pycharm": {
     "name": "#%%\n"
    }
   }
  },
  {
   "cell_type": "code",
   "execution_count": null,
   "outputs": [],
   "source": [
    "from math import ceil\n",
    "from helper_tools import is_close_all\n",
    "def combiner_x_interp_vals(x1: float,x2: float,x3: float,x4: float,delta_nominal: float)-> np.ndarray:\n",
    "    \"\"\"Make x values (through axis) of interpolation grid for combiner\"\"\"\n",
    "    assert x1<x2<x3<x4 and 0<delta_nominal<x3-x2\n",
    "    intervals_b=round((x3-x2)/delta_nominal)\n",
    "    steps_b=intervals_b+1\n",
    "    vals_b=np.linspace(x2,x3,steps_b) #todo: rename x_vals_a, etc\n",
    "    delta_b=vals_b[1]-vals_b[0]\n",
    "    vals_c=np.arange(x3,x4,delta_b)+delta_b\n",
    "    vals_a=np.flip(np.arange(x2,x1,-delta_b))-delta_b\n",
    "    vals=np.concatenate((vals_a,vals_b,vals_c))\n",
    "    deltas=np.gradient(vals)\n",
    "    is_close_all(deltas,delta_b,1e-12)\n",
    "    assert vals[0]<x1 and vals[-1]>x4\n",
    "    return vals\n"
   ],
   "metadata": {
    "collapsed": false,
    "pycharm": {
     "name": "#%%\n"
    }
   }
  },
  {
   "cell_type": "code",
   "execution_count": null,
   "outputs": [],
   "source": [
    "from HalbachLensClass import SegmentedBenderHalbach\n",
    "import numpy as np\n",
    "num_mags=100\n",
    "bender=SegmentedBenderHalbach(.01,1.0,.01,.0254/2,\"N52\",num_mags,(True,True),use_pos_mag_angs_only=True)\n",
    "bender.show()"
   ],
   "metadata": {
    "collapsed": false,
    "pycharm": {
     "name": "#%%\n"
    }
   }
  },
  {
   "cell_type": "code",
   "execution_count": null,
   "outputs": [],
   "source": [
    "res=[133.12747755802948, 140.27885009841324, 141.22793660956452, 135.4874919947779, 131.72251599032012, 129.17155980008903, 119.28016157792038, 110.6190413848261, 91.54714335716547, 82.63165617539292, 70.64025870944323, 56.4425280821248, 52.62536289967612, 40.19285010371332, 18.948608342594255]\n",
    "\n",
    "T_arr=np.arange(0.001,.015,.001)\n",
    "T_arr=1e3*np.append(T_arr,.02)\n",
    "plt.scatter(T_arr,res,label='Simulation')\n",
    "plt.title(\"Storage ring flux under the influence of collisions\")\n",
    "plt.ylabel(\"Flux multiplication\")\n",
    "plt.xlabel(\"Circulating lithium temperature, mk\")\n",
    "plt.axhline(y=91,c='r',label='no collision model')\n",
    "plt.legend()\n",
    "plt.show()"
   ],
   "metadata": {
    "collapsed": false,
    "pycharm": {
     "name": "#%%\n"
    }
   }
  },
  {
   "cell_type": "code",
   "execution_count": null,
   "outputs": [],
   "source": [
    "@numba.njit\n",
    "def mixed_value_type_str_key_dict():\n",
    "    # str -> mixed types, including array and typed dictionary!\n",
    "    a = {'a': 1, 'b': 'string', 'c': np.arange(5), 'd': {10:20, 30:40}}\n",
    "\n",
    "    print('getitem', a['d']) # getitem works\n",
    "    [print(\"key\", k) for k in a.keys()] # keys() works\n",
    "    print('len', len(a)) # non-mutating call on the dictionary is ok\n",
    "    print(\"contains \", 'a' in a, 'z' in a) # and contains as it's read only\n",
    "    # it's slightly contrived, but .items() also works\n",
    "\n",
    "\n",
    "mixed_value_type_str_key_dict()"
   ],
   "metadata": {
    "collapsed": false,
    "pycharm": {
     "name": "#%%\n"
    }
   }
  },
  {
   "cell_type": "code",
   "execution_count": null,
   "outputs": [],
   "source": [
    "def full_arctan2(q):\n",
    "    \"\"\"Compute angle spanning 0 to 2pi degrees as expected from x and y where q=numpy.array([x,y,z])\"\"\"\n",
    "    phi = np.arctan2(q[1], q[0])\n",
    "    if phi < 0:  # confine phi to be between 0 and 2pi\n",
    "        phi += 2 * np.pi\n",
    "    return phi"
   ],
   "metadata": {
    "collapsed": false,
    "pycharm": {
     "name": "#%%\n"
    }
   }
  },
  {
   "cell_type": "code",
   "execution_count": null,
   "outputs": [],
   "source": [
    "#values\n",
    "s0=210.0\n",
    "T=.01"
   ],
   "metadata": {
    "collapsed": false,
    "pycharm": {
     "name": "#%%\n"
    }
   }
  },
  {
   "cell_type": "code",
   "execution_count": null,
   "outputs": [],
   "source": [
    "# lens\n",
    "\n",
    "rp=.02\n",
    "q_el=np.array([.2,rp/3,-rp/2])\n",
    "x,y,z=q_el\n",
    "\n",
    "sigma=np.sqrt(BOLTZMANN_CONSTANT*T/MASS_LITHIUM_7)\n",
    "FWHM=2.355*sigma\n",
    "trapFactY=(1-(y/rp)**2)\n",
    "trapFactZ=(1-(z/rp)**2)\n",
    "assert trapFactZ>=0.0 and trapFactY>=0.0\n",
    "delta_px,py,pz=FWHM*2*(np.random.random_sample(3)-.5)\n",
    "py,pz=py*trapFactY,pz*trapFactZ\n",
    "px=s0+delta_px\n",
    "pCollision=(px,py,pz)\n",
    "pCollision"
   ],
   "metadata": {
    "collapsed": false,
    "pycharm": {
     "name": "#%%\n"
    }
   }
  },
  {
   "cell_type": "code",
   "execution_count": null,
   "outputs": [],
   "source": [
    "\n",
    "theta=1.215\n",
    "rp=.02\n",
    "ro=1.01\n",
    "r=1.011\n",
    "x,y=r*np.cos(theta),r*np.sin(theta)\n",
    "z=rp/5.0\n",
    "q_el=np.array([x,y,z])\n"
   ],
   "metadata": {
    "collapsed": false,
    "pycharm": {
     "name": "#%%\n"
    }
   }
  },
  {
   "cell_type": "code",
   "execution_count": null,
   "outputs": [],
   "source": [
    "\n",
    "#bender\n",
    "theta=full_arctan2(q_el)\n",
    "r=np.sqrt(x**2+y**2)\n",
    "xo=r-ro\n",
    "yo=q_el[2]\n",
    "trapFactXo=(1-(xo/rp)**2) if xo<=rp else 0.0\n",
    "trapFactYo=(1-(yo/rp)**2)\n",
    "assert all(0.0<=fact<=1.0 for fact in (trapFactYo,trapFactXo))\n",
    "L=s0*ro\n",
    "delta_pso,pxo,pyo=FWHM*2*(np.random.random_sample(3)-.5)\n",
    "pso=L/r+delta_pso\n",
    "pCollision=np.array([pso,pxo,pyo])\n",
    "\n"
   ],
   "metadata": {
    "collapsed": false,
    "pycharm": {
     "name": "#%%\n"
    }
   }
  },
  {
   "cell_type": "code",
   "execution_count": null,
   "outputs": [],
   "source": [
    "l=s0*r\n",
    "l/(r+rp),s0\n"
   ],
   "metadata": {
    "collapsed": false,
    "pycharm": {
     "name": "#%%\n"
    }
   }
  },
  {
   "cell_type": "code",
   "execution_count": null,
   "outputs": [],
   "source": [],
   "metadata": {
    "collapsed": false,
    "pycharm": {
     "name": "#%%\n"
    }
   }
  },
  {
   "cell_type": "code",
   "execution_count": null,
   "outputs": [],
   "source": [],
   "metadata": {
    "collapsed": false,
    "pycharm": {
     "name": "#%%\n"
    }
   }
  },
  {
   "cell_type": "code",
   "execution_count": null,
   "outputs": [],
   "source": [],
   "metadata": {
    "collapsed": false,
    "pycharm": {
     "name": "#%%\n"
    }
   }
  },
  {
   "cell_type": "code",
   "execution_count": null,
   "outputs": [],
   "source": [],
   "metadata": {
    "collapsed": false,
    "pycharm": {
     "name": "#%%\n"
    }
   }
  },
  {
   "cell_type": "code",
   "execution_count": null,
   "outputs": [],
   "source": [],
   "metadata": {
    "collapsed": false,
    "pycharm": {
     "name": "#%%\n"
    }
   }
  },
  {
   "cell_type": "code",
   "execution_count": null,
   "outputs": [],
   "source": [],
   "metadata": {
    "collapsed": false,
    "pycharm": {
     "name": "#%%\n"
    }
   }
  },
  {
   "cell_type": "code",
   "execution_count": null,
   "outputs": [],
   "source": [],
   "metadata": {
    "collapsed": false,
    "pycharm": {
     "name": "#%%\n"
    }
   }
  },
  {
   "cell_type": "code",
   "execution_count": null,
   "outputs": [],
   "source": [],
   "metadata": {
    "collapsed": false,
    "pycharm": {
     "name": "#%%\n"
    }
   }
  }
 ],
 "metadata": {
  "kernelspec": {
   "display_name": "Python 3",
   "language": "python",
   "name": "python3"
  },
  "language_info": {
   "codemirror_mode": {
    "name": "ipython",
    "version": 3
   },
   "file_extension": ".py",
   "mimetype": "text/x-python",
   "name": "python",
   "nbconvert_exporter": "python",
   "pygments_lexer": "ipython3",
   "version": "3.8.10"
  },
  "nteract": {
   "version": "0.28.0"
  }
 },
 "nbformat": 4,
 "nbformat_minor": 4
}