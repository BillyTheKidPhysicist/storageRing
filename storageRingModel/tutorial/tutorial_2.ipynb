{
 "cells": [
  {
   "cell_type": "markdown",
   "metadata": {
    "collapsed": true,
    "pycharm": {
     "name": "#%% md\n"
    }
   },
   "source": [
    "# Tutorial\n",
    "Let's now consider performance concerns. Python is an interpreted language, so it is not a natural choice for particle tracing. However, Numba allows you to get away with alot.\n",
    "\n",
    "First make a simple but long lattice and a ParticleTracer"
   ]
  },
  {
   "cell_type": "code",
   "execution_count": 1,
   "outputs": [
    {
     "data": {
      "text/plain": "<Figure size 432x288 with 1 Axes>",
      "image/png": "[encoded data removed]"
     },
     "metadata": {
      "needs_background": "light"
     },
     "output_type": "display_data"
    }
   ],
   "source": [
    "from particle_tracer_lattice import ParticleTracerLattice\n",
    "from particle_tracer import ParticleTracer\n",
    "from particle import Particle\n",
    "L_drift=.2\n",
    "L_lens=10.0\n",
    "Bp=1.0\n",
    "rp=.01\n",
    "lattice=ParticleTracerLattice(initial_ang=0.0) #make the lattice and point it along +x\n",
    "#add some elements\n",
    "lattice.add_drift(L_drift)\n",
    "lattice.add_lens_ideal(L_lens,Bp,rp)\n",
    "lattice.add_drift(L_drift)\n",
    "lattice.end_lattice() #finish the lattice so the geometry can be solved\n",
    "pt=ParticleTracer(lattice)\n",
    "lattice.show(true_aspect_ratio=False)"
   ],
   "metadata": {
    "collapsed": false,
    "pycharm": {
     "name": "#%%\n"
    }
   }
  },
  {
   "cell_type": "markdown",
   "source": [
    "In order to apply numba, we must enable fast_mode. This will also no longer log phase space coordinates or particles energy. Let's compare the run time of tracing a particle with fine step between both approaches. We'll use what's known as \"notebook magic\", ie a notebook command"
   ],
   "metadata": {
    "collapsed": false,
    "pycharm": {
     "name": "#%% md\n"
    }
   }
  },
  {
   "cell_type": "code",
   "execution_count": 2,
   "outputs": [],
   "source": [
    "h=1e-6\n",
    "T=10.0\n",
    "def trace_particle(fast_mode):\n",
    "    particle=Particle(qi=(0,1e-3,1e-3),pi=(210.,0,0))\n",
    "    particle=pt.trace(particle,h,T,fast_mode=fast_mode)"
   ],
   "metadata": {
    "collapsed": false,
    "pycharm": {
     "name": "#%%\n"
    }
   }
  },
  {
   "cell_type": "code",
   "execution_count": 5,
   "outputs": [
    {
     "name": "stdout",
     "output_type": "stream",
     "text": [
      "735 µs ± 83.9 µs per loop (mean ± std. dev. of 7 runs, 1,000 loops each)\n"
     ]
    }
   ],
   "source": [
    "%timeit trace_particle(True) #notebook magic"
   ],
   "metadata": {
    "collapsed": false,
    "pycharm": {
     "name": "#%%\n"
    }
   }
  },
  {
   "cell_type": "code",
   "execution_count": 4,
   "outputs": [
    {
     "name": "stdout",
     "output_type": "stream",
     "text": [
      "786 ms ± 37.3 ms per loop (mean ± std. dev. of 7 runs, 1 loop each)\n"
     ]
    }
   ],
   "source": [
    "%timeit trace_particle(False) #notebook magic"
   ],
   "metadata": {
    "collapsed": false,
    "pycharm": {
     "name": "#%%\n"
    }
   }
  },
  {
   "cell_type": "markdown",
   "source": [
    "On my machine the difference between the two results was 3 orders of magnitude (624 us vs 683 ms). When using numba it is normal to expect the first use to take longer because of compilation and you may need to run the cells twice. Using fast_mode allows significant performance gains."
   ],
   "metadata": {
    "collapsed": false,
    "pycharm": {
     "name": "#%% md\n"
    }
   }
  }
 ],
 "metadata": {
  "kernelspec": {
   "display_name": "Python 3",
   "language": "python",
   "name": "python3"
  },
  "language_info": {
   "codemirror_mode": {
    "name": "ipython",
    "version": 2
   },
   "file_extension": ".py",
   "mimetype": "text/x-python",
   "name": "python",
   "nbconvert_exporter": "python",
   "pygments_lexer": "ipython2",
   "version": "2.7.6"
  }
 },
 "nbformat": 4,
 "nbformat_minor": 0
}