{
 "cells": [
  {
   "cell_type": "code",
   "execution_count": 2,
   "metadata": {
    "collapsed": true
   },
   "outputs": [],
   "source": [
    "from helperTools import *\n",
    "from latticeElements.utilities import ElementTooShortError\n",
    "from latticeModels import make_Ring_And_Injector, RingGeometryError, InjectorGeometryError\n",
    "from latticeModels_Parameters import optimizerBounds_V1_3,injectorParamsOptimalAny\n",
    "from storageRingModeler import StorageRingModel\n",
    "from phaseSpaceAnalyzer import SwarmSnapShot\n",
    "from ParticleClass import Swarm\n",
    "\n",
    "\n",
    "ringParams=(0.020750995745003702, 0.01                , 0.0338416724789386  ,0.0079375           , 0.4672288341272473  , 0.4101202965979298  )\n",
    "\n",
    "includeBumper=False\n",
    "systemParams=[ringParams,tuple(injectorParamsOptimalAny.values())]\n",
    "\n",
    "PTL_Ring, PTL_Injector = make_Ring_And_Injector(systemParams,'3',options={'useSolenoidField': True,'includeBumper': includeBumper})"
   ]
  },
  {
   "cell_type": "code",
   "execution_count": 2,
   "outputs": [
    {
     "ename": "NameError",
     "evalue": "name 'StorageRingModel' is not defined",
     "output_type": "error",
     "traceback": [
      "\u001B[0;31m---------------------------------------------------------------------------\u001B[0m",
      "\u001B[0;31mNameError\u001B[0m                                 Traceback (most recent call last)",
      "Input \u001B[0;32mIn [2]\u001B[0m, in \u001B[0;36m<cell line: 1>\u001B[0;34m()\u001B[0m\n\u001B[0;32m----> 1\u001B[0m model\u001B[38;5;241m=\u001B[39m\u001B[43mStorageRingModel\u001B[49m(PTL_Ring,PTL_Injector,numParticlesSwarm\u001B[38;5;241m=\u001B[39m\u001B[38;5;241m500\u001B[39m)\n\u001B[1;32m      2\u001B[0m h\u001B[38;5;241m=\u001B[39m\u001B[38;5;241m7.5e-6\u001B[39m\n\u001B[1;32m      3\u001B[0m T\u001B[38;5;241m=\u001B[39m\u001B[38;5;241m1.0\u001B[39m\n",
      "\u001B[0;31mNameError\u001B[0m: name 'StorageRingModel' is not defined"
     ]
    }
   ],
   "source": [
    "model=StorageRingModel(PTL_Ring,PTL_Injector,numParticlesSwarm=500)\n",
    "h=7.5e-6\n",
    "T=1.0\n",
    "parallel=True\n",
    "swarmInitial = model.trace_Through_Injector_And_Transform_To_Ring()\n",
    "swarmTracedRing = model.swarmTracerRing.trace_Swarm_Through_Lattice(swarmInitial, h,T,\n",
    "                                                               fastMode=False, accelerated=True, copySwarm=False,\n",
    "                                                               parallel=parallel,stepsBetweenLogging=8)\n",
    "print('done')"
   ],
   "metadata": {
    "collapsed": false,
    "pycharm": {
     "name": "#%%\n"
    }
   }
  },
  {
   "cell_type": "code",
   "execution_count": 5,
   "outputs": [
    {
     "data": {
      "text/plain": "'a'"
     },
     "execution_count": 4,
     "metadata": {},
     "output_type": "execute_result"
    },
    {
     "data": {
      "text/plain": "'a'"
     },
     "execution_count": 5,
     "metadata": {},
     "output_type": "execute_result"
    }
   ],
   "source": [
    "'a'"
   ],
   "metadata": {
    "collapsed": false,
    "pycharm": {
     "name": "#%%\n"
    }
   }
  },
  {
   "cell_type": "code",
   "execution_count": 8,
   "outputs": [
    {
     "data": {
      "text/plain": "<Figure size 432x288 with 1 Axes>",
      "image/png": "[encoded data removed]"
     },
     "metadata": {
      "needs_background": "light"
     },
     "output_type": "display_data"
    },
    {
     "data": {
      "text/plain": "0.005958484864590608"
     },
     "execution_count": 8,
     "metadata": {},
     "output_type": "execute_result"
    }
   ],
   "source": [
    "particles=[particle for particle in swarmTracedRing.particles if particle.T>0.25]\n",
    "y= np.array([particle.qi[1] for particle in  particles])\n",
    "py=np.array([particle.pi[1] for particle in particles])\n",
    "plt.scatter(y,py)\n",
    "plt.show()\n",
    "\n",
    "def emmitance(qi,pi):\n",
    "    var_qi=np.mean(qi**2)-np.mean(qi)**2\n",
    "    var_pi=np.mean(pi**2)-np.mean(pi)**2\n",
    "    var_qipi=np.mean(pi*qi)-np.mean(pi)*np.mean(qi)\n",
    "    return np.sqrt(var_qi*var_pi - var_qipi**2)\n",
    "emmitance(y,py)"
   ],
   "metadata": {
    "collapsed": false,
    "pycharm": {
     "name": "#%%\n"
    }
   }
  },
  {
   "cell_type": "code",
   "execution_count": 1,
   "outputs": [
    {
     "ename": "NameError",
     "evalue": "name 'swarmTracedRing' is not defined",
     "output_type": "error",
     "traceback": [
      "\u001B[0;31m---------------------------------------------------------------------------\u001B[0m",
      "\u001B[0;31mNameError\u001B[0m                                 Traceback (most recent call last)",
      "Input \u001B[0;32mIn [1]\u001B[0m, in \u001B[0;36m<cell line: 1>\u001B[0;34m()\u001B[0m\n\u001B[0;32m----> 1\u001B[0m xMax\u001B[38;5;241m=\u001B[39m\u001B[38;5;28mmax\u001B[39m([particle\u001B[38;5;241m.\u001B[39mqoArr[\u001B[38;5;241m-\u001B[39m\u001B[38;5;241m1\u001B[39m,\u001B[38;5;241m0\u001B[39m] \u001B[38;5;28;01mfor\u001B[39;00m particle \u001B[38;5;129;01min\u001B[39;00m \u001B[43mswarmTracedRing\u001B[49m])\n\u001B[1;32m      2\u001B[0m revsMax\u001B[38;5;241m=\u001B[39m\u001B[38;5;28mint\u001B[39m(xMax\u001B[38;5;241m/\u001B[39mPTL_Ring\u001B[38;5;241m.\u001B[39mtotalLength)\u001B[38;5;241m-\u001B[39m\u001B[38;5;241m1\u001B[39m\n\u001B[1;32m      3\u001B[0m min_Survival_Time\u001B[38;5;241m=\u001B[39m\u001B[38;5;241m0.0\u001B[39m\n",
      "\u001B[0;31mNameError\u001B[0m: name 'swarmTracedRing' is not defined"
     ]
    }
   ],
   "source": [
    "xMax=max([particle.qoArr[-1,0] for particle in swarmTracedRing])\n",
    "revsMax=int(xMax/PTL_Ring.totalLength)-1\n",
    "min_Survival_Time=0.0\n",
    "x0=1.5\n",
    "for revs in range(0,revsMax+1,revsMax//10):\n",
    "    print('------------------revs--------')\n",
    "    x=x0+revs*PTL_Ring.totalLength\n",
    "    t=time.time()\n",
    "    snap=SwarmSnapShot(swarmTracedRing.copy(),x,min_Survival_T=min_Survival_Time)\n",
    "    print(time.time()-t)\n",
    "    print(snap.num_Surviving())\n",
    "    exit()\n",
    "    phaseSpace=snap.get_Surviving_Particle_PhaseSpace_Coords()\n",
    "    y,py=phaseSpace[:,1],phaseSpace[:,-2]\n",
    "    z,pz=phaseSpace[:,2],phaseSpace[:,-1]\n",
    "    # plt.hist(pz)\n",
    "    # plt.xlim([-15,15])\n",
    "    # plt.show()\n",
    "    # plt.hist(py)\n",
    "    # plt.xlim([-15,15])\n",
    "    # plt.show()\n",
    "    print('epsy',emmitance(y,py))\n",
    "    plt.scatter(y,py)\n",
    "    plt.xlim([-.005,.005])\n",
    "    plt.ylim([-15,15])\n",
    "    plt.show()\n",
    "    print('epsz',emmitance(z,pz))\n",
    "    plt.scatter(z,pz)\n",
    "    plt.xlim([-.005,.005])\n",
    "    plt.ylim([-15,15])\n",
    "    plt.show()"
   ],
   "metadata": {
    "collapsed": false,
    "pycharm": {
     "name": "#%%\n"
    }
   }
  },
  {
   "cell_type": "code",
   "execution_count": null,
   "outputs": [],
   "source": [],
   "metadata": {
    "collapsed": false,
    "pycharm": {
     "name": "#%%\n"
    }
   }
  }
 ],
 "metadata": {
  "kernelspec": {
   "display_name": "Python 3",
   "language": "python",
   "name": "python3"
  },
  "language_info": {
   "codemirror_mode": {
    "name": "ipython",
    "version": 2
   },
   "file_extension": ".py",
   "mimetype": "text/x-python",
   "name": "python",
   "nbconvert_exporter": "python",
   "pygments_lexer": "ipython2",
   "version": "2.7.6"
  }
 },
 "nbformat": 4,
 "nbformat_minor": 0
}