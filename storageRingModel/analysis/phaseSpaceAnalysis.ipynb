{
 "cells": [
  {
   "cell_type": "code",
   "execution_count": 1,
   "metadata": {
    "collapsed": true
   },
   "outputs": [],
   "source": [
    "import numpy as np\n",
    "\n",
    "from helperTools import *\n",
    "from latticeElements.utilities import ElementTooShortError\n",
    "from latticeModels import make_Ring_And_Injector, RingGeometryError, InjectorGeometryError\n",
    "from latticeModels_Parameters import optimizerBounds_V1_3,injectorParamsOptimalAny\n",
    "from storageRingModeler import StorageRingModel,make_Optimal_Solution_Model\n",
    "from phaseSpaceAnalyzer import SwarmSnapShot\n",
    "from ParticleClass import Swarm\n",
    "\n",
    "\n",
    "\n",
    "\n",
    "model=make_Optimal_Solution_Model()"
   ]
  },
  {
   "cell_type": "code",
   "execution_count": 2,
   "outputs": [
    {
     "name": "stdout",
     "output_type": "stream",
     "text": [
      "done\n"
     ]
    }
   ],
   "source": [
    "model.swarmInjectorInitial=model.generate_Swarm(1000)\n",
    "h=7.5e-6\n",
    "T=30.0\n",
    "parallel=True\n",
    "swarmInitial = model.trace_Through_Injector_And_Transform_To_Ring()\n",
    "swarmTracedRing = model.swarmTracerRing.trace_Swarm_Through_Lattice(swarmInitial, h,T,\n",
    "                                                               fastMode=False, accelerated=True, copySwarm=False,\n",
    "                                                               parallel=parallel,stepsBetweenLogging=4)\n",
    "#only particles that survived through the injector\n",
    "swarmTracedRing.particles = [particle for particle in swarmTracedRing if particle.qf is not None]\n",
    "print('done')"
   ],
   "metadata": {
    "collapsed": false,
    "pycharm": {
     "name": "#%%\n"
    }
   }
  },
  {
   "cell_type": "code",
   "execution_count": 9,
   "outputs": [
    {
     "data": {
      "text/plain": "<Figure size 432x288 with 1 Axes>",
      "image/png": "[encoded data removed]"
     },
     "metadata": {
      "needs_background": "light"
     },
     "output_type": "display_data"
    }
   ],
   "source": [
    "min_time=29.0\n",
    "particles=[particle for particle in swarmTracedRing.particles if particle.T>min_time]\n",
    "y= np.array([particle.qi[1] for particle in  particles])\n",
    "py=np.array([particle.pi[1] for particle in particles])\n",
    "plt.scatter(y,py)\n",
    "plt.show()\n",
    "\n",
    "def emmitance(qi: np.ndarray,pi: np.ndarray)-> float:\n",
    "    var_qi=np.mean(qi**2)-np.mean(qi)**2\n",
    "    var_pi=np.mean(pi**2)-np.mean(pi)**2\n",
    "    var_qipi=np.mean(pi*qi)-np.mean(pi)*np.mean(qi)\n",
    "    return np.sqrt(var_qi*var_pi - var_qipi**2)"
   ],
   "metadata": {
    "collapsed": false,
    "pycharm": {
     "name": "#%%\n"
    }
   }
  },
  {
   "cell_type": "code",
   "execution_count": 10,
   "outputs": [
    {
     "name": "stdout",
     "output_type": "stream",
     "text": [
      "------------------revs--------\n"
     ]
    },
    {
     "name": "stderr",
     "output_type": "stream",
     "text": [
      "\n",
      "KeyboardInterrupt\n",
      "\n"
     ]
    }
   ],
   "source": [
    "xMax=max([particle.qoArr[-1,0] for particle in swarmTracedRing])\n",
    "revsMax=int(xMax/model.latticeRing.totalLength)-1\n",
    "min_Survival_Time=min_time\n",
    "x0=1.5\n",
    "epsy_list=[]\n",
    "epsz_list=[]\n",
    "for revs in range(0,revsMax+1,revsMax//10):\n",
    "    print('------------------revs--------')\n",
    "    x=x0+revs*model.latticeRing.totalLength\n",
    "    t=time.time()\n",
    "    snap=SwarmSnapShot(swarmTracedRing.copy(),x,min_Survival_T=min_Survival_Time)\n",
    "    phaseSpace=snap.get_Surviving_Particle_PhaseSpace_Coords()\n",
    "    y,py=phaseSpace[:,1],phaseSpace[:,-2]\n",
    "    z,pz=phaseSpace[:,2],phaseSpace[:,-1]\n",
    "    # plt.hist(pz)\n",
    "    # plt.xlim([-15,15])\n",
    "    # plt.show()\n",
    "    # plt.hist(py)\n",
    "    # plt.xlim([-15,15])\n",
    "    # plt.show()\n",
    "    epsy_list.append(emmitance(y,py))\n",
    "    epsz_list.append(emmitance(z,pz))\n",
    "    plt.scatter(y,py)\n",
    "    plt.xlim([-.005,.005])\n",
    "    plt.ylim([-15,15])\n",
    "    plt.show()\n",
    "    plt.scatter(z,pz)\n",
    "    plt.xlim([-.005,.005])\n",
    "    plt.ylim([-15,15])\n",
    "    plt.show()"
   ],
   "metadata": {
    "collapsed": false,
    "pycharm": {
     "name": "#%%\n"
    }
   }
  },
  {
   "cell_type": "code",
   "execution_count": 17,
   "outputs": [
    {
     "name": "stdout",
     "output_type": "stream",
     "text": [
      "None\n"
     ]
    }
   ],
   "source": [
    "print(swarmTracedRing.particles[0].qf)"
   ],
   "metadata": {
    "collapsed": false,
    "pycharm": {
     "name": "#%%\n"
    }
   }
  }
 ],
 "metadata": {
  "kernelspec": {
   "display_name": "Python 3",
   "language": "python",
   "name": "python3"
  },
  "language_info": {
   "codemirror_mode": {
    "name": "ipython",
    "version": 2
   },
   "file_extension": ".py",
   "mimetype": "text/x-python",
   "name": "python",
   "nbconvert_exporter": "python",
   "pygments_lexer": "ipython2",
   "version": "2.7.6"
  }
 },
 "nbformat": 4,
 "nbformat_minor": 0
}