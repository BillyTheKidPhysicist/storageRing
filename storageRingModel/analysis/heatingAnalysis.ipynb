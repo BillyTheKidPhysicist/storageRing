{
 "cells": [
  {
   "cell_type": "code",
   "execution_count": 1,
   "metadata": {
    "collapsed": true
   },
   "outputs": [
    {
     "name": "stderr",
     "output_type": "stream",
     "text": [
      "/Users/williamdebenham/Desktop/storageRing/storageRing/storageRingModel/latticeModels/injectorModel_1.py:105: UserWarning: Need to add more here, this isn't right\n",
      "  warnings.warn(\"Need to add more here, this isn't right\")\n"
     ]
    }
   ],
   "source": [
    "import matplotlib.pyplot as plt\n",
    "import numpy as np\n",
    "\n",
    "from helperTools import *\n",
    "from KevinBumperClass import swarmShift_x\n",
    "from storageRingModeler import StorageRingModel,make_optimal_solution_model\n",
    "from phaseSpaceAnalyzer import SwarmSnapShot\n",
    "from phaseSpaceAnalysis_Functions import make_phase_space_info,plot_ring_lattice_with_stops,emittance_from_particles,get_emittances\n",
    "\n",
    "from ParticleClass import Swarm\n",
    "m=7.0\n",
    "model=make_optimal_solution_model()"
   ]
  },
  {
   "cell_type": "code",
   "execution_count": 9,
   "outputs": [],
   "source": [
    "\n",
    "def temperature(momenta):\n",
    "    sigma=np.std(momenta)\n",
    "    return (sigma/91)**2 * m"
   ],
   "metadata": {
    "collapsed": false,
    "pycharm": {
     "name": "#%%\n"
    }
   }
  },
  {
   "cell_type": "code",
   "execution_count": 7,
   "outputs": [],
   "source": [
    "from math import sqrt\n",
    "def thermal_swarm(num_particles,temp_swarm,r_max):\n",
    "    sigma=91*sqrt(temp_swarm/m)\n",
    "    momentums=np.random.normal(loc=(-model.lattice_ring.speed_nominal,0.0,0.0),scale=sigma,size=(num_particles,3))\n",
    "    positions=[]\n",
    "    while len(positions)<num_particles:\n",
    "        y,z=r_max*2*(np.random.random(2)-.5)\n",
    "        if sqrt(y**2+z**2)<r_max:\n",
    "            positions.append([-1e-10,y,z])\n",
    "    swarm_initial=Swarm()\n",
    "    for P,Q in zip(momentums,positions):\n",
    "        swarm_initial.add_new_particle(np.array(Q),np.array(P))\n",
    "    return swarm_initial"
   ],
   "metadata": {
    "collapsed": false,
    "pycharm": {
     "name": "#%%\n"
    }
   }
  },
  {
   "cell_type": "code",
   "execution_count": 67,
   "outputs": [
    {
     "name": "stderr",
     "output_type": "stream",
     "text": [
      "Process ForkPoolWorker-25:\n",
      "Process ForkPoolWorker-23:\n",
      "Process ForkPoolWorker-21:\n",
      "Process ForkPoolWorker-24:\n",
      "Process ForkPoolWorker-22:\n",
      "Process ForkPoolWorker-28:\n",
      "Process ForkPoolWorker-27:\n",
      "Process ForkPoolWorker-26:\n",
      "Process ForkPoolWorker-29:\n",
      "Traceback (most recent call last):\n",
      "Traceback (most recent call last):\n",
      "Traceback (most recent call last):\n",
      "Traceback (most recent call last):\n",
      "  File \"/opt/homebrew/Caskroom/miniforge/base/lib/python3.9/site-packages/multiprocess/process.py\", line 315, in _bootstrap\n",
      "    self.run()\n",
      "Traceback (most recent call last):\n",
      "Traceback (most recent call last):\n",
      "Traceback (most recent call last):\n",
      "Traceback (most recent call last):\n",
      "  File \"/opt/homebrew/Caskroom/miniforge/base/lib/python3.9/site-packages/multiprocess/process.py\", line 315, in _bootstrap\n",
      "    self.run()\n",
      "  File \"/opt/homebrew/Caskroom/miniforge/base/lib/python3.9/site-packages/multiprocess/process.py\", line 315, in _bootstrap\n",
      "    self.run()\n",
      "  File \"/opt/homebrew/Caskroom/miniforge/base/lib/python3.9/site-packages/multiprocess/process.py\", line 315, in _bootstrap\n",
      "    self.run()\n",
      "  File \"/opt/homebrew/Caskroom/miniforge/base/lib/python3.9/site-packages/multiprocess/process.py\", line 108, in run\n",
      "    self._target(*self._args, **self._kwargs)\n",
      "  File \"/opt/homebrew/Caskroom/miniforge/base/lib/python3.9/site-packages/multiprocess/process.py\", line 315, in _bootstrap\n",
      "    self.run()\n",
      "  File \"/opt/homebrew/Caskroom/miniforge/base/lib/python3.9/site-packages/multiprocess/process.py\", line 315, in _bootstrap\n",
      "    self.run()\n",
      "  File \"/opt/homebrew/Caskroom/miniforge/base/lib/python3.9/site-packages/multiprocess/process.py\", line 315, in _bootstrap\n",
      "    self.run()\n",
      "  File \"/opt/homebrew/Caskroom/miniforge/base/lib/python3.9/site-packages/multiprocess/process.py\", line 315, in _bootstrap\n",
      "    self.run()\n",
      "  File \"/opt/homebrew/Caskroom/miniforge/base/lib/python3.9/site-packages/multiprocess/process.py\", line 108, in run\n",
      "    self._target(*self._args, **self._kwargs)\n",
      "  File \"/opt/homebrew/Caskroom/miniforge/base/lib/python3.9/site-packages/multiprocess/process.py\", line 108, in run\n",
      "    self._target(*self._args, **self._kwargs)\n",
      "  File \"/opt/homebrew/Caskroom/miniforge/base/lib/python3.9/site-packages/multiprocess/process.py\", line 108, in run\n",
      "    self._target(*self._args, **self._kwargs)\n",
      "  File \"/opt/homebrew/Caskroom/miniforge/base/lib/python3.9/site-packages/multiprocess/pool.py\", line 125, in worker\n",
      "    result = (True, func(*args, **kwds))\n",
      "  File \"/opt/homebrew/Caskroom/miniforge/base/lib/python3.9/site-packages/multiprocess/process.py\", line 108, in run\n",
      "    self._target(*self._args, **self._kwargs)\n",
      "  File \"/opt/homebrew/Caskroom/miniforge/base/lib/python3.9/site-packages/multiprocess/process.py\", line 108, in run\n",
      "    self._target(*self._args, **self._kwargs)\n",
      "Process ForkPoolWorker-30:\n",
      "  File \"/opt/homebrew/Caskroom/miniforge/base/lib/python3.9/site-packages/multiprocess/process.py\", line 108, in run\n",
      "    self._target(*self._args, **self._kwargs)\n",
      "  File \"/opt/homebrew/Caskroom/miniforge/base/lib/python3.9/site-packages/multiprocess/pool.py\", line 125, in worker\n",
      "    result = (True, func(*args, **kwds))\n",
      "  File \"/opt/homebrew/Caskroom/miniforge/base/lib/python3.9/site-packages/multiprocess/process.py\", line 108, in run\n",
      "    self._target(*self._args, **self._kwargs)\n",
      "  File \"/opt/homebrew/Caskroom/miniforge/base/lib/python3.9/site-packages/multiprocess/pool.py\", line 125, in worker\n",
      "    result = (True, func(*args, **kwds))\n",
      "  File \"/opt/homebrew/Caskroom/miniforge/base/lib/python3.9/site-packages/multiprocess/pool.py\", line 125, in worker\n",
      "    result = (True, func(*args, **kwds))\n",
      "  File \"/opt/homebrew/Caskroom/miniforge/base/lib/python3.9/site-packages/multiprocess/pool.py\", line 125, in worker\n",
      "    result = (True, func(*args, **kwds))\n",
      "  File \"/opt/homebrew/Caskroom/miniforge/base/lib/python3.9/site-packages/multiprocess/pool.py\", line 125, in worker\n",
      "    result = (True, func(*args, **kwds))\n",
      "  File \"/opt/homebrew/Caskroom/miniforge/base/lib/python3.9/site-packages/multiprocess/pool.py\", line 51, in starmapstar\n",
      "    return list(itertools.starmap(args[0], args[1]))\n",
      "  File \"/opt/homebrew/Caskroom/miniforge/base/lib/python3.9/site-packages/multiprocess/pool.py\", line 125, in worker\n",
      "    result = (True, func(*args, **kwds))\n",
      "  File \"/opt/homebrew/Caskroom/miniforge/base/lib/python3.9/site-packages/multiprocess/pool.py\", line 51, in starmapstar\n",
      "    return list(itertools.starmap(args[0], args[1]))\n",
      "  File \"/opt/homebrew/Caskroom/miniforge/base/lib/python3.9/site-packages/multiprocess/pool.py\", line 51, in starmapstar\n",
      "    return list(itertools.starmap(args[0], args[1]))\n",
      "  File \"/opt/homebrew/Caskroom/miniforge/base/lib/python3.9/site-packages/multiprocess/pool.py\", line 125, in worker\n",
      "    result = (True, func(*args, **kwds))\n",
      "  File \"/opt/homebrew/Caskroom/miniforge/base/lib/python3.9/site-packages/multiprocess/pool.py\", line 51, in starmapstar\n",
      "    return list(itertools.starmap(args[0], args[1]))\n",
      "  File \"/opt/homebrew/Caskroom/miniforge/base/lib/python3.9/site-packages/multiprocess/pool.py\", line 51, in starmapstar\n",
      "    return list(itertools.starmap(args[0], args[1]))\n",
      "  File \"/opt/homebrew/Caskroom/miniforge/base/lib/python3.9/site-packages/multiprocess/pool.py\", line 51, in starmapstar\n",
      "    return list(itertools.starmap(args[0], args[1]))\n",
      "  File \"/Users/williamdebenham/Desktop/storageRing/storageRing/storageRingModel/helperTools.py\", line 33, in wrapper\n",
      "    return func(arg, *extra_args_constant, **extra_key_word_args_constant)\n",
      "  File \"/opt/homebrew/Caskroom/miniforge/base/lib/python3.9/site-packages/multiprocess/pool.py\", line 51, in starmapstar\n",
      "    return list(itertools.starmap(args[0], args[1]))\n",
      "  File \"/Users/williamdebenham/Desktop/storageRing/storageRing/storageRingModel/helperTools.py\", line 33, in wrapper\n",
      "    return func(arg, *extra_args_constant, **extra_key_word_args_constant)\n",
      "  File \"/Users/williamdebenham/Desktop/storageRing/storageRing/storageRingModel/helperTools.py\", line 33, in wrapper\n",
      "    return func(arg, *extra_args_constant, **extra_key_word_args_constant)\n",
      "  File \"/opt/homebrew/Caskroom/miniforge/base/lib/python3.9/site-packages/multiprocess/pool.py\", line 51, in starmapstar\n",
      "    return list(itertools.starmap(args[0], args[1]))\n",
      "  File \"/Users/williamdebenham/Desktop/storageRing/storageRing/storageRingModel/helperTools.py\", line 33, in wrapper\n",
      "    return func(arg, *extra_args_constant, **extra_key_word_args_constant)\n",
      "  File \"/Users/williamdebenham/Desktop/storageRing/storageRing/storageRingModel/helperTools.py\", line 33, in wrapper\n",
      "    return func(arg, *extra_args_constant, **extra_key_word_args_constant)\n",
      "  File \"/Users/williamdebenham/Desktop/storageRing/storageRing/storageRingModel/helperTools.py\", line 33, in wrapper\n",
      "    return func(arg, *extra_args_constant, **extra_key_word_args_constant)\n",
      "  File \"/Users/williamdebenham/Desktop/storageRing/storageRing/storageRingModel/SwarmTracerClass.py\", line 304, in trace_particle\n",
      "    particle_new = self.particle_tracer.trace(particle, h, T_max, fast_mode=use_fast_mode,\n",
      "  File \"/Users/williamdebenham/Desktop/storageRing/storageRing/storageRingModel/helperTools.py\", line 33, in wrapper\n",
      "    return func(arg, *extra_args_constant, **extra_key_word_args_constant)\n",
      "  File \"/Users/williamdebenham/Desktop/storageRing/storageRing/storageRingModel/SwarmTracerClass.py\", line 304, in trace_particle\n",
      "    particle_new = self.particle_tracer.trace(particle, h, T_max, fast_mode=use_fast_mode,\n",
      "  File \"/Users/williamdebenham/Desktop/storageRing/storageRing/storageRingModel/SwarmTracerClass.py\", line 304, in trace_particle\n",
      "    particle_new = self.particle_tracer.trace(particle, h, T_max, fast_mode=use_fast_mode,\n",
      "Traceback (most recent call last):\n",
      "  File \"/Users/williamdebenham/Desktop/storageRing/storageRing/storageRingModel/helperTools.py\", line 33, in wrapper\n",
      "    return func(arg, *extra_args_constant, **extra_key_word_args_constant)\n",
      "  File \"/Users/williamdebenham/Desktop/storageRing/storageRing/storageRingModel/SwarmTracerClass.py\", line 304, in trace_particle\n",
      "    particle_new = self.particle_tracer.trace(particle, h, T_max, fast_mode=use_fast_mode,\n",
      "  File \"/Users/williamdebenham/Desktop/storageRing/storageRing/storageRingModel/SwarmTracerClass.py\", line 304, in trace_particle\n",
      "    particle_new = self.particle_tracer.trace(particle, h, T_max, fast_mode=use_fast_mode,\n",
      "  File \"/Users/williamdebenham/Desktop/storageRing/storageRing/storageRingModel/SwarmTracerClass.py\", line 304, in trace_particle\n",
      "    particle_new = self.particle_tracer.trace(particle, h, T_max, fast_mode=use_fast_mode,\n",
      "  File \"/Users/williamdebenham/Desktop/storageRing/storageRing/storageRingModel/ParticleTracerClass.py\", line 180, in trace\n",
      "    self.time_step_loop()\n",
      "  File \"/Users/williamdebenham/Desktop/storageRing/storageRing/storageRingModel/SwarmTracerClass.py\", line 304, in trace_particle\n",
      "    particle_new = self.particle_tracer.trace(particle, h, T_max, fast_mode=use_fast_mode,\n",
      "  File \"/Users/williamdebenham/Desktop/storageRing/storageRing/storageRingModel/ParticleTracerClass.py\", line 180, in trace\n",
      "    self.time_step_loop()\n",
      "  File \"/Users/williamdebenham/Desktop/storageRing/storageRing/storageRingModel/ParticleTracerClass.py\", line 180, in trace\n",
      "    self.time_step_loop()\n",
      "  File \"/opt/homebrew/Caskroom/miniforge/base/lib/python3.9/site-packages/multiprocess/process.py\", line 315, in _bootstrap\n",
      "    self.run()\n",
      "  File \"/Users/williamdebenham/Desktop/storageRing/storageRing/storageRingModel/SwarmTracerClass.py\", line 304, in trace_particle\n",
      "    particle_new = self.particle_tracer.trace(particle, h, T_max, fast_mode=use_fast_mode,\n",
      "  File \"/Users/williamdebenham/Desktop/storageRing/storageRing/storageRingModel/ParticleTracerClass.py\", line 180, in trace\n",
      "    self.time_step_loop()\n",
      "  File \"/Users/williamdebenham/Desktop/storageRing/storageRing/storageRingModel/ParticleTracerClass.py\", line 180, in trace\n",
      "    self.time_step_loop()\n",
      "  File \"/Users/williamdebenham/Desktop/storageRing/storageRing/storageRingModel/ParticleTracerClass.py\", line 180, in trace\n",
      "    self.time_step_loop()\n",
      "  File \"/Users/williamdebenham/Desktop/storageRing/storageRing/storageRingModel/ParticleTracerClass.py\", line 228, in time_step_loop\n",
      "    self.particle.log_params(self.current_el, self.q_el, self.p_el)\n",
      "  File \"/Users/williamdebenham/Desktop/storageRing/storageRing/storageRingModel/ParticleTracerClass.py\", line 180, in trace\n",
      "    self.time_step_loop()\n",
      "  File \"/Users/williamdebenham/Desktop/storageRing/storageRing/storageRingModel/ParticleTracerClass.py\", line 225, in time_step_loop\n",
      "    self.time_step_verlet()\n",
      "  File \"/Users/williamdebenham/Desktop/storageRing/storageRing/storageRingModel/ParticleTracerClass.py\", line 228, in time_step_loop\n",
      "    self.particle.log_params(self.current_el, self.q_el, self.p_el)\n",
      "  File \"/opt/homebrew/Caskroom/miniforge/base/lib/python3.9/site-packages/multiprocess/process.py\", line 108, in run\n",
      "    self._target(*self._args, **self._kwargs)\n",
      "  File \"/Users/williamdebenham/Desktop/storageRing/storageRing/storageRingModel/ParticleTracerClass.py\", line 180, in trace\n",
      "    self.time_step_loop()\n",
      "  File \"/Users/williamdebenham/Desktop/storageRing/storageRing/storageRingModel/ParticleTracerClass.py\", line 225, in time_step_loop\n",
      "    self.time_step_verlet()\n",
      "  File \"/Users/williamdebenham/Desktop/storageRing/storageRing/storageRingModel/ParticleTracerClass.py\", line 225, in time_step_loop\n",
      "    self.time_step_verlet()\n",
      "  File \"/Users/williamdebenham/Desktop/storageRing/storageRing/storageRingModel/ParticleTracerClass.py\", line 228, in time_step_loop\n",
      "    self.particle.log_params(self.current_el, self.q_el, self.p_el)\n",
      "KeyboardInterrupt\n",
      "  File \"/Users/williamdebenham/Desktop/storageRing/storageRing/storageRingModel/ParticleTracerClass.py\", line 225, in time_step_loop\n",
      "    self.time_step_verlet()\n",
      "  File \"/Users/williamdebenham/Desktop/storageRing/storageRing/storageRingModel/ParticleTracerClass.py\", line 307, in time_step_verlet\n",
      "    F_new = self.current_el.force(q_el_new)\n",
      "  File \"/Users/williamdebenham/Desktop/storageRing/storageRing/storageRingModel/ParticleTracerClass.py\", line 228, in time_step_loop\n",
      "    self.particle.log_params(self.current_el, self.q_el, self.p_el)\n",
      "  File \"/Users/williamdebenham/Desktop/storageRing/storageRing/storageRingModel/ParticleClass.py\", line 90, in log_params\n",
      "    q_el = current_el.transform_lab_coords_into_element_frame(q_lab)\n",
      "  File \"/opt/homebrew/Caskroom/miniforge/base/lib/python3.9/site-packages/multiprocess/pool.py\", line 125, in worker\n",
      "    result = (True, func(*args, **kwds))\n",
      "Traceback (most recent call last):\n",
      "  File \"/Users/williamdebenham/Desktop/storageRing/storageRing/storageRingModel/ParticleTracerClass.py\", line 307, in time_step_verlet\n",
      "    F_new = self.current_el.force(q_el_new)\n",
      "  File \"/Users/williamdebenham/Desktop/storageRing/storageRing/storageRingModel/ParticleTracerClass.py\", line 306, in time_step_verlet\n",
      "    q_el_new = fast_qNew(q_el, F, p_el, self.h)  # q new or q sub n+1\n",
      "  File \"/Users/williamdebenham/Desktop/storageRing/storageRing/storageRingModel/ParticleClass.py\", line 93, in log_params\n",
      "    current_el.transform_element_coords_into_global_orbit_frame(q_el, self.cumulative_length))\n",
      "  File \"/Users/williamdebenham/Desktop/storageRing/storageRing/storageRingModel/latticeElements/class_BaseElement.py\", line 119, in force\n",
      "    return np.asarray(self.numba_functions['force'](*q_el))  # will raise NotImplementedError if called\n",
      "  File \"/Users/williamdebenham/Desktop/storageRing/storageRing/storageRingModel/ParticleTracerClass.py\", line 310, in time_step_verlet\n",
      "    self.check_if_particle_is_outside_and_handle_edge_event(q_el_new, q_el,\n",
      "  File \"/Users/williamdebenham/Desktop/storageRing/storageRing/storageRingModel/latticeElements/class_BenderIdeal.py\", line 83, in transform_lab_coords_into_element_frame\n",
      "    q_new = self.transform_Lab_Frame_Vector_Into_Element_Frame(q_new)\n",
      "  File \"/Users/williamdebenham/Desktop/storageRing/storageRing/storageRingModel/ParticleClass.py\", line 93, in log_params\n",
      "    current_el.transform_element_coords_into_global_orbit_frame(q_el, self.cumulative_length))\n",
      "  File \"/opt/homebrew/Caskroom/miniforge/base/lib/python3.9/site-packages/multiprocess/pool.py\", line 51, in starmapstar\n",
      "    return list(itertools.starmap(args[0], args[1]))\n",
      "  File \"/opt/homebrew/Caskroom/miniforge/base/lib/python3.9/site-packages/multiprocess/process.py\", line 315, in _bootstrap\n",
      "    self.run()\n",
      "  File \"/Users/williamdebenham/Desktop/storageRing/storageRing/storageRingModel/latticeElements/class_BaseElement.py\", line 133, in transform_element_coords_into_global_orbit_frame\n",
      "    q_orbit = self.transform_element_coords_into_local_orbit_frame(q_el)\n",
      "  File \"/Users/williamdebenham/Desktop/storageRing/storageRing/storageRingModel/latticeElements/class_BaseElement.py\", line 119, in force\n",
      "    return np.asarray(self.numba_functions['force'](*q_el))  # will raise NotImplementedError if called\n",
      "  File \"/opt/homebrew/Caskroom/miniforge/base/lib/python3.9/site-packages/multiprocess/process.py\", line 108, in run\n",
      "    self._target(*self._args, **self._kwargs)\n"
     ]
    },
    {
     "ename": "KeyboardInterrupt",
     "evalue": "",
     "output_type": "error",
     "traceback": [
      "\u001B[0;31m---------------------------------------------------------------------------\u001B[0m",
      "\u001B[0;31mKeyboardInterrupt\u001B[0m                         Traceback (most recent call last)",
      "Input \u001B[0;32mIn [67]\u001B[0m, in \u001B[0;36m<cell line: 16>\u001B[0;34m()\u001B[0m\n\u001B[1;32m     16\u001B[0m \u001B[38;5;28;01mwhile\u001B[39;00m \u001B[38;5;28mlen\u001B[39m(swarm_initial)\u001B[38;5;241m>\u001B[39m\u001B[38;5;241m0\u001B[39m:\n\u001B[1;32m     17\u001B[0m     swarm_to_trace\u001B[38;5;241m=\u001B[39mtransfer_particles_to_new_swarm(swarm_initial,work_size)\n\u001B[0;32m---> 18\u001B[0m     swarm_traced\u001B[38;5;241m=\u001B[39m\u001B[43mmodel\u001B[49m\u001B[38;5;241;43m.\u001B[39;49m\u001B[43mswarm_tracer_ring\u001B[49m\u001B[38;5;241;43m.\u001B[39;49m\u001B[43mtrace_swarm_through_lattice\u001B[49m\u001B[43m(\u001B[49m\u001B[43mswarm_to_trace\u001B[49m\u001B[43m,\u001B[49m\u001B[38;5;241;43m5e-6\u001B[39;49m\u001B[43m,\u001B[49m\u001B[43mT_max_sim\u001B[49m\u001B[43m,\u001B[49m\u001B[43mparallel\u001B[49m\u001B[38;5;241;43m=\u001B[39;49m\u001B[38;5;28;43;01mTrue\u001B[39;49;00m\u001B[43m,\u001B[49m\u001B[43msteps_per_logging\u001B[49m\u001B[38;5;241;43m=\u001B[39;49m\u001B[38;5;241;43m4\u001B[39;49m\u001B[43m \u001B[49m\u001B[43m,\u001B[49m\u001B[43muse_fast_mode\u001B[49m\u001B[38;5;241;43m=\u001B[39;49m\u001B[38;5;28;43;01mFalse\u001B[39;49;00m\u001B[43m,\u001B[49m\u001B[43muse_energy_correction\u001B[49m\u001B[38;5;241;43m=\u001B[39;49m\u001B[38;5;28;43;01mTrue\u001B[39;49;00m\u001B[43m)\u001B[49m\n\u001B[1;32m     19\u001B[0m     \u001B[38;5;28;01mfor\u001B[39;00m info,x_snap \u001B[38;5;129;01min\u001B[39;00m \u001B[38;5;28mzip\u001B[39m(phase_space_info,x_stops):\n\u001B[1;32m     20\u001B[0m         snap\u001B[38;5;241m=\u001B[39mSwarmSnapShot(swarm_traced,x_snap)\n",
      "File \u001B[0;32m~/Desktop/storageRing/storageRing/storageRingModel/SwarmTracerClass.py:313\u001B[0m, in \u001B[0;36mSwarmTracer.trace_swarm_through_lattice\u001B[0;34m(self, swarm, h, T_max, parallel, use_fast_mode, copy_swarm, accelerated, steps_per_logging, use_energy_correction, use_collisions, log_phase_space_coords)\u001B[0m\n\u001B[1;32m    310\u001B[0m     \u001B[38;5;28;01mreturn\u001B[39;00m particle_new\n\u001B[1;32m    312\u001B[0m swarm_traced \u001B[38;5;241m=\u001B[39m swarm\u001B[38;5;241m.\u001B[39mcopy() \u001B[38;5;28;01mif\u001B[39;00m copy_swarm \u001B[38;5;28;01melse\u001B[39;00m swarm\n\u001B[0;32m--> 313\u001B[0m swarm_traced\u001B[38;5;241m.\u001B[39mparticles \u001B[38;5;241m=\u001B[39m \u001B[43mparallel_evaluate\u001B[49m\u001B[43m(\u001B[49m\u001B[43mtrace_particle\u001B[49m\u001B[43m,\u001B[49m\u001B[43m \u001B[49m\u001B[43mswarm_traced\u001B[49m\u001B[38;5;241;43m.\u001B[39;49m\u001B[43mparticles\u001B[49m\u001B[43m,\u001B[49m\u001B[43m \u001B[49m\u001B[43mparallel\u001B[49m\u001B[38;5;241;43m=\u001B[39;49m\u001B[43mparallel\u001B[49m\u001B[43m)\u001B[49m\n\u001B[1;32m    314\u001B[0m \u001B[38;5;28;01mreturn\u001B[39;00m swarm_traced\n",
      "File \u001B[0;32m~/Desktop/storageRing/storageRing/storageRingModel/helperTools.py:43\u001B[0m, in \u001B[0;36mparallel_evaluate\u001B[0;34m(func, args, results_as_arr, processes, re_randomize, reapply_args, extra_positional_args, parallel, extra_keyword_args)\u001B[0m\n\u001B[1;32m     41\u001B[0m \u001B[38;5;28;01mif\u001B[39;00m parallel:\n\u001B[1;32m     42\u001B[0m     \u001B[38;5;28;01mwith\u001B[39;00m mp\u001B[38;5;241m.\u001B[39mPool(processes, maxtasksperchild\u001B[38;5;241m=\u001B[39m\u001B[38;5;241m10\u001B[39m) \u001B[38;5;28;01mas\u001B[39;00m pool:\n\u001B[0;32m---> 43\u001B[0m         results \u001B[38;5;241m=\u001B[39m \u001B[43mpool\u001B[49m\u001B[38;5;241;43m.\u001B[39;49m\u001B[43mstarmap\u001B[49m\u001B[43m(\u001B[49m\u001B[43mwrapper\u001B[49m\u001B[43m,\u001B[49m\u001B[43m \u001B[49m\u001B[43mpool_iter\u001B[49m\u001B[43m)\u001B[49m\n\u001B[1;32m     44\u001B[0m \u001B[38;5;28;01melse\u001B[39;00m:\n\u001B[1;32m     45\u001B[0m     results \u001B[38;5;241m=\u001B[39m [func(arg, \u001B[38;5;241m*\u001B[39mextra_args_constant, \u001B[38;5;241m*\u001B[39m\u001B[38;5;241m*\u001B[39mextra_key_word_args_constant) \u001B[38;5;28;01mfor\u001B[39;00m arg \u001B[38;5;129;01min\u001B[39;00m args_iter]\n",
      "File \u001B[0;32m/opt/homebrew/Caskroom/miniforge/base/lib/python3.9/site-packages/multiprocess/pool.py:372\u001B[0m, in \u001B[0;36mPool.starmap\u001B[0;34m(self, func, iterable, chunksize)\u001B[0m\n\u001B[1;32m    366\u001B[0m \u001B[38;5;28;01mdef\u001B[39;00m \u001B[38;5;21mstarmap\u001B[39m(\u001B[38;5;28mself\u001B[39m, func, iterable, chunksize\u001B[38;5;241m=\u001B[39m\u001B[38;5;28;01mNone\u001B[39;00m):\n\u001B[1;32m    367\u001B[0m     \u001B[38;5;124;03m'''\u001B[39;00m\n\u001B[1;32m    368\u001B[0m \u001B[38;5;124;03m    Like `map()` method but the elements of the `iterable` are expected to\u001B[39;00m\n\u001B[1;32m    369\u001B[0m \u001B[38;5;124;03m    be iterables as well and will be unpacked as arguments. Hence\u001B[39;00m\n\u001B[1;32m    370\u001B[0m \u001B[38;5;124;03m    `func` and (a, b) becomes func(a, b).\u001B[39;00m\n\u001B[1;32m    371\u001B[0m \u001B[38;5;124;03m    '''\u001B[39;00m\n\u001B[0;32m--> 372\u001B[0m     \u001B[38;5;28;01mreturn\u001B[39;00m \u001B[38;5;28;43mself\u001B[39;49m\u001B[38;5;241;43m.\u001B[39;49m\u001B[43m_map_async\u001B[49m\u001B[43m(\u001B[49m\u001B[43mfunc\u001B[49m\u001B[43m,\u001B[49m\u001B[43m \u001B[49m\u001B[43miterable\u001B[49m\u001B[43m,\u001B[49m\u001B[43m \u001B[49m\u001B[43mstarmapstar\u001B[49m\u001B[43m,\u001B[49m\u001B[43m \u001B[49m\u001B[43mchunksize\u001B[49m\u001B[43m)\u001B[49m\u001B[38;5;241;43m.\u001B[39;49m\u001B[43mget\u001B[49m\u001B[43m(\u001B[49m\u001B[43m)\u001B[49m\n",
      "File \u001B[0;32m/opt/homebrew/Caskroom/miniforge/base/lib/python3.9/site-packages/multiprocess/pool.py:765\u001B[0m, in \u001B[0;36mApplyResult.get\u001B[0;34m(self, timeout)\u001B[0m\n\u001B[1;32m    764\u001B[0m \u001B[38;5;28;01mdef\u001B[39;00m \u001B[38;5;21mget\u001B[39m(\u001B[38;5;28mself\u001B[39m, timeout\u001B[38;5;241m=\u001B[39m\u001B[38;5;28;01mNone\u001B[39;00m):\n\u001B[0;32m--> 765\u001B[0m     \u001B[38;5;28;43mself\u001B[39;49m\u001B[38;5;241;43m.\u001B[39;49m\u001B[43mwait\u001B[49m\u001B[43m(\u001B[49m\u001B[43mtimeout\u001B[49m\u001B[43m)\u001B[49m\n\u001B[1;32m    766\u001B[0m     \u001B[38;5;28;01mif\u001B[39;00m \u001B[38;5;129;01mnot\u001B[39;00m \u001B[38;5;28mself\u001B[39m\u001B[38;5;241m.\u001B[39mready():\n\u001B[1;32m    767\u001B[0m         \u001B[38;5;28;01mraise\u001B[39;00m \u001B[38;5;167;01mTimeoutError\u001B[39;00m\n",
      "File \u001B[0;32m/opt/homebrew/Caskroom/miniforge/base/lib/python3.9/site-packages/multiprocess/pool.py:762\u001B[0m, in \u001B[0;36mApplyResult.wait\u001B[0;34m(self, timeout)\u001B[0m\n\u001B[1;32m    761\u001B[0m \u001B[38;5;28;01mdef\u001B[39;00m \u001B[38;5;21mwait\u001B[39m(\u001B[38;5;28mself\u001B[39m, timeout\u001B[38;5;241m=\u001B[39m\u001B[38;5;28;01mNone\u001B[39;00m):\n\u001B[0;32m--> 762\u001B[0m     \u001B[38;5;28;43mself\u001B[39;49m\u001B[38;5;241;43m.\u001B[39;49m\u001B[43m_event\u001B[49m\u001B[38;5;241;43m.\u001B[39;49m\u001B[43mwait\u001B[49m\u001B[43m(\u001B[49m\u001B[43mtimeout\u001B[49m\u001B[43m)\u001B[49m\n",
      "File \u001B[0;32m/opt/homebrew/Caskroom/miniforge/base/lib/python3.9/threading.py:574\u001B[0m, in \u001B[0;36mEvent.wait\u001B[0;34m(self, timeout)\u001B[0m\n\u001B[1;32m    572\u001B[0m signaled \u001B[38;5;241m=\u001B[39m \u001B[38;5;28mself\u001B[39m\u001B[38;5;241m.\u001B[39m_flag\n\u001B[1;32m    573\u001B[0m \u001B[38;5;28;01mif\u001B[39;00m \u001B[38;5;129;01mnot\u001B[39;00m signaled:\n\u001B[0;32m--> 574\u001B[0m     signaled \u001B[38;5;241m=\u001B[39m \u001B[38;5;28;43mself\u001B[39;49m\u001B[38;5;241;43m.\u001B[39;49m\u001B[43m_cond\u001B[49m\u001B[38;5;241;43m.\u001B[39;49m\u001B[43mwait\u001B[49m\u001B[43m(\u001B[49m\u001B[43mtimeout\u001B[49m\u001B[43m)\u001B[49m\n\u001B[1;32m    575\u001B[0m \u001B[38;5;28;01mreturn\u001B[39;00m signaled\n",
      "File \u001B[0;32m/opt/homebrew/Caskroom/miniforge/base/lib/python3.9/threading.py:312\u001B[0m, in \u001B[0;36mCondition.wait\u001B[0;34m(self, timeout)\u001B[0m\n\u001B[1;32m    310\u001B[0m \u001B[38;5;28;01mtry\u001B[39;00m:    \u001B[38;5;66;03m# restore state no matter what (e.g., KeyboardInterrupt)\u001B[39;00m\n\u001B[1;32m    311\u001B[0m     \u001B[38;5;28;01mif\u001B[39;00m timeout \u001B[38;5;129;01mis\u001B[39;00m \u001B[38;5;28;01mNone\u001B[39;00m:\n\u001B[0;32m--> 312\u001B[0m         \u001B[43mwaiter\u001B[49m\u001B[38;5;241;43m.\u001B[39;49m\u001B[43macquire\u001B[49m\u001B[43m(\u001B[49m\u001B[43m)\u001B[49m\n\u001B[1;32m    313\u001B[0m         gotit \u001B[38;5;241m=\u001B[39m \u001B[38;5;28;01mTrue\u001B[39;00m\n\u001B[1;32m    314\u001B[0m     \u001B[38;5;28;01melse\u001B[39;00m:\n",
      "\u001B[0;31mKeyboardInterrupt\u001B[0m: "
     ]
    }
   ],
   "source": [
    "from phaseSpaceAnalysis_Functions import transfer_particles_to_new_swarm\n",
    "%matplotlib inline\n",
    "T_max_sim=30.0\n",
    "x0=1e-6\n",
    "num_particles=200\n",
    "temperature_swarm=.01\n",
    "r_max=1e-3\n",
    "swarm_initial=thermal_swarm(num_particles,temperature_swarm,r_max)\n",
    "\n",
    "x_max=T_max_sim*model.lattice_ring.speed_nominal\n",
    "x_stops=np.arange(x0,x_max,model.lattice_ring.total_length)\n",
    "phase_space_info=[[] for _ in x_stops]\n",
    "num_particles_sim=num_particles_left=30\n",
    "work_size=100\n",
    "swarm_traced=None\n",
    "while len(swarm_initial)>0:\n",
    "    swarm_to_trace=transfer_particles_to_new_swarm(swarm_initial,work_size)\n",
    "    swarm_traced=model.swarm_tracer_ring.trace_swarm_through_lattice(swarm_to_trace,5e-6,T_max_sim,parallel=True,steps_per_logging=4 ,use_fast_mode=False,use_energy_correction=True)\n",
    "    for info,x_snap in zip(phase_space_info,x_stops):\n",
    "        snap=SwarmSnapShot(swarm_traced,x_snap)\n",
    "        info.extend(snap.particles)"
   ],
   "metadata": {
    "collapsed": false,
    "pycharm": {
     "name": "#%%\n"
    }
   }
  },
  {
   "cell_type": "code",
   "execution_count": null,
   "outputs": [],
   "source": [
    "T_min_analysis=T_max_sim\n",
    "x_min = min([particle.qo[0] for particle in phase_space_info[-1] if particle.T > T_min_analysis])\n",
    "def is_valid(particle):\n",
    "    return (particle.T>T_min_analysis and particle.qo[0]<x_min)\n",
    "sum([1 for particle in phase_space_info[0] if is_valid(particle)])"
   ],
   "metadata": {
    "collapsed": false,
    "pycharm": {
     "name": "#%%\n"
    }
   }
  },
  {
   "cell_type": "code",
   "execution_count": 59,
   "outputs": [],
   "source": [
    "def get_valid_coords(idx):\n",
    "    y=[part.qo[1] for part in phase_space_info[idx] if is_valid(part)]\n",
    "    z=[part.qo[2] for part in phase_space_info[idx] if is_valid(part)]\n",
    "    py=[part.po[1] for part in phase_space_info[idx] if is_valid(part)]\n",
    "    pz=[part.po[2] for part in phase_space_info[idx] if is_valid(part)]\n",
    "    return y,z,py,pz\n",
    "temperatures=[]\n",
    "for index,_ in enumerate(phase_space_info):\n",
    "    _,_,py,pz=get_valid_coords(index)\n",
    "    if len(py)!=0:\n",
    "        temperatures.append([temperature(py),temperature(pz)])\n",
    "temperatures=np.array(temperatures)"
   ],
   "metadata": {
    "collapsed": false,
    "pycharm": {
     "name": "#%%\n"
    }
   }
  },
  {
   "cell_type": "code",
   "execution_count": 60,
   "outputs": [
    {
     "data": {
      "text/plain": "<Figure size 432x288 with 1 Axes>",
      "image/png": "[encoded data removed]"
     },
     "metadata": {
      "needs_background": "light"
     },
     "output_type": "display_data"
    }
   ],
   "source": [
    "plt.plot(temperatures[:,0])\n",
    "plt.plot(temperatures[:,1])\n",
    "plt.show()"
   ],
   "metadata": {
    "collapsed": false,
    "pycharm": {
     "name": "#%%\n"
    }
   }
  },
  {
   "cell_type": "code",
   "execution_count": 17,
   "outputs": [
    {
     "data": {
      "text/plain": "125"
     },
     "execution_count": 17,
     "metadata": {},
     "output_type": "execute_result"
    }
   ],
   "source": [
    "len(phase_space_info)"
   ],
   "metadata": {
    "collapsed": false,
    "pycharm": {
     "name": "#%%\n"
    }
   }
  }
 ],
 "metadata": {
  "kernelspec": {
   "display_name": "Python 3",
   "language": "python",
   "name": "python3"
  },
  "language_info": {
   "codemirror_mode": {
    "name": "ipython",
    "version": 2
   },
   "file_extension": ".py",
   "mimetype": "text/x-python",
   "name": "python",
   "nbconvert_exporter": "python",
   "pygments_lexer": "ipython2",
   "version": "2.7.6"
  }
 },
 "nbformat": 4,
 "nbformat_minor": 0
}