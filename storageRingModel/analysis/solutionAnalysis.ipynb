{
 "cells": [
  {
   "cell_type": "markdown",
   "source": [
    "# Solution analysis\n",
    "\n",
    "Here I analyze the performance of the ring. Mostly its resistance to imperfections, and quantify its sensitivity"
   ],
   "metadata": {
    "collapsed": false,
    "pycharm": {
     "name": "#%% md\n"
    }
   }
  },
  {
   "cell_type": "code",
   "execution_count": 1,
   "outputs": [],
   "source": [
    "from helper_tools import *\n",
    "from latticeElements.utilities import ElementTooShortError\n",
    "from latticeModels import make_ring_and_injector, RingGeometryError, InjectorGeometryError\n",
    "from latticeModels_Parameters import optimizerBounds_V1_3,injectorParamsOptimalAny,ringParamsOptimal_V3\n",
    "from storageRingModeler import StorageRingModel,make_optimal_solution_model\n",
    "\n",
    "\n",
    "\n",
    "model=make_optimal_solution_model()"
   ],
   "metadata": {
    "collapsed": false,
    "pycharm": {
     "name": "#%%\n"
    }
   }
  },
  {
   "cell_type": "code",
   "execution_count": null,
   "outputs": [],
   "source": [],
   "metadata": {
    "collapsed": false,
    "pycharm": {
     "name": "#%%\n"
    }
   }
  },
  {
   "cell_type": "code",
   "execution_count": null,
   "outputs": [],
   "source": [],
   "metadata": {
    "collapsed": false,
    "pycharm": {
     "name": "#%%\n"
    }
   }
  },
  {
   "cell_type": "code",
   "execution_count": null,
   "outputs": [],
   "source": [],
   "metadata": {
    "collapsed": false,
    "pycharm": {
     "name": "#%%\n"
    }
   }
  },
  {
   "cell_type": "code",
   "execution_count": null,
   "outputs": [],
   "source": [],
   "metadata": {
    "collapsed": false,
    "pycharm": {
     "name": "#%%\n"
    }
   }
  },
  {
   "cell_type": "code",
   "execution_count": null,
   "outputs": [],
   "source": [],
   "metadata": {
    "collapsed": false,
    "pycharm": {
     "name": "#%%\n"
    }
   }
  },
  {
   "cell_type": "code",
   "execution_count": null,
   "outputs": [],
   "source": [],
   "metadata": {
    "collapsed": false,
    "pycharm": {
     "name": "#%%\n"
    }
   }
  },
  {
   "cell_type": "code",
   "execution_count": 28,
   "outputs": [],
   "source": [
    "# model.T=10.0\n",
    "model.swarm_injector_initial=model.generate_swarm(10_000)\n",
    "# swarm_traced=model.inject_swarm(parallel=True)"
   ],
   "metadata": {
    "collapsed": false,
    "pycharm": {
     "name": "#%%\n"
    }
   }
  },
  {
   "cell_type": "code",
   "execution_count": 36,
   "outputs": [
    {
     "data": {
      "text/plain": "<Figure size 432x288 with 1 Axes>",
      "image/png": "[encoded data removed]"
     },
     "metadata": {
      "needs_background": "light"
     },
     "output_type": "display_data"
    }
   ],
   "source": [
    "from particle_class import Swarm\n",
    "%matplotlib inline\n",
    "number_of_particles=np.linspace(100,swarm_traced.num_particles()).astype(int)\n",
    "fluxes=[]\n",
    "for num in number_of_particles:\n",
    "    swarm=Swarm()\n",
    "    swarm.particles=swarm_traced.particles[:num]\n",
    "    fluxes.append(swarm.weighted_flux_mult()*number_of_particles.max()/model.swarm_injector_initial.num_particles())\n",
    "\n",
    "scaleUp=model.swarm_injector_initial.num_particles()/number_of_particles.max() #scale up number of particles\n",
    "#cause ones clipped in injector are not included\n",
    "plt.scatter(number_of_particles*scaleUp,fluxes)\n",
    "plt.title(\"performance versus swarm size\")\n",
    "plt.xlabel(\"number of particles\")\n",
    "plt.ylabel('Flux multiplication')\n",
    "plt.show()"
   ],
   "metadata": {
    "collapsed": false,
    "pycharm": {
     "name": "#%%\n"
    }
   }
  },
  {
   "cell_type": "code",
   "execution_count": 5,
   "outputs": [],
   "source": [
    "model.compute_Flux_Multiplication()"
   ],
   "metadata": {
    "collapsed": false,
    "pycharm": {
     "name": "#%%\n"
    }
   }
  },
  {
   "cell_type": "code",
   "execution_count": 11,
   "outputs": [
    {
     "data": {
      "text/plain": "0.004070684131413616"
     },
     "execution_count": 11,
     "metadata": {},
     "output_type": "execute_result"
    }
   ],
   "source": [
    "from latticeElements.utilities import  halbach_magnet_width\n",
    "halbach_magnet_width(.007596,magnetSeparation=0.0)"
   ],
   "metadata": {
    "collapsed": false,
    "pycharm": {
     "name": "#%%\n"
    }
   }
  },
  {
   "cell_type": "code",
   "execution_count": 13,
   "outputs": [
    {
     "name": "stdout",
     "output_type": "stream",
     "text": [
      "1 a\n",
      "1 b\n",
      "1 c\n",
      "2 a\n",
      "2 b\n",
      "2 c\n"
     ]
    }
   ],
   "source": [
    "A=[1,2]\n",
    "B=['a','b','c']\n",
    "for a in A:\n",
    "    for b in B:\n",
    "        print(a,b)"
   ],
   "metadata": {
    "collapsed": false,
    "pycharm": {
     "name": "#%%\n"
    }
   }
  },
  {
   "cell_type": "code",
   "execution_count": 14,
   "outputs": [
    {
     "name": "stdout",
     "output_type": "stream",
     "text": [
      "1 a\n",
      "1 b\n",
      "1 c\n",
      "2 a\n",
      "2 b\n",
      "2 c\n"
     ]
    }
   ],
   "source": [
    "import itertools\n",
    "for a,b in itertools.product(A,B):\n",
    "    print(a,b)"
   ],
   "metadata": {
    "collapsed": false,
    "pycharm": {
     "name": "#%%\n"
    }
   }
  }
 ],
 "metadata": {
  "kernelspec": {
   "display_name": "Python 3",
   "language": "python",
   "name": "python3"
  },
  "language_info": {
   "codemirror_mode": {
    "name": "ipython",
    "version": 3
   },
   "file_extension": ".py",
   "mimetype": "text/x-python",
   "name": "python",
   "nbconvert_exporter": "python",
   "pygments_lexer": "ipython3",
   "version": "3.8.10"
  },
  "nteract": {
   "version": "0.28.0"
  }
 },
 "nbformat": 4,
 "nbformat_minor": 4
}