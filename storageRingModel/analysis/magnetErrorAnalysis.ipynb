{
 "cells": [
  {
   "cell_type": "code",
   "execution_count": 1,
   "metadata": {
    "collapsed": true
   },
   "outputs": [],
   "source": [
    "import matplotlib.pyplot as plt\n",
    "import numpy as np\n",
    "\n",
    "from helper_tools import *\n",
    "from storage_ring_modeler import StorageRingModel,make_optimal_solution_model\n",
    "\n",
    "import time\n",
    "import multiprocess as mp\n",
    "# def solve():\n",
    "#     model=make_optimal_solution_model('2',use_long_range_fields=True,sim_time_max=100,include_misalignments=False,include_mag_errors=True)\n",
    "#     flux= model.mode_match(parallel=False)[1]\n",
    "#     print(flux)\n",
    "#     return flux"
   ]
  },
  {
   "cell_type": "code",
   "execution_count": null,
   "outputs": [],
   "source": [
    "def model(which):\n",
    "    if which=='1':\n",
    "        t=time.time()\n",
    "        model= make_optimal_solution_model('2',use_long_range_fields=True,sim_time_max=100,include_mag_errors=True)\n",
    "        print('1',time.time()-t)\n",
    "    else:\n",
    "        t=time.time()\n",
    "        model= make_optimal_solution_model('2',use_long_range_fields=False,sim_time_max=100,include_mag_errors=True)\n",
    "        print('2',time.time()-t)\n",
    "    return model\n",
    "models=parallel_evaluate(model,['1','2'])"
   ],
   "metadata": {
    "collapsed": false,
    "pycharm": {
     "name": "#%%\n",
     "is_executing": true
    }
   }
  },
  {
   "cell_type": "code",
   "execution_count": null,
   "outputs": [],
   "source": [],
   "metadata": {
    "collapsed": false,
    "pycharm": {
     "name": "#%%\n"
    }
   }
  }
 ],
 "metadata": {
  "kernelspec": {
   "display_name": "Python 3",
   "language": "python",
   "name": "python3"
  },
  "language_info": {
   "codemirror_mode": {
    "name": "ipython",
    "version": 2
   },
   "file_extension": ".py",
   "mimetype": "text/x-python",
   "name": "python",
   "nbconvert_exporter": "python",
   "pygments_lexer": "ipython2",
   "version": "2.7.6"
  }
 },
 "nbformat": 4,
 "nbformat_minor": 0
}