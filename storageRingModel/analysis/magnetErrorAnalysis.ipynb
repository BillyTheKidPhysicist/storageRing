{
 "cells": [
  {
   "cell_type": "code",
   "execution_count": 1,
   "metadata": {
    "collapsed": true
   },
   "outputs": [],
   "source": [
    "from helperTools import *\n",
    "from latticeElements.utilities import ElementTooShortError\n",
    "from latticeModels import make_Ring_And_Injector, RingGeometryError, InjectorGeometryError\n",
    "from latticeModels_Parameters import optimizerBounds_V1_3,injectorParamsOptimalAny,ringParamsOptimal_V3\n",
    "from storageRingModeler import StorageRingModel,make_optimal_solution_model\n",
    "\n",
    "\n",
    "\n",
    "model=make_optimal_solution_model()"
   ]
  },
  {
   "cell_type": "code",
   "execution_count": 13,
   "outputs": [
    {
     "data": {
      "text/plain": "array([-122.80063132, -112.3854643 , -103.80544671])"
     },
     "execution_count": 13,
     "metadata": {},
     "output_type": "execute_result"
    }
   ],
   "source": [
    "bumpLens1=model.lattice_injector.elList[0]\n",
    "bumpLens2=model.lattice_injector.elList[2]\n",
    "bumpLens1,bumpLens2\n",
    "qTest=np.array([10e-3,10e-3,10e-3])\n",
    "bumpLens1.force(qTest)"
   ],
   "metadata": {
    "collapsed": false,
    "pycharm": {
     "name": "#%%\n"
    }
   }
  },
  {
   "cell_type": "code",
   "execution_count": 14,
   "outputs": [
    {
     "data": {
      "text/plain": "array([-113.28192786,  -77.70915157, -125.99614615])"
     },
     "execution_count": 14,
     "metadata": {},
     "output_type": "execute_result"
    }
   ],
   "source": [
    "model.lattice_injector.use_mag_errors=True\n",
    "bumpLens1=model.lattice_injector.elList[0]\n",
    "bumpLens1.build_fast_field_helper([])\n",
    "bumpLens1.force(qTest)"
   ],
   "metadata": {
    "collapsed": false,
    "pycharm": {
     "name": "#%%\n"
    }
   }
  },
  {
   "cell_type": "code",
   "execution_count": 15,
   "outputs": [
    {
     "data": {
      "text/plain": "array([-143.70990012, -137.21425958,  -75.01386005])"
     },
     "execution_count": 15,
     "metadata": {},
     "output_type": "execute_result"
    }
   ],
   "source": [
    "model.lattice_injector.use_mag_errors=True\n",
    "bumpLens1=model.lattice_injector.elList[0]\n",
    "bumpLens1.build_fast_field_helper([])\n",
    "bumpLens1.force(qTest)"
   ],
   "metadata": {
    "collapsed": false,
    "pycharm": {
     "name": "#%%\n"
    }
   }
  }
 ],
 "metadata": {
  "kernelspec": {
   "display_name": "Python 3",
   "language": "python",
   "name": "python3"
  },
  "language_info": {
   "codemirror_mode": {
    "name": "ipython",
    "version": 2
   },
   "file_extension": ".py",
   "mimetype": "text/x-python",
   "name": "python",
   "nbconvert_exporter": "python",
   "pygments_lexer": "ipython2",
   "version": "2.7.6"
  }
 },
 "nbformat": 4,
 "nbformat_minor": 0
}