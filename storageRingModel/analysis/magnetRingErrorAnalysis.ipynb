{
 "cells": [
  {
   "cell_type": "code",
   "execution_count": 3,
   "metadata": {
    "collapsed": true
   },
   "outputs": [
    {
     "name": "stderr",
     "output_type": "stream",
     "text": [
      "/Users/williamdebenham/Desktop/storageRing/storageRing/storageRingModel/latticeElements/class_CombinerHalbachLensSim.py:156: UserWarning: magnet errors are not implemented in the combiner\n",
      "  warnings.warn(\"magnet errors are not implemented in the combiner\")\n",
      "/Users/williamdebenham/Desktop/storageRing/storageRing/storageRingModel/latticeElements/class_CombinerHalbachLensSim.py:156: UserWarning: magnet errors are not implemented in the combiner\n",
      "  warnings.warn(\"magnet errors are not implemented in the combiner\")\n"
     ]
    }
   ],
   "source": [
    "import matplotlib.pyplot as plt\n",
    "import numpy as np\n",
    "\n",
    "from helper_tools import *\n",
    "from KevinBumperClass import swarmShift_x\n",
    "from storageRingModeler import StorageRingModel,make_optimal_solution_model\n",
    "from phaseSpaceAnalyzer import SwarmPoincare\n",
    "from phaseSpaceAnalysis_Functions import make_phase_space_info,plot_ring_lattice_with_stops,emittance_from_particles,get_emittances\n",
    "from math import sqrt\n",
    "from particle import Swarm\n",
    "model=make_optimal_solution_model('2',use_bumper=False,use_mag_errors=True,use_energy_correction=True)"
   ]
  },
  {
   "cell_type": "code",
   "execution_count": 4,
   "outputs": [
    {
     "data": {
      "text/plain": "(0.9844267021914426, 39.896411789409854)"
     },
     "execution_count": 4,
     "metadata": {},
     "output_type": "execute_result"
    }
   ],
   "source": [
    "model.mode_match()"
   ],
   "metadata": {
    "collapsed": false,
    "pycharm": {
     "name": "#%%\n"
    }
   }
  },
  {
   "cell_type": "code",
   "execution_count": null,
   "outputs": [],
   "source": [],
   "metadata": {
    "collapsed": false,
    "pycharm": {
     "name": "#%%\n"
    }
   }
  }
 ],
 "metadata": {
  "kernelspec": {
   "display_name": "Python 3",
   "language": "python",
   "name": "python3"
  },
  "language_info": {
   "codemirror_mode": {
    "name": "ipython",
    "version": 2
   },
   "file_extension": ".py",
   "mimetype": "text/x-python",
   "name": "python",
   "nbconvert_exporter": "python",
   "pygments_lexer": "ipython2",
   "version": "2.7.6"
  }
 },
 "nbformat": 4,
 "nbformat_minor": 0
}