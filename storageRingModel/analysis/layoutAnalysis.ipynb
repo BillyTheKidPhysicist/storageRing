{
 "cells": [
  {
   "cell_type": "code",
   "execution_count": 1,
   "outputs": [],
   "source": [
    "import matplotlib.pyplot as plt\n",
    "import numpy as np\n",
    "\n",
    "from helperTools import *\n",
    "from KevinBumperClass import swarmShift_x\n",
    "from storageRingModeler import StorageRingModel,make_optimal_solution_model\n",
    "from phaseSpaceAnalyzer import SwarmSnapShot\n",
    "from phaseSpaceAnalysis_Functions import make_phase_space_info,plot_ring_lattice_with_stops,emittance_from_particles\n",
    "\n",
    "from ParticleClass import Swarm\n",
    "model=make_optimal_solution_model()"
   ],
   "metadata": {
    "collapsed": false,
    "pycharm": {
     "name": "#%%\n"
    }
   }
  },
  {
   "cell_type": "code",
   "execution_count": 2,
   "outputs": [
    {
     "data": {
      "text/plain": "(0.6908914842660849, 76.89519332025971)"
     },
     "execution_count": 2,
     "metadata": {},
     "output_type": "execute_result"
    }
   ],
   "source": [
    "model.mode_match()"
   ],
   "metadata": {
    "collapsed": false,
    "pycharm": {
     "name": "#%%\n"
    }
   }
  },
  {
   "cell_type": "code",
   "execution_count": null,
   "outputs": [],
   "source": [
    "# from ParticleTracerLatticeClass import ParticleTracerLattice\n",
    "# from helperTools import *\n",
    "# PTL=ParticleTracerLattice(lattice_type='injector')\n",
    "# PTL.add_drift(.1)\n",
    "# # PTL.add_drift(.2,input_tilt_angle=0.5,output_tilt_angle=-.5)\n",
    "# # PTL.add_drift(.1,output_tilt_angle=.1)\n",
    "# PTL.add_segmented_halbach_bender(.0254,.01,30,1.0)\n",
    "# # PTL.add_bender_ideal(np.pi/10.0,1.0,1.0,.01)\n",
    "# # PTL.add_drift(.1)\n",
    "# # PTL.add_combiner_sim_lens(.2,.02)\n",
    "# PTL.end_lattice()\n",
    "#\n",
    "# PTL.show_lattice()\n"
   ],
   "metadata": {
    "collapsed": false,
    "pycharm": {
     "name": "#%%\n"
    }
   }
  },
  {
   "cell_type": "code",
   "execution_count": 92,
   "outputs": [],
   "source": [
    "from math import cos,sin,atan,tan,pi\n",
    "def convert_center_to_orbit_coords(el,s: float, xc: float, yc: float) -> tuple[float, float, float]:\n",
    "    \"\"\"Convert center coordinates [s,xc,yc] to cartesian coordinates[x,y,z]\"\"\"\n",
    "    arc_length=el.ang*el.ro\n",
    "    if 0.0 <= s < el.L_cap:\n",
    "        x, y, z = el.ro + xc, s - el.L_cap, yc\n",
    "    elif el.L_cap <= s < el.L_cap + arc_length:\n",
    "        theta = (s - el.L_cap) / el.ro\n",
    "        r = el.ro + xc\n",
    "        x, y, z = cos(theta) * r, sin(theta) * r, yc\n",
    "    elif el.L_cap + arc_length <= s <= arc_length + 2 * el.L_cap:\n",
    "        theta = el.ang\n",
    "        r = el.ro + xc\n",
    "        x0, y0 = cos(theta) * r, sin(theta) * r\n",
    "        delta_s = s - (el.ang * el.ro + el.L_cap)\n",
    "        theta_perp = pi + atan(-1 / tan(theta))\n",
    "        x, y, z = x0 + cos(theta_perp) * delta_s, y0 + sin(theta_perp) * delta_s, yc\n",
    "    else:\n",
    "        raise ValueError\n",
    "    return x, y, z\n"
   ],
   "metadata": {
    "collapsed": false,
    "pycharm": {
     "name": "#%%\n"
    }
   }
  },
  {
   "cell_type": "code",
   "execution_count": 117,
   "outputs": [
    {
     "data": {
      "text/plain": "<Figure size 432x288 with 1 Axes>",
      "image/png": "[encoded data removed]"
     },
     "metadata": {
      "needs_background": "light"
     },
     "output_type": "display_data"
    }
   ],
   "source": [
    "from latticeElements.combiner_characterizer import  make_halbach_combiner_force_function,compute_particle_trajectory\n",
    "from latticeElements.elements import Drift,HalbachLensSim,CombinerHalbachLensSim,BenderIdeal,HalbachBenderSimSegmented\n",
    "from shapely.geometry import LineString\n",
    "def combiner_Halbach_xy(el):\n",
    "    atomState = 'HIGH_FIELD_SEEKER' if el.field_fact == -1 else 'LOW_FIELD_SEEKER'\n",
    "    force_Func = make_halbach_combiner_force_function(el)\n",
    "    qArr, _ = compute_particle_trajectory(force_Func, el.PTL.speed_nominal, 0.0, 2 * el.space + el.Lm,\n",
    "                                          particle_y_offset_start=el.output_offset, atom_state=atomState)\n",
    "    xy=qArr[:,:2]\n",
    "    for i,coord in enumerate(xy):\n",
    "        xy[i]=el.R_Out@coord\n",
    "    xy+=el.r2[:2]\n",
    "    return xy\n",
    "\n",
    "def straight_xy(el):\n",
    "    xy=np.array([[0.0,0.0],[el.L,0.0]])\n",
    "    for i,coord in enumerate(xy):\n",
    "        xy[i]=el.R_Out@coord\n",
    "    xy+=el.r1[:2]\n",
    "    return xy\n",
    "\n",
    "def ideal_bend_xy(el):\n",
    "    angles=np.linspace(0.0,el.ang)\n",
    "    xy=np.column_stack((el.ro*np.cos(angles),el.ro*np.sin(angles)))\n",
    "    for i,coord in enumerate(xy):\n",
    "        xy[i]=el.R_Out@coord\n",
    "    xy+=el.r0[:2]\n",
    "    return xy\n",
    "\n",
    "def segmented_halbach_bender(el):\n",
    "    s_vals=np.linspace(1e-6,el.Lo-1e-6)\n",
    "    xy=np.array([convert_center_to_orbit_coords(el,s,0.0,0.0)[:2] for s in s_vals])\n",
    "    for i,coord in enumerate(xy):\n",
    "        xy[i]=el.R_Out@coord\n",
    "    xy+=el.r0[:2]\n",
    "    return xy\n",
    "\n",
    "def make_Particle_Trajectory(el):\n",
    "    if type(el) in (Drift,HalbachLensSim):\n",
    "        xy=straight_xy(el)\n",
    "    elif type(el) is CombinerHalbachLensSim:\n",
    "        xy=combiner_Halbach_xy(el)\n",
    "    elif type(el) is BenderIdeal:\n",
    "        xy=ideal_bend_xy(el)\n",
    "    elif type(el) is HalbachBenderSimSegmented:\n",
    "        xy=segmented_halbach_bender(el)\n",
    "    else:\n",
    "        raise NotImplemented\n",
    "    # xy_plot_format=list(xy.T)\n",
    "    # return xy_plot_format\n",
    "    return xy\n",
    "def make_trajectory_shape(el):\n",
    "    xy=make_Particle_Trajectory(el)\n",
    "    return LineString(xy)\n",
    "\n",
    "\n",
    "# %matplotlib inline\n",
    "# model.lattice_ring.show_lattice(show_immediately=False,plot_outer=True)\n",
    "# for el in model.lattice_ring.el_list:\n",
    "#     plt.plot(*make_Particle_Trajectory(el),c='red',linestyle=':')\n",
    "# plt.show()\n",
    "model.show_floor_plan()\n"
   ],
   "metadata": {
    "collapsed": false,
    "pycharm": {
     "name": "#%%\n"
    }
   }
  },
  {
   "cell_type": "code",
   "execution_count": 135,
   "outputs": [],
   "source": [
    "from shapely.affinity import rotate, translate\n",
    "import copy\n",
    "def injector_shapes_in_ring_frame(model, shapes):\n",
    "    ne_Inj, ne_Ring = model.lattice_injector.combiner.ne, model.lattice_ring.combiner.ne\n",
    "    angle_injector = full_arctan2(ne_Inj[1], ne_Inj[0])\n",
    "    angle_ring = full_arctan2(ne_Ring[1], ne_Ring[0])\n",
    "    rotation_angle = angle_ring - angle_injector\n",
    "    r2_injector = model.lattice_injector.combiner.r2\n",
    "    r2_ring = model.lattice_ring.combiner.r2\n",
    "    shapes_lab_frame=[]\n",
    "    for shape in shapes:\n",
    "        shape=copy.copy(shape)\n",
    "        shape = translate(shape, xoff=-r2_injector[0], yoff=-r2_injector[1])\n",
    "        shape = rotate(shape, rotation_angle, use_radians=True, origin=(0, 0))\n",
    "        shape = translate(shape, xoff=r2_ring[0], yoff=r2_ring[1])\n",
    "        shapes_lab_frame.append(shape)\n",
    "    return shapes_lab_frame"
   ],
   "metadata": {
    "collapsed": false,
    "pycharm": {
     "name": "#%%\n"
    }
   }
  },
  {
   "cell_type": "code",
   "execution_count": 141,
   "outputs": [],
   "source": [
    "def make_shapes(lattice):\n",
    "    shapes_outer=[el.SO_outer for el in lattice]\n",
    "    shapes_inner=[el.SO for el in lattice]\n",
    "    shapes_trajectories=[make_trajectory_shape(el) for el in lattice]\n",
    "    return shapes_inner,shapes_outer,shapes_trajectories\n",
    "def make_injector_shapes_ring_frame(model):\n",
    "    shapes_sequence=list(make_shapes(model.lattice_injector))\n",
    "    for i,shapes in enumerate(shapes_sequence):\n",
    "        shapes_sequence[i]=injector_shapes_in_ring_frame(model,shapes)\n",
    "    return shapes_sequence\n"
   ],
   "metadata": {
    "collapsed": false,
    "pycharm": {
     "name": "#%%\n"
    }
   }
  },
  {
   "cell_type": "code",
   "execution_count": 144,
   "outputs": [],
   "source": [
    "%matplotlib tk\n",
    "\n",
    "\n",
    "shapes_inner,shapes_outer,shapes_trajectories=make_shapes(model.lattice_ring)\n",
    "shapes_system=(make_shapes(model.lattice_ring),make_injector_shapes_ring_frame(model))\n",
    "for [shapes_inner,shapes_outer,shapes_trajectories] in shapes_system:\n",
    "    for shape in shapes_inner:\n",
    "        plt.plot(*shape.exterior.xy,c='black',linestyle=':')\n",
    "    for shape in shapes_outer:\n",
    "        plt.plot(*shape.exterior.xy,c='black')\n",
    "    for shape in shapes_trajectories:\n",
    "        plt.plot(*shape.xy,c='red',linestyle=':')\n",
    "\n",
    "# shapes.extend(model.injector_shapes_in_lab_frame(whichSide))\n",
    "plt.gca().set_aspect('equal')\n",
    "plt.show()"
   ],
   "metadata": {
    "collapsed": false,
    "pycharm": {
     "name": "#%%\n"
    }
   }
  },
  {
   "cell_type": "code",
   "execution_count": null,
   "outputs": [],
   "source": [],
   "metadata": {
    "collapsed": false,
    "pycharm": {
     "name": "#%%\n"
    }
   }
  }
 ],
 "metadata": {
  "kernelspec": {
   "display_name": "Python 3",
   "language": "python",
   "name": "python3"
  },
  "language_info": {
   "codemirror_mode": {
    "name": "ipython",
    "version": 2
   },
   "file_extension": ".py",
   "mimetype": "text/x-python",
   "name": "python",
   "nbconvert_exporter": "python",
   "pygments_lexer": "ipython2",
   "version": "2.7.6"
  }
 },
 "nbformat": 4,
 "nbformat_minor": 0
}