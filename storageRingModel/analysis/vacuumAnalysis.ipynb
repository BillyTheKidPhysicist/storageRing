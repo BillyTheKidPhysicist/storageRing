{
 "cells": [
  {
   "cell_type": "markdown",
   "source": [
    "# model of ring and injector vacuum system\n",
    "Units are cm and liter"
   ],
   "metadata": {
    "collapsed": false,
    "pycharm": {
     "name": "#%% md\n"
    }
   }
  },
  {
   "cell_type": "code",
   "execution_count": 1,
   "outputs": [],
   "source": [
    "from vacuum_modeling.vacuum_analyzer import VacuumSystem,solve_vac_system,show_vac_sys,vacuum_lifetime,Tube\n",
    "from vacuum_modeling.vacuum_constants import big_ion_pump_speed,small_ion_pump_speed,outgassing_rates\n",
    "from constants import gas_masses\n",
    "import matplotlib.pyplot as plt"
   ],
   "metadata": {
    "collapsed": false,
    "pycharm": {
     "name": "#%%\n"
    }
   }
  },
  {
   "cell_type": "markdown",
   "source": [
    "# dump chamber model\n",
    "\n",
    "model of chamber that helium load falls into"
   ],
   "metadata": {
    "collapsed": false,
    "pycharm": {
     "name": "#%% md\n"
    }
   }
  },
  {
   "cell_type": "code",
   "execution_count": 2,
   "outputs": [
    {
     "data": {
      "text/plain": "1.515996958977292e-07"
     },
     "execution_count": 2,
     "metadata": {},
     "output_type": "execute_result"
    }
   ],
   "source": [
    "def helium_dump_back_gas_load():\n",
    "    Q = 4e-5  # assuming 1 cm hole located 2 meter from nozzle,60 sccm, and dump chamber is 3 meter from nozzle\n",
    "    dummy_speed=1e9 #assume that none of the helium that wanders back through the tube returns\n",
    "    vac_sys = VacuumSystem(gas_mass_Daltons=gas_masses['He'])\n",
    "    vac_sys.add_chamber(Q=Q, S=1000)\n",
    "    vac_sys.add_tube(50, 1.8)\n",
    "    vac_sys.add_chamber(S=dummy_speed)\n",
    "    solve_vac_system(vac_sys)\n",
    "    Q_back = vac_sys.components[-1].P * vac_sys.components[-1].S()\n",
    "    return Q_back\n",
    "helium_dump_back_gas_load()"
   ],
   "metadata": {
    "collapsed": false,
    "pycharm": {
     "name": "#%%\n"
    }
   }
  },
  {
   "cell_type": "markdown",
   "source": [
    "# injector model\n",
    "\n",
    "bumping and mode matching lens. three stages of differential pumping to fight the helium"
   ],
   "metadata": {
    "collapsed": false,
    "pycharm": {
     "name": "#%% md\n"
    }
   }
  },
  {
   "cell_type": "code",
   "execution_count": 3,
   "outputs": [
    {
     "name": "stderr",
     "output_type": "stream",
     "text": [
      "/Users/williamdebenham/Desktop/storageRing/storageRing/storageRingModel/vacuumModeling/vacuumanalyzer.py:79: UserWarning: Tube length should be several times longer than diam for more accurate results\n",
      "  warnings.warn('Tube length should be several times longer than diam for more accurate results')\n",
      "/Users/williamdebenham/Desktop/storageRing/storageRing/storageRingModel/vacuumModeling/vacuumanalyzer.py:79: UserWarning: Tube length should be several times longer than diam for more accurate results\n",
      "  warnings.warn('Tube length should be several times longer than diam for more accurate results')\n"
     ]
    },
    {
     "data": {
      "text/plain": "<Figure size 504x504 with 2 Axes>",
      "image/png": "[encoded data removed]"
     },
     "metadata": {
      "needs_background": "light"
     },
     "output_type": "display_data"
    },
    {
     "name": "stdout",
     "output_type": "stream",
     "text": [
      "4.319546452344552e-09 2.159773226172276e-10\n",
      "--Component information-- \n",
      "component type: Chamber\n",
      "name: main chamber\n",
      "P: 2e-06\n",
      "_S: 0.0\n",
      "Q: 0.0\n",
      "input_tube: None\n",
      "\n",
      "--Component information-- \n",
      "component type: Chamber\n",
      "name: diff pump\n",
      "P: 1.960485717219647e-08\n",
      "_S: 940\n",
      "Q: 1.515996958977292e-07\n",
      "input_tube: --Component information-- \n",
      "component type: Tube\n",
      "name: unassigned\n",
      "P_x_vals: [0.16129032 0.32258065 0.48387097 0.64516129 0.80645161 0.96774194\n",
      " 1.12903226 1.29032258 1.4516129  1.61290323 1.77419355 1.93548387\n",
      " 2.09677419 2.25806452 2.41935484 2.58064516 2.74193548 2.90322581\n",
      " 3.06451613 3.22580645 3.38709677 3.5483871  3.70967742 3.87096774\n",
      " 4.03225806 4.19354839 4.35483871 4.51612903 4.67741935 4.83870968]\n",
      "P: [nan nan nan nan nan nan nan nan nan nan nan nan nan nan nan nan nan nan\n",
      " nan nan nan nan nan nan nan nan nan nan nan nan]\n",
      "L: 5.0\n",
      "inside_diam: 10.0\n",
      "Q: 0.0\n",
      "\n",
      "\n",
      "--Component information-- \n",
      "component type: Chamber\n",
      "name: turbo 1\n",
      "P: 2.1072601576821455e-09\n",
      "_S: 200\n",
      "Q: 0.0\n",
      "input_tube: --Component information-- \n",
      "component type: Tube\n",
      "name: unassigned\n",
      "P_x_vals: [0.16129032 0.32258065 0.48387097 0.64516129 0.80645161 0.96774194\n",
      " 1.12903226 1.29032258 1.4516129  1.61290323 1.77419355 1.93548387\n",
      " 2.09677419 2.25806452 2.41935484 2.58064516 2.74193548 2.90322581\n",
      " 3.06451613 3.22580645 3.38709677 3.5483871  3.70967742 3.87096774\n",
      " 4.03225806 4.19354839 4.35483871 4.51612903 4.67741935 4.83870968]\n",
      "P: [nan nan nan nan nan nan nan nan nan nan nan nan nan nan nan nan nan nan\n",
      " nan nan nan nan nan nan nan nan nan nan nan nan]\n",
      "L: 5.0\n",
      "inside_diam: 5.0\n",
      "Q: 0.0\n",
      "\n",
      "\n",
      "--Component information-- \n",
      "component type: Chamber\n",
      "name: turbo 2\n",
      "P: 3.0978536041429717e-10\n",
      "_S: 200\n",
      "Q: 0.0\n",
      "input_tube: --Component information-- \n",
      "component type: Tube\n",
      "name: unassigned\n",
      "P_x_vals: [0.16129032 0.32258065 0.48387097 0.64516129 0.80645161 0.96774194\n",
      " 1.12903226 1.29032258 1.4516129  1.61290323 1.77419355 1.93548387\n",
      " 2.09677419 2.25806452 2.41935484 2.58064516 2.74193548 2.90322581\n",
      " 3.06451613 3.22580645 3.38709677 3.5483871  3.70967742 3.87096774\n",
      " 4.03225806 4.19354839 4.35483871 4.51612903 4.67741935 4.83870968]\n",
      "P: [nan nan nan nan nan nan nan nan nan nan nan nan nan nan nan nan nan nan\n",
      " nan nan nan nan nan nan nan nan nan nan nan nan]\n",
      "L: 5.0\n",
      "inside_diam: 5.0\n",
      "Q: 0.0\n",
      "\n",
      "\n",
      "--Component information-- \n",
      "component type: Chamber\n",
      "name: combiner\n",
      "P: 2.159773226172276e-10\n",
      "_S: 20.0\n",
      "Q: 0.0\n",
      "input_tube: None\n",
      "\n"
     ]
    }
   ],
   "source": [
    "big_chamber_pressure=2e-6 #from helium flow\n",
    "\n",
    "gas='He'\n",
    "\n",
    "vac_sys_inj=VacuumSystem(gas_mass_Daltons=gas_masses[gas])\n",
    "vac_sys_inj.add_chamber(P=big_chamber_pressure,name='main chamber')\n",
    "vac_sys_inj.add_aperture(1.5)\n",
    "vac_sys_inj.add_tube(9.5,1.5)\n",
    "vac_sys_inj.add_tube(25.6,4.6)\n",
    "# vac_sys_inj.add_tube(5.8,3.5)\n",
    "vac_sys_inj.add_tube(4.0,2.4)\n",
    "vac_sys_inj.add_chamber(S=940,input_tube=Tube(5.0,10.0),Q=helium_dump_back_gas_load(), name='diff pump')\n",
    "# vac_sys_inj.add_aperture(2.4)\n",
    "vac_sys_inj.add_tube(20.1,2.4)\n",
    "vac_sys_inj.add_chamber(S=200,input_tube=Tube(5.0,5.0),name='turbo 1')\n",
    "# vac_sys_inj.add_aperture(2.4)\n",
    "vac_sys_inj.add_tube(13,2.4)\n",
    "\n",
    "vac_sys_inj.add_tube(14.0,4.6)\n",
    "vac_sys_inj.add_chamber(S=200,input_tube=Tube(5.0,5.0),name='turbo 2')\n",
    "vac_sys_inj.add_tube(21,4.6)\n",
    "vac_sys_inj.add_tube(13.3,3)\n",
    "\n",
    "\n",
    "\n",
    "vac_sys_inj.add_chamber(S=big_ion_pump_speed[gas],name='combiner')\n",
    "# vac_sys_inj.add_chamber(S=0)\n",
    "%matplotlib inline\n",
    "solve_vac_system(vac_sys_inj)\n",
    "show_vac_sys(vac_sys_inj,save_fig='inj_vac',dpi=300,fig_size=(7,7))\n",
    "Q_injector=vac_sys_inj.components[-1].P*vac_sys_inj.components[-1].S()\n",
    "print(Q_injector,vac_sys_inj.components[-1].P)\n",
    "vacuum_lifetime(vac_sys_inj.components[-1].P,gas)\n",
    "for chamber in vac_sys_inj.chambers():\n",
    "    print(chamber)"
   ],
   "metadata": {
    "collapsed": false,
    "pycharm": {
     "name": "#%%\n"
    }
   }
  },
  {
   "cell_type": "markdown",
   "source": [
    "# ring model"
   ],
   "metadata": {
    "collapsed": false,
    "pycharm": {
     "name": "#%% md\n"
    }
   }
  },
  {
   "cell_type": "code",
   "execution_count": 4,
   "outputs": [],
   "source": [
    "def add_split_bend_vacuum(vac_sys, rp_ID, L_split_bend, S_small_pumps, q):\n",
    "    vac_sys.add_tube(L_split_bend, rp_ID, q=q)\n",
    "    vac_sys.add_chamber(S=S_small_pumps, name='bend',input_tube=Tube(2.6,1.2))\n",
    "    vac_sys.add_tube(L_split_bend, rp_ID, q=q)"
   ],
   "metadata": {
    "collapsed": false,
    "pycharm": {
     "name": "#%%\n"
    }
   }
  },
  {
   "cell_type": "code",
   "execution_count": 6,
   "outputs": [
    {
     "name": "stderr",
     "output_type": "stream",
     "text": [
      "/Users/williamdebenham/Desktop/storageRing/storageRing/storageRingModel/vacuumModeling/vacuumanalyzer.py:79: UserWarning: Tube length should be several times longer than diam for more accurate results\n",
      "  warnings.warn('Tube length should be several times longer than diam for more accurate results')\n"
     ]
    },
    {
     "data": {
      "text/plain": "<Figure size 360x360 with 2 Axes>",
      "image/png": "[encoded data removed]"
     },
     "metadata": {
      "needs_background": "light"
     },
     "output_type": "display_data"
    },
    {
     "name": "stdout",
     "output_type": "stream",
     "text": [
      "tau: 11.676988124226172\n",
      "Pressure: 4.3434947442388017e-10\n"
     ]
    }
   ],
   "source": [
    "%matplotlib tk\n",
    "L_split_bend=157\n",
    "bend_ID=1.7\n",
    "\n",
    "L_long_connecting_tube=71.7\n",
    "long_tube_ID=3.6\n",
    "\n",
    "\n",
    "\n",
    "gas='H2'\n",
    "q=10*outgassing_rates[gas]\n",
    "Q_combiner=Q_injector if gas =='He' else 0.0\n",
    "\n",
    "vac_sys = VacuumSystem(is_circular=True, gas_mass_Daltons=gas_masses[gas])\n",
    "vac_sys.add_tube(26.6,1.8,q=q)\n",
    "vac_sys.add_chamber(S=big_ion_pump_speed[gas], name='combiner',input_tube=Tube(6.2,5.2),Q=Q_combiner)\n",
    "vac_sys.add_tube(23,7,q=q)\n",
    "vac_sys.add_tube(6.5,3.5,q=q)\n",
    "vac_sys.add_tube(46,7.5,q=q)\n",
    "vac_sys.add_chamber(S=small_ion_pump_speed[gas],input_tube=Tube(3.5,4.5),name='bend')\n",
    "\n",
    "add_split_bend_vacuum(vac_sys, bend_ID, L_split_bend, small_ion_pump_speed[gas], q)\n",
    "\n",
    "vac_sys.add_chamber(S=small_ion_pump_speed[gas],input_tube=Tube(2.3,3.0),name='bend')\n",
    "vac_sys.add_tube(L_long_connecting_tube, long_tube_ID,q=q)\n",
    "vac_sys.add_chamber(S=small_ion_pump_speed[gas],input_tube=Tube(2.3,3.0),name='bend')\n",
    "add_split_bend_vacuum(vac_sys, bend_ID, L_split_bend, small_ion_pump_speed[gas], q)\n",
    "solve_vac_system(vac_sys)\n",
    "%matplotlib inline\n",
    "show_vac_sys(vac_sys,save_fig='ring_vac',dpi=300,fig_size=(5,5))\n",
    "\n",
    "print('tau:',vacuum_lifetime(vac_sys.P_mean,gas))\n",
    "print('Pressure:',vac_sys.P_mean)\n",
    "# for chamber in vac_sys.chambers():\n",
    "#     print(chamber)"
   ],
   "metadata": {
    "collapsed": false,
    "pycharm": {
     "name": "#%%\n"
    }
   }
  },
  {
   "cell_type": "code",
   "execution_count": 10,
   "outputs": [
    {
     "data": {
      "text/plain": "30.656693879733545"
     },
     "execution_count": 10,
     "metadata": {},
     "output_type": "execute_result"
    }
   ],
   "source": [
    "Tube(2.6,1.2).C(2.0)"
   ],
   "metadata": {
    "collapsed": false,
    "pycharm": {
     "name": "#%%\n"
    }
   }
  }
 ],
 "metadata": {
  "kernelspec": {
   "display_name": "Python 3",
   "language": "python",
   "name": "python3"
  },
  "language_info": {
   "codemirror_mode": {
    "name": "ipython",
    "version": 2
   },
   "file_extension": ".py",
   "mimetype": "text/x-python",
   "name": "python",
   "nbconvert_exporter": "python",
   "pygments_lexer": "ipython2",
   "version": "2.7.6"
  }
 },
 "nbformat": 4,
 "nbformat_minor": 0
}