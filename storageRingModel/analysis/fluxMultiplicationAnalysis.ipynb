{
 "cells": [
  {
   "cell_type": "code",
   "execution_count": 1,
   "metadata": {
    "collapsed": true
   },
   "outputs": [
    {
     "name": "stdout",
     "output_type": "stream",
     "text": [
      "1753.6051421165466\n"
     ]
    },
    {
     "data": {
      "text/plain": "(0.48078123079872265, 13.220848496723276)"
     },
     "execution_count": 1,
     "metadata": {},
     "output_type": "execute_result"
    }
   ],
   "source": [
    "import matplotlib.pyplot as plt\n",
    "import numpy as np\n",
    "\n",
    "from helper_tools import *\n",
    "from storage_ring_modeler import StorageRingModel,make_optimal_solution_model\n",
    "from phaseSpaceAnalyzer import SwarmSnapShot\n",
    "from phaseSpaceAnalysis_Functions import make_phase_space_info,plot_ring_lattice_with_stops,emittance_from_particles,get_emittances\n",
    "import time\n",
    "from particle import Swarm\n",
    "np.random.seed(42)\n",
    "%matplotlib inline\n",
    "t=time.time()\n",
    "model=make_optimal_solution_model('2',sim_time_max=1,use_mag_errors=True)\n",
    "print(time.time()-t)\n",
    "model.mode_match(parallel=True) #706"
   ]
  },
  {
   "cell_type": "code",
   "execution_count": null,
   "outputs": [],
   "source": [
    "#no approx, only lens\n",
    "#490.1904571056366\n",
    "# (0.44332635334804815, 14.174560668955525)\n",
    "\n",
    "#approx, only lens\n",
    "# 233\n",
    "# same within < 1%"
   ],
   "metadata": {
    "collapsed": false,
    "pycharm": {
     "name": "#%%\n"
    }
   }
  },
  {
   "cell_type": "code",
   "execution_count": null,
   "outputs": [],
   "source": [
    "swarm_traced.num_revs()/1024"
   ],
   "metadata": {
    "collapsed": false,
    "pycharm": {
     "name": "#%%\n"
    }
   }
  },
  {
   "cell_type": "code",
   "execution_count": null,
   "outputs": [],
   "source": [
    "T_min=np.inf\n",
    "swarm_valid=Swarm()\n",
    "for particle in swarm_traced:\n",
    "    if particle.T<T_min:\n",
    "        swarm_valid.add(particle)\n",
    "times=np.array([particle.T for particle in swarm_valid])\n",
    "nums_revs=np.array([particle.revolutions for particle in swarm_valid])"
   ],
   "metadata": {
    "collapsed": false,
    "pycharm": {
     "name": "#%%\n"
    }
   }
  },
  {
   "cell_type": "code",
   "execution_count": null,
   "outputs": [],
   "source": [
    "#survival versus time\n",
    "times_unique=np.unique(times)\n",
    "nums_surviving_ring=np.array([np.sum(times>time) for time in times_unique])\n",
    "frac_surviving_ring=nums_surviving_ring/np.max(nums_surviving_ring)\n",
    "plt.title(\"swarm survival versus time\")\n",
    "plt.plot(times_unique[:-1],frac_surviving_ring[:-1])\n",
    "plt.xlabel(\"time, seconds\")\n",
    "plt.ylabel(\"relative survival\")\n",
    "# plt.savefig(\"survival_raw\",dpi=200)\n",
    "plt.show()\n",
    "sum([part.revolutions for part in swarm_valid])/len(swarm_valid)"
   ],
   "metadata": {
    "collapsed": false,
    "pycharm": {
     "name": "#%%\n"
    }
   }
  },
  {
   "cell_type": "code",
   "execution_count": null,
   "outputs": [],
   "source": [
    "from math import exp,log\n",
    "\n",
    "def frac_OP(eps,revs):\n",
    "    assert eps>0\n",
    "    return eps**revs\n",
    "def frac_vac(tau,time):\n",
    "    assert tau>0\n",
    "    return exp(-time/tau)\n",
    "def OP_integral(eps,revs):\n",
    "    return eps**(revs+1)/(revs+1)\n",
    "def vac_flux_integral(tau,survival_time,revs):\n",
    "    R=tau*revs/survival_time\n",
    "    return R*(1-exp(-revs/R))\n",
    "def revs_limited(tau,eps,num_revs,survival_time):\n",
    "    R=tau*num_revs/survival_time\n",
    "    val_b= R*eps**num_revs / (math.e**(num_revs/R) * (R*log(eps) -1))\n",
    "    val_a= R / ( R*log(eps) -1)\n",
    "    return val_b-val_a\n",
    "def flux_mult(tau,eps):\n",
    "    if tau<1e-3 or eps<1e-3:\n",
    "        return 0.0\n",
    "    flux=[]\n",
    "    for time,revs in zip(times,nums_revs):\n",
    "        if time!=0.0:\n",
    "            flux.append(revs_limited(tau,eps,revs,time))\n",
    "    return sum(flux)/swarm_valid.num_particles()\n",
    "flux_mult(1e9,1.0)"
   ],
   "metadata": {
    "collapsed": false,
    "pycharm": {
     "name": "#%%\n"
    }
   }
  },
  {
   "cell_type": "markdown",
   "source": [
    "### full analysis"
   ],
   "metadata": {
    "collapsed": false,
    "pycharm": {
     "name": "#%% md\n"
    }
   }
  },
  {
   "cell_type": "code",
   "execution_count": null,
   "outputs": [],
   "source": [
    "#tau analysis\n",
    "epsilon=1\n",
    "tau_values=np.linspace(0,300,1000)\n",
    "fluxes=[]\n",
    "for tau_vacuum in tau_values:\n",
    "    fluxes.append(flux_mult(tau_vacuum,epsilon))\n",
    "plt.title(\"vacuum limited performance\")\n",
    "plt.plot(tau_values,fluxes)\n",
    "plt.xlabel(\"vacuum lifetime, seconds\")\n",
    "plt.ylabel(\"flux multiplication\")\n",
    "plt.savefig(\"vacuum_perf\",dpi=200)\n",
    "plt.show()"
   ],
   "metadata": {
    "collapsed": false,
    "pycharm": {
     "name": "#%%\n"
    }
   }
  },
  {
   "cell_type": "code",
   "execution_count": null,
   "outputs": [],
   "source": [
    "#epsilon analysis\n",
    "tau_vacuum=1e9\n",
    "epsilon_values=np.linspace(.95,1,100)\n",
    "fluxes=[]\n",
    "for epsilon in epsilon_values:\n",
    "    fluxes.append(flux_mult(tau_vacuum,epsilon))\n",
    "plt.title(\"optical pumping limited performance\")\n",
    "plt.semilogy(epsilon_values,fluxes)\n",
    "plt.xlabel(\"optical pumping efficiency\")\n",
    "plt.ylabel(\"flux multiplication\")\n",
    "plt.savefig(\"opt_perf\",dpi=200)\n",
    "plt.show()\n",
    "max(fluxes)"
   ],
   "metadata": {
    "collapsed": false,
    "pycharm": {
     "name": "#%%\n"
    }
   }
  },
  {
   "cell_type": "code",
   "execution_count": null,
   "outputs": [],
   "source": [
    "#survival versus time\n",
    "times_unique=np.unique(times)\n",
    "nums_surviving_ring=np.array([np.sum(times>time) for time in times_unique])\n",
    "frac_surviving_ring=nums_surviving_ring/np.max(nums_surviving_ring)\n",
    "plt.title(\"swarm survival versus time\")\n",
    "plt.semilogy(times_unique[:-1],frac_surviving_ring[:-1])\n",
    "plt.xlabel(\"time, seconds\")\n",
    "plt.ylabel(\"relative survival\")\n",
    "plt.savefig(\"survival_raw\",dpi=200)\n",
    "plt.show()"
   ],
   "metadata": {
    "collapsed": false,
    "pycharm": {
     "name": "#%%\n"
    }
   }
  },
  {
   "cell_type": "code",
   "execution_count": null,
   "outputs": [],
   "source": [
    "flux_mult(73,.9998)"
   ],
   "metadata": {
    "collapsed": false,
    "pycharm": {
     "name": "#%%\n"
    }
   }
  },
  {
   "cell_type": "markdown",
   "source": [
    "### ideal vacuum and ring, imperfect optical pumping"
   ],
   "metadata": {
    "collapsed": false,
    "pycharm": {
     "name": "#%% md\n"
    }
   }
  },
  {
   "cell_type": "code",
   "execution_count": null,
   "outputs": [],
   "source": [
    "raise NotImplemented #i think I broke all this\n",
    "tau_vacuum=np.inf\n",
    "eps_OP=1.0\n",
    "t_maxes=np.logspace(np.log10(1.0),np.log10(300),100)\n",
    "epsilons_OP=[.98,.99,.999,1.0]\n",
    "\n",
    "flux_ideal=[]\n",
    "flux_epsilons=[[] for _ in epsilons_OP]\n",
    "for t_max in t_maxes:\n",
    "    times=np.linspace(0.0,t_max,10_000)\n",
    "    frac_surviving_ring=np.ones(len(times))\n",
    "    flux_ideal.append(flux_mult(time_one_rev,np.inf,1.0,frac_surviving_ring,times))\n",
    "    for fluxes,eps in zip(flux_epsilons,epsilons_OP):\n",
    "        flux=flux_mult(time_one_rev,np.inf,eps,frac_surviving_ring,times)\n",
    "        fluxes.append(flux)\n"
   ],
   "metadata": {
    "collapsed": false,
    "pycharm": {
     "name": "#%%\n"
    }
   }
  },
  {
   "cell_type": "code",
   "execution_count": null,
   "outputs": [],
   "source": [
    "fig = plt.figure()\n",
    "ax1 = fig.add_subplot(111)\n",
    "ax2 = ax1.twiny()\n",
    "for fluxes,eps in zip(flux_epsilons,epsilons_OP):\n",
    "    ax1.semilogy(t_maxes,fluxes,label='eps: '+str(eps))\n",
    "\n",
    "ax2.plot(nums_revs,100*np.ones(len(nums_revs)),alpha=0.0)\n",
    "ax1.set_xlabel(\"ring survival time, seconds\")\n",
    "ax1.set_ylabel(\"flux multiplication\")\n",
    "ax2.set_xlabel('revolutions')\n",
    "ax1.legend()\n",
    "plt.title(\"optical pumping limited flux multiplication\")\n",
    "plt.show()\n",
    "flux_epsilons[-1][-1]"
   ],
   "metadata": {
    "collapsed": false,
    "pycharm": {
     "name": "#%%\n"
    }
   }
  },
  {
   "cell_type": "markdown",
   "source": [
    "### ideal optical pumping and ring, imperfect vacuum"
   ],
   "metadata": {
    "collapsed": false,
    "pycharm": {
     "name": "#%% md\n"
    }
   },
   "execution_count": 3
  },
  {
   "cell_type": "code",
   "execution_count": null,
   "outputs": [],
   "source": [
    "\n",
    "\n",
    "eps_OP=1.0\n",
    "t_maxes=np.logspace(np.log10(1.0),np.log10(300),100)\n",
    "taus_vacuum=[10,50,100,np.inf]\n",
    "flux_ideal=[]\n",
    "fluxes_vac=[[] for _ in epsilons_OP]\n",
    "for t_max in t_maxes:\n",
    "    times=np.linspace(0.0,t_max,10_000)\n",
    "    frac_surviving_ring=np.ones(len(times))\n",
    "    flux_ideal.append(flux_mult(time_one_rev,np.inf,1.0,frac_surviving_ring,times))\n",
    "    for fluxes,tau in zip(fluxes_vac,taus_vacuum):\n",
    "        flux=flux_mult(time_one_rev,tau,1.0,frac_surviving_ring,times)\n",
    "        fluxes.append(flux)"
   ],
   "metadata": {
    "collapsed": false,
    "pycharm": {
     "name": "#%%\n"
    }
   }
  },
  {
   "cell_type": "code",
   "execution_count": null,
   "outputs": [],
   "source": [
    "fig = plt.figure()\n",
    "\n",
    "ax1 = fig.add_subplot(111)\n",
    "ax2 = ax1.twiny()\n",
    "for fluxes,tau in zip(fluxes_vac,taus_vacuum):\n",
    "    ax1.semilogy(t_maxes,fluxes,label='tau (s): '+str(tau))\n",
    "\n",
    "ax2.plot(nums_revs,100*np.ones(len(nums_revs)),alpha=0.0)\n",
    "ax1.set_xlabel(\"ring survival time, seconds\")\n",
    "ax1.set_ylabel(\"flux multiplication\")\n",
    "ax2.set_xlabel('revolutions')\n",
    "ax1.legend()\n",
    "plt.title(\"vacuum limited flux multiplication\")\n",
    "plt.show()\n",
    "fluxes_vac[-1][-1]"
   ],
   "metadata": {
    "collapsed": false,
    "pycharm": {
     "name": "#%%\n"
    }
   }
  },
  {
   "cell_type": "code",
   "execution_count": null,
   "outputs": [],
   "source": [
    "\n",
    "np.random.randint(10000)"
   ],
   "metadata": {
    "collapsed": false,
    "pycharm": {
     "name": "#%%\n"
    }
   }
  }
 ],
 "metadata": {
  "kernelspec": {
   "display_name": "Python 3",
   "language": "python",
   "name": "python3"
  },
  "language_info": {
   "codemirror_mode": {
    "name": "ipython",
    "version": 2
   },
   "file_extension": ".py",
   "mimetype": "text/x-python",
   "name": "python",
   "nbconvert_exporter": "python",
   "pygments_lexer": "ipython2",
   "version": "2.7.6"
  }
 },
 "nbformat": 4,
 "nbformat_minor": 0
}