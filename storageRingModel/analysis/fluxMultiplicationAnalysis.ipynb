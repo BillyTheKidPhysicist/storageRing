{
 "cells": [
  {
   "cell_type": "code",
   "execution_count": 1,
   "metadata": {
    "collapsed": true
   },
   "outputs": [],
   "source": [
    "import matplotlib.pyplot as plt\n",
    "import numpy as np\n",
    "\n",
    "from helperTools import *\n",
    "from KevinBumperClass import swarmShift_x\n",
    "from storageRingModeler import StorageRingModel,make_optimal_solution_model\n",
    "from phaseSpaceAnalyzer import SwarmSnapShot\n",
    "from phaseSpaceAnalysis_Functions import make_phase_space_info,plot_ring_lattice_with_stops,emittance_from_particles,get_emittances\n",
    "import time\n",
    "from ParticleClass import Swarm\n",
    "%matplotlib inline\n",
    "# t=time.time()\n",
    "# model=make_optimal_solution_model('2',use_bumper=False,use_energy_correction=False,include_mag_cross_talk=True,include_misalignments=True)\n",
    "# print(time.time()-t)"
   ]
  },
  {
   "cell_type": "code",
   "execution_count": 55,
   "outputs": [],
   "source": [
    "model.use_energy_correction=False\n",
    "# model.mode_match(parallel=True)"
   ],
   "metadata": {
    "collapsed": false,
    "pycharm": {
     "name": "#%%\n"
    }
   }
  },
  {
   "cell_type": "code",
   "execution_count": 56,
   "outputs": [],
   "source": [
    "from ParticleClass import Particle\n",
    "from ParticleTracerClass import ParticleTracer\n",
    "particle=Particle()\n",
    "pt=ParticleTracer(model.lattice_ring)\n",
    "particle=pt.trace(particle,1e-6,10.0,fast_mode=False)"
   ],
   "metadata": {
    "collapsed": false,
    "pycharm": {
     "name": "#%%\n"
    }
   }
  },
  {
   "cell_type": "code",
   "execution_count": 57,
   "outputs": [],
   "source": [
    "%matplotlib tk\n",
    "particle.plot_energies(show_only_total_energy=True)\n",
    "# model.lattice_ring.show_lattice(particle=particle)"
   ],
   "metadata": {
    "collapsed": false,
    "pycharm": {
     "name": "#%%\n"
    }
   }
  },
  {
   "cell_type": "code",
   "execution_count": 2,
   "outputs": [
    {
     "data": {
      "text/plain": "(0.8853529569283856, 291.92284414831965)"
     },
     "execution_count": 2,
     "metadata": {},
     "output_type": "execute_result"
    }
   ],
   "source": [
    "model.mode_match(parallel=True)"
   ],
   "metadata": {
    "collapsed": false,
    "pycharm": {
     "name": "#%%\n"
    }
   }
  },
  {
   "cell_type": "code",
   "execution_count": 2,
   "outputs": [
    {
     "data": {
      "text/plain": "(0.735527835373565, 673.4187330726453)"
     },
     "execution_count": 2,
     "metadata": {},
     "output_type": "execute_result"
    }
   ],
   "source": [
    "model.mode_match()"
   ],
   "metadata": {
    "collapsed": false,
    "pycharm": {
     "name": "#%%\n"
    }
   }
  },
  {
   "cell_type": "code",
   "execution_count": 2,
   "outputs": [],
   "source": [
    "def analyze():\n",
    "    model=make_optimal_solution_model('2',use_bumper=False,use_energy_correction=False,include_mag_cross_talk=True,include_misalignments=True)\n",
    "    return model.mode_match(parallel=False)[1]\n",
    "fluxes=parallel_evaluate(analyze,None,reapply_args=10)"
   ],
   "metadata": {
    "collapsed": false,
    "pycharm": {
     "name": "#%%\n"
    }
   }
  },
  {
   "cell_type": "code",
   "execution_count": 3,
   "outputs": [
    {
     "data": {
      "text/plain": "<Figure size 432x288 with 1 Axes>",
      "image/png": "[encoded data removed]"
     },
     "metadata": {
      "needs_background": "light"
     },
     "output_type": "display_data"
    }
   ],
   "source": [
    "plt.hist(fluxes)\n",
    "plt.show()"
   ],
   "metadata": {
    "collapsed": false,
    "pycharm": {
     "name": "#%%\n"
    }
   }
  },
  {
   "cell_type": "code",
   "execution_count": 6,
   "outputs": [
    {
     "data": {
      "text/plain": "<Figure size 432x288 with 1 Axes>",
      "image/png": "[encoded data removed]"
     },
     "metadata": {
      "needs_background": "light"
     },
     "output_type": "display_data"
    }
   ],
   "source": [
    "plt.hist(fluxes)\n",
    "plt.show()"
   ],
   "metadata": {
    "collapsed": false,
    "pycharm": {
     "name": "#%%\n"
    }
   }
  },
  {
   "cell_type": "code",
   "execution_count": 34,
   "outputs": [],
   "source": [
    "# energy correction = False, cross_talk= True: 727\n",
    "# energy correction = True, cross_talk= True: 456\n",
    "# energy correction = False, cross_talk= False: 375\n",
    "# energy correction = True, cross_talk= False:940"
   ],
   "metadata": {
    "collapsed": false,
    "pycharm": {
     "name": "#%%\n"
    }
   }
  },
  {
   "cell_type": "code",
   "execution_count": 24,
   "outputs": [],
   "source": [
    "# %matplotlib tk\n",
    "# from ParticleTracerClass import ParticleTracer\n",
    "# from ParticleClass import Particle\n",
    "# pt=ParticleTracer(model.lattice_ring)\n",
    "# particle=Particle(qi=np.array([-1e-10,3e-3,0.0]))\n",
    "# particle=pt.trace(particle,5e-6,4.5e-3)\n",
    "# # particle.plot_energies()\n",
    "# model.lattice_ring.show_lattice(particle=particle)\n",
    "# plt.semilogy(particle.qo_vals[:,0],particle.V_vals+1e-6)\n",
    "# plt.show()"
   ],
   "metadata": {
    "collapsed": false,
    "pycharm": {
     "name": "#%%\n"
    }
   }
  },
  {
   "cell_type": "code",
   "execution_count": 13,
   "outputs": [
    {
     "name": "stderr",
     "output_type": "stream",
     "text": [
      "Fatal Python error: PyEval_RestoreThread: the function must be called with the GIL held, but the GIL is released (the current Python thread state is NULL)\n",
      "Python runtime state: initialized\n",
      "\n",
      "Current thread 0x0000000104d04580 (most recent call first):\n",
      "  File \"/opt/homebrew/Caskroom/miniforge/base/lib/python3.9/site-packages/multiprocess/util.py\", line 434 in _flush_std_streams\n",
      "  File \"/opt/homebrew/Caskroom/miniforge/base/lib/python3.9/site-packages/multiprocess/process.py\", line 335 in _bootstrap\n",
      "  File \"/opt/homebrew/Caskroom/miniforge/base/lib/python3.9/site-packages/multiprocess/popen_fork.py\", line 71 in _launch\n",
      "  File \"/opt/homebrew/Caskroom/miniforge/base/lib/python3.9/site-packages/multiprocess/popen_fork.py\", line 19 in __init__\n",
      "  File \"/opt/homebrew/Caskroom/miniforge/base/lib/python3.9/site-packages/multiprocess/context.py\", line 277 in _Popen\n",
      "  File \"/opt/homebrew/Caskroom/miniforge/base/lib/python3.9/site-packages/multiprocess/process.py\", line 121 in start\n",
      "  File \"/opt/homebrew/Caskroom/miniforge/base/lib/python3.9/site-packages/multiprocess/pool.py\", line 326 in _repopulate_pool_static\n",
      "  File \"/opt/homebrew/Caskroom/miniforge/base/lib/python3.9/site-packages/multiprocess/pool.py\", line 303 in _repopulate_pool\n",
      "  File \"/opt/homebrew/Caskroom/miniforge/base/lib/python3.9/site-packages/multiprocess/pool.py\", line 212 in __init__\n",
      "  File \"/opt/homebrew/Caskroom/miniforge/base/lib/python3.9/site-packages/multiprocess/context.py\", line 119 in Pool\n",
      "  File \"/Users/williamdebenham/Desktop/storageRing/storageRing/storageRingModel/helperTools.py\", line 42 in parallel_evaluate\n",
      "  File \"/Users/williamdebenham/Desktop/storageRing/storageRing/storageRingModel/SwarmTracerClass.py\", line 313 in trace_swarm_through_lattice\n",
      "  File \"/Users/williamdebenham/Desktop/storageRing/storageRing/storageRingModel/storageRingModeler.py\", line 223 in show_floor_plan_with_trajectories\n",
      "  File \"/var/folders/c3/_byqmhpx62b_f0jnb2ht27y40000gn/T/ipykernel_58796/2233219575.py\", line 2 in <cell line: 2>\n",
      "  File \"/opt/homebrew/Caskroom/miniforge/base/lib/python3.9/site-packages/IPython/core/interactiveshell.py\", line 3397 in run_code\n",
      "  File \"/opt/homebrew/Caskroom/miniforge/base/lib/python3.9/site-packages/IPython/core/interactiveshell.py\", line 3337 in run_ast_nodes\n",
      "  File \"/opt/homebrew/Caskroom/miniforge/base/lib/python3.9/site-packages/IPython/core/interactiveshell.py\", line 3134 in run_cell_async\n",
      "  File \"/opt/homebrew/Caskroom/miniforge/base/lib/python3.9/site-packages/IPython/core/async_helpers.py\", line 129 in _pseudo_sync_runner\n",
      "  File \"/opt/homebrew/Caskroom/miniforge/base/lib/python3.9/site-packages/IPython/core/interactiveshell.py\", line 2935 in _run_cell\n",
      "  File \"/opt/homebrew/Caskroom/miniforge/base/lib/python3.9/site-packages/IPython/core/interactiveshell.py\", line 2880 in run_cell\n",
      "  File \"/opt/homebrew/Caskroom/miniforge/base/lib/python3.9/site-packages/ipykernel/zmqshell.py\", line 528 in run_cell\n",
      "  File \"/opt/homebrew/Caskroom/miniforge/base/lib/python3.9/site-packages/ipykernel/ipkernel.py\", line 383 in do_execute\n",
      "  File \"/opt/homebrew/Caskroom/miniforge/base/lib/python3.9/site-packages/ipykernel/kernelbase.py\", line 724 in execute_request\n",
      "  File \"/opt/homebrew/Caskroom/miniforge/base/lib/python3.9/site-packages/ipykernel/kernelbase.py\", line 400 in dispatch_shell\n",
      "  File \"/opt/homebrew/Caskroom/miniforge/base/lib/python3.9/site-packages/ipykernel/kernelbase.py\", line 493 in process_one\n",
      "  File \"/opt/homebrew/Caskroom/miniforge/base/lib/python3.9/site-packages/ipykernel/kernelbase.py\", line 504 in dispatch_queue\n",
      "  File \"/opt/homebrew/Caskroom/miniforge/base/lib/python3.9/asyncio/events.py\", line 80 in _run\n",
      "  File \"/opt/homebrew/Caskroom/miniforge/base/lib/python3.9/asyncio/base_events.py\", line 1905 in _run_once\n",
      "  File \"/opt/homebrew/Caskroom/miniforge/base/lib/python3.9/asyncio/base_events.py\", line 601 in run_forever\n",
      "  File \"/opt/homebrew/Caskroom/miniforge/base/lib/python3.9/site-packages/tornado/platform/asyncio.py\", line 199 in start\n",
      "  File \"/opt/homebrew/Caskroom/miniforge/base/lib/python3.9/site-packages/ipykernel/kernelapp.py\", line 712 in start\n",
      "  File \"/opt/homebrew/Caskroom/miniforge/base/lib/python3.9/site-packages/traitlets/config/application.py\", line 846 in launch_instance\n",
      "  File \"/opt/homebrew/Caskroom/miniforge/base/lib/python3.9/site-packages/ipykernel_launcher.py\", line 17 in <module>\n",
      "  File \"/opt/homebrew/Caskroom/miniforge/base/lib/python3.9/runpy.py\", line 87 in _run_code\n",
      "  File \"/opt/homebrew/Caskroom/miniforge/base/lib/python3.9/runpy.py\", line 197 in _run_module_as_main\n"
     ]
    }
   ],
   "source": [
    "%matplotlib tk\n",
    "model.show_floor_plan_with_trajectories(T_max=.5,show_trace_lines=False)"
   ],
   "metadata": {
    "collapsed": false,
    "pycharm": {
     "name": "#%%\n"
    }
   }
  },
  {
   "cell_type": "code",
   "execution_count": 9,
   "outputs": [],
   "source": [
    "t=time.time()\n",
    "model.T=10.0\n",
    "model.use_energy_correction=True\n",
    "model.swarm_injector_initial=model.generate_swarm(3000)\n",
    "swarm_traced=model.inject_swarm(parallel=True)"
   ],
   "metadata": {
    "collapsed": false,
    "pycharm": {
     "name": "#%%\n"
    }
   }
  },
  {
   "cell_type": "code",
   "execution_count": 11,
   "outputs": [],
   "source": [
    "T_min=np.inf\n",
    "swarm_valid=Swarm()\n",
    "for particle in swarm_traced:\n",
    "    if particle.T<T_min:\n",
    "        swarm_valid.add(particle)\n",
    "times=np.array([particle.T for particle in swarm_valid])\n",
    "nums_revs=np.array([particle.revolutions for particle in swarm_valid])"
   ],
   "metadata": {
    "collapsed": false,
    "pycharm": {
     "name": "#%%\n"
    }
   }
  },
  {
   "cell_type": "code",
   "execution_count": 12,
   "outputs": [
    {
     "data": {
      "text/plain": "<Figure size 432x288 with 1 Axes>",
      "image/png": "[encoded data removed]"
     },
     "metadata": {
      "needs_background": "light"
     },
     "output_type": "display_data"
    },
    {
     "data": {
      "text/plain": "3862.0190035488245"
     },
     "execution_count": 12,
     "metadata": {},
     "output_type": "execute_result"
    }
   ],
   "source": [
    "#survival versus time\n",
    "times_unique=np.unique(times)\n",
    "nums_surviving_ring=np.array([np.sum(times>time) for time in times_unique])\n",
    "frac_surviving_ring=nums_surviving_ring/np.max(nums_surviving_ring)\n",
    "plt.title(\"swarm survival versus time\")\n",
    "plt.plot(times_unique[:-1],frac_surviving_ring[:-1])\n",
    "plt.xlabel(\"time, seconds\")\n",
    "plt.ylabel(\"relative survival\")\n",
    "# plt.savefig(\"survival_raw\",dpi=200)\n",
    "plt.show()\n",
    "sum([part.revolutions for part in swarm_valid])/len(swarm_valid)"
   ],
   "metadata": {
    "collapsed": false,
    "pycharm": {
     "name": "#%%\n"
    }
   }
  },
  {
   "cell_type": "code",
   "execution_count": 70,
   "outputs": [],
   "source": [
    "from math import exp,log\n",
    "\n",
    "def frac_OP(eps,revs):\n",
    "    return eps**revs\n",
    "def frac_vac(tau,time):\n",
    "    return exp(-time/tau)\n",
    "def OP_integral(eps,revs):\n",
    "    return eps**(revs+1)/(revs+1)\n",
    "# def vac_integral(tau,time):\n",
    "#     return -tau*exp(-time/tau)+1\n",
    "def vac_flux_integral(tau,survival_time,revs):\n",
    "    R=tau*revs/survival_time\n",
    "    return R*(1-exp(-revs/R))\n",
    "def revs_limited(tau,eps,num_revs,survival_time):\n",
    "    R=tau*num_revs/survival_time\n",
    "    val_b= R*eps**num_revs / (math.e**(num_revs/R) * (R*log(eps) -1))\n",
    "    val_a= R / ( R*log(eps) -1)\n",
    "    return val_b-val_a\n",
    "def flux_mult(tau,eps):\n",
    "    if tau<1e-3 or eps<1e-3:\n",
    "        return 0.0\n",
    "    flux=[]\n",
    "    for time,revs in zip(times,nums_revs):\n",
    "        if time!=0.0:\n",
    "            flux.append(revs_limited(tau,eps,revs,time))\n",
    "    return sum(flux)/swarm_valid.num_particles()"
   ],
   "metadata": {
    "collapsed": false,
    "pycharm": {
     "name": "#%%\n"
    }
   }
  },
  {
   "cell_type": "markdown",
   "source": [
    "### full analysis"
   ],
   "metadata": {
    "collapsed": false,
    "pycharm": {
     "name": "#%% md\n"
    }
   }
  },
  {
   "cell_type": "code",
   "execution_count": 81,
   "outputs": [
    {
     "name": "stderr",
     "output_type": "stream",
     "text": [
      "/var/folders/c3/_byqmhpx62b_f0jnb2ht27y40000gn/T/ipykernel_53715/2031168991.py:16: RuntimeWarning: overflow encountered in double_scalars\n",
      "  val_b= R*eps**num_revs / (math.e**(num_revs/R) * (R*log(eps) -1))\n"
     ]
    },
    {
     "data": {
      "text/plain": "<Figure size 432x288 with 1 Axes>",
      "image/png": "[encoded data removed]"
     },
     "metadata": {
      "needs_background": "light"
     },
     "output_type": "display_data"
    }
   ],
   "source": [
    "#tau analysis\n",
    "epsilon=1\n",
    "tau_values=np.linspace(0,300,1000)\n",
    "fluxes=[]\n",
    "for tau_vacuum in tau_values:\n",
    "    fluxes.append(flux_mult(tau_vacuum,epsilon))\n",
    "plt.title(\"vacuum limited performance\")\n",
    "plt.plot(tau_values,fluxes)\n",
    "plt.xlabel(\"vacuum lifetime, seconds\")\n",
    "plt.ylabel(\"flux multiplication\")\n",
    "plt.savefig(\"vacuum_perf\",dpi=200)\n",
    "plt.show()"
   ],
   "metadata": {
    "collapsed": false,
    "pycharm": {
     "name": "#%%\n"
    }
   }
  },
  {
   "cell_type": "code",
   "execution_count": 84,
   "outputs": [
    {
     "data": {
      "text/plain": "<Figure size 432x288 with 1 Axes>",
      "image/png": "[encoded data removed]"
     },
     "metadata": {
      "needs_background": "light"
     },
     "output_type": "display_data"
    }
   ],
   "source": [
    "#epsilon analysis\n",
    "tau_vacuum=1e9\n",
    "epsilon_values=np.linspace(.95,1,100)\n",
    "fluxes=[]\n",
    "for epsilon in epsilon_values:\n",
    "    fluxes.append(flux_mult(tau_vacuum,epsilon))\n",
    "plt.title(\"optical pumping limited performance\")\n",
    "plt.plot(epsilon_values,fluxes)\n",
    "plt.xlabel(\"optical pumping efficiency\")\n",
    "plt.ylabel(\"flux multiplication\")\n",
    "plt.savefig(\"opt_perf\",dpi=200)\n",
    "plt.show()"
   ],
   "metadata": {
    "collapsed": false,
    "pycharm": {
     "name": "#%%\n"
    }
   }
  },
  {
   "cell_type": "code",
   "execution_count": 98,
   "outputs": [
    {
     "data": {
      "text/plain": "<Figure size 432x288 with 1 Axes>",
      "image/png": "[encoded data removed]"
     },
     "metadata": {
      "needs_background": "light"
     },
     "output_type": "display_data"
    }
   ],
   "source": [
    "#survival versus time\n",
    "times_unique=np.unique(times)\n",
    "nums_surviving_ring=np.array([np.sum(times>time) for time in times_unique])\n",
    "frac_surviving_ring=nums_surviving_ring/np.max(nums_surviving_ring)\n",
    "plt.title(\"swarm survival versus time\")\n",
    "plt.semilogy(times_unique[:-1],frac_surviving_ring[:-1])\n",
    "plt.xlabel(\"time, seconds\")\n",
    "plt.ylabel(\"relative survival\")\n",
    "plt.savefig(\"survival_raw\",dpi=200)\n",
    "plt.show()"
   ],
   "metadata": {
    "collapsed": false,
    "pycharm": {
     "name": "#%%\n"
    }
   }
  },
  {
   "cell_type": "code",
   "execution_count": 88,
   "outputs": [
    {
     "data": {
      "text/plain": "223.84467235516837"
     },
     "execution_count": 88,
     "metadata": {},
     "output_type": "execute_result"
    }
   ],
   "source": [
    "flux_mult(73,.9998)"
   ],
   "metadata": {
    "collapsed": false,
    "pycharm": {
     "name": "#%%\n"
    }
   }
  },
  {
   "cell_type": "markdown",
   "source": [
    "### ideal vacuum and ring, imperfect optical pumping"
   ],
   "metadata": {
    "collapsed": false,
    "pycharm": {
     "name": "#%% md\n"
    }
   }
  },
  {
   "cell_type": "code",
   "execution_count": 113,
   "outputs": [],
   "source": [
    "raise NotImplemented #i think I broke all this\n",
    "tau_vacuum=np.inf\n",
    "eps_OP=1.0\n",
    "t_maxes=np.logspace(np.log10(1.0),np.log10(300),100)\n",
    "epsilons_OP=[.98,.99,.999,1.0]\n",
    "\n",
    "flux_ideal=[]\n",
    "flux_epsilons=[[] for _ in epsilons_OP]\n",
    "for t_max in t_maxes:\n",
    "    times=np.linspace(0.0,t_max,10_000)\n",
    "    frac_surviving_ring=np.ones(len(times))\n",
    "    flux_ideal.append(flux_mult(time_one_rev,np.inf,1.0,frac_surviving_ring,times))\n",
    "    for fluxes,eps in zip(flux_epsilons,epsilons_OP):\n",
    "        flux=flux_mult(time_one_rev,np.inf,eps,frac_surviving_ring,times)\n",
    "        fluxes.append(flux)\n"
   ],
   "metadata": {
    "collapsed": false,
    "pycharm": {
     "name": "#%%\n"
    }
   }
  },
  {
   "cell_type": "code",
   "execution_count": 133,
   "outputs": [
    {
     "data": {
      "text/plain": "<Figure size 432x288 with 2 Axes>",
      "image/png": "[encoded data removed]"
     },
     "metadata": {
      "needs_background": "light"
     },
     "output_type": "display_data"
    },
    {
     "data": {
      "text/plain": "7462.931890215425"
     },
     "execution_count": 133,
     "metadata": {},
     "output_type": "execute_result"
    }
   ],
   "source": [
    "fig = plt.figure()\n",
    "ax1 = fig.add_subplot(111)\n",
    "ax2 = ax1.twiny()\n",
    "for fluxes,eps in zip(flux_epsilons,epsilons_OP):\n",
    "    ax1.semilogy(t_maxes,fluxes,label='eps: '+str(eps))\n",
    "\n",
    "ax2.plot(nums_revs,100*np.ones(len(nums_revs)),alpha=0.0)\n",
    "ax1.set_xlabel(\"ring survival time, seconds\")\n",
    "ax1.set_ylabel(\"flux multiplication\")\n",
    "ax2.set_xlabel('revolutions')\n",
    "ax1.legend()\n",
    "plt.title(\"optical pumping limited flux multiplication\")\n",
    "plt.show()\n",
    "flux_epsilons[-1][-1]"
   ],
   "metadata": {
    "collapsed": false,
    "pycharm": {
     "name": "#%%\n"
    }
   }
  },
  {
   "cell_type": "markdown",
   "source": [
    "### ideal optical pumping and ring, imperfect vacuum"
   ],
   "metadata": {
    "collapsed": false,
    "pycharm": {
     "name": "#%% md\n"
    }
   },
   "execution_count": 3
  },
  {
   "cell_type": "code",
   "execution_count": 123,
   "outputs": [],
   "source": [
    "\n",
    "\n",
    "eps_OP=1.0\n",
    "t_maxes=np.logspace(np.log10(1.0),np.log10(300),100)\n",
    "taus_vacuum=[10,50,100,np.inf]\n",
    "flux_ideal=[]\n",
    "fluxes_vac=[[] for _ in epsilons_OP]\n",
    "for t_max in t_maxes:\n",
    "    times=np.linspace(0.0,t_max,10_000)\n",
    "    frac_surviving_ring=np.ones(len(times))\n",
    "    flux_ideal.append(flux_mult(time_one_rev,np.inf,1.0,frac_surviving_ring,times))\n",
    "    for fluxes,tau in zip(fluxes_vac,taus_vacuum):\n",
    "        flux=flux_mult(time_one_rev,tau,1.0,frac_surviving_ring,times)\n",
    "        fluxes.append(flux)"
   ],
   "metadata": {
    "collapsed": false,
    "pycharm": {
     "name": "#%%\n"
    }
   }
  },
  {
   "cell_type": "code",
   "execution_count": 132,
   "outputs": [
    {
     "data": {
      "text/plain": "<Figure size 432x288 with 2 Axes>",
      "image/png": "[encoded data removed]"
     },
     "metadata": {
      "needs_background": "light"
     },
     "output_type": "display_data"
    },
    {
     "data": {
      "text/plain": "7462.931890215425"
     },
     "execution_count": 132,
     "metadata": {},
     "output_type": "execute_result"
    }
   ],
   "source": [
    "fig = plt.figure()\n",
    "\n",
    "ax1 = fig.add_subplot(111)\n",
    "ax2 = ax1.twiny()\n",
    "for fluxes,tau in zip(fluxes_vac,taus_vacuum):\n",
    "    ax1.semilogy(t_maxes,fluxes,label='tau (s): '+str(tau))\n",
    "\n",
    "ax2.plot(nums_revs,100*np.ones(len(nums_revs)),alpha=0.0)\n",
    "ax1.set_xlabel(\"ring survival time, seconds\")\n",
    "ax1.set_ylabel(\"flux multiplication\")\n",
    "ax2.set_xlabel('revolutions')\n",
    "ax1.legend()\n",
    "plt.title(\"vacuum limited flux multiplication\")\n",
    "plt.show()\n",
    "fluxes_vac[-1][-1]"
   ],
   "metadata": {
    "collapsed": false,
    "pycharm": {
     "name": "#%%\n"
    }
   }
  }
 ],
 "metadata": {
  "kernelspec": {
   "display_name": "Python 3",
   "language": "python",
   "name": "python3"
  },
  "language_info": {
   "codemirror_mode": {
    "name": "ipython",
    "version": 2
   },
   "file_extension": ".py",
   "mimetype": "text/x-python",
   "name": "python",
   "nbconvert_exporter": "python",
   "pygments_lexer": "ipython2",
   "version": "2.7.6"
  }
 },
 "nbformat": 4,
 "nbformat_minor": 0
}