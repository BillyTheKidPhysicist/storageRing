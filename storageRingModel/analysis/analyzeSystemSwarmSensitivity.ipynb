{
 "cells": [
  {
   "cell_type": "code",
   "execution_count": 1,
   "metadata": {
    "collapsed": true
   },
   "outputs": [],
   "source": [
    "from helperTools import *\n",
    "from latticeElements.utilities import ElementTooShortError\n",
    "from latticeModels import make_Ring_And_Injector, RingGeometryError, InjectorGeometryError\n",
    "from latticeModels_Parameters import optimizerBounds_V1_3,injectorParamsOptimalAny,ringParamsOptimal_V3\n",
    "from storageRingModeler import StorageRingModel\n",
    "\n",
    "\n",
    "params=tuple(ringParamsOptimal_V3.values())\n",
    "\n",
    "includeBumper=False\n",
    "systemParams=(tuple(ringParamsOptimal_V3.values()),tuple(injectorParamsOptimalAny.values()))\n",
    "\n",
    "PTL_Ring, PTL_Injector = make_Ring_And_Injector(systemParams,'3',options={'useSolenoidField': True,'includeBumper': includeBumper})\n",
    "model=StorageRingModel(PTL_Ring,PTL_Injector)"
   ]
  },
  {
   "cell_type": "code",
   "execution_count": 6,
   "outputs": [
    {
     "data": {
      "text/plain": "[(0.8753571154963088, 39.19264205214881),\n (0.8325743048648304, 52.635917705389716),\n (0.8844930916169271, 36.32192263147259),\n (0.8171508131684565, 57.48230921986557),\n (0.8860248099689224, 35.84062391067628),\n (0.9107202226011865, 28.080796202166965),\n (0.8279753283501501, 54.08101465196899),\n (0.826323100554732, 54.600180021609496),\n (0.8846553702209745, 36.27093121752307),\n (0.8651496731972985, 42.40003910051345)]"
     },
     "execution_count": 6,
     "metadata": {},
     "output_type": "execute_result"
    }
   ],
   "source": [
    "from analyzeSwarmSensitivity_Functions import solve_With_Jittered_Swarm,make_Misalignment_Params,get_Results_Misaligned_Dimension\n",
    "# print(solve_With_Jittered_Swarm(model,0.0,0.0,0.0,0.0,0.0)) (0.8160748469019566, 57.82040087164465)\n",
    "# print(solve_With_Jittered_Swarm(model,0.0,0.0,0.0,0.0,0.01))\n",
    "# print(solve_With_Jittered_Swarm(model,0.0,0.0,0.0,0.0,-0.01))\n",
    "angleMax=np.pi*1/180\n",
    "rMax=3e-3\n",
    "xMax=5e-3\n",
    "params=make_Misalignment_Params(xMax,rMax,angleMax,10)\n",
    "results=[solve_With_Jittered_Swarm(model,*param) for param in params]\n",
    "results"
   ],
   "metadata": {
    "collapsed": false,
    "pycharm": {
     "name": "#%%\n"
    }
   }
  },
  {
   "cell_type": "code",
   "execution_count": 5,
   "outputs": [
    {
     "data": {
      "text/plain": "(array([-0.03490659, -0.02714957, -0.01939255, -0.01163553, -0.00387851,\n         0.00387851,  0.01163553,  0.01939255,  0.02714957,  0.03490659]),\n [(0.8485184324131961, 47.62593125243313),\n  (0.8385824486422139, 50.74803021572947),\n  (0.8310427104223499, 53.117177491161904),\n  (0.8225270980928444, 55.79296531837512),\n  (0.8150905729339409, 58.12968083888011),\n  (0.8174055906471304, 57.40225267786902),\n  (0.8215649199147519, 56.09530231505001),\n  (0.8253801541117406, 54.896473995106646),\n  (0.8343649369512214, 52.07326274243641),\n  (0.8411640688856756, 49.93682982817688)])"
     },
     "execution_count": 5,
     "metadata": {},
     "output_type": "execute_result"
    }
   ],
   "source": [
    "get_Results_Misaligned_Dimension(model,'roty',angleMax,10)"
   ],
   "metadata": {
    "collapsed": false,
    "pycharm": {
     "name": "#%%\n"
    }
   }
  }
 ],
 "metadata": {
  "kernelspec": {
   "display_name": "Python 3",
   "language": "python",
   "name": "python3"
  },
  "language_info": {
   "codemirror_mode": {
    "name": "ipython",
    "version": 2
   },
   "file_extension": ".py",
   "mimetype": "text/x-python",
   "name": "python",
   "nbconvert_exporter": "python",
   "pygments_lexer": "ipython2",
   "version": "2.7.6"
  }
 },
 "nbformat": 4,
 "nbformat_minor": 0
}