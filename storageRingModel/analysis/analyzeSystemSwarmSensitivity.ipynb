{
 "cells": [
  {
   "cell_type": "code",
   "execution_count": 1,
   "metadata": {
    "collapsed": true
   },
   "outputs": [],
   "source": [
    "from helperTools import *\n",
    "from latticeElements.utilities import ElementTooShortError\n",
    "from latticeModels import make_ring_and_injector, RingGeometryError, InjectorGeometryError\n",
    "from latticeModels_Parameters import optimizerBounds_V1_3,injectorParamsOptimalAny,ringParamsOptimal_V3\n",
    "from storageRingModeler import StorageRingModel,make_optimal_solution_model\n",
    "from analyzeSwarmSensitivity_Functions import solve_with_jittered_swarm,make_misalignment_params,get_results_misaligned_dim,plot_trajectories_with_jittered_swarm\n",
    "\n",
    "\n",
    "\n",
    "model=make_optimal_solution_model()"
   ]
  },
  {
   "cell_type": "code",
   "execution_count": 6,
   "outputs": [
    {
     "data": {
      "text/plain": "[(0.8753571154963088, 39.19264205214881),\n (0.8325743048648304, 52.635917705389716),\n (0.8844930916169271, 36.32192263147259),\n (0.8171508131684565, 57.48230921986557),\n (0.8860248099689224, 35.84062391067628),\n (0.9107202226011865, 28.080796202166965),\n (0.8279753283501501, 54.08101465196899),\n (0.826323100554732, 54.600180021609496),\n (0.8846553702209745, 36.27093121752307),\n (0.8651496731972985, 42.40003910051345)]"
     },
     "execution_count": 6,
     "metadata": {},
     "output_type": "execute_result"
    }
   ],
   "source": [
    "#jittered results over the space of possible jittering\n",
    "angle_max=np.pi*2/180\n",
    "rMax=3e-3\n",
    "x_max=5e-3\n",
    "params=make_misalignment_params(x_max,rMax,angle_max,10)\n",
    "results=[solve_with_jittered_swarm(model,*param) for param in params]\n",
    "results"
   ],
   "metadata": {
    "collapsed": false,
    "pycharm": {
     "name": "#%%\n"
    }
   }
  },
  {
   "cell_type": "code",
   "execution_count": 11,
   "outputs": [],
   "source": [
    "#jittering along each axis of the space independently\n",
    "angle_max=np.pi*2/180\n",
    "rMax=5e-3\n",
    "x_max=3e-2\n",
    "numPointsDim=10\n",
    "x_arr=np.linspace(-x_max,x_max,numPointsDim)\n",
    "y_arr=np.linspace(-rMax,rMax,numPointsDim)\n",
    "z_arr=y_arr.copy()\n",
    "rot_angle_yArr=np.linspace(-angle_max,angle_max,numPointsDim)\n",
    "rot_angle_z_arr=rot_angle_yArr.copy()\n",
    "arrs=(x_arr,y_arr,z_arr,rot_angle_yArr,rot_angle_z_arr)\n",
    "singleAxisResults=[]\n",
    "for i,arr in enumerate(arrs):\n",
    "    def solve(x):\n",
    "        params=[0]*len(arrs)\n",
    "        params[i]=x\n",
    "        return solve_with_jittered_swarm(model,*params)\n",
    "    singleAxisResults.append(parallel_evaluate(solve,arr))\n",
    "\n",
    "\n"
   ],
   "metadata": {
    "collapsed": false,
    "pycharm": {
     "name": "#%%\n"
    }
   }
  },
  {
   "cell_type": "code",
   "execution_count": 22,
   "outputs": [
    {
     "data": {
      "text/plain": "<Figure size 432x288 with 1 Axes>",
      "image/png": "[encoded data removed]"
     },
     "metadata": {
      "needs_background": "light"
     },
     "output_type": "display_data"
    }
   ],
   "source": [
    "%matplotlib inline\n",
    "axis=0\n",
    "xlabels=['longitudinal shift, mm','horizontal shift, mm','vertical shift, mm','rotation about horizontal, deg','rotation about vertical, deg']\n",
    "title='performance versus swarm orientation/position'\n",
    "factors=[1e3,1e3,1e3,180/np.pi,180/np.pi]\n",
    "y=np.array(singleAxisResults[axis])[:,1]\n",
    "x=arrs[axis]\n",
    "\n",
    "plt.title(title)\n",
    "plt.plot(x*factors[axis],y,marker='o',markersize=10)\n",
    "plt.ylabel(\"Flux multiplication\")\n",
    "plt.xlabel(xlabels[axis])\n",
    "plt.show()"
   ],
   "metadata": {
    "collapsed": false,
    "pycharm": {
     "name": "#%%\n"
    }
   }
  },
  {
   "cell_type": "code",
   "execution_count": 9,
   "outputs": [],
   "source": [
    "from analyzeSwarmSensitivity_Functions import JitteredSwarmModel\n",
    "%matplotlib tk\n",
    "with JitteredSwarmModel(model,0,0,0,0,-.1) as model_temp:\n",
    "    model_temp.show_floor_plan_with_trajectories()"
   ],
   "metadata": {
    "collapsed": false,
    "pycharm": {
     "name": "#%%\n"
    }
   }
  }
 ],
 "metadata": {
  "kernelspec": {
   "display_name": "Python 3",
   "language": "python",
   "name": "python3"
  },
  "language_info": {
   "codemirror_mode": {
    "name": "ipython",
    "version": 2
   },
   "file_extension": ".py",
   "mimetype": "text/x-python",
   "name": "python",
   "nbconvert_exporter": "python",
   "pygments_lexer": "ipython2",
   "version": "2.7.6"
  }
 },
 "nbformat": 4,
 "nbformat_minor": 0
}