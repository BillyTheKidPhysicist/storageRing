{
 "cells": [
  {
   "cell_type": "code",
   "execution_count": 1,
   "metadata": {},
   "outputs": [],
   "source": [
    "import skopt\n",
    "from smallCombinerSmallMagnets import *"
   ]
  },
  {
   "cell_type": "code",
   "execution_count": null,
   "metadata": {},
   "outputs": [
    {
     "name": "stdout",
     "output_type": "stream",
     "text": [
      "starting\n",
      "1 [0.3144997406495613, 0.21916192730155695] 1.045270987033626 2.9998731458357923\n",
      "2 [0.13475996620097982, 0.10568734063368837] 0.9962448230738005 2.4568907932216937\n",
      "3 [0.14501832918638724, 0.4615173488807684] 1.4867728543013927 8.99996559668482\n",
      "4 [0.006181409243848755, 0.03608182619282985] 0.5339873157861061 1.9466428050732087\n",
      "5 [0.04413336124456457, 0.17021673989022848] 1.4433464818445942 6.001837857855706\n"
     ]
    }
   ],
   "source": [
    "sol=compute_Sol(5e-6,100.0,2000,150) "
   ]
  },
  {
   "cell_type": "code",
   "execution_count": null,
   "metadata": {},
   "outputs": [],
   "source": [
    "import skopt.plots\n",
    "skopt.plots.plot_convergence(sol)"
   ]
  },
  {
   "cell_type": "code",
   "execution_count": null,
   "metadata": {},
   "outputs": [],
   "source": [
    "skopt.plots.plot_objective(sol)"
   ]
  },
  {
   "cell_type": "code",
   "execution_count": null,
   "metadata": {},
   "outputs": [],
   "source": []
  },
  {
   "cell_type": "code",
   "execution_count": null,
   "metadata": {},
   "outputs": [],
   "source": []
  },
  {
   "cell_type": "code",
   "execution_count": null,
   "metadata": {},
   "outputs": [],
   "source": []
  }
 ],
 "metadata": {
  "kernelspec": {
   "display_name": "Python 3",
   "language": "python",
   "name": "python3"
  },
  "language_info": {
   "codemirror_mode": {
    "name": "ipython",
    "version": 3
   },
   "file_extension": ".py",
   "mimetype": "text/x-python",
   "name": "python",
   "nbconvert_exporter": "python",
   "pygments_lexer": "ipython3",
   "version": "3.6.8"
  }
 },
 "nbformat": 4,
 "nbformat_minor": 4
}
