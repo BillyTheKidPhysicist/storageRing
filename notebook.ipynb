{
 "cells": [
  {
   "cell_type": "code",
   "source": [
    "from periodicLatticeSolver import PeriodicLatticeSolver\n",
    "from minimizer import Minimizer\n",
    "import numpy as np\n",
    "from FloorPlanClass import FloorPlan\n",
    "from plotter import Plotter\n",
    "PLS = PeriodicLatticeSolver(200, .02)\n",
    "PLS.add_Injector()\n",
    "\n",
    "L1 = PLS.Variable('L1', varMin=.01, varMax=.5)\n",
    "L2= PLS.Variable('L2', varMin=.01, varMax=.5)\n",
    "L3 =PLS.Variable('L3', varMin=.01, varMax=.5)\n",
    "L4= PLS.Variable('L4', varMin=.01, varMax=.5)\n",
    "\n",
    "Bp1 = PLS.Variable('Bp1', varMin=.1, varMax=.45)\n",
    "Bp2 = PLS.Variable('Bp2', varMin=.1, varMax=.45)\n",
    "Bp3 = PLS.Variable('Bp3', varMin=.1, varMax=.45)\n",
    "Bp4 = PLS.Variable('Bp4', varMin=.1, varMax=.45)\n",
    "\n",
    "rp1 =.03# PLS.Variable('rp1', varMin=.005, varMax=.03)\n",
    "rp2 =.03# PLS.Variable('rp2', varMin=.005, varMax=.03)\n",
    "rp3 =.03# PLS.Variable('rp3', varMin=.005, varMax=.03)\n",
    "rp4 =.03# PLS.Variable('rp4', varMin=.005, varMax=.03)\n",
    "\n",
    "#s = PLS.Variable('s', varMin=.005, varMax=.03)\n",
    "\n",
    "r0=1\n",
    "TL1=PLS.Variable('TL1',varMin=.5,varMax=1.5)\n",
    "TL2=PLS.Variable('TL2',varMin=.5,varMax=1.5)\n",
    "\n",
    "\n",
    "PLS.set_Track_Length(TL1=TL1,TL2=TL2)\n",
    "PLS.begin_Lattice()\n",
    "\n",
    "PLS.add_Bend(np.pi, r0, .45)\n",
    "#PLS.add_Drift(L=test)\n",
    "PLS.add_Lens(L4, Bp4, rp4)\n",
    "PLS.add_Drift()\n",
    "PLS.add_Combiner()\n",
    "PLS.add_Drift()\n",
    "PLS.add_Lens(L1, Bp1,rp1)\n",
    "#PLS.add_Drift(L=.05)\n",
    "PLS.add_Bend(np.pi, r0, .45)\n",
    "#PLS.add_Drift(L=.05)\n",
    "PLS.add_Lens(L2, Bp2, rp2)\n",
    "PLS.add_Drift()\n",
    "PLS.add_Lens(L3, Bp3, rp3)\n",
    "#PLS.add_Drift(L=.05)\n",
    "PLS.end_Lattice()"
   ],
   "outputs": [
    {
     "output_type": "stream",
     "name": "stdout",
     "text": [
      "Lattice model completed\n"
     ]
    }
   ],
   "execution_count": 1,
   "metadata": {
    "execution": {
     "iopub.execute_input": "2020-10-22T01:46:57.838Z",
     "iopub.status.busy": "2020-10-22T01:46:57.832Z",
     "iopub.status.idle": "2020-10-22T01:47:58.567Z",
     "shell.execute_reply": "2020-10-22T01:47:58.574Z"
    }
   }
  },
  {
   "cell_type": "code",
   "source": [
    "minimizer=Minimizer(PLS)\n",
    "minimizer.find_Global_Min(mut=.75, crossPop=.7, iterations=100, popPerDim=20,strategy='best/1')"
   ],
   "outputs": [
    {
     "output_type": "stream",
     "name": "stderr",
     "text": [
      "100%|██████████| 100/100 [00:18<00:00,  5.27it/s]\n",
      "100%|██████████| 100/100 [00:48<00:00,  2.08it/s]\n",
      "100%|██████████| 100/100 [00:48<00:00,  2.05it/s]\n",
      "100%|██████████| 100/100 [00:54<00:00,  1.85it/s]\n",
      "100%|██████████| 100/100 [00:59<00:00,  1.68it/s]\n",
      "100%|██████████| 100/100 [00:59<00:00,  1.67it/s]\n",
      "100%|██████████| 100/100 [01:06<00:00,  1.50it/s]\n",
      "100%|██████████| 100/100 [01:07<00:00,  1.49it/s]\n",
      "100%|██████████| 100/100 [01:26<00:00,  1.16it/s]\n",
      "100%|██████████| 100/100 [01:36<00:00,  1.03it/s]\n",
      "100%|██████████| 100/100 [01:57<00:00,  1.17s/it]\n",
      "100%|██████████| 100/100 [02:25<00:00,  1.46s/it]\n"
     ]
    },
    {
     "output_type": "stream",
     "name": "stdout",
     "text": [
      "minCost for each thread:  [4.00000049 1.82083195 4.         1.88082989 1.58165186 1.80408557\n",
      " 1.7336374  1.831429   1.77356955 1.57351234 1.53243706 1.71100646]\n"
     ]
    },
    {
     "output_type": "display_data",
     "data": {
      "text/plain": "<Figure size 432x288 with 1 Axes>",
      "image/png": "[encoded data removed]"
     },
     "metadata": {
      "needs_background": "light"
     }
    },
    {
     "output_type": "stream",
     "name": "stdout",
     "text": [
      "[0.5        0.02892555 0.5        0.4822316  0.12401952 0.44337053\n",
      " 0.22180048 0.42016329 0.8991622  1.49872565 0.19842905 0.12389675\n",
      " 0.04908461] 1.5324370618063006\n",
      "percent particles surviving (x,y): 19.7, 20.6\n",
      "[0.5        0.02892555 0.5        0.4822316  0.12401952 0.44337053\n",
      " 0.22180048 0.42016329 0.8991622  1.49872565 0.19842905 0.12389675\n",
      " 0.04908461] 1.5324370618063006\n",
      "done\n",
      "Total time 2 minutes and 26 seconds\n"
     ]
    }
   ],
   "execution_count": 2,
   "metadata": {
    "collapsed": true,
    "jupyter": {
     "source_hidden": false,
     "outputs_hidden": false
    },
    "nteract": {
     "transient": {
      "deleting": false
     }
    },
    "execution": {
     "iopub.status.busy": "2020-10-22T01:47:58.580Z",
     "iopub.execute_input": "2020-10-22T01:47:58.584Z",
     "iopub.status.idle": "2020-10-22T01:50:24.748Z",
     "shell.execute_reply": "2020-10-22T01:50:24.753Z"
    }
   }
  },
  {
   "cell_type": "code",
   "source": [
    "q0=minimizer.sol.geneticSolX\n",
    "def probe_Vicinity(q,floorPlan):\n",
    "  probePointsList=[]\n",
    "  probeSize=1e-3\n",
    "  i=0\n",
    "  for x in q:\n",
    "    temp=np.zeros(q.shape)\n",
    "    temp[i]=probeSize\n",
    "    probePointsList.append(temp+q)\n",
    "    temp=np.zeros(q.shape)\n",
    "    temp[i]=-probeSize\n",
    "    probePointsList.append(temp+q)\n",
    "    i+=1\n",
    "  maxVal=0\n",
    "  j=0\n",
    "  print(q)\n",
    "  for probePoint in probePointsList:\n",
    "    cost=minimizer.cost_Function(probePoint,False,floorPlan)\n",
    "    print(cost,(j+1+1)//2)\n",
    "    j+=1\n",
    "floorPlan = FloorPlan(minimizer.PLS)    \n",
    "probe_Vicinity(q0,floorPlan)"
   ],
   "outputs": [
    {
     "output_type": "stream",
     "name": "stdout",
     "text": [
      "[0.5        0.02892555 0.5        0.4822316  0.12401952 0.44337053\n",
      " 0.22180048 0.42016329 0.8991622  1.49872565 0.19842905 0.12389675\n",
      " 0.04908461]\n",
      "1.5324436784505753 1\n",
      "1.536524391268229 1\n",
      "1.5323854947487916 2\n",
      "1.540689673888099 2\n",
      "1.5358193785675887 3\n",
      "1.5147015341267531 3\n",
      "1.5359369637236349 4\n",
      "1.5217672597495784 4\n",
      "1.5286424076482032 5\n",
      "1.5406489056698234 5\n",
      "1.5324340156176468 6\n",
      "1.5324401411633823 6\n",
      "1.5436384786958237 7\n",
      "1.5189698543638566 7\n",
      "1.536054871864349 8\n",
      "1.5293652123361614 8\n",
      "1.532432358506136 9\n",
      "1.5324420177052547 9\n",
      "1.5324263612161448 10\n",
      "1.532448141413539 10\n",
      "1.5398248948528335 11\n",
      "4.0733472876614485 11\n",
      "4.2186775786495225 12\n",
      "1.543238487999497 12\n",
      "1.5332847435979982 13\n",
      "1.5364860921866745 13\n"
     ]
    }
   ],
   "execution_count": 23,
   "metadata": {
    "execution": {
     "iopub.status.busy": "2020-10-22T01:58:36.842Z",
     "iopub.execute_input": "2020-10-22T01:58:36.844Z",
     "iopub.status.idle": "2020-10-22T01:58:37.874Z",
     "shell.execute_reply": "2020-10-22T01:58:37.880Z"
    }
   }
  },
  {
   "cell_type": "code",
   "source": [
    "floorPlan=FloorPlan(PLS)\n",
    "floorPlan.show_Floor_Plan(sol=minimizer.sol)"
   ],
   "outputs": [
    {
     "output_type": "display_data",
     "data": {
      "text/plain": "<Figure size 432x288 with 1 Axes>",
      "image/png": "[encoded data removed]"
     },
     "metadata": {
      "needs_background": "light"
     }
    }
   ],
   "execution_count": 25,
   "metadata": {
    "collapsed": true,
    "jupyter": {
     "source_hidden": false,
     "outputs_hidden": false
    },
    "nteract": {
     "transient": {
      "deleting": false
     }
    },
    "execution": {
     "iopub.status.busy": "2020-10-22T02:02:06.763Z",
     "iopub.execute_input": "2020-10-22T02:02:06.766Z",
     "iopub.status.idle": "2020-10-22T02:02:06.998Z",
     "shell.execute_reply": "2020-10-22T02:02:07.005Z"
    }
   }
  },
  {
   "cell_type": "code",
   "source": [
    "Bp=1\n",
    "rp=.02\n",
    "r=.01\n",
    "2*r*Bp/rp**2"
   ],
   "outputs": [
    {
     "output_type": "execute_result",
     "execution_count": 28,
     "data": {
      "text/plain": "50.0"
     },
     "metadata": {}
    }
   ],
   "execution_count": 28,
   "metadata": {
    "collapsed": true,
    "jupyter": {
     "source_hidden": false,
     "outputs_hidden": false
    },
    "nteract": {
     "transient": {
      "deleting": false
     }
    },
    "execution": {
     "iopub.status.busy": "2020-10-22T19:14:36.923Z",
     "iopub.execute_input": "2020-10-22T19:14:36.927Z",
     "iopub.status.idle": "2020-10-22T19:14:36.937Z",
     "shell.execute_reply": "2020-10-22T19:14:36.945Z"
    }
   }
  },
  {
   "cell_type": "code",
   "source": [
    "from shapely.geometry import Point\n",
    "from shapely.geometry import Polygon\n",
    "import time\n",
    "\n",
    "temp=Point(.5,.6)\n",
    "temp1=Polygon([[0,0],[1,0],[2,0],[1,1],[.5,2],[0,1]])\n",
    "t=time.time()\n",
    "for i in range(int(1e5)):\n",
    "    temp1.intersects(temp)\n",
    "print(1e6*(time.time()-t)/1e5)"
   ],
   "outputs": [
    {
     "name": "stdout",
     "output_type": "stream",
     "text": [
      "34.60721969604492\n"
     ]
    }
   ],
   "execution_count": 25,
   "metadata": {
    "collapsed": true,
    "jupyter": {
     "source_hidden": false,
     "outputs_hidden": false
    },
    "nteract": {
     "transient": {
      "deleting": false
     }
    }
   }
  },
  {
   "cell_type": "code",
   "source": [],
   "outputs": [],
   "execution_count": null,
   "metadata": {
    "collapsed": true,
    "jupyter": {
     "source_hidden": false,
     "outputs_hidden": false
    },
    "nteract": {
     "transient": {
      "deleting": false
     }
    }
   }
  },
  {
   "cell_type": "code",
   "source": [],
   "outputs": [],
   "execution_count": null,
   "metadata": {
    "collapsed": true,
    "jupyter": {
     "source_hidden": false,
     "outputs_hidden": false
    },
    "nteract": {
     "transient": {
      "deleting": false
     }
    }
   }
  },
  {
   "cell_type": "code",
   "source": [],
   "outputs": [],
   "execution_count": null,
   "metadata": {
    "collapsed": true,
    "jupyter": {
     "source_hidden": false,
     "outputs_hidden": false
    },
    "nteract": {
     "transient": {
      "deleting": false
     }
    }
   }
  }
 ],
 "metadata": {
  "kernelspec": {
   "display_name": "Python 3",
   "language": "python",
   "name": "python3"
  },
  "language_info": {
   "name": "python",
   "version": "3.7.7",
   "mimetype": "text/x-python",
   "codemirror_mode": {
    "name": "ipython",
    "version": 3
   },
   "pygments_lexer": "ipython3",
   "nbconvert_exporter": "python",
   "file_extension": ".py"
  },
  "nteract": {
   "version": "0.25.1"
  }
 },
 "nbformat": 4,
 "nbformat_minor": 4
}