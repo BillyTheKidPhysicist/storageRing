{
 "cells": [
  {
   "cell_type": "code",
   "execution_count": 1,
   "metadata": {
    "execution": {
     "iopub.execute_input": "2021-02-01T16:48:58.530Z",
     "iopub.status.busy": "2021-02-01T16:48:58.510Z",
     "iopub.status.idle": "2021-02-01T16:49:19.329Z",
     "shell.execute_reply": "2021-02-01T16:49:19.342Z"
    }
   },
   "outputs": [],
   "source": [
    "import matplotlib.pyplot as plt\n",
    "import numpy as np\n",
    "from particleTracerLattice import ParticleTracerLattice\n",
    "from ParticleClass import Particle\n",
    "from ParticleTracer import ParticleTracer\n",
    "from OptimizerClass import Optimizer\n",
    "lattice = ParticleTracerLattice(200.0)\n",
    "directory='latticeConfig5_Files/'\n",
    "fileBend1 = directory+'benderSeg1.txt'\n",
    "fileBend2 = directory+'benderSeg2.txt'\n",
    "fileBender1Fringe = directory+'benderFringeCap1.txt'\n",
    "fileBenderInternalFringe1 = directory+'benderFringeInternal1.txt'\n",
    "fileBender2Fringe = directory+'benderFringeCap2.txt'\n",
    "fileBenderInternalFringe2 = directory+'benderFringeInternal2.txt'\n",
    "file2DLens = directory+'lens2D.txt'\n",
    "file3DLens = directory+'lens3D.txt'\n",
    "fileCombiner = directory+'combiner.txt'\n",
    "yokeWidth = (.0254 * 5 / 8)/2.0\n",
    "extraSpace = 1e-3 #extra space on each ender between bender segments\n",
    "Lm = .0254/2.0 #hard edge length of segmented bender\n",
    "rp = .0125/2.0\n",
    "Llens1 = .15 #lens length before drift before combiner inlet\n",
    "Llens2 = .3\n",
    "Llens3=0.6450476031362976\n",
    "Lcap=0.01875/2.0\n",
    "K0 = 48300000 #'spring' constant of field within 1%\n",
    "rb1=0.9991031328651591\n",
    "rb2=1.0010620406109336\n",
    "numMagnets1=208\n",
    "numMagnets2=208\n",
    "rOffsetFact=1.0005\n",
    "lattice.add_Lens_Sim_With_Caps(file2DLens, file3DLens, Llens1)\n",
    "#lattice.add_Drift(LDrift,ap=.015)\n",
    "#lattice.add_Combiner_Ideal(sizeScale=2.0)\n",
    "lattice.add_Combiner_Sim(fileCombiner,sizeScale=1.0)\n",
    "lattice.add_Lens_Sim_With_Caps(file2DLens, file3DLens, Llens2)\n",
    "lattice.add_Bender_Sim_Segmented_With_End_Cap(fileBend1, fileBender1Fringe, fileBenderInternalFringe1, Lm,Lcap,rp,K0,\n",
    "                                              numMagnets1, rb1,extraSpace, yokeWidth,rOffsetFact)\n",
    "#lattice.add_Bender_Ideal(None,1.0,1.0,rp)\n",
    "lattice.add_Lens_Sim_With_Caps(file2DLens, file3DLens, Llens3)\n",
    "lattice.add_Bender_Sim_Segmented_With_End_Cap(fileBend2, fileBender2Fringe, fileBenderInternalFringe2, Lm,Lcap,rp, K0,\n",
    "                                              numMagnets2, rb2,extraSpace, yokeWidth,rOffsetFact)\n",
    "#lattice.add_Bender_Ideal(None,1.0,1.0,rp)\n",
    "lattice.end_Lattice(buildLattice=True)"
   ]
  },
  {
   "cell_type": "code",
   "execution_count": 2,
   "metadata": {
    "execution": {
     "iopub.execute_input": "2021-02-01T16:50:48.758Z",
     "iopub.status.busy": "2021-02-01T16:50:48.747Z",
     "iopub.status.idle": "2021-02-01T16:50:48.778Z",
     "shell.execute_reply": "2021-02-01T16:50:48.786Z"
    },
    "jupyter": {
     "outputs_hidden": false,
     "source_hidden": false
    },
    "nteract": {
     "transient": {
      "deleting": false
     }
    }
   },
   "outputs": [
    {
     "data": {
      "text/plain": [
       "<particleTracerLattice.ParticleTracerLattice at 0x15b257396d8>"
      ]
     },
     "execution_count": 2,
     "metadata": {},
     "output_type": "execute_result"
    }
   ],
   "source": [
    "lattice"
   ]
  },
  {
   "cell_type": "code",
   "execution_count": 4,
   "metadata": {
    "jupyter": {
     "outputs_hidden": false,
     "source_hidden": false
    },
    "nteract": {
     "transient": {
      "deleting": false
     }
    }
   },
   "outputs": [
    {
     "data": {
      "text/plain": [
       "889.875"
      ]
     },
     "execution_count": 4,
     "metadata": {},
     "output_type": "execute_result"
    }
   ],
   "source": [
    "import numpy as np\n",
    "KE1=.5*200**2\n",
    "KE2=.5*195.5**2\n",
    "KE1-KE2"
   ]
  },
  {
   "cell_type": "code",
   "execution_count": 7,
   "metadata": {
    "jupyter": {
     "outputs_hidden": false,
     "source_hidden": false
    },
    "nteract": {
     "transient": {
      "deleting": false
     }
    }
   },
   "outputs": [
    {
     "data": {
      "text/plain": [
       "10.350000000000001"
      ]
     },
     "execution_count": 7,
     "metadata": {},
     "output_type": "execute_result"
    }
   ],
   "source": [
    "d=3.14*2+2.0\n",
    "250*d/200.0"
   ]
  },
  {
   "cell_type": "code",
   "execution_count": null,
   "metadata": {
    "collapsed": true,
    "jupyter": {
     "outputs_hidden": false,
     "source_hidden": false
    },
    "nteract": {
     "transient": {
      "deleting": false
     }
    }
   },
   "outputs": [],
   "source": []
  }
 ],
 "metadata": {
  "kernelspec": {
   "display_name": "Python 3",
   "language": "python",
   "name": "python3"
  },
  "language_info": {
   "codemirror_mode": {
    "name": "ipython",
    "version": 3
   },
   "file_extension": ".py",
   "mimetype": "text/x-python",
   "name": "python",
   "nbconvert_exporter": "python",
   "pygments_lexer": "ipython3",
   "version": "3.8.5"
  },
  "nteract": {
   "version": "0.28.0"
  }
 },
 "nbformat": 4,
 "nbformat_minor": 4
}
