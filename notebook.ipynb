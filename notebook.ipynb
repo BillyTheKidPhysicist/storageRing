{
 "cells": [
  {
   "cell_type": "code",
   "execution_count": null,
   "metadata": {
    "execution": {
     "iopub.execute_input": "2020-08-19T22:50:26.773Z",
     "iopub.status.busy": "2020-08-19T22:50:26.769Z",
     "iopub.status.idle": "2020-08-19T22:53:25.911Z",
     "shell.execute_reply": "2020-08-19T22:53:25.914Z"
    }
   },
   "outputs": [],
   "source": [
    "from periodicLatticeSolver import PeriodicLatticeSolver\n",
    "from minimizer import Minimizer\n",
    "import numpy as np\n",
    "from FloorPlanClass import FloorPlan\n",
    "from plotter import Plotter\n",
    "PLS = PeriodicLatticeSolver(200, .02, axis='both')\n",
    "PLS.add_Injector()\n",
    "\n",
    "L1 = PLS.Variable('L1', varMin=.01, varMax=.5)\n",
    "L2= PLS.Variable('L2', varMin=.01, varMax=.5)\n",
    "L3 =PLS.Variable('L3', varMin=.01, varMax=.5)\n",
    "L4= PLS.Variable('L4', varMin=.01, varMax=.5)\n",
    "\n",
    "Bp1 = PLS.Variable('Bp1', varMin=.1, varMax=.45)\n",
    "Bp2 = PLS.Variable('Bp2', varMin=.1, varMax=.45)\n",
    "Bp3 = PLS.Variable('Bp3', varMin=.1, varMax=.45)\n",
    "Bp4 = PLS.Variable('Bp4', varMin=.1, varMax=.45)\n",
    "\n",
    "rp1 = PLS.Variable('rp1', varMin=.01, varMax=.03)\n",
    "rp2 = PLS.Variable('rp2', varMin=.01, varMax=.03)\n",
    "rp3 = PLS.Variable('rp3', varMin=.01, varMax=.03)\n",
    "rp4 = PLS.Variable('rp4', varMin=.01, varMax=.03)\n",
    "\n",
    "r0=PLS.Variable('r0',varMin=1,varMax=1.3)\n",
    "TL1=PLS.Variable('TL1',varMin=.5,varMax=1.5)\n",
    "TL2=PLS.Variable('TL2',varMin=.5,varMax=1.5)\n",
    "\n",
    "\n",
    "PLS.set_Track_Length(TL1=TL1,TL2=TL2)\n",
    "PLS.begin_Lattice()\n",
    "\n",
    "PLS.add_Bend(np.pi, r0, .45)\n",
    "#PLS.add_Drift(L=.03)\n",
    "PLS.add_Lens(L4, Bp4, rp4)\n",
    "PLS.add_Drift()\n",
    "PLS.add_Combiner()\n",
    "PLS.add_Drift()\n",
    "PLS.add_Lens(L1, Bp1,rp1)\n",
    "#PLS.add_Drift(L=.03)\n",
    "PLS.add_Bend(np.pi, r0, .45)\n",
    "#PLS.add_Drift(L=.03)\n",
    "PLS.add_Lens(L2, Bp2, rp2)\n",
    "PLS.add_Drift()\n",
    "PLS.add_Lens(L3, Bp3, rp3)\n",
    "#PLS.add_Drift(L=.03)\n",
    "PLS.end_Lattice()"
   ]
  },
  {
   "cell_type": "code",
   "execution_count": null,
   "metadata": {
    "execution": {
     "iopub.execute_input": "2020-08-19T23:06:15.807Z",
     "iopub.status.busy": "2020-08-19T23:06:15.803Z",
     "iopub.status.idle": "2020-08-19T23:14:21.783Z",
     "shell.execute_reply": "2020-08-19T23:14:21.787Z"
    },
    "jupyter": {
     "outputs_hidden": false,
     "source_hidden": false
    },
    "nteract": {
     "transient": {
      "deleting": false
     }
    }
   },
   "outputs": [],
   "source": [
    "minimizer1=Minimizer(PLS)\n",
    "minimizer1.find_Global_Min(mut=.75, crossPop=.7, iterations=5000, popPerDim=20,strategy='best/1',herds=1)"
   ]
  },
  {
   "cell_type": "code",
   "execution_count": null,
   "metadata": {},
   "outputs": [],
   "source": [
    "minimizer2=Minimizer(PLS)\n",
    "minimizer2.find_Global_Min(mut=.75, crossPop=.7, iterations=5000, popPerDim=20,strategy='rand/1')"
   ]
  },
  {
   "cell_type": "code",
   "execution_count": null,
   "metadata": {},
   "outputs": [],
   "source": [
    "minimizer3=Minimizer(PLS)\n",
    "minimizer3.find_Global_Min(mut=.75, crossPop=.7, iterations=5000, popPerDim=20,strategy='current-to-best/1')"
   ]
  },
  {
   "cell_type": "code",
   "execution_count": null,
   "metadata": {
    "execution": {
     "iopub.execute_input": "2020-08-19T23:16:36.960Z",
     "iopub.status.busy": "2020-08-19T23:16:36.923Z",
     "iopub.status.idle": "2020-08-19T23:16:37.403Z",
     "shell.execute_reply": "2020-08-19T23:16:37.412Z"
    },
    "jupyter": {
     "outputs_hidden": false,
     "source_hidden": false
    },
    "nteract": {
     "transient": {
      "deleting": false
     }
    }
   },
   "outputs": [],
   "source": [
    "plotter=Plotter(PLS)\n",
    "plotter.plot(sol=minimizer.sol)"
   ]
  },
  {
   "cell_type": "code",
   "execution_count": null,
   "metadata": {
    "execution": {
     "iopub.execute_input": "2020-08-13T22:51:26.832Z",
     "iopub.status.busy": "2020-08-13T22:51:26.829Z",
     "iopub.status.idle": "2020-08-13T22:51:26.967Z",
     "shell.execute_reply": "2020-08-13T22:51:26.973Z"
    },
    "jupyter": {
     "outputs_hidden": false,
     "source_hidden": false
    },
    "nteract": {
     "transient": {
      "deleting": false
     }
    }
   },
   "outputs": [],
   "source": [
    "floorPlan=FloorPlan(PLS)\n",
    "floorPlan.show_Floor_Plan(sol=minimizer.sol)\n",
    "floorPlan.calculate_Cost()"
   ]
  },
  {
   "cell_type": "code",
   "execution_count": null,
   "metadata": {},
   "outputs": [],
   "source": [
    "import numpy as np\n",
    "np.linspace(0,7.5,num=5)"
   ]
  },
  {
   "cell_type": "code",
   "execution_count": null,
   "metadata": {
    "jupyter": {
     "outputs_hidden": false,
     "source_hidden": false
    },
    "nteract": {
     "transient": {
      "deleting": false
     }
    }
   },
   "outputs": [],
   "source": [
    "5*5*10"
   ]
  },
  {
   "cell_type": "code",
   "execution_count": null,
   "metadata": {},
   "outputs": [],
   "source": []
  }
 ],
 "metadata": {
  "kernelspec": {
   "display_name": "Python 3",
   "language": "python",
   "name": "python3"
  },
  "language_info": {
   "codemirror_mode": {
    "name": "ipython",
    "version": 3
   },
   "file_extension": ".py",
   "mimetype": "text/x-python",
   "name": "python",
   "nbconvert_exporter": "python",
   "pygments_lexer": "ipython3",
   "version": "3.8.2"
  },
  "nteract": {
   "version": "0.24.1"
  }
 },
 "nbformat": 4,
 "nbformat_minor": 4
}
