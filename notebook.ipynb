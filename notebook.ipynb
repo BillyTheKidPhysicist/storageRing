{
 "cells": [
  {
   "cell_type": "code",
   "execution_count": 3,
   "metadata": {
    "execution": {
     "iopub.execute_input": "2021-01-22T23:53:30.980Z",
     "iopub.status.busy": "2021-01-22T23:53:30.956Z",
     "iopub.status.idle": "2021-01-22T23:53:34.710Z",
     "shell.execute_reply": "2021-01-22T23:53:34.701Z"
    }
   },
   "outputs": [],
   "source": [
    "import time\n",
    "import numpy as np\n",
    "import matplotlib.pyplot as plt\n",
    "from ParticleTracer import ParticleTracer\n",
    "from particleTracerLattice import ParticleTracerLattice"
   ]
  },
  {
   "cell_type": "code",
   "execution_count": 5,
   "metadata": {
    "execution": {
     "iopub.execute_input": "2020-10-22T01:47:58.584Z",
     "iopub.status.busy": "2020-10-22T01:47:58.580Z",
     "iopub.status.idle": "2020-10-22T01:50:24.748Z",
     "shell.execute_reply": "2020-10-22T01:50:24.753Z"
    },
    "jupyter": {
     "outputs_hidden": false,
     "source_hidden": false
    },
    "nteract": {
     "transient": {
      "deleting": false
     }
    }
   },
   "outputs": [],
   "source": [
    "lattice = ParticleTracerLattice(200.0)\n",
    "fileBend1='benderSeg1.txt'\n",
    "fileBend2 = 'benderSeg2.txt'\n",
    "fileBender1Fringe='benderFringeCap1.txt'\n",
    "fileBenderInternalFringe1='benderFringeInternal1.txt'\n",
    "fileBender2Fringe='benderFringeCap2.txt'\n",
    "fileBenderInternalFringe2='benderFringeInternal2.txt'\n",
    "file2DLens='lens2D.txt'\n",
    "file3DLens='lens3D.txt'\n",
    "fileCombiner='combinerData.txt'\n",
    "yokeWidth=.0254*5/8\n",
    "numMagnets=110\n",
    "extraSpace=1e-3\n",
    "Lm=.0254\n",
    "rp=.0125\n",
    "Llens1=.3\n",
    "rb=1.0\n",
    "\n",
    "lattice.add_Lens_Sim_With_Caps(file2DLens, file3DLens, Llens1)\n",
    "lattice.add_Combiner_Sim(fileCombiner)\n",
    "lattice.add_Lens_Sim_With_Caps(file2DLens, file3DLens, Llens1)\n",
    "lattice.add_Bender_Sim_Segmented_With_End_Cap(fileBend1,fileBender1Fringe,fileBenderInternalFringe1,Lm,None,rb,extraSpace,yokeWidth)\n",
    "lattice.add_Lens_Sim_With_Caps(file2DLens, file3DLens, None)\n",
    "lattice.add_Bender_Sim_Segmented_With_End_Cap(fileBend2,fileBender2Fringe, fileBenderInternalFringe2, Lm, None, rb, extraSpace,yokeWidth)\n",
    "lattice.end_Lattice()\n",
    "particleTracer=ParticleTracer(lattice)\n",
    "#lattice.show_Lattice()"
   ]
  },
  {
   "cell_type": "code",
   "execution_count": null,
   "metadata": {
    "collapsed": true,
    "jupyter": {
     "outputs_hidden": false,
     "source_hidden": false
    },
    "nteract": {
     "transient": {
      "deleting": false
     }
    }
   },
   "outputs": [],
   "source": [
    "lattice.elList[2].forceFact = 0.11379310\n",
    "lattice.elList[4].forceFact = 0.18275862"
   ]
  },
  {
   "cell_type": "code",
   "execution_count": 17,
   "metadata": {
    "jupyter": {
     "outputs_hidden": false,
     "source_hidden": false
    },
    "nteract": {
     "transient": {
      "deleting": false
     }
    }
   },
   "outputs": [
    {
     "data": {
      "text/plain": [
       "(31.82476177406698, True, 1)"
      ]
     },
     "execution_count": 17,
     "metadata": {},
     "output_type": "execute_result"
    }
   ],
   "source": [
    "vi=np.asarray([-200.0,0,0])\n",
    "qi=np.asarray([-1e-10,0,0])\n",
    "particleTracer.trace(qi,vi,1e-5,10*lattice.totalLength/200.0,fastMode=True)\n"
   ]
  },
  {
   "cell_type": "code",
   "execution_count": null,
   "metadata": {
    "collapsed": true,
    "jupyter": {
     "outputs_hidden": false,
     "source_hidden": false
    },
    "nteract": {
     "transient": {
      "deleting": false
     }
    }
   },
   "outputs": [],
   "source": []
  }
 ],
 "metadata": {
  "kernelspec": {
   "display_name": "Python 3",
   "language": "python",
   "name": "python3"
  },
  "language_info": {
   "codemirror_mode": {
    "name": "ipython",
    "version": 3
   },
   "file_extension": ".py",
   "mimetype": "text/x-python",
   "name": "python",
   "nbconvert_exporter": "python",
   "pygments_lexer": "ipython3",
   "version": "3.7.0"
  },
  "nteract": {
   "version": "0.27.0"
  }
 },
 "nbformat": 4,
 "nbformat_minor": 4
}
