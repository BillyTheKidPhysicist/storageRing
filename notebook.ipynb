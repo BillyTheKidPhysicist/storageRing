{
  "cells": [
    {
      "cell_type": "code",
      "source": [
        "from periodicLatticeSolver import PeriodicLatticeSolver\n",
        "from minimizer import Minimizer\n",
        "import numpy as np\n",
        "from FloorPlanClass import FloorPlan\n",
        "from plotter import Plotter\n",
        "PLS = PeriodicLatticeSolver(200, .02)\n",
        "PLS.add_Injector()\n",
        "\n",
        "L1 = PLS.Variable('L1', varMin=.01, varMax=.5)\n",
        "L2= PLS.Variable('L2', varMin=.01, varMax=.5)\n",
        "L3 =PLS.Variable('L3', varMin=.01, varMax=.5)\n",
        "L4= PLS.Variable('L4', varMin=.01, varMax=.5)\n",
        "\n",
        "Bp1 = PLS.Variable('Bp1', varMin=.1, varMax=.45)\n",
        "Bp2 = PLS.Variable('Bp2', varMin=.1, varMax=.45)\n",
        "Bp3 = PLS.Variable('Bp3', varMin=.1, varMax=.45)\n",
        "Bp4 = PLS.Variable('Bp4', varMin=.1, varMax=.45)\n",
        "\n",
        "rp1 =.03# PLS.Variable('rp1', varMin=.005, varMax=.03)\n",
        "rp2 =.03# PLS.Variable('rp2', varMin=.005, varMax=.03)\n",
        "rp3 =.03# PLS.Variable('rp3', varMin=.005, varMax=.03)\n",
        "rp4 =.03# PLS.Variable('rp4', varMin=.005, varMax=.03)\n",
        "\n",
        "#s = PLS.Variable('s', varMin=.005, varMax=.03)\n",
        "\n",
        "r0=1\n",
        "TL1=PLS.Variable('TL1',varMin=.5,varMax=1.5)\n",
        "TL2=PLS.Variable('TL2',varMin=.5,varMax=1.5)\n",
        "\n",
        "\n",
        "PLS.set_Track_Length(TL1=TL1,TL2=TL2)\n",
        "PLS.begin_Lattice()\n",
        "\n",
        "PLS.add_Bend(np.pi, r0, .45)\n",
        "#PLS.add_Drift(L=test)\n",
        "PLS.add_Lens(L4, Bp4, rp4)\n",
        "PLS.add_Drift()\n",
        "PLS.add_Combiner()\n",
        "PLS.add_Drift()\n",
        "PLS.add_Lens(L1, Bp1,rp1)\n",
        "#PLS.add_Drift(L=.05)\n",
        "PLS.add_Bend(np.pi, r0, .45)\n",
        "#PLS.add_Drift(L=.05)\n",
        "PLS.add_Lens(L2, Bp2, rp2)\n",
        "PLS.add_Drift()\n",
        "PLS.add_Lens(L3, Bp3, rp3)\n",
        "#PLS.add_Drift(L=.05)\n",
        "PLS.end_Lattice()"
      ],
      "outputs": [
        {
          "output_type": "stream",
          "name": "stdout",
          "text": [
            "Lattice model completed\n"
          ]
        }
      ],
      "execution_count": 2,
      "metadata": {
        "execution": {
          "iopub.execute_input": "2020-10-12T20:53:57.998Z",
          "iopub.status.busy": "2020-10-12T20:53:57.958Z",
          "iopub.status.idle": "2020-10-12T20:55:00.236Z",
          "shell.execute_reply": "2020-10-12T20:55:00.245Z"
        }
      }
    },
    {
      "cell_type": "code",
      "source": [
        "minimizer=Minimizer(PLS)\n",
        "minimizer.find_Global_Min(mut=.75, crossPop=.7, iterations=100, popPerDim=20,strategy='best/1')"
      ],
      "outputs": [
        {
          "output_type": "stream",
          "name": "stderr",
          "text": [
            "100%|██████████| 100/100 [00:13<00:00,  7.55it/s]\n",
            "100%|██████████| 100/100 [00:14<00:00,  6.75it/s]\n",
            "100%|██████████| 100/100 [00:17<00:00,  5.81it/s]\n",
            "100%|██████████| 100/100 [00:36<00:00,  2.75it/s]\n",
            "100%|██████████| 100/100 [00:39<00:00,  2.55it/s]\n",
            "100%|██████████| 100/100 [00:54<00:00,  1.83it/s]\n",
            "100%|██████████| 100/100 [00:56<00:00,  1.76it/s]\n",
            "100%|██████████| 100/100 [01:02<00:00,  1.60it/s]\n",
            "100%|██████████| 100/100 [01:05<00:00,  1.52it/s]\n",
            "100%|██████████| 100/100 [01:29<00:00,  1.12it/s]\n",
            "100%|██████████| 100/100 [01:39<00:00,  1.01it/s]\n",
            "100%|██████████| 100/100 [01:46<00:00,  1.07s/it]\n"
          ]
        },
        {
          "output_type": "stream",
          "name": "stdout",
          "text": [
            "minCost for each thread:  [1.85912133 4.00000351 1.84049552 4.00000006 1.59111709 1.55141756\n",
            " 1.77253892 1.72338359 1.58111116 1.81060119 1.52866609 1.51922212]\n"
          ]
        },
        {
          "output_type": "display_data",
          "data": {
            "text/plain": "<Figure size 432x288 with 1 Axes>",
            "image/png": "[encoded data removed]"
          },
          "metadata": {
            "needs_background": "light"
          }
        },
        {
          "output_type": "stream",
          "name": "stdout",
          "text": [
            "[ 0.40740141  0.16808569  0.48178198  0.39439482  0.11876759  0.26954858\n",
            "  0.33292259  0.38731451  0.89987044  1.49411786  0.2         0.12477108\n",
            " -0.00166846] 1.5192221246067052\n",
            "percent particles surviving (x,y): 17.0, 31.1\n",
            "[ 0.40740141  0.16808569  0.48178198  0.39439482  0.11876759  0.26954858\n",
            "  0.33292259  0.38731451  0.89987044  1.49411786  0.2         0.12477108\n",
            " -0.00166846] 1.5192221246067052\n",
            "done\n",
            "Total time 1 minutes and 47 seconds\n"
          ]
        }
      ],
      "execution_count": 3,
      "metadata": {
        "collapsed": true,
        "jupyter": {
          "source_hidden": false,
          "outputs_hidden": false
        },
        "nteract": {
          "transient": {
            "deleting": false
          }
        },
        "execution": {
          "iopub.status.busy": "2020-10-12T20:55:30.428Z",
          "iopub.execute_input": "2020-10-12T20:55:30.434Z",
          "iopub.status.idle": "2020-10-12T20:57:17.919Z",
          "shell.execute_reply": "2020-10-12T20:57:17.922Z"
        }
      }
    },
    {
      "cell_type": "code",
      "source": [],
      "outputs": [
        {
          "output_type": "execute_result",
          "execution_count": 17,
          "data": {
            "text/plain": "[[0.01, 0.5],\n [0.01, 0.5],\n [0.01, 0.5],\n [0.01, 0.5],\n [0.1, 0.45],\n [0.1, 0.45],\n [0.1, 0.45],\n [0.1, 0.45],\n [0.5, 1.5],\n [0.5, 1.5],\n [0.05, 0.2],\n [0.025, 0.5],\n [-0.05, 0.05]]"
          },
          "metadata": {}
        }
      ],
      "execution_count": 17,
      "metadata": {
        "collapsed": true,
        "jupyter": {
          "source_hidden": false,
          "outputs_hidden": false
        },
        "nteract": {
          "transient": {
            "deleting": false
          }
        },
        "execution": {
          "iopub.status.busy": "2020-10-12T21:45:39.324Z",
          "iopub.execute_input": "2020-10-12T21:45:39.327Z",
          "iopub.status.idle": "2020-10-12T21:45:39.335Z",
          "shell.execute_reply": "2020-10-12T21:45:39.343Z"
        }
      }
    },
    {
      "cell_type": "code",
      "source": [
        "q0=minimizer.sol.geneticSolX\n",
        "def probe_Vicinity(q):\n",
        "  limitList=[]\n",
        "  \n",
        "  for i in range(q.shape[0]):\n",
        "    bounds=minimizer.sol.bounds[i]\n",
        "probe_Vicinity(q0)"
      ],
      "outputs": [],
      "execution_count": 20,
      "metadata": {
        "execution": {
          "iopub.status.busy": "2020-10-12T21:46:13.421Z",
          "iopub.execute_input": "2020-10-12T21:46:13.424Z",
          "iopub.status.idle": "2020-10-12T21:46:13.429Z",
          "shell.execute_reply": "2020-10-12T21:46:13.437Z"
        }
      }
    },
    {
      "cell_type": "code",
      "source": [],
      "outputs": [],
      "execution_count": null,
      "metadata": {
        "collapsed": true,
        "jupyter": {
          "source_hidden": false,
          "outputs_hidden": false
        },
        "nteract": {
          "transient": {
            "deleting": false
          }
        }
      }
    },
    {
      "cell_type": "code",
      "source": [],
      "outputs": [],
      "execution_count": null,
      "metadata": {
        "collapsed": true,
        "jupyter": {
          "source_hidden": false,
          "outputs_hidden": false
        },
        "nteract": {
          "transient": {
            "deleting": false
          }
        }
      }
    },
    {
      "cell_type": "code",
      "source": [],
      "outputs": [],
      "execution_count": null,
      "metadata": {
        "collapsed": true,
        "jupyter": {
          "source_hidden": false,
          "outputs_hidden": false
        },
        "nteract": {
          "transient": {
            "deleting": false
          }
        }
      }
    }
  ],
  "metadata": {
    "kernelspec": {
      "display_name": "Python 3",
      "language": "python",
      "name": "python3"
    },
    "language_info": {
      "name": "python",
      "version": "3.7.7",
      "mimetype": "text/x-python",
      "codemirror_mode": {
        "name": "ipython",
        "version": 3
      },
      "pygments_lexer": "ipython3",
      "nbconvert_exporter": "python",
      "file_extension": ".py"
    },
    "nteract": {
      "version": "0.25.1"
    }
  },
  "nbformat": 4,
  "nbformat_minor": 4
}