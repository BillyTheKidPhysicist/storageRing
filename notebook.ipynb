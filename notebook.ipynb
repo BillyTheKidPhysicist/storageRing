{
 "cells": [
  {
   "cell_type": "code",
   "execution_count": 2,
   "metadata": {
    "execution": {
     "iopub.execute_input": "2020-08-20T16:58:18.720Z",
     "iopub.status.busy": "2020-08-20T16:58:18.716Z",
     "iopub.status.idle": "2020-08-20T16:59:27.547Z",
     "shell.execute_reply": "2020-08-20T16:59:27.555Z"
    }
   },
   "outputs": [
    {
     "name": "stdout",
     "output_type": "stream",
     "text": [
      "Lattice model completed\n"
     ]
    }
   ],
   "source": [
    "from periodicLatticeSolver import PeriodicLatticeSolver\n",
    "from minimizer import Minimizer\n",
    "import numpy as np\n",
    "from FloorPlanClass import FloorPlan\n",
    "from plotter import Plotter\n",
    "PLS = PeriodicLatticeSolver(200, .02)\n",
    "PLS.add_Injector()\n",
    "\n",
    "L1 = PLS.Variable('L1', varMin=.01, varMax=.5)\n",
    "L2= PLS.Variable('L2', varMin=.01, varMax=.5)\n",
    "L3 =PLS.Variable('L3', varMin=.01, varMax=.5)\n",
    "L4= PLS.Variable('L4', varMin=.01, varMax=.5)\n",
    "\n",
    "Bp1 = PLS.Variable('Bp1', varMin=1e-2, varMax=.45)\n",
    "Bp2 = PLS.Variable('Bp2', varMin=1e-2, varMax=.45)\n",
    "Bp3 = PLS.Variable('Bp3', varMin=1e-2, varMax=.45)\n",
    "Bp4 = PLS.Variable('Bp4', varMin=1e-2, varMax=.45)\n",
    "\n",
    "rp1 = PLS.Variable('rp1', varMin=.005, varMax=.02)\n",
    "rp2 = PLS.Variable('rp2', varMin=.005, varMax=.02)\n",
    "rp3 = PLS.Variable('rp3', varMin=.005, varMax=.02)\n",
    "rp4 = PLS.Variable('rp4', varMin=.005, varMax=.02)\n",
    "\n",
    "\n",
    "L1Space=PLS.mathVariable(rp1,3)\n",
    "L2Space=PLS.mathVariable(rp2,3)\n",
    "L3Space=PLS.mathVariable(rp3,3)\n",
    "L4Space=PLS.mathVariable(rp4,3)\n",
    "\n",
    "r0=1\n",
    "TL1=PLS.Variable('TL1',varMin=.5,varMax=1.5)\n",
    "TL2=PLS.Variable('TL2',varMin=.5,varMax=1.5)\n",
    "\n",
    "\n",
    "PLS.set_Track_Length(TL1=TL1,TL2=TL2)\n",
    "PLS.begin_Lattice()\n",
    "\n",
    "PLS.add_Bend(np.pi, r0, .45)\n",
    "PLS.add_Drift(L=L4Space)\n",
    "PLS.add_Lens(L4, Bp4, rp4)\n",
    "PLS.add_Drift()\n",
    "PLS.add_Combiner()\n",
    "PLS.add_Drift()\n",
    "PLS.add_Lens(L1, Bp1,rp1)\n",
    "PLS.add_Drift(L=L1Space)\n",
    "PLS.add_Bend(np.pi, r0, .45)\n",
    "PLS.add_Drift(L=L2Space)\n",
    "PLS.add_Lens(L2, Bp2, rp2)\n",
    "PLS.add_Drift()\n",
    "PLS.add_Lens(L3, Bp3, rp3)\n",
    "PLS.add_Drift(L=L3Space)\n",
    "PLS.end_Lattice()"
   ]
  },
  {
   "cell_type": "code",
   "execution_count": 3,
   "metadata": {
    "execution": {
     "iopub.execute_input": "2020-08-20T16:59:45.212Z",
     "iopub.status.busy": "2020-08-20T16:59:45.206Z",
     "iopub.status.idle": "2020-08-20T17:13:58.951Z",
     "shell.execute_reply": "2020-08-20T17:13:58.957Z"
    },
    "jupyter": {
     "outputs_hidden": false,
     "source_hidden": false
    },
    "nteract": {
     "transient": {
      "deleting": false
     }
    }
   },
   "outputs": [
    {
     "name": "stderr",
     "output_type": "stream",
     "text": [
      "100%|██████████| 100/100 [00:21<00:00,  4.60it/s]\n",
      "100%|██████████| 100/100 [00:26<00:00,  3.72it/s]\n",
      "100%|██████████| 100/100 [00:37<00:00,  2.64it/s]\n",
      "100%|██████████| 100/100 [00:51<00:00,  1.94it/s]\n",
      "100%|██████████| 100/100 [01:05<00:00,  1.52it/s]\n",
      "100%|██████████| 100/100 [01:05<00:00,  1.53it/s]\n",
      "100%|██████████| 100/100 [01:14<00:00,  1.33it/s]\n",
      "100%|██████████| 100/100 [01:17<00:00,  1.28it/s]\n",
      "100%|██████████| 100/100 [01:21<00:00,  1.23it/s]\n",
      "100%|██████████| 100/100 [01:21<00:00,  1.22it/s]\n",
      "100%|██████████| 100/100 [01:22<00:00,  1.22it/s]\n",
      "100%|██████████| 100/100 [01:24<00:00,  1.18it/s]\n",
      "100%|██████████| 100/100 [01:23<00:00,  1.20it/s]\n",
      "100%|██████████| 100/100 [01:23<00:00,  1.19it/s]\n",
      "100%|██████████| 100/100 [01:24<00:00,  1.19it/s]\n",
      "100%|██████████| 100/100 [01:26<00:00,  1.15it/s]\n",
      "100%|██████████| 100/100 [01:26<00:00,  1.16it/s]\n",
      "100%|██████████| 100/100 [01:26<00:00,  1.16it/s]\n",
      "100%|██████████| 100/100 [01:29<00:00,  1.12it/s]\n",
      "100%|██████████| 100/100 [01:32<00:00,  1.08it/s]\n",
      "100%|██████████| 100/100 [01:34<00:00,  1.06it/s]\n",
      "100%|██████████| 100/100 [01:34<00:00,  1.05it/s]\n",
      "100%|██████████| 100/100 [01:44<00:00,  1.04s/it]\n",
      "100%|██████████| 100/100 [01:43<00:00,  1.03s/it]\n",
      "100%|██████████| 100/100 [01:44<00:00,  1.04s/it]\n",
      "100%|██████████| 100/100 [01:45<00:00,  1.05s/it]\n",
      "100%|██████████| 100/100 [01:46<00:00,  1.07s/it]\n",
      "100%|██████████| 100/100 [01:49<00:00,  1.10s/it]\n",
      "100%|██████████| 100/100 [01:52<00:00,  1.13s/it]\n",
      "100%|██████████| 100/100 [01:53<00:00,  1.13s/it]\n",
      "100%|██████████| 100/100 [01:53<00:00,  1.14s/it]\n",
      "100%|██████████| 100/100 [01:56<00:00,  1.17s/it]\n"
     ]
    },
    {
     "name": "stdout",
     "output_type": "stream",
     "text": [
      "minCost for each thread:  [1.9        1.85726537 1.85528749 1.78033968 1.7195592  1.66094793\n",
      " 1.80599886 1.67859661 1.82138644 1.72076397 1.687859   1.69115443\n",
      " 1.68541197 1.67825185 1.70247357 1.62570229 1.81979156 1.62511821\n",
      " 1.59580898 1.75254229 1.68165734 1.60554694 1.80162209 1.73237155\n",
      " 1.63577858 1.6815229  1.72041808 1.74199957 1.63942813 1.6148132\n",
      " 1.66240793 1.5464419 ]\n"
     ]
    },
    {
     "data": {
      "image/png": "[encoded data removed]",
      "text/plain": [
       "<Figure size 432x288 with 1 Axes>"
      ]
     },
     "metadata": {
      "needs_background": "light"
     },
     "output_type": "display_data"
    },
    {
     "name": "stdout",
     "output_type": "stream",
     "text": [
      "[ 0.5         0.06564129  0.5         0.22657145  0.1         0.1\n",
      "  0.19778528  0.45        0.03        0.02555802  0.02909624  0.0238668\n",
      "  1.06250664  1.5         0.2         0.12457666 -0.03993373] 1.5464419006134458\n",
      "percent particles surviving (x,y): 20.6, 18.3\n",
      "[ 0.5         0.06564129  0.5         0.22657145  0.1         0.1\n",
      "  0.19778528  0.45        0.03        0.02555802  0.02909624  0.0238668\n",
      "  1.06250664  1.5         0.2         0.12457666 -0.03993373] 1.5464419006134458\n",
      "done\n",
      "Total time 1 minutes and 59 seconds\n"
     ]
    }
   ],
   "source": [
    "minimizer=Minimizer(PLS)\n",
    "minimizer.find_Global_Min(mut=.75, crossPop=.7, iterations=100, popPerDim=20,strategy='best/1')"
   ]
  },
  {
   "cell_type": "code",
   "execution_count": null,
   "metadata": {
    "execution": {
     "iopub.execute_input": "2020-08-20T17:18:42.914Z",
     "iopub.status.busy": "2020-08-20T17:18:42.878Z",
     "iopub.status.idle": "2020-08-20T17:18:43.323Z",
     "shell.execute_reply": "2020-08-20T17:18:43.332Z"
    },
    "jupyter": {
     "outputs_hidden": false,
     "source_hidden": false
    },
    "nteract": {
     "transient": {
      "deleting": false
     }
    }
   },
   "outputs": [],
   "source": [
    "plotter=Plotter(PLS)\n",
    "plotter.plot(sol=minimizer.sol)"
   ]
  },
  {
   "cell_type": "code",
   "execution_count": 4,
   "metadata": {
    "execution": {
     "iopub.execute_input": "2020-08-20T17:18:44.915Z",
     "iopub.status.busy": "2020-08-20T17:18:44.911Z",
     "iopub.status.idle": "2020-08-20T17:18:45.071Z",
     "shell.execute_reply": "2020-08-20T17:18:45.081Z"
    },
    "jupyter": {
     "outputs_hidden": false,
     "source_hidden": false
    },
    "nteract": {
     "transient": {
      "deleting": false
     }
    }
   },
   "outputs": [
    {
     "data": {
      "image/png": "[encoded data removed]",
      "text/plain": [
       "<Figure size 432x288 with 1 Axes>"
      ]
     },
     "metadata": {
      "needs_background": "light"
     },
     "output_type": "display_data"
    },
    {
     "data": {
      "text/plain": [
       "4.0"
      ]
     },
     "execution_count": 4,
     "metadata": {},
     "output_type": "execute_result"
    }
   ],
   "source": [
    "floorPlan=FloorPlan(PLS)\n",
    "floorPlan.show_Floor_Plan(sol=minimizer.sol)\n",
    "floorPlan.calculate_Cost()"
   ]
  },
  {
   "cell_type": "code",
   "execution_count": null,
   "metadata": {},
   "outputs": [],
   "source": [
    "Lo=minimizer.sol.Lo\n",
    "Lm=minimizer.sol.Lm\n",
    "s0=minimizer.sol.sOffset\n",
    "minimizer.PLS.injector.rpFunc(Lo,Lm,0)"
   ]
  },
  {
   "cell_type": "raw",
   "metadata": {
    "jupyter": {
     "outputs_hidden": false,
     "source_hidden": false
    },
    "nteract": {
     "transient": {
      "deleting": false
     }
    }
   },
   "source": []
  },
  {
   "cell_type": "code",
   "execution_count": null,
   "metadata": {},
   "outputs": [],
   "source": []
  }
 ],
 "metadata": {
  "kernelspec": {
   "display_name": "Python 3",
   "language": "python",
   "name": "python3"
  },
  "language_info": {
   "codemirror_mode": {
    "name": "ipython",
    "version": 3
   },
   "file_extension": ".py",
   "mimetype": "text/x-python",
   "name": "python",
   "nbconvert_exporter": "python",
   "pygments_lexer": "ipython3",
   "version": "3.8.2"
  },
  "nteract": {
   "version": "0.25.0"
  }
 },
 "nbformat": 4,
 "nbformat_minor": 4
}
