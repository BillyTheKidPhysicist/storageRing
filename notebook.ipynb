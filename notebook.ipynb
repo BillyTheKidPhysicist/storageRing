{
 "cells": [
  {
   "cell_type": "code",
   "execution_count": 1,
   "metadata": {
    "execution": {
     "iopub.execute_input": "2021-03-09T16:54:49.114Z",
     "iopub.status.busy": "2021-03-09T16:54:49.105Z",
     "iopub.status.idle": "2021-03-09T16:54:52.863Z",
     "shell.execute_reply": "2021-03-09T16:54:52.876Z"
    }
   },
   "outputs": [
    {
     "name": "stdout",
     "output_type": "stream",
     "text": [
      "here\n",
      "SOMETHING DOES NOT MAKE SENSE HERE. This needs to follow the same rules as when in the lattice.\n",
      "SOMETHING DOES NOT MAKE SENSE HERE. This needs to follow the same rules as when in the lattice.\n"
     ]
    },
    {
     "name": "stderr",
     "output_type": "stream",
     "text": [
      "Process ForkPoolWorker-7:\n",
      "Process ForkPoolWorker-15:\n",
      "Process ForkPoolWorker-20:\n",
      "Process ForkPoolWorker-14:\n",
      "Process ForkPoolWorker-25:\n",
      "Process ForkPoolWorker-1:\n",
      "Process ForkPoolWorker-6:\n",
      "Process ForkPoolWorker-8:\n",
      "Process ForkPoolWorker-2:\n",
      "Process ForkPoolWorker-19:\n",
      "Process ForkPoolWorker-23:\n",
      "Process ForkPoolWorker-5:\n",
      "Process ForkPoolWorker-30:\n",
      "Process ForkPoolWorker-3:\n",
      "Process ForkPoolWorker-4:\n",
      "Process ForkPoolWorker-10:\n",
      "Process ForkPoolWorker-31:\n",
      "Process ForkPoolWorker-24:\n",
      "Process ForkPoolWorker-9:\n",
      "Process ForkPoolWorker-22:\n",
      "Process ForkPoolWorker-17:\n",
      "Process ForkPoolWorker-16:\n",
      "Process ForkPoolWorker-12:\n",
      "Process ForkPoolWorker-21:\n",
      "Process ForkPoolWorker-32:\n",
      "Process ForkPoolWorker-18:\n",
      "Process ForkPoolWorker-13:\n",
      "Process ForkPoolWorker-11:\n",
      "Process ForkPoolWorker-26:\n",
      "Traceback (most recent call last):\n",
      "Traceback (most recent call last):\n",
      "Traceback (most recent call last):\n",
      "Traceback (most recent call last):\n",
      "Traceback (most recent call last):\n",
      "Traceback (most recent call last):\n",
      "Traceback (most recent call last):\n",
      "Traceback (most recent call last):\n"
     ]
    }
   ],
   "source": [
    "import skopt\n",
    "from smallCombinerBigMagnets import *\n",
    "import time\n",
    "func,lattice=compute_Sol(1e-5,25,50)"
   ]
  },
  {
   "cell_type": "code",
   "execution_count": 2,
   "metadata": {
    "execution": {
     "iopub.execute_input": "2021-03-09T16:54:54.119Z",
     "iopub.status.busy": "2021-03-09T16:54:54.111Z",
     "iopub.status.idle": "2021-02-01T16:50:48.778Z",
     "shell.execute_reply": "2021-02-01T16:50:48.786Z"
    },
    "jupyter": {
     "outputs_hidden": false,
     "source_hidden": false
    },
    "nteract": {
     "transient": {
      "deleting": false
     }
    }
   },
   "outputs": [
    {
     "name": "stdout",
     "output_type": "stream",
     "text": [
      "<OptimizerClass.PhaseSpaceInterpolater object at 0x7fac910c9880>\n"
     ]
    }
   ],
   "source": []
  },
  {
   "cell_type": "code",
   "execution_count": 2,
   "metadata": {
    "jupyter": {
     "outputs_hidden": false,
     "source_hidden": false
    },
    "nteract": {
     "transient": {
      "deleting": false
     }
    }
   },
   "outputs": [
    {
     "data": {
      "text/plain": [
       "array(nan)"
      ]
     },
     "execution_count": 2,
     "metadata": {},
     "output_type": "execute_result"
    }
   ],
   "source": [
    "Lo=.2\n",
    "Li=1.0\n",
    "LOffset=5.0\n",
    "swarmNew = swarmTracer.initialize_Swarm_At_Combiner_Output(Lo, Li, LOffset, labFrame=False,numParticles=1000)"
   ]
  },
  {
   "cell_type": "code",
   "execution_count": 6,
   "metadata": {},
   "outputs": [],
   "source": [
    "import skopt\n",
    "from SwarmTracer import SwarmTracer\n",
    "from ParaWell import ParaWell\n",
    "from SwarmTracer import SwarmTracer\n",
    "swarmTracer=SwarmTracer(lattice)\n",
    "swarmInitial=swarmTracer.initalize_Random_Swarm_In_Phase_Space(3e-3,3e-3,1.0,5.0,5.0,100)\n",
    "funcList=[]\n",
    "\n",
    "np.random.seed(42)\n",
    "sampler=skopt.sampler.Sobol()\n",
    "argsBounds=[(.15,.25),(.5,1.5),(-.1,.1)]\n",
    "num=50\n",
    "samplesArr=np.asarray(sampler.generate(argsBounds,num))\n",
    "\n",
    "swarmTracer.inject_Swarm()\n",
    "\n"
   ]
  },
  {
   "cell_type": "code",
   "execution_count": 24,
   "metadata": {},
   "outputs": [
    {
     "data": {
      "text/latex": [
       "$\\displaystyle \\left[\\begin{matrix}f_{00} & f_{01} & 0\\\\f_{10} & f_{11} & 0\\\\0 & f_{21} & f_{22}\\end{matrix}\\right]$"
      ],
      "text/plain": [
       "⎡f₀₀  f₀₁   0 ⎤\n",
       "⎢             ⎥\n",
       "⎢f₁₀  f₁₁   0 ⎥\n",
       "⎢             ⎥\n",
       "⎣ 0   f₂₁  f₂₂⎦"
      ]
     },
     "metadata": {},
     "output_type": "display_data"
    },
    {
     "data": {
      "text/latex": [
       "$\\displaystyle \\left[ \\left( f_{22}, \\  1, \\  \\left[ \\left[\\begin{matrix}0\\\\0\\\\1\\end{matrix}\\right]\\right]\\right), \\  \\left( \\frac{f_{00}}{2} + \\frac{f_{11}}{2} - \\frac{\\sqrt{f_{00}^{2} - 2 f_{00} f_{11} + 4 f_{01} f_{10} + f_{11}^{2}}}{2}, \\  1, \\  \\left[ \\left[\\begin{matrix}\\frac{f_{00}^{2} - f_{00} f_{11} - f_{00} f_{22} - f_{00} \\sqrt{f_{00}^{2} - 2 f_{00} f_{11} + 4 f_{01} f_{10} + f_{11}^{2}} + 2 f_{01} f_{10} + f_{11} f_{22} + f_{22} \\sqrt{f_{00}^{2} - 2 f_{00} f_{11} + 4 f_{01} f_{10} + f_{11}^{2}}}{2 f_{10} f_{21}}\\\\\\frac{f_{00} + f_{11} - 2 f_{22} - \\sqrt{f_{00}^{2} - 2 f_{00} f_{11} + 4 f_{01} f_{10} + f_{11}^{2}}}{2 f_{21}}\\\\1\\end{matrix}\\right]\\right]\\right), \\  \\left( \\frac{f_{00}}{2} + \\frac{f_{11}}{2} + \\frac{\\sqrt{f_{00}^{2} - 2 f_{00} f_{11} + 4 f_{01} f_{10} + f_{11}^{2}}}{2}, \\  1, \\  \\left[ \\left[\\begin{matrix}\\frac{f_{00}^{2} - f_{00} f_{11} - f_{00} f_{22} + f_{00} \\sqrt{f_{00}^{2} - 2 f_{00} f_{11} + 4 f_{01} f_{10} + f_{11}^{2}} + 2 f_{01} f_{10} + f_{11} f_{22} - f_{22} \\sqrt{f_{00}^{2} - 2 f_{00} f_{11} + 4 f_{01} f_{10} + f_{11}^{2}}}{2 f_{10} f_{21}}\\\\\\frac{f_{00} + f_{11} - 2 f_{22} + \\sqrt{f_{00}^{2} - 2 f_{00} f_{11} + 4 f_{01} f_{10} + f_{11}^{2}}}{2 f_{21}}\\\\1\\end{matrix}\\right]\\right]\\right)\\right]$"
      ],
      "text/plain": [
       "⎡                 ⎛                                                         ⎡⎡\n",
       "⎢                 ⎜                                                         ⎢⎢\n",
       "⎢                 ⎜                                                         ⎢⎢\n",
       "⎢                 ⎜               _____________________________________     ⎢⎢\n",
       "⎢⎛        ⎡⎡0⎤⎤⎞  ⎜              ╱    2                              2      ⎢⎢\n",
       "⎢⎜        ⎢⎢ ⎥⎥⎟  ⎜f₀₀   f₁₁   ╲╱  f₀₀  - 2⋅f₀₀⋅f₁₁ + 4⋅f₀₁⋅f₁₀ + f₁₁       ⎢⎢\n",
       "⎢⎜f₂₂, 1, ⎢⎢0⎥⎥⎟, ⎜─── + ─── - ────────────────────────────────────────, 1, ⎢⎢\n",
       "⎢⎜        ⎢⎢ ⎥⎥⎟  ⎜ 2     2                       2                         ⎢⎢\n",
       "⎢⎝        ⎣⎣1⎦⎦⎠  ⎜                                                         ⎢⎢\n",
       "⎢                 ⎜                                                         ⎢⎢\n",
       "⎢                 ⎜                                                         ⎢⎢\n",
       "⎢                 ⎜                                                         ⎢⎢\n",
       "⎣                 ⎝                                                         ⎣⎣\n",
       "\n",
       "                                  _____________________________________       \n",
       "   2                             ╱    2                              2        \n",
       "f₀₀  - f₀₀⋅f₁₁ - f₀₀⋅f₂₂ - f₀₀⋅╲╱  f₀₀  - 2⋅f₀₀⋅f₁₁ + 4⋅f₀₁⋅f₁₀ + f₁₁   + 2⋅f₀\n",
       "──────────────────────────────────────────────────────────────────────────────\n",
       "                                                                 2⋅f₁₀⋅f₂₁    \n",
       "                                                                              \n",
       "                                                               _______________\n",
       "                                                              ╱    2          \n",
       "                                        f₀₀ + f₁₁ - 2⋅f₂₂ - ╲╱  f₀₀  - 2⋅f₀₀⋅f\n",
       "                                        ──────────────────────────────────────\n",
       "                                                                   2⋅f₂₁      \n",
       "                                                                              \n",
       "                                                                     1        \n",
       "\n",
       "                         _____________________________________⎤⎤⎞  ⎛          \n",
       "                        ╱    2                              2 ⎥⎥⎟  ⎜          \n",
       "₁⋅f₁₀ + f₁₁⋅f₂₂ + f₂₂⋅╲╱  f₀₀  - 2⋅f₀₀⋅f₁₁ + 4⋅f₀₁⋅f₁₀ + f₁₁  ⎥⎥⎟  ⎜          \n",
       "──────────────────────────────────────────────────────────────⎥⎥⎟  ⎜          \n",
       "                                                              ⎥⎥⎟  ⎜          \n",
       "                                                              ⎥⎥⎟  ⎜f₀₀   f₁₁ \n",
       "______________________                                        ⎥⎥⎟, ⎜─── + ─── \n",
       "                    2                                         ⎥⎥⎟  ⎜ 2     2  \n",
       "₁₁ + 4⋅f₀₁⋅f₁₀ + f₁₁                                          ⎥⎥⎟  ⎜          \n",
       "──────────────────────                                        ⎥⎥⎟  ⎜          \n",
       "                                                              ⎥⎥⎟  ⎜          \n",
       "                                                              ⎥⎥⎟  ⎜          \n",
       "                                                              ⎦⎦⎠  ⎝          \n",
       "\n",
       "                                               ⎡⎡                             \n",
       "                                               ⎢⎢   2                         \n",
       "                                               ⎢⎢f₀₀  - f₀₀⋅f₁₁ - f₀₀⋅f₂₂ + f₀\n",
       "     _____________________________________     ⎢⎢─────────────────────────────\n",
       "    ╱    2                              2      ⎢⎢                             \n",
       "  ╲╱  f₀₀  - 2⋅f₀₀⋅f₁₁ + 4⋅f₀₁⋅f₁₀ + f₁₁       ⎢⎢                             \n",
       "+ ────────────────────────────────────────, 1, ⎢⎢                             \n",
       "                     2                         ⎢⎢                             \n",
       "                                               ⎢⎢                             \n",
       "                                               ⎢⎢                             \n",
       "                                               ⎢⎢                             \n",
       "                                               ⎢⎢                             \n",
       "                                               ⎣⎣                             \n",
       "\n",
       "     _____________________________________                                ____\n",
       "    ╱    2                              2                                ╱    \n",
       "₀⋅╲╱  f₀₀  - 2⋅f₀₀⋅f₁₁ + 4⋅f₀₁⋅f₁₀ + f₁₁   + 2⋅f₀₁⋅f₁₀ + f₁₁⋅f₂₂ - f₂₂⋅╲╱  f₀₀\n",
       "──────────────────────────────────────────────────────────────────────────────\n",
       "                                    2⋅f₁₀⋅f₂₁                                 \n",
       "                                                                              \n",
       "                                  _____________________________________       \n",
       "                                 ╱    2                              2        \n",
       "           f₀₀ + f₁₁ - 2⋅f₂₂ + ╲╱  f₀₀  - 2⋅f₀₀⋅f₁₁ + 4⋅f₀₁⋅f₁₀ + f₁₁         \n",
       "           ────────────────────────────────────────────────────────────       \n",
       "                                      2⋅f₂₁                                   \n",
       "                                                                              \n",
       "                                        1                                     \n",
       "\n",
       "_________________________________⎤⎤⎞⎤\n",
       "2                              2 ⎥⎥⎟⎥\n",
       "  - 2⋅f₀₀⋅f₁₁ + 4⋅f₀₁⋅f₁₀ + f₁₁  ⎥⎥⎟⎥\n",
       "─────────────────────────────────⎥⎥⎟⎥\n",
       "                                 ⎥⎥⎟⎥\n",
       "                                 ⎥⎥⎟⎥\n",
       "                                 ⎥⎥⎟⎥\n",
       "                                 ⎥⎥⎟⎥\n",
       "                                 ⎥⎥⎟⎥\n",
       "                                 ⎥⎥⎟⎥\n",
       "                                 ⎥⎥⎟⎥\n",
       "                                 ⎥⎥⎟⎥\n",
       "                                 ⎦⎦⎠⎦"
      ]
     },
     "execution_count": 24,
     "metadata": {},
     "output_type": "execute_result"
    }
   ],
   "source": [
    "import sympy as sym\n",
    "sym.init_printing()\n",
    "f00,f01,f02,f10,f12,f21,f22,f11=sym.symbols('f_00 f_01 f_02 f_10 f_12 f_21 f_22 f_11',real=True,nonzero=True)\n",
    "M=sym.Matrix([[f00,f01,0],[f10,f11,0],[0,f21,f22]])\n",
    "display(M)\n",
    "M.eigenvects()"
   ]
  },
  {
   "cell_type": "code",
   "execution_count": null,
   "metadata": {},
   "outputs": [],
   "source": []
  },
  {
   "cell_type": "code",
   "execution_count": null,
   "metadata": {},
   "outputs": [],
   "source": []
  },
  {
   "cell_type": "code",
   "execution_count": null,
   "metadata": {},
   "outputs": [],
   "source": []
  },
  {
   "cell_type": "code",
   "execution_count": null,
   "metadata": {},
   "outputs": [],
   "source": []
  },
  {
   "cell_type": "code",
   "execution_count": 5,
   "metadata": {},
   "outputs": [
    {
     "name": "stdout",
     "output_type": "stream",
     "text": [
      "0.8941187161227978\n",
      "0.23909616470336914\n"
     ]
    }
   ],
   "source": [
    "# from SwarmTracer import SwarmTracer\n",
    "# swarmTracer=SwarmTracer(lattice)\n",
    "# swarmNew=swarmTracer.initialize_Swarm_At_Combiner_Output(.15,1.0,0.0,labFrame=False,numPhaseSpace=10000)\n",
    "# t=time.time()\n",
    "# test=[]\n",
    "# for particle in swarmNew:\n",
    "#     if particle.clipped==False:\n",
    "#         q=particle.q[1:]\n",
    "#         p=particle.p\n",
    "#         Xi=np.append(q,p)\n",
    "#         test.append(func(*Xi))\n",
    "# print(np.nanmean(np.asarray(test)))\n",
    "# print(time.time()-t)"
   ]
  },
  {
   "cell_type": "code",
   "execution_count": 2,
   "metadata": {},
   "outputs": [
    {
     "name": "stderr",
     "output_type": "stream",
     "text": [
      "/home/billy/.local/lib/python3.8/site-packages/scipy/optimize/_differentialevolution.py:495: UserWarning: differential_evolution: the 'workers' keyword has overridden updating='immediate' to updating='deferred'\n",
      "  warnings.warn(\"differential_evolution: the 'workers' keyword has\"\n"
     ]
    },
    {
     "name": "stdout",
     "output_type": "stream",
     "text": [
      "[ 0.16168152  1.22650737 -0.0614063 ][0.16977219 1.32351073 0.02072942][0.20098563 0.72921738 0.04655581]\n",
      "\n",
      "[ 0.1848799   1.36658219 -0.03782864]\n",
      "[ 0.19651048  1.31924285 -0.00964644]\n",
      "\n",
      "[ 0.2352836   1.23699516 -0.06487952][0.21309478 1.18194707 0.0062793 ][0.22443847 1.21801796 0.02900545][ 0.20402011  1.3817397  -0.00471599]\n",
      "[ 0.15197177  1.43621297 -0.02846313]\n",
      "\n"
     ]
    }
   ],
   "source": [
    "from SwarmTracer import SwarmTracer\n",
    "import scipy.optimize as spo\n",
    "swarmTracer=SwarmTracer(lattice)\n",
    "def mode_Match(swarm,mode_Func):\n",
    "    temp=[]\n",
    "    for particle in swarm:\n",
    "        if particle.clipped==False:\n",
    "            q=particle.q[1:]\n",
    "            p=particle.p\n",
    "            Xi=np.append(q,p)\n",
    "            temp.append(mode_Func(*Xi))\n",
    "    temp=np.asarray(temp)\n",
    "    return np.nansum(temp),np.nanmax(temp),np.nanmean(temp),np.sum(~np.isnan(temp))\n",
    "def inject(args):\n",
    "    Lo,Li,LOffset=args\n",
    "    swarmNew=swarmTracer.initialize_Swarm_At_Combiner_Output(Lo,Li,LOffset,labFrame=False,numParticles=1000)\n",
    "    meanRevs=mode_Match(swarmNew,func)\n",
    "    return meanRevs\n",
    "temp=[]\n",
    "def minimize(args):\n",
    "    temp.append(0)\n",
    "    print(args)\n",
    "    val=inject(args)[0]\n",
    "    return -val\n",
    "#t=time.time()\n",
    "\n",
    "#inject(.15,1.0,0.0) #0.8941187161227978\n",
    "bounds=[(.15,.25),(.5,1.5),(-.1,.1)]\n",
    "sol=spo.differential_evolution(minimize,bounds,maxiter=50,workers=-1,polish=False,disp=True,popsize=32)\n",
    "#sol"
   ]
  },
  {
   "cell_type": "code",
   "execution_count": 13,
   "metadata": {},
   "outputs": [],
   "source": [
    "#x: array([ 0.2495042 ,  0.75080664, -0.07861526])"
   ]
  },
  {
   "cell_type": "code",
   "execution_count": null,
   "metadata": {},
   "outputs": [],
   "source": []
  },
  {
   "cell_type": "code",
   "execution_count": 40,
   "metadata": {},
   "outputs": [
    {
     "data": {
      "text/plain": [
       "(519.4766784525032, 10.56630982271778, 0.887994322141031, 585)"
      ]
     },
     "execution_count": 40,
     "metadata": {},
     "output_type": "execute_result"
    }
   ],
   "source": [
    "inject(sol.x-1e-3)"
   ]
  },
  {
   "cell_type": "code",
   "execution_count": 30,
   "metadata": {},
   "outputs": [
    {
     "data": {
      "text/plain": [
       "array([ 0.24976686,  0.75018873, -0.07805439])"
      ]
     },
     "execution_count": 30,
     "metadata": {},
     "output_type": "execute_result"
    }
   ],
   "source": []
  },
  {
   "cell_type": "code",
   "execution_count": 5,
   "metadata": {
    "jupyter": {
     "outputs_hidden": false,
     "source_hidden": false
    },
    "nteract": {
     "transient": {
      "deleting": false
     }
    }
   },
   "outputs": [
    {
     "name": "stdout",
     "output_type": "stream",
     "text": [
      "-200 0.3627222354089729 1.9997876459591704 0.0\n"
     ]
    },
    {
     "data": {
      "image/png": "[encoded data removed]",
      "text/plain": [
       "<Figure size 432x288 with 1 Axes>"
      ]
     },
     "metadata": {
      "needs_background": "light"
     },
     "output_type": "display_data"
    }
   ],
   "source": [
    "v0Arr=np.linspace(-199.1,-200.9,num=50)\n",
    "v0Arr=[-200]\n",
    "meanList=[]\n",
    "for v0 in v0Arr:\n",
    "    def wrap(y,z):\n",
    "        val=[]\n",
    "        #pArr=np.linspace(-3.0,3.0,num=10)\n",
    "        #for py in pArr:\n",
    "        #    for pz in pArr:\n",
    "        #        val.append(func(y,z,v0,py,pz))\n",
    "        return func(y,z,v0,0.0,0.0)#np.nanmean(np.asarray(val))\n",
    "\n",
    "    bounds=np.asarray([(-1.0,1.0),(-1.0,1.0)])*15e-3\n",
    "    plotxArr=np.linspace(bounds[0][0],bounds[0][1],num=50)\n",
    "    plotyArr = np.linspace(bounds[1][0], bounds[1][1], num=50)\n",
    "    image=np.empty((plotxArr.shape[0],plotyArr.shape[0]))\n",
    "    for i in range(plotxArr.shape[0]):\n",
    "        for j in range(plotyArr.shape[0]):\n",
    "            image[j,i]=wrap(plotxArr[i],plotyArr[j])\n",
    "\n",
    "    image=np.flip(image,axis=0)\n",
    "    extent=[bounds[0][0],bounds[0][1],bounds[1][0],bounds[1][1]]\n",
    "    meanList.append(np.nanmean(image))\n",
    "    print(v0,np.nanmean(image),np.nanmax(image),np.nanmin(image))\n",
    "    plt.imshow(image,extent=extent)\n",
    "    plt.show()"
   ]
  },
  {
   "cell_type": "code",
   "execution_count": 5,
   "metadata": {
    "jupyter": {
     "outputs_hidden": false,
     "source_hidden": false
    },
    "nteract": {
     "transient": {
      "deleting": false
     }
    }
   },
   "outputs": [
    {
     "data": {
      "text/plain": [
       "array([[nan, nan, nan, ..., nan, nan, nan],\n",
       "       [nan, nan, nan, ..., nan, nan, nan],\n",
       "       [nan, nan, nan, ..., nan, nan, nan],\n",
       "       ...,\n",
       "       [nan, nan, nan, ..., nan, nan, nan],\n",
       "       [nan, nan, nan, ..., nan, nan, nan],\n",
       "       [nan, nan, nan, ..., nan, nan, nan]])"
      ]
     },
     "execution_count": 5,
     "metadata": {},
     "output_type": "execute_result"
    }
   ],
   "source": [
    "image"
   ]
  },
  {
   "cell_type": "code",
   "execution_count": null,
   "metadata": {},
   "outputs": [],
   "source": []
  },
  {
   "cell_type": "code",
   "execution_count": null,
   "metadata": {},
   "outputs": [],
   "source": []
  },
  {
   "cell_type": "code",
   "execution_count": 6,
   "metadata": {},
   "outputs": [
    {
     "data": {
      "text/plain": [
       "0.6344227580643385"
      ]
     },
     "execution_count": 6,
     "metadata": {},
     "output_type": "execute_result"
    }
   ],
   "source": [
    "(3**4/500)**.25"
   ]
  }
 ],
 "metadata": {
  "kernelspec": {
   "display_name": "Python 3",
   "language": "python",
   "name": "python3"
  },
  "language_info": {
   "codemirror_mode": {
    "name": "ipython",
    "version": 3
   },
   "file_extension": ".py",
   "mimetype": "text/x-python",
   "name": "python",
   "nbconvert_exporter": "python",
   "pygments_lexer": "ipython3",
   "version": "3.8.5"
  },
  "nteract": {
   "version": "0.28.0"
  }
 },
 "nbformat": 4,
 "nbformat_minor": 4
}
